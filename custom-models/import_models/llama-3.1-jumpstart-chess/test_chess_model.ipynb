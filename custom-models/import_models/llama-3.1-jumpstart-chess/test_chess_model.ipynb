{
 "cells": [
  {
   "cell_type": "markdown",
   "id": "152c3f69-ca18-4dc6-ad68-03c4e9dbb56a",
   "metadata": {},
   "source": [
    "# Overview\n",
    "\n",
    "This notebook is used to test the imported model fine-tuned to play chess in the \"llama-3.1-8b-jumpstart-chess-finetuning\". Stockfish will be used to validate moves & keep track of the board. Stockfish will also be the opponent that the LLM will play against. Learn more about Stockfish [here](https://stockfishchess.org/)    "
   ]
  },
  {
   "cell_type": "markdown",
   "id": "9a8cce59-c8c0-45c7-b9f3-dc1242e01005",
   "metadata": {},
   "source": [
    "Install dependencies "
   ]
  },
  {
   "cell_type": "code",
   "execution_count": null,
   "id": "b9d9bf79-31cd-4715-ada3-e154b1e89697",
   "metadata": {},
   "outputs": [],
   "source": [
    "!pip install chess stockfish --upgrade --quiet"
   ]
  },
  {
   "cell_type": "markdown",
   "id": "aaf37cd9-334c-45b2-afff-c162aeceb0a9",
   "metadata": {},
   "source": [
    "Set up Bedrock client and set your import model's ARN as the model id"
   ]
  },
  {
   "cell_type": "code",
   "execution_count": null,
   "id": "c981a37f-5af5-4b04-8beb-781f9d7636a3",
   "metadata": {},
   "outputs": [],
   "source": [
    "import boto3\n",
    "import json\n",
    "from botocore.exceptions import ClientError\n",
    "\n",
    "br_run_client = boto3.client(\"bedrock-runtime\", region_name=\"us-east-1\")\n",
    "\n",
    "#ENTER YOUR IMPORTED MODEL ARN HERE\n",
    "#br_model_id = \"YOU-IMPORT-MODEL-ARN\"\n",
    "br_model_id = \"arn:aws:bedrock:us-east-1:874604298668:imported-model/cea6h6w8sakz\""
   ]
  },
  {
   "cell_type": "markdown",
   "id": "cc255e62-ed54-4170-9e93-fe438089b1dd",
   "metadata": {},
   "source": [
    "Initialize prompt template"
   ]
  },
  {
   "cell_type": "code",
   "execution_count": null,
   "id": "f7595639-931f-4960-a00f-67d4e4ffc66e",
   "metadata": {},
   "outputs": [],
   "source": [
    "template = {\n",
    "    \"prompt\": (\n",
    "        \"<s>[INST] You are a chess engine. Given a chess position in FEN notation and the color to move, \"\n",
    "        \"provide the next best valid move in SAN (Standard Algebraic Notation) format to progress towards winning the game of chess. \"\n",
    "        \"Your response must be a single move wrapped in <move></move> tags.\\n\\n\"\n",
    "        \"Chess Position (FEN): {fen}\\n\"\n",
    "        \"Color to Move: {nxt_color} [/INST]\"\n",
    "    ),\n",
    "    \"completion\": \" <move>{move}</move> </s>\"\n",
    "}"
   ]
  },
  {
   "cell_type": "markdown",
   "id": "db483283-ec7d-4a0b-95a2-e4d653195d59",
   "metadata": {},
   "source": [
    "Create function to invoke model and print the result"
   ]
  },
  {
   "cell_type": "code",
   "execution_count": null,
   "id": "7b7c8b2b-a5c9-4457-9671-9b94782d10e5",
   "metadata": {},
   "outputs": [],
   "source": [
    "def call_invoke_model_and_print(native_request):\n",
    "    request = json.dumps(native_request)\n",
    "\n",
    "    try:\n",
    "        # Invoke the model with the request.\n",
    "        response = br_run_client.invoke_model(modelId=br_model_id, body=request)\n",
    "        model_response = json.loads(response[\"body\"].read())\n",
    "        #print(f\"model_response: {model_response}\")\n",
    "        response_text = model_response['generation'].replace(\"\\n\", \"\")\n",
    "        return response_text\n",
    "    except (ClientError, Exception) as e:\n",
    "        print(f\"ERROR: Can't invoke '{br_model_id}'. Reason: {e}\")\n",
    "        exit(1)"
   ]
  },
  {
   "cell_type": "markdown",
   "id": "eaf56f96-ae99-442e-afcc-28910241cb58",
   "metadata": {},
   "source": [
    "The move from the LLM comes in between some XML tags, the function below will let us dynamically pull out just the move in SAN notation."
   ]
  },
  {
   "cell_type": "code",
   "execution_count": null,
   "id": "853f851e-ccfe-4714-8ab1-f1dcad8176ad",
   "metadata": {},
   "outputs": [],
   "source": [
    "from bs4 import BeautifulSoup\n",
    "\n",
    "def extract_by_tag(response: str, tag: str, extract_all=False) -> str | list[str] | None:\n",
    "    soup = BeautifulSoup(response)\n",
    "    results = soup.find_all(tag)\n",
    "    if not results:\n",
    "        return\n",
    "        \n",
    "    texts = [res.get_text() for res in results]\n",
    "    if extract_all:\n",
    "        return texts\n",
    "    return texts[-1]"
   ]
  },
  {
   "cell_type": "markdown",
   "id": "c7894553-e289-4bb1-9477-d683e0ee074b",
   "metadata": {},
   "source": [
    "Encapsulated function to get the next move from the LLM "
   ]
  },
  {
   "cell_type": "code",
   "execution_count": null,
   "id": "152068f4-0696-4bc9-af65-dce212025ee8",
   "metadata": {},
   "outputs": [],
   "source": [
    "def get_llm_next_move(fen_context, next_turn, illegal_move):\n",
    "    \n",
    "    #Loading the prompt format \n",
    "    formatted_prompt = template[\"prompt\"].format(\n",
    "        fen=fen_context,\n",
    "        nxt_color=next_turn\n",
    "    )\n",
    "    #Setting Inference Parameters\n",
    "    native_request = {\n",
    "        \"prompt\": formatted_prompt,\n",
    "        \"max_tokens\": 15,\n",
    "        \"top_p\": 0.9,\n",
    "        \"temperature\": 1.0,\n",
    "        \"top_k\": 50,\n",
    "    }\n",
    "    #Get LLM output\n",
    "    llm_output = call_invoke_model_and_print(native_request) \n",
    "    llm_output = extract_by_tag(llm_output, \"move\")\n",
    "    return llm_output"
   ]
  },
  {
   "cell_type": "markdown",
   "id": "2a6c4f48-ec7e-490b-a822-0f05a9c55a80",
   "metadata": {},
   "source": [
    "Get the next move, by passing in the board state + the player who's turn it is"
   ]
  },
  {
   "cell_type": "code",
   "execution_count": null,
   "id": "d663de02-a094-4857-9de4-c872f914c107",
   "metadata": {},
   "outputs": [],
   "source": [
    "#get_llm_next_move(\"rnbqkbnr/pppppppp/8/8/4P3/8/PPPP1PPP/RNBQKBNR b KQkq - 0 1\", \"WHITE\", None)\n",
    "llm_move = get_llm_next_move(\"6k1/4qpb1/1p2p1p1/p1n4p/P1P2P2/1P3BP1/5BKP/3Q4 w - - 6 44\", \"WHITE\", None)\n",
    "print(llm_move)"
   ]
  },
  {
   "cell_type": "markdown",
   "id": "cd276466-569e-4bf8-bf2f-54cc1e476e8b",
   "metadata": {},
   "source": [
    "Setup Stockfish board"
   ]
  },
  {
   "cell_type": "code",
   "execution_count": null,
   "id": "1e4fa422-d4ec-43f7-bfb8-c58ad018d1e9",
   "metadata": {},
   "outputs": [],
   "source": [
    "#This line makes the stockfish folder location readable\n",
    "!chmod 777 stockfish/stockfish-ubuntu-x86-64-sse41-popcnt"
   ]
  },
  {
   "cell_type": "code",
   "execution_count": null,
   "id": "1a392665-0129-4260-b620-4ebadb9db05b",
   "metadata": {},
   "outputs": [],
   "source": [
    "#Set up Stockfish imports \n",
    "from stockfish import Stockfish\n",
    "import chess\n",
    "import chess.engine\n",
    "#Stockfish path\n",
    "stockfish = Stockfish(path=\"stockfish/stockfish-ubuntu-x86-64-sse41-popcnt\")"
   ]
  },
  {
   "cell_type": "code",
   "execution_count": null,
   "id": "9658e9c2-39b6-47cf-b9e2-df7397701c64",
   "metadata": {},
   "outputs": [],
   "source": [
    "#stockfish.update_engine_parameters({\"Hash\": 2048, \"UCI_Chess960\": \"true\"})\n",
    "stockfish.set_elo_rating(1350)\n",
    "fen_state = stockfish.get_fen_position()\n",
    "\n",
    "board = chess.Board()\n",
    "board.reset_board()\n",
    "board.chess960 = True\n",
    "stockfish.set_fen_position(board.fen())\n",
    "\n",
    "move_count = 0\n",
    "move_list = []\n",
    "s = \",\""
   ]
  },
  {
   "cell_type": "code",
   "execution_count": null,
   "id": "c791b156-ece1-45c7-b57a-8264540f125a",
   "metadata": {},
   "outputs": [],
   "source": [
    "while True:\n",
    "\n",
    "    sfish_move = stockfish.get_best_move()\n",
    "    try:\n",
    "        move_color = 'WHITE' if board.turn else 'BLACK'\n",
    "        uci_move = board.push_san(sfish_move).uci()\n",
    "        stockfish.set_fen_position(board.fen())\n",
    "        move_count += 1\n",
    "        move_list.append(f\"{sfish_move}\")\n",
    "        print(f'SF Move  - {sfish_move} | {move_color} | Is Move Legal: {stockfish.is_fen_valid(board.fen())} | FEN: {board.fen()} | Move Count: {move_count}')\n",
    "    except (chess.InvalidMoveError, chess.IllegalMoveError) as e:\n",
    "        print(f\"Stockfish Error for {move_color}: {e}\")\n",
    "        print(f\"### Move Count: {move_count} ###\")\n",
    "        print(f'Moves list - {s.join(move_list)}')\n",
    "        break\n",
    "\n",
    "    if board.is_checkmate():\n",
    "        print(\"Stockfish won!\")\n",
    "        print(f\"### Move Count: {move_count} ###\")\n",
    "        print(f'Moves list - {s.join(move_list)}')\n",
    "        break\n",
    "\n",
    "    if board.is_stalemate():\n",
    "        print(\"Draw!\")\n",
    "        print(f\"### Move Count: {move_count} ###\")\n",
    "        print(f'Moves list - {s.join(move_list)}')\n",
    "        break\n",
    "\n",
    "    next_turn = 'WHITE' if board.turn else 'BLACK'\n",
    "    llm_next_move = get_llm_next_move(board.fen(), next_turn, None)\n",
    "    if llm_next_move is None:\n",
    "        print(\"Failed to get a move from LLM. Ending the game.\")\n",
    "        break\n",
    "\n",
    "    ill_mov_cnt = 0\n",
    "    while True:\n",
    "        try:\n",
    "            is_llm_move_legal = True\n",
    "            prev_fen = board.fen()\n",
    "            uci_move = board.push_san(llm_next_move).uci()\n",
    "            is_llm_move_legal = stockfish.is_fen_valid(board.fen())\n",
    "            if is_llm_move_legal:\n",
    "                print(f'LLM Move - {llm_next_move} | {next_turn} | Is Move Legal: {stockfish.is_fen_valid(board.fen())} | FEN: {board.fen()} | Move Count: {move_count}')\n",
    "                stockfish.set_fen_position(board.fen())\n",
    "                move_count += 1\n",
    "                move_list.append(f\"{llm_next_move}\")\n",
    "                break\n",
    "            else:\n",
    "                board.pop()\n",
    "                print('Popping board and retrying LLM Next Move!!!')\n",
    "                llm_next_move = get_llm_next_move(board.fen(), next_turn, llm_next_move, s.join(move_list))\n",
    "        except (chess.AmbiguousMoveError, chess.IllegalMoveError, chess.InvalidMoveError) as e:\n",
    "            print(f\"LLM Error #{ill_mov_cnt}: {llm_next_move} for {next_turn} is illegal move!!! for {prev_fen}  | FEN: {board.fen()}\")\n",
    "            if ill_mov_cnt == 5:\n",
    "                print(f\"{ill_mov_cnt} illegal moves so far, exiting....\")\n",
    "                break\n",
    "            ill_mov_cnt += 1\n",
    "            llm_next_move = get_llm_next_move(board.fen(), next_turn, llm_next_move)\n",
    "\n",
    "        if board.is_checkmate():\n",
    "            print(\"LLM won!\")\n",
    "            print(f\"### Move Count: {move_count} ###\")\n",
    "            print(f'Moves list - {s.join(move_list)}')\n",
    "            break\n",
    "\n",
    "        if board.is_stalemate():\n",
    "            print(\"Draw!\")\n",
    "            print(f\"### Move Count: {move_count} ###\")\n",
    "            print(f'Moves list - {s.join(move_list)}')\n",
    "            break\n",
    "    if move_count == 50:\n",
    "        print(\"Played 50 moves hence quitting!!!!\")\n",
    "        break\n",
    "board"
   ]
  },
  {
   "cell_type": "markdown",
   "id": "01912181-03dd-46d8-b983-423e0dc8ab70",
   "metadata": {},
   "source": [
    "Print out the Stockfish board + Update it"
   ]
  },
  {
   "cell_type": "code",
   "execution_count": null,
   "id": "0a672f74-e542-412c-a8b0-acb368cd1e61",
   "metadata": {},
   "outputs": [],
   "source": [
    "print(\"\\033c\" + stockfish.get_board_visual())"
   ]
  },
  {
   "cell_type": "code",
   "execution_count": null,
   "id": "9269f493-f7c8-413e-8219-a04036d53e59",
   "metadata": {},
   "outputs": [],
   "source": [
    "board.reset_board()\n",
    "board.chess960 = True\n",
    "stockfish.set_fen_position(board.fen())"
   ]
  },
  {
   "cell_type": "code",
   "execution_count": null,
   "id": "cd434443-9f2d-450b-b3e4-a453521292f0",
   "metadata": {},
   "outputs": [],
   "source": [
    "board"
   ]
  }
 ],
 "metadata": {
  "kernelspec": {
   "display_name": "Python 3 (ipykernel)",
   "language": "python",
   "name": "python3"
  },
  "language_info": {
   "codemirror_mode": {
    "name": "ipython",
    "version": 3
   },
   "file_extension": ".py",
   "mimetype": "text/x-python",
   "name": "python",
   "nbconvert_exporter": "python",
   "pygments_lexer": "ipython3",
   "version": "3.10.14"
  }
 },
 "nbformat": 4,
 "nbformat_minor": 5
}
