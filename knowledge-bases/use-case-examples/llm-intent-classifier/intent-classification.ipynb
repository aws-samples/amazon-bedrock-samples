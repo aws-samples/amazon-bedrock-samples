{
 "cells": [
  {
   "metadata": {
    "ExecuteTime": {
     "end_time": "2024-09-24T02:55:39.530552Z",
     "start_time": "2024-09-24T02:55:37.627776Z"
    }
   },
   "cell_type": "code",
   "source": "!pip install boto3 pandas scikit-learn",
   "id": "72e70b93705024d4",
   "outputs": [
    {
     "name": "stdout",
     "output_type": "stream",
     "text": [
      "Requirement already satisfied: boto3 in /Users/leetan/.local/share/virtualenvs/gpt-engineer-7XFB_0JR/lib/python3.11/site-packages (1.35.24)\r\n",
      "Requirement already satisfied: pandas in /Users/leetan/.local/share/virtualenvs/gpt-engineer-7XFB_0JR/lib/python3.11/site-packages (2.1.0)\r\n",
      "Requirement already satisfied: scikit-learn in /Users/leetan/.local/share/virtualenvs/gpt-engineer-7XFB_0JR/lib/python3.11/site-packages (1.3.0)\r\n",
      "Requirement already satisfied: botocore<1.36.0,>=1.35.24 in /Users/leetan/.local/share/virtualenvs/gpt-engineer-7XFB_0JR/lib/python3.11/site-packages (from boto3) (1.35.24)\r\n",
      "Requirement already satisfied: jmespath<2.0.0,>=0.7.1 in /Users/leetan/.local/share/virtualenvs/gpt-engineer-7XFB_0JR/lib/python3.11/site-packages (from boto3) (1.0.1)\r\n",
      "Requirement already satisfied: s3transfer<0.11.0,>=0.10.0 in /Users/leetan/.local/share/virtualenvs/gpt-engineer-7XFB_0JR/lib/python3.11/site-packages (from boto3) (0.10.2)\r\n",
      "Requirement already satisfied: numpy>=1.23.2 in /Users/leetan/.local/share/virtualenvs/gpt-engineer-7XFB_0JR/lib/python3.11/site-packages (from pandas) (1.25.2)\r\n",
      "Requirement already satisfied: python-dateutil>=2.8.2 in /Users/leetan/.local/share/virtualenvs/gpt-engineer-7XFB_0JR/lib/python3.11/site-packages (from pandas) (2.8.2)\r\n",
      "Requirement already satisfied: pytz>=2020.1 in /Users/leetan/.local/share/virtualenvs/gpt-engineer-7XFB_0JR/lib/python3.11/site-packages (from pandas) (2023.3)\r\n",
      "Requirement already satisfied: tzdata>=2022.1 in /Users/leetan/.local/share/virtualenvs/gpt-engineer-7XFB_0JR/lib/python3.11/site-packages (from pandas) (2023.3)\r\n",
      "Requirement already satisfied: scipy>=1.5.0 in /Users/leetan/.local/share/virtualenvs/gpt-engineer-7XFB_0JR/lib/python3.11/site-packages (from scikit-learn) (1.11.2)\r\n",
      "Requirement already satisfied: joblib>=1.1.1 in /Users/leetan/.local/share/virtualenvs/gpt-engineer-7XFB_0JR/lib/python3.11/site-packages (from scikit-learn) (1.3.2)\r\n",
      "Requirement already satisfied: threadpoolctl>=2.0.0 in /Users/leetan/.local/share/virtualenvs/gpt-engineer-7XFB_0JR/lib/python3.11/site-packages (from scikit-learn) (3.2.0)\r\n",
      "Requirement already satisfied: urllib3!=2.2.0,<3,>=1.25.4 in /Users/leetan/.local/share/virtualenvs/gpt-engineer-7XFB_0JR/lib/python3.11/site-packages (from botocore<1.36.0,>=1.35.24->boto3) (1.26.16)\r\n",
      "Requirement already satisfied: six>=1.5 in /Users/leetan/.local/share/virtualenvs/gpt-engineer-7XFB_0JR/lib/python3.11/site-packages (from python-dateutil>=2.8.2->pandas) (1.16.0)\r\n",
      "\r\n",
      "\u001B[1m[\u001B[0m\u001B[34;49mnotice\u001B[0m\u001B[1;39;49m]\u001B[0m\u001B[39;49m A new release of pip is available: \u001B[0m\u001B[31;49m23.2.1\u001B[0m\u001B[39;49m -> \u001B[0m\u001B[32;49m24.2\u001B[0m\r\n",
      "\u001B[1m[\u001B[0m\u001B[34;49mnotice\u001B[0m\u001B[1;39;49m]\u001B[0m\u001B[39;49m To update, run: \u001B[0m\u001B[32;49mpip install --upgrade pip\u001B[0m\r\n"
     ]
    }
   ],
   "execution_count": 118
  },
  {
   "metadata": {
    "ExecuteTime": {
     "end_time": "2024-09-24T02:55:50.012989Z",
     "start_time": "2024-09-24T02:55:50.005306Z"
    }
   },
   "cell_type": "code",
   "source": [
    "import boto3\n",
    "import json\n",
    "import pandas as pd\n",
    "from sklearn.metrics import classification_report\n",
    "\n",
    "# Initialize a session using Amazon Bedrock\n",
    "client = boto3.client('bedrock-runtime')"
   ],
   "id": "627a76151481aa24",
   "outputs": [],
   "execution_count": 119
  },
  {
   "metadata": {
    "ExecuteTime": {
     "end_time": "2024-09-24T02:55:59.544851Z",
     "start_time": "2024-09-24T02:55:59.541524Z"
    }
   },
   "cell_type": "code",
   "source": [
    "data = {\n",
    "    'Query': [\n",
    "        'Why is my bill higher this month?',\n",
    "        'How do I reset my password?',\n",
    "        'Can I get a discount on my next purchase?',\n",
    "        'What are your business hours?',\n",
    "        'I need help with my internet connection',\n",
    "        'Do you offer any promotions?',\n",
    "        'When will my order be delivered?',\n",
    "        'How can I update my payment method?',\n",
    "        'Is there a warranty on this product?',\n",
    "        'Can I speak to a human representative?'\n",
    "    ],\n",
    "    'Intent': [\n",
    "        'Billing Inquiry',\n",
    "        'Technical Support',\n",
    "        'Sales Inquiry',\n",
    "        'General Information',\n",
    "        'Technical Support',\n",
    "        'Sales Inquiry',\n",
    "        'Order Status',\n",
    "        'Account Management',\n",
    "        'Product Information',\n",
    "        'Customer Service'\n",
    "    ]\n",
    "}\n",
    "\n",
    "df = pd.DataFrame(data)\n",
    "print(df)"
   ],
   "id": "dce82038c33dcfd7",
   "outputs": [
    {
     "name": "stdout",
     "output_type": "stream",
     "text": [
      "                                       Query               Intent\n",
      "0          Why is my bill higher this month?      Billing Inquiry\n",
      "1                How do I reset my password?    Technical Support\n",
      "2  Can I get a discount on my next purchase?        Sales Inquiry\n",
      "3              What are your business hours?  General Information\n",
      "4    I need help with my internet connection    Technical Support\n",
      "5               Do you offer any promotions?        Sales Inquiry\n",
      "6           When will my order be delivered?         Order Status\n",
      "7        How can I update my payment method?   Account Management\n",
      "8       Is there a warranty on this product?  Product Information\n",
      "9     Can I speak to a human representative?     Customer Service\n"
     ]
    }
   ],
   "execution_count": 120
  },
  {
   "metadata": {
    "ExecuteTime": {
     "end_time": "2024-09-24T02:56:13.027294Z",
     "start_time": "2024-09-24T02:56:13.024263Z"
    }
   },
   "cell_type": "code",
   "source": [
    "def classify_intent(query):\n",
    "    prompt = f\"\"\"\n",
    "    You are an AI assistant trained to classify customer support queries into intent categories.\n",
    "    Given the following query, classify it into one of these intent categories:\n",
    "    - Billing Inquiry\n",
    "    - Technical Support\n",
    "    - Sales Inquiry\n",
    "    - General Information\n",
    "    - Order Status\n",
    "    - Account Management\n",
    "    - Product Information\n",
    "    - Customer Service\n",
    "\n",
    "    Query: {query}\n",
    "\n",
    "    Respond with only the intent category, nothing else.\n",
    "    \"\"\"\n",
    "\n",
    "    payload = {\n",
    "        \"prompt\": f\"\\n\\nHuman: {prompt}\\n\\nAssistant:\",\n",
    "        \"max_tokens_to_sample\": 100,\n",
    "        \"temperature\": 0.1,\n",
    "        \"top_p\": 1\n",
    "    }\n",
    "\n",
    "    response = client.invoke_model(\n",
    "        modelId='anthropic.claude-v2', \n",
    "        contentType='application/json',\n",
    "        accept='application/json',\n",
    "        body=json.dumps(payload)\n",
    "    )\n",
    "\n",
    "    response_body = json.loads(response['body'].read())\n",
    "    return response_body['completion'].strip()"
   ],
   "id": "e93125fa385344e4",
   "outputs": [],
   "execution_count": 121
  },
  {
   "metadata": {
    "ExecuteTime": {
     "end_time": "2024-09-24T02:56:29.656473Z",
     "start_time": "2024-09-24T02:56:25.161396Z"
    }
   },
   "cell_type": "code",
   "source": [
    "y_true = df['Intent'].tolist()\n",
    "y_pred = []\n",
    "\n",
    "for query in df['Query']:\n",
    "    intent = classify_intent(query)\n",
    "    y_pred.append(intent)\n",
    "    print(f\"Query: {query}\")\n",
    "    print(f\"Predicted Intent: {intent}\")\n",
    "    print(\"---\")\n",
    "\n",
    "# Generate classification report\n",
    "report = classification_report(y_true, y_pred)\n",
    "print(\"\\nClassification Report:\")\n",
    "print(report)"
   ],
   "id": "d19e976a45fe0a05",
   "outputs": [
    {
     "name": "stdout",
     "output_type": "stream",
     "text": [
      "Query: Why is my bill higher this month?\n",
      "Predicted Intent: Billing Inquiry\n",
      "---\n",
      "Query: How do I reset my password?\n",
      "Predicted Intent: Technical Support\n",
      "---\n",
      "Query: Can I get a discount on my next purchase?\n",
      "Predicted Intent: Sales Inquiry\n",
      "---\n",
      "Query: What are your business hours?\n",
      "Predicted Intent: General Information\n",
      "---\n",
      "Query: I need help with my internet connection\n",
      "Predicted Intent: Technical Support\n",
      "---\n",
      "Query: Do you offer any promotions?\n",
      "Predicted Intent: Sales Inquiry\n",
      "---\n",
      "Query: When will my order be delivered?\n",
      "Predicted Intent: Order Status\n",
      "---\n",
      "Query: How can I update my payment method?\n",
      "Predicted Intent: Billing Inquiry\n",
      "---\n",
      "Query: Is there a warranty on this product?\n",
      "Predicted Intent: Product Information\n",
      "---\n",
      "Query: Can I speak to a human representative?\n",
      "Predicted Intent: General Information\n",
      "---\n",
      "\n",
      "Classification Report:\n",
      "                     precision    recall  f1-score   support\n",
      "\n",
      " Account Management       0.00      0.00      0.00         1\n",
      "    Billing Inquiry       0.50      1.00      0.67         1\n",
      "   Customer Service       0.00      0.00      0.00         1\n",
      "General Information       0.50      1.00      0.67         1\n",
      "       Order Status       1.00      1.00      1.00         1\n",
      "Product Information       1.00      1.00      1.00         1\n",
      "      Sales Inquiry       1.00      1.00      1.00         2\n",
      "  Technical Support       1.00      1.00      1.00         2\n",
      "\n",
      "           accuracy                           0.80        10\n",
      "          macro avg       0.62      0.75      0.67        10\n",
      "       weighted avg       0.70      0.80      0.73        10\n",
      "\n"
     ]
    },
    {
     "name": "stderr",
     "output_type": "stream",
     "text": [
      "/Users/leetan/.local/share/virtualenvs/gpt-engineer-7XFB_0JR/lib/python3.11/site-packages/sklearn/metrics/_classification.py:1469: UndefinedMetricWarning: Precision and F-score are ill-defined and being set to 0.0 in labels with no predicted samples. Use `zero_division` parameter to control this behavior.\n",
      "  _warn_prf(average, modifier, msg_start, len(result))\n",
      "/Users/leetan/.local/share/virtualenvs/gpt-engineer-7XFB_0JR/lib/python3.11/site-packages/sklearn/metrics/_classification.py:1469: UndefinedMetricWarning: Precision and F-score are ill-defined and being set to 0.0 in labels with no predicted samples. Use `zero_division` parameter to control this behavior.\n",
      "  _warn_prf(average, modifier, msg_start, len(result))\n",
      "/Users/leetan/.local/share/virtualenvs/gpt-engineer-7XFB_0JR/lib/python3.11/site-packages/sklearn/metrics/_classification.py:1469: UndefinedMetricWarning: Precision and F-score are ill-defined and being set to 0.0 in labels with no predicted samples. Use `zero_division` parameter to control this behavior.\n",
      "  _warn_prf(average, modifier, msg_start, len(result))\n"
     ]
    }
   ],
   "execution_count": 122
  },
  {
   "metadata": {},
   "cell_type": "code",
   "outputs": [],
   "execution_count": null,
   "source": "",
   "id": "3bba535a7afeb5cb"
  }
 ],
 "metadata": {
  "kernelspec": {
   "display_name": "Python 3",
   "language": "python",
   "name": "python3"
  },
  "language_info": {
   "codemirror_mode": {
    "name": "ipython",
    "version": 2
   },
   "file_extension": ".py",
   "mimetype": "text/x-python",
   "name": "python",
   "nbconvert_exporter": "python",
   "pygments_lexer": "ipython2",
   "version": "2.7.6"
  }
 },
 "nbformat": 4,
 "nbformat_minor": 5
}
