{
 "cells": [
  {
   "cell_type": "code",
   "id": "initial_id",
   "metadata": {
    "collapsed": true,
    "ExecuteTime": {
     "end_time": "2024-09-23T01:37:43.485434Z",
     "start_time": "2024-09-23T01:37:41.962140Z"
    }
   },
   "source": "pip install boto3 pydantic transformers",
   "outputs": [
    {
     "name": "stdout",
     "output_type": "stream",
     "text": [
      "Requirement already satisfied: boto3 in /Users/leetan/.local/share/virtualenvs/gpt-engineer-7XFB_0JR/lib/python3.11/site-packages (1.28.37)\r\n",
      "Requirement already satisfied: pydantic in /Users/leetan/.local/share/virtualenvs/gpt-engineer-7XFB_0JR/lib/python3.11/site-packages (1.10.12)\r\n",
      "Requirement already satisfied: transformers in /Users/leetan/.local/share/virtualenvs/gpt-engineer-7XFB_0JR/lib/python3.11/site-packages (4.44.2)\r\n",
      "Requirement already satisfied: botocore<1.32.0,>=1.31.37 in /Users/leetan/.local/share/virtualenvs/gpt-engineer-7XFB_0JR/lib/python3.11/site-packages (from boto3) (1.31.37)\r\n",
      "Requirement already satisfied: jmespath<2.0.0,>=0.7.1 in /Users/leetan/.local/share/virtualenvs/gpt-engineer-7XFB_0JR/lib/python3.11/site-packages (from boto3) (1.0.1)\r\n",
      "Requirement already satisfied: s3transfer<0.7.0,>=0.6.0 in /Users/leetan/.local/share/virtualenvs/gpt-engineer-7XFB_0JR/lib/python3.11/site-packages (from boto3) (0.6.2)\r\n",
      "Requirement already satisfied: typing-extensions>=4.2.0 in /Users/leetan/.local/share/virtualenvs/gpt-engineer-7XFB_0JR/lib/python3.11/site-packages (from pydantic) (4.7.1)\r\n",
      "Requirement already satisfied: filelock in /Users/leetan/.local/share/virtualenvs/gpt-engineer-7XFB_0JR/lib/python3.11/site-packages (from transformers) (3.12.2)\r\n",
      "Requirement already satisfied: huggingface-hub<1.0,>=0.23.2 in /Users/leetan/.local/share/virtualenvs/gpt-engineer-7XFB_0JR/lib/python3.11/site-packages (from transformers) (0.25.0)\r\n",
      "Requirement already satisfied: numpy>=1.17 in /Users/leetan/.local/share/virtualenvs/gpt-engineer-7XFB_0JR/lib/python3.11/site-packages (from transformers) (1.25.2)\r\n",
      "Requirement already satisfied: packaging>=20.0 in /Users/leetan/.local/share/virtualenvs/gpt-engineer-7XFB_0JR/lib/python3.11/site-packages (from transformers) (23.2)\r\n",
      "Requirement already satisfied: pyyaml>=5.1 in /Users/leetan/.local/share/virtualenvs/gpt-engineer-7XFB_0JR/lib/python3.11/site-packages (from transformers) (6.0.1)\r\n",
      "Requirement already satisfied: regex!=2019.12.17 in /Users/leetan/.local/share/virtualenvs/gpt-engineer-7XFB_0JR/lib/python3.11/site-packages (from transformers) (2023.8.8)\r\n",
      "Requirement already satisfied: requests in /Users/leetan/.local/share/virtualenvs/gpt-engineer-7XFB_0JR/lib/python3.11/site-packages (from transformers) (2.31.0)\r\n",
      "Requirement already satisfied: safetensors>=0.4.1 in /Users/leetan/.local/share/virtualenvs/gpt-engineer-7XFB_0JR/lib/python3.11/site-packages (from transformers) (0.4.5)\r\n",
      "Requirement already satisfied: tokenizers<0.20,>=0.19 in /Users/leetan/.local/share/virtualenvs/gpt-engineer-7XFB_0JR/lib/python3.11/site-packages (from transformers) (0.19.1)\r\n",
      "Requirement already satisfied: tqdm>=4.27 in /Users/leetan/.local/share/virtualenvs/gpt-engineer-7XFB_0JR/lib/python3.11/site-packages (from transformers) (4.66.1)\r\n",
      "Requirement already satisfied: python-dateutil<3.0.0,>=2.1 in /Users/leetan/.local/share/virtualenvs/gpt-engineer-7XFB_0JR/lib/python3.11/site-packages (from botocore<1.32.0,>=1.31.37->boto3) (2.8.2)\r\n",
      "Requirement already satisfied: urllib3<1.27,>=1.25.4 in /Users/leetan/.local/share/virtualenvs/gpt-engineer-7XFB_0JR/lib/python3.11/site-packages (from botocore<1.32.0,>=1.31.37->boto3) (1.26.16)\r\n",
      "Requirement already satisfied: fsspec>=2023.5.0 in /Users/leetan/.local/share/virtualenvs/gpt-engineer-7XFB_0JR/lib/python3.11/site-packages (from huggingface-hub<1.0,>=0.23.2->transformers) (2023.9.2)\r\n",
      "Requirement already satisfied: charset-normalizer<4,>=2 in /Users/leetan/.local/share/virtualenvs/gpt-engineer-7XFB_0JR/lib/python3.11/site-packages (from requests->transformers) (3.2.0)\r\n",
      "Requirement already satisfied: idna<4,>=2.5 in /Users/leetan/.local/share/virtualenvs/gpt-engineer-7XFB_0JR/lib/python3.11/site-packages (from requests->transformers) (3.4)\r\n",
      "Requirement already satisfied: certifi>=2017.4.17 in /Users/leetan/.local/share/virtualenvs/gpt-engineer-7XFB_0JR/lib/python3.11/site-packages (from requests->transformers) (2023.7.22)\r\n",
      "Requirement already satisfied: six>=1.5 in /Users/leetan/.local/share/virtualenvs/gpt-engineer-7XFB_0JR/lib/python3.11/site-packages (from python-dateutil<3.0.0,>=2.1->botocore<1.32.0,>=1.31.37->boto3) (1.16.0)\r\n",
      "\r\n",
      "\u001B[1m[\u001B[0m\u001B[34;49mnotice\u001B[0m\u001B[1;39;49m]\u001B[0m\u001B[39;49m A new release of pip is available: \u001B[0m\u001B[31;49m23.2.1\u001B[0m\u001B[39;49m -> \u001B[0m\u001B[32;49m24.2\u001B[0m\r\n",
      "\u001B[1m[\u001B[0m\u001B[34;49mnotice\u001B[0m\u001B[1;39;49m]\u001B[0m\u001B[39;49m To update, run: \u001B[0m\u001B[32;49mpip install --upgrade pip\u001B[0m\r\n",
      "Note: you may need to restart the kernel to use updated packages.\n"
     ]
    }
   ],
   "execution_count": 7
  },
  {
   "metadata": {
    "ExecuteTime": {
     "end_time": "2024-09-23T01:38:47.065788Z",
     "start_time": "2024-09-23T01:38:45.019261Z"
    }
   },
   "cell_type": "code",
   "source": [
    "import boto3\n",
    "from pydantic import BaseModel, Field, ValidationError\n",
    "from typing import List\n",
    "import json\n",
    "import logging\n",
    "\n",
    "# Set up logging for error tracking\n",
    "logging.basicConfig(level=logging.INFO)\n",
    "\n",
    "# Set up AWS Bedrock client\n",
    "bedrock = boto3.client(service_name='bedrock', region_name='us-east-1')"
   ],
   "id": "9bec12fb1b2efaa1",
   "outputs": [
    {
     "ename": "UnknownServiceError",
     "evalue": "Unknown service: 'bedrock-runtime'. Valid service names are: accessanalyzer, account, acm, acm-pca, alexaforbusiness, amp, amplify, amplifybackend, amplifyuibuilder, apigateway, apigatewaymanagementapi, apigatewayv2, appconfig, appconfigdata, appfabric, appflow, appintegrations, application-autoscaling, application-insights, applicationcostprofiler, appmesh, apprunner, appstream, appsync, arc-zonal-shift, athena, auditmanager, autoscaling, autoscaling-plans, backup, backup-gateway, backupstorage, batch, billingconductor, braket, budgets, ce, chime, chime-sdk-identity, chime-sdk-media-pipelines, chime-sdk-meetings, chime-sdk-messaging, chime-sdk-voice, cleanrooms, cloud9, cloudcontrol, clouddirectory, cloudformation, cloudfront, cloudhsm, cloudhsmv2, cloudsearch, cloudsearchdomain, cloudtrail, cloudtrail-data, cloudwatch, codeartifact, codebuild, codecatalyst, codecommit, codedeploy, codeguru-reviewer, codeguru-security, codeguruprofiler, codepipeline, codestar, codestar-connections, codestar-notifications, cognito-identity, cognito-idp, cognito-sync, comprehend, comprehendmedical, compute-optimizer, config, connect, connect-contact-lens, connectcampaigns, connectcases, connectparticipant, controltower, cur, customer-profiles, databrew, dataexchange, datapipeline, datasync, dax, detective, devicefarm, devops-guru, directconnect, discovery, dlm, dms, docdb, docdb-elastic, drs, ds, dynamodb, dynamodbstreams, ebs, ec2, ec2-instance-connect, ecr, ecr-public, ecs, efs, eks, elastic-inference, elasticache, elasticbeanstalk, elastictranscoder, elb, elbv2, emr, emr-containers, emr-serverless, entityresolution, es, events, evidently, finspace, finspace-data, firehose, fis, fms, forecast, forecastquery, frauddetector, fsx, gamelift, gamesparks, glacier, globalaccelerator, glue, grafana, greengrass, greengrassv2, groundstation, guardduty, health, healthlake, honeycode, iam, identitystore, imagebuilder, importexport, inspector, inspector2, internetmonitor, iot, iot-data, iot-jobs-data, iot-roborunner, iot1click-devices, iot1click-projects, iotanalytics, iotdeviceadvisor, iotevents, iotevents-data, iotfleethub, iotfleetwise, iotsecuretunneling, iotsitewise, iotthingsgraph, iottwinmaker, iotwireless, ivs, ivs-realtime, ivschat, kafka, kafkaconnect, kendra, kendra-ranking, keyspaces, kinesis, kinesis-video-archived-media, kinesis-video-media, kinesis-video-signaling, kinesis-video-webrtc-storage, kinesisanalytics, kinesisanalyticsv2, kinesisvideo, kms, lakeformation, lambda, lex-models, lex-runtime, lexv2-models, lexv2-runtime, license-manager, license-manager-linux-subscriptions, license-manager-user-subscriptions, lightsail, location, logs, lookoutequipment, lookoutmetrics, lookoutvision, m2, machinelearning, macie, macie2, managedblockchain, managedblockchain-query, marketplace-catalog, marketplace-entitlement, marketplacecommerceanalytics, mediaconnect, mediaconvert, medialive, mediapackage, mediapackage-vod, mediapackagev2, mediastore, mediastore-data, mediatailor, medical-imaging, memorydb, meteringmarketplace, mgh, mgn, migration-hub-refactor-spaces, migrationhub-config, migrationhuborchestrator, migrationhubstrategy, mobile, mq, mturk, mwaa, neptune, network-firewall, networkmanager, nimble, oam, omics, opensearch, opensearchserverless, opsworks, opsworkscm, organizations, osis, outposts, panorama, payment-cryptography, payment-cryptography-data, personalize, personalize-events, personalize-runtime, pi, pinpoint, pinpoint-email, pinpoint-sms-voice, pinpoint-sms-voice-v2, pipes, polly, pricing, privatenetworks, proton, qldb, qldb-session, quicksight, ram, rbin, rds, rds-data, redshift, redshift-data, redshift-serverless, rekognition, resiliencehub, resource-explorer-2, resource-groups, resourcegroupstaggingapi, robomaker, rolesanywhere, route53, route53-recovery-cluster, route53-recovery-control-config, route53-recovery-readiness, route53domains, route53resolver, rum, s3, s3control, s3outposts, sagemaker, sagemaker-a2i-runtime, sagemaker-edge, sagemaker-featurestore-runtime, sagemaker-geospatial, sagemaker-metrics, sagemaker-runtime, savingsplans, scheduler, schemas, sdb, secretsmanager, securityhub, securitylake, serverlessrepo, service-quotas, servicecatalog, servicecatalog-appregistry, servicediscovery, ses, sesv2, shield, signer, simspaceweaver, sms, sms-voice, snow-device-management, snowball, sns, sqs, ssm, ssm-contacts, ssm-incidents, ssm-sap, sso, sso-admin, sso-oidc, stepfunctions, storagegateway, sts, support, support-app, swf, synthetics, textract, timestream-query, timestream-write, tnb, transcribe, transfer, translate, verifiedpermissions, voice-id, vpc-lattice, waf, waf-regional, wafv2, wellarchitected, wisdom, workdocs, worklink, workmail, workmailmessageflow, workspaces, workspaces-web, xray",
     "output_type": "error",
     "traceback": [
      "\u001B[0;31m---------------------------------------------------------------------------\u001B[0m",
      "\u001B[0;31mUnknownServiceError\u001B[0m                       Traceback (most recent call last)",
      "Cell \u001B[0;32mIn[10], line 11\u001B[0m\n\u001B[1;32m      8\u001B[0m logging\u001B[38;5;241m.\u001B[39mbasicConfig(level\u001B[38;5;241m=\u001B[39mlogging\u001B[38;5;241m.\u001B[39mINFO)\n\u001B[1;32m     10\u001B[0m \u001B[38;5;66;03m# Set up AWS Bedrock client\u001B[39;00m\n\u001B[0;32m---> 11\u001B[0m bedrock \u001B[38;5;241m=\u001B[39m \u001B[43mboto3\u001B[49m\u001B[38;5;241;43m.\u001B[39;49m\u001B[43mclient\u001B[49m\u001B[43m(\u001B[49m\u001B[38;5;124;43m'\u001B[39;49m\u001B[38;5;124;43mbedrock-runtime\u001B[39;49m\u001B[38;5;124;43m'\u001B[39;49m\u001B[43m,\u001B[49m\u001B[43m \u001B[49m\u001B[43mregion_name\u001B[49m\u001B[38;5;241;43m=\u001B[39;49m\u001B[38;5;124;43m'\u001B[39;49m\u001B[38;5;124;43mus-east-1\u001B[39;49m\u001B[38;5;124;43m'\u001B[39;49m\u001B[43m)\u001B[49m\n",
      "File \u001B[0;32m~/.local/share/virtualenvs/gpt-engineer-7XFB_0JR/lib/python3.11/site-packages/boto3/__init__.py:92\u001B[0m, in \u001B[0;36mclient\u001B[0;34m(*args, **kwargs)\u001B[0m\n\u001B[1;32m     86\u001B[0m \u001B[38;5;28;01mdef\u001B[39;00m \u001B[38;5;21mclient\u001B[39m(\u001B[38;5;241m*\u001B[39margs, \u001B[38;5;241m*\u001B[39m\u001B[38;5;241m*\u001B[39mkwargs):\n\u001B[1;32m     87\u001B[0m \u001B[38;5;250m    \u001B[39m\u001B[38;5;124;03m\"\"\"\u001B[39;00m\n\u001B[1;32m     88\u001B[0m \u001B[38;5;124;03m    Create a low-level service client by name using the default session.\u001B[39;00m\n\u001B[1;32m     89\u001B[0m \n\u001B[1;32m     90\u001B[0m \u001B[38;5;124;03m    See :py:meth:`boto3.session.Session.client`.\u001B[39;00m\n\u001B[1;32m     91\u001B[0m \u001B[38;5;124;03m    \"\"\"\u001B[39;00m\n\u001B[0;32m---> 92\u001B[0m     \u001B[38;5;28;01mreturn\u001B[39;00m \u001B[43m_get_default_session\u001B[49m\u001B[43m(\u001B[49m\u001B[43m)\u001B[49m\u001B[38;5;241;43m.\u001B[39;49m\u001B[43mclient\u001B[49m\u001B[43m(\u001B[49m\u001B[38;5;241;43m*\u001B[39;49m\u001B[43margs\u001B[49m\u001B[43m,\u001B[49m\u001B[43m \u001B[49m\u001B[38;5;241;43m*\u001B[39;49m\u001B[38;5;241;43m*\u001B[39;49m\u001B[43mkwargs\u001B[49m\u001B[43m)\u001B[49m\n",
      "File \u001B[0;32m~/.local/share/virtualenvs/gpt-engineer-7XFB_0JR/lib/python3.11/site-packages/boto3/session.py:299\u001B[0m, in \u001B[0;36mSession.client\u001B[0;34m(self, service_name, region_name, api_version, use_ssl, verify, endpoint_url, aws_access_key_id, aws_secret_access_key, aws_session_token, config)\u001B[0m\n\u001B[1;32m    217\u001B[0m \u001B[38;5;28;01mdef\u001B[39;00m \u001B[38;5;21mclient\u001B[39m(\n\u001B[1;32m    218\u001B[0m     \u001B[38;5;28mself\u001B[39m,\n\u001B[1;32m    219\u001B[0m     service_name,\n\u001B[0;32m   (...)\u001B[0m\n\u001B[1;32m    228\u001B[0m     config\u001B[38;5;241m=\u001B[39m\u001B[38;5;28;01mNone\u001B[39;00m,\n\u001B[1;32m    229\u001B[0m ):\n\u001B[1;32m    230\u001B[0m \u001B[38;5;250m    \u001B[39m\u001B[38;5;124;03m\"\"\"\u001B[39;00m\n\u001B[1;32m    231\u001B[0m \u001B[38;5;124;03m    Create a low-level service client by name.\u001B[39;00m\n\u001B[1;32m    232\u001B[0m \n\u001B[0;32m   (...)\u001B[0m\n\u001B[1;32m    297\u001B[0m \n\u001B[1;32m    298\u001B[0m \u001B[38;5;124;03m    \"\"\"\u001B[39;00m\n\u001B[0;32m--> 299\u001B[0m     \u001B[38;5;28;01mreturn\u001B[39;00m \u001B[38;5;28;43mself\u001B[39;49m\u001B[38;5;241;43m.\u001B[39;49m\u001B[43m_session\u001B[49m\u001B[38;5;241;43m.\u001B[39;49m\u001B[43mcreate_client\u001B[49m\u001B[43m(\u001B[49m\n\u001B[1;32m    300\u001B[0m \u001B[43m        \u001B[49m\u001B[43mservice_name\u001B[49m\u001B[43m,\u001B[49m\n\u001B[1;32m    301\u001B[0m \u001B[43m        \u001B[49m\u001B[43mregion_name\u001B[49m\u001B[38;5;241;43m=\u001B[39;49m\u001B[43mregion_name\u001B[49m\u001B[43m,\u001B[49m\n\u001B[1;32m    302\u001B[0m \u001B[43m        \u001B[49m\u001B[43mapi_version\u001B[49m\u001B[38;5;241;43m=\u001B[39;49m\u001B[43mapi_version\u001B[49m\u001B[43m,\u001B[49m\n\u001B[1;32m    303\u001B[0m \u001B[43m        \u001B[49m\u001B[43muse_ssl\u001B[49m\u001B[38;5;241;43m=\u001B[39;49m\u001B[43muse_ssl\u001B[49m\u001B[43m,\u001B[49m\n\u001B[1;32m    304\u001B[0m \u001B[43m        \u001B[49m\u001B[43mverify\u001B[49m\u001B[38;5;241;43m=\u001B[39;49m\u001B[43mverify\u001B[49m\u001B[43m,\u001B[49m\n\u001B[1;32m    305\u001B[0m \u001B[43m        \u001B[49m\u001B[43mendpoint_url\u001B[49m\u001B[38;5;241;43m=\u001B[39;49m\u001B[43mendpoint_url\u001B[49m\u001B[43m,\u001B[49m\n\u001B[1;32m    306\u001B[0m \u001B[43m        \u001B[49m\u001B[43maws_access_key_id\u001B[49m\u001B[38;5;241;43m=\u001B[39;49m\u001B[43maws_access_key_id\u001B[49m\u001B[43m,\u001B[49m\n\u001B[1;32m    307\u001B[0m \u001B[43m        \u001B[49m\u001B[43maws_secret_access_key\u001B[49m\u001B[38;5;241;43m=\u001B[39;49m\u001B[43maws_secret_access_key\u001B[49m\u001B[43m,\u001B[49m\n\u001B[1;32m    308\u001B[0m \u001B[43m        \u001B[49m\u001B[43maws_session_token\u001B[49m\u001B[38;5;241;43m=\u001B[39;49m\u001B[43maws_session_token\u001B[49m\u001B[43m,\u001B[49m\n\u001B[1;32m    309\u001B[0m \u001B[43m        \u001B[49m\u001B[43mconfig\u001B[49m\u001B[38;5;241;43m=\u001B[39;49m\u001B[43mconfig\u001B[49m\u001B[43m,\u001B[49m\n\u001B[1;32m    310\u001B[0m \u001B[43m    \u001B[49m\u001B[43m)\u001B[49m\n",
      "File \u001B[0;32m~/.local/share/virtualenvs/gpt-engineer-7XFB_0JR/lib/python3.11/site-packages/botocore/session.py:997\u001B[0m, in \u001B[0;36mSession.create_client\u001B[0;34m(self, service_name, region_name, api_version, use_ssl, verify, endpoint_url, aws_access_key_id, aws_secret_access_key, aws_session_token, config)\u001B[0m\n\u001B[1;32m    980\u001B[0m \u001B[38;5;28mself\u001B[39m\u001B[38;5;241m.\u001B[39m_add_configured_endpoint_provider(\n\u001B[1;32m    981\u001B[0m     client_name\u001B[38;5;241m=\u001B[39mservice_name,\n\u001B[1;32m    982\u001B[0m     config_store\u001B[38;5;241m=\u001B[39mconfig_store,\n\u001B[1;32m    983\u001B[0m )\n\u001B[1;32m    985\u001B[0m client_creator \u001B[38;5;241m=\u001B[39m botocore\u001B[38;5;241m.\u001B[39mclient\u001B[38;5;241m.\u001B[39mClientCreator(\n\u001B[1;32m    986\u001B[0m     loader,\n\u001B[1;32m    987\u001B[0m     endpoint_resolver,\n\u001B[0;32m   (...)\u001B[0m\n\u001B[1;32m    995\u001B[0m     user_agent_creator\u001B[38;5;241m=\u001B[39muser_agent_creator,\n\u001B[1;32m    996\u001B[0m )\n\u001B[0;32m--> 997\u001B[0m client \u001B[38;5;241m=\u001B[39m \u001B[43mclient_creator\u001B[49m\u001B[38;5;241;43m.\u001B[39;49m\u001B[43mcreate_client\u001B[49m\u001B[43m(\u001B[49m\n\u001B[1;32m    998\u001B[0m \u001B[43m    \u001B[49m\u001B[43mservice_name\u001B[49m\u001B[38;5;241;43m=\u001B[39;49m\u001B[43mservice_name\u001B[49m\u001B[43m,\u001B[49m\n\u001B[1;32m    999\u001B[0m \u001B[43m    \u001B[49m\u001B[43mregion_name\u001B[49m\u001B[38;5;241;43m=\u001B[39;49m\u001B[43mregion_name\u001B[49m\u001B[43m,\u001B[49m\n\u001B[1;32m   1000\u001B[0m \u001B[43m    \u001B[49m\u001B[43mis_secure\u001B[49m\u001B[38;5;241;43m=\u001B[39;49m\u001B[43muse_ssl\u001B[49m\u001B[43m,\u001B[49m\n\u001B[1;32m   1001\u001B[0m \u001B[43m    \u001B[49m\u001B[43mendpoint_url\u001B[49m\u001B[38;5;241;43m=\u001B[39;49m\u001B[43mendpoint_url\u001B[49m\u001B[43m,\u001B[49m\n\u001B[1;32m   1002\u001B[0m \u001B[43m    \u001B[49m\u001B[43mverify\u001B[49m\u001B[38;5;241;43m=\u001B[39;49m\u001B[43mverify\u001B[49m\u001B[43m,\u001B[49m\n\u001B[1;32m   1003\u001B[0m \u001B[43m    \u001B[49m\u001B[43mcredentials\u001B[49m\u001B[38;5;241;43m=\u001B[39;49m\u001B[43mcredentials\u001B[49m\u001B[43m,\u001B[49m\n\u001B[1;32m   1004\u001B[0m \u001B[43m    \u001B[49m\u001B[43mscoped_config\u001B[49m\u001B[38;5;241;43m=\u001B[39;49m\u001B[38;5;28;43mself\u001B[39;49m\u001B[38;5;241;43m.\u001B[39;49m\u001B[43mget_scoped_config\u001B[49m\u001B[43m(\u001B[49m\u001B[43m)\u001B[49m\u001B[43m,\u001B[49m\n\u001B[1;32m   1005\u001B[0m \u001B[43m    \u001B[49m\u001B[43mclient_config\u001B[49m\u001B[38;5;241;43m=\u001B[39;49m\u001B[43mconfig\u001B[49m\u001B[43m,\u001B[49m\n\u001B[1;32m   1006\u001B[0m \u001B[43m    \u001B[49m\u001B[43mapi_version\u001B[49m\u001B[38;5;241;43m=\u001B[39;49m\u001B[43mapi_version\u001B[49m\u001B[43m,\u001B[49m\n\u001B[1;32m   1007\u001B[0m \u001B[43m    \u001B[49m\u001B[43mauth_token\u001B[49m\u001B[38;5;241;43m=\u001B[39;49m\u001B[43mauth_token\u001B[49m\u001B[43m,\u001B[49m\n\u001B[1;32m   1008\u001B[0m \u001B[43m\u001B[49m\u001B[43m)\u001B[49m\n\u001B[1;32m   1009\u001B[0m monitor \u001B[38;5;241m=\u001B[39m \u001B[38;5;28mself\u001B[39m\u001B[38;5;241m.\u001B[39m_get_internal_component(\u001B[38;5;124m'\u001B[39m\u001B[38;5;124mmonitor\u001B[39m\u001B[38;5;124m'\u001B[39m)\n\u001B[1;32m   1010\u001B[0m \u001B[38;5;28;01mif\u001B[39;00m monitor \u001B[38;5;129;01mis\u001B[39;00m \u001B[38;5;129;01mnot\u001B[39;00m \u001B[38;5;28;01mNone\u001B[39;00m:\n",
      "File \u001B[0;32m~/.local/share/virtualenvs/gpt-engineer-7XFB_0JR/lib/python3.11/site-packages/botocore/client.py:130\u001B[0m, in \u001B[0;36mClientCreator.create_client\u001B[0;34m(self, service_name, region_name, is_secure, endpoint_url, verify, credentials, scoped_config, api_version, client_config, auth_token)\u001B[0m\n\u001B[1;32m    126\u001B[0m responses \u001B[38;5;241m=\u001B[39m \u001B[38;5;28mself\u001B[39m\u001B[38;5;241m.\u001B[39m_event_emitter\u001B[38;5;241m.\u001B[39memit(\n\u001B[1;32m    127\u001B[0m     \u001B[38;5;124m'\u001B[39m\u001B[38;5;124mchoose-service-name\u001B[39m\u001B[38;5;124m'\u001B[39m, service_name\u001B[38;5;241m=\u001B[39mservice_name\n\u001B[1;32m    128\u001B[0m )\n\u001B[1;32m    129\u001B[0m service_name \u001B[38;5;241m=\u001B[39m first_non_none_response(responses, default\u001B[38;5;241m=\u001B[39mservice_name)\n\u001B[0;32m--> 130\u001B[0m service_model \u001B[38;5;241m=\u001B[39m \u001B[38;5;28;43mself\u001B[39;49m\u001B[38;5;241;43m.\u001B[39;49m\u001B[43m_load_service_model\u001B[49m\u001B[43m(\u001B[49m\u001B[43mservice_name\u001B[49m\u001B[43m,\u001B[49m\u001B[43m \u001B[49m\u001B[43mapi_version\u001B[49m\u001B[43m)\u001B[49m\n\u001B[1;32m    131\u001B[0m \u001B[38;5;28;01mtry\u001B[39;00m:\n\u001B[1;32m    132\u001B[0m     endpoints_ruleset_data \u001B[38;5;241m=\u001B[39m \u001B[38;5;28mself\u001B[39m\u001B[38;5;241m.\u001B[39m_load_service_endpoints_ruleset(\n\u001B[1;32m    133\u001B[0m         service_name, api_version\n\u001B[1;32m    134\u001B[0m     )\n",
      "File \u001B[0;32m~/.local/share/virtualenvs/gpt-engineer-7XFB_0JR/lib/python3.11/site-packages/botocore/client.py:232\u001B[0m, in \u001B[0;36mClientCreator._load_service_model\u001B[0;34m(self, service_name, api_version)\u001B[0m\n\u001B[1;32m    231\u001B[0m \u001B[38;5;28;01mdef\u001B[39;00m \u001B[38;5;21m_load_service_model\u001B[39m(\u001B[38;5;28mself\u001B[39m, service_name, api_version\u001B[38;5;241m=\u001B[39m\u001B[38;5;28;01mNone\u001B[39;00m):\n\u001B[0;32m--> 232\u001B[0m     json_model \u001B[38;5;241m=\u001B[39m \u001B[38;5;28;43mself\u001B[39;49m\u001B[38;5;241;43m.\u001B[39;49m\u001B[43m_loader\u001B[49m\u001B[38;5;241;43m.\u001B[39;49m\u001B[43mload_service_model\u001B[49m\u001B[43m(\u001B[49m\n\u001B[1;32m    233\u001B[0m \u001B[43m        \u001B[49m\u001B[43mservice_name\u001B[49m\u001B[43m,\u001B[49m\u001B[43m \u001B[49m\u001B[38;5;124;43m'\u001B[39;49m\u001B[38;5;124;43mservice-2\u001B[39;49m\u001B[38;5;124;43m'\u001B[39;49m\u001B[43m,\u001B[49m\u001B[43m \u001B[49m\u001B[43mapi_version\u001B[49m\u001B[38;5;241;43m=\u001B[39;49m\u001B[43mapi_version\u001B[49m\n\u001B[1;32m    234\u001B[0m \u001B[43m    \u001B[49m\u001B[43m)\u001B[49m\n\u001B[1;32m    235\u001B[0m     service_model \u001B[38;5;241m=\u001B[39m ServiceModel(json_model, service_name\u001B[38;5;241m=\u001B[39mservice_name)\n\u001B[1;32m    236\u001B[0m     \u001B[38;5;28;01mreturn\u001B[39;00m service_model\n",
      "File \u001B[0;32m~/.local/share/virtualenvs/gpt-engineer-7XFB_0JR/lib/python3.11/site-packages/botocore/loaders.py:142\u001B[0m, in \u001B[0;36minstance_cache.<locals>._wrapper\u001B[0;34m(self, *args, **kwargs)\u001B[0m\n\u001B[1;32m    140\u001B[0m \u001B[38;5;28;01mif\u001B[39;00m key \u001B[38;5;129;01min\u001B[39;00m \u001B[38;5;28mself\u001B[39m\u001B[38;5;241m.\u001B[39m_cache:\n\u001B[1;32m    141\u001B[0m     \u001B[38;5;28;01mreturn\u001B[39;00m \u001B[38;5;28mself\u001B[39m\u001B[38;5;241m.\u001B[39m_cache[key]\n\u001B[0;32m--> 142\u001B[0m data \u001B[38;5;241m=\u001B[39m \u001B[43mfunc\u001B[49m\u001B[43m(\u001B[49m\u001B[38;5;28;43mself\u001B[39;49m\u001B[43m,\u001B[49m\u001B[43m \u001B[49m\u001B[38;5;241;43m*\u001B[39;49m\u001B[43margs\u001B[49m\u001B[43m,\u001B[49m\u001B[43m \u001B[49m\u001B[38;5;241;43m*\u001B[39;49m\u001B[38;5;241;43m*\u001B[39;49m\u001B[43mkwargs\u001B[49m\u001B[43m)\u001B[49m\n\u001B[1;32m    143\u001B[0m \u001B[38;5;28mself\u001B[39m\u001B[38;5;241m.\u001B[39m_cache[key] \u001B[38;5;241m=\u001B[39m data\n\u001B[1;32m    144\u001B[0m \u001B[38;5;28;01mreturn\u001B[39;00m data\n",
      "File \u001B[0;32m~/.local/share/virtualenvs/gpt-engineer-7XFB_0JR/lib/python3.11/site-packages/botocore/loaders.py:408\u001B[0m, in \u001B[0;36mLoader.load_service_model\u001B[0;34m(self, service_name, type_name, api_version)\u001B[0m\n\u001B[1;32m    406\u001B[0m known_services \u001B[38;5;241m=\u001B[39m \u001B[38;5;28mself\u001B[39m\u001B[38;5;241m.\u001B[39mlist_available_services(type_name)\n\u001B[1;32m    407\u001B[0m \u001B[38;5;28;01mif\u001B[39;00m service_name \u001B[38;5;129;01mnot\u001B[39;00m \u001B[38;5;129;01min\u001B[39;00m known_services:\n\u001B[0;32m--> 408\u001B[0m     \u001B[38;5;28;01mraise\u001B[39;00m UnknownServiceError(\n\u001B[1;32m    409\u001B[0m         service_name\u001B[38;5;241m=\u001B[39mservice_name,\n\u001B[1;32m    410\u001B[0m         known_service_names\u001B[38;5;241m=\u001B[39m\u001B[38;5;124m'\u001B[39m\u001B[38;5;124m, \u001B[39m\u001B[38;5;124m'\u001B[39m\u001B[38;5;241m.\u001B[39mjoin(\u001B[38;5;28msorted\u001B[39m(known_services)),\n\u001B[1;32m    411\u001B[0m     )\n\u001B[1;32m    412\u001B[0m \u001B[38;5;28;01mif\u001B[39;00m api_version \u001B[38;5;129;01mis\u001B[39;00m \u001B[38;5;28;01mNone\u001B[39;00m:\n\u001B[1;32m    413\u001B[0m     api_version \u001B[38;5;241m=\u001B[39m \u001B[38;5;28mself\u001B[39m\u001B[38;5;241m.\u001B[39mdetermine_latest_version(\n\u001B[1;32m    414\u001B[0m         service_name, type_name\n\u001B[1;32m    415\u001B[0m     )\n",
      "\u001B[0;31mUnknownServiceError\u001B[0m: Unknown service: 'bedrock-runtime'. Valid service names are: accessanalyzer, account, acm, acm-pca, alexaforbusiness, amp, amplify, amplifybackend, amplifyuibuilder, apigateway, apigatewaymanagementapi, apigatewayv2, appconfig, appconfigdata, appfabric, appflow, appintegrations, application-autoscaling, application-insights, applicationcostprofiler, appmesh, apprunner, appstream, appsync, arc-zonal-shift, athena, auditmanager, autoscaling, autoscaling-plans, backup, backup-gateway, backupstorage, batch, billingconductor, braket, budgets, ce, chime, chime-sdk-identity, chime-sdk-media-pipelines, chime-sdk-meetings, chime-sdk-messaging, chime-sdk-voice, cleanrooms, cloud9, cloudcontrol, clouddirectory, cloudformation, cloudfront, cloudhsm, cloudhsmv2, cloudsearch, cloudsearchdomain, cloudtrail, cloudtrail-data, cloudwatch, codeartifact, codebuild, codecatalyst, codecommit, codedeploy, codeguru-reviewer, codeguru-security, codeguruprofiler, codepipeline, codestar, codestar-connections, codestar-notifications, cognito-identity, cognito-idp, cognito-sync, comprehend, comprehendmedical, compute-optimizer, config, connect, connect-contact-lens, connectcampaigns, connectcases, connectparticipant, controltower, cur, customer-profiles, databrew, dataexchange, datapipeline, datasync, dax, detective, devicefarm, devops-guru, directconnect, discovery, dlm, dms, docdb, docdb-elastic, drs, ds, dynamodb, dynamodbstreams, ebs, ec2, ec2-instance-connect, ecr, ecr-public, ecs, efs, eks, elastic-inference, elasticache, elasticbeanstalk, elastictranscoder, elb, elbv2, emr, emr-containers, emr-serverless, entityresolution, es, events, evidently, finspace, finspace-data, firehose, fis, fms, forecast, forecastquery, frauddetector, fsx, gamelift, gamesparks, glacier, globalaccelerator, glue, grafana, greengrass, greengrassv2, groundstation, guardduty, health, healthlake, honeycode, iam, identitystore, imagebuilder, importexport, inspector, inspector2, internetmonitor, iot, iot-data, iot-jobs-data, iot-roborunner, iot1click-devices, iot1click-projects, iotanalytics, iotdeviceadvisor, iotevents, iotevents-data, iotfleethub, iotfleetwise, iotsecuretunneling, iotsitewise, iotthingsgraph, iottwinmaker, iotwireless, ivs, ivs-realtime, ivschat, kafka, kafkaconnect, kendra, kendra-ranking, keyspaces, kinesis, kinesis-video-archived-media, kinesis-video-media, kinesis-video-signaling, kinesis-video-webrtc-storage, kinesisanalytics, kinesisanalyticsv2, kinesisvideo, kms, lakeformation, lambda, lex-models, lex-runtime, lexv2-models, lexv2-runtime, license-manager, license-manager-linux-subscriptions, license-manager-user-subscriptions, lightsail, location, logs, lookoutequipment, lookoutmetrics, lookoutvision, m2, machinelearning, macie, macie2, managedblockchain, managedblockchain-query, marketplace-catalog, marketplace-entitlement, marketplacecommerceanalytics, mediaconnect, mediaconvert, medialive, mediapackage, mediapackage-vod, mediapackagev2, mediastore, mediastore-data, mediatailor, medical-imaging, memorydb, meteringmarketplace, mgh, mgn, migration-hub-refactor-spaces, migrationhub-config, migrationhuborchestrator, migrationhubstrategy, mobile, mq, mturk, mwaa, neptune, network-firewall, networkmanager, nimble, oam, omics, opensearch, opensearchserverless, opsworks, opsworkscm, organizations, osis, outposts, panorama, payment-cryptography, payment-cryptography-data, personalize, personalize-events, personalize-runtime, pi, pinpoint, pinpoint-email, pinpoint-sms-voice, pinpoint-sms-voice-v2, pipes, polly, pricing, privatenetworks, proton, qldb, qldb-session, quicksight, ram, rbin, rds, rds-data, redshift, redshift-data, redshift-serverless, rekognition, resiliencehub, resource-explorer-2, resource-groups, resourcegroupstaggingapi, robomaker, rolesanywhere, route53, route53-recovery-cluster, route53-recovery-control-config, route53-recovery-readiness, route53domains, route53resolver, rum, s3, s3control, s3outposts, sagemaker, sagemaker-a2i-runtime, sagemaker-edge, sagemaker-featurestore-runtime, sagemaker-geospatial, sagemaker-metrics, sagemaker-runtime, savingsplans, scheduler, schemas, sdb, secretsmanager, securityhub, securitylake, serverlessrepo, service-quotas, servicecatalog, servicecatalog-appregistry, servicediscovery, ses, sesv2, shield, signer, simspaceweaver, sms, sms-voice, snow-device-management, snowball, sns, sqs, ssm, ssm-contacts, ssm-incidents, ssm-sap, sso, sso-admin, sso-oidc, stepfunctions, storagegateway, sts, support, support-app, swf, synthetics, textract, timestream-query, timestream-write, tnb, transcribe, transfer, translate, verifiedpermissions, voice-id, vpc-lattice, waf, waf-regional, wafv2, wellarchitected, wisdom, workdocs, worklink, workmail, workmailmessageflow, workspaces, workspaces-web, xray"
     ]
    }
   ],
   "execution_count": 10
  },
  {
   "metadata": {
    "ExecuteTime": {
     "end_time": "2024-09-23T01:37:45.529820Z",
     "start_time": "2024-09-23T01:37:45.529530Z"
    }
   },
   "cell_type": "code",
   "source": [
    "class Feedback(BaseModel):\n",
    "    text: str\n",
    "    category: str = Field(..., regex=\"^(Product|Shipping|Customer Service|Website)$\")\n",
    "\n",
    "class FeedbackBatch(BaseModel):\n",
    "    items: List[Feedback]"
   ],
   "id": "cf222143535e65fa",
   "outputs": [],
   "execution_count": null
  },
  {
   "metadata": {},
   "cell_type": "code",
   "source": [
    "sample_data = [\n",
    "    {\"text\": \"The product quality is excellent, but it arrived late.\", \"category\": \"Product\"},\n",
    "    {\"text\": \"I can't find the return policy on your website.\", \"category\": \"Website\"},\n",
    "    {\"text\": \"Your customer service rep was very helpful.\", \"category\": \"Customer Service\"},\n",
    "    {\"text\": \"The packaging was damaged when it arrived.\", \"category\": \"Shipping\"}\n",
    "]\n",
    "\n",
    "try:\n",
    "    feedback_batch = FeedbackBatch(items=[Feedback(**item) for item in sample_data])\n",
    "except ValidationError as e:\n",
    "    logging.error(f\"Validation Error: {e.json()}\")\n",
    "    feedback_batch = None"
   ],
   "id": "22877611e40556ee",
   "outputs": [],
   "execution_count": null
  },
  {
   "metadata": {},
   "cell_type": "code",
   "source": [
    "def classify_feedback(text):\n",
    "    prompt = f\"\"\"Human: Classify the following customer feedback into one of these categories: Product, Shipping, Customer Service, or Website.\n",
    "    Customer Feedback: \"{text}\"\n",
    "    Classification:\n",
    "    Assistant:\"\"\"\n",
    "    \n",
    "    try:\n",
    "        # Call the Bedrock API with the correct format\n",
    "        response = bedrock.invoke_model(\n",
    "            modelId=\"anthropic.claude-v2\",\n",
    "            body=json.dumps({\n",
    "                \"prompt\": prompt,\n",
    "                \"max_tokens_to_sample\": 50,  # Adjust this based on the length of your expected output\n",
    "                \"temperature\": 0.5,  # Adjust this parameter for controlling randomness\n",
    "                \"stop_sequences\": [\"\\n\"]  # Stops at the first new line after the answer\n",
    "            })\n",
    "        )\n",
    "        # Extract and return the classification from the response\n",
    "        return json.loads(response['body'].read())['completion'].strip()\n",
    "    except boto3.exceptions.Boto3Error as api_error:\n",
    "        logging.error(f\"API call to Bedrock failed: {api_error}\")\n",
    "        return \"Error\"\n",
    "    except KeyError as key_error:\n",
    "        logging.error(f\"Unexpected response format: {key_error}\")\n",
    "        return \"Error\""
   ],
   "id": "7a88ac2df5737cbe",
   "outputs": [],
   "execution_count": null
  },
  {
   "metadata": {},
   "cell_type": "code",
   "source": [
    "for item in feedback_batch.items:\n",
    "    predicted_category = classify_feedback(item.text)\n",
    "    print(f\"Text: {item.text}\")\n",
    "    print(f\"Actual Category: {item.category}\")\n",
    "    print(f\"Predicted Category: {predicted_category}\")\n",
    "    print(\"---\")"
   ],
   "id": "a26e28cd4f9d2322",
   "outputs": [],
   "execution_count": null
  }
 ],
 "metadata": {
  "kernelspec": {
   "display_name": "Python 3",
   "language": "python",
   "name": "python3"
  },
  "language_info": {
   "codemirror_mode": {
    "name": "ipython",
    "version": 2
   },
   "file_extension": ".py",
   "mimetype": "text/x-python",
   "name": "python",
   "nbconvert_exporter": "python",
   "pygments_lexer": "ipython2",
   "version": "2.7.6"
  }
 },
 "nbformat": 4,
 "nbformat_minor": 5
}
