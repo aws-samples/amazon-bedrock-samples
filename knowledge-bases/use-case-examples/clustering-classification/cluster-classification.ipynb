{
 "cells": [
  {
   "cell_type": "code",
   "id": "initial_id",
   "metadata": {
    "collapsed": true,
    "ExecuteTime": {
     "end_time": "2024-09-23T18:29:15.386678Z",
     "start_time": "2024-09-23T18:29:13.584437Z"
    }
   },
   "source": "!pip install boto3 pandas matplotlib scikit-learn",
   "outputs": [
    {
     "name": "stdout",
     "output_type": "stream",
     "text": [
      "Requirement already satisfied: boto3 in /Users/leetan/.local/share/virtualenvs/gpt-engineer-7XFB_0JR/lib/python3.11/site-packages (1.35.24)\r\n",
      "Requirement already satisfied: pandas in /Users/leetan/.local/share/virtualenvs/gpt-engineer-7XFB_0JR/lib/python3.11/site-packages (2.1.0)\r\n",
      "Requirement already satisfied: matplotlib in /Users/leetan/.local/share/virtualenvs/gpt-engineer-7XFB_0JR/lib/python3.11/site-packages (3.7.2)\r\n",
      "Requirement already satisfied: scikit-learn in /Users/leetan/.local/share/virtualenvs/gpt-engineer-7XFB_0JR/lib/python3.11/site-packages (1.3.0)\r\n",
      "Requirement already satisfied: botocore<1.36.0,>=1.35.24 in /Users/leetan/.local/share/virtualenvs/gpt-engineer-7XFB_0JR/lib/python3.11/site-packages (from boto3) (1.35.24)\r\n",
      "Requirement already satisfied: jmespath<2.0.0,>=0.7.1 in /Users/leetan/.local/share/virtualenvs/gpt-engineer-7XFB_0JR/lib/python3.11/site-packages (from boto3) (1.0.1)\r\n",
      "Requirement already satisfied: s3transfer<0.11.0,>=0.10.0 in /Users/leetan/.local/share/virtualenvs/gpt-engineer-7XFB_0JR/lib/python3.11/site-packages (from boto3) (0.10.2)\r\n",
      "Requirement already satisfied: numpy>=1.23.2 in /Users/leetan/.local/share/virtualenvs/gpt-engineer-7XFB_0JR/lib/python3.11/site-packages (from pandas) (1.25.2)\r\n",
      "Requirement already satisfied: python-dateutil>=2.8.2 in /Users/leetan/.local/share/virtualenvs/gpt-engineer-7XFB_0JR/lib/python3.11/site-packages (from pandas) (2.8.2)\r\n",
      "Requirement already satisfied: pytz>=2020.1 in /Users/leetan/.local/share/virtualenvs/gpt-engineer-7XFB_0JR/lib/python3.11/site-packages (from pandas) (2023.3)\r\n",
      "Requirement already satisfied: tzdata>=2022.1 in /Users/leetan/.local/share/virtualenvs/gpt-engineer-7XFB_0JR/lib/python3.11/site-packages (from pandas) (2023.3)\r\n",
      "Requirement already satisfied: contourpy>=1.0.1 in /Users/leetan/.local/share/virtualenvs/gpt-engineer-7XFB_0JR/lib/python3.11/site-packages (from matplotlib) (1.1.0)\r\n",
      "Requirement already satisfied: cycler>=0.10 in /Users/leetan/.local/share/virtualenvs/gpt-engineer-7XFB_0JR/lib/python3.11/site-packages (from matplotlib) (0.11.0)\r\n",
      "Requirement already satisfied: fonttools>=4.22.0 in /Users/leetan/.local/share/virtualenvs/gpt-engineer-7XFB_0JR/lib/python3.11/site-packages (from matplotlib) (4.42.1)\r\n",
      "Requirement already satisfied: kiwisolver>=1.0.1 in /Users/leetan/.local/share/virtualenvs/gpt-engineer-7XFB_0JR/lib/python3.11/site-packages (from matplotlib) (1.4.5)\r\n",
      "Requirement already satisfied: packaging>=20.0 in /Users/leetan/.local/share/virtualenvs/gpt-engineer-7XFB_0JR/lib/python3.11/site-packages (from matplotlib) (23.2)\r\n",
      "Requirement already satisfied: pillow>=6.2.0 in /Users/leetan/.local/share/virtualenvs/gpt-engineer-7XFB_0JR/lib/python3.11/site-packages (from matplotlib) (10.0.0)\r\n",
      "Requirement already satisfied: pyparsing<3.1,>=2.3.1 in /Users/leetan/.local/share/virtualenvs/gpt-engineer-7XFB_0JR/lib/python3.11/site-packages (from matplotlib) (3.0.9)\r\n",
      "Requirement already satisfied: scipy>=1.5.0 in /Users/leetan/.local/share/virtualenvs/gpt-engineer-7XFB_0JR/lib/python3.11/site-packages (from scikit-learn) (1.11.2)\r\n",
      "Requirement already satisfied: joblib>=1.1.1 in /Users/leetan/.local/share/virtualenvs/gpt-engineer-7XFB_0JR/lib/python3.11/site-packages (from scikit-learn) (1.3.2)\r\n",
      "Requirement already satisfied: threadpoolctl>=2.0.0 in /Users/leetan/.local/share/virtualenvs/gpt-engineer-7XFB_0JR/lib/python3.11/site-packages (from scikit-learn) (3.2.0)\r\n",
      "Requirement already satisfied: urllib3!=2.2.0,<3,>=1.25.4 in /Users/leetan/.local/share/virtualenvs/gpt-engineer-7XFB_0JR/lib/python3.11/site-packages (from botocore<1.36.0,>=1.35.24->boto3) (1.26.16)\r\n",
      "Requirement already satisfied: six>=1.5 in /Users/leetan/.local/share/virtualenvs/gpt-engineer-7XFB_0JR/lib/python3.11/site-packages (from python-dateutil>=2.8.2->pandas) (1.16.0)\r\n",
      "\r\n",
      "\u001B[1m[\u001B[0m\u001B[34;49mnotice\u001B[0m\u001B[1;39;49m]\u001B[0m\u001B[39;49m A new release of pip is available: \u001B[0m\u001B[31;49m23.2.1\u001B[0m\u001B[39;49m -> \u001B[0m\u001B[32;49m24.2\u001B[0m\r\n",
      "\u001B[1m[\u001B[0m\u001B[34;49mnotice\u001B[0m\u001B[1;39;49m]\u001B[0m\u001B[39;49m To update, run: \u001B[0m\u001B[32;49mpip install --upgrade pip\u001B[0m\r\n"
     ]
    }
   ],
   "execution_count": 57
  },
  {
   "metadata": {
    "ExecuteTime": {
     "end_time": "2024-09-23T18:29:15.396204Z",
     "start_time": "2024-09-23T18:29:15.388546Z"
    }
   },
   "cell_type": "code",
   "source": [
    "import boto3\n",
    "\n",
    "# Initialize the Bedrock client using default credentials from your environment\n",
    "bedrock_client = boto3.client('bedrock-runtime')"
   ],
   "id": "ce8a83eabd47ce02",
   "outputs": [],
   "execution_count": 58
  },
  {
   "metadata": {
    "ExecuteTime": {
     "end_time": "2024-09-23T18:29:15.403613Z",
     "start_time": "2024-09-23T18:29:15.396937Z"
    }
   },
   "cell_type": "code",
   "source": [
    "import pandas as pd\n",
    "\n",
    "# Sample customer query data\n",
    "data = {\n",
    "    \"query\": [\n",
    "        \"What is the current mortgage rate?\",\n",
    "        \"I need help with my credit card payment\",\n",
    "        \"Can I apply for a personal loan online?\",\n",
    "        \"What are the fees for early mortgage repayment?\",\n",
    "        \"How do I increase my credit card limit?\"\n",
    "    ]\n",
    "}\n",
    "\n",
    "df = pd.DataFrame(data)\n",
    "print(df)"
   ],
   "id": "15ad801d5c0f7f7a",
   "outputs": [
    {
     "name": "stdout",
     "output_type": "stream",
     "text": [
      "                                             query\n",
      "0               What is the current mortgage rate?\n",
      "1          I need help with my credit card payment\n",
      "2          Can I apply for a personal loan online?\n",
      "3  What are the fees for early mortgage repayment?\n",
      "4          How do I increase my credit card limit?\n"
     ]
    }
   ],
   "execution_count": 59
  },
  {
   "metadata": {
    "ExecuteTime": {
     "end_time": "2024-09-23T18:29:15.688410Z",
     "start_time": "2024-09-23T18:29:15.404347Z"
    }
   },
   "cell_type": "code",
   "source": [
    "from sklearn.feature_extraction.text import TfidfVectorizer\n",
    "from sklearn.cluster import KMeans\n",
    "\n",
    "# Convert the text into TF-IDF features\n",
    "vectorizer = TfidfVectorizer(stop_words='english')\n",
    "X = vectorizer.fit_transform(df['query'])\n",
    "\n",
    "# Use KMeans clustering to group similar queries\n",
    "kmeans = KMeans(n_clusters=3, random_state=42).fit(X)\n",
    "df['cluster'] = kmeans.labels_\n",
    "print(df)"
   ],
   "id": "ff2f83a182bb51e6",
   "outputs": [
    {
     "name": "stderr",
     "output_type": "stream",
     "text": [
      "/Users/leetan/.local/share/virtualenvs/gpt-engineer-7XFB_0JR/lib/python3.11/site-packages/sklearn/cluster/_kmeans.py:1412: FutureWarning: The default value of `n_init` will change from 10 to 'auto' in 1.4. Set the value of `n_init` explicitly to suppress the warning\n",
      "  super()._check_params_vs_input(X, default_n_init=10)\n"
     ]
    },
    {
     "name": "stdout",
     "output_type": "stream",
     "text": [
      "                                             query  cluster\n",
      "0               What is the current mortgage rate?        0\n",
      "1          I need help with my credit card payment        1\n",
      "2          Can I apply for a personal loan online?        2\n",
      "3  What are the fees for early mortgage repayment?        0\n",
      "4          How do I increase my credit card limit?        1\n"
     ]
    }
   ],
   "execution_count": 60
  },
  {
   "metadata": {
    "ExecuteTime": {
     "end_time": "2024-09-23T18:29:15.695986Z",
     "start_time": "2024-09-23T18:29:15.691782Z"
    }
   },
   "cell_type": "code",
   "source": [
    "def classify_query(query):\n",
    "    if 'mortgage' in query.lower():\n",
    "        return 'Mortgage Inquiry'\n",
    "    elif 'credit card' in query.lower():\n",
    "        return 'Credit Card Inquiry'\n",
    "    elif 'loan' in query.lower():\n",
    "        return 'Loan Inquiry'\n",
    "    else:\n",
    "        return 'General Inquiry'\n",
    "\n",
    "df['category'] = df['query'].apply(classify_query)\n",
    "print(df)"
   ],
   "id": "7db5453813b27a91",
   "outputs": [
    {
     "name": "stdout",
     "output_type": "stream",
     "text": [
      "                                             query  cluster  \\\n",
      "0               What is the current mortgage rate?        0   \n",
      "1          I need help with my credit card payment        1   \n",
      "2          Can I apply for a personal loan online?        2   \n",
      "3  What are the fees for early mortgage repayment?        0   \n",
      "4          How do I increase my credit card limit?        1   \n",
      "\n",
      "              category  \n",
      "0     Mortgage Inquiry  \n",
      "1  Credit Card Inquiry  \n",
      "2         Loan Inquiry  \n",
      "3     Mortgage Inquiry  \n",
      "4  Credit Card Inquiry  \n"
     ]
    }
   ],
   "execution_count": 61
  },
  {
   "metadata": {
    "ExecuteTime": {
     "end_time": "2024-09-23T18:29:15.774551Z",
     "start_time": "2024-09-23T18:29:15.697080Z"
    }
   },
   "cell_type": "code",
   "source": [
    "import matplotlib.pyplot as plt\n",
    "\n",
    "# Visualizing the clusters\n",
    "plt.scatter(X.toarray()[:, 0], X.toarray()[:, 1], c=df['cluster'])\n",
    "plt.title(\"Customer Queries Clustering\")\n",
    "plt.show()\n",
    "\n",
    "# Display the categorized results\n",
    "print(df[['query', 'category']])"
   ],
   "id": "19e8ad4936dd893f",
   "outputs": [
    {
     "data": {
      "text/plain": [
       "<Figure size 640x480 with 1 Axes>"
      ],
      "image/png": "[encoded data removed]"
     },
     "metadata": {},
     "output_type": "display_data"
    },
    {
     "name": "stdout",
     "output_type": "stream",
     "text": [
      "                                             query             category\n",
      "0               What is the current mortgage rate?     Mortgage Inquiry\n",
      "1          I need help with my credit card payment  Credit Card Inquiry\n",
      "2          Can I apply for a personal loan online?         Loan Inquiry\n",
      "3  What are the fees for early mortgage repayment?     Mortgage Inquiry\n",
      "4          How do I increase my credit card limit?  Credit Card Inquiry\n"
     ]
    }
   ],
   "execution_count": 62
  },
  {
   "metadata": {
    "ExecuteTime": {
     "end_time": "2024-09-23T18:29:18.704162Z",
     "start_time": "2024-09-23T18:29:15.775771Z"
    }
   },
   "cell_type": "code",
   "source": [
    "import json\n",
    "\n",
    "# Create a properly formatted prompt, starting with \"Human:\" followed by the concatenated queries and ending with \"Assistant:\"\n",
    "concatenated_queries = \"\\n\".join([f\"Human: {query}\" for query in df['query'].tolist()])\n",
    "\n",
    "# Add the \"Assistant:\" at the end to signal the model to respond\n",
    "formatted_prompt = f\"{concatenated_queries}\\nAssistant:\"\n",
    "\n",
    "# Example of calling Bedrock for text processing with the correct conversational format\n",
    "response = bedrock_client.invoke_model(\n",
    "    modelId='anthropic.claude-v2',\n",
    "    contentType='application/json',\n",
    "    body=json.dumps({\n",
    "        \"prompt\": formatted_prompt,    # The prompt now ends with \"Assistant:\"\n",
    "        \"max_tokens_to_sample\": 100    # Specify a valid number of tokens to generate\n",
    "    })\n",
    ")\n",
    "\n",
    "# Process the response for further classification or clustering\n",
    "print(response)"
   ],
   "id": "f8c4b50818d357c",
   "outputs": [
    {
     "name": "stdout",
     "output_type": "stream",
     "text": [
      "{'ResponseMetadata': {'RequestId': 'dfb5d9b1-3ddd-414b-8f87-59cb3ab51d24', 'HTTPStatusCode': 200, 'HTTPHeaders': {'date': 'Mon, 23 Sep 2024 18:29:18 GMT', 'content-type': 'application/json', 'content-length': '471', 'connection': 'keep-alive', 'x-amzn-requestid': 'dfb5d9b1-3ddd-414b-8f87-59cb3ab51d24', 'x-amzn-bedrock-invocation-latency': '2630', 'x-amzn-bedrock-output-token-count': '72', 'x-amzn-bedrock-input-token-count': '63'}, 'RetryAttempts': 0}, 'contentType': 'application/json', 'body': <botocore.response.StreamingBody object at 0x31eba99c0>}\n"
     ]
    }
   ],
   "execution_count": 63
  }
 ],
 "metadata": {
  "kernelspec": {
   "display_name": "Python 3",
   "language": "python",
   "name": "python3"
  },
  "language_info": {
   "codemirror_mode": {
    "name": "ipython",
    "version": 2
   },
   "file_extension": ".py",
   "mimetype": "text/x-python",
   "name": "python",
   "nbconvert_exporter": "python",
   "pygments_lexer": "ipython2",
   "version": "2.7.6"
  }
 },
 "nbformat": 4,
 "nbformat_minor": 5
}
