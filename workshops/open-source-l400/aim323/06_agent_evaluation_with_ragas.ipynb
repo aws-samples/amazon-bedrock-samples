{
 "cells": [
  {
   "cell_type": "markdown",
   "id": "51194982-9bd9-4b79-85a3-16cbdf36d63b",
   "metadata": {},
   "source": [
    "# Agent Evaluation\n",
    "\n",
    "In this section, we will explore the evaluation of agentic systems. Agentic systems are complex constructs consisting of multiple sub-components. In Lab 3, we examined a simple singleton agent orchestrating between two tools. Lab 4 demonstrated a more sophisticated multi-layer agentic system with a top-level router agent coordinating multiple agentic sub-systems.\n",
    "\n",
    "One direct implication of the interdependent and potentially nested nature of agentic systems is that evaluation can occur at both macro and micro levels. This means that either the entire system as a whole is being evaluated (macro view) or each individual sub-component is assessed (micro view). For nested systems, this applies to every level of abstraction.\n",
    "\n",
    "Typically, evaluation begins at the macro level. In many cases, positive evaluation results at the macro level indicate sufficient agent performance. If macro-level performance evaluation proves insufficient or yields poor results, micro-level evaluation can help decompose the performance metrics and attribute results to specific sub-components.\n",
    "\n",
    "In this lab, we will first explore macro-level agent performance evaluation. Then, we will evaluate tool usage as a lower-level task. To maintain focus on the evaluation process, we will keep the agentic system simple by utilizing the singleton agent composed in Lab 3."
   ]
  },
  {
   "attachments": {},
   "cell_type": "markdown",
   "id": "64169599-95e0-4b76-a81e-c68d479eb79a",
   "metadata": {},
   "source": [
    "## Agent Setup\n",
    "\n",
    "As covered in the previous section, we will reuse the Agent we built in Lab 3. This agent has access to tools designed to help find vacation destinations. You'll be able to interact with the agent by asking questions, observe it utilizing various tools, and engage in meaningful conversations.\n",
    "\n",
    "Let's begin by installing the required packages."
   ]
  },
  {
   "cell_type": "code",
   "execution_count": null,
   "id": "b861b440-3598-4140-af69-6bd993f861e8",
   "metadata": {},
   "outputs": [],
   "source": [
    "%pip install -U langchain-community langgraph langchain-chroma langchain_aws pandas ragas==0.2.3 pypdf rapidfuzz"
   ]
  },
  {
   "cell_type": "markdown",
   "id": "a910fdd3-006b-42b1-88f3-9fee1bc80707",
   "metadata": {},
   "source": [
    "### Util functions part 1 - importing singleton agent\n",
    "\n",
    "To maintain a clean and focused approach in this notebook, we have moved the agent creation logic to a module in `utils.py`. The `create_agent` function replicates the agent creation process we developed in Lab 3, with an additional boolean parameter `enable_memory` that controls whether memory checkpointing is enabled."
   ]
  },
  {
   "cell_type": "code",
   "execution_count": 1,
   "id": "783694df-e31d-448a-af7b-0c3fc6747c27",
   "metadata": {},
   "outputs": [],
   "source": [
    "from utils import create_agent\n",
    "agent_executor = create_agent(enable_memory=True)"
   ]
  },
  {
   "cell_type": "markdown",
   "id": "e3776a1d-7566-4652-acd2-7eed21f83d59",
   "metadata": {},
   "source": [
    "The ```create_agent``` function returns a ```CompiledStateGraph``` object that represents the Agent from Lab 3's scenario. \n",
    "Now, let's proceed to visualize this graph."
   ]
  },
  {
   "cell_type": "code",
   "execution_count": 2,
   "id": "f21d0ae3-13ca-4bdc-bcc8-087eece6b610",
   "metadata": {},
   "outputs": [
    {
     "data": {
      "image/jpeg": "[encoded data removed]",
      "text/plain": [
       "<IPython.core.display.Image object>"
      ]
     },
     "metadata": {},
     "output_type": "display_data"
    }
   ],
   "source": [
    "from IPython.display import Image, display\n",
    "\n",
    "display(Image(agent_executor.get_graph().draw_mermaid_png()))"
   ]
  },
  {
   "cell_type": "markdown",
   "id": "dd2275d7-cdc2-439d-a78e-5b0c08b49a12",
   "metadata": {},
   "source": [
    "Now, we are ready to proceed with evaluating our agent!"
   ]
  },
  {
   "cell_type": "markdown",
   "id": "9aa84e32-ac33-411d-a075-a32258ed3926",
   "metadata": {},
   "source": [
    "## Agent Evaluation with ragas library \n",
    "\n",
    "In this section, we will explore sophisticated methods for evaluating agentic systems using the ragas library. Building upon our previous work with the vacation destination agent from Lab 3, we'll implement both high-level (macro) and low-level (micro) evaluation approaches.\n",
    "\n",
    "ragas provides specialized tools for evaluating Large Language Model (LLM) applications, with particular emphasis on agentic systems. We'll focus on two key evaluation dimensions:\n",
    "\n",
    "1. [High-Level Agent Accuracy](https://docs.ragas.io/en/latest/concepts/metrics/available_metrics/agents/#agent-goal-accuracy):\n",
    "   - Agent Goal Accuracy (with reference): Measures how well the agent achieves specified goals by comparing outcomes against annotated reference responses\n",
    "   - Agent Goal Accuracy (without reference): Evaluates goal achievement by inferring desired outcomes from user interactions\n",
    "\n",
    "2. [Low-Level Tool Usage](https://docs.ragas.io/en/latest/concepts/metrics/available_metrics/agents/#tool-call-accuracy):\n",
    "   - Tool Call Accuracy: Assesses the agent's ability to identify and utilize appropriate tools by comparing actual tool calls against reference tool calls\n",
    "   - The metric ranges from 0 to 1, with higher values indicating better performance\n",
    "\n",
    "This structured evaluation approach allows us to comprehensively assess our vacation destination agent's performance, both at the system level and the component level. By maintaining our focus on the singleton agent from Lab 3, we can clearly demonstrate these evaluation techniques without the added complexity of nested agent systems.\n",
    "\n",
    "Let's proceed with implementing these evaluation methods to analyze our agent's effectiveness in handling vacation-related queries and tool interactions."
   ]
  },
  {
   "cell_type": "markdown",
   "id": "daf00b75-1051-47ec-80d1-f3d65ee8fdc6",
   "metadata": {},
   "source": [
    "### Util functions part 2 - Message Format Conversion\n",
    "\n",
    "Our singleton agent is built using the LangChain/LangGraph framework. LangChain defines several [message objects](https://python.langchain.com/v0.1/docs/modules/model_io/chat/message_types/) to handle different types of communication within an agentic system. According to the LangChain documentation, these include:\n",
    "\n",
    "- HumanMessage: This represents a message from the user. Generally consists only of content.\n",
    "- AIMessage: This represents a message from the model. This may have additional_kwargs in it - for example tool_calls if using Amazon Bedrock tool calling.\n",
    "- ToolMessage: This represents the result of a tool call. In addition to role and content, this message has a `tool_call_id` parameter which conveys the id of the call to the tool that was called to produce this result.\n",
    "\n",
    "Similarly, the ragas library implements its own message wrapper objects:\n",
    "\n",
    "- [HumanMessage](https://docs.ragas.io/en/latest/references/evaluation_schema/?h=aimessage#ragas.messages.HumanMessage): Represents a message from a human user.\n",
    "- [AIMessage](https://docs.ragas.io/en/latest/references/evaluation_schema/?h=aimessage#ragas.messages.AIMessage): Represents a message from an AI.\n",
    "- [ToolMessage](https://docs.ragas.io/en/latest/references/evaluation_schema/?h=aimessage#ragas.messages.ToolMessage): Represents a message from a tool.\n",
    "- [ToolCall](https://docs.ragas.io/en/latest/references/evaluation_schema/?h=aimessage#ragas.messages.ToolCall):  Represents a tool invocation with name and arguments (typically contained within an `AIMessage` when tool calling is used)\n",
    "\n",
    "To evaluate the conversation flow generated by the LangGraph agent, we need to convert between these two message type systems. For convenience, we've implemented the `convert_message_langchian_to_ragas` function in the `utils.py` module. This function handles the conversion process seamlessly. You can import it along with the message wrapper objects, which are assigned appropriate aliases to ensure cross-compatibility between the frameworks."
   ]
  },
  {
   "cell_type": "code",
   "execution_count": 3,
   "id": "606a9191-9677-4174-8d15-d20efaaeea1c",
   "metadata": {},
   "outputs": [],
   "source": [
    "from utils import create_agent, convert_message_langchain_to_ragas\n",
    "\n",
    "from langchain_core.messages import HumanMessage as LCHumanMessage\n",
    "from langchain_core.messages import AIMessage as LCAIMessage\n",
    "from langchain_core.messages import ToolMessage as LCToolMessage\n",
    "\n",
    "\n",
    "from ragas.messages import Message as RGMessage\n",
    "from ragas.messages import HumanMessage as RGHumanMessage\n",
    "from ragas.messages import AIMessage as RGAIMessage\n",
    "from ragas.messages import ToolMessage as RGToolMessage\n",
    "from ragas.messages import ToolCall as RGToolCall"
   ]
  },
  {
   "cell_type": "markdown",
   "id": "16c467d0-c358-4baa-ab70-a00cf6e01e8f",
   "metadata": {},
   "source": [
    "Since we typically evaluate multi-turn conversations, we will implement a helper function capable of handling arrays of messages. This function will enable us to process and analyze multiple conversational exchanges seamlessly."
   ]
  },
  {
   "cell_type": "code",
   "execution_count": 4,
   "id": "304cd23e-1298-466b-8f8a-71776c40b414",
   "metadata": {},
   "outputs": [],
   "source": [
    "def convert_messages(response):\n",
    "    return list(map((lambda m: convert_message_langchain_to_ragas(m)), response['messages']))"
   ]
  },
  {
   "cell_type": "markdown",
   "id": "39e97c81-3dbb-40fc-900d-d1fd1cd5fa7f",
   "metadata": {},
   "source": [
    "For the evaluation, we will examine three distinct scenarios that represent different user profiles:\n",
    "\n",
    "1. **Stephen Walker - The User with Travel History**\n",
    "   * A 20-year-old resident of Honolulu\n",
    "   * Exists in our travel history database\n",
    "   * Previous travel records enable precise, personalized recommendations\n",
    "   * Expected to have a smooth, seamless conversation flow\n",
    "\n",
    "2. **Jane Doe - The First-Time User**\n",
    "   * No prior interaction with our travel recommendation system\n",
    "   * Requires the agent to rely on creative recommendation strategies\n",
    "   * Will test the system's ability to gather information and provide relevant suggestions\n",
    "   * May experience a slightly more exploratory conversation flow\n",
    "\n",
    "3. **Homer Simpson - The Distracted User**\n",
    "   * No previous travel history in our system\n",
    "   * Exhibits difficulty maintaining focused conversation\n",
    "   * Will challenge the agent's ability to handle divergent discussions\n",
    "   * Tests the system's capability to guide and redirect conversations effectively\n",
    "\n",
    "These scenarios will help us evaluate our travel agent's performance across different user types and interaction patterns. Let's proceed with executing these conversation flows to assess our system's effectiveness."
   ]
  },
  {
   "cell_type": "code",
   "execution_count": null,
   "id": "d41e1309-3fa4-4a1c-8f9f-3e05c05cd385",
   "metadata": {},
   "outputs": [],
   "source": [
    "config = {\"configurable\": {\"thread_id\": \"1\"}}\n",
    "agent_executor.invoke(\n",
    "        {\n",
    "            \"messages\": [\n",
    "                (\n",
    "                    \"user\",\n",
    "                    \"My name is Stephen Walker, please suggest me a good vacation destination.\",\n",
    "                )\n",
    "            ]\n",
    "        },\n",
    "        config,\n",
    "    )\n",
    "response_stephen = agent_executor.invoke(\n",
    "        {\n",
    "            \"messages\": [\n",
    "                (\"user\", \"I'm interested in more information about the location you suggested. Please provide me with a summary of what a travel guide would suggest!\")\n",
    "            ]\n",
    "        },\n",
    "        config,\n",
    "    )\n",
    "response_stephen"
   ]
  },
  {
   "cell_type": "code",
   "execution_count": null,
   "id": "f17dad47-102f-45d0-9145-fbe16de2bfc8",
   "metadata": {},
   "outputs": [],
   "source": [
    "config = {\"configurable\": {\"thread_id\": \"2\"}}\n",
    "agent_executor.invoke(\n",
    "        {\n",
    "            \"messages\": [\n",
    "                (\n",
    "                    \"user\",\n",
    "                    \"My name is Jane Doe, please suggest me a good vacation destination.\",\n",
    "                )\n",
    "            ]\n",
    "        },\n",
    "        config,\n",
    "    )\n",
    "response_jane = agent_executor.invoke(\n",
    "        {\n",
    "            \"messages\": [\n",
    "                (\"user\", \"I'm interested in more information about the location you suggested. Please provide me with a summary of what a travel guide would suggest!\")\n",
    "\n",
    "            ]\n",
    "        },\n",
    "        config,\n",
    "    )\n",
    "response_jane"
   ]
  },
  {
   "cell_type": "code",
   "execution_count": null,
   "id": "52ebdc21-6033-457d-addb-0471d5d008a5",
   "metadata": {},
   "outputs": [],
   "source": [
    "config = {\"configurable\": {\"thread_id\": \"3\"}}\n",
    "agent_executor.invoke(\n",
    "        {\n",
    "            \"messages\": [\n",
    "                (\n",
    "                    \"user\",\n",
    "                    \"My name is Homer Simpson, please suggest me a good vacation destination.\",\n",
    "                )\n",
    "            ]\n",
    "        },\n",
    "        config,\n",
    "    )\n",
    "agent_executor.invoke(\n",
    "        {\n",
    "            \"messages\": [\n",
    "                (\n",
    "                    \"user\",\n",
    "                    \"How can I brew beer over there? Which sort of hops is best suited for this?\"\n",
    "                )\n",
    "            ]\n",
    "        },\n",
    "        config,\n",
    "    )\n",
    "agent_executor.invoke(\n",
    "        {\n",
    "            \"messages\": [\n",
    "                (\n",
    "                    \"user\",\n",
    "                    \"What is the best local beer brand in this specific place?\"\n",
    "                )\n",
    "            ]\n",
    "        },\n",
    "        config,\n",
    "    )\n",
    "response_confused_homer = agent_executor.invoke(\n",
    "        {\n",
    "            \"messages\": [\n",
    "                (\"user\", \"I'm confused. Why does my beer taste bitter?\")\n",
    "            ]\n",
    "        },\n",
    "        config,\n",
    "    )\n",
    "response_confused_homer"
   ]
  },
  {
   "cell_type": "markdown",
   "id": "5b086dc3-5203-4531-beb5-5566a2b13815",
   "metadata": {},
   "source": [
    "Now that we have collected the agent conversations from Stephen, Jane, and Homer, we can proceed with converting them from LangChain's message format into ragas message format. For this conversion, we will utilize the previously defined `convert_messages` function."
   ]
  },
  {
   "cell_type": "code",
   "execution_count": 8,
   "id": "68447b7a-85e9-461f-a0db-742050547734",
   "metadata": {},
   "outputs": [
    {
     "data": {
      "text/plain": [
       "[HumanMessage(content='My name is Stephen Walker, please suggest me a good vacation destination.', metadata=None, type='human'),\n",
       " AIMessage(content='Okay, let me first check which destinations you have already visited by invoking the compare_and_recommend_destination tool.', metadata=None, type='ai', tool_calls=[ToolCall(name='compare_and_recommend_destination', args={'query': 'Stephen Walker'})]),\n",
       " ToolMessage(content='Based on your current location (Honolulu), age (20.0), and past travel data, we recommend visiting Key West.', metadata={'tool_name': 'compare_and_recommend_destination', 'tool_call_id': 'tooluse_bkYo4uacS5u0_zX4295VUg'}, type='tool'),\n",
       " AIMessage(content=\"The tool suggests Key West as a potential vacation destination for you since you haven't been there before. To provide some additional details about Key West, let me query the travel guide:\", metadata=None, type='ai', tool_calls=[ToolCall(name='travel_guide', args={'query': 'Key West'})]),\n",
       " ToolMessage(content='below the horizon during a breathtaking sunset cruise. History buffs will delight in the Hemingway\\nHome and Museum, where the renowned author lived and wrote some of his most famous works, and\\nthe Key West Lighthouse, which has guided mariners since 1848. Beyond the city\\'s vibrant urban core,\\ndiscover the natural wonders of the Florida Keys, including the stunning coral reefs and diverse marine\\nlife of the Florida Keys National Marine Sanctuary. Whether you\\'re seeking sun-soaked beaches,\\ncultural immersion, or a taste of island life, Key West offers a truly unforgettable experience.\\n \\nPage 1\\n\\nTravel Guide: Key West\\nGenerated by Llama3.1 405B\\n \\nKey West: A Tropical Oasis at the Southernmost Point\\n \\nNestled at the tip of the Florida Keys, Key West is a captivating island city that exudes a unique blend\\nof Caribbean flair, American history, and laid-back island vibes. This vibrant destination beckons\\ntravelers with its pastel-hued architecture, lively street art, and endless opportunities for outdoor\\nadventure. Stroll along the iconic Duval Street, where you\\'ll find eclectic boutiques, lively bars, and the\\nlegendary Sloppy Joe\\'s, a favorite haunt of Ernest Hemingway. Explore the Southernmost Point, a\\nconcrete buoy marking the southernmost point of the continental United States, and watch the sun dip\\nbelow the horizon during a breathtaking sunset cruise. History buffs will delight in the Hemingway\\nHome and Museum, where the renowned author lived and wrote some of his most famous works, and\\n\\nTravel Guide: Miami\\nGenerated by Llama3.1 405B\\n \\nMiami, the vibrant and sun-drenched city on Florida\\'s southeastern coast, is a captivating destination\\nthat blends diverse cultures, stunning beaches, and a pulsing energy. Known as the \"Magic City,\"\\nMiami enchants visitors with its Art Deco architecture, lively Latin-infused neighborhoods, and\\nworld-class dining and nightlife.\\n \\nSome of Miami\\'s must-see attractions include the iconic South Beach, where you can stroll the lively\\nOcean Drive, admire the pastel-hued Art Deco buildings, and people-watch at the bustling cafes. The\\nPérez Art Museum Miami showcases cutting-edge contemporary art in a stunning waterfront setting.\\nFor a taste of Cuban culture, explore the vibrant streets of Little Havana, where you can savor authentic\\nCuban cuisine, watch cigar rollers at work, and listen to the rhythmic beats of salsa music.\\n \\nBeyond the city, the Everglades National Park, the largest tropical wilderness in the United States,\\n\\nCuban cuisine, watch cigar rollers at work, and listen to the rhythmic beats of salsa music.\\n \\nBeyond the city, the Everglades National Park, the largest tropical wilderness in the United States,\\noffers a chance to explore the unique ecosystem and spot diverse wildlife, from alligators to manatees.\\nFor a day of family fun, visit the Miami Seaquarium, where you can interact with dolphins, seals, and\\nother marine creatures.\\n \\nWhether you\\'re seeking sun-soaked beaches, cultural immersion, or culinary adventures, Miami\\npromises an unforgettable experience that will leave you captivated by its irresistible charm.\\n \\nPage 1', metadata={'tool_name': 'travel_guide', 'tool_call_id': 'tooluse_0fFjitsDRJq5Sr_bWfZULQ'}, type='tool'),\n",
       " AIMessage(content='Based on the travel guide information, Key West seems like an excellent vacation destination for you. It offers a laidback island vibe, beautiful beaches, rich history and culture, outdoor activities like snorkeling and fishing, and plenty of dining and nightlife options. The colorful architecture, street art, and sunset cruises also sound quite appealing. \\n\\nKey West provides a nice mix of relaxation and adventure in a tropical paradise setting. With your current location in Honolulu, the trip to Key West would give you a chance to experience a different part of the United States while still enjoying a warm, coastal environment. Let me know if you need any other details to help plan your Key West vacation!', metadata={'input_tokens': 1441, 'output_tokens': 150, 'total_tokens': 1591}, type='ai', tool_calls=[]),\n",
       " HumanMessage(content=\"I'm interested in more information about the location you suggested. Please provide me with a summary of what a travel guide would suggest!\", metadata=None, type='human'),\n",
       " AIMessage(content=\"Sure, here's a summary of what a travel guide would recommend for visiting Key West, based on the information provided earlier:\\n\\nKey West Travel Guide Highlights:\\n\\nAttractions/Activities:\\n- Duval Street - Lively main street with shops, bars (like Sloppy Joe's), street performers\\n- Southernmost Point Buoy - Iconic concrete buoy marking the southernmost point of continental U.S.\\n- Sunset Cruises - Take a boat cruise to watch the stunning Florida Keys sunsets\\n- Hemingway Home & Museum - Where Ernest Hemingway lived and wrote famous works\\n- Key West Lighthouse - Historic 1848 lighthouse, great for views\\n- Florida Keys National Marine Sanctuary - Snorkel/dive the coral reefs, see diverse marine life\\n- Beaches - Relax on the beautiful sandy beaches like Smathers Beach\\n\\nCulture:\\n- Colorful Caribbean/Latin influences in architecture, food, music\\n- Street art/murals throughout the city\\n- Little White House - Florida residence of President Harry S. Truman\\n\\nDining:\\n- Fresh seafood at waterfront restaurants like Conch Republic Seafood Company\\n- Cuban cuisine in spots like El Meson de Pepe \\n- Key lime pie - Don't miss this famous Florida Keys dessert\\n\\nGetting Around:\\n- Walk or rent bikes to explore the compact Old Town area\\n- Take the Conch Tour Train for a narrated tour around Key West\\n\\nThe vibe is laid-back island living mixed with a fun, quirky atmosphere. Key West offers a taste of Caribbean culture right in Florida, with great options for beach-going, water activities, dining, nightlife and soaking up the unique local flavor. Let me know if you need any other Key West travel details!\", metadata={'input_tokens': 1620, 'output_tokens': 394, 'total_tokens': 2014}, type='ai', tool_calls=[])]"
      ]
     },
     "execution_count": 8,
     "metadata": {},
     "output_type": "execute_result"
    }
   ],
   "source": [
    "rg_messages_stephen = convert_messages(response_stephen)\n",
    "rg_messages_stephen"
   ]
  },
  {
   "cell_type": "code",
   "execution_count": 9,
   "id": "cb642fba-8d53-4ff2-b1b6-e7f421733adb",
   "metadata": {},
   "outputs": [
    {
     "data": {
      "text/plain": [
       "[HumanMessage(content='My name is Jane Doe, please suggest me a good vacation destination.', metadata=None, type='human'),\n",
       " AIMessage(content='Okay, let me first check which destinations you have already visited:', metadata=None, type='ai', tool_calls=[ToolCall(name='compare_and_recommend_destination', args={'query': 'Jane Doe'})]),\n",
       " ToolMessage(content='User not found in the travel database.', metadata={'tool_name': 'compare_and_recommend_destination', 'tool_call_id': 'tooluse_cflikpUuSKaWInUITC0lQw'}, type='tool'),\n",
       " AIMessage(content=\"Since you are a new user in our system and we don't have any prior travel history for you, I will recommend some popular vacation destinations based on your interests. Could you please share a few keywords about what kind of vacation experience you are looking for? For example, beach, mountains, culture, adventure etc. That will help me suggest destinations better suited to your preferences.\", metadata={'input_tokens': 533, 'output_tokens': 79, 'total_tokens': 612}, type='ai', tool_calls=[]),\n",
       " HumanMessage(content=\"I'm interested in more information about the location you suggested. Please provide me with a summary of what a travel guide would suggest!\", metadata=None, type='human'),\n",
       " AIMessage(content='I have not actually suggested any specific destination yet, since I asked for your interests and preferences first before recommending a location. However, let me query a travel guide to provide some general information that may be helpful:', metadata=None, type='ai', tool_calls=[ToolCall(name='travel_guide', args={'query': 'popular vacation destinations'})]),\n",
       " ToolMessage(content='Travel Guide: Miami\\nGenerated by Llama3.1 405B\\n \\nMiami, the vibrant and sun-drenched city on Florida\\'s southeastern coast, is a captivating destination\\nthat blends diverse cultures, stunning beaches, and a pulsing energy. Known as the \"Magic City,\"\\nMiami enchants visitors with its Art Deco architecture, lively Latin-infused neighborhoods, and\\nworld-class dining and nightlife.\\n \\nSome of Miami\\'s must-see attractions include the iconic South Beach, where you can stroll the lively\\nOcean Drive, admire the pastel-hued Art Deco buildings, and people-watch at the bustling cafes. The\\nPérez Art Museum Miami showcases cutting-edge contemporary art in a stunning waterfront setting.\\nFor a taste of Cuban culture, explore the vibrant streets of Little Havana, where you can savor authentic\\nCuban cuisine, watch cigar rollers at work, and listen to the rhythmic beats of salsa music.\\n \\nBeyond the city, the Everglades National Park, the largest tropical wilderness in the United States,\\n\\nlively dining and nightlife scene that has earned Fort Lauderdale a reputation as a premier vacation\\ndestination. Whether you\\'re seeking sun-soaked beaches, outdoor recreation, or a vibrant urban\\nexperience, this coastal oasis on Florida\\'s Gold Coast has something to captivate every traveler.\\n \\nPage 1\\n\\nTravel Guide: Key West\\nGenerated by Llama3.1 405B\\n \\nKey West: A Tropical Oasis at the Southernmost Point\\n \\nNestled at the tip of the Florida Keys, Key West is a captivating island city that exudes a unique blend\\nof Caribbean flair, American history, and laid-back island vibes. This vibrant destination beckons\\ntravelers with its pastel-hued architecture, lively street art, and endless opportunities for outdoor\\nadventure. Stroll along the iconic Duval Street, where you\\'ll find eclectic boutiques, lively bars, and the\\nlegendary Sloppy Joe\\'s, a favorite haunt of Ernest Hemingway. Explore the Southernmost Point, a\\nconcrete buoy marking the southernmost point of the continental United States, and watch the sun dip\\nbelow the horizon during a breathtaking sunset cruise. History buffs will delight in the Hemingway\\nHome and Museum, where the renowned author lived and wrote some of his most famous works, and\\n\\nbelow the horizon during a breathtaking sunset cruise. History buffs will delight in the Hemingway\\nHome and Museum, where the renowned author lived and wrote some of his most famous works, and\\nthe Key West Lighthouse, which has guided mariners since 1848. Beyond the city\\'s vibrant urban core,\\ndiscover the natural wonders of the Florida Keys, including the stunning coral reefs and diverse marine\\nlife of the Florida Keys National Marine Sanctuary. Whether you\\'re seeking sun-soaked beaches,\\ncultural immersion, or a taste of island life, Key West offers a truly unforgettable experience.\\n \\nPage 1', metadata={'tool_name': 'travel_guide', 'tool_call_id': 'tooluse_p96Rk8AdTOeyfdQnqQ1h1A'}, type='tool'),\n",
       " AIMessage(content=\"The travel guide provides an overview of two popular vacation destinations in Florida - Miami and Key West. Miami is known for its vibrant culture, art deco architecture, beaches like South Beach, Cuban influence in Little Havana, and proximity to the Everglades National Park. \\n\\nKey West, at the southernmost point of the Florida Keys, offers a laid-back Caribbean vibe, historic sites like the Hemingway Home, opportunities for water activities and exploring the coral reefs.\\n\\nBased on the information so far, do either of these destinations appeal to you for the type of vacation you're interested in? Or would you like me to query the travel guide about somewhere else that may better match your interests? Please provide any other preferences you have to help narrow down recommendations.\", metadata={'input_tokens': 1442, 'output_tokens': 165, 'total_tokens': 1607}, type='ai', tool_calls=[])]"
      ]
     },
     "execution_count": 9,
     "metadata": {},
     "output_type": "execute_result"
    }
   ],
   "source": [
    "rg_messages_jane = convert_messages(response_jane)\n",
    "rg_messages_jane"
   ]
  },
  {
   "cell_type": "code",
   "execution_count": 10,
   "id": "ddea6f13-5d45-4331-98fe-5d030d6516c9",
   "metadata": {},
   "outputs": [
    {
     "data": {
      "text/plain": [
       "[HumanMessage(content='My name is Homer Simpson, please suggest me a good vacation destination.', metadata=None, type='human'),\n",
       " AIMessage(content='Okay, let me check where you have already traveled to avoid recommending those places.', metadata=None, type='ai', tool_calls=[ToolCall(name='compare_and_recommend_destination', args={'query': 'Homer Simpson'})]),\n",
       " ToolMessage(content='User not found in the travel database.', metadata={'tool_name': 'compare_and_recommend_destination', 'tool_call_id': 'tooluse_b8WTOPvLSH-ftNGPTuDhwg'}, type='tool'),\n",
       " AIMessage(content=\"Since I don't have any record of your previous travel destinations, let me consult the travel guide to recommend a good vacation spot for you based on some general interests.\", metadata=None, type='ai', tool_calls=[ToolCall(name='travel_guide', args={'query': 'family friendly vacation destinations'})]),\n",
       " ToolMessage(content='Travel Guide: Miami\\nGenerated by Llama3.1 405B\\n \\nMiami, the vibrant and sun-drenched city on Florida\\'s southeastern coast, is a captivating destination\\nthat blends diverse cultures, stunning beaches, and a pulsing energy. Known as the \"Magic City,\"\\nMiami enchants visitors with its Art Deco architecture, lively Latin-infused neighborhoods, and\\nworld-class dining and nightlife.\\n \\nSome of Miami\\'s must-see attractions include the iconic South Beach, where you can stroll the lively\\nOcean Drive, admire the pastel-hued Art Deco buildings, and people-watch at the bustling cafes. The\\nPérez Art Museum Miami showcases cutting-edge contemporary art in a stunning waterfront setting.\\nFor a taste of Cuban culture, explore the vibrant streets of Little Havana, where you can savor authentic\\nCuban cuisine, watch cigar rollers at work, and listen to the rhythmic beats of salsa music.\\n \\nBeyond the city, the Everglades National Park, the largest tropical wilderness in the United States,\\n\\nlively dining and nightlife scene that has earned Fort Lauderdale a reputation as a premier vacation\\ndestination. Whether you\\'re seeking sun-soaked beaches, outdoor recreation, or a vibrant urban\\nexperience, this coastal oasis on Florida\\'s Gold Coast has something to captivate every traveler.\\n \\nPage 1\\n\\nTravel Guide: Key West\\nGenerated by Llama3.1 405B\\n \\nKey West: A Tropical Oasis at the Southernmost Point\\n \\nNestled at the tip of the Florida Keys, Key West is a captivating island city that exudes a unique blend\\nof Caribbean flair, American history, and laid-back island vibes. This vibrant destination beckons\\ntravelers with its pastel-hued architecture, lively street art, and endless opportunities for outdoor\\nadventure. Stroll along the iconic Duval Street, where you\\'ll find eclectic boutiques, lively bars, and the\\nlegendary Sloppy Joe\\'s, a favorite haunt of Ernest Hemingway. Explore the Southernmost Point, a\\nconcrete buoy marking the southernmost point of the continental United States, and watch the sun dip\\nbelow the horizon during a breathtaking sunset cruise. History buffs will delight in the Hemingway\\nHome and Museum, where the renowned author lived and wrote some of his most famous works, and\\n\\nTravel Guide: Newport\\nGenerated by Llama3.1 405B\\n \\nNestled along the sparkling shores of Narragansett Bay, Newport, Rhode Island is a captivating coastal\\ngem that seamlessly blends its storied past with modern allure. This quintessential New England town\\nis renowned for its opulent Gilded Age mansions, which stand as testaments to the wealth and\\ngrandeur of America\\'s elite during the late 19th century. Visitors can tour the extravagant \"summer\\ncottages\" of the Vanderbilts, Astors, and other industrial tycoons, marveling at the ornate architecture\\nand lavish interiors that evoke a bygone era of unbridled opulence.\\n \\nBeyond the mansions, Newport offers a wealth of historical attractions, from the iconic Breakers\\ncliffside mansion to the International Tennis Hall of Fame, celebrating the sport\\'s storied legacy. The\\ncity\\'s vibrant waterfront is dotted with charming boutiques, galleries, and acclaimed seafood', metadata={'tool_name': 'travel_guide', 'tool_call_id': 'tooluse_kEgTrVxaSfO--WdiXrtfTw'}, type='tool'),\n",
       " AIMessage(content='Based on the travel guide information, Miami, Florida could be a great family-friendly vacation destination for you. It offers beautiful beaches, fun outdoor activities like exploring the Everglades, as well as cultural attractions in areas like Little Havana. The lively atmosphere and variety of things to do make Miami an appealing choice for a family getaway.\\n\\nSome key highlights of Miami for families:\\n\\n- Miles of sandy beaches perfect for swimming, sunbathing, and beach activities\\n- Everglades National Park for airboat tours, hiking, and wildlife viewing \\n- Little Havana for experiencing Cuban culture, music, food, and art\\n- South Beach for the iconic Art Deco architecture and lively vibe\\n- Family-friendly museums like the Frost Science Museum\\n- Outdoor shopping and dining at places like Bayside Marketplace\\n\\nWith its sunny weather, diverse attractions, and plentiful family-friendly options, Miami could make for a fun and memorable vacation for you and your family. Let me know if you need any other destination recommendations!', metadata={'input_tokens': 1425, 'output_tokens': 228, 'total_tokens': 1653}, type='ai', tool_calls=[]),\n",
       " HumanMessage(content='How can I brew beer over there? Which sort of hops is best suited for this?', metadata=None, type='human'),\n",
       " AIMessage(content=\"I would not recommend planning to brew beer while on a family vacation in Miami. Homebrewing requires specialized equipment and ingredients that would be impractical to transport or obtain while traveling.\\n\\nInstead, I'd suggest enjoying some of the excellent local craft breweries in the Miami area. Florida has a booming craft beer scene with many great options, especially in trendy neighborhoods like Wynwood.\\n\\nSome top breweries to check out in Miami include:\\n\\n- J. Wakefield Brewing - Known for innovative sour and fruit beers in a lively taproom.\\n- Concrete Beach Brewery - Brewpub with a wide range of styles and a beer garden.\\n- Lincoln's Beard Brewing Co. - Laid-back vibes and classic beer styles.\\n- Veza Sur Brewing Co. - Latin-inspired beers celebrating Miami's Cuban heritage.\\n\\nAs for hops, the most common varieties used in Florida/tropical-style beers are citrusy American hops like Citra, Mosaic, Galaxy that complement the bright, fruity flavors. But you'll find all kinds of hop profiles represented at the local breweries.\\n\\nMy recommendation would be to skip the homebrewing this trip, and instead experience Miami's craft beer culture by visiting some of the excellent taprooms and brewpubs. Let me know if you need any other Miami beer recommendations!\", metadata={'input_tokens': 1675, 'output_tokens': 298, 'total_tokens': 1973}, type='ai', tool_calls=[]),\n",
       " HumanMessage(content='What is the best local beer brand in this specific place?', metadata=None, type='human'),\n",
       " AIMessage(content=\"Unfortunately, Miami doesn't have any huge, nationally-distributed local beer brands on the level of something like Yuengling or Samuel Adams. However, there are several excellent craft breweries in the Miami area that produce outstanding beers and have developed strong local followings.\\n\\nSome of the most popular and well-regarded local Miami beer brands include:\\n\\nJ. Wakefield Brewing\\n- One of the pioneering craft breweries in Miami's Wynwood neighborhood\\n- Known for innovative sour ales, stouts, and fruited beers\\n- Top beers include El Jefe Hefeweizen, Dragonfruit Passion Fruit Berliner Weisse\\n\\nConcrete Beach Brewery\\n- Brewpub in the Wynwood Arts District with a wide variety of styles\\n- Their Havana Lager and Stiltsville IPA are local favorites\\n- Known for an excellent beer garden and events\\n\\nLincoln's Beard Brewing Co.\\n- Laid-back brewery taproom in downtown Miami\\n- Focuses on classic styles like IPAs, porters, ambers\\n- Pecan Brown Ale and Conga City IPA are signature beers\\n\\nVeza Sur Brewing Co.\\n- Latin-inspired brewery celebrating Miami's Cuban heritage \\n- Core beers include Mangolandia Mango Wheat and La Yuma Dark Lager\\n- Known for innovative use of tropical fruit flavors\\n\\nWhile they may not be nationally distributed megabrands, these local Miami craft breweries have cultivated devoted local fan bases by producing high-quality, creative beers that capture the spirit of the city. Trying some of their top offerings is a great way to experience Miami's thriving craft beer scene.\", metadata={'input_tokens': 1988, 'output_tokens': 377, 'total_tokens': 2365}, type='ai', tool_calls=[]),\n",
       " HumanMessage(content=\"I'm confused. Why does my beer taste bitter?\", metadata=None, type='human'),\n",
       " AIMessage(content=\"There could be a few reasons why your beer is tasting bitter:\\n\\n1. Hop Bitterness\\nHops are one of the main ingredients in beer that provide bitterness. Different hop varieties and amounts used can make beers range from lightly bitter to intensely bitter and piney/citrusy. Heavily hopped styles like IPAs, pale ales, and some lagers will naturally have a more pronounced bitterness.\\n\\n2. Roasted Malts\\nDarker roasted malts used in stouts, porters, and some lagers can also contribute bitter, burnt, or coffee-like bitter flavors to beer.\\n\\n3. Off-Flavors\\nIf the bitterness seems harsh or unpleasant, it could be from off-flavors caused by bacteria, wild yeasts, oxidation, or age. Skunky, solvent-like, or overly astringent bitterness is often a sign of a flaw rather than intended hop/malt bitterness.\\n\\n4. Your Palate\\nSome people are more sensitive to bitterness from hops and malts than others based on their tastebuds. If you're unused to bitter beer styles, the bitterness may seem exaggerated at first.\\n\\nIf you're trying a locally-brewed beer in Miami, keep in mind that many Florida breweries use abundant hops (especially citrusy American varieties) that can make the beers quite bitter and hoppy in character. Don't be afraid to ask your server about the beer style and what's contributing the bitterness you're tasting. With a little guidance, you can find the right amount of hop bitterness that suits your palate preference.\", metadata={'input_tokens': 2379, 'output_tokens': 374, 'total_tokens': 2753}, type='ai', tool_calls=[])]"
      ]
     },
     "execution_count": 10,
     "metadata": {},
     "output_type": "execute_result"
    }
   ],
   "source": [
    "rg_messages_confused_homer = convert_messages(response_confused_homer)\n",
    "rg_messages_confused_homer"
   ]
  },
  {
   "cell_type": "markdown",
   "id": "f1ae3c79-521f-4962-9e4e-9a87e44a51f3",
   "metadata": {},
   "source": [
    "With our conversation flows now properly formatted, we can proceed with the actual evaluation phase."
   ]
  },
  {
   "cell_type": "markdown",
   "id": "cf995770-f6f7-4f86-909f-b60328ddfeaf",
   "metadata": {},
   "source": [
    "### Agent Goal Accuracy\n",
    "\n",
    "Agent Goal Accuracy is a metric designed to evaluate how well an LLM identifies and achieves user goals. It's a binary metric where 1 indicates successful goal achievement and 0 indicates failure. The evaluation is performed using an evaluator LLM, which needs to be defined and configured before metric calculation.\n",
    "\n",
    "The Agent Goal Accuracy metric comes in two distinct variants:\n",
    "\n",
    "- Agent Goal Accuracy without reference\n",
    "- Agent Goal Accuracy with reference\n",
    "\n",
    "Before exploring these variants in detail, we need to establish our evaluator LLM. For this purpose, we will utilize Anthropic Claude 3 Sonnet as our judge. While this is our choice in this lab, the selection of the evaluator LLM always needs to be adjusted based on specific use cases and requirements."
   ]
  },
  {
   "cell_type": "code",
   "execution_count": 11,
   "id": "3f6786f5-4c5f-4ca4-a5da-30a275fbbd5c",
   "metadata": {},
   "outputs": [],
   "source": [
    "import boto3\n",
    "from ragas.llms import LangchainLLMWrapper\n",
    "from langchain_aws import ChatBedrockConverse\n",
    "\n",
    "# ---- ⚠️ Update region for your AWS setup ⚠️ ----\n",
    "bedrock_client = boto3.client(\"bedrock-runtime\", region_name=\"us-east-1\")\n",
    "\n",
    "judge_llm = LangchainLLMWrapper(ChatBedrockConverse(\n",
    "    model=\"anthropic.claude-3-haiku-20240307-v1:0\",\n",
    "    temperature=0,\n",
    "    max_tokens=None,\n",
    "    client=bedrock_client,\n",
    "    # other params...\n",
    "))"
   ]
  },
  {
   "cell_type": "markdown",
   "id": "2cff6e40-26c3-4ccb-b32b-65d2def73410",
   "metadata": {},
   "source": [
    "#### Agent Goal Accuracy Without Reference\n",
    "AgentGoalAccuracyWithoutReference operates without a predefined reference point. Instead, it evaluates the LLM's performance by inferring the desired outcome from the human interactions within the workflow. This approach is particularly useful when explicit reference outcomes are not available or when the success criteria can be determined from the conversation context.\n",
    "\n",
    "To evaluate this metric, we first encapsulate our agent conversation in a `MultiTurnSample` object, which is designed to handle multi-turn agentic conversations within the ragas ecosystem. Next, we initialize an `AgentGoalAccuracyWithoutReference` object to implement our evaluation metric. Finally, we configure the judge LLM and execute the evaluation across our three agent conversations."
   ]
  },
  {
   "cell_type": "code",
   "execution_count": 12,
   "id": "b8a10ce3-e3bf-486d-bb6d-17e2a0638562",
   "metadata": {},
   "outputs": [],
   "source": [
    "from ragas.dataset_schema import  MultiTurnSample\n",
    "from ragas.messages import HumanMessage,AIMessage,ToolMessage,ToolCall\n",
    "from ragas.metrics import AgentGoalAccuracyWithoutReference\n",
    "\n",
    "\n",
    "sample_stephen = MultiTurnSample(user_input=rg_messages_stephen)\n",
    "\n",
    "sample_jane = MultiTurnSample(user_input=rg_messages_jane)\n",
    "\n",
    "sample_confused_homer = MultiTurnSample(user_input=rg_messages_confused_homer)\n",
    "\n",
    "scorer = AgentGoalAccuracyWithoutReference(llm=judge_llm)"
   ]
  },
  {
   "cell_type": "code",
   "execution_count": 13,
   "id": "95db55ba-e93c-4c2d-8a0d-c365b6222983",
   "metadata": {},
   "outputs": [
    {
     "data": {
      "text/plain": [
       "1.0"
      ]
     },
     "execution_count": 13,
     "metadata": {},
     "output_type": "execute_result"
    }
   ],
   "source": [
    "await scorer.multi_turn_ascore(sample_stephen)"
   ]
  },
  {
   "cell_type": "code",
   "execution_count": 14,
   "id": "26e411bc-0934-4223-bbbf-7089163b0e3d",
   "metadata": {},
   "outputs": [
    {
     "data": {
      "text/plain": [
       "0.0"
      ]
     },
     "execution_count": 14,
     "metadata": {},
     "output_type": "execute_result"
    }
   ],
   "source": [
    "await scorer.multi_turn_ascore(sample_jane)"
   ]
  },
  {
   "cell_type": "code",
   "execution_count": 15,
   "id": "14481573-8554-42a0-8672-b525919b538c",
   "metadata": {},
   "outputs": [
    {
     "data": {
      "text/plain": [
       "0.0"
      ]
     },
     "execution_count": 15,
     "metadata": {},
     "output_type": "execute_result"
    }
   ],
   "source": [
    "await scorer.multi_turn_ascore(sample_confused_homer)"
   ]
  },
  {
   "cell_type": "markdown",
   "id": "e05a484c-f0ef-49a6-a43c-f0c387322867",
   "metadata": {},
   "source": [
    "#### Agent Goal Accuracy With Reference\n",
    "AgentGoalAccuracyWithReference requires two key inputs: the user_input and a reference outcome. This variant evaluates the LLM's performance by comparing its achieved outcome against an annotated reference that serves as the ideal outcome. The metric is calculated at the end of the workflow by assessing how closely the LLM's result matches the predefined reference outcome.\n",
    "\n",
    "To evaluate this metric, we will follow a similar approach. First, we encapsulate our agent conversation within a `MultiTurnSample` object, which is specifically designed to manage multi-turn agent conversations in the ragas library. For this evaluation, we need to provide an annotated reference that will serve as a benchmark for the judge's assessment. We then initialize an `AgentGoalAccuracyWithReference` object to implement our evaluation metric. Thereby, we set up the judge LLM as evaluator llm. Then we conduct the evaluation across all three agent conversations to measure their performance against our defined criteria."
   ]
  },
  {
   "cell_type": "code",
   "execution_count": 16,
   "id": "f09bf878-43d0-4aea-9e27-4ec16af602e2",
   "metadata": {},
   "outputs": [],
   "source": [
    "from ragas.dataset_schema import  MultiTurnSample\n",
    "from ragas.messages import HumanMessage,AIMessage,ToolMessage,ToolCall\n",
    "from ragas.metrics import AgentGoalAccuracyWithReference\n",
    "\n",
    "\n",
    "sample_stephen = MultiTurnSample(user_input=rg_messages_stephen,\n",
    "    reference=\"Provide detailed information about suggested holiday destination.\")\n",
    "\n",
    "sample_jane = MultiTurnSample(user_input=rg_messages_jane,\n",
    "    reference=\"Provide detailed information about suggested holiday destination.\")\n",
    "\n",
    "sample_confused_homer = MultiTurnSample(user_input=rg_messages_confused_homer,\n",
    "    reference=\"Provide detailed information about suggested holiday destination.\")\n",
    "\n",
    "scorer = AgentGoalAccuracyWithReference(llm=judge_llm)"
   ]
  },
  {
   "cell_type": "code",
   "execution_count": 17,
   "id": "eebac6f9-3443-473a-af4c-3e33588258a5",
   "metadata": {},
   "outputs": [
    {
     "data": {
      "text/plain": [
       "1.0"
      ]
     },
     "execution_count": 17,
     "metadata": {},
     "output_type": "execute_result"
    }
   ],
   "source": [
    "await scorer.multi_turn_ascore(sample_stephen)"
   ]
  },
  {
   "cell_type": "code",
   "execution_count": 18,
   "id": "1fde20da-8227-48d9-8dec-8de757a786bf",
   "metadata": {},
   "outputs": [
    {
     "data": {
      "text/plain": [
       "0.0"
      ]
     },
     "execution_count": 18,
     "metadata": {},
     "output_type": "execute_result"
    }
   ],
   "source": [
    "await scorer.multi_turn_ascore(sample_jane)"
   ]
  },
  {
   "cell_type": "code",
   "execution_count": 19,
   "id": "959b5168-0c27-4a35-9ba5-a267a6b79926",
   "metadata": {},
   "outputs": [
    {
     "data": {
      "text/plain": [
       "1.0"
      ]
     },
     "execution_count": 19,
     "metadata": {},
     "output_type": "execute_result"
    }
   ],
   "source": [
    "await scorer.multi_turn_ascore(sample_confused_homer)"
   ]
  },
  {
   "cell_type": "markdown",
   "id": "bc2e40f9-cdeb-4a62-86c9-38367c284a1a",
   "metadata": {},
   "source": [
    "Let's analyze the results and their relationship to each persona's interaction patterns with the agent. We encourage you to discuss these findings with your workshop group to gain deeper insights. Keep in mind that agent conversations are dynamic and non-deterministic, meaning evaluation results may vary across different runs. \n",
    "\n",
    "However, certain patterns emerge:\n",
    "- Stephen's and Jane's conversations typically achieve a 1.0 rating due to their focused and goal-oriented approach\n",
    "- Homer's interactions, characterized by chaotic and divergent patterns without a consistent objective, are more likely to receive a 0.0 rating"
   ]
  },
  {
   "cell_type": "markdown",
   "id": "b9e37b94-2166-4f4c-9bca-bc68a16d1fa0",
   "metadata": {},
   "source": [
    "### Tool Call accuracy\n",
    "\n",
    "ToolCallAccuracy is a metric that can be used to evaluate the performance of the LLM in identifying and calling the required tools to complete a given task. This metric needs user_input and reference_tool_calls to evaluate the performance of the LLM in identifying and calling the required tools to complete a given task. The metric is computed by comparing the reference_tool_calls with the Tool calls made by the AI. Therefore, in this particular scenario, there is no need for an evaluator LLM. The values range between 0 and 1, with higher values indicating better performance.\n",
    "\n",
    "To evaluate the tool call accuracy metric, we follow a different process. First, we encapsulate our agent conversation within a `MultiTurnSample` object, which is specifically designed to handle multi-turn agent conversations in the ragas library. This evaluation requires a set of annotated reference tool calls that serve as a benchmark for assessment. Next, we initialize a `ToolCallAccuracy` object to implement our evaluation metric. While the default behavior compares tool names and arguments using exact string matching, this may not always be optimal, particularly when dealing with natural language arguments. To mitigate this, ragas provides us with a choice of different NLP distance metrics we can employ to determine the relevance of retrieved contexts more effectively. In this lab we use `NonLLMStringSimilarity`, which is leveraging traditional string distance measures such as Levenshtein, Hamming, and Jaro. Therefore, we set the parameter `arg_comparison_metric` to `NonLLMStringSimilarity`."
   ]
  },
  {
   "cell_type": "code",
   "execution_count": 24,
   "id": "f158250b-ca76-46e9-a60c-c621e1215f34",
   "metadata": {},
   "outputs": [],
   "source": [
    "from ragas.metrics import ToolCallAccuracy\n",
    "from ragas.dataset_schema import  MultiTurnSample\n",
    "from ragas.messages import HumanMessage,AIMessage,ToolMessage,ToolCall\n",
    "from ragas.metrics._string import NonLLMStringSimilarity\n",
    "\n",
    "\n",
    "\n",
    "sample_stephen = MultiTurnSample(\n",
    "    user_input=rg_messages_stephen,\n",
    "    reference_tool_calls=[\n",
    "        ToolCall(name=\"compare_and_recommend_destination\", args={'query': 'Stephen Walker'}),\n",
    "        ToolCall(name=\"travel_guide\", args={\"query\": \"Key West\"}),\n",
    "    ]\n",
    ")\n",
    "\n",
    "sample_jane = MultiTurnSample(\n",
    "    user_input=rg_messages_jane,\n",
    "    reference_tool_calls=[\n",
    "        ToolCall(name=\"compare_and_recommend_destination\", args={\"query\": \"Jane Doe\"}),\n",
    "        ToolCall(name=\"travel_guide\", args={\"query\": \"Key West\"}),\n",
    "    ]\n",
    ")\n",
    "\n",
    "sample_homer = MultiTurnSample(\n",
    "    user_input=rg_messages_confused_homer,\n",
    "    reference_tool_calls=[\n",
    "        ToolCall(name=\"compare_and_recommend_destination\", args={\"query\": \"Homer Simpson\"}),\n",
    "        ToolCall(name=\"travel_guide\", args={\"query\": \"Key West\"}),\n",
    "    ]\n",
    ")\n",
    "\n",
    "scorer = ToolCallAccuracy()\n",
    "scorer.arg_comparison_metric = NonLLMStringSimilarity()"
   ]
  },
  {
   "cell_type": "code",
   "execution_count": 25,
   "id": "df1a688a-4d99-4b24-b487-5918c62414a4",
   "metadata": {},
   "outputs": [
    {
     "data": {
      "text/plain": [
       "1.0"
      ]
     },
     "execution_count": 25,
     "metadata": {},
     "output_type": "execute_result"
    }
   ],
   "source": [
    "await scorer.multi_turn_ascore(sample_stephen)"
   ]
  },
  {
   "cell_type": "code",
   "execution_count": 26,
   "id": "834ba036-9c7e-44ce-b9c0-9e11c793a562",
   "metadata": {},
   "outputs": [
    {
     "data": {
      "text/plain": [
       "0.5689655172413793"
      ]
     },
     "execution_count": 26,
     "metadata": {},
     "output_type": "execute_result"
    }
   ],
   "source": [
    "await scorer.multi_turn_ascore(sample_jane)"
   ]
  },
  {
   "cell_type": "code",
   "execution_count": 27,
   "id": "612dc5d7-902e-41f7-92cf-6fa912f21b8e",
   "metadata": {},
   "outputs": [
    {
     "data": {
      "text/plain": [
       "0.5810810810810811"
      ]
     },
     "execution_count": 27,
     "metadata": {},
     "output_type": "execute_result"
    }
   ],
   "source": [
    "await scorer.multi_turn_ascore(sample_homer)"
   ]
  },
  {
   "cell_type": "markdown",
   "id": "28be7ce6-c419-4135-80c9-f3e974ca97c1",
   "metadata": {},
   "source": [
    "Let's analyze the results and their relationship to each persona's interaction patterns with the agent. We encourage you to discuss these findings with your workshop group to gain deeper insights. Keep in mind that agent conversations are dynamic and non-deterministic, meaning evaluation results may vary across different runs.\n",
    "\n",
    "However, certain patterns emerge:\n",
    "- Stephen's conversations typically achieve a very high rating due to his focused and goal-oriented approach and the fact that he can be found in the travel database - this helps matching all tool call arguments\n",
    "- Jane's conversations typically achieve a high but slightly lower rating. While her conversation is focused and goal-oriented, she is not in the travel database. This causes the first tool call suggestions to be less deterministic, reducing the likelihood of Florida-based recommendations\n",
    "- Homer's interactions achieve very low scores since they are characterized by chaotic and divergent patterns. This makes it highly unlikely to match the correct tool call sequence"
   ]
  },
  {
   "cell_type": "markdown",
   "id": "a6a38535-bd42-40be-9ab1-5a72e3536e6f",
   "metadata": {},
   "source": [
    "Congratulations! You have successfully completed this lab and the entire workshop. Thank you for your active participation in today's session. If you have any questions or need clarification on any topics covered, please don't hesitate to reach out to the instructors.\n",
    "\n",
    "**Your feedback is valuable to us! Before you leave, we kindly ask you to take a moment to scan the QR code and share your thoughts about the workshop. Your insights will help us enhance future sessions and provide an even better learning experience.**"
   ]
  }
 ],
 "metadata": {
  "kernelspec": {
   "display_name": "Python 3 (ipykernel)",
   "language": "python",
   "name": "python3"
  },
  "language_info": {
   "codemirror_mode": {
    "name": "ipython",
    "version": 3
   },
   "file_extension": ".py",
   "mimetype": "text/x-python",
   "name": "python",
   "nbconvert_exporter": "python",
   "pygments_lexer": "ipython3",
   "version": "3.10.14"
  }
 },
 "nbformat": 4,
 "nbformat_minor": 5
}
