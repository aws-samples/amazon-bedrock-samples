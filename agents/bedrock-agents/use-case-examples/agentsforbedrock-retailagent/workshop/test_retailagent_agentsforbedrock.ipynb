{
 "cells": [
  {
   "cell_type": "code",
   "execution_count": null,
   "metadata": {},
   "outputs": [],
   "source": [
    "#Needs awscli-1.29.73-py3-none-any.whl, boto3-1.28.73-py3-none-any.whl, botocore-1.31.73-py3-none-any.whl"
   ]
  },
  {
   "cell_type": "code",
   "execution_count": null,
   "metadata": {},
   "outputs": [],
   "source": [
    "import uuid\n",
    "\n",
    "import pprint\n",
    "import botocore\n",
    "import logging\n",
    "import sys\n",
    "import boto3\n",
    "import botocore\n",
    "\n",
    "!{sys.executable} -m pip install boto3-1.28.73-py3-none-any.whl\n",
    "!{sys.executable} -m pip install botocore-1.31.73-py3-none-any.whl\n",
    "!{sys.executable} -m pip install awscli-1.29.54-py3-none-any.whl\n",
    "\n",
    "logging.basicConfig(format='[%(asctime)s] p%(process)s {%(filename)s:%(lineno)d} %(levelname)s - %(message)s', level=logging.INFO)\n",
    "logger = logging.getLogger(__name__)\n"
   ]
  },
  {
   "cell_type": "code",
   "execution_count": null,
   "metadata": {},
   "outputs": [],
   "source": [
    "\n"
   ]
  },
  {
   "cell_type": "code",
   "execution_count": null,
   "metadata": {},
   "outputs": [],
   "source": [
    "# exit out if the Boto23 (Python) SDK versions are not correct\n",
    "assert boto3.__version__ == \"1.28.73\"\n",
    "assert botocore.__version__ == \"1.31.73\"\n"
   ]
  },
  {
   "cell_type": "code",
   "execution_count": null,
   "metadata": {},
   "outputs": [],
   "source": [
    "input_text:str = \"I am looking to buy running shoes?\" # replace this with a prompt relevant to your agent\n",
    "agent_id:str = '#####' # note this from the agent console on Bedrock\n",
    "agent_alias_id:str = 'TSTALIASID' # fixed for draft version of the agent\n",
    "session_id:str = str(uuid.uuid1()) # random identifier\n",
    "enable_trace:bool = True\n"
   ]
  },
  {
   "cell_type": "code",
   "execution_count": null,
   "metadata": {},
   "outputs": [],
   "source": [
    "# create an boto3 bedrock agent client\n",
    "client = boto3.client(\"bedrock-agent-runtime\")\n",
    "logger.info(client)\n"
   ]
  },
  {
   "cell_type": "code",
   "execution_count": null,
   "metadata": {},
   "outputs": [],
   "source": [
    "\n",
    "# invoke the agent API\n",
    "response = client.invoke_agent(inputText=input_text,\n",
    "    agentId=agent_id,\n",
    "    agentAliasId=agent_alias_id,\n",
    "    sessionId=session_id,\n",
    "    enableTrace=enable_trace\n",
    ")\n",
    "\n",
    "logger.info(pprint.pprint(response))\n"
   ]
  },
  {
   "cell_type": "code",
   "execution_count": null,
   "metadata": {},
   "outputs": [],
   "source": [
    "%%time\n",
    "import json\n",
    "event_stream = response['completion']\n",
    "try:\n",
    "    for event in event_stream:        \n",
    "        if 'chunk' in event:\n",
    "            data = event['chunk']['bytes']\n",
    "            logger.info(f\"Final answer ->\\n{data.decode('utf8')}\") \n",
    "            end_event_received = True\n",
    "            # End event indicates that the request finished successfully\n",
    "        elif 'trace' in event:\n",
    "            logger.info(json.dumps(event['trace'], indent=2))\n",
    "        else:\n",
    "            raise Exception(\"unexpected event.\", event)\n",
    "except Exception as e:\n",
    "    raise Exception(\"unexpected event.\", e)\n"
   ]
  },
  {
   "cell_type": "code",
   "execution_count": null,
   "metadata": {},
   "outputs": [],
   "source": []
  }
 ],
 "metadata": {
  "kernelspec": {
   "display_name": "conda_bedrock_py39",
   "language": "python",
   "name": "conda_bedrock_py39"
  },
  "language_info": {
   "codemirror_mode": {
    "name": "ipython",
    "version": 3
   },
   "file_extension": ".py",
   "mimetype": "text/x-python",
   "name": "python",
   "nbconvert_exporter": "python",
   "pygments_lexer": "ipython3",
   "version": "3.9.18"
  }
 },
 "nbformat": 4,
 "nbformat_minor": 2
}
