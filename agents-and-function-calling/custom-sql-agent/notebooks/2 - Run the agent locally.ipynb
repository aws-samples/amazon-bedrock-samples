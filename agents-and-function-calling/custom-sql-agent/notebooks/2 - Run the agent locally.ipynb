{
 "cells": [
  {
   "cell_type": "markdown",
   "metadata": {},
   "source": [
    "### Run the agent locally\n",
    "\n",
    "This notebook will show you how to run ConverseSQLAgent locally.\n",
    "\n",
    "__Prerequisites__:\n",
    "- AWS CLI installed and configured\n",
    "- IAM User and Role with permissions\n",
    "    - DynamoDB (Read/Write to the DynamoDB table provided to the agent)\n",
    "    - Amazon Bedrock Claude 3.5 Sonnet or Claude 3 Sonnet models\n",
    "    - Secrets Manager key for RDS connections and credentials details\n",
    "\n",
    "- Amazon RDS Database accessible from the local machine\n",
    "     - The credentials (username and password) must be saved in a Secrets Manager as 'Credentials for Amazon RDS Database'\n"
   ]
  },
  {
   "cell_type": "code",
   "execution_count": 1,
   "metadata": {},
   "outputs": [],
   "source": [
    "import sys\n",
    "\n",
    "sys.path.append('../src/ConverseSqlAgent')\n",
    "\n",
    "from agent import BaseAgent\n",
    "from tool_groups.structured_memory import STRUCTURED_MEMORY_TOOL_GROUP\n",
    "from tool_groups.sql import SQL_TOOL_GROUP"
   ]
  },
  {
   "cell_type": "code",
   "execution_count": 5,
   "metadata": {},
   "outputs": [],
   "source": [
    "model_id=\"anthropic.claude-3-5-sonnet-20240620-v1:0\"\n",
    "# model_id=\"anthropic.claude-3-sonnet-20240229-v1:0\"\n"
   ]
  },
  {
   "cell_type": "code",
   "execution_count": 12,
   "metadata": {},
   "outputs": [],
   "source": [
    "\n",
    "agent = BaseAgent(model_id=model_id,\n",
    "                  memory_table_name='advtext2sql_memory_tb',\n",
    "                  requests_per_minute_limit=10)\n",
    "\n",
    "agent.add_tool_group(STRUCTURED_MEMORY_TOOL_GROUP)\n",
    "agent.add_tool_group(SQL_TOOL_GROUP)"
   ]
  },
  {
   "cell_type": "markdown",
   "metadata": {},
   "source": [
    "### Invoking the agent\n",
    "\n",
    "The SQL tools provided to the agent is designed to retrieve the RDS connection details from \n",
    "AWS Secrets Manager. You must first save your username and password in AWS Secrets Manager\n",
    "as RDS. Your IAM role must have permissions to retrieve from AWS Secrets Manager.\n",
    "\n",
    "You must then provide the agent the database name and the secrets manager key to use.\n",
    "\n",
    "Then, include your query from the user."
   ]
  },
  {
   "cell_type": "code",
   "execution_count": 14,
   "metadata": {},
   "outputs": [
    {
     "name": "stdout",
     "output_type": "stream",
     "text": [
      "User: \n",
      "Connect to the postgres database adventureworks2 using the secrets manager key agentSQL/adventureworks2.\n",
      "\n",
      "Input: How many employees are there in the database?\n",
      "\n",
      "Beginning execution loop\n",
      "Invoking converse API\n",
      "Assistant: Certainly! I'll connect to the postgres database adventureworks2 using the provided secrets manager key and find out how many employees are in the database. Let me create a plan to accomplish this task.\n",
      "\n",
      "<thinking>\n",
      "To answer this question, I need to:\n",
      "1. Read my memory index to check if I have any relevant information stored.\n",
      "2. Connect to the database using the provided information.\n",
      "3. Identify the relevant schema and table that contains employee information.\n",
      "4. Query the database to count the number of employees.\n",
      "5. Provide the answer in natural language.\n",
      "</thinking>\n",
      "\n",
      "<current_plan>\n",
      "<rephrased_request>Determine the total number of employees in the adventureworks2 postgres database.</rephrased_request>\n",
      "\n",
      "<memory_tool_group_analysis>\n",
      "I need to check my memory index first to see if I have any relevant information about the adventureworks2 database structure or previous queries related to employee count.\n",
      "</memory_tool_group_analysis>\n",
      "\n",
      "<SQL_TOOL_GROUP_analysis>\n",
      "I will use the SQL tools to connect to the database, identify the relevant schema and table, and then query the database to count the employees. I'll start with more specific tools before using the general invoke_sql_query tool.\n",
      "</SQL_TOOL_GROUP_analysis>\n",
      "\n",
      "<steps>\n",
      "1. Read the memory index to check for any relevant information about the adventureworks2 database.\n",
      "2. Use get_database_schemas to identify the schemas in the adventureworks2 database.\n",
      "3. Use get_schema_tables to list the tables in the relevant schema(s).\n",
      "4. Use get_table_columns to identify the table that contains employee information.\n",
      "5. Use invoke_sql_query to count the number of employees.\n",
      "6. Provide the answer in natural language.\n",
      "7. Update the memory with the new information learned about the database structure and the employee count.\n",
      "</steps>\n",
      "</current_plan>\n",
      "\n",
      "Now, I'll execute this plan step by step.\n",
      "\n",
      "Step 1: Read the memory index\n",
      "Tool Use: get_memory_index\n",
      "Parameters: {}\n",
      "Tool Result: {'memories': [{'memory_id': '1', 'is_delete_protected': True, 'is_write_protected': False, 'title': \n",
      "Invoking converse API\n",
      "Assistant: I see that we have a memory entry (memory_id: 3) for the data dictionary of the adventureworks2 database. Let's read this memory to see if it contains the information we need.\n",
      "Tool Use: read_memory\n",
      "Parameters: {'memory_id': '3'}\n",
      "Tool Result: {'statusCode': 200, 'body': {'title': 'Data Dictionary - adventureworks2 (expanded and updated)', 'i\n",
      "Invoking converse API\n",
      "Assistant: Great! We have a comprehensive data dictionary for the adventureworks2 database. From this information, we can see that the employee information is likely to be found in the \"humanresources\" schema, specifically in the \"employee\" table. We can now proceed to count the number of employees.\n",
      "\n",
      "Step 5: Use invoke_sql_query to count the number of employees\n",
      "Tool Use: invoke_sql_query\n",
      "Parameters: {'secrets_manager_key': 'agentSQL/adventureworks2', 'database_name': 'adventureworks2', 'query': 'SELECT COUNT(*) AS employee_count FROM humanresources.employee;'}\n",
      "Tool Result: employee_count\n",
      "290\n",
      "\n",
      "Invoking converse API\n",
      "Assistant: Now that we have the result, let's provide the answer in natural language.\n",
      "\n",
      "<final_response>\n",
      "Based on the query results from the adventureworks2 database, there are 290 employees in total.\n",
      "</final_response>\n",
      "\n",
      "Now, let's update our memory with this information for future reference.\n",
      "Tool Use: write_memory\n",
      "Parameters: {'memory_id': '4', 'title': 'Employee Count in adventureworks2', 'description': 'Information about the total number of employees in the adventureworks2 database', 'contents': '# Employee Count in adventureworks2\\n\\nAs of the last query on 2024-09-24, the total number of employees in the adventureworks2 database is 290.\\n\\nThis information was obtained by querying the humanresources.employee table:\\n\\n```sql\\nSELECT COUNT(*) AS employee_count FROM humanresources.employee;\\n```\\n\\nNote: This count may change over time if the database is updated.'}\n",
      "Tool Result: {'statusCode': 200, 'body': 'Successfully saved memory_id 4.'}\n",
      "Invoking converse API\n",
      "Invoking converse API\n",
      "Based on the query results from the adventureworks2 database, there are 290 employees in total.\n"
     ]
    }
   ],
   "source": [
    "# Change these parameters\n",
    "database_type = \"postgres\"\n",
    "database_name = \"adventureworks2\"\n",
    "secrets_manager_key = \"agentSQL/adventureworks2\" \n",
    "\n",
    "input_text = \"How many employees are there in the database?\"\n",
    "\n",
    "\n",
    "# Feel free to adjust the prompt template\n",
    "prompt_template = \"\"\"\n",
    "Connect to the {database_type} database {database_name} using the secrets manager key {secrets_manager_key}.\n",
    "\n",
    "Input: {input_text}\n",
    "\"\"\"\n",
    "\n",
    "prompt = prompt_template.format(database_type=database_type, \n",
    "                                database_name=database_name,\n",
    "                                secrets_manager_key=secrets_manager_key,\n",
    "                                input_text=input_text)\n",
    "\n",
    "response = agent.invoke_agent(prompt)\n",
    "print(response)\n"
   ]
  }
 ],
 "metadata": {
  "kernelspec": {
   "display_name": "advtext2sql",
   "language": "python",
   "name": "python3"
  },
  "language_info": {
   "codemirror_mode": {
    "name": "ipython",
    "version": 3
   },
   "file_extension": ".py",
   "mimetype": "text/x-python",
   "name": "python",
   "nbconvert_exporter": "python",
   "pygments_lexer": "ipython3",
   "version": "3.11.10"
  }
 },
 "nbformat": 4,
 "nbformat_minor": 2
}
