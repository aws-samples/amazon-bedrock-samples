{
 "cells": [
  {
   "cell_type": "markdown",
   "id": "d47a322f-911a-4c8a-b013-42119a24269f",
   "metadata": {},
   "source": [
    "# Creating Agents with Custom Orchestration\n",
    "\n",
    "In this folder we will show you how to create an agent using a custom orchestration strategy. \n",
    "\n",
    "[Amazon Bedrock Agents](https://aws.amazon.com/bedrock/agents/) streamlines the development of generative AI applications by offering a fully managed solution that uses foundation models and augmenting tools to autonomously run tasks and achieve objectives through orchestrated, multi-step workflows. The default orchestration strategy, Reasoning and Action ([ReAct](https://arxiv.org/abs/2210.03629)), enables users to quickly build and deploy agentic solutions. ReAct is a general problem-solving approach that leverages the foundation model's planning capabilities to dynamically adjust actions at each step. While ReAct offers flexibility by allowing agents to continuously re-evaluate their decisions based on shifting requirements, its iterative approach can lead to higher latency when a large number of tools are involved. \n",
    "\n",
    "For greater orchestration control, Amazon Bedrock Agents has launched the [custom orchestrator]() feature, which enables users to fine-tune agent behavior and manage tool interactions at each workflow step. This customization allows organizations to tailor agent functionality to their specific operational needs, improving precision, adaptability, and efficiency. \n",
    "\n",
    "In this notebook, we’ll reuse our restaurant example to explore how custom orchestrators work and demonstrate their application with an Reasoning Without Observation ([ReWOO](https://arxiv.org/abs/2305.18323)) example. The image below shows the architecture of the agent we will create:\n",
    "\n",
    "<center>\n",
    "  <img src=\"images/architecture.png\" width=\"65%\" />\n",
    "</center>\n",
    "\n",
    "During this notebook we will:\n",
    "1. Create an [Amazon Knowledge Base](https://aws.amazon.com/bedrock/knowledge-bases/) to index our restaurant menus\n",
    "2. Create and test our restaurant assistant using the default ReAct strategy\n",
    "3. Create and test our restaurant assistant using the new custom orchestration feature with ReWoo\n",
    "4. Delete all components to avoid unexpected costs\n",
    "\n",
    "## Installing and importing prerequisites\n",
    "Before starting let's update our boto3 packages with the latest functionalities and install any pre-requisite packages"
   ]
  },
  {
   "cell_type": "code",
   "execution_count": null,
   "id": "5180d9fe-2e64-43bd-8f87-b6ad13f7fb87",
   "metadata": {
    "tags": []
   },
   "outputs": [],
   "source": [
    "!python3 -m pip install --force-reinstall --no-cache -r requirements.txt "
   ]
  },
  {
   "cell_type": "markdown",
   "id": "e510eec4-4647-472c-94a7-bc6296ca5c81",
   "metadata": {},
   "source": [
    "Now we can import the required packages for this example.\n",
    "\n",
    "We will also inport some helper functionalities available in `agents.py` and `knowledge_bases.py`. Those functions will help us creating the knowledge base and our agents easier. They use the boto3 clientes for `bedrock-agents` and `bedrock-agents-runtime`. You can check the implementation those functions in the provided files. In this notebook we will highlight the differences in the [CreateAgent](https://docs.aws.amazon.com/bedrock/latest/APIReference/API_agent_CreateAgent.html) and [InvokeAgent](https://docs.aws.amazon.com/bedrock/latest/APIReference/API_agent-runtime_InvokeAgent.html) APIs for the custom orchestrator."
   ]
  },
  {
   "cell_type": "code",
   "execution_count": null,
   "id": "4df5fdf7-d4f1-435d-ba50-ce5fa62120e0",
   "metadata": {
    "tags": []
   },
   "outputs": [],
   "source": [
    "import boto3\n",
    "import json\n",
    "import time\n",
    "import sys\n",
    "import os\n",
    "from agents import create_agent, invoke_agent_helper, clean_up_resources\n",
    "from knowledge_bases import KnowledgeBasesForAmazonBedrock"
   ]
  },
  {
   "cell_type": "markdown",
   "id": "85da02fc-b9fa-4f0e-8498-236dac4e4247",
   "metadata": {},
   "source": [
    "## 1. Creating Knowledge Base\n",
    "Let's create a restaurant assistant Knowledge Base to index the menus of our restaurant. To do so we first need to set some constants for the knowledge base name and description as well as a name for the s3 bucket that will store the documents indexed in the knowledge base"
   ]
  },
  {
   "cell_type": "code",
   "execution_count": null,
   "id": "537c70e5-114e-4c97-9f0f-b4b1ecae32e0",
   "metadata": {
    "tags": []
   },
   "outputs": [],
   "source": [
    "s3_client = boto3.client('s3')\n",
    "sts_client = boto3.client('sts')\n",
    "session = boto3.session.Session()\n",
    "region = session.region_name\n",
    "account_id = sts_client.get_caller_identity()[\"Account\"]\n",
    "knowledge_base_name = f'restaurant-kb'\n",
    "suffix = f\"{region}-{account_id}\"\n",
    "knowledge_base_description = \"Knowledge Base containing the restaurant menu's collection\"\n",
    "bucket_name = f'restaurant-kb-{suffix}'"
   ]
  },
  {
   "cell_type": "code",
   "execution_count": null,
   "id": "41d674fa-2fd2-436c-a633-09fc8f9fc94f",
   "metadata": {
    "tags": []
   },
   "outputs": [],
   "source": [
    "kb = KnowledgeBasesForAmazonBedrock()\n",
    "kb_id, ds_id = kb.create_or_retrieve_knowledge_base(\n",
    "    knowledge_base_name,\n",
    "    knowledge_base_description,\n",
    "    bucket_name\n",
    ")"
   ]
  },
  {
   "cell_type": "markdown",
   "id": "fa6295ff-75ae-4ee5-b82f-dbc8217bf2a1",
   "metadata": {},
   "source": [
    "### Syncronizing data to knowledge base\n",
    "\n",
    "Next let's syncronize the knowledge base to index the menus"
   ]
  },
  {
   "cell_type": "code",
   "execution_count": null,
   "id": "5069128b-f3b5-453f-baec-594ad60ccb15",
   "metadata": {
    "tags": []
   },
   "outputs": [],
   "source": [
    "def upload_directory(path, bucket_name):\n",
    "    for root,dirs,files in os.walk(path):\n",
    "        for file in files:\n",
    "            file_to_upload = os.path.join(root,file)\n",
    "            print(f\"uploading file {file_to_upload} to {bucket_name}\")\n",
    "            s3_client.upload_file(file_to_upload,bucket_name,file)"
   ]
  },
  {
   "cell_type": "code",
   "execution_count": null,
   "id": "3ce838b3-db35-4e73-b046-92b8314c5f71",
   "metadata": {
    "tags": []
   },
   "outputs": [],
   "source": [
    "upload_directory(\"kb_docs\", bucket_name)\n",
    "\n",
    "# sync knowledge base\n",
    "kb.synchronize_data(kb_id, ds_id)"
   ]
  },
  {
   "cell_type": "markdown",
   "id": "89575605-ffcc-49b6-8024-3a9c2a687ab8",
   "metadata": {
    "tags": []
   },
   "source": [
    "## Creating ReAct Agent\n",
    "\n",
    "Over the next cells we will create a ReAct agent `restaurant-react` and invoke with the Bedrock Agent's default orchestration and invoke it.\n",
    "\n",
    "The ReAct approach is an iterative decision-making process where the model analyzes each step, deciding on the next action based on the information gathered at each stage\n",
    "\n",
    "<center>\n",
    "  <img src=\"images/react.png\" width=\"65%\" />\n",
    "</center>\n",
    "\n",
    "This method provides transparency and allows for a clear, step-by-step breakdown of actions, making it well-suited for workflows that benefit from incremental adjustments. While effective in dynamic environments where real-time re-evaluation is advantageous, ReAct’s sequential structure can introduce latency when high-speed or parallel processing across multiple tools is required.\n",
    "\n",
    "### Defining agent configuration\n",
    "\n",
    "Let's now define the configuration for our restaurant assistant. Let's provide some data of what to do in case of situations where the agent cannot answer the user query and some more generic information about the restaurant\n",
    "\n",
    "```\n",
    "You are a restaurant assistant helping ‘The Regrettable Experience’ handle reservations. You can talk about the menus, create new bookings, get the details of an existing booking or delete an existing reservation. You reply always politely and mention the name of the restaurant in the reply. NEVER skip the name of the restaurant in the start of a new conversation. If customers ask about anything that you cannot reply, please provide the following phone number for a more personalized experience: +1 999 999 99 9999.\n",
    "\n",
    "Some information that will be useful to answer your customer's questions:\n",
    "The Regrettable Experience Address: 101W 87th Street, 100024, New York, New York\n",
    "Opening hours: \n",
    "- Mondays - Fridays: 11am - 2pm and 5pm - 10pm\n",
    "- Saturdays: 11am - 11pm\n",
    "- Sundays: 11am - 8pm\n",
    "```\n",
    "\n",
    "For this agent, we will also use `Claude 3 Sonnet 3.5 v2` model in order to provide more accurate answers to our users.\n",
    "\n",
    "For the action group we will provide 3 functions:\n",
    "* `get_booking_details` to retrieve the details of an existing booking\n",
    "* `create_booking` to create a new restaurant reservation and\n",
    "* `delete_booking` to delete an existing reservation\n",
    "\n",
    "Finally, we also provide some knowledge base configuration including a `kb_instruction` of when to use this knowledge base"
   ]
  },
  {
   "cell_type": "code",
   "execution_count": null,
   "id": "0e277ce2-b021-4477-98cb-bbf5fa659129",
   "metadata": {
    "tags": []
   },
   "outputs": [],
   "source": [
    "agent_name_react = 'restaurant-a-react'\n",
    "agent_foundation_model = \"anthropic.claude-3-5-sonnet-20241022-v2:0\"\n",
    "agent_instruction = \"\"\"You are a restaurant assistant helping ‘The Regrettable Experience’ handle reservations. \n",
    "You can talk about the menus, create new bookings, get the details of an existing booking or delete an existing reservation. \n",
    "You reply always politely and mention the name of the restaurant in the reply. \n",
    "NEVER skip the name of the restaurant in the start of a new conversation. \n",
    "If customers ask about anything that you cannot reply, please provide the following phone number for a more personalized experience: \n",
    "+1 999 999 99 9999.\n",
    "\n",
    "Some information that will be useful to answer your customer's questions:\n",
    "The Regrettable Experience Address: 101W 87th Street, 100024, New York, New York\n",
    "Opening hours: \n",
    "- Mondays - Fridays: 11am - 2pm and 5pm - 10pm\n",
    "- Saturdays: 11am - 11pm\n",
    "- Sundays: 11am - 8pm\"\"\"\n",
    "agent_description = \"Agent in charge of a restaurants table bookings\"\n",
    "\n",
    "functions = [\n",
    "    {\n",
    "        'name': 'get_booking_details',\n",
    "        'description': 'Retrieve details of a restaurant booking',\n",
    "        'parameters': {\n",
    "            \"booking_id\": {\n",
    "                \"description\": \"The ID of the booking to retrieve\",\n",
    "                \"required\": True,\n",
    "                \"type\": \"string\"\n",
    "            }\n",
    "        }\n",
    "    },\n",
    "    {\n",
    "        'name': 'create_booking',\n",
    "        'description': 'Create a new restaurant booking',\n",
    "        'parameters': {\n",
    "            \"date\": {\n",
    "                \"description\": \"The date of the booking in the format YYYY-MM-DD\",\n",
    "                \"required\": True,\n",
    "                \"type\": \"string\"\n",
    "            },\n",
    "            \"name\": {\n",
    "                \"description\": \"Name to idenfity your reservation\",\n",
    "                \"required\": True,\n",
    "                \"type\": \"string\"\n",
    "            },\n",
    "            \"hour\": {\n",
    "                \"description\": \"The hour of the booking in the format HH:MM\",\n",
    "                \"required\": True,\n",
    "                \"type\": \"string\"\n",
    "            },\n",
    "            \"num_guests\": {\n",
    "                \"description\": \"The number of guests for the booking\",\n",
    "                \"required\": True,\n",
    "                \"type\": \"integer\"\n",
    "            }\n",
    "        }\n",
    "    },\n",
    "    {\n",
    "        'name': 'delete_booking',\n",
    "        'description': 'Delete an existing restaurant booking',\n",
    "        'parameters': {\n",
    "            \"booking_id\": {\n",
    "                \"description\": \"The ID of the booking to delete\",\n",
    "                \"required\": True,\n",
    "                \"type\": \"string\"\n",
    "            }\n",
    "        }\n",
    "    },\n",
    "]\n",
    "\n",
    "action_group_config_react = {\n",
    "    'name': 'TableBookingsActionGroup',\n",
    "    'description': 'Actions for getting table booking information, create a new booking or delete an existing booking',\n",
    "    'functions': functions,\n",
    "    'lambda_function_name': f'{agent_name_react}-lambda',\n",
    "    'lambda_file_path': 'lambda_function.py',\n",
    "    'environment': {\n",
    "        'Variables': {\n",
    "            'booking_table_name': f'{agent_name_react}-table'\n",
    "        }\n",
    "    },\n",
    "    'dynamodb_table_name': f'{agent_name_react}-table',\n",
    "    'dynamodb_attribute_name': 'booking_id'\n",
    "}\n",
    "\n",
    "kb_config = {\n",
    "    'kb_id': kb_id,\n",
    "    'kb_instruction': 'Access the knowledge base when customers ask about the plates in the menu.'\n",
    "}"
   ]
  },
  {
   "cell_type": "markdown",
   "id": "814df5cb-9f4f-4aa5-b577-7a548655c3fa",
   "metadata": {},
   "source": [
    "### Creating agent"
   ]
  },
  {
   "cell_type": "code",
   "execution_count": null,
   "id": "0d9216c9-0ba6-432b-8285-992353d308b3",
   "metadata": {
    "tags": []
   },
   "outputs": [],
   "source": [
    "ra_react_agent_id, ra_react_agent_alias_id, ra_react_agent_alias_arn, react_orchestration_lambda_function = create_agent(\n",
    "    agent_name_react,\n",
    "    agent_instruction,\n",
    "    agent_foundation_model=agent_foundation_model,\n",
    "    agent_description=agent_description,\n",
    "    action_group_config=action_group_config_react,\n",
    "    kb_config=kb_config,\n",
    "    create_alias=False\n",
    ")"
   ]
  },
  {
   "cell_type": "markdown",
   "id": "c7b989a8-bcaf-46b6-b83d-6a7c0bbe42ad",
   "metadata": {},
   "source": [
    "### Getting created agent configuration\n",
    "Let's now check the agent_id and agent_alias_id values. Those will be required to invoke your agent.\n",
    "As we did not create an agent version, our agent alias is set to the test value of `TSTALIASID`"
   ]
  },
  {
   "cell_type": "code",
   "execution_count": null,
   "id": "01cdedbf-7755-4686-8eda-f9aed813aef2",
   "metadata": {
    "tags": []
   },
   "outputs": [],
   "source": [
    "ra_react_agent_id, ra_react_agent_alias_id"
   ]
  },
  {
   "cell_type": "markdown",
   "id": "a5223abb-9362-469d-a740-b16a45e0255d",
   "metadata": {},
   "source": [
    "## Invoking ReAct Agent\n",
    "Next we will invoke the ReAct agent with a couple of queries. We will use session attributes to pass the current date and customer name in order to make the agent more relatable with a real life restaurant assistant"
   ]
  },
  {
   "cell_type": "code",
   "execution_count": null,
   "id": "1c73b23d-e0cb-4d9c-bf12-5c958b991f49",
   "metadata": {
    "tags": []
   },
   "outputs": [],
   "source": [
    "from datetime import datetime\n",
    "today = datetime.today().strftime('%b-%d-%Y')\n",
    "today"
   ]
  },
  {
   "cell_type": "markdown",
   "id": "68a74e45-5362-4597-a1c9-47ced0122684",
   "metadata": {},
   "source": [
    "### Invoking ReAct agent with action group only query\n",
    "first let's invoke our agent with a query calling only the action group to book a reservation. We will use the magic command `%%time` to measure the latency of our requests"
   ]
  },
  {
   "cell_type": "code",
   "execution_count": null,
   "id": "553e059e-ddce-443c-a4e9-05221ea46451",
   "metadata": {
    "tags": []
   },
   "outputs": [],
   "source": [
    "%%time\n",
    "import uuid\n",
    "session_id:str = str(uuid.uuid1())\n",
    "\n",
    "query = \"Can you make a reservation for 2 people, at 7pm tonight?\"\n",
    "session_state={\n",
    "    \"promptSessionAttributes\": { \n",
    "         \"Customer Name\" : \"John\",\n",
    "         \"Today\": today\n",
    "      },\n",
    "}\n",
    "response = invoke_agent_helper(\n",
    "    query, session_id, ra_react_agent_id, ra_react_agent_alias_id, enable_trace=False, session_state=session_state\n",
    ")\n",
    "print(response)"
   ]
  },
  {
   "cell_type": "markdown",
   "id": "5e4c8284-4dac-4b7b-8675-9fc93620db04",
   "metadata": {},
   "source": [
    "### Invoking ReAct agent with knowledge base query\n",
    "Next we will check what is on the menu in order to invoke our agent with a query to the Knowledge Base only"
   ]
  },
  {
   "cell_type": "code",
   "execution_count": null,
   "id": "008b4e31-c5fb-4425-8b3b-99095ba0f2dd",
   "metadata": {
    "tags": []
   },
   "outputs": [],
   "source": [
    "time.sleep(60)"
   ]
  },
  {
   "cell_type": "code",
   "execution_count": null,
   "id": "d1b21571-dd1d-4f53-88a3-70fcb59989f4",
   "metadata": {
    "tags": []
   },
   "outputs": [],
   "source": [
    "%%time\n",
    "import uuid\n",
    "session_id:str = str(uuid.uuid1())\n",
    "\n",
    "query = \"What do you serve for dinner?\"\n",
    "response = invoke_agent_helper(\n",
    "    query, session_id, ra_react_agent_id, ra_react_agent_alias_id, enable_trace=False, session_state=None\n",
    ")\n",
    "print(response)"
   ]
  },
  {
   "cell_type": "markdown",
   "id": "a8a62ed3-d646-4573-9dc8-23996890ff72",
   "metadata": {},
   "source": [
    "### Invoking ReAct agent with Action Group and Knowledge Base query\n",
    "Now let's try to invoke our agent with a more complex query that requires a plan that will check for the menu and book a reservation"
   ]
  },
  {
   "cell_type": "code",
   "execution_count": null,
   "id": "4f8116dc-decf-4882-b026-a31e42996675",
   "metadata": {
    "tags": []
   },
   "outputs": [],
   "source": [
    "time.sleep(60)"
   ]
  },
  {
   "cell_type": "code",
   "execution_count": null,
   "id": "7daf6203-d9be-4808-8059-161eb8feeb5f",
   "metadata": {
    "tags": []
   },
   "outputs": [],
   "source": [
    "%%time\n",
    "import uuid\n",
    "session_id:str = str(uuid.uuid1())\n",
    "\n",
    "query = \"What do you serve for dinner? can you make a reservation for 4 people, at 9pm tonight.\"\n",
    "session_state={\n",
    "    \"promptSessionAttributes\": { \n",
    "         \"Customer Name\" : \"Maria\",\n",
    "         \"Today\": today\n",
    "      },\n",
    "}\n",
    "response = invoke_agent_helper(\n",
    "    query, session_id, ra_react_agent_id, ra_react_agent_alias_id, enable_trace=True, session_state=session_state\n",
    ")\n",
    "print(response)"
   ]
  },
  {
   "cell_type": "markdown",
   "id": "f304979b-6b3a-4ba3-9cc7-0c7103c466d2",
   "metadata": {},
   "source": [
    "## Creating ReWoo Agent\n",
    "Over the next cells we will create a ReWoo agent `restaurant-rewoo` using Bedrock Agent's custom orchestrator and we will invoke it with the the same customer orchestrator.\n",
    "\n",
    "The ReWOO technique optimizes performance by generating a complete task plan up front and executing it without checking intermediate outputs.\n",
    "\n",
    "<center>\n",
    "  <img src=\"images/rewoo.png\" width=\"85%\" />\n",
    "</center>\n",
    "\n",
    "This approach minimizes model calls, potentially reducing response times. For tasks where speed is prioritized over iterative adjustments—or where the intermediate reasoning steps should remain hidden for security reasons—ReWOO offers clear advantages over the default ReAct strategy.\n",
    "\n",
    "### Defining agent configuration\n",
    "The agent configuration remains basicaly the same, with the exception of the custom orchestration lambda that needs to be created. The file `lambda_rewoo.py` has the code for the orchestration. \n",
    "\n",
    "The custom orchestrator enables dynamic decision-making and adaptable workflow management through contract-based interactions between Amazon Bedrock Agents and AWS Lambda. The AWS Lambda function acts as the orchestration engine, processing contextual inputs—such as state, conversation history, session parameters, and user requests—to generate instructions and define the state for subsequent actions. Upon receiving user input, Amazon Bedrock Agents uses the custom orchestrator logic and the [Amazon Bedrock Converse API](https://docs.aws.amazon.com/bedrock/latest/APIReference/API_runtime_Converse.html) to manage interactions between the underlying foundation model and various tools, such as action groups, knowledge bases, and guardrails.\n",
    "\n",
    "\n",
    "The following diagram illustrates the flow of interactions between the user, Amazon Bedrock Agents, and the custom orchestrator, which manages the workflow:\n",
    "![custom orchestrator](images/custom_orchestrator.png)"
   ]
  },
  {
   "cell_type": "code",
   "execution_count": null,
   "id": "78d1cb29-28e1-4507-b670-c6a1df0b746b",
   "metadata": {
    "tags": []
   },
   "outputs": [],
   "source": [
    "agent_name_rewoo = 'restaurant-a-rewoo'\n",
    "custom_orchestration_lambda_name = 'rewoo-o-lambda'\n",
    "custom_orchestration_lambda_rewoo = {\n",
    "    'lambda_function_name': custom_orchestration_lambda_name,\n",
    "    'lambda_file_path': 'lambda_rewoo.py'\n",
    "}\n",
    "action_group_config_rewoo = {\n",
    "    'name': 'TableBookingsActionGroup',\n",
    "    'description': 'Actions for getting table booking information, create a new booking or delete an existing booking',\n",
    "    'functions': functions,\n",
    "    'lambda_function_name': f'{agent_name_rewoo}-lambda',\n",
    "    'lambda_file_path': 'lambda_function.py',\n",
    "    'environment': {\n",
    "        'Variables': {\n",
    "            'booking_table_name': f'{agent_name_rewoo}-table'\n",
    "        }\n",
    "    },\n",
    "    'dynamodb_table_name': f'{agent_name_rewoo}-table',\n",
    "    'dynamodb_attribute_name': 'booking_id'\n",
    "}\n",
    "ra_rewoo_agent_id, ra_rewoo_agent_alias_id, ra_rewoo_agent_alias_arn, rewoo_orchestration_lambda_function = create_agent(\n",
    "    agent_name_rewoo,\n",
    "    agent_instruction,\n",
    "    agent_foundation_model=agent_foundation_model,\n",
    "    agent_description=agent_description,\n",
    "    action_group_config=action_group_config_rewoo,\n",
    "    kb_config=kb_config,\n",
    "    custom_orchestration_lambda=custom_orchestration_lambda_rewoo,\n",
    "    create_alias=False\n",
    ")"
   ]
  },
  {
   "cell_type": "markdown",
   "id": "27acb03f-ab5a-499a-8b2f-4bb6b3980249",
   "metadata": {},
   "source": [
    "### Getting created agent configuration\n",
    "Let's now check the agent_id and agent_alias_id values. Those will be required to invoke your agent.\n",
    "As we did not create an agent version, our agent alias is set to the test value of `TSTALIASID`"
   ]
  },
  {
   "cell_type": "code",
   "execution_count": null,
   "id": "9d6e34c3-c2e1-4270-9e04-034e383dad86",
   "metadata": {
    "tags": []
   },
   "outputs": [],
   "source": [
    "ra_rewoo_agent_id, ra_rewoo_agent_alias_id"
   ]
  },
  {
   "cell_type": "markdown",
   "id": "5b4b0b90-e9d3-40de-9029-ba01a7b7dac2",
   "metadata": {},
   "source": [
    "## Invoking ReWoo Agent\n",
    "Next we will invoke the ReWoo agent with a couple of queries. We will still use session attributes to pass the current date and customer name in order to make the agent more relatable with a real life restaurant assistant.\n",
    "\n",
    "To use custom orchestrator, you need to pass the orchestration lambda ARN via `sessionAttribute` in the `sessionState` parameter\n",
    "\n",
    "### Invoking ReWoo agent with action group only query\n",
    "first let's invoke our agent with a query calling only the action group to book a reservation. We will use the magic command `%%time` to measure the latency of our requests"
   ]
  },
  {
   "cell_type": "code",
   "execution_count": null,
   "id": "e67535f9-90bc-43d4-8a74-16a64b2f2526",
   "metadata": {
    "tags": []
   },
   "outputs": [],
   "source": [
    "time.sleep(60)"
   ]
  },
  {
   "cell_type": "code",
   "execution_count": null,
   "id": "1b0b840c-12bf-421d-9105-5610cdf25241",
   "metadata": {
    "tags": []
   },
   "outputs": [],
   "source": [
    "%%time\n",
    "import uuid\n",
    "session_id:str = str(uuid.uuid1())\n",
    "session_state={\n",
    "    \"promptSessionAttributes\": { \n",
    "         \"Customer Name\" : \"John\",\n",
    "         \"Today\": today\n",
    "      },\n",
    "    'sessionAttributes': {\n",
    "        'lambda': rewoo_orchestration_lambda_function['FunctionArn']\n",
    "    }\n",
    "}\n",
    "query = \"Can you make a reservation for 2 people, at 7pm tonight?\"\n",
    "response = invoke_agent_helper(\n",
    "    query, session_id, ra_rewoo_agent_id, ra_rewoo_agent_alias_id, enable_trace=False, session_state=session_state\n",
    ")\n",
    "print(response)"
   ]
  },
  {
   "cell_type": "markdown",
   "id": "f00e459a-8ed6-420d-8236-da40f751375f",
   "metadata": {},
   "source": [
    "### Invoking ReWoo agent with knowledge base query\n",
    "Next we will check what is on the menu in order to invoke our agent with a query to the Knowledge Base only"
   ]
  },
  {
   "cell_type": "code",
   "execution_count": null,
   "id": "1d6bafdd-5233-4c1a-b09a-1d57e8eb6ecd",
   "metadata": {
    "tags": []
   },
   "outputs": [],
   "source": [
    "time.sleep(60)"
   ]
  },
  {
   "cell_type": "code",
   "execution_count": null,
   "id": "e60a6621-4b04-483c-b42d-c3b2d2d1a2db",
   "metadata": {
    "tags": []
   },
   "outputs": [],
   "source": [
    "%%time\n",
    "import uuid\n",
    "session_id:str = str(uuid.uuid1())\n",
    "session_state={\n",
    "    'sessionAttributes': {\n",
    "        'lambda': rewoo_orchestration_lambda_function['FunctionArn']\n",
    "    }\n",
    "}\n",
    "query = \"What do you serve for dinner?\"\n",
    "response = invoke_agent_helper(\n",
    "    query, session_id, ra_rewoo_agent_id, ra_rewoo_agent_alias_id, enable_trace=False, session_state=session_state\n",
    ")\n",
    "print(response)"
   ]
  },
  {
   "cell_type": "markdown",
   "id": "7ff6138e-b646-4b21-b9d0-430e89efe0e9",
   "metadata": {},
   "source": [
    "### Invoking ReWoo agent with Action Group and Knowledge Base query\n",
    "Now let's try to invoke our agent with a more complex query that requires a plan that will check for the menu and book a reservation"
   ]
  },
  {
   "cell_type": "code",
   "execution_count": null,
   "id": "7b1a5164-8539-4d89-a03f-ffe6cac8b300",
   "metadata": {
    "tags": []
   },
   "outputs": [],
   "source": [
    "time.sleep(60)"
   ]
  },
  {
   "cell_type": "code",
   "execution_count": null,
   "id": "2a493118-e519-41c0-a47f-c66e8157233f",
   "metadata": {
    "tags": []
   },
   "outputs": [],
   "source": [
    "%%time\n",
    "import uuid\n",
    "session_id:str = str(uuid.uuid1())\n",
    "query = \"What do you serve for dinner? can you make a reservation for 4 people, at 9pm tonight.\"\n",
    "session_state={\n",
    "    \"promptSessionAttributes\": { \n",
    "         \"Customer Name\" : \"John\",\n",
    "         \"Today\": today\n",
    "      },\n",
    "    'sessionAttributes': {\n",
    "        'lambda': rewoo_orchestration_lambda_function['FunctionArn']\n",
    "    }\n",
    "}\n",
    "response = invoke_agent_helper(\n",
    "    query, session_id, ra_rewoo_agent_id, ra_rewoo_agent_alias_id, enable_trace=True, session_state=session_state\n",
    ")\n",
    "print(response)"
   ]
  },
  {
   "cell_type": "markdown",
   "id": "c18ee9a2-4aca-4df6-bcee-afb0d2b975a2",
   "metadata": {},
   "source": [
    "## Comparing ReAct and ReWoo orchestrations\n",
    "\n",
    "As we can see in the invocations before, the latency to run simple queries in ReAct and ReWoo is similar. However, with complex multi-step queries, the latency to run a ReWoo orchestration is significantly lower. \n",
    "\n",
    "The videos below show case the processing steps to process the query\n",
    "\n",
    "```\n",
    "What do you serve for dinner? can you make a reservation for 4 people, at 9pm tonight.\n",
    "```\n",
    "\n",
    "For this query, **ReAct** will:\n",
    "- create a plan to solve the task 1st checking what is served in the dinner menu and then book a reservation\n",
    "- check the knowledge base for what is served in dinner menu\n",
    "- evaluate if the plan is still proper to solve the task \n",
    "- book the reservation\n",
    "- evaluate if the plan is still proper to solve the task\n",
    "- create a final response with the dinner options and booking reservation"
   ]
  },
  {
   "cell_type": "code",
   "execution_count": null,
   "id": "1a79e6d7-80b7-4bce-a60f-61bac052a4e6",
   "metadata": {
    "tags": []
   },
   "outputs": [],
   "source": [
    "from IPython.display import HTML\n",
    "\n",
    "HTML(\"\"\"\n",
    "<video alt=\"test\" controls width=\"90%\">\n",
    "    <source src=\"images/react_flow.mp4\" type=\"video/mp4\">\n",
    "</video>\n",
    "\"\"\")"
   ]
  },
  {
   "cell_type": "markdown",
   "id": "95a86dba-e784-4b71-a3dc-da9947bfe77b",
   "metadata": {},
   "source": [
    "For the same query, **ReWoo** will:\n",
    "- create a plan to solve the task checking what is served in the dinner menu and booking a reservation\n",
    "- check the knowledege base\n",
    "- book a reservation\n",
    "- create a final response with the dinner options and booking reservation"
   ]
  },
  {
   "cell_type": "code",
   "execution_count": null,
   "id": "4ad326f4-4907-4eee-9fb7-65a0be240898",
   "metadata": {
    "tags": []
   },
   "outputs": [],
   "source": [
    "from IPython.display import HTML\n",
    "\n",
    "HTML(\"\"\"\n",
    "<video alt=\"test\" controls width=\"100%\">\n",
    "    <source src=\"images/rewoo_flow.mp4\" type=\"video/mp4\">\n",
    "</video>\n",
    "\"\"\")"
   ]
  },
  {
   "cell_type": "markdown",
   "id": "6ff412a5-305a-48de-bb16-8dd684c6010d",
   "metadata": {
    "tags": []
   },
   "source": [
    "## [Optional] Clean up\n",
    "\n",
    "In this optional step we will delete the created resources to avoid unecessary costs"
   ]
  },
  {
   "cell_type": "code",
   "execution_count": null,
   "id": "e2b5efdc-d0e8-44c8-94bb-69829f45e5e1",
   "metadata": {
    "tags": []
   },
   "outputs": [],
   "source": [
    "# clean up react agent\n",
    "clean_up_resources(\n",
    "    agent_name_react,\n",
    "    custom_orchestration_lambda_function_name=None,\n",
    "    dynamodb_table=f'{agent_name_react}-table'\n",
    ")"
   ]
  },
  {
   "cell_type": "code",
   "execution_count": null,
   "id": "bc73df4a-14c1-4b52-a26b-88c38e0c11e0",
   "metadata": {},
   "outputs": [],
   "source": [
    "# clean up rewoo agent\n",
    "clean_up_resources(\n",
    "    agent_name_rewoo,\n",
    "    custom_orchestration_lambda_function_name=custom_orchestration_lambda_name,\n",
    "    dynamodb_table=f'{agent_name_rewoo}-table'\n",
    ")"
   ]
  },
  {
   "cell_type": "code",
   "execution_count": null,
   "id": "628c2c8b-01c1-47bc-99b8-a4100af209df",
   "metadata": {
    "tags": []
   },
   "outputs": [],
   "source": [
    "# delete kb\n",
    "kb.delete_kb(\n",
    "    kb_name=knowledge_base_name, delete_s3_bucket=True, delete_iam_roles_and_policies=True\n",
    ")"
   ]
  },
  {
   "cell_type": "markdown",
   "id": "92f1fc39-4e0d-487d-8f9f-29e465ef5a82",
   "metadata": {},
   "source": [
    "## Next Steps\n",
    "\n",
    "Congratulations, you have created your first custom orchestrator agent!\n",
    "\n",
    "As next steps we suggest you experiment with other orchestration strategies. This folder also provides some starting examples for ReAct and ReWoo orchestration using JavaScript and Python code:\n",
    "- `custom_orchestrators_samples/lambda_react.js` file contains a JavaScript implementation of ReAct. \n",
    "- `custom_orchestrators_samples/lambda_react.py` file contains a Python implementation of ReAct. \n",
    "- `custom_orchestrators_samples/lambda_rewoo.js` file contains a JavaScript implementation of ReWoo. \n",
    "\n",
    "You can use these file to change the default behavior of Bedrock Agent's ReAct implementation and to start creating your own orchestration code. \n",
    "\n",
    "**Disclaimer:** Those code samples are provided as a start point for your application. You should validate and update them accordingly to your use case"
   ]
  }
 ],
 "metadata": {
  "availableInstances": [
   {
    "_defaultOrder": 0,
    "_isFastLaunch": true,
    "category": "General purpose",
    "gpuNum": 0,
    "hideHardwareSpecs": false,
    "memoryGiB": 4,
    "name": "ml.t3.medium",
    "vcpuNum": 2
   },
   {
    "_defaultOrder": 1,
    "_isFastLaunch": false,
    "category": "General purpose",
    "gpuNum": 0,
    "hideHardwareSpecs": false,
    "memoryGiB": 8,
    "name": "ml.t3.large",
    "vcpuNum": 2
   },
   {
    "_defaultOrder": 2,
    "_isFastLaunch": false,
    "category": "General purpose",
    "gpuNum": 0,
    "hideHardwareSpecs": false,
    "memoryGiB": 16,
    "name": "ml.t3.xlarge",
    "vcpuNum": 4
   },
   {
    "_defaultOrder": 3,
    "_isFastLaunch": false,
    "category": "General purpose",
    "gpuNum": 0,
    "hideHardwareSpecs": false,
    "memoryGiB": 32,
    "name": "ml.t3.2xlarge",
    "vcpuNum": 8
   },
   {
    "_defaultOrder": 4,
    "_isFastLaunch": true,
    "category": "General purpose",
    "gpuNum": 0,
    "hideHardwareSpecs": false,
    "memoryGiB": 8,
    "name": "ml.m5.large",
    "vcpuNum": 2
   },
   {
    "_defaultOrder": 5,
    "_isFastLaunch": false,
    "category": "General purpose",
    "gpuNum": 0,
    "hideHardwareSpecs": false,
    "memoryGiB": 16,
    "name": "ml.m5.xlarge",
    "vcpuNum": 4
   },
   {
    "_defaultOrder": 6,
    "_isFastLaunch": false,
    "category": "General purpose",
    "gpuNum": 0,
    "hideHardwareSpecs": false,
    "memoryGiB": 32,
    "name": "ml.m5.2xlarge",
    "vcpuNum": 8
   },
   {
    "_defaultOrder": 7,
    "_isFastLaunch": false,
    "category": "General purpose",
    "gpuNum": 0,
    "hideHardwareSpecs": false,
    "memoryGiB": 64,
    "name": "ml.m5.4xlarge",
    "vcpuNum": 16
   },
   {
    "_defaultOrder": 8,
    "_isFastLaunch": false,
    "category": "General purpose",
    "gpuNum": 0,
    "hideHardwareSpecs": false,
    "memoryGiB": 128,
    "name": "ml.m5.8xlarge",
    "vcpuNum": 32
   },
   {
    "_defaultOrder": 9,
    "_isFastLaunch": false,
    "category": "General purpose",
    "gpuNum": 0,
    "hideHardwareSpecs": false,
    "memoryGiB": 192,
    "name": "ml.m5.12xlarge",
    "vcpuNum": 48
   },
   {
    "_defaultOrder": 10,
    "_isFastLaunch": false,
    "category": "General purpose",
    "gpuNum": 0,
    "hideHardwareSpecs": false,
    "memoryGiB": 256,
    "name": "ml.m5.16xlarge",
    "vcpuNum": 64
   },
   {
    "_defaultOrder": 11,
    "_isFastLaunch": false,
    "category": "General purpose",
    "gpuNum": 0,
    "hideHardwareSpecs": false,
    "memoryGiB": 384,
    "name": "ml.m5.24xlarge",
    "vcpuNum": 96
   },
   {
    "_defaultOrder": 12,
    "_isFastLaunch": false,
    "category": "General purpose",
    "gpuNum": 0,
    "hideHardwareSpecs": false,
    "memoryGiB": 8,
    "name": "ml.m5d.large",
    "vcpuNum": 2
   },
   {
    "_defaultOrder": 13,
    "_isFastLaunch": false,
    "category": "General purpose",
    "gpuNum": 0,
    "hideHardwareSpecs": false,
    "memoryGiB": 16,
    "name": "ml.m5d.xlarge",
    "vcpuNum": 4
   },
   {
    "_defaultOrder": 14,
    "_isFastLaunch": false,
    "category": "General purpose",
    "gpuNum": 0,
    "hideHardwareSpecs": false,
    "memoryGiB": 32,
    "name": "ml.m5d.2xlarge",
    "vcpuNum": 8
   },
   {
    "_defaultOrder": 15,
    "_isFastLaunch": false,
    "category": "General purpose",
    "gpuNum": 0,
    "hideHardwareSpecs": false,
    "memoryGiB": 64,
    "name": "ml.m5d.4xlarge",
    "vcpuNum": 16
   },
   {
    "_defaultOrder": 16,
    "_isFastLaunch": false,
    "category": "General purpose",
    "gpuNum": 0,
    "hideHardwareSpecs": false,
    "memoryGiB": 128,
    "name": "ml.m5d.8xlarge",
    "vcpuNum": 32
   },
   {
    "_defaultOrder": 17,
    "_isFastLaunch": false,
    "category": "General purpose",
    "gpuNum": 0,
    "hideHardwareSpecs": false,
    "memoryGiB": 192,
    "name": "ml.m5d.12xlarge",
    "vcpuNum": 48
   },
   {
    "_defaultOrder": 18,
    "_isFastLaunch": false,
    "category": "General purpose",
    "gpuNum": 0,
    "hideHardwareSpecs": false,
    "memoryGiB": 256,
    "name": "ml.m5d.16xlarge",
    "vcpuNum": 64
   },
   {
    "_defaultOrder": 19,
    "_isFastLaunch": false,
    "category": "General purpose",
    "gpuNum": 0,
    "hideHardwareSpecs": false,
    "memoryGiB": 384,
    "name": "ml.m5d.24xlarge",
    "vcpuNum": 96
   },
   {
    "_defaultOrder": 20,
    "_isFastLaunch": false,
    "category": "General purpose",
    "gpuNum": 0,
    "hideHardwareSpecs": true,
    "memoryGiB": 0,
    "name": "ml.geospatial.interactive",
    "supportedImageNames": [
     "sagemaker-geospatial-v1-0"
    ],
    "vcpuNum": 0
   },
   {
    "_defaultOrder": 21,
    "_isFastLaunch": true,
    "category": "Compute optimized",
    "gpuNum": 0,
    "hideHardwareSpecs": false,
    "memoryGiB": 4,
    "name": "ml.c5.large",
    "vcpuNum": 2
   },
   {
    "_defaultOrder": 22,
    "_isFastLaunch": false,
    "category": "Compute optimized",
    "gpuNum": 0,
    "hideHardwareSpecs": false,
    "memoryGiB": 8,
    "name": "ml.c5.xlarge",
    "vcpuNum": 4
   },
   {
    "_defaultOrder": 23,
    "_isFastLaunch": false,
    "category": "Compute optimized",
    "gpuNum": 0,
    "hideHardwareSpecs": false,
    "memoryGiB": 16,
    "name": "ml.c5.2xlarge",
    "vcpuNum": 8
   },
   {
    "_defaultOrder": 24,
    "_isFastLaunch": false,
    "category": "Compute optimized",
    "gpuNum": 0,
    "hideHardwareSpecs": false,
    "memoryGiB": 32,
    "name": "ml.c5.4xlarge",
    "vcpuNum": 16
   },
   {
    "_defaultOrder": 25,
    "_isFastLaunch": false,
    "category": "Compute optimized",
    "gpuNum": 0,
    "hideHardwareSpecs": false,
    "memoryGiB": 72,
    "name": "ml.c5.9xlarge",
    "vcpuNum": 36
   },
   {
    "_defaultOrder": 26,
    "_isFastLaunch": false,
    "category": "Compute optimized",
    "gpuNum": 0,
    "hideHardwareSpecs": false,
    "memoryGiB": 96,
    "name": "ml.c5.12xlarge",
    "vcpuNum": 48
   },
   {
    "_defaultOrder": 27,
    "_isFastLaunch": false,
    "category": "Compute optimized",
    "gpuNum": 0,
    "hideHardwareSpecs": false,
    "memoryGiB": 144,
    "name": "ml.c5.18xlarge",
    "vcpuNum": 72
   },
   {
    "_defaultOrder": 28,
    "_isFastLaunch": false,
    "category": "Compute optimized",
    "gpuNum": 0,
    "hideHardwareSpecs": false,
    "memoryGiB": 192,
    "name": "ml.c5.24xlarge",
    "vcpuNum": 96
   },
   {
    "_defaultOrder": 29,
    "_isFastLaunch": true,
    "category": "Accelerated computing",
    "gpuNum": 1,
    "hideHardwareSpecs": false,
    "memoryGiB": 16,
    "name": "ml.g4dn.xlarge",
    "vcpuNum": 4
   },
   {
    "_defaultOrder": 30,
    "_isFastLaunch": false,
    "category": "Accelerated computing",
    "gpuNum": 1,
    "hideHardwareSpecs": false,
    "memoryGiB": 32,
    "name": "ml.g4dn.2xlarge",
    "vcpuNum": 8
   },
   {
    "_defaultOrder": 31,
    "_isFastLaunch": false,
    "category": "Accelerated computing",
    "gpuNum": 1,
    "hideHardwareSpecs": false,
    "memoryGiB": 64,
    "name": "ml.g4dn.4xlarge",
    "vcpuNum": 16
   },
   {
    "_defaultOrder": 32,
    "_isFastLaunch": false,
    "category": "Accelerated computing",
    "gpuNum": 1,
    "hideHardwareSpecs": false,
    "memoryGiB": 128,
    "name": "ml.g4dn.8xlarge",
    "vcpuNum": 32
   },
   {
    "_defaultOrder": 33,
    "_isFastLaunch": false,
    "category": "Accelerated computing",
    "gpuNum": 4,
    "hideHardwareSpecs": false,
    "memoryGiB": 192,
    "name": "ml.g4dn.12xlarge",
    "vcpuNum": 48
   },
   {
    "_defaultOrder": 34,
    "_isFastLaunch": false,
    "category": "Accelerated computing",
    "gpuNum": 1,
    "hideHardwareSpecs": false,
    "memoryGiB": 256,
    "name": "ml.g4dn.16xlarge",
    "vcpuNum": 64
   },
   {
    "_defaultOrder": 35,
    "_isFastLaunch": false,
    "category": "Accelerated computing",
    "gpuNum": 1,
    "hideHardwareSpecs": false,
    "memoryGiB": 61,
    "name": "ml.p3.2xlarge",
    "vcpuNum": 8
   },
   {
    "_defaultOrder": 36,
    "_isFastLaunch": false,
    "category": "Accelerated computing",
    "gpuNum": 4,
    "hideHardwareSpecs": false,
    "memoryGiB": 244,
    "name": "ml.p3.8xlarge",
    "vcpuNum": 32
   },
   {
    "_defaultOrder": 37,
    "_isFastLaunch": false,
    "category": "Accelerated computing",
    "gpuNum": 8,
    "hideHardwareSpecs": false,
    "memoryGiB": 488,
    "name": "ml.p3.16xlarge",
    "vcpuNum": 64
   },
   {
    "_defaultOrder": 38,
    "_isFastLaunch": false,
    "category": "Accelerated computing",
    "gpuNum": 8,
    "hideHardwareSpecs": false,
    "memoryGiB": 768,
    "name": "ml.p3dn.24xlarge",
    "vcpuNum": 96
   },
   {
    "_defaultOrder": 39,
    "_isFastLaunch": false,
    "category": "Memory Optimized",
    "gpuNum": 0,
    "hideHardwareSpecs": false,
    "memoryGiB": 16,
    "name": "ml.r5.large",
    "vcpuNum": 2
   },
   {
    "_defaultOrder": 40,
    "_isFastLaunch": false,
    "category": "Memory Optimized",
    "gpuNum": 0,
    "hideHardwareSpecs": false,
    "memoryGiB": 32,
    "name": "ml.r5.xlarge",
    "vcpuNum": 4
   },
   {
    "_defaultOrder": 41,
    "_isFastLaunch": false,
    "category": "Memory Optimized",
    "gpuNum": 0,
    "hideHardwareSpecs": false,
    "memoryGiB": 64,
    "name": "ml.r5.2xlarge",
    "vcpuNum": 8
   },
   {
    "_defaultOrder": 42,
    "_isFastLaunch": false,
    "category": "Memory Optimized",
    "gpuNum": 0,
    "hideHardwareSpecs": false,
    "memoryGiB": 128,
    "name": "ml.r5.4xlarge",
    "vcpuNum": 16
   },
   {
    "_defaultOrder": 43,
    "_isFastLaunch": false,
    "category": "Memory Optimized",
    "gpuNum": 0,
    "hideHardwareSpecs": false,
    "memoryGiB": 256,
    "name": "ml.r5.8xlarge",
    "vcpuNum": 32
   },
   {
    "_defaultOrder": 44,
    "_isFastLaunch": false,
    "category": "Memory Optimized",
    "gpuNum": 0,
    "hideHardwareSpecs": false,
    "memoryGiB": 384,
    "name": "ml.r5.12xlarge",
    "vcpuNum": 48
   },
   {
    "_defaultOrder": 45,
    "_isFastLaunch": false,
    "category": "Memory Optimized",
    "gpuNum": 0,
    "hideHardwareSpecs": false,
    "memoryGiB": 512,
    "name": "ml.r5.16xlarge",
    "vcpuNum": 64
   },
   {
    "_defaultOrder": 46,
    "_isFastLaunch": false,
    "category": "Memory Optimized",
    "gpuNum": 0,
    "hideHardwareSpecs": false,
    "memoryGiB": 768,
    "name": "ml.r5.24xlarge",
    "vcpuNum": 96
   },
   {
    "_defaultOrder": 47,
    "_isFastLaunch": false,
    "category": "Accelerated computing",
    "gpuNum": 1,
    "hideHardwareSpecs": false,
    "memoryGiB": 16,
    "name": "ml.g5.xlarge",
    "vcpuNum": 4
   },
   {
    "_defaultOrder": 48,
    "_isFastLaunch": false,
    "category": "Accelerated computing",
    "gpuNum": 1,
    "hideHardwareSpecs": false,
    "memoryGiB": 32,
    "name": "ml.g5.2xlarge",
    "vcpuNum": 8
   },
   {
    "_defaultOrder": 49,
    "_isFastLaunch": false,
    "category": "Accelerated computing",
    "gpuNum": 1,
    "hideHardwareSpecs": false,
    "memoryGiB": 64,
    "name": "ml.g5.4xlarge",
    "vcpuNum": 16
   },
   {
    "_defaultOrder": 50,
    "_isFastLaunch": false,
    "category": "Accelerated computing",
    "gpuNum": 1,
    "hideHardwareSpecs": false,
    "memoryGiB": 128,
    "name": "ml.g5.8xlarge",
    "vcpuNum": 32
   },
   {
    "_defaultOrder": 51,
    "_isFastLaunch": false,
    "category": "Accelerated computing",
    "gpuNum": 1,
    "hideHardwareSpecs": false,
    "memoryGiB": 256,
    "name": "ml.g5.16xlarge",
    "vcpuNum": 64
   },
   {
    "_defaultOrder": 52,
    "_isFastLaunch": false,
    "category": "Accelerated computing",
    "gpuNum": 4,
    "hideHardwareSpecs": false,
    "memoryGiB": 192,
    "name": "ml.g5.12xlarge",
    "vcpuNum": 48
   },
   {
    "_defaultOrder": 53,
    "_isFastLaunch": false,
    "category": "Accelerated computing",
    "gpuNum": 4,
    "hideHardwareSpecs": false,
    "memoryGiB": 384,
    "name": "ml.g5.24xlarge",
    "vcpuNum": 96
   },
   {
    "_defaultOrder": 54,
    "_isFastLaunch": false,
    "category": "Accelerated computing",
    "gpuNum": 8,
    "hideHardwareSpecs": false,
    "memoryGiB": 768,
    "name": "ml.g5.48xlarge",
    "vcpuNum": 192
   },
   {
    "_defaultOrder": 55,
    "_isFastLaunch": false,
    "category": "Accelerated computing",
    "gpuNum": 8,
    "hideHardwareSpecs": false,
    "memoryGiB": 1152,
    "name": "ml.p4d.24xlarge",
    "vcpuNum": 96
   },
   {
    "_defaultOrder": 56,
    "_isFastLaunch": false,
    "category": "Accelerated computing",
    "gpuNum": 8,
    "hideHardwareSpecs": false,
    "memoryGiB": 1152,
    "name": "ml.p4de.24xlarge",
    "vcpuNum": 96
   },
   {
    "_defaultOrder": 57,
    "_isFastLaunch": false,
    "category": "Accelerated computing",
    "gpuNum": 0,
    "hideHardwareSpecs": false,
    "memoryGiB": 32,
    "name": "ml.trn1.2xlarge",
    "vcpuNum": 8
   },
   {
    "_defaultOrder": 58,
    "_isFastLaunch": false,
    "category": "Accelerated computing",
    "gpuNum": 0,
    "hideHardwareSpecs": false,
    "memoryGiB": 512,
    "name": "ml.trn1.32xlarge",
    "vcpuNum": 128
   },
   {
    "_defaultOrder": 59,
    "_isFastLaunch": false,
    "category": "Accelerated computing",
    "gpuNum": 0,
    "hideHardwareSpecs": false,
    "memoryGiB": 512,
    "name": "ml.trn1n.32xlarge",
    "vcpuNum": 128
   }
  ],
  "instance_type": "ml.t3.medium",
  "kernelspec": {
   "display_name": "Python 3 (ipykernel)",
   "language": "python",
   "name": "python3"
  },
  "language_info": {
   "codemirror_mode": {
    "name": "ipython",
    "version": 3
   },
   "file_extension": ".py",
   "mimetype": "text/x-python",
   "name": "python",
   "nbconvert_exporter": "python",
   "pygments_lexer": "ipython3",
   "version": "3.11.11"
  }
 },
 "nbformat": 4,
 "nbformat_minor": 5
}
