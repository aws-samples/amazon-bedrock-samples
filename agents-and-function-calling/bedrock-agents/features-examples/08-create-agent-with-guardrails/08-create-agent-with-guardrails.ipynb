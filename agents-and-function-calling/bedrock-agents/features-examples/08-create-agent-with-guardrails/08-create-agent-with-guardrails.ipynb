{
 "cells": [
  {
   "cell_type": "markdown",
   "id": "a0bb5c39-2fde-4336-8127-8debe7cb2741",
   "metadata": {
    "pycharm": {
     "name": "#%% md\n"
    }
   },
   "source": [
    "# Creating Agent with Amazon Bedrock Guardrails integration \n",
    "\n",
    "In this folder, we provide an example of creating an agent with Amazon Bedrock and integrating it with a [Amazon Bedrock Guardrails](https://aws.amazon.com/bedrock/guardrails/), a\n",
    "[Amazon Bedrock Knowledge Base](https://aws.amazon.com/bedrock/knowledge-bases/) and with an action group. \n",
    "With this integration, the agent will be able to respond to a user query by taking a sequence of actions, \n",
    "consulting the knowledge base to obtain more information, and/or executing tasks using the lambda function \n",
    "connected with an Action Group. For each interaction the Guardrail for Amazon Bedrock provides an extra layer of \n",
    "security to the application, validating the user input and the agent output for the topic denial defined in the \n",
    "guardrail and blocking the necessary requests.\n",
    "\n",
    "## Use case\n",
    "In this example, we will create a banking assistant agent that allows users to:\n",
    "- check account balance,\n",
    "- book a new appointment with the bank and\n",
    "- answer general questions\n",
    "\n",
    "This assistant does **not** provide investment advice to the users and to better validate this requirement, \n",
    "a guardrail denying investments advice topics is added to the application.\n",
    "\n",
    "The action Group `CustomerSupportActionGroup` provides the functionalities for account balance checking and \n",
    "appointment reservations while a Knowledge Base for Amazon Bedrock indexes documents containing frequently asked \n",
    "questions to an [OpenSearch Serverless](https://aws.amazon.com/opensearch-service/features/serverless/) vector database.\n",
    "\n",
    "For this use case we will use the made up scenario of a situation where accidentally some investment advice data \n",
    "was added to the FAQs documented indexed by the Knowledge Base. \n",
    "\n",
    "As the bank our agent should not provide any investment advice, a guardrail is defined to block the investment \n",
    "advise topic. Its definition looks as following:\n",
    "\n",
    "```\n",
    "response = bedrock_client.create_guardrail(\n",
    "    name='BankingAssistantGuardrail',\n",
    "    description='Guardrail for online banking assistant to help users with banking and account related questions',\n",
    "    topicPolicyConfig={\n",
    "        'topicsConfig': [\n",
    "            {\n",
    "                'name': 'Investment Advice',\n",
    "                'definition': 'Investment advice refers to professional guidance or recommendations provided to individuals or entities regarding the management and allocation of their financial assets.',\n",
    "                'examples': [\n",
    "                    'Should I buy gold?',\n",
    "                    'Is investing in stocks better than bonds?',\n",
    "                    'When is it a good idea to invest in gold?',\n",
    "                ],\n",
    "                'type': 'DENY'\n",
    "            },\n",
    "        ]\n",
    "    },\n",
    "    blockedInputMessaging='Sorry, your query violates our usage policies. We do not provide investment advices. To discuss the best investment advice for your current situation, please contact us on (XXX) XXX-XXXX and we will be happy to support you.',\n",
    "    blockedOutputsMessaging='Sorry, I am unable to reply. Please contact us on (XXX) XXX-XXXX and we will be happy to support you.',\n",
    ")\n",
    "```\n",
    "\n",
    "\n",
    "## Agent Architecture\n",
    "\n",
    "<img src=\"images/architecture.png\" style=\"width:70%;display:block;margin: 0 auto;\">\n",
    "<br/>\n",
    "\n",
    "The action group created in this example uses \n",
    "[function details](https://docs.aws.amazon.com/bedrock/latest/userguide/agents-action-function.html) to define the \n",
    "functionalities for `check_balance`, `book_appointment`. The action group execution connects with a Lambda function. \n",
    "No real functionality is implemented for this agent and the functions used in the lambda function return hardcoded values. \n",
    "For a real-life application, you should implement the `check_balance` and `book_appointment` functions to connect with \n",
    "available databases"
   ]
  },
  {
   "cell_type": "markdown",
   "id": "076a5aba-9735-4e98-8a53-0daccd7e94b0",
   "metadata": {
    "pycharm": {
     "name": "#%% md\n"
    }
   },
   "source": [
    "## 1. Import the needed libraries"
   ]
  },
  {
   "cell_type": "markdown",
   "id": "4fa67d7a",
   "metadata": {
    "pycharm": {
     "name": "#%% md\n"
    }
   },
   "source": [
    "First step is to install the pre-requisites packages"
   ]
  },
  {
   "cell_type": "code",
   "execution_count": null,
   "id": "ac05c073-d45b-4d85-9bf8-ae10aa78be8d",
   "metadata": {
    "pycharm": {
     "name": "#%%\n"
    },
    "tags": []
   },
   "outputs": [],
   "source": [
    "!pip install --upgrade -q -r requirements.txt"
   ]
  },
  {
   "cell_type": "code",
   "execution_count": null,
   "id": "e8ad6ec2-b283-4c5d-879f-e397e46568c0",
   "metadata": {
    "pycharm": {
     "name": "#%%\n"
    },
    "tags": []
   },
   "outputs": [],
   "source": [
    "import os\n",
    "import time\n",
    "import boto3\n",
    "import logging\n",
    "import pprint\n",
    "import json\n",
    "\n",
    "from knowledge_base import KnowledgeBasesForAmazonBedrock\n",
    "from agent import AgentsForAmazonBedrock"
   ]
  },
  {
   "cell_type": "code",
   "execution_count": null,
   "id": "d2b2d607-c1f2-4cbb-9f89-d935676e0101",
   "metadata": {
    "pycharm": {
     "name": "#%%\n"
    },
    "tags": []
   },
   "outputs": [],
   "source": [
    "#Clients\n",
    "s3_client = boto3.client('s3')\n",
    "sts_client = boto3.client('sts')\n",
    "session = boto3.session.Session()\n",
    "region = session.region_name\n",
    "account_id = sts_client.get_caller_identity()[\"Account\"]\n",
    "bedrock_agent_client = boto3.client('bedrock-agent')\n",
    "bedrock_agent_runtime_client = boto3.client('bedrock-agent-runtime')\n",
    "bedrock_client = boto3.client('bedrock')\n",
    "logging.basicConfig(format='[%(asctime)s] p%(process)s {%(filename)s:%(lineno)d} %(levelname)s - %(message)s', level=logging.INFO)\n",
    "logger = logging.getLogger(__name__)\n",
    "region, account_id"
   ]
  },
  {
   "cell_type": "code",
   "execution_count": null,
   "id": "d647d2a3",
   "metadata": {
    "pycharm": {
     "name": "#%%\n"
    },
    "tags": []
   },
   "outputs": [],
   "source": [
    "suffix = f\"{region}-{account_id}\"\n",
    "agent_name = 'banking-assistant1q11'\n",
    "knowledge_base_name = f'{agent_name}-kb'\n",
    "knowledge_base_description = \"Knowledge Base that provides FAQ documentation for the banking assistant agent\"\n",
    "agent_alias_name = \"banking-agent-alias\"\n",
    "bucket_name = f'{agent_name}-{suffix}'\n",
    "agent_bedrock_allow_policy_name = f\"{agent_name}-ba\"\n",
    "agent_role_name = f'AmazonBedrockExecutionRoleForAgents_{agent_name}'\n",
    "agent_foundation_model = \"anthropic.claude-3-sonnet-20240229-v1:0\"\n",
    "\n",
    "agent_description = \"Online Banking assistant agents\"\n",
    "agent_instruction = \"\"\"\n",
    "You are an agent designed to assist customers from the ANY_BANK Corporation with online banking queries. \n",
    "You ALWAYS reply politely and concise using ONLY the available information in the ba_kb knowledge base or the data retrieved via the banking-assistant action group.\n",
    "\n",
    "You also add the name ANY_BANK Corporation to your first answer in a session. You should start with an acknowledgement of the customer's query and thanking the customer for contacting you.\n",
    "\n",
    "Introduce yourself as the \"ANY_BANK Corporation AI Assistant\".\n",
    "\n",
    "NEVER provide account balances or book appointments without first confirming the customer's user_id\n",
    "\"\"\""
   ]
  },
  {
   "cell_type": "markdown",
   "id": "38c38fcb-9b87-414e-a644-04c263eea5c9",
   "metadata": {
    "pycharm": {
     "name": "#%% md\n"
    }
   },
   "source": [
    "## 2. Create Knowledge Base for Amazon Bedrock\n",
    "Let's start by creating a [Knowledge Base for Amazon Bedrock](https://aws.amazon.com/bedrock/knowledge-bases/) to store the restaurant menus. Knowledge Bases allow you to integrate with different vector databases including [Amazon OpenSearch Serverless](https://aws.amazon.com/opensearch-service/features/serverless/), [Amazon Aurora](https://aws.amazon.com/rds/aurora/) and [Pinecone](http://app.pinecone.io/bedrock-integration). For this example, we will integrate the knowledge base with Amazon OpenSearch Serverless. To do so, we will use the helper class `BedrockKnowledgeBase` which will create the knowledge base and all of its pre-requisites:\n",
    "1. IAM roles and policies\n",
    "2. S3 bucket\n",
    "3. Amazon OpenSearch Serverless encryption, network and data access policies\n",
    "4. Amazon OpenSearch Serverless collection\n",
    "5. Amazon OpenSearch Serverless vector index\n",
    "6. Knowledge base\n",
    "7. Knowledge base data source"
   ]
  },
  {
   "cell_type": "code",
   "execution_count": null,
   "id": "2c39c2d9-7965-4c22-a74b-65d1961c4166",
   "metadata": {
    "pycharm": {
     "name": "#%%\n"
    },
    "tags": []
   },
   "outputs": [],
   "source": [
    "knowledge_base = KnowledgeBasesForAmazonBedrock()\n",
    "kb_id, ds_id = knowledge_base.create_or_retrieve_knowledge_base(\n",
    "    knowledge_base_name, knowledge_base_description, data_bucket_name=bucket_name\n",
    ")"
   ]
  },
  {
   "cell_type": "markdown",
   "id": "c6b5819d-93a9-44d3-8eaa-5ed1da6a8c95",
   "metadata": {
    "pycharm": {
     "name": "#%% md\n"
    }
   },
   "source": [
    "## 3. Upload the dataset to Amazon S3\n",
    "Now that we have created the knowledge base, let's populate it with the menu's dataset. The Knowledge Base data source expects the data to be available on the S3 bucket connected to it and changes on the data can be syncronized to the knowledge base using the `StartIngestionJob` API call. In this example we will use the [boto3 abstraction](https://boto3.amazonaws.com/v1/documentation/api/latest/reference/services/bedrock-agent/client/start_ingestion_job.html) of the API, via our helper classe. \n",
    "\n",
    "Let's first upload the menu's data available on the `dataset` folder to s3"
   ]
  },
  {
   "cell_type": "code",
   "execution_count": null,
   "id": "ceecf498-e42e-4fdd-ad2e-e646a4ef4adb",
   "metadata": {
    "pycharm": {
     "name": "#%%\n"
    },
    "tags": []
   },
   "outputs": [],
   "source": [
    "def upload_directory(path, bucket_name):\n",
    "        for root,dirs,files in os.walk(path):\n",
    "            for file in files:\n",
    "                file_to_upload = os.path.join(root,file)\n",
    "                print(f\"uploading file {file_to_upload} to {bucket_name}\")\n",
    "                s3_client.upload_file(file_to_upload,bucket_name,file)\n",
    "\n",
    "upload_directory(\"dataset\", bucket_name)"
   ]
  },
  {
   "cell_type": "markdown",
   "id": "48e46273-0267-4ecb-a686-2b1694b5a604",
   "metadata": {
    "pycharm": {
     "name": "#%% md\n"
    }
   },
   "source": [
    "Now we start the ingestion job"
   ]
  },
  {
   "cell_type": "code",
   "execution_count": null,
   "id": "1bb7a9bc-5bba-4066-8fa3-a4c5a1385e95",
   "metadata": {
    "pycharm": {
     "name": "#%%\n"
    },
    "tags": []
   },
   "outputs": [],
   "source": [
    "# ensure that the kb is available\n",
    "time.sleep(30)\n",
    "# sync knowledge base\n",
    "knowledge_base.synchronize_data(kb_id, ds_id)"
   ]
  },
  {
   "cell_type": "markdown",
   "id": "315e0df7-4008-4fb4-b28d-a4df6ff446f6",
   "metadata": {
    "pycharm": {
     "name": "#%% md\n"
    }
   },
   "source": [
    "### 3.1 Test the Knowledge Base\n",
    "Now the Knowlegde Base is available we can test it out using the [**retrieve**](https://boto3.amazonaws.com/v1/documentation/api/latest/reference/services/bedrock-agent-runtime/client/retrieve.html) and [**retrieve_and_generate**](https://boto3.amazonaws.com/v1/documentation/api/latest/reference/services/bedrock-agent-runtime/client/retrieve_and_generate.html) functions. \n",
    "\n",
    "#### Testing Knowledge Base with Retrieve and Generate API\n",
    "\n",
    "Let's first test the knowledge base using the retrieve and generate API. With this API, Bedrock takes care of retrieving the necessary references from the knowledge base and generating the final answer using a LLM model from Bedrock"
   ]
  },
  {
   "cell_type": "code",
   "execution_count": null,
   "id": "f199e822-6e06-4bac-9dbf-40ff0be98598",
   "metadata": {
    "pycharm": {
     "name": "#%%\n"
    },
    "tags": []
   },
   "outputs": [],
   "source": [
    "time.sleep(30)\n",
    "\n",
    "response = bedrock_agent_runtime_client.retrieve_and_generate(\n",
    "    input={\n",
    "        \"text\": \"Should I invest in bitcoin\"\n",
    "    },\n",
    "    retrieveAndGenerateConfiguration={\n",
    "        \"type\": \"KNOWLEDGE_BASE\",\n",
    "        \"knowledgeBaseConfiguration\": {\n",
    "            'knowledgeBaseId': kb_id,\n",
    "            \"modelArn\": \"arn:aws:bedrock:{}::foundation-model/{}\".format(region, agent_foundation_model),\n",
    "            \"retrievalConfiguration\": {\n",
    "                \"vectorSearchConfiguration\": {\n",
    "                    \"numberOfResults\":1\n",
    "                } \n",
    "            }\n",
    "        }\n",
    "    }\n",
    ")\n",
    "\n",
    "print(response['output']['text'],end='\\n'*2)"
   ]
  },
  {
   "cell_type": "markdown",
   "id": "e6e4235c",
   "metadata": {
    "pycharm": {
     "name": "#%% md\n"
    }
   },
   "source": [
    "As you can see, with the retrieve and generate API we get the final response directly and we don't see the different sources used to generate this response. Let's now retrieve the source information from the knowledge base with the retrieve API.\n",
    "\n",
    "#### Testing Knowledge Base with Retrieve API\n",
    "If you need an extra layer of control, you can retrieve the chuncks that best match your query using the retrieve API. In this setup, we can configure the desired number of results and control the final answer with your own application logic. The API then provides you with the matching content, its S3 location, the similarity score and the chunk metadata"
   ]
  },
  {
   "cell_type": "code",
   "execution_count": null,
   "id": "34a3f96b-926a-411c-bef7-38c4689fed7b",
   "metadata": {
    "pycharm": {
     "name": "#%%\n"
    },
    "tags": []
   },
   "outputs": [],
   "source": [
    "response_ret = bedrock_agent_runtime_client.retrieve(\n",
    "    knowledgeBaseId=kb_id, \n",
    "    nextToken='string',\n",
    "    retrievalConfiguration={\n",
    "        \"vectorSearchConfiguration\": {\n",
    "            \"numberOfResults\":5,\n",
    "        } \n",
    "    },\n",
    "    retrievalQuery={\n",
    "        'text': 'What is my account value?'\n",
    "    }\n",
    ")\n",
    "\n",
    "def response_print(retrieve_resp):\n",
    "#structure 'retrievalResults': list of contents. Each list has content, location, score, metadata\n",
    "    for num,chunk in enumerate(response_ret['retrievalResults'],1):\n",
    "        print(f'Chunk {num}: ',chunk['content']['text'],end='\\n'*2)\n",
    "        print(f'Chunk {num} Location: ',chunk['location'],end='\\n'*2)\n",
    "        print(f'Chunk {num} Score: ',chunk['score'],end='\\n'*2)\n",
    "        print(f'Chunk {num} Metadata: ',chunk['metadata'],end='\\n'*2)\n",
    "\n",
    "response_print(response_ret)"
   ]
  },
  {
   "cell_type": "markdown",
   "id": "4b131ada-ede5-4fa9-a11b-d11b6a8b12ee",
   "metadata": {
    "tags": []
   },
   "source": [
    "## 4. Create the Agent for Amazon Bedrock\n",
    "\n",
    "In this section we will go through all the steps to create an Agent for Amazon Bedrock with a Guardrail. \n",
    "\n",
    "These are the steps to complete:\n",
    "1. Create the Agent\n",
    "1. Create the Agent Action Group\n",
    "    1. Create an AWS Lambda function\n",
    "    1. Allow the Agent to invoke the Action Group Lambda\n",
    "1. Associate the Knowledge Base to the agent\n",
    "    1. Prepare agent without guardrail\n",
    "    1. Test agent without guardrail"
   ]
  },
  {
   "cell_type": "markdown",
   "id": "a8e0734a-82ce-4524-b02f-446ff80c54d4",
   "metadata": {
    "pycharm": {
     "name": "#%% md\n"
    }
   },
   "source": [
    "#### Create the required permissions\n",
    "Now let's also create the lambda role and its required policies. For this case, we need the lambda to be able to access DynamoDB, that is why we also create a DynamoDB policy and attach to our Lambda. To do so, we will use the support function `create_lambda_role`."
   ]
  },
  {
   "cell_type": "markdown",
   "id": "71b184da-0254-4ff7-a19f-2053a86e0582",
   "metadata": {
    "pycharm": {
     "name": "#%% md\n"
    }
   },
   "source": [
    "#### Create the function\n",
    "\n",
    "Now that we have the Lambda function code and its execution role, let's package it into a Zip file and create the Lambda resources"
   ]
  },
  {
   "cell_type": "markdown",
   "id": "855bf5e0-0345-466f-96dd-4fd436455539",
   "metadata": {
    "pycharm": {
     "name": "#%% md\n"
    }
   },
   "source": [
    "### 4.1 - Create the Agent\n",
    "Now that we have created the Knowledge Base and the Lambda function to execute the tasks for our agent, let's start creating our Agent.\n",
    "\n",
    "First need to create the agent policies that allow bedrock model invocation and Knowledge Base query and the agent IAM role with the policy associated to it. We will allow this agent to invoke the Claude Sonnet model. Then we would need to actually create the agent while associating that role with the agent using (https://boto3.amazonaws.com/v1/documentation/api/latest/reference/services/bedrock-agent/client/create_agent.html) api from boto3. It requires an agent name, underline foundation model and instruction. You can also provide an agent description.\n",
    "\n",
    "Here we use the [`create_agent`] function from agent.py to both create the IAM role and the Agent itself  \n",
    "\n",
    "Note that the agent created is not yet prepared. We will focus on preparing the agent and then using it to invoke actions and use other APIs"
   ]
  },
  {
   "cell_type": "code",
   "execution_count": null,
   "id": "1021cade-ceea-498b-900d-fb1c5a7916e8",
   "metadata": {
    "pycharm": {
     "name": "#%%\n"
    },
    "tags": []
   },
   "outputs": [],
   "source": [
    "kb_arn =  f\"arn:aws:bedrock:{region}:{account_id}:knowledge-base/{kb_id}\"\n",
    "agents = AgentsForAmazonBedrock()\n",
    "agent_id = agents.create_agent(agent_name, agent_description, agent_instruction, [agent_foundation_model], kb_arns=[kb_arn])\n",
    "print(agent_id)"
   ]
  },
  {
   "cell_type": "markdown",
   "id": "5aa08820-a629-4530-aab9-c1bdab51d7e5",
   "metadata": {},
   "source": [
    "### 4.2 Create the Agent Action Group\n",
    "We will now create an agent action group that uses the lambda function created before. The [`create_agent_action_group`](https://boto3.amazonaws.com/v1/documentation/api/latest/reference/services/bedrock-agent/client/create_agent_action_group.html) function provides this functionality. We will use `DRAFT` as the agent version since we haven't yet created an agent version or alias. To inform the agent about the action group functionalities, we will provide an action group description containing the functionalities of the action group.\n",
    "\n",
    "In this example, we will provide the Action Group functionality using a [`functionSchema`](https://docs.aws.amazon.com/bedrock/latest/userguide/agents-action-function.html).\n",
    "\n",
    "To define the functions using a function schema, you need to provide the `name`, `description` and `parameters` for each function."
   ]
  },
  {
   "cell_type": "markdown",
   "id": "a883e27f-6f7a-4094-b536-ea55c728b45e",
   "metadata": {
    "pycharm": {
     "name": "#%% md\n"
    },
    "tags": []
   },
   "source": [
    "### 4.2.1 Create the Lambda Function\n",
    "\n",
    "We will now create a lambda function that interacts with DynamoDB table. To do so we will:\n",
    "\n",
    "1. Create the `lambda_function.py` file which contains the logic for our lambda function\n",
    "2. Create the IAM role for our Lambda function\n",
    "3. Create the lambda function with the required permissions\n",
    "\n",
    "```\n",
    "# Pause to make sure agent is created\n",
    "#time.sleep(30)\n",
    "\n",
    "print(lambda_function)\n",
    "# Now, we can configure and create an action group here:\n",
    "\n",
    "agent_action_group_response = bedrock_agent_client.create_agent_action_group(\n",
    "    agentId=agent_id,\n",
    "    agentVersion='DRAFT',\n",
    "    actionGroupExecutor={\n",
    "        'lambda': lambda_function['FunctionArn']\n",
    "    },\n",
    "    actionGroupName=agent_action_group_name,\n",
    "    functionSchema={\n",
    "        'functions': agent_functions\n",
    "    },\n",
    "    description=agent_action_group_description\n",
    ")\n",
    "```"
   ]
  },
  {
   "cell_type": "markdown",
   "id": "fc8267c2-9ab0-4d54-b1db-13d8e0cb8e3a",
   "metadata": {
    "pycharm": {
     "name": "#%% md\n"
    }
   },
   "source": [
    "#### Create the function code\n",
    "When creating an Agent for Amazon Bedrock, you can connect a Lambda function to the Action Group in order to execute the functions required by the agent. In this option, your agent is responsible for the execution of your functions. Let's create the lambda function tha implements the functions for `get_booking_details`, `create_booking` and `delete_booking`"
   ]
  },
  {
   "cell_type": "code",
   "execution_count": null,
   "id": "a8021392-1f5a-4d99-ac9f-28ec89e3ae77",
   "metadata": {
    "tags": []
   },
   "outputs": [],
   "source": [
    "%%writefile lambda_function.py\n",
    "\n",
    "\n",
    "import json\n",
    "import uuid\n",
    "\n",
    "def get_named_parameter(event, name):\n",
    "    \"\"\"\n",
    "    Get a parameter from the lambda event\n",
    "    \"\"\"\n",
    "    return next(item for item in event['parameters'] if item['name'] == name)['value']\n",
    "\n",
    "def get_account_balance(user_id):\n",
    "    balance = {\n",
    "        1: 1240.00,\n",
    "        2: 3214.00,\n",
    "        3: 2132.00,\n",
    "        4: 3213.32,\n",
    "        5: 10000.00,\n",
    "        6: 12133.00,\n",
    "        7: 302.32,\n",
    "        8: 232.32,\n",
    "        9: 12356.23,\n",
    "        10: 23232.32\n",
    "    }\n",
    "    random_id = str(uuid.uuid1().int)\n",
    "    user_id = int(random_id[:1])\n",
    "    \n",
    "    print(user_id)\n",
    "    user_balance = balance[int(user_id)]\n",
    "    return f\"Your current account balance is {user_balance}\" \n",
    "    \n",
    "def book_appointment(user_id, appointment_category, date, hour):\n",
    "    return f\"Appointment booked with success for {date} at {hour}!\"\n",
    "    \n",
    "def lambda_handler(event, context):\n",
    "    agent = event['agent']\n",
    "    actionGroup = event['actionGroup']\n",
    "    function = event['function']\n",
    "    parameters = event.get('parameters', [])\n",
    "    \n",
    "    if function == \"get_account_balance\":\n",
    "        user_id = get_named_parameter(event, \"user_id\")\n",
    "        text = get_account_balance(user_id)\n",
    "    elif function == \"book_appointment\":\n",
    "        user_id = get_named_parameter(event, \"user_id\")\n",
    "        appointment_category = get_named_parameter(event, \"appointment_category\")\n",
    "        date = get_named_parameter(event, \"date\")\n",
    "        hour = get_named_parameter(event, \"hour\")\n",
    "        text = book_appointment(user_id, appointment_category, date, hour)\n",
    "        \n",
    "\n",
    "    # Execute your business logic here. For more information, refer to: https://docs.aws.amazon.com/bedrock/latest/userguide/agents-lambda.html\n",
    "    responseBody =  {\n",
    "        \"TEXT\": {\n",
    "            \"body\": text\n",
    "        }\n",
    "    }\n",
    "\n",
    "    action_response = {\n",
    "        'actionGroup': actionGroup,\n",
    "        'function': function,\n",
    "        'functionResponse': {\n",
    "            'responseBody': responseBody\n",
    "        }\n",
    "\n",
    "    }\n",
    "\n",
    "    response = {'response': action_response, 'messageVersion': event['messageVersion']}\n",
    "    print(\"Response: {}\".format(response))\n",
    "\n",
    "    return response\n"
   ]
  },
  {
   "cell_type": "code",
   "execution_count": null,
   "id": "a9defc5a-9833-468f-91a8-7a339195cd05",
   "metadata": {
    "pycharm": {
     "name": "#%%\n"
    },
    "tags": []
   },
   "outputs": [],
   "source": [
    "lambda_function_name = f'{agent_name}-lambda'"
   ]
  },
  {
   "cell_type": "code",
   "execution_count": null,
   "id": "ef8f712f-64ab-45ec-aff2-57b196083858",
   "metadata": {
    "pycharm": {
     "name": "#%%\n"
    },
    "tags": []
   },
   "outputs": [],
   "source": [
    "agent_functions = [\n",
    "    {\n",
    "        'name': 'get_account_balance',\n",
    "        'description': 'return the available account balance',\n",
    "        'parameters': {\n",
    "            \"user_id\": {\n",
    "                \"description\": \"user identifier\",\n",
    "                \"required\": True,\n",
    "                \"type\": \"integer\"\n",
    "            }\n",
    "        }\n",
    "    },\n",
    "    {\n",
    "        'name': 'book_appointment',\n",
    "        'description': 'book an appointment to talk with a bank representative',\n",
    "        'parameters': {\n",
    "            \"appointment_category\": {\n",
    "                \"description\": \"type of appointment to book. One of: account, investment, paperwork\",\n",
    "                \"required\": True,\n",
    "                \"type\": \"string\"\n",
    "            },\n",
    "            \"date\": {\n",
    "                \"description\": \"date for the appointment in the format MM-DD-YYYY\",\n",
    "                \"required\": True,\n",
    "                \"type\": \"string\"\n",
    "            },\n",
    "            \"hour\": {\n",
    "                \"description\": \"hour for the appointment in the format HH:MM\",\n",
    "                \"required\": True,\n",
    "                \"type\": \"string\"\n",
    "            },\n",
    "            \"user_id\": {\n",
    "                \"description\": \"user_identifier\",\n",
    "                \"required\": True,\n",
    "                \"type\": \"integer\"\n",
    "            }\n",
    "        }\n",
    "    },\n",
    "]"
   ]
  },
  {
   "cell_type": "markdown",
   "id": "c3f85e60-9be7-4f83-9951-70354f6c97d7",
   "metadata": {
    "pycharm": {
     "name": "#%% md\n"
    }
   },
   "source": [
    "We now use the function schema to create the agent action group using the [`create_agent_action_group`](https://boto3.amazonaws.com/v1/documentation/api/latest/reference/services/bedrock-agent/client/create_agent_action_group.html) API"
   ]
  },
  {
   "cell_type": "code",
   "execution_count": null,
   "id": "353b4755-6e3e-458e-9f15-b32d8aace677",
   "metadata": {
    "pycharm": {
     "name": "#%%\n"
    },
    "tags": []
   },
   "outputs": [],
   "source": [
    "print(agent_name)\n",
    "agents.add_action_group_with_lambda(\n",
    "    agent_name,\n",
    "    lambda_function_name, \n",
    "    \"lambda_function.py\", \n",
    "    agent_functions, \n",
    "    \"banking-assistant\", \n",
    "    \"Checking account balance and getting bank appointment\"\n",
    ")"
   ]
  },
  {
   "cell_type": "markdown",
   "id": "cece1310-73a7-48be-97bf-b290bd2a277a",
   "metadata": {
    "pycharm": {
     "name": "#%% md\n"
    }
   },
   "source": [
    "### 4.2.2 Allow the Agent to invoke the Action Group Lambda\n",
    "Before using the action group, we need to allow the agent to invoke the lambda function associated with the action group. This is done via [resource-based policy](https://docs.aws.amazon.com/bedrock/latest/userguide/agents-permissions.html#agents-permissions-lambda). Let's add the resource-based policy to the lambda function created"
   ]
  },
  {
   "cell_type": "code",
   "execution_count": null,
   "id": "21d3199e-dfd0-47ce-b171-56ca3823a61c",
   "metadata": {
    "pycharm": {
     "name": "#%%\n"
    },
    "tags": []
   },
   "outputs": [],
   "source": [
    "# Create allow to invoke permission on lambda\n",
    "lambda_client = boto3.client('lambda')\n",
    "response = lambda_client.add_permission(\n",
    "    FunctionName=lambda_function_name,\n",
    "    StatementId='allow_bedrock',\n",
    "    Action='lambda:InvokeFunction',\n",
    "    Principal='bedrock.amazonaws.com',\n",
    "    SourceArn=f\"arn:aws:bedrock:{region}:{account_id}:agent/{agent_id}\",\n",
    ")\n"
   ]
  },
  {
   "cell_type": "code",
   "execution_count": null,
   "id": "3946d494-05fa-418c-9166-f3af0fd84e2d",
   "metadata": {
    "pycharm": {
     "name": "#%%\n"
    },
    "tags": []
   },
   "outputs": [],
   "source": [
    "response"
   ]
  },
  {
   "cell_type": "markdown",
   "id": "2c8536a4-e625-464c-bae2-d28dba82c556",
   "metadata": {
    "pycharm": {
     "name": "#%% md\n"
    }
   },
   "source": [
    "### 4.3 Associate the Knowledge Base to the agent\n",
    "Now we have created the Agent we can go ahead and associate the Knowledge Base we created earlier. "
   ]
  },
  {
   "cell_type": "code",
   "execution_count": null,
   "id": "95c7b781-7e82-47b6-a268-237fa97ab58d",
   "metadata": {
    "pycharm": {
     "name": "#%%\n"
    },
    "tags": []
   },
   "outputs": [],
   "source": [
    "response = bedrock_agent_client.associate_agent_knowledge_base(\n",
    "    agentId=agent_id,\n",
    "    agentVersion='DRAFT',\n",
    "    description='Access the knowledge base when customers ask about investing.',\n",
    "    knowledgeBaseId=kb_id,\n",
    "    knowledgeBaseState='ENABLED'\n",
    ")"
   ]
  },
  {
   "cell_type": "code",
   "execution_count": null,
   "id": "0c72b5ee-2479-41b2-93e1-fd7aa66da08d",
   "metadata": {
    "pycharm": {
     "name": "#%%\n"
    },
    "tags": []
   },
   "outputs": [],
   "source": [
    "response"
   ]
  },
  {
   "cell_type": "markdown",
   "id": "b42a8caf-4c76-4760-a7cd-4c6b189f9f5b",
   "metadata": {
    "pycharm": {
     "name": "#%% md\n"
    }
   },
   "source": [
    "### 4.3.1 Prepare the Agent without guardrail and create an alias\n",
    "\n",
    "Let's create a DRAFT version of the agent that can be used for internal testing.\n"
   ]
  },
  {
   "cell_type": "code",
   "execution_count": null,
   "id": "4013c967-9a14-4689-b0b5-61aa4f75748c",
   "metadata": {
    "pycharm": {
     "name": "#%%\n"
    },
    "tags": []
   },
   "outputs": [],
   "source": [
    "response = bedrock_agent_client.prepare_agent(\n",
    "    agentId=agent_id\n",
    ")\n",
    "print(response)\n",
    "# Pause to make sure agent is prepared\n",
    "time.sleep(30)"
   ]
  },
  {
   "cell_type": "markdown",
   "id": "4c2f477d-60b5-4135-bfe4-e9af3874d611",
   "metadata": {
    "pycharm": {
     "name": "#%% md\n"
    }
   },
   "source": [
    "You can invoke the DRAFT version of your agent using the test alias id `TSTALIASID` or you can create a new alias and a new version for your agent. Here we are also going to create an Agent alias to later on use to invoke it with the alias id created"
   ]
  },
  {
   "cell_type": "code",
   "execution_count": null,
   "id": "b9889aaf-9238-479d-b9f1-2ab13b1ec9c0",
   "metadata": {
    "pycharm": {
     "name": "#%%\n"
    },
    "tags": []
   },
   "outputs": [],
   "source": [
    "response = bedrock_agent_client.create_agent_alias(\n",
    "    agentAliasName='AgentWithoutGuardrail',\n",
    "    agentId=agent_id,\n",
    "    description='Test alias for agent without Guardrails for Amazon Bedrock association',\n",
    ")\n",
    "\n",
    "alias_id = response[\"agentAlias\"][\"agentAliasId\"]\n",
    "\n",
    "print(\"The Agent alias is:\",alias_id)\n",
    "time.sleep(30)"
   ]
  },
  {
   "cell_type": "markdown",
   "id": "785eaa07-9059-471b-86cc-9506e9c0b47c",
   "metadata": {
    "pycharm": {
     "name": "#%% md\n"
    }
   },
   "source": [
    "## 4.3.2 Test the Agent without guardrail\n",
    "Now that we've created the agent, let's use the `bedrock-agent-runtime` client to invoke this agent and perform some tasks. You can invoke your agent with the [`invoke_agent`](https://boto3.amazonaws.com/v1/documentation/api/latest/reference/services/bedrock-agent-runtime/client/invoke_agent.html) API"
   ]
  },
  {
   "cell_type": "code",
   "execution_count": null,
   "id": "607efd7f-469a-4875-9c1c-16ab018fc341",
   "metadata": {
    "pycharm": {
     "name": "#%%\n"
    },
    "tags": []
   },
   "outputs": [],
   "source": [
    "def invokeAgent(query, session_id, enable_trace=False, session_state=dict()):\n",
    "    end_session:bool = False\n",
    "    \n",
    "    # invoke the agent API\n",
    "    agentResponse = bedrock_agent_runtime_client.invoke_agent(\n",
    "        inputText=query,\n",
    "        agentId=agent_id,\n",
    "        agentAliasId=alias_id, \n",
    "        sessionId=session_id,\n",
    "        enableTrace=enable_trace, \n",
    "        endSession= end_session,\n",
    "        sessionState=session_state\n",
    "    )\n",
    "    \n",
    "    if enable_trace:\n",
    "        logger.info(pprint.pprint(agentResponse))\n",
    "    \n",
    "    event_stream = agentResponse['completion']\n",
    "    try:\n",
    "        for event in event_stream:        \n",
    "            if 'chunk' in event:\n",
    "                data = event['chunk']['bytes']\n",
    "                if enable_trace:\n",
    "                    logger.info(f\"Final answer ->\\n{data.decode('utf8')}\")\n",
    "                agent_answer = data.decode('utf8')\n",
    "                end_event_received = True\n",
    "                return agent_answer\n",
    "                # End event indicates that the request finished successfully\n",
    "            elif 'trace' in event:\n",
    "                if enable_trace:\n",
    "                    logger.info(json.dumps(event['trace'], indent=2))\n",
    "            else:\n",
    "                raise Exception(\"unexpected event.\", event)\n",
    "    except Exception as e:\n",
    "        raise Exception(\"unexpected event.\", e)"
   ]
  },
  {
   "cell_type": "markdown",
   "id": "2bd6097d",
   "metadata": {
    "pycharm": {
     "name": "#%% md\n"
    }
   },
   "source": [
    "##### Invoke Agent to query Knowledge Base\n",
    "Let's now use our support `invokeAgent` function to query our Knowledge Base with the Agent"
   ]
  },
  {
   "cell_type": "code",
   "execution_count": null,
   "id": "bb134630-0c01-4ec7-b761-1f1a1eca4957",
   "metadata": {
    "pycharm": {
     "name": "#%%\n"
    },
    "tags": []
   },
   "outputs": [],
   "source": [
    "%%time\n",
    "import uuid\n",
    "session_id:str = str(uuid.uuid1())\n",
    "query = \"How can I activate my debit card?\"\n",
    "response = invokeAgent(query, session_id)\n",
    "print(response)"
   ]
  },
  {
   "cell_type": "markdown",
   "id": "e59b3614",
   "metadata": {
    "pycharm": {
     "name": "#%% md\n"
    }
   },
   "source": [
    "##### Invoke Agent to execute function from Action Group\n",
    "Now let's test our Action Group functionality and create a new reservation"
   ]
  },
  {
   "cell_type": "code",
   "execution_count": null,
   "id": "1e0201c0-abb3-4ad5-a7e7-1750d14a2717",
   "metadata": {
    "pycharm": {
     "name": "#%%\n"
    },
    "tags": []
   },
   "outputs": [],
   "source": [
    "%%time\n",
    "query = \"Hi, I am Anna. I want to create a banking appointment for 8pm on the 5th of May 2024.\"\n",
    "response = invokeAgent(query, session_id)\n",
    "print(response)"
   ]
  },
  {
   "cell_type": "markdown",
   "id": "c7043ba4",
   "metadata": {
    "pycharm": {
     "name": "#%% md\n"
    }
   },
   "source": [
    "##### Invoke Agent with prompt attribute\n",
    "\n",
    "Great! We've used our agent to do the first appointment. However, often when booking appointments we are already logged in to systems that know our names. How great would it be if our agent would know it as well?\n",
    "\n",
    "To do so, we can use the session context to provide some attributes to our prompt. In this case we will provide it directly to the prompt using the [`promptSessionAttributes`](https://docs.aws.amazon.com/bedrock/latest/userguide/agents-session-state.html) parameter. Let's also start a new session id so that our agent does not memorize our name."
   ]
  },
  {
   "cell_type": "code",
   "execution_count": null,
   "id": "139c210f",
   "metadata": {
    "pycharm": {
     "name": "#%%\n"
    },
    "tags": []
   },
   "outputs": [],
   "source": [
    "%%time\n",
    "session_id:str = str(uuid.uuid1())\n",
    "query = \"Should I invest in bitcoin?\"\n",
    "session_state = {\n",
    "    \"promptSessionAttributes\": {\n",
    "        \"name\": \"John\"\n",
    "    }\n",
    "}\n",
    "response = invokeAgent(query, session_id, session_state=session_state)\n",
    "print(response)"
   ]
  },
  {
   "cell_type": "markdown",
   "id": "2cf0d98c",
   "metadata": {
    "pycharm": {
     "name": "#%% md\n"
    }
   },
   "source": [
    "## 5. Creating and associating a Amazon Bedrock Guardrail\n",
    "The response above indirectly provided the investment advice about bitcoin in our example document to the user, however as a banking organization we cannot be seen to give any investment advice to the user. As a result, lets create a Bedrock Guardrail to prevent the user from doing this"
   ]
  },
  {
   "cell_type": "code",
   "execution_count": null,
   "id": "bfb8612f-6221-4199-b44b-4c341ac08f7f",
   "metadata": {
    "pycharm": {
     "name": "#%%\n"
    },
    "tags": []
   },
   "outputs": [],
   "source": [
    "try:\n",
    "    response = bedrock_client.create_guardrail(\n",
    "        name='BankingAssistantGuardrail',\n",
    "        description='Guardrail for online banking assistant to help users with banking and account related questions',\n",
    "        topicPolicyConfig={\n",
    "            'topicsConfig': [\n",
    "                {\n",
    "                    'name': 'Investment Advice',\n",
    "                    'definition': 'Investment advice refers to professional guidance or recommendations provided to individuals or entities regarding the management and allocation of their financial assets.',\n",
    "                    'examples': [\n",
    "                        'Should I buy gold?',\n",
    "                        'Is investing in stocks better than bonds?',\n",
    "                        'When is it a good idea to invest in gold?',\n",
    "                    ],\n",
    "                    'type': 'DENY'\n",
    "                },\n",
    "            ]\n",
    "        },\n",
    "        blockedInputMessaging='Sorry, your query violates our usage policies. We do not provide investment advices. To discuss the best investment advice for your current situation, please contact us on (XXX) XXX-XXXX and we will be happy to support you.',\n",
    "        blockedOutputsMessaging='Sorry, I am unable to reply. Please contact us on (XXX) XXX-XXXX and we will be happy to support you.',\n",
    "    )\n",
    "except:\n",
    "    response = bedrock_client.list_guardrails(\n",
    "        maxResults=123,\n",
    "    )\n",
    "    for guardrail in response.get('guardrails', []):\n",
    "        if guardrail.get('name') == 'BankingAssistantGuardrail':\n",
    "            response = guardrail\n",
    "    print(response)\n",
    "    bedrock_client.delete_guardrail(guardrailIdentifier=response.get(\"id\"))\n",
    "    time.sleep(30)\n",
    "    response = bedrock_client.create_guardrail(\n",
    "    name='BankingAssistantGuardrail',\n",
    "    description='Guardrail for online banking assistant to help users with banking and account related questions',\n",
    "    topicPolicyConfig={\n",
    "        'topicsConfig': [\n",
    "            {\n",
    "                'name': 'Investment Advice',\n",
    "                'definition': 'Investment advice refers to professional guidance or recommendations provided to individuals or entities regarding the management and allocation of their financial assets.',\n",
    "                'examples': [\n",
    "                    'Should I buy gold?',\n",
    "                    'Is investing in stocks better than bonds?',\n",
    "                    'When is it a good idea to invest in gold?',\n",
    "                ],\n",
    "                'type': 'DENY'\n",
    "            },\n",
    "        ]\n",
    "    },\n",
    "    blockedInputMessaging='Sorry, your query violates our usage policies. We do not provide investment advices. To discuss the best investment advice for your current situation, please contact us on (XXX) XXX-XXXX and we will be happy to support you.',\n",
    "    blockedOutputsMessaging='Sorry, I am unable to reply. Please contact us on (XXX) XXX-XXXX and we will be happy to support you.',\n",
    ")\n",
    "print(response)"
   ]
  },
  {
   "cell_type": "markdown",
   "id": "e2b6149d",
   "metadata": {
    "pycharm": {
     "name": "#%% md\n"
    }
   },
   "source": [
    "### 5.1 Adding the guardrail to your agent\n",
    "\n",
    "Now that we have a Bedrock guardrail we need to integrate it with your agent. So let's associate our guardrail with the agent now"
   ]
  },
  {
   "cell_type": "code",
   "execution_count": null,
   "id": "7664b37d",
   "metadata": {
    "pycharm": {
     "name": "#%%\n"
    }
   },
   "outputs": [],
   "source": [
    "guardrail_id = response['guardrailId']\n",
    "guardrail_version = response['version']\n",
    "\n",
    "agents.update_agent( agent_name=agent_name, guardrail_id=response['guardrailId'])\n",
    "time.sleep(30)"
   ]
  },
  {
   "cell_type": "markdown",
   "id": "4976446d-860a-4bde-ac12-f8a791d1df16",
   "metadata": {},
   "source": [
    "### 5.1.2 Creating alias for agent with guardrail and preparing it\n",
    "\n",
    "Now let's create a second alias for our agent with guardrail."
   ]
  },
  {
   "cell_type": "code",
   "execution_count": null,
   "id": "9b886ac2-e141-4d7f-a142-3cfca06bf24c",
   "metadata": {
    "tags": []
   },
   "outputs": [],
   "source": [
    "old_alias_id = alias_id\n",
    "\n",
    "response = bedrock_agent_client.create_agent_alias(\n",
    "    agentAliasName='AgentWithGuardrail',\n",
    "    agentId=agent_id,\n",
    "    description='Test alias with Guardrails for Amazon Bedrock',\n",
    ")\n",
    "\n",
    "alias_id = response[\"agentAlias\"][\"agentAliasId\"]\n",
    "\n",
    "print(\"The Agent alias is:\",alias_id)\n",
    "time.sleep(30)"
   ]
  },
  {
   "cell_type": "code",
   "execution_count": null,
   "id": "19dfbbf8-0fd3-4fe7-bf66-601da359d77c",
   "metadata": {
    "tags": []
   },
   "outputs": [],
   "source": [
    "response = bedrock_agent_client.prepare_agent(\n",
    "    agentId=agent_id\n",
    ")\n",
    "print(response)\n",
    "# Pause to make sure agent is prepared\n",
    "time.sleep(30)"
   ]
  },
  {
   "cell_type": "code",
   "execution_count": null,
   "id": "34bd272d",
   "metadata": {
    "pycharm": {
     "name": "#%%\n"
    }
   },
   "outputs": [],
   "source": [
    "%%time\n",
    "# reserving a table for tomorrow\n",
    "session_id:str = str(uuid.uuid1())\n",
    "query = \"Should I invest in bitcoin?\"\n",
    "session_state = {\n",
    "    \"promptSessionAttributes\": {\n",
    "        \"name\": \"John\"\n",
    "    }\n",
    "}\n",
    "response = invokeAgent(query, session_id, session_state=session_state)\n",
    "print(response)"
   ]
  },
  {
   "cell_type": "markdown",
   "id": "b53ca04b",
   "metadata": {
    "pycharm": {
     "name": "#%% md\n"
    }
   },
   "source": [
    "Now you can see that our new guardrail blocks the agent from providing investment advice. You can add more guardrails on top of this to prevent additional actions from being taken"
   ]
  },
  {
   "cell_type": "markdown",
   "id": "8ebf4438-1f48-4642-a57c-530a16815064",
   "metadata": {
    "pycharm": {
     "name": "#%% md\n"
    }
   },
   "source": [
    "## 7. Clean-up \n",
    "Let's delete all the associated resources created to avoid unnecessary costs. "
   ]
  },
  {
   "cell_type": "code",
   "execution_count": null,
   "id": "e37b47ef-dc2d-4203-a106-c5bd17ff197e",
   "metadata": {
    "tags": []
   },
   "outputs": [],
   "source": [
    "bedrock_agent_client.delete_agent_alias(agentAliasId=alias_id, agentId=agent_id)\n",
    "bedrock_agent_client.delete_agent_alias(agentAliasId=old_alias_id, agentId=agent_id)"
   ]
  },
  {
   "cell_type": "code",
   "execution_count": null,
   "id": "17ec0e70",
   "metadata": {
    "pycharm": {
     "name": "#%%\n"
    }
   },
   "outputs": [],
   "source": [
    "# delete KB\n",
    "knowledge_base.delete_kb(knowledge_base_name, delete_s3_bucket=True, delete_iam_roles_and_policies=True, delete_aoss=True)"
   ]
  },
  {
   "cell_type": "code",
   "execution_count": null,
   "id": "6a9db157",
   "metadata": {
    "pycharm": {
     "name": "#%%\n"
    }
   },
   "outputs": [],
   "source": [
    "# Delete the agent roles and policies\n",
    "agents.delete_agent(agent_name)"
   ]
  },
  {
   "cell_type": "code",
   "execution_count": null,
   "id": "201607b9-7bac-4b2d-b2cd-14b9e5b11b3a",
   "metadata": {
    "tags": []
   },
   "outputs": [],
   "source": [
    "#delete Guardrail\n",
    "bedrock_client.delete_guardrail(guardrailIdentifier=guardrail_id)"
   ]
  },
  {
   "cell_type": "code",
   "execution_count": null,
   "id": "94d6d157-aab8-4485-af8b-e0cc524a8640",
   "metadata": {
    "tags": []
   },
   "outputs": [],
   "source": [
    "agents.delete_lambda(lambda_function_name)"
   ]
  },
  {
   "cell_type": "code",
   "execution_count": null,
   "id": "87775472-9991-47a3-b83c-f411affee84f",
   "metadata": {
    "tags": []
   },
   "outputs": [],
   "source": []
  },
  {
   "cell_type": "code",
   "execution_count": null,
   "id": "911f6779-b2d6-4cda-9ada-b95934d3b324",
   "metadata": {},
   "outputs": [],
   "source": []
  }
 ],
 "metadata": {
  "availableInstances": [
   {
    "_defaultOrder": 0,
    "_isFastLaunch": true,
    "category": "General purpose",
    "gpuNum": 0,
    "hideHardwareSpecs": false,
    "memoryGiB": 4,
    "name": "ml.t3.medium",
    "vcpuNum": 2
   },
   {
    "_defaultOrder": 1,
    "_isFastLaunch": false,
    "category": "General purpose",
    "gpuNum": 0,
    "hideHardwareSpecs": false,
    "memoryGiB": 8,
    "name": "ml.t3.large",
    "vcpuNum": 2
   },
   {
    "_defaultOrder": 2,
    "_isFastLaunch": false,
    "category": "General purpose",
    "gpuNum": 0,
    "hideHardwareSpecs": false,
    "memoryGiB": 16,
    "name": "ml.t3.xlarge",
    "vcpuNum": 4
   },
   {
    "_defaultOrder": 3,
    "_isFastLaunch": false,
    "category": "General purpose",
    "gpuNum": 0,
    "hideHardwareSpecs": false,
    "memoryGiB": 32,
    "name": "ml.t3.2xlarge",
    "vcpuNum": 8
   },
   {
    "_defaultOrder": 4,
    "_isFastLaunch": true,
    "category": "General purpose",
    "gpuNum": 0,
    "hideHardwareSpecs": false,
    "memoryGiB": 8,
    "name": "ml.m5.large",
    "vcpuNum": 2
   },
   {
    "_defaultOrder": 5,
    "_isFastLaunch": false,
    "category": "General purpose",
    "gpuNum": 0,
    "hideHardwareSpecs": false,
    "memoryGiB": 16,
    "name": "ml.m5.xlarge",
    "vcpuNum": 4
   },
   {
    "_defaultOrder": 6,
    "_isFastLaunch": false,
    "category": "General purpose",
    "gpuNum": 0,
    "hideHardwareSpecs": false,
    "memoryGiB": 32,
    "name": "ml.m5.2xlarge",
    "vcpuNum": 8
   },
   {
    "_defaultOrder": 7,
    "_isFastLaunch": false,
    "category": "General purpose",
    "gpuNum": 0,
    "hideHardwareSpecs": false,
    "memoryGiB": 64,
    "name": "ml.m5.4xlarge",
    "vcpuNum": 16
   },
   {
    "_defaultOrder": 8,
    "_isFastLaunch": false,
    "category": "General purpose",
    "gpuNum": 0,
    "hideHardwareSpecs": false,
    "memoryGiB": 128,
    "name": "ml.m5.8xlarge",
    "vcpuNum": 32
   },
   {
    "_defaultOrder": 9,
    "_isFastLaunch": false,
    "category": "General purpose",
    "gpuNum": 0,
    "hideHardwareSpecs": false,
    "memoryGiB": 192,
    "name": "ml.m5.12xlarge",
    "vcpuNum": 48
   },
   {
    "_defaultOrder": 10,
    "_isFastLaunch": false,
    "category": "General purpose",
    "gpuNum": 0,
    "hideHardwareSpecs": false,
    "memoryGiB": 256,
    "name": "ml.m5.16xlarge",
    "vcpuNum": 64
   },
   {
    "_defaultOrder": 11,
    "_isFastLaunch": false,
    "category": "General purpose",
    "gpuNum": 0,
    "hideHardwareSpecs": false,
    "memoryGiB": 384,
    "name": "ml.m5.24xlarge",
    "vcpuNum": 96
   },
   {
    "_defaultOrder": 12,
    "_isFastLaunch": false,
    "category": "General purpose",
    "gpuNum": 0,
    "hideHardwareSpecs": false,
    "memoryGiB": 8,
    "name": "ml.m5d.large",
    "vcpuNum": 2
   },
   {
    "_defaultOrder": 13,
    "_isFastLaunch": false,
    "category": "General purpose",
    "gpuNum": 0,
    "hideHardwareSpecs": false,
    "memoryGiB": 16,
    "name": "ml.m5d.xlarge",
    "vcpuNum": 4
   },
   {
    "_defaultOrder": 14,
    "_isFastLaunch": false,
    "category": "General purpose",
    "gpuNum": 0,
    "hideHardwareSpecs": false,
    "memoryGiB": 32,
    "name": "ml.m5d.2xlarge",
    "vcpuNum": 8
   },
   {
    "_defaultOrder": 15,
    "_isFastLaunch": false,
    "category": "General purpose",
    "gpuNum": 0,
    "hideHardwareSpecs": false,
    "memoryGiB": 64,
    "name": "ml.m5d.4xlarge",
    "vcpuNum": 16
   },
   {
    "_defaultOrder": 16,
    "_isFastLaunch": false,
    "category": "General purpose",
    "gpuNum": 0,
    "hideHardwareSpecs": false,
    "memoryGiB": 128,
    "name": "ml.m5d.8xlarge",
    "vcpuNum": 32
   },
   {
    "_defaultOrder": 17,
    "_isFastLaunch": false,
    "category": "General purpose",
    "gpuNum": 0,
    "hideHardwareSpecs": false,
    "memoryGiB": 192,
    "name": "ml.m5d.12xlarge",
    "vcpuNum": 48
   },
   {
    "_defaultOrder": 18,
    "_isFastLaunch": false,
    "category": "General purpose",
    "gpuNum": 0,
    "hideHardwareSpecs": false,
    "memoryGiB": 256,
    "name": "ml.m5d.16xlarge",
    "vcpuNum": 64
   },
   {
    "_defaultOrder": 19,
    "_isFastLaunch": false,
    "category": "General purpose",
    "gpuNum": 0,
    "hideHardwareSpecs": false,
    "memoryGiB": 384,
    "name": "ml.m5d.24xlarge",
    "vcpuNum": 96
   },
   {
    "_defaultOrder": 20,
    "_isFastLaunch": false,
    "category": "General purpose",
    "gpuNum": 0,
    "hideHardwareSpecs": true,
    "memoryGiB": 0,
    "name": "ml.geospatial.interactive",
    "supportedImageNames": [
     "sagemaker-geospatial-v1-0"
    ],
    "vcpuNum": 0
   },
   {
    "_defaultOrder": 21,
    "_isFastLaunch": true,
    "category": "Compute optimized",
    "gpuNum": 0,
    "hideHardwareSpecs": false,
    "memoryGiB": 4,
    "name": "ml.c5.large",
    "vcpuNum": 2
   },
   {
    "_defaultOrder": 22,
    "_isFastLaunch": false,
    "category": "Compute optimized",
    "gpuNum": 0,
    "hideHardwareSpecs": false,
    "memoryGiB": 8,
    "name": "ml.c5.xlarge",
    "vcpuNum": 4
   },
   {
    "_defaultOrder": 23,
    "_isFastLaunch": false,
    "category": "Compute optimized",
    "gpuNum": 0,
    "hideHardwareSpecs": false,
    "memoryGiB": 16,
    "name": "ml.c5.2xlarge",
    "vcpuNum": 8
   },
   {
    "_defaultOrder": 24,
    "_isFastLaunch": false,
    "category": "Compute optimized",
    "gpuNum": 0,
    "hideHardwareSpecs": false,
    "memoryGiB": 32,
    "name": "ml.c5.4xlarge",
    "vcpuNum": 16
   },
   {
    "_defaultOrder": 25,
    "_isFastLaunch": false,
    "category": "Compute optimized",
    "gpuNum": 0,
    "hideHardwareSpecs": false,
    "memoryGiB": 72,
    "name": "ml.c5.9xlarge",
    "vcpuNum": 36
   },
   {
    "_defaultOrder": 26,
    "_isFastLaunch": false,
    "category": "Compute optimized",
    "gpuNum": 0,
    "hideHardwareSpecs": false,
    "memoryGiB": 96,
    "name": "ml.c5.12xlarge",
    "vcpuNum": 48
   },
   {
    "_defaultOrder": 27,
    "_isFastLaunch": false,
    "category": "Compute optimized",
    "gpuNum": 0,
    "hideHardwareSpecs": false,
    "memoryGiB": 144,
    "name": "ml.c5.18xlarge",
    "vcpuNum": 72
   },
   {
    "_defaultOrder": 28,
    "_isFastLaunch": false,
    "category": "Compute optimized",
    "gpuNum": 0,
    "hideHardwareSpecs": false,
    "memoryGiB": 192,
    "name": "ml.c5.24xlarge",
    "vcpuNum": 96
   },
   {
    "_defaultOrder": 29,
    "_isFastLaunch": true,
    "category": "Accelerated computing",
    "gpuNum": 1,
    "hideHardwareSpecs": false,
    "memoryGiB": 16,
    "name": "ml.g4dn.xlarge",
    "vcpuNum": 4
   },
   {
    "_defaultOrder": 30,
    "_isFastLaunch": false,
    "category": "Accelerated computing",
    "gpuNum": 1,
    "hideHardwareSpecs": false,
    "memoryGiB": 32,
    "name": "ml.g4dn.2xlarge",
    "vcpuNum": 8
   },
   {
    "_defaultOrder": 31,
    "_isFastLaunch": false,
    "category": "Accelerated computing",
    "gpuNum": 1,
    "hideHardwareSpecs": false,
    "memoryGiB": 64,
    "name": "ml.g4dn.4xlarge",
    "vcpuNum": 16
   },
   {
    "_defaultOrder": 32,
    "_isFastLaunch": false,
    "category": "Accelerated computing",
    "gpuNum": 1,
    "hideHardwareSpecs": false,
    "memoryGiB": 128,
    "name": "ml.g4dn.8xlarge",
    "vcpuNum": 32
   },
   {
    "_defaultOrder": 33,
    "_isFastLaunch": false,
    "category": "Accelerated computing",
    "gpuNum": 4,
    "hideHardwareSpecs": false,
    "memoryGiB": 192,
    "name": "ml.g4dn.12xlarge",
    "vcpuNum": 48
   },
   {
    "_defaultOrder": 34,
    "_isFastLaunch": false,
    "category": "Accelerated computing",
    "gpuNum": 1,
    "hideHardwareSpecs": false,
    "memoryGiB": 256,
    "name": "ml.g4dn.16xlarge",
    "vcpuNum": 64
   },
   {
    "_defaultOrder": 35,
    "_isFastLaunch": false,
    "category": "Accelerated computing",
    "gpuNum": 1,
    "hideHardwareSpecs": false,
    "memoryGiB": 61,
    "name": "ml.p3.2xlarge",
    "vcpuNum": 8
   },
   {
    "_defaultOrder": 36,
    "_isFastLaunch": false,
    "category": "Accelerated computing",
    "gpuNum": 4,
    "hideHardwareSpecs": false,
    "memoryGiB": 244,
    "name": "ml.p3.8xlarge",
    "vcpuNum": 32
   },
   {
    "_defaultOrder": 37,
    "_isFastLaunch": false,
    "category": "Accelerated computing",
    "gpuNum": 8,
    "hideHardwareSpecs": false,
    "memoryGiB": 488,
    "name": "ml.p3.16xlarge",
    "vcpuNum": 64
   },
   {
    "_defaultOrder": 38,
    "_isFastLaunch": false,
    "category": "Accelerated computing",
    "gpuNum": 8,
    "hideHardwareSpecs": false,
    "memoryGiB": 768,
    "name": "ml.p3dn.24xlarge",
    "vcpuNum": 96
   },
   {
    "_defaultOrder": 39,
    "_isFastLaunch": false,
    "category": "Memory Optimized",
    "gpuNum": 0,
    "hideHardwareSpecs": false,
    "memoryGiB": 16,
    "name": "ml.r5.large",
    "vcpuNum": 2
   },
   {
    "_defaultOrder": 40,
    "_isFastLaunch": false,
    "category": "Memory Optimized",
    "gpuNum": 0,
    "hideHardwareSpecs": false,
    "memoryGiB": 32,
    "name": "ml.r5.xlarge",
    "vcpuNum": 4
   },
   {
    "_defaultOrder": 41,
    "_isFastLaunch": false,
    "category": "Memory Optimized",
    "gpuNum": 0,
    "hideHardwareSpecs": false,
    "memoryGiB": 64,
    "name": "ml.r5.2xlarge",
    "vcpuNum": 8
   },
   {
    "_defaultOrder": 42,
    "_isFastLaunch": false,
    "category": "Memory Optimized",
    "gpuNum": 0,
    "hideHardwareSpecs": false,
    "memoryGiB": 128,
    "name": "ml.r5.4xlarge",
    "vcpuNum": 16
   },
   {
    "_defaultOrder": 43,
    "_isFastLaunch": false,
    "category": "Memory Optimized",
    "gpuNum": 0,
    "hideHardwareSpecs": false,
    "memoryGiB": 256,
    "name": "ml.r5.8xlarge",
    "vcpuNum": 32
   },
   {
    "_defaultOrder": 44,
    "_isFastLaunch": false,
    "category": "Memory Optimized",
    "gpuNum": 0,
    "hideHardwareSpecs": false,
    "memoryGiB": 384,
    "name": "ml.r5.12xlarge",
    "vcpuNum": 48
   },
   {
    "_defaultOrder": 45,
    "_isFastLaunch": false,
    "category": "Memory Optimized",
    "gpuNum": 0,
    "hideHardwareSpecs": false,
    "memoryGiB": 512,
    "name": "ml.r5.16xlarge",
    "vcpuNum": 64
   },
   {
    "_defaultOrder": 46,
    "_isFastLaunch": false,
    "category": "Memory Optimized",
    "gpuNum": 0,
    "hideHardwareSpecs": false,
    "memoryGiB": 768,
    "name": "ml.r5.24xlarge",
    "vcpuNum": 96
   },
   {
    "_defaultOrder": 47,
    "_isFastLaunch": false,
    "category": "Accelerated computing",
    "gpuNum": 1,
    "hideHardwareSpecs": false,
    "memoryGiB": 16,
    "name": "ml.g5.xlarge",
    "vcpuNum": 4
   },
   {
    "_defaultOrder": 48,
    "_isFastLaunch": false,
    "category": "Accelerated computing",
    "gpuNum": 1,
    "hideHardwareSpecs": false,
    "memoryGiB": 32,
    "name": "ml.g5.2xlarge",
    "vcpuNum": 8
   },
   {
    "_defaultOrder": 49,
    "_isFastLaunch": false,
    "category": "Accelerated computing",
    "gpuNum": 1,
    "hideHardwareSpecs": false,
    "memoryGiB": 64,
    "name": "ml.g5.4xlarge",
    "vcpuNum": 16
   },
   {
    "_defaultOrder": 50,
    "_isFastLaunch": false,
    "category": "Accelerated computing",
    "gpuNum": 1,
    "hideHardwareSpecs": false,
    "memoryGiB": 128,
    "name": "ml.g5.8xlarge",
    "vcpuNum": 32
   },
   {
    "_defaultOrder": 51,
    "_isFastLaunch": false,
    "category": "Accelerated computing",
    "gpuNum": 1,
    "hideHardwareSpecs": false,
    "memoryGiB": 256,
    "name": "ml.g5.16xlarge",
    "vcpuNum": 64
   },
   {
    "_defaultOrder": 52,
    "_isFastLaunch": false,
    "category": "Accelerated computing",
    "gpuNum": 4,
    "hideHardwareSpecs": false,
    "memoryGiB": 192,
    "name": "ml.g5.12xlarge",
    "vcpuNum": 48
   },
   {
    "_defaultOrder": 53,
    "_isFastLaunch": false,
    "category": "Accelerated computing",
    "gpuNum": 4,
    "hideHardwareSpecs": false,
    "memoryGiB": 384,
    "name": "ml.g5.24xlarge",
    "vcpuNum": 96
   },
   {
    "_defaultOrder": 54,
    "_isFastLaunch": false,
    "category": "Accelerated computing",
    "gpuNum": 8,
    "hideHardwareSpecs": false,
    "memoryGiB": 768,
    "name": "ml.g5.48xlarge",
    "vcpuNum": 192
   },
   {
    "_defaultOrder": 55,
    "_isFastLaunch": false,
    "category": "Accelerated computing",
    "gpuNum": 8,
    "hideHardwareSpecs": false,
    "memoryGiB": 1152,
    "name": "ml.p4d.24xlarge",
    "vcpuNum": 96
   },
   {
    "_defaultOrder": 56,
    "_isFastLaunch": false,
    "category": "Accelerated computing",
    "gpuNum": 8,
    "hideHardwareSpecs": false,
    "memoryGiB": 1152,
    "name": "ml.p4de.24xlarge",
    "vcpuNum": 96
   },
   {
    "_defaultOrder": 57,
    "_isFastLaunch": false,
    "category": "Accelerated computing",
    "gpuNum": 0,
    "hideHardwareSpecs": false,
    "memoryGiB": 32,
    "name": "ml.trn1.2xlarge",
    "vcpuNum": 8
   },
   {
    "_defaultOrder": 58,
    "_isFastLaunch": false,
    "category": "Accelerated computing",
    "gpuNum": 0,
    "hideHardwareSpecs": false,
    "memoryGiB": 512,
    "name": "ml.trn1.32xlarge",
    "vcpuNum": 128
   },
   {
    "_defaultOrder": 59,
    "_isFastLaunch": false,
    "category": "Accelerated computing",
    "gpuNum": 0,
    "hideHardwareSpecs": false,
    "memoryGiB": 512,
    "name": "ml.trn1n.32xlarge",
    "vcpuNum": 128
   }
  ],
  "instance_type": "ml.t3.medium",
  "kernelspec": {
   "display_name": "Python 3 (Data Science 3.0)",
   "language": "python",
   "name": "python3__SAGEMAKER_INTERNAL__arn:aws:sagemaker:us-east-1:081325390199:image/sagemaker-data-science-310-v1"
  },
  "language_info": {
   "codemirror_mode": {
    "name": "ipython",
    "version": 3
   },
   "file_extension": ".py",
   "mimetype": "text/x-python",
   "name": "python",
   "nbconvert_exporter": "python",
   "pygments_lexer": "ipython3",
   "version": "3.10.6"
  }
 },
 "nbformat": 4,
 "nbformat_minor": 5
}
