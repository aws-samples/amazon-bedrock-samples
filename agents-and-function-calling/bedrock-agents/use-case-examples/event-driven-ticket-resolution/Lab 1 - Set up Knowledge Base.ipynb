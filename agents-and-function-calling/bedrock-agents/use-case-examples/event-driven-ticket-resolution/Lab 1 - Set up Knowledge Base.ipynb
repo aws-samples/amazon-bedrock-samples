{
 "cells": [
  {
   "cell_type": "markdown",
   "id": "174244a2",
   "metadata": {},
   "source": [
    "# Lab 1 - Set up Knowledge Base"
   ]
  },
  {
   "cell_type": "markdown",
   "id": "1cc61a88",
   "metadata": {},
   "source": [
    "In this notebook, we will be creating an Amazon Bedrock Knowledge Base that will hold information that will support the agent's decisions about how to handle some ticket resolutions scenarios unique to the organization. We will perform the following steps:\n",
    "\n",
    "1. Notebook setup\n",
    "2. Create Amazon Bedrock Knowledge Base\n",
    "3. Ingest Documents into the knowledge base\n",
    "4. Test the knowledge base functionality with a few queries"
   ]
  },
  {
   "cell_type": "markdown",
   "id": "7f5eb140",
   "metadata": {},
   "source": [
    "![data_ingestion](images/data_ingestion.png)"
   ]
  },
  {
   "cell_type": "markdown",
   "id": "b13d3534",
   "metadata": {},
   "source": [
    "## 1. Notebook setup"
   ]
  },
  {
   "cell_type": "code",
   "execution_count": null,
   "id": "8e43cbb7",
   "metadata": {},
   "outputs": [],
   "source": [
    "!pip install --upgrade -q -r requirements.txt"
   ]
  },
  {
   "cell_type": "code",
   "execution_count": null,
   "id": "47e1084d",
   "metadata": {},
   "outputs": [],
   "source": [
    "# restart kernel for packages to take effect\n",
    "from IPython.core.display import HTML\n",
    "HTML(\"<script>Jupyter.notebook.kernel.restart()</script>\")"
   ]
  },
  {
   "cell_type": "code",
   "execution_count": null,
   "id": "f722074e",
   "metadata": {},
   "outputs": [],
   "source": [
    "import json\n",
    "import os\n",
    "import pprint\n",
    "import random\n",
    "from retrying import retry\n",
    "\n",
    "from utility.knowledgebase import create_bedrock_execution_role, create_oss_policy_attach_bedrock_execution_role, create_policies_in_oss, interactive_sleep\n",
    "\n",
    "import boto3\n",
    "from botocore.exceptions import ClientError\n",
    "\n",
    "from opensearchpy import OpenSearch, RequestsHttpConnection, AWSV4SignerAuth, RequestError"
   ]
  },
  {
   "cell_type": "code",
   "execution_count": null,
   "id": "be87625f",
   "metadata": {},
   "outputs": [],
   "source": [
    "boto3_session = boto3.session.Session()\n",
    "region_name = boto3_session.region_name\n",
    "\n",
    "sts_client = boto3.client('sts')\n",
    "bedrock_agent_client = boto3_session.client('bedrock-agent', region_name=region_name)\n",
    "bedrock_agent_runtime_client = boto3.client(\"bedrock-agent-runtime\", region_name=region_name)\n",
    "s3_client = boto3.client('s3')\n",
    "aoss_client = boto3_session.client('opensearchserverless')\n",
    "service = 'aoss'\n",
    "\n",
    "account_id = sts_client.get_caller_identity()[\"Account\"]\n",
    "\n",
    "credentials = boto3.Session().get_credentials()\n",
    "awsauth = auth = AWSV4SignerAuth(credentials, region_name, service)"
   ]
  },
  {
   "cell_type": "code",
   "execution_count": null,
   "id": "e98962cd",
   "metadata": {},
   "outputs": [],
   "source": [
    "suffix = random.randrange(200, 900)\n",
    "s3_suffix = f\"{region_name}-{account_id}\"\n",
    "\n",
    "bucket_name = f'ticket-kb-{s3_suffix}' # replace it with your bucket name.\n",
    "vector_store_name = f'ticket-sample-rag-{suffix}'\n",
    "index_name = f\"ticket-sample-rag-index-{suffix}\"\n",
    "\n",
    "kb_name = f\"tickets-sample-knowledge-base-{suffix}\"\n",
    "kb_description = \"Company policies on granting environment access to employees\"\n",
    "kb_files_path = \"kb_documents\"\n",
    "kb_key = 'kb_documents'\n",
    "data_source_name = f'tickets-docs-kb-docs-{suffix}'\n",
    "\n",
    "pp = pprint.PrettyPrinter(indent=2)"
   ]
  },
  {
   "cell_type": "code",
   "execution_count": null,
   "id": "af974755",
   "metadata": {},
   "outputs": [],
   "source": [
    "model_id = \"anthropic.claude-3-5-sonnet-20240620-v1:0\"\n",
    "embedding_model_arn = f'arn:aws:bedrock:{region_name}::foundation-model/amazon.titan-embed-text-v2:0'"
   ]
  },
  {
   "cell_type": "code",
   "execution_count": null,
   "id": "7c2534de",
   "metadata": {},
   "outputs": [],
   "source": [
    "%store suffix model_id embedding_model_arn"
   ]
  },
  {
   "cell_type": "markdown",
   "id": "a4fd4dad",
   "metadata": {},
   "source": [
    "## 2. Create Knowledge Base"
   ]
  },
  {
   "cell_type": "markdown",
   "id": "3f95199b",
   "metadata": {},
   "source": [
    "### 2.1 Create the Amazon S3 bucket and upload files"
   ]
  },
  {
   "cell_type": "markdown",
   "id": "fbce3182",
   "metadata": {},
   "source": [
    "Amazon Bedrock Knowledge Bases support various data sources, including Amazon S3, as documented in the Data Source Connectors guide [link](https://docs.aws.amazon.com/bedrock/latest/userguide/data-source-connectors.html). In this section, we will create an Amazon S3 bucket and upload files containing the company's policy regarding ticket resolution."
   ]
  },
  {
   "cell_type": "code",
   "execution_count": null,
   "id": "caacc1b7",
   "metadata": {},
   "outputs": [],
   "source": [
    "# Check if bucket exists, and if not create S3 bucket for knowledge base data source\n",
    "try:\n",
    "    s3_client.head_bucket(Bucket=bucket_name)\n",
    "    print(f'Bucket {bucket_name} Exists')\n",
    "except ClientError as e:\n",
    "    print(f'Creating bucket {bucket_name}')\n",
    "    if region_name == \"us-east-1\":\n",
    "        s3bucket = s3_client.create_bucket(\n",
    "            Bucket=bucket_name)\n",
    "    else:\n",
    "        s3bucket = s3_client.create_bucket(\n",
    "            Bucket=bucket_name,\n",
    "            CreateBucketConfiguration={ 'LocationConstraint': region_name }\n",
    "        )"
   ]
  },
  {
   "cell_type": "code",
   "execution_count": null,
   "id": "5ff4d6d8",
   "metadata": {},
   "outputs": [],
   "source": [
    "%store bucket_name"
   ]
  },
  {
   "cell_type": "code",
   "execution_count": null,
   "id": "dff3af5d",
   "metadata": {},
   "outputs": [],
   "source": [
    "for f in os.listdir(kb_files_path):\n",
    "    if f.endswith(\".pdf\") or f.endswith(\".txt\"):\n",
    "        s3_client.upload_file(kb_files_path+'/'+f, bucket_name, kb_key+'/'+f)"
   ]
  },
  {
   "cell_type": "markdown",
   "id": "fafafefd",
   "metadata": {},
   "source": [
    "### 2.2 Create Knowledge Base"
   ]
  },
  {
   "cell_type": "markdown",
   "id": "2a3e3e72",
   "metadata": {},
   "source": [
    "In this section we will go through all the steps to create and test a Knowledge Base.\n",
    "\n",
    "These are the steps to complete:\n",
    "\n",
    "1. Create Knowledge Base Role and OpenSearch Collection Policies\n",
    "2. Create an OpenSearch collection\n",
    "3. Create vector index\n",
    "4. Create a Knowledge Base\n",
    "5. Create a data source and attach to the recently created Knowledge Base\n",
    "6. Ingest data to your knowledge Base"
   ]
  },
  {
   "cell_type": "markdown",
   "id": "3f636776",
   "metadata": {},
   "source": [
    "First of all we have to create a vector store. In this section we will use Amazon OpenSerach Serverless. Knowledge Bases also support other vector databases as documented [here](https://docs.aws.amazon.com/bedrock/latest/userguide/knowledge-base-setup.html). \n",
    "\n",
    "Amazon OpenSearch Serverless is a serverless option in Amazon OpenSearch Service. As a developer, you can use OpenSearch Serverless to run petabyte-scale workloads without configuring, managing, and scaling OpenSearch clusters. You get the same interactive millisecond response times as OpenSearch Service with the simplicity of a serverless environment. Pay only for what you use by automatically scaling resources to provide the right amount of capacity for your application—without impacting data ingestion."
   ]
  },
  {
   "cell_type": "markdown",
   "id": "48437ea9",
   "metadata": {},
   "source": [
    "#### Step 1 Create Knowledge Base Role and OpenSearch Collection Policies"
   ]
  },
  {
   "cell_type": "code",
   "execution_count": null,
   "id": "450c64af",
   "metadata": {},
   "outputs": [],
   "source": [
    "bedrock_kb_execution_role = create_bedrock_execution_role(bucket_name=bucket_name, embedding_model_arn=embedding_model_arn, suffix=suffix)\n",
    "bedrock_kb_execution_role_arn = bedrock_kb_execution_role['Role']['Arn']"
   ]
  },
  {
   "cell_type": "code",
   "execution_count": null,
   "id": "74675ec7",
   "metadata": {},
   "outputs": [],
   "source": [
    "# create security, network and data access policies within OSS\n",
    "encryption_policy, network_policy, access_policy = create_policies_in_oss(vector_store_name=vector_store_name,\n",
    "                       aoss_client=aoss_client,\n",
    "                       bedrock_kb_execution_role_arn=bedrock_kb_execution_role_arn,\n",
    "                       suffix=suffix\n",
    "                       )"
   ]
  },
  {
   "cell_type": "code",
   "execution_count": null,
   "id": "44209a14",
   "metadata": {},
   "outputs": [],
   "source": [
    "%store encryption_policy network_policy access_policy"
   ]
  },
  {
   "cell_type": "markdown",
   "id": "7c54a706",
   "metadata": {},
   "source": [
    "#### Step 2 Create an OpenSearch collection"
   ]
  },
  {
   "cell_type": "code",
   "execution_count": null,
   "id": "ec0543f3",
   "metadata": {},
   "outputs": [],
   "source": [
    "collection = aoss_client.create_collection(name=vector_store_name,type='VECTORSEARCH')"
   ]
  },
  {
   "cell_type": "code",
   "execution_count": null,
   "id": "a67568c5",
   "metadata": {},
   "outputs": [],
   "source": [
    "pp.pprint(collection)\n",
    "%store collection"
   ]
  },
  {
   "cell_type": "code",
   "execution_count": null,
   "id": "dde1c544",
   "metadata": {},
   "outputs": [],
   "source": [
    "# Get the OpenSearch serverless collection URL\n",
    "collection_id = collection['createCollectionDetail']['id']\n",
    "host = collection_id + '.' + region_name + '.aoss.amazonaws.com'\n",
    "print(host)"
   ]
  },
  {
   "cell_type": "code",
   "execution_count": null,
   "id": "9eccaa11",
   "metadata": {},
   "outputs": [],
   "source": [
    "# wait for collection creation\n",
    "# This can take couple of minutes to finish\n",
    "response = aoss_client.batch_get_collection(names=[vector_store_name])\n",
    "# Periodically check collection status\n",
    "while (response['collectionDetails'][0]['status']) == 'CREATING':\n",
    "    print('Creating collection...')\n",
    "    interactive_sleep(30)\n",
    "    response = aoss_client.batch_get_collection(names=[vector_store_name])\n",
    "print('\\nCollection successfully created:')\n",
    "pp.pprint(response[\"collectionDetails\"])"
   ]
  },
  {
   "cell_type": "code",
   "execution_count": null,
   "id": "aa1152eb",
   "metadata": {},
   "outputs": [],
   "source": [
    "# create opensearch serverless access policy and attach it to Bedrock execution role\n",
    "try:\n",
    "    create_oss_policy_attach_bedrock_execution_role(collection_id=collection_id,\n",
    "                                                    bedrock_kb_execution_role=bedrock_kb_execution_role,\n",
    "                                                    suffix=suffix)\n",
    "    # It can take up to a minute for data access rules to be enforced\n",
    "    interactive_sleep(60)\n",
    "except Exception as e:\n",
    "    print(\"Policy already exists\")\n",
    "    pp.pprint(e)"
   ]
  },
  {
   "cell_type": "markdown",
   "id": "bcdbe495",
   "metadata": {},
   "source": [
    "#### Step 3 Create a Vector Index"
   ]
  },
  {
   "cell_type": "markdown",
   "id": "0e575f24",
   "metadata": {},
   "source": [
    "Let's now create a vector index to index our data\n"
   ]
  },
  {
   "cell_type": "code",
   "execution_count": null,
   "id": "c50cf3c7",
   "metadata": {},
   "outputs": [],
   "source": [
    "body_json = {\n",
    "   \"settings\": {\n",
    "      \"index.knn\": \"true\",\n",
    "       \"number_of_shards\": 1,\n",
    "       \"knn.algo_param.ef_search\": 512,\n",
    "       \"number_of_replicas\": 0,\n",
    "   },\n",
    "   \"mappings\": {\n",
    "      \"properties\": {\n",
    "         \"vector\": {\n",
    "            \"type\": \"knn_vector\",\n",
    "            \"dimension\": 1024,\n",
    "             \"method\": {\n",
    "                 \"name\": \"hnsw\",\n",
    "                 \"engine\": \"faiss\",\n",
    "                 \"space_type\": \"l2\"\n",
    "             },\n",
    "         },\n",
    "         \"text\": {\n",
    "            \"type\": \"text\"\n",
    "         },\n",
    "         \"text-metadata\": {\n",
    "            \"type\": \"text\"         }\n",
    "      }\n",
    "   }\n",
    "}\n",
    "\n",
    "# Build the OpenSearch client\n",
    "oss_client = OpenSearch(\n",
    "    hosts=[{'host': host, 'port': 443}],\n",
    "    http_auth=awsauth,\n",
    "    use_ssl=True,\n",
    "    verify_certs=True,\n",
    "    connection_class=RequestsHttpConnection,\n",
    "    timeout=300\n",
    ")"
   ]
  },
  {
   "cell_type": "code",
   "execution_count": null,
   "id": "3c2101bf",
   "metadata": {},
   "outputs": [],
   "source": [
    "# Create index\n",
    "try:\n",
    "    response = oss_client.indices.create(index=index_name, body=json.dumps(body_json))\n",
    "    print('\\nCreating index:')\n",
    "    pp.pprint(response)\n",
    "\n",
    "    # index creation can take up to a minute\n",
    "    interactive_sleep(60)\n",
    "except RequestError as e:\n",
    "    # you can delete the index if its already exists\n",
    "    # oss_client.indices.delete(index=index_name)\n",
    "    print(f'Error while trying to create the index, with error {e.error}\\nyou may unmark the delete above to delete, and recreate the index')\n",
    "    "
   ]
  },
  {
   "cell_type": "markdown",
   "id": "0b96a00c",
   "metadata": {},
   "source": [
    "#### Step 4 Create a Knowledge Base"
   ]
  },
  {
   "cell_type": "markdown",
   "id": "7370f349",
   "metadata": {},
   "source": [
    "Now that we have the Vector index available in OpenSearch Serverless, let's create a Knowledge Base and associate it with the OpenSearch DB"
   ]
  },
  {
   "cell_type": "markdown",
   "id": "14aba8e0",
   "metadata": {},
   "source": [
    "- Initialize Open search serverless configuration which will include collection ARN, index name, vector field, text field and metadata field.\n",
    " - Initialize chunking strategy, based on which KB will split the documents into pieces of size equal to the chunk size mentioned in the `chunkingStrategyConfiguration`.\n",
    "- Initialize the s3 configuration, which will be used to create the data source object later.\n",
    "- Initialize the Titan embeddings model ARN, as this will be used to create the embeddings for each of the text chunks."
   ]
  },
  {
   "cell_type": "code",
   "execution_count": null,
   "id": "7a3519b3",
   "metadata": {},
   "outputs": [],
   "source": [
    "opensearchServerlessConfiguration = {\n",
    "            \"collectionArn\": collection[\"createCollectionDetail\"]['arn'],\n",
    "            \"vectorIndexName\": index_name,\n",
    "            \"fieldMapping\": {\n",
    "                \"vectorField\": \"vector\",\n",
    "                \"textField\": \"text\",\n",
    "                \"metadataField\": \"text-metadata\"\n",
    "            }\n",
    "        }\n",
    "\n",
    "# Ingest strategy - How to ingest data from the data source\n",
    "chunkingStrategyConfiguration = {\n",
    "    \"chunkingStrategy\": \"FIXED_SIZE\",\n",
    "    \"fixedSizeChunkingConfiguration\": {\n",
    "        \"maxTokens\": 512,\n",
    "        \"overlapPercentage\": 20\n",
    "    }\n",
    "}\n",
    "\n",
    "# The data source to ingest documents from, into the OpenSearch serverless knowledge base index\n",
    "s3Configuration = {\n",
    "    \"bucketArn\": f\"arn:aws:s3:::{bucket_name}\",\n",
    "    # \"inclusionPrefixes\":[\"*.*\"] # you can use this if you want to create a KB using data within s3 prefixes.\n",
    "}"
   ]
  },
  {
   "cell_type": "markdown",
   "id": "e0fb4a93",
   "metadata": {},
   "source": [
    "Provide the above configurations as input to the `create_knowledge_base method`, which will create the Knowledge base.\n",
    "\n"
   ]
  },
  {
   "cell_type": "code",
   "execution_count": null,
   "id": "e3254842",
   "metadata": {},
   "outputs": [],
   "source": [
    "@retry(wait_random_min=1000, wait_random_max=2000,stop_max_attempt_number=7)\n",
    "def create_knowledge_base_func():\n",
    "    create_kb_response = bedrock_agent_client.create_knowledge_base(\n",
    "        name = kb_name,\n",
    "        description = kb_description,\n",
    "        roleArn = bedrock_kb_execution_role_arn,\n",
    "        knowledgeBaseConfiguration = {\n",
    "            \"type\": \"VECTOR\",\n",
    "            \"vectorKnowledgeBaseConfiguration\": {\n",
    "                \"embeddingModelArn\": embedding_model_arn\n",
    "            }\n",
    "        },\n",
    "        storageConfiguration = {\n",
    "            \"type\": \"OPENSEARCH_SERVERLESS\",\n",
    "            \"opensearchServerlessConfiguration\":opensearchServerlessConfiguration\n",
    "        }\n",
    "    )\n",
    "    return create_kb_response[\"knowledgeBase\"]"
   ]
  },
  {
   "cell_type": "code",
   "execution_count": null,
   "id": "8b8eda60",
   "metadata": {},
   "outputs": [],
   "source": [
    "try:\n",
    "    kb = create_knowledge_base_func()\n",
    "except Exception as err:\n",
    "    print(f\"{err=}, {type(err)=}\")"
   ]
  },
  {
   "cell_type": "code",
   "execution_count": null,
   "id": "2553259c",
   "metadata": {},
   "outputs": [],
   "source": [
    "pp.pprint(kb)"
   ]
  },
  {
   "cell_type": "code",
   "execution_count": null,
   "id": "0fd71125",
   "metadata": {},
   "outputs": [],
   "source": [
    "# Get KnowledgeBase \n",
    "get_kb_response = bedrock_agent_client.get_knowledge_base(knowledgeBaseId = kb['knowledgeBaseId'])"
   ]
  },
  {
   "cell_type": "markdown",
   "id": "742c8618",
   "metadata": {},
   "source": [
    "#### Step 5 Create a data source and attach to the recently created Knowledge Base"
   ]
  },
  {
   "cell_type": "markdown",
   "id": "dfc6c85e",
   "metadata": {},
   "source": [
    "Next we need to create a data source, which will be associated with the knowledge base created above. Once the data source is ready, we can then start to ingest the documents."
   ]
  },
  {
   "cell_type": "code",
   "execution_count": null,
   "id": "84a2ec83",
   "metadata": {},
   "outputs": [],
   "source": [
    "# Create a DataSource in KnowledgeBase \n",
    "create_ds_response = bedrock_agent_client.create_data_source(\n",
    "    name = data_source_name,\n",
    "    knowledgeBaseId = kb['knowledgeBaseId'],\n",
    "    dataSourceConfiguration = {\n",
    "        \"type\": \"S3\",\n",
    "        \"s3Configuration\":s3Configuration\n",
    "    },\n",
    "    vectorIngestionConfiguration = {\n",
    "        \"chunkingConfiguration\": chunkingStrategyConfiguration\n",
    "    }\n",
    ")\n",
    "ds = create_ds_response[\"dataSource\"]\n",
    "pp.pprint(ds)"
   ]
  },
  {
   "cell_type": "code",
   "execution_count": null,
   "id": "822a25b0",
   "metadata": {},
   "outputs": [],
   "source": [
    "# Get DataSource \n",
    "bedrock_agent_client.get_data_source(knowledgeBaseId = kb['knowledgeBaseId'], dataSourceId = ds[\"dataSourceId\"])"
   ]
  },
  {
   "cell_type": "markdown",
   "id": "1c21a7e4",
   "metadata": {},
   "source": [
    "## 3. Ingest Documents into the knowledge base"
   ]
  },
  {
   "cell_type": "markdown",
   "id": "2b25457b",
   "metadata": {},
   "source": [
    "Once the Knowledge Base and Data Source are created, we can start the ingestion job. During the ingestion job, Knowledge Base will fetch the documents in the data source, pre-process it to extract text, chunk it based on the chunking size provided, create embeddings of each chunk and then write it to the vector database, in this case Amazon OpenSource Serverless."
   ]
  },
  {
   "cell_type": "markdown",
   "id": "f8d3a3a1",
   "metadata": {},
   "source": [
    "<div class=\"alert alert-block alert-info\">\n",
    "Take a moment to review the contents of the documents.\n",
    "\n",
    "- **permissionManual.txt**: contains information on how to resolve environment access tickets raised by users. It outlines three key points:\n",
    "```\n",
    "If the employee already has access to the environment, the ticket can be auto-resolved.\n",
    "```\n",
    "\n",
    "```\n",
    "Access can be auto-assigned to the employee if all the following conditions are met:\n",
    "\n",
    "1. The environment is owned by the employee's manager.\n",
    "2. The requested access duration is less than 30 days.\n",
    "3. The requested access type is not Admin.\n",
    "```\n",
    "\n",
    "```\n",
    "If any of the above conditions are not met, the ticket should be assigned to the environment owner.\n",
    "```\n",
    "- **ticketResolution.txt**: contains organization-wide best practices for efficient ticket resolution.\n",
    "</div>"
   ]
  },
  {
   "cell_type": "markdown",
   "id": "56f98c85",
   "metadata": {},
   "source": [
    "<div class=\"alert alert-block alert-info\">\n",
    "The objective is to auto-resolve the ticket when all the predefined conditions are satisfied. In the event that the conditions are not met, the ticket should be assigned to the environment owner (you have access to environment owner via <b>Environment table</b>), along with relevant diagnostic information to facilitate ticket resolution.\n",
    "</div>"
   ]
  },
  {
   "cell_type": "code",
   "execution_count": null,
   "id": "cb41b82a",
   "metadata": {},
   "outputs": [],
   "source": [
    "interactive_sleep(30)\n",
    "start_job_response = bedrock_agent_client.start_ingestion_job(knowledgeBaseId = kb['knowledgeBaseId'], dataSourceId = ds[\"dataSourceId\"])"
   ]
  },
  {
   "cell_type": "code",
   "execution_count": null,
   "id": "fc2a669d",
   "metadata": {},
   "outputs": [],
   "source": [
    "job = start_job_response[\"ingestionJob\"]\n",
    "pp.pprint(job)"
   ]
  },
  {
   "cell_type": "code",
   "execution_count": null,
   "id": "c15a062a",
   "metadata": {},
   "outputs": [],
   "source": [
    "# Get job \n",
    "while(job['status']!='COMPLETE' ):\n",
    "    get_job_response = bedrock_agent_client.get_ingestion_job(\n",
    "      knowledgeBaseId = kb['knowledgeBaseId'],\n",
    "        dataSourceId = ds[\"dataSourceId\"],\n",
    "        ingestionJobId = job[\"ingestionJobId\"]\n",
    "  )\n",
    "    job = get_job_response[\"ingestionJob\"]\n",
    "    \n",
    "    interactive_sleep(30)\n",
    "\n",
    "pp.pprint(job)"
   ]
  },
  {
   "cell_type": "code",
   "execution_count": null,
   "id": "7760140b",
   "metadata": {},
   "outputs": [],
   "source": [
    "# Print the knowledge base Id in bedrock, that corresponds to the Opensearch index in the collection we created before, we will use it for the invocation later\n",
    "kb_id = kb[\"knowledgeBaseId\"]\n",
    "pp.pprint(kb_id)"
   ]
  },
  {
   "cell_type": "code",
   "execution_count": null,
   "id": "bd215dce",
   "metadata": {},
   "outputs": [],
   "source": [
    "# keep the kb_id for invocation later in the invoke request\n",
    "%store kb_id"
   ]
  },
  {
   "cell_type": "markdown",
   "id": "a67cca31",
   "metadata": {},
   "source": [
    "## 4. Test the knowledge base functionality with a few queries"
   ]
  },
  {
   "cell_type": "markdown",
   "id": "d958d27b",
   "metadata": {},
   "source": [
    "### Using RetrieveAndGenerate API"
   ]
  },
  {
   "cell_type": "markdown",
   "id": "4fd0026b",
   "metadata": {},
   "source": [
    "Behind the scenes, RetrieveAndGenerate API converts queries into embeddings, searches the knowledge base, and then augments the foundation model prompt with the search results as context information and returns the FM-generated response to the question. For multi-turn conversations, Knowledge Bases manage short-term memory of the conversation to provide more contextual results.\n",
    "\n",
    "The output of the RetrieveAndGenerate API includes the generated response, source attribution as well as the retrieved text chunks."
   ]
  },
  {
   "cell_type": "markdown",
   "id": "5388a412",
   "metadata": {},
   "source": [
    "![retrieveAndGenerate](images/retrieveAndGenerate.png)"
   ]
  },
  {
   "cell_type": "code",
   "execution_count": null,
   "id": "7e43486f",
   "metadata": {},
   "outputs": [],
   "source": [
    "def ask_bedrock_llm_with_knowledge_base(query: str, model_id: str, kb_id: str) -> str:\n",
    "    response = bedrock_agent_runtime_client.retrieve_and_generate(\n",
    "        input={\n",
    "            'text': query\n",
    "        },\n",
    "        retrieveAndGenerateConfiguration={\n",
    "            'type': 'KNOWLEDGE_BASE',\n",
    "            'knowledgeBaseConfiguration': {\n",
    "                'knowledgeBaseId': kb_id,\n",
    "                'modelArn': model_id\n",
    "            }\n",
    "        },\n",
    "    )\n",
    "\n",
    "    return response"
   ]
  },
  {
   "cell_type": "code",
   "execution_count": null,
   "id": "d6ae6872",
   "metadata": {},
   "outputs": [],
   "source": [
    "query = \"Company policies on granting environment access to employees\"\n",
    "\n",
    "response = ask_bedrock_llm_with_knowledge_base(query, model_id, kb_id)\n",
    "generated_text = response['output']['text']\n",
    "citations = response[\"citations\"]\n",
    "contexts = []\n",
    "for citation in citations:\n",
    "    retrievedReferences = citation[\"retrievedReferences\"]\n",
    "    for reference in retrievedReferences:\n",
    "        contexts.append(reference[\"content\"][\"text\"])\n",
    "print(f\"---------- Generated using {model_id[0]}:\")\n",
    "pp.pprint(generated_text )\n",
    "print(f'---------- The citations for the response generated by {model_id[0]}:')\n",
    "pp.pprint(contexts)\n",
    "print()"
   ]
  },
  {
   "cell_type": "code",
   "execution_count": null,
   "id": "7d979d83",
   "metadata": {},
   "outputs": [],
   "source": [
    "print(response[\"output\"][\"text\"])"
   ]
  },
  {
   "cell_type": "markdown",
   "id": "10239254",
   "metadata": {},
   "source": [
    "### Optional: Retrieve API\n"
   ]
  },
  {
   "cell_type": "markdown",
   "id": "f49a279e",
   "metadata": {},
   "source": [
    "Retrieve API converts user queries into embeddings, searches the knowledge base, and returns the relevant results, giving you more control to build custom workﬂows on top of the semantic search results. The output of the Retrieve API includes the the retrieved text chunks, the location type and URI of the source data, as well as the relevance scores of the retrievals.\n",
    "\n"
   ]
  },
  {
   "cell_type": "markdown",
   "id": "c0a21c02",
   "metadata": {},
   "source": [
    "![retrieveAPI](images/retrieveAPI.png)"
   ]
  },
  {
   "cell_type": "code",
   "execution_count": null,
   "id": "ebfdfd9a",
   "metadata": {},
   "outputs": [],
   "source": [
    "# retrieve api for fetching only the relevant context.\n",
    "relevant_documents = bedrock_agent_runtime_client.retrieve(\n",
    "    retrievalQuery= {\n",
    "        'text': query\n",
    "    },\n",
    "    knowledgeBaseId=kb_id,\n",
    "    retrievalConfiguration= {\n",
    "        'vectorSearchConfiguration': {\n",
    "            'numberOfResults': 3 # will fetch top 3 documents which matches closely with the query.\n",
    "        }\n",
    "    }\n",
    ")"
   ]
  },
  {
   "cell_type": "code",
   "execution_count": null,
   "id": "ca27e850",
   "metadata": {},
   "outputs": [],
   "source": [
    "pp.pprint(relevant_documents[\"retrievalResults\"])"
   ]
  },
  {
   "cell_type": "markdown",
   "id": "77ae4408",
   "metadata": {},
   "source": [
    "<div class=\"alert alert-block alert-warning\">\n",
    "<b>Next steps:</b> Proceed to the next labs to learn how to associate Bedrock Knowledge bases with Bedrock Agents. Remember to run the CLEANUP notebook at the end of your session.\n",
    "</div>"
   ]
  },
  {
   "cell_type": "code",
   "execution_count": null,
   "id": "05be97bf",
   "metadata": {},
   "outputs": [],
   "source": []
  }
 ],
 "metadata": {
  "kernelspec": {
   "display_name": "Python 3",
   "language": "python",
   "name": "python3"
  },
  "language_info": {
   "codemirror_mode": {
    "name": "ipython",
    "version": 3
   },
   "file_extension": ".py",
   "mimetype": "text/x-python",
   "name": "python",
   "nbconvert_exporter": "python",
   "pygments_lexer": "ipython3",
   "version": "3.11.10"
  }
 },
 "nbformat": 4,
 "nbformat_minor": 5
}
