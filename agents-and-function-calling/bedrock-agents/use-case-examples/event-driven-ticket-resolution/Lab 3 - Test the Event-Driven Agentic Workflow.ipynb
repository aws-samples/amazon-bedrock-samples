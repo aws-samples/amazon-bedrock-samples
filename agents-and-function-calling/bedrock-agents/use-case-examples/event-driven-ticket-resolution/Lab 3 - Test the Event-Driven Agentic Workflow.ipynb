{
 "cells": [
  {
   "cell_type": "markdown",
   "id": "7d909563",
   "metadata": {},
   "source": [
    "# Lab 3 - Test the Event-Driven Agentic Workflow"
   ]
  },
  {
   "cell_type": "markdown",
   "id": "0f8a0dae",
   "metadata": {},
   "source": [
    "In this notebook, we will develop an event-driven workflow so that whenever a new ticket is created in the `TicketTable`, a ticket agent is automatically invoked. When the agent resolves the ticket or assigns it to someone else, an email confirmation will be sent.\n",
    "\n",
    "1. Notebook Setup \n",
    "2. Create Amazon SNS Topic and subscrive to it via email\n",
    "3. Modify ProcessTicketDynamoDBStreamFunction AWS Lambda Function to handle events\n",
    "4. Test Events"
   ]
  },
  {
   "cell_type": "markdown",
   "id": "99b37715",
   "metadata": {},
   "source": [
    "![event-driven-flow](images/architecture-event-driven.png)"
   ]
  },
  {
   "cell_type": "markdown",
   "id": "7c83b5b2",
   "metadata": {},
   "source": [
    "We will start by creating a SNS topic to receive email when ticket is resolved or assigned to someone. Then we will modify the code for `ProcessTicketDynamoDBStreamFunction` AWS Lambda function to hanlde INSERT and MODIFY events. "
   ]
  },
  {
   "cell_type": "markdown",
   "id": "c5d4e9cb",
   "metadata": {},
   "source": [
    "## 1. Notebook Setup "
   ]
  },
  {
   "cell_type": "code",
   "execution_count": null,
   "id": "f4ece25c",
   "metadata": {},
   "outputs": [],
   "source": [
    "%store -r"
   ]
  },
  {
   "cell_type": "code",
   "execution_count": null,
   "id": "142960d7",
   "metadata": {},
   "outputs": [],
   "source": [
    "import boto3\n",
    "from time import sleep\n",
    "import zipfile\n",
    "from io import BytesIO\n",
    "from utility.knowledgebase import interactive_sleep\n",
    "\n",
    "# Create an SNS client\n",
    "sns = boto3.client('sns')\n",
    "lambda_client = boto3.client('lambda')\n",
    "sts_client = boto3.client('sts')\n",
    "\n",
    "region_name = boto3.Session().region_name\n",
    "account_id = sts_client.get_caller_identity()[\"Account\"]\n",
    "region_name, account_id"
   ]
  },
  {
   "cell_type": "code",
   "execution_count": null,
   "id": "ebad0645",
   "metadata": {},
   "outputs": [],
   "source": [
    "sns_topic_name = 'NotifyTicketCreation'\n",
    "participant_email_address = '' # OPTIONAL TODO: provide participant email"
   ]
  },
  {
   "cell_type": "markdown",
   "id": "efe4112a",
   "metadata": {},
   "source": [
    "<div class=\"alert alert-block alert-warning\">\n",
    "<b>Email:</b> Providing your email for SNS notifications is optional. If you choose not to provide an email address, you will not receive email notifications when your ticket is processed by an agent. However, this is not a crucial requirement for this workshop.\n",
    "</div>"
   ]
  },
  {
   "cell_type": "code",
   "execution_count": null,
   "id": "05574de9",
   "metadata": {},
   "outputs": [],
   "source": [
    "email_functionality = False\n",
    "try:\n",
    "    assert participant_email_address != '' # This is OPTIONAL\n",
    "    \n",
    "    print(\"Email functionality will be created\")\n",
    "    email_functionality = True\n",
    "except Exception as ex:\n",
    "    print(\"Email functionality will not be created\")\n",
    "    email_functionality = False"
   ]
  },
  {
   "cell_type": "markdown",
   "id": "822a6d77",
   "metadata": {},
   "source": [
    "## OPTIONAL: 2. Create Amazon SNS Topic and subscrive to it via email"
   ]
  },
  {
   "cell_type": "code",
   "execution_count": null,
   "id": "6f2ce51a",
   "metadata": {},
   "outputs": [],
   "source": [
    "topic_arn = None\n",
    "if email_functionality:\n",
    "    topic_response = sns.create_topic(Name=sns_topic_name)\n",
    "    topic_arn = topic_response['TopicArn']\n",
    "\n",
    "\n",
    "    # Subscribe an email address to the topic\n",
    "    interactive_sleep(30)\n",
    "    subscription_response = sns.subscribe(\n",
    "        TopicArn=topic_arn,\n",
    "        Protocol='email',\n",
    "        Endpoint= participant_email_address,\n",
    "\n",
    "        ReturnSubscriptionArn=True\n",
    "    )\n",
    "\n",
    "    subscription_arn = subscription_response['SubscriptionArn']\n",
    "    print(f'Subscription ARN: {subscription_arn}')"
   ]
  },
  {
   "cell_type": "markdown",
   "id": "7e4ab7f2",
   "metadata": {},
   "source": [
    "<div class=\"alert alert-block alert-warning\">\n",
    "<b>Confirm SNS subscription:</b> You will receive an email in your inbox, make sure to confirm SNS subscription.\n",
    "</div>"
   ]
  },
  {
   "cell_type": "markdown",
   "id": "18ae42c5",
   "metadata": {},
   "source": [
    "![sns](images/sns-confirm.png)"
   ]
  },
  {
   "cell_type": "markdown",
   "id": "428c61d6",
   "metadata": {},
   "source": [
    "<div class=\"alert alert-block alert-warning\">\n",
    "<b>Confirm SNS subscription:</b> You will receive an email in your inbox, make sure to confirm SNS subscription.\n",
    "</div>"
   ]
  },
  {
   "cell_type": "code",
   "execution_count": null,
   "id": "290a4a74",
   "metadata": {},
   "outputs": [],
   "source": [
    "%store topic_arn sns_topic_name"
   ]
  },
  {
   "cell_type": "markdown",
   "id": "47aa0305",
   "metadata": {},
   "source": [
    "## 3. Modify ProcessTicketDynamoDBStreamFunction AWS Lambda Function to handle events"
   ]
  },
  {
   "cell_type": "markdown",
   "id": "dfc56717",
   "metadata": {},
   "source": [
    "<div class=\"alert alert-block alert-warning\">\n",
    "<b> SNS Email functionality:</b> Uncomment the logic in the following cell to implement email functionality. Uncomment only if you have successfully completed the optional section above to create an SNS subscription.\n",
    "</div>"
   ]
  },
  {
   "cell_type": "code",
   "execution_count": null,
   "id": "f7e910e7",
   "metadata": {},
   "outputs": [],
   "source": [
    "%%writefile index.py\n",
    "import json\n",
    "import boto3\n",
    "import uuid\n",
    "import os\n",
    "\n",
    "bedrock_agent_runtime_client = boto3.client('bedrock-agent-runtime')\n",
    "sns_client = boto3.client('sns')\n",
    "\n",
    "region_name = os.environ['region_name']\n",
    "account_id = os.environ['account_id']\n",
    "agentId = os.environ['agent_id']\n",
    "knowledgeBaseId = os.environ['kb_id']\n",
    "\n",
    "def lambda_handler(event, context):\n",
    "    for record in event['Records']:\n",
    "        if record['eventName'] == 'INSERT':\n",
    "          \n",
    "            employeeId = record[\"dynamodb\"][\"NewImage\"][\"employeeId\"][\"S\"]\n",
    "            ticketId = record[\"dynamodb\"][\"NewImage\"][\"ticketId\"][\"S\"]\n",
    "            ticket = record[\"dynamodb\"][\"NewImage\"][\"ticket_content\"][\"S\"]\n",
    "\n",
    "            inputText = f\"\"\"\n",
    "            Please either auto-resolve the ticket or assign it to environment owner:\n",
    "\n",
    "            <ticket>\n",
    "            {ticket}\n",
    "            </ticket>\n",
    "            \n",
    "            Ensure to resolve the ticket by calling TicketAPI. \n",
    "            \"\"\"\n",
    "            print(inputText)\n",
    "            sessionId = str(uuid.uuid1())\n",
    "\n",
    "            response = bedrock_agent_runtime_client.invoke_agent(\n",
    "                              inputText=inputText,\n",
    "                              agentId=agentId, # Agent ID\n",
    "                              agentAliasId=\"TSTALIASID\", \n",
    "                              sessionId=sessionId,\n",
    "                              enableTrace=True, \n",
    "                              endSession=False,\n",
    "                              sessionState={\n",
    "                                  \"sessionAttributes\": {\n",
    "                                      \"employeeId\": employeeId,\n",
    "                                      \"ticketId\": ticketId\n",
    "                                  },\n",
    "                                  \"knowledgeBaseConfigurations\": [\n",
    "                                    {\n",
    "                                        'knowledgeBaseId': knowledgeBaseId,\n",
    "                                        'retrievalConfiguration': {\n",
    "                                            'vectorSearchConfiguration': {\n",
    "                                                'numberOfResults': 3,\n",
    "                                                'overrideSearchType': 'HYBRID'\n",
    "                                            }\n",
    "                                        }\n",
    "                                    },\n",
    "                                ]\n",
    "                              }\n",
    "                          )\n",
    "            print(response)\n",
    "\n",
    "        elif record['eventName'] == 'MODIFY':\n",
    "            \n",
    "            ###########################################################\n",
    "            ## Uncomment this logic if you want email functionality ##\n",
    "            #########################################################\n",
    "            \n",
    "            # ticketId = record[\"dynamodb\"][\"NewImage\"][\"ticketId\"][\"S\"]\n",
    "            # assignStatus = record[\"dynamodb\"][\"NewImage\"][\"assignStatus\"][\"S\"]\n",
    "            # communication = record[\"dynamodb\"][\"NewImage\"][\"communication\"][\"S\"]\n",
    "            # ticket_content = record[\"dynamodb\"][\"NewImage\"][\"ticket_content\"][\"S\"]\n",
    "            # message = f\"\"\"\\n Update to Ticket {ticketId}\\n\\n\\nassignStatus: {assignStatus}\\n\\n\\ncommunication: {communication}\\n\\n\\nticket_content: {ticket_content}\"\"\"\n",
    "            # print(message)\n",
    "            # response = sns_client.publish(\n",
    "            #     TopicArn=f'arn:aws:sns:{region_name}:{account_id}:NotifyTicketCreation', # SNS Topic,\n",
    "            #     Message=message,\n",
    "            # )\n",
    "            \n",
    "            ###########################################################\n",
    "            ## Uncomment this logic if you want email functionality ##\n",
    "            #########################################################\n",
    "            pass\n",
    "\n",
    "    return {\n",
    "        'statusCode': 200,\n",
    "        'body': json.dumps('Data processing completed successfully')\n",
    "    }\n"
   ]
  },
  {
   "cell_type": "code",
   "execution_count": null,
   "id": "76c5ff12",
   "metadata": {},
   "outputs": [],
   "source": [
    "s = BytesIO()\n",
    "z = zipfile.ZipFile(s, 'w')\n",
    "z.write(\"index.py\")\n",
    "z.close()\n",
    "zip_content = s.getvalue()\n",
    "\n",
    "response = lambda_client.update_function_code(\n",
    "    FunctionName='ProcessTicketDynamoDBStreamFunction',\n",
    "    ZipFile= zip_content,\n",
    "    Publish=True  # Set to True to publish a new version of the function\n",
    ")\n",
    "\n",
    "interactive_sleep(30)"
   ]
  },
  {
   "cell_type": "code",
   "execution_count": null,
   "id": "f2bcb5fb",
   "metadata": {},
   "outputs": [],
   "source": [
    "# Add more environment variables as needed\n",
    "environment_variables = {\n",
    "    'region_name': region_name,\n",
    "    'account_id': account_id,\n",
    "    'agent_id': agent_id,\n",
    "    'kb_id': kb_id,\n",
    "}"
   ]
  },
  {
   "cell_type": "code",
   "execution_count": null,
   "id": "90bdba01",
   "metadata": {},
   "outputs": [],
   "source": [
    "lambda_client.update_function_configuration(\n",
    "    FunctionName='ProcessTicketDynamoDBStreamFunction',\n",
    "    Environment={\n",
    "        'Variables': environment_variables\n",
    "    }\n",
    ")"
   ]
  },
  {
   "cell_type": "markdown",
   "id": "9db388a5",
   "metadata": {},
   "source": [
    "## 4. Test Event"
   ]
  },
  {
   "cell_type": "code",
   "execution_count": null,
   "id": "054ab336",
   "metadata": {},
   "outputs": [],
   "source": [
    "from utility.ticket import create_ticket, display_table"
   ]
  },
  {
   "cell_type": "markdown",
   "id": "79234724",
   "metadata": {},
   "source": [
    "### 4.1 Test case 1"
   ]
  },
  {
   "cell_type": "code",
   "execution_count": null,
   "id": "e915558d",
   "metadata": {},
   "outputs": [],
   "source": [
    "display_table('UserAccessTable')"
   ]
  },
  {
   "cell_type": "code",
   "execution_count": null,
   "id": "3f9ed883",
   "metadata": {},
   "outputs": [],
   "source": [
    "display_table('TicketTable')"
   ]
  },
  {
   "cell_type": "markdown",
   "id": "0238a84e",
   "metadata": {},
   "source": [
    "You can `employee 111` already has access to `environment 1`"
   ]
  },
  {
   "cell_type": "code",
   "execution_count": null,
   "id": "01f90222",
   "metadata": {},
   "outputs": [],
   "source": [
    "ticket = \"\"\"\n",
    "Title: Request Environment Access\n",
    "EnvironmentId: 1\n",
    "Buisness Justification: Need to test new features on Quicksight Dashboard\n",
    "Access duration: 8 days\n",
    "Access Type: Read\n",
    "\"\"\"\n",
    "employeeId = '111'"
   ]
  },
  {
   "cell_type": "code",
   "execution_count": null,
   "id": "a88d1c23",
   "metadata": {},
   "outputs": [],
   "source": [
    "ticketId = create_ticket(ticket, employeeId)"
   ]
  },
  {
   "cell_type": "markdown",
   "id": "7bdfa805",
   "metadata": {},
   "source": [
    "<div class=\"alert alert-block alert-info\">\n",
    "<b>Information:</b> Access to the employee can be auto-assigned if all the given scenarios are true:\n",
    "\n",
    "1. The environment is owned by the manager of the employee.\n",
    "2. The employee has asked for less than 30 days of access.\n",
    "3. The access type is not Admin.\n",
    "</div>"
   ]
  },
  {
   "cell_type": "markdown",
   "id": "b66c423d",
   "metadata": {},
   "source": [
    "<div class=\"alert alert-block alert-warning\">\n",
    "<b>Warning:</b> Wait to receive an email before checking the output of `display_table('TicketTable')`\n",
    "</div>"
   ]
  },
  {
   "cell_type": "markdown",
   "id": "b0c4af08",
   "metadata": {},
   "source": [
    "This ticket should be auto-resolved as `employee 111` already has access to `environment 1`"
   ]
  },
  {
   "cell_type": "code",
   "execution_count": null,
   "id": "9a9a3305",
   "metadata": {},
   "outputs": [],
   "source": [
    "display_table('TicketTable')"
   ]
  },
  {
   "cell_type": "markdown",
   "id": "44976026",
   "metadata": {},
   "source": [
    "![output-test-case-1](images/output-test-case-1.png)"
   ]
  },
  {
   "cell_type": "markdown",
   "id": "2de14ca2",
   "metadata": {},
   "source": [
    "<div class=\"alert alert-block alert-success\">\n",
    "<b>Disclaimer:</b> Please note that the output of Large Language Models (LLMs) is non-deterministic, meaning that the responses generated may vary each time the model is run. Due to this inherent nature of LLMs, there is a possibility of observing undesirable or unexpected behavior. If such a situation arises, we recommend running the `create_ticket` function again to obtain a new response.\n",
    "\n",
    "To enhance the resilience and robustness of this application, we strongly recommend implementing the best practices outlined in the following resources:\n",
    "\n",
    "1. **[Best Practices for Building Robust Generative AI Applications with Amazon Bedrock Agents - Part 1](https://aws.amazon.com/blogs/machine-learning/best-practices-for-building-robust-generative-ai-applications-with-amazon-bedrock-agents-part-1/)**\n",
    "2. **[Best Practices for Building Robust Generative AI Applications with Amazon Bedrock Agents - Part 2](https://aws.amazon.com/blogs/machine-learning/best-practices-for-building-robust-generative-ai-applications-with-amazon-bedrock-agents-part-2/)**\n",
    "</div>\n"
   ]
  },
  {
   "cell_type": "markdown",
   "id": "df778185",
   "metadata": {},
   "source": [
    "### 4.2 Test case 2"
   ]
  },
  {
   "cell_type": "code",
   "execution_count": null,
   "id": "f736c481",
   "metadata": {},
   "outputs": [],
   "source": [
    "ticket = \"\"\"\n",
    "Title: Request Environment Access\n",
    "EnvironmentId: 4\n",
    "Buisness Justification: Need to view model results for sales forcast Q4\n",
    "Access duration: 24 days\n",
    "Access Type: Read\n",
    "\"\"\"\n",
    "employeeId = '121'"
   ]
  },
  {
   "cell_type": "code",
   "execution_count": null,
   "id": "d2dde31f",
   "metadata": {},
   "outputs": [],
   "source": [
    "ticketId = create_ticket(ticket, employeeId)"
   ]
  },
  {
   "cell_type": "markdown",
   "id": "24c77955",
   "metadata": {},
   "source": [
    "<div class=\"alert alert-block alert-info\">\n",
    "<b>Information:</b> Access to the employee can be auto-assigned if all the given scenarios are true:\n",
    "\n",
    "1. The environment is owned by the manager of the employee.\n",
    "2. The employee has asked for less than 30 days of access.\n",
    "3. The access type is not Admin.\n",
    "</div>"
   ]
  },
  {
   "cell_type": "markdown",
   "id": "da610f2b",
   "metadata": {},
   "source": [
    "<div class=\"alert alert-block alert-warning\">\n",
    "<b>Warning:</b> Wait to receive an email before checking the output of `display_table('TicketTable')`\n",
    "</div>"
   ]
  },
  {
   "cell_type": "markdown",
   "id": "5e666406",
   "metadata": {},
   "source": [
    "Lets evaluate the above scenarios for this test case:\n",
    "\n",
    "1. `@susi` is owner of `environment 4` and `employee 121`'s manager is `@sam`.\n",
    "\n",
    "This ticket should be assigned to `@susi`. "
   ]
  },
  {
   "cell_type": "code",
   "execution_count": null,
   "id": "a2777652",
   "metadata": {},
   "outputs": [],
   "source": [
    "display_table('TicketTable')"
   ]
  },
  {
   "cell_type": "markdown",
   "id": "baf53aea",
   "metadata": {},
   "source": [
    "![output-test-case-2](images/output-test-case-2.png)"
   ]
  },
  {
   "cell_type": "markdown",
   "id": "51bd12ed",
   "metadata": {},
   "source": [
    "<div class=\"alert alert-block alert-success\">\n",
    "<b>Disclaimer:</b> Please note that the output of Large Language Models (LLMs) is non-deterministic, meaning that the responses generated may vary each time the model is run. Due to this inherent nature of LLMs, there is a possibility of observing undesirable or unexpected behavior. If such a situation arises, we recommend running the `create_ticket` function again to obtain a new response.\n",
    "\n",
    "To enhance the resilience and robustness of this application, we strongly recommend implementing the best practices outlined in the following resources:\n",
    "\n",
    "1. **[Best Practices for Building Robust Generative AI Applications with Amazon Bedrock Agents - Part 1](https://aws.amazon.com/blogs/machine-learning/best-practices-for-building-robust-generative-ai-applications-with-amazon-bedrock-agents-part-1/)**\n",
    "2. **[Best Practices for Building Robust Generative AI Applications with Amazon Bedrock Agents - Part 2](https://aws.amazon.com/blogs/machine-learning/best-practices-for-building-robust-generative-ai-applications-with-amazon-bedrock-agents-part-2/)**\n",
    "</div>\n"
   ]
  },
  {
   "cell_type": "markdown",
   "id": "c99fdc79",
   "metadata": {},
   "source": [
    "### 4.3 Test case 3"
   ]
  },
  {
   "cell_type": "code",
   "execution_count": null,
   "id": "b8b83504",
   "metadata": {},
   "outputs": [],
   "source": [
    "ticket = \"\"\"\n",
    "Title: Request Environment Access\n",
    "EnvironmentId: 1\n",
    "Buisness Justification: Need to test new features on Quicksight Dashboard\n",
    "Access duration: 24 days\n",
    "Access Type: Read\n",
    "\"\"\"\n",
    "\n",
    "employeeId = '121'"
   ]
  },
  {
   "cell_type": "code",
   "execution_count": null,
   "id": "bbd6e0ae",
   "metadata": {},
   "outputs": [],
   "source": [
    "ticketId = create_ticket(ticket, employeeId)"
   ]
  },
  {
   "cell_type": "markdown",
   "id": "04392436",
   "metadata": {},
   "source": [
    "<div class=\"alert alert-block alert-info\">\n",
    "<b>Information:</b> Access to the employee can be auto-assigned if all the given scenarios are true:\n",
    "\n",
    "1. The environment is owned by the manager of the employee.\n",
    "2. The employee has asked for less than 30 days of access.\n",
    "3. The access type is not Admin.\n",
    "</div>"
   ]
  },
  {
   "cell_type": "markdown",
   "id": "88890bf2",
   "metadata": {},
   "source": [
    "Lets evaluate the above scenarios for this test case:\n",
    "\n",
    "1. `@sam` is owner of `environment 1` and `employee 121`'s manager is also `@sam`.\n",
    "2. The employee has asked for less than 30 days of access.\n",
    "3. The access type is not Admin.\n",
    "\n",
    "This ticket should be auto-resolved."
   ]
  },
  {
   "cell_type": "markdown",
   "id": "cf9e9dbe",
   "metadata": {},
   "source": [
    "<div class=\"alert alert-block alert-warning\">\n",
    "<b>Warning:</b> Wait to receive an email before checking the output of `display_table('TicketTable')`\n",
    "</div>"
   ]
  },
  {
   "cell_type": "code",
   "execution_count": null,
   "id": "3b875b1c",
   "metadata": {},
   "outputs": [],
   "source": [
    "display_table('TicketTable')"
   ]
  },
  {
   "cell_type": "markdown",
   "id": "5d85a622",
   "metadata": {},
   "source": [
    "![output-test-case-3](images/output-test-case-3.png)"
   ]
  },
  {
   "cell_type": "markdown",
   "id": "e1c0d9a9",
   "metadata": {},
   "source": [
    "<div class=\"alert alert-block alert-success\">\n",
    "<b>Disclaimer:</b> Please note that the output of Large Language Models (LLMs) is non-deterministic, meaning that the responses generated may vary each time the model is run. Due to this inherent nature of LLMs, there is a possibility of observing undesirable or unexpected behavior. If such a situation arises, we recommend running the `create_ticket` function again to obtain a new response.\n",
    "\n",
    "To enhance the resilience and robustness of this application, we strongly recommend implementing the best practices outlined in the following resources:\n",
    "\n",
    "1. **[Best Practices for Building Robust Generative AI Applications with Amazon Bedrock Agents - Part 1](https://aws.amazon.com/blogs/machine-learning/best-practices-for-building-robust-generative-ai-applications-with-amazon-bedrock-agents-part-1/)**\n",
    "2. **[Best Practices for Building Robust Generative AI Applications with Amazon Bedrock Agents - Part 2](https://aws.amazon.com/blogs/machine-learning/best-practices-for-building-robust-generative-ai-applications-with-amazon-bedrock-agents-part-2/)**\n",
    "</div>\n"
   ]
  },
  {
   "cell_type": "markdown",
   "id": "b627ac5f",
   "metadata": {},
   "source": [
    "<div class=\"alert alert-block alert-warning\">\n",
    "<b>Next steps:</b> Remember to run the CLEANUP notebook at the end of your session.\n",
    "</div>"
   ]
  },
  {
   "cell_type": "markdown",
   "id": "60b2fbde",
   "metadata": {},
   "source": []
  }
 ],
 "metadata": {
  "kernelspec": {
   "display_name": "conda_python3",
   "language": "python",
   "name": "conda_python3"
  },
  "language_info": {
   "codemirror_mode": {
    "name": "ipython",
    "version": 3
   },
   "file_extension": ".py",
   "mimetype": "text/x-python",
   "name": "python",
   "nbconvert_exporter": "python",
   "pygments_lexer": "ipython3",
   "version": "3.10.15"
  }
 },
 "nbformat": 4,
 "nbformat_minor": 5
}
