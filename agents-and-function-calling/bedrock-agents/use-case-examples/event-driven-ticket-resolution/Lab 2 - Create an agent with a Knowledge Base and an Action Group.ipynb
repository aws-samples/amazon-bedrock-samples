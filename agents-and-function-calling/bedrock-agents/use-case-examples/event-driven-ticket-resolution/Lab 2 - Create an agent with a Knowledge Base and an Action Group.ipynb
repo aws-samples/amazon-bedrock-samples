{
 "cells": [
  {
   "cell_type": "markdown",
   "id": "ae21b866",
   "metadata": {},
   "source": [
    "# Lab 2 - Create an agent with a Knowledge Base and an Action Group"
   ]
  },
  {
   "cell_type": "markdown",
   "id": "51932a25",
   "metadata": {},
   "source": [
    "In this notebook, we will be creating a Amazon Bedrock Agent responsible for handling environment access tickets from employee's. We will also associate an Amazon Bedrock Knowledge Base giving the agent ability to decide using companies policies whether to auto-resolve ticket or assign ticket to Environment owner.\n",
    "\n",
    "1. Notebook setup\n",
    "2. Create Lambda Function\n",
    "3. Create Amazon Bedrock Agents\n",
    "4. Create Agent Action Group\n",
    "5. Associate Amazon Bedrock Knowledge Base with Agent\n",
    "6. Invoke Ticket Agent"
   ]
  },
  {
   "cell_type": "markdown",
   "id": "d5d0947e",
   "metadata": {},
   "source": [
    "![architecture-agent](images/architecture-agent.png)"
   ]
  },
  {
   "cell_type": "markdown",
   "id": "f74ee43e",
   "metadata": {},
   "source": [
    "## 1. Notebook setup\n"
   ]
  },
  {
   "cell_type": "code",
   "execution_count": null,
   "id": "25a8ce0b",
   "metadata": {},
   "outputs": [],
   "source": [
    "%store -r"
   ]
  },
  {
   "cell_type": "code",
   "execution_count": null,
   "id": "da42233f",
   "metadata": {},
   "outputs": [],
   "source": [
    "import boto3\n",
    "import json\n",
    "import time\n",
    "import zipfile\n",
    "from io import BytesIO\n",
    "import uuid\n",
    "import pprint\n",
    "import logging\n",
    "from utility.knowledgebase import interactive_sleep\n",
    "\n",
    "print(boto3.__version__)"
   ]
  },
  {
   "cell_type": "code",
   "execution_count": null,
   "id": "08d432ac",
   "metadata": {},
   "outputs": [],
   "source": [
    "import logging\n",
    "\n",
    "# setting logger\n",
    "logging.basicConfig(format='[%(asctime)s] p%(process)s {%(filename)s:%(lineno)d} %(levelname)s - %(message)s', level=logging.INFO)\n",
    "logger = logging.getLogger(__name__)"
   ]
  },
  {
   "cell_type": "code",
   "execution_count": null,
   "id": "1b1d5969",
   "metadata": {},
   "outputs": [],
   "source": [
    "# getting boto3 clients for required AWS services\n",
    "sts_client = boto3.client('sts')\n",
    "iam_client = boto3.client('iam')\n",
    "lambda_client = boto3.client('lambda')\n",
    "bedrock_agent_client = boto3.client('bedrock-agent')\n",
    "bedrock_agent_runtime_client = boto3.client('bedrock-agent-runtime')"
   ]
  },
  {
   "cell_type": "code",
   "execution_count": null,
   "id": "95810b25",
   "metadata": {},
   "outputs": [],
   "source": [
    "session = boto3.session.Session()\n",
    "region_name = session.region_name\n",
    "account_id = sts_client.get_caller_identity()[\"Account\"]\n",
    "region_name, account_id"
   ]
  },
  {
   "cell_type": "code",
   "execution_count": null,
   "id": "f60e00ef",
   "metadata": {},
   "outputs": [],
   "source": [
    "agent_name = \"ticket-assistant\"\n",
    "agent_bedrock_allow_policy_name = f\"{agent_name}-ba-{suffix}\"\n",
    "agent_knowledgebase_allow_policy_name = f\"{agent_name}-kb-{suffix}\"\n",
    "agent_role_name = f'AmazonBedrockExecutionRoleForAgents_{agent_name}'\n",
    "\n",
    "agent_description = \"Agent for resolve Employee tickets\"\n",
    "agent_instruction = \"\"\"You are a ticket resolving agent responsible for handling environment access tickets from employee's. \n",
    "Decide using companies policies whether to auto-resolve ticket or assign ticket to Environment owner.\n",
    "\"\"\"\n",
    "\n",
    "kb_description = \"This knowledge base consists of company policies regarding providing environment access to employees.\"\n",
    "\n",
    "agent_alias_name = f\"{agent_name}-alias\"\n",
    "lambda_function_role = f'{agent_name}-lambda-role-{suffix}'\n",
    "lambda_function_name = f'{agent_name}-{suffix}'"
   ]
  },
  {
   "cell_type": "markdown",
   "id": "04371de3",
   "metadata": {},
   "source": [
    "## 2. Create Lambda Function\n"
   ]
  },
  {
   "cell_type": "markdown",
   "id": "96416db3",
   "metadata": {},
   "source": [
    "We will now create a Lambda function that interacts with the `UserTable`, `EnvironmentTable`, `UserAccessTable`, and `TicketTable` Amazon DynamoDB tables. To do so we will:\n",
    "\n",
    "Create the lambda_function.py file which contains the logic for our Lambda function\n",
    "Create the IAM role for our Lambda function\n",
    "Create the Lambda function infrastructure with the required permissions"
   ]
  },
  {
   "cell_type": "code",
   "execution_count": null,
   "id": "6c3aceb1",
   "metadata": {},
   "outputs": [],
   "source": [
    "%%writefile lambda_function.py\n",
    "\n",
    "import json\n",
    "import boto3\n",
    "\n",
    "dynamodb = boto3.resource('dynamodb')\n",
    "\n",
    "UserDynamoDBTable = dynamodb.Table('UserTable')\n",
    "EnvironmentDynamoDBTable = dynamodb.Table('EnvironmentTable')\n",
    "UserAccessDynamoDBTable = dynamodb.Table('UserAccessTable')\n",
    "TicketDynamoDBTable = dynamodb.Table('TicketTable')\n",
    "\n",
    "def checkEmployeeAccess(employeeId, environmentId):\n",
    "    response = UserAccessDynamoDBTable.get_item(Key={'employeeId': employeeId, 'environmentId': environmentId})\n",
    "    if 'Item' in response:\n",
    "        return True\n",
    "    else:\n",
    "        return False\n",
    "\n",
    "def getEnvironmentOwner(environmentId):\n",
    "    response = EnvironmentDynamoDBTable.get_item(Key={'environmentId': environmentId})\n",
    "    if 'Item' in response:\n",
    "        item = response['Item']\n",
    "        owner = item['managing_entity']\n",
    "        return f\"Owner of Environment {environmentId} is {owner}.\"\n",
    "    else:\n",
    "        return f\"Environment {environmentId} does not exist.\"\n",
    "        \n",
    "\n",
    "def getEmployeeManager(employeeId):\n",
    "    response = UserDynamoDBTable.get_item(Key={'employeeId': employeeId})\n",
    "    if 'Item' in response:\n",
    "        item = response['Item']\n",
    "        manager = item['manager']\n",
    "        return manager\n",
    "    \n",
    "\n",
    "def giveAccess(employeeId, environmentId):\n",
    "    response = UserAccessDynamoDBTable.put_item(Item={'employeeId': employeeId, 'environmentId': environmentId, 'description': 'Assigned by ticket resolving bot!'})\n",
    "\n",
    "def autoResolveTicket(employeeId, ticketId, description):\n",
    "\n",
    "    # Define the key(s) of the item you want to update\n",
    "    key = {\n",
    "        'ticketId': ticketId,\n",
    "        'employeeId': employeeId\n",
    "    }\n",
    "\n",
    "    # Define the attribute updates\n",
    "    update_expression = 'SET assignStatus = :newAssignStatus,communication = :newCommunication'\n",
    "    expression_attribute_values = {\n",
    "        ':newAssignStatus': 'auto-resolved',\n",
    "        ':newCommunication': description\n",
    "    }\n",
    "\n",
    "    # Update the item\n",
    "    response = TicketDynamoDBTable.update_item(\n",
    "        Key=key,\n",
    "        UpdateExpression=update_expression,\n",
    "        ExpressionAttributeValues=expression_attribute_values,\n",
    "        ReturnValues='UPDATED_NEW'\n",
    "    )\n",
    "\n",
    "def assignTicketToEnvironmentOwner(employeeId, ticketId, owner, instructions):\n",
    "    # Define the key(s) of the item you want to update\n",
    "    key = {\n",
    "        'ticketId': ticketId,\n",
    "        'employeeId': employeeId\n",
    "    }\n",
    "\n",
    "    # Define the attribute updates\n",
    "    update_expression = 'SET assignStatus = :newAssignStatus,communication = :newCommunication'\n",
    "    expression_attribute_values = {\n",
    "        ':newAssignStatus': f'assigned to {owner}',\n",
    "        ':newCommunication': instructions\n",
    "    }\n",
    "\n",
    "    # Update the item\n",
    "    response = TicketDynamoDBTable.update_item(\n",
    "        Key=key,\n",
    "        UpdateExpression=update_expression,\n",
    "        ExpressionAttributeValues=expression_attribute_values,\n",
    "        ReturnValues='UPDATED_NEW'\n",
    "    )\n",
    "\n",
    "def lambda_handler(event, context):\n",
    "    agent = event['agent']\n",
    "    actionGroup = event['actionGroup']\n",
    "    parameters = event.get('parameters', [])\n",
    "    requestBody = event.get('requestBody', {})\n",
    "    function = event['function']\n",
    "    session_attributes = event.get('sessionAttributes', {})\n",
    "    employeeId = session_attributes.get('employeeId', '')\n",
    "    ticketId = session_attributes.get('ticketId', '')\n",
    "\n",
    "\n",
    "    responseBody =  {\n",
    "        \"TEXT\": {\n",
    "            \"body\": \"Error, no function was called\"\n",
    "        }\n",
    "    }\n",
    "\n",
    "    if function == 'checkEmployeeAccess':\n",
    "        environmentId = None\n",
    "        for param in parameters:\n",
    "            if param[\"name\"] == \"environmentId\":\n",
    "                environmentId = param[\"value\"]\n",
    "\n",
    "        if employeeId and environmentId:\n",
    "            access = checkEmployeeAccess(employeeId, environmentId)\n",
    "            if access:\n",
    "                responseBody =  {\n",
    "                    'TEXT': {\n",
    "                        \"body\": f\"User {employeeId} has access to Environment {environmentId}\"\n",
    "                    }\n",
    "                }\n",
    "            else:\n",
    "                responseBody =  {\n",
    "                    'TEXT': {\n",
    "                        \"body\": f\"User {employeeId} does not have access to Environment {environmentId}\"\n",
    "                    }\n",
    "                }\n",
    "\n",
    "        else:\n",
    "            responseBody = {'TEXT': {'body': 'Missing required parameters'}}\n",
    "            \n",
    "       \n",
    "        \n",
    "    elif function == 'getEnvironmentOwner':\n",
    "        environmentId = None\n",
    "        for param in parameters:\n",
    "            if param[\"name\"] == \"environmentId\":\n",
    "                environmentId = param[\"value\"]\n",
    "            \n",
    "        if environmentId:\n",
    "            response = getEnvironmentOwner(environmentId)\n",
    "            responseBody =  {\n",
    "                'TEXT': {\n",
    "                    \"body\": response\n",
    "                }\n",
    "            }\n",
    "        else:\n",
    "            responseBody = {'TEXT': {'body': 'Missing required parameters environmentId'}}\n",
    "\n",
    "    elif function == 'getEmployeeManager':\n",
    "        if employeeId:\n",
    "            manager = getEmployeeManager(employeeId)\n",
    "            responseBody =  {\n",
    "                'TEXT': {\n",
    "                    \"body\": f\"Manager of employee {employeeId} is {manager}\"\n",
    "                }\n",
    "            }\n",
    "        else:\n",
    "            responseBody = {'TEXT': {'body': 'Missing required parameters employeeId'}} \n",
    "    \n",
    "    elif function == 'giveAccess':\n",
    "        environmentId = None\n",
    "        for param in parameters:\n",
    "            if param[\"name\"] == \"environmentId\":\n",
    "                environmentId = param[\"value\"]\n",
    "\n",
    "        if employeeId and environmentId:\n",
    "            manager = giveAccess(employeeId, environmentId)\n",
    "            responseBody =  {\n",
    "                'TEXT': {\n",
    "                    \"body\": f\"Access to {employeeId} completed!\"\n",
    "                }\n",
    "            }\n",
    "        else:\n",
    "            responseBody = {'TEXT': {'body': 'Missing required parameters'}}\n",
    "\n",
    "    elif function == 'autoResolveTicket':\n",
    "        description = None\n",
    "        for param in parameters:\n",
    "            if param[\"name\"] == \"description\":\n",
    "                description = param[\"value\"]\n",
    "\n",
    "        if employeeId and ticketId and description:\n",
    "            _ = autoResolveTicket(employeeId, ticketId, description)\n",
    "            responseBody =  {\n",
    "                'TEXT': {\n",
    "                    \"body\": f\"Ticket auto-resolved successfully\"\n",
    "                }\n",
    "            }\n",
    "        else:\n",
    "            responseBody = {'TEXT': {'body': 'Missing required parameters'}}   \n",
    "    \n",
    "    elif function == 'assignTicketToEnvironmentOwner':\n",
    "        owner = None\n",
    "        instructions = None\n",
    "        for param in parameters:\n",
    "            if param[\"name\"] == \"owner\":\n",
    "                owner = param[\"value\"]\n",
    "            if param[\"name\"] == \"instructions\":\n",
    "                instructions = param[\"value\"]\n",
    "\n",
    "        if employeeId and ticketId and owner and instructions:\n",
    "            _ = assignTicketToEnvironmentOwner(employeeId, ticketId, owner, instructions)\n",
    "            responseBody =  {\n",
    "                'TEXT': {\n",
    "                    \"body\": f\"Ticket assigned successfully\"\n",
    "                }\n",
    "            }\n",
    "        else:\n",
    "            responseBody = {'TEXT': {'body': 'Missing required parameters'}}       \n",
    "    action_response = {\n",
    "        'actionGroup': actionGroup,\n",
    "        'function': function,\n",
    "        'functionResponse': {\n",
    "            'responseBody': responseBody\n",
    "        }\n",
    "    }\n",
    "\n",
    "    function_response = {'response': action_response, 'messageVersion': event['messageVersion']}\n",
    "    print(\"Response: {}\".format(function_response))\n",
    "\n",
    "    return function_response"
   ]
  },
  {
   "cell_type": "markdown",
   "id": "05296140",
   "metadata": {},
   "source": [
    "Next let's create the lambda IAM role and policy to invoke a Bedrock model\n"
   ]
  },
  {
   "cell_type": "code",
   "execution_count": null,
   "id": "98148661",
   "metadata": {},
   "outputs": [],
   "source": [
    "# Create IAM Role for the Lambda function\n",
    "try:\n",
    "    assume_role_policy_document = {\n",
    "        \"Version\": \"2012-10-17\",\n",
    "        \"Statement\": [\n",
    "            {\n",
    "                \"Effect\": \"Allow\",\n",
    "                \"Principal\": {\n",
    "                    \"Service\": \"lambda.amazonaws.com\"\n",
    "                },\n",
    "                \"Action\": \"sts:AssumeRole\"\n",
    "            }\n",
    "        ]\n",
    "    }\n",
    "\n",
    "    assume_role_policy_document_json = json.dumps(assume_role_policy_document)\n",
    "\n",
    "    lambda_iam_role = iam_client.create_role(\n",
    "        RoleName=lambda_function_role,\n",
    "        AssumeRolePolicyDocument=assume_role_policy_document_json\n",
    "    )\n",
    "\n",
    "    # Pause to make sure role is created\n",
    "    interactive_sleep(10)\n",
    "except:\n",
    "    lambda_iam_role = iam_client.get_role(RoleName=lambda_function_role)\n",
    "\n",
    "dynamodb_policy_document = {\n",
    "    \"Version\": \"2012-10-17\",\n",
    "    \"Statement\": [\n",
    "        {\n",
    "            \"Sid\": \"Statement1\",\n",
    "            \"Effect\": \"Allow\",\n",
    "            \"Action\": [\n",
    "                \"dynamodb:GetItem\",\n",
    "                \"dynamodb:UpdateItem\",\n",
    "                \"dynamodb:PutItem\"\n",
    "            ],\n",
    "            \"Resource\": [\n",
    "                f\"arn:aws:dynamodb:{region_name}:{account_id}:table/UserTable\",\n",
    "                f\"arn:aws:dynamodb:{region_name}:{account_id}:table/EnvironmentTable\",\n",
    "                f\"arn:aws:dynamodb:{region_name}:{account_id}:table/UserAccessTable\",\n",
    "                f\"arn:aws:dynamodb:{region_name}:{account_id}:table/TicketTable\"\n",
    "            ]\n",
    "        }\n",
    "    ]\n",
    "}\n",
    "\n",
    "db_policy_name = f'DynamoDBPolicy-{agent_name}-{suffix}'\n",
    "\n",
    "db_policy = iam_client.create_policy(\n",
    "    PolicyName=db_policy_name,\n",
    "    PolicyDocument=json.dumps(dynamodb_policy_document),\n",
    "    Description='Policy for accessing DynamoDB tables',\n",
    ")\n",
    "\n",
    "iam_client.attach_role_policy(\n",
    "        RoleName=lambda_function_role,\n",
    "        PolicyArn=db_policy[\"Policy\"][\"Arn\"]\n",
    ")\n",
    "iam_client.attach_role_policy(\n",
    "    RoleName=lambda_function_role,\n",
    "    PolicyArn='arn:aws:iam::aws:policy/service-role/AWSLambdaBasicExecutionRole'\n",
    ")"
   ]
  },
  {
   "cell_type": "markdown",
   "id": "0632e05d",
   "metadata": {},
   "source": [
    "We can now package the lambda function to a Zip file and create the lambda function using boto3"
   ]
  },
  {
   "cell_type": "code",
   "execution_count": null,
   "id": "306f4836",
   "metadata": {},
   "outputs": [],
   "source": [
    "# Package up the lambda function code\n",
    "s = BytesIO()\n",
    "z = zipfile.ZipFile(s, 'w')\n",
    "z.write(\"lambda_function.py\")\n",
    "z.close()\n",
    "zip_content = s.getvalue()\n",
    "\n",
    "# Create Lambda Function\n",
    "lambda_function = lambda_client.create_function(\n",
    "    FunctionName=lambda_function_name,\n",
    "    Runtime='python3.12',\n",
    "    Timeout=180,\n",
    "    Role=lambda_iam_role['Role']['Arn'],\n",
    "    Code={'ZipFile': zip_content},\n",
    "    Handler='lambda_function.lambda_handler'\n",
    ")"
   ]
  },
  {
   "cell_type": "code",
   "execution_count": null,
   "id": "e53a7054",
   "metadata": {},
   "outputs": [],
   "source": [
    "lambda_function_arn = lambda_function['FunctionArn']\n",
    "%store lambda_function_arn lambda_function_name lambda_function_role db_policy_name"
   ]
  },
  {
   "cell_type": "markdown",
   "id": "54023102",
   "metadata": {},
   "source": [
    "## 3. Create Amazon Bedrock Agent\n"
   ]
  },
  {
   "cell_type": "markdown",
   "id": "a159a110",
   "metadata": {},
   "source": [
    "### 3.1 Create Amazon Bedrock Agent Role and Policy"
   ]
  },
  {
   "cell_type": "markdown",
   "id": "e6cca071",
   "metadata": {},
   "source": [
    "We will now create the agent. To do so, we first need to create the agent policies that allow bedrock model invocation for a specific foundation model and the agent IAM role with the policy associated to it.\n",
    "\n"
   ]
  },
  {
   "cell_type": "code",
   "execution_count": null,
   "id": "76925e69",
   "metadata": {},
   "outputs": [],
   "source": [
    "# Create IAM policies for agent\n",
    "bedrock_agent_bedrock_allow_policy_statement = {\n",
    "    \"Version\": \"2012-10-17\",\n",
    "    \"Statement\": [\n",
    "        {\n",
    "            \"Sid\": \"AmazonBedrockAgentBedrockFoundationModelPolicy\",\n",
    "            \"Effect\": \"Allow\",\n",
    "            \"Action\": \"bedrock:InvokeModel\",\n",
    "            \"Resource\": [\n",
    "                f\"arn:aws:bedrock:{region_name}::foundation-model/{model_id}\"\n",
    "            ]\n",
    "        }\n",
    "    ]\n",
    "}\n",
    "\n",
    "bedrock_policy_json = json.dumps(bedrock_agent_bedrock_allow_policy_statement)\n",
    "\n",
    "agent_bedrock_policy = iam_client.create_policy(\n",
    "    PolicyName=agent_bedrock_allow_policy_name,\n",
    "    PolicyDocument=bedrock_policy_json\n",
    ")"
   ]
  },
  {
   "cell_type": "markdown",
   "id": "5e0c8b40",
   "metadata": {},
   "source": [
    "Since the agent will also invoke Amazon Bedrock Knowledge Base, we need an allow policy for retrieve action."
   ]
  },
  {
   "cell_type": "code",
   "execution_count": null,
   "id": "bf886830",
   "metadata": {},
   "outputs": [],
   "source": [
    "bedrock_agent_knowledgebase_allow_policy_statement = {\n",
    "    \"Version\": \"2012-10-17\",\n",
    "    \"Statement\": [\n",
    "        {\n",
    "            \"Sid\": \"AmazonBedrockAgentBedrockKnowledgeBasePolicy\",\n",
    "            \"Effect\": \"Allow\",\n",
    "            \"Action\": \"bedrock:Retrieve\",\n",
    "            \"Resource\": [\n",
    "                f\"arn:aws:bedrock:{region_name}:{account_id}:knowledge-base/{kb_id}\"\n",
    "            ]\n",
    "        }\n",
    "    ]\n",
    "}\n",
    "\n",
    "bedrock_knowledgebase_policy_json = json.dumps(bedrock_agent_knowledgebase_allow_policy_statement)\n",
    "\n",
    "agent_kb_policy = iam_client.create_policy(\n",
    "    PolicyName=agent_knowledgebase_allow_policy_name,\n",
    "    PolicyDocument=bedrock_knowledgebase_policy_json\n",
    ")"
   ]
  },
  {
   "cell_type": "code",
   "execution_count": null,
   "id": "6b2c6c10",
   "metadata": {},
   "outputs": [],
   "source": [
    "# Create IAM Role for the agent and attach IAM policies\n",
    "assume_role_policy_document = {\n",
    "    \"Version\": \"2012-10-17\",\n",
    "    \"Statement\": [{\n",
    "          \"Effect\": \"Allow\",\n",
    "          \"Principal\": {\n",
    "            \"Service\": \"bedrock.amazonaws.com\"\n",
    "          },\n",
    "          \"Action\": \"sts:AssumeRole\"\n",
    "    }]\n",
    "}\n",
    "\n",
    "assume_role_policy_document_json = json.dumps(assume_role_policy_document)\n",
    "agent_role = iam_client.create_role(\n",
    "    RoleName=agent_role_name,\n",
    "    AssumeRolePolicyDocument=assume_role_policy_document_json\n",
    ")\n",
    "\n",
    "# Pause to make sure role is created\n",
    "interactive_sleep(10)\n",
    "    \n",
    "iam_client.attach_role_policy(\n",
    "    RoleName=agent_role_name,\n",
    "    PolicyArn=agent_bedrock_policy['Policy']['Arn']\n",
    ")\n",
    "\n",
    "iam_client.attach_role_policy(\n",
    "    RoleName=agent_role_name,\n",
    "    PolicyArn=agent_kb_policy['Policy']['Arn']\n",
    ")\n",
    "agent_bedrock_policy_arn = agent_bedrock_policy['Policy']['Arn']"
   ]
  },
  {
   "cell_type": "code",
   "execution_count": null,
   "id": "96c83abd",
   "metadata": {},
   "outputs": [],
   "source": [
    "%store agent_role_name agent_bedrock_allow_policy_name agent_knowledgebase_allow_policy_name"
   ]
  },
  {
   "cell_type": "markdown",
   "id": "c6a1548f",
   "metadata": {},
   "source": [
    "## 3.2 Create Amazon Bedrock Agent"
   ]
  },
  {
   "cell_type": "markdown",
   "id": "4292e9af",
   "metadata": {},
   "source": [
    "Once the needed IAM role is created, we can use the Bedrock Agent client to create a new agent. To do so we use the create_agent function. It requires an agent name, underlying foundation model and instructions. You can also provide an agent description. Note that the agent created is not yet prepared. Later, we will prepare and use the agent.\n"
   ]
  },
  {
   "cell_type": "code",
   "execution_count": null,
   "id": "56d7d888",
   "metadata": {},
   "outputs": [],
   "source": [
    "response = bedrock_agent_client.create_agent(\n",
    "    agentName=agent_name,\n",
    "    agentResourceRoleArn=agent_role['Role']['Arn'],\n",
    "    description=agent_description,\n",
    "    idleSessionTTLInSeconds=1800,\n",
    "    foundationModel=model_id,\n",
    "    instruction=agent_instruction,\n",
    ")\n",
    "response"
   ]
  },
  {
   "cell_type": "code",
   "execution_count": null,
   "id": "0a96a36a",
   "metadata": {},
   "outputs": [],
   "source": [
    "agent_id = response['agent']['agentId']\n",
    "agent_id"
   ]
  },
  {
   "cell_type": "code",
   "execution_count": null,
   "id": "650d5ef4",
   "metadata": {},
   "outputs": [],
   "source": [
    "%store agent_id"
   ]
  },
  {
   "cell_type": "markdown",
   "id": "428fe6a4",
   "metadata": {},
   "source": [
    "### 3.3 Allowing Agent to invoke Action Group Lambda"
   ]
  },
  {
   "cell_type": "markdown",
   "id": "809d16e0",
   "metadata": {},
   "source": [
    "Before using the action group, we need to allow the agent to invoke the lambda function associated with the action group. This is done via resource-based policy. Let's add the resource-based policy to the lambda function created."
   ]
  },
  {
   "cell_type": "code",
   "execution_count": null,
   "id": "219577e2",
   "metadata": {},
   "outputs": [],
   "source": [
    "# Create allow invoke permission on lambda\n",
    "response = lambda_client.add_permission(\n",
    "    FunctionName=lambda_function_name,\n",
    "    StatementId='allow_bedrock',\n",
    "    Action='lambda:InvokeFunction',\n",
    "    Principal='bedrock.amazonaws.com',\n",
    "    SourceArn=f\"arn:aws:bedrock:{region_name}:{account_id}:agent/{agent_id}\",\n",
    ")"
   ]
  },
  {
   "cell_type": "markdown",
   "id": "6d732c3c",
   "metadata": {},
   "source": [
    "## 4. Create Agent Action Group\n"
   ]
  },
  {
   "cell_type": "markdown",
   "id": "835b6784",
   "metadata": {},
   "source": [
    "We will now create three agent action groups that uses the lambda function created earlier. These three are:\n",
    "\n",
    "1. EnvironmentInformationAPI\n",
    "2. EmployeeInformationAPI\n",
    "3. TicketAPI\n",
    "\n",
    "The [`create_agent_action_group`](https://boto3.amazonaws.com/v1/documentation/api/latest/reference/services/bedrock-agent/client/create_agent_action_group.html) function provides the functionality to create action groups. We have conceptually seperated the action groups. Best practices for building robust generative AI applications with Amazon Bedrock Agents can be found here, [part-1](https://aws.amazon.com/blogs/machine-learning/best-practices-for-building-robust-generative-ai-applications-with-amazon-bedrock-agents-part-1/) and [part-2](https://aws.amazon.com/blogs/machine-learning/best-practices-for-building-robust-generative-ai-applications-with-amazon-bedrock-agents-part-2/).\n",
    "\n",
    "We will use `DRAFT` as the agent version since we haven't yet created an agent version or alias. To inform the agent about the action group capabilities, we provide an action group description."
   ]
  },
  {
   "cell_type": "code",
   "execution_count": null,
   "id": "de12efb8",
   "metadata": {},
   "outputs": [],
   "source": [
    "\n",
    "agent_action_group_name_env = \"EnvironmentInformationAPI\"\n",
    "agent_action_group_description_env = \"API for Environment\"\n",
    "\n",
    "agent_functions_env = [\n",
    "    {\n",
    "        'name': 'getEnvironmentOwner',\n",
    "        'description': 'Get the owner of the environment',\n",
    "        'parameters': {\n",
    "            \"environmentId\": {\n",
    "                \"description\": \"EnvironmentId of the environment\",\n",
    "                \"required\": True,\n",
    "                \"type\": \"string\"\n",
    "            }\n",
    "        }\n",
    "    },\n",
    "    {\n",
    "        'name': 'giveAccess',\n",
    "        'description': 'Give an employee access to the environment',\n",
    "        'parameters': {\n",
    "            \"environmentId\": {\n",
    "                \"description\": \"EnvironmentId of the environment\",\n",
    "                \"required\": True,\n",
    "                \"type\": \"string\"\n",
    "            }\n",
    "        }\n",
    "    },\n",
    "]\n",
    "\n",
    "# Pause to make sure agent is created\n",
    "interactive_sleep(30)\n",
    "# Now, we can configure and create an action group here:\n",
    "agent_action_group_response_env = bedrock_agent_client.create_agent_action_group(\n",
    "    agentId=agent_id,\n",
    "    agentVersion='DRAFT',\n",
    "    actionGroupExecutor={\n",
    "        'lambda': lambda_function['FunctionArn']\n",
    "    },\n",
    "    actionGroupName=agent_action_group_name_env,\n",
    "    functionSchema={\n",
    "        'functions': agent_functions_env\n",
    "    },\n",
    "    description=agent_action_group_description_env\n",
    ")\n",
    "\n",
    "action_group_id_env = agent_action_group_response_env['agentActionGroup']['actionGroupId']\n",
    "action_group_name_env = agent_action_group_response_env['agentActionGroup']['actionGroupName']"
   ]
  },
  {
   "cell_type": "code",
   "execution_count": null,
   "id": "39de8662",
   "metadata": {},
   "outputs": [],
   "source": [
    "%store action_group_id_env action_group_name_env agent_functions_env"
   ]
  },
  {
   "cell_type": "code",
   "execution_count": null,
   "id": "eac305ac",
   "metadata": {},
   "outputs": [],
   "source": [
    "agent_action_group_name_employee = \"EmployeeInformationAPI\"\n",
    "agent_action_group_description_employee = \"API for Information\"\n",
    "\n",
    "agent_functions_employee = [\n",
    "    {\n",
    "        'name': 'checkEmployeeAccess',\n",
    "        'description': 'Check if employee has access to the Environment',\n",
    "        'parameters': {\n",
    "            \"environmentId\": {\n",
    "                \"description\": \"EnvironmentId of the environment\",\n",
    "                \"required\": True,\n",
    "                \"type\": \"string\"\n",
    "            }\n",
    "        }\n",
    "    },\n",
    "    {\n",
    "        'name': 'getEmployeeManager',\n",
    "        'description': 'Get the manager of an employee',\n",
    "    },\n",
    "]\n",
    "# Configure and create an action group here:\n",
    "agent_action_group_response_employee = bedrock_agent_client.create_agent_action_group(\n",
    "    agentId=agent_id,\n",
    "    agentVersion='DRAFT',\n",
    "    actionGroupExecutor={\n",
    "        'lambda': lambda_function['FunctionArn']\n",
    "    },\n",
    "    actionGroupName=agent_action_group_name_employee,\n",
    "    functionSchema={\n",
    "        'functions': agent_functions_employee\n",
    "    },\n",
    "    description=agent_action_group_description_employee\n",
    ")\n",
    "\n",
    "action_group_id_employee = agent_action_group_response_employee['agentActionGroup']['actionGroupId']\n",
    "action_group_name_employee = agent_action_group_response_employee['agentActionGroup']['actionGroupName']"
   ]
  },
  {
   "cell_type": "code",
   "execution_count": null,
   "id": "ce8a6c14",
   "metadata": {},
   "outputs": [],
   "source": [
    "%store action_group_id_employee action_group_name_employee agent_functions_employee"
   ]
  },
  {
   "cell_type": "code",
   "execution_count": null,
   "id": "a3703746",
   "metadata": {},
   "outputs": [],
   "source": [
    "\n",
    "agent_action_group_name_ticket = \"TicketAPI\"\n",
    "agent_action_group_description_ticket = \"API for handing tickets\"\n",
    "\n",
    "agent_functions_ticket = [\n",
    "    {\n",
    "        'name': 'autoResolveTicket',\n",
    "        'description': 'Auto-resolve the ticket',\n",
    "        'parameters': {\n",
    "            \"description\": {\n",
    "                \"description\": \"Describe why was the ticket auto-resolved\",\n",
    "                \"required\": True,\n",
    "                \"type\": \"string\"\n",
    "            }\n",
    "        }\n",
    "    },\n",
    "    {\n",
    "        'name': 'assignTicketToEnvironmentOwner',\n",
    "        'description': 'Assign the ticket to Environment owner',\n",
    "        'parameters': {\n",
    "            \"owner\": {\n",
    "                \"description\": \"Owner of the environment\",\n",
    "                \"required\": True,\n",
    "                \"type\": \"string\"\n",
    "            },\n",
    "            \"instructions\": {\n",
    "                \"description\": \"Clear instructions on how to grant access and best practices for managing environment permissions.\",\n",
    "                \"required\": True,\n",
    "                \"type\": \"string\"\n",
    "            }\n",
    "        }\n",
    "    },\n",
    "]\n",
    "\n",
    "# Configure and create an action group here:\n",
    "agent_action_group_response_ticket = bedrock_agent_client.create_agent_action_group(\n",
    "    agentId=agent_id,\n",
    "    agentVersion='DRAFT',\n",
    "    actionGroupExecutor={\n",
    "        'lambda': lambda_function['FunctionArn']\n",
    "    },\n",
    "    actionGroupName=agent_action_group_name_ticket,\n",
    "    functionSchema={\n",
    "        'functions': agent_functions_ticket\n",
    "    },\n",
    "    description=agent_action_group_description_ticket\n",
    ")\n",
    "\n",
    "action_group_id_ticket = agent_action_group_response_ticket['agentActionGroup']['actionGroupId']\n",
    "action_group_name_ticket = agent_action_group_response_ticket['agentActionGroup']['actionGroupName']"
   ]
  },
  {
   "cell_type": "code",
   "execution_count": null,
   "id": "d8295b4f",
   "metadata": {},
   "outputs": [],
   "source": [
    "%store action_group_id_ticket action_group_name_ticket agent_functions_ticket"
   ]
  },
  {
   "cell_type": "markdown",
   "id": "89dbeb6b",
   "metadata": {},
   "source": [
    "## 5. Associate Amazon Bedrock Knowledge Base with Agent\n"
   ]
  },
  {
   "cell_type": "code",
   "execution_count": null,
   "id": "19115c45",
   "metadata": {},
   "outputs": [],
   "source": [
    "agent_kb = bedrock_agent_client.associate_agent_knowledge_base(\n",
    "    agentId=agent_id,\n",
    "    agentVersion='DRAFT',\n",
    "    description=kb_description,\n",
    "    knowledgeBaseId=kb_id \n",
    ")"
   ]
  },
  {
   "cell_type": "markdown",
   "id": "ea2b0223",
   "metadata": {},
   "source": [
    "## 6. Invoke Ticket Agent"
   ]
  },
  {
   "cell_type": "markdown",
   "id": "441cab80",
   "metadata": {},
   "source": [
    "### 6.1 Preparing agent"
   ]
  },
  {
   "cell_type": "markdown",
   "id": "868c65e6",
   "metadata": {},
   "source": [
    "Let's create a DRAFT version of the agent that can be used for internal testing.\n",
    "\n"
   ]
  },
  {
   "cell_type": "code",
   "execution_count": null,
   "id": "6a1f82ce",
   "metadata": {},
   "outputs": [],
   "source": [
    "response = bedrock_agent_client.prepare_agent(\n",
    "    agentId=agent_id\n",
    ")\n",
    "print(response)"
   ]
  },
  {
   "cell_type": "code",
   "execution_count": null,
   "id": "546a479b",
   "metadata": {},
   "outputs": [],
   "source": [
    "# Pause to make sure agent is prepared\n",
    "interactive_sleep(30)\n",
    "\n",
    "# Extract the agentAliasId from the response\n",
    "agent_alias_id = \"TSTALIASID\""
   ]
  },
  {
   "cell_type": "markdown",
   "id": "c37de49e",
   "metadata": {},
   "source": [
    "### 6.2 Invoke Agent"
   ]
  },
  {
   "cell_type": "code",
   "execution_count": null,
   "id": "c91ca8eb",
   "metadata": {},
   "outputs": [],
   "source": [
    "from utility.ticket import create_ticket, display_table"
   ]
  },
  {
   "cell_type": "markdown",
   "id": "d1f80804",
   "metadata": {},
   "source": [
    "<div class=\"alert alert-block alert-info\">\n",
    "<b>Information:</b> create_ticket and display_table utility functions\n",
    "\n",
    "- <b>create_ticket</b>: Creates a ticket in ticket table\n",
    "- <b>display_table</b>: Displays the current items in ticket table\n",
    "</div>"
   ]
  },
  {
   "cell_type": "markdown",
   "id": "3cd5aa39",
   "metadata": {},
   "source": [
    "#### 6.2.1 DynamoDB tables"
   ]
  },
  {
   "cell_type": "code",
   "execution_count": null,
   "id": "0a4b8735",
   "metadata": {},
   "outputs": [],
   "source": [
    "display_table('UserTable')"
   ]
  },
  {
   "cell_type": "code",
   "execution_count": null,
   "id": "97cc3ea7",
   "metadata": {},
   "outputs": [],
   "source": [
    "display_table('EnvironmentTable')"
   ]
  },
  {
   "cell_type": "code",
   "execution_count": null,
   "id": "d023e379",
   "metadata": {},
   "outputs": [],
   "source": [
    "display_table('UserAccessTable')"
   ]
  },
  {
   "cell_type": "code",
   "execution_count": null,
   "id": "84181111",
   "metadata": {},
   "outputs": [],
   "source": [
    "display_table('TicketTable')"
   ]
  },
  {
   "cell_type": "markdown",
   "id": "3759bda0",
   "metadata": {},
   "source": [
    "#### 6.2.2 Create ticket"
   ]
  },
  {
   "cell_type": "markdown",
   "id": "8f6dc2ef",
   "metadata": {},
   "source": [
    "You can see above that `employee 111` does not have access to `environment 1`"
   ]
  },
  {
   "cell_type": "code",
   "execution_count": null,
   "id": "e8fd8726",
   "metadata": {},
   "outputs": [],
   "source": [
    "ticket = \"\"\"\n",
    "Title: Request Environment Access\n",
    "EnvironmentId: 1\n",
    "Buisness Justification: Need to test new features on Quicksight Dashboard\n",
    "Access duration: 8 days\n",
    "Access Type: Read\n",
    "\"\"\"\n",
    "employeeId = '111'"
   ]
  },
  {
   "cell_type": "code",
   "execution_count": null,
   "id": "63408200",
   "metadata": {},
   "outputs": [],
   "source": [
    "ticketId = create_ticket(ticket, employeeId)\n"
   ]
  },
  {
   "cell_type": "code",
   "execution_count": null,
   "id": "cac82df3",
   "metadata": {},
   "outputs": [],
   "source": [
    "display_table('TicketTable')"
   ]
  },
  {
   "cell_type": "markdown",
   "id": "c0083d16",
   "metadata": {},
   "source": [
    "Ticket is created but unassigned."
   ]
  },
  {
   "cell_type": "code",
   "execution_count": null,
   "id": "b31bd40c",
   "metadata": {},
   "outputs": [],
   "source": [
    "inputText = f\"\"\"\n",
    "Please either auto-resolve the ticket or assign it to environment owner:\n",
    "\n",
    "<ticket>\n",
    "{ticket}\n",
    "</ticket>\n",
    "\n",
    "Ensure to resolve the ticket by calling TicketAPI. \n",
    "\"\"\""
   ]
  },
  {
   "cell_type": "code",
   "execution_count": null,
   "id": "b415c436",
   "metadata": {},
   "outputs": [],
   "source": [
    "sessionId = str(uuid.uuid1())\n",
    "response = bedrock_agent_runtime_client.invoke_agent(\n",
    "                  inputText=inputText,\n",
    "                  agentId=agent_id, # Agent ID\n",
    "                  agentAliasId=agent_alias_id, \n",
    "                  sessionId=sessionId,\n",
    "                  enableTrace=True, \n",
    "                  endSession=False,\n",
    "                  sessionState={\n",
    "                      \"sessionAttributes\": {\n",
    "                          \"employeeId\": employeeId, # sessionAttributes\n",
    "                          \"ticketId\": ticketId # ticketId\n",
    "                      },\n",
    "                      \"knowledgeBaseConfigurations\": [\n",
    "                        {\n",
    "                            'knowledgeBaseId': kb_id,\n",
    "                            'retrievalConfiguration': {\n",
    "                                'vectorSearchConfiguration': {\n",
    "                                    'numberOfResults': 3,\n",
    "                                    'overrideSearchType': 'HYBRID'\n",
    "                                }\n",
    "                            }\n",
    "                        },\n",
    "                    ]\n",
    "                  }\n",
    "              )"
   ]
  },
  {
   "cell_type": "code",
   "execution_count": null,
   "id": "2a5055ab",
   "metadata": {},
   "outputs": [],
   "source": [
    "agent_answer = \"\""
   ]
  },
  {
   "cell_type": "code",
   "execution_count": null,
   "id": "cf3af5ba",
   "metadata": {},
   "outputs": [],
   "source": [
    "%%time\n",
    "event_stream = response['completion']\n",
    "try:\n",
    "    for event in event_stream:        \n",
    "        if 'chunk' in event:\n",
    "            data = event['chunk']['bytes']\n",
    "            logger.info(f\"Final answer ->\\n{data.decode('utf8')}\")\n",
    "            agent_answer = data.decode('utf8')\n",
    "            end_event_received = True\n",
    "            # End event indicates that the request finished successfully\n",
    "        elif 'trace' in event:\n",
    "            logger.info(json.dumps(event['trace'], indent=2))\n",
    "        else:\n",
    "            raise Exception(\"unexpected event.\", event)\n",
    "except Exception as e:\n",
    "    raise Exception(\"unexpected event.\", e)"
   ]
  },
  {
   "cell_type": "code",
   "execution_count": null,
   "id": "c9a1950d",
   "metadata": {},
   "outputs": [],
   "source": [
    "print(agent_answer)"
   ]
  },
  {
   "cell_type": "markdown",
   "id": "6a646ede",
   "metadata": {},
   "source": [
    "<div class=\"alert alert-block alert-info\">\n",
    "<b>Information:</b> Access to the employee can be auto-assigned if all the given scenarios are true:\n",
    "\n",
    "1. The environment is owned by the manager of the employee.\n",
    "2. The employee has asked for less than 30 days of access.\n",
    "3. The access type is not Admin.\n",
    "</div>"
   ]
  },
  {
   "cell_type": "markdown",
   "id": "5af9cb92",
   "metadata": {},
   "source": [
    "Lets evaluate the above scenarios for this test case:\n",
    "1. `@sam` is the owner of `environment 1` and `employee 111`'s manager is also `@sam`.\n",
    "2. Employee has asked for 8 days of access.\n",
    "3. Access type is read.\n",
    "\n",
    "This ticket should be assigned to `@susi`. "
   ]
  },
  {
   "cell_type": "code",
   "execution_count": null,
   "id": "b1555f6e",
   "metadata": {},
   "outputs": [],
   "source": [
    "display_table('UserAccessTable')"
   ]
  },
  {
   "cell_type": "markdown",
   "id": "26d25124",
   "metadata": {},
   "source": [
    "You can see above that `employee 111` now has access to `environment 1`"
   ]
  },
  {
   "cell_type": "code",
   "execution_count": null,
   "id": "c191f03f",
   "metadata": {},
   "outputs": [],
   "source": [
    "display_table('TicketTable')"
   ]
  },
  {
   "cell_type": "markdown",
   "id": "cf992e35",
   "metadata": {},
   "source": [
    "Ticket is now auto-resolved."
   ]
  },
  {
   "cell_type": "markdown",
   "id": "425fecb5",
   "metadata": {},
   "source": [
    "![output-invoke-agent](images/output-invoke-agent.png)"
   ]
  },
  {
   "cell_type": "markdown",
   "id": "c024849e",
   "metadata": {},
   "source": [
    "<div class=\"alert alert-block alert-success\">\n",
    "<b>Disclaimer:</b> Please note that the output of Large Language Models (LLMs) is non-deterministic, meaning that the responses generated may vary each time the model is run. Due to this inherent nature of LLMs, there is a possibility of observing undesirable or unexpected behavior. If such a situation arises, we recommend running the above workflow to obtain a new response.\n",
    "\n",
    "To enhance the resilience and robustness of this application, we strongly recommend implementing the best practices outlined in the following resources:\n",
    "\n",
    "1. **[Best Practices for Building Robust Generative AI Applications with Amazon Bedrock Agents - Part 1](https://aws.amazon.com/blogs/machine-learning/best-practices-for-building-robust-generative-ai-applications-with-amazon-bedrock-agents-part-1/)**\n",
    "2. **[Best Practices for Building Robust Generative AI Applications with Amazon Bedrock Agents - Part 2](https://aws.amazon.com/blogs/machine-learning/best-practices-for-building-robust-generative-ai-applications-with-amazon-bedrock-agents-part-2/)**\n",
    "</div>\n"
   ]
  },
  {
   "cell_type": "markdown",
   "id": "b7925255",
   "metadata": {},
   "source": [
    "<div class=\"alert alert-block alert-warning\">\n",
    "<b>Next steps:</b> Proceed to the next labs to test event-driven workflow. Remember to run the CLEANUP notebook at the end of your session.\n",
    "</div>"
   ]
  },
  {
   "cell_type": "markdown",
   "id": "22c7478f",
   "metadata": {},
   "source": []
  }
 ],
 "metadata": {
  "kernelspec": {
   "display_name": "conda_python3",
   "language": "python",
   "name": "conda_python3"
  },
  "language_info": {
   "codemirror_mode": {
    "name": "ipython",
    "version": 3
   },
   "file_extension": ".py",
   "mimetype": "text/x-python",
   "name": "python",
   "nbconvert_exporter": "python",
   "pygments_lexer": "ipython3",
   "version": "3.10.15"
  }
 },
 "nbformat": 4,
 "nbformat_minor": 5
}
