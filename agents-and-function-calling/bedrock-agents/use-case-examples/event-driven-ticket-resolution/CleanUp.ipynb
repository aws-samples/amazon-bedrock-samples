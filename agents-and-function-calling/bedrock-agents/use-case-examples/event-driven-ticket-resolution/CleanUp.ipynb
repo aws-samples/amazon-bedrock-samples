{
 "cells": [
  {
   "cell_type": "markdown",
   "id": "07c5b46f",
   "metadata": {},
   "source": [
    "# CleanUp"
   ]
  },
  {
   "cell_type": "code",
   "execution_count": 50,
   "id": "ab53c137",
   "metadata": {},
   "outputs": [],
   "source": [
    "%store -r"
   ]
  },
  {
   "cell_type": "code",
   "execution_count": 51,
   "id": "d7052c09",
   "metadata": {},
   "outputs": [
    {
     "data": {
      "text/plain": [
       "('us-east-1', '435212236001')"
      ]
     },
     "execution_count": 51,
     "metadata": {},
     "output_type": "execute_result"
    }
   ],
   "source": [
    "import boto3\n",
    "import time\n",
    "from utility.knowledgebase import delete_iam_role_and_policies \n",
    "\n",
    "boto3_session = boto3.Session()\n",
    "bedrock_agent_client = boto3_session.client('bedrock-agent', region_name=boto3_session.region_name)\n",
    "aoss_client = boto3.client('opensearchserverless')\n",
    "s3_client = boto3_session.client('s3', region_name=boto3_session.region_name)\n",
    "iam_client = boto3.client(\"iam\")\n",
    "lambda_client = boto3.client(\"lambda\")\n",
    "sns = boto3.client(\"sns\")\n",
    "sts_client = boto3.client('sts')\n",
    "\n",
    "region_name = boto3_session.region_name\n",
    "account_id = sts_client.get_caller_identity()[\"Account\"]\n",
    "region_name, account_id"
   ]
  },
  {
   "cell_type": "markdown",
   "id": "3589c2e5",
   "metadata": {},
   "source": [
    "## Amazon Bedrock Knowledge Base Cleanup"
   ]
  },
  {
   "cell_type": "markdown",
   "id": "c26a4f82",
   "metadata": {},
   "source": [
    "### Delete Bedrock KnowledgeBase data sources"
   ]
  },
  {
   "cell_type": "code",
   "execution_count": 31,
   "id": "8ed0eed7",
   "metadata": {},
   "outputs": [],
   "source": [
    "# fetch data source(s)associated with kb\n",
    "response = bedrock_agent_client.list_data_sources(knowledgeBaseId=kb_id)\n",
    "data_sources_list = [ds_summary for ds_summary in response['dataSourceSummaries']]\n",
    "\n",
    "for idx, ds in enumerate(data_sources_list):\n",
    "    bedrock_agent_client.delete_data_source(dataSourceId = ds[\"dataSourceId\"], knowledgeBaseId=ds[\"knowledgeBaseId\"])\n",
    "    time.sleep(10)"
   ]
  },
  {
   "cell_type": "markdown",
   "id": "e852d3d5",
   "metadata": {},
   "source": [
    "### Remove KnowledgeBases and OpenSearch Collection\n"
   ]
  },
  {
   "cell_type": "code",
   "execution_count": 32,
   "id": "f7daca55",
   "metadata": {},
   "outputs": [],
   "source": [
    "# Fetch kb execution role\n",
    "response = bedrock_agent_client.get_knowledge_base(knowledgeBaseId=kb_id)\n",
    "kb_role_name = response['knowledgeBase']['roleArn'].split(\"/\")[-1]"
   ]
  },
  {
   "cell_type": "code",
   "execution_count": 33,
   "id": "4588d058",
   "metadata": {},
   "outputs": [],
   "source": [
    "\n",
    "# fetch all attched policies with kb execution role\n",
    "kb_attached_role_policies_response = iam_client.list_attached_role_policies(\n",
    "    RoleName=kb_role_name)\n",
    "kb_attached_role_policies = kb_attached_role_policies_response['AttachedPolicies']"
   ]
  },
  {
   "cell_type": "code",
   "execution_count": 34,
   "id": "29850c35",
   "metadata": {},
   "outputs": [
    {
     "data": {
      "text/plain": [
       "{'ResponseMetadata': {'RequestId': 'b7c1030a-b0e0-4148-b1d1-1f2b1ad24af4',\n",
       "  'HTTPStatusCode': 200,\n",
       "  'HTTPHeaders': {'x-amzn-requestid': 'b7c1030a-b0e0-4148-b1d1-1f2b1ad24af4',\n",
       "   'date': 'Fri, 01 Nov 2024 15:51:07 GMT',\n",
       "   'content-type': 'application/x-amz-json-1.0',\n",
       "   'content-length': '2',\n",
       "   'connection': 'keep-alive'},\n",
       "  'RetryAttempts': 0}}"
      ]
     },
     "execution_count": 34,
     "metadata": {},
     "output_type": "execute_result"
    }
   ],
   "source": [
    "bedrock_agent_client.delete_knowledge_base(knowledgeBaseId=kb_id)\n",
    "aoss_client.delete_collection(id=collection['createCollectionDetail']['id'])\n",
    "aoss_client.delete_access_policy(type=\"data\", name=access_policy['accessPolicyDetail']['name'])\n",
    "aoss_client.delete_security_policy(type=\"network\", name=network_policy['securityPolicyDetail']['name'])\n",
    "aoss_client.delete_security_policy(type=\"encryption\", name=encryption_policy['securityPolicyDetail']['name'])"
   ]
  },
  {
   "cell_type": "markdown",
   "id": "cc51068d",
   "metadata": {},
   "source": [
    "### Delete role and policies"
   ]
  },
  {
   "cell_type": "code",
   "execution_count": 35,
   "id": "63b32f92",
   "metadata": {},
   "outputs": [
    {
     "data": {
      "text/plain": [
       "0"
      ]
     },
     "execution_count": 35,
     "metadata": {},
     "output_type": "execute_result"
    }
   ],
   "source": [
    "delete_iam_role_and_policies(kb_role_name, suffix)"
   ]
  },
  {
   "cell_type": "markdown",
   "id": "7af178ee",
   "metadata": {},
   "source": [
    "### S3 Bucket"
   ]
  },
  {
   "cell_type": "code",
   "execution_count": 36,
   "id": "70aefbca",
   "metadata": {},
   "outputs": [
    {
     "data": {
      "text/plain": [
       "{'ResponseMetadata': {'RequestId': 'G52E6R965Y6J4J5G',\n",
       "  'HostId': 'nVLU5Zg555W+4m+hhKW0ivYE3b8DtUp/bpoAZMfoqyWA6RBJidnhT048mqH1p4rYQbuSIZWUMYc=',\n",
       "  'HTTPStatusCode': 204,\n",
       "  'HTTPHeaders': {'x-amz-id-2': 'nVLU5Zg555W+4m+hhKW0ivYE3b8DtUp/bpoAZMfoqyWA6RBJidnhT048mqH1p4rYQbuSIZWUMYc=',\n",
       "   'x-amz-request-id': 'G52E6R965Y6J4J5G',\n",
       "   'date': 'Fri, 01 Nov 2024 15:51:09 GMT',\n",
       "   'server': 'AmazonS3'},\n",
       "  'RetryAttempts': 0}}"
      ]
     },
     "execution_count": 36,
     "metadata": {},
     "output_type": "execute_result"
    }
   ],
   "source": [
    "objects = s3_client.list_objects(Bucket=bucket_name)\n",
    "if 'Contents' in objects:\n",
    "    for obj in objects['Contents']:\n",
    "        s3_client.delete_object(Bucket=bucket_name, Key=obj['Key'])\n",
    "s3_client.delete_bucket(Bucket=bucket_name)"
   ]
  },
  {
   "cell_type": "markdown",
   "id": "299e2211",
   "metadata": {},
   "source": [
    "### Amazon Bedrock Agents Clean Up"
   ]
  },
  {
   "cell_type": "markdown",
   "id": "d38a2b75",
   "metadata": {},
   "source": [
    "To delete the agent we need to:\n",
    "\n",
    "1. Update the action group's to disable it\n",
    "2. Delete agent action group's\n",
    "3. Delete Amazon Bedrock Agent\n",
    "4. Delete AWS Lambda function\n",
    "5. Delete the created IAM roles and policies"
   ]
  },
  {
   "cell_type": "code",
   "execution_count": 52,
   "id": "608c9069",
   "metadata": {},
   "outputs": [],
   "source": [
    "response = bedrock_agent_client.update_agent_action_group(\n",
    "    agentId=agent_id,\n",
    "    agentVersion='DRAFT',\n",
    "    actionGroupId= action_group_id_env,\n",
    "    actionGroupName=action_group_name_env,\n",
    "    actionGroupExecutor={\n",
    "        'lambda': lambda_function_arn\n",
    "    },\n",
    "    functionSchema={\n",
    "        'functions': agent_functions_env\n",
    "    },\n",
    "    actionGroupState='DISABLED',\n",
    ")\n",
    "\n",
    "action_group_deletion = bedrock_agent_client.delete_agent_action_group(\n",
    "    agentId=agent_id,\n",
    "    agentVersion='DRAFT',\n",
    "    actionGroupId= action_group_id_env\n",
    ")"
   ]
  },
  {
   "cell_type": "code",
   "execution_count": 53,
   "id": "9bbd6e2e",
   "metadata": {},
   "outputs": [],
   "source": [
    "response = bedrock_agent_client.update_agent_action_group(\n",
    "    agentId=agent_id,\n",
    "    agentVersion='DRAFT',\n",
    "    actionGroupId= action_group_id_employee,\n",
    "    actionGroupName=action_group_name_employee,\n",
    "    actionGroupExecutor={\n",
    "        'lambda': lambda_function_arn\n",
    "    },\n",
    "    functionSchema={\n",
    "        'functions': agent_functions_employee\n",
    "    },\n",
    "    actionGroupState='DISABLED',\n",
    ")\n",
    "\n",
    "action_group_deletion = bedrock_agent_client.delete_agent_action_group(\n",
    "    agentId=agent_id,\n",
    "    agentVersion='DRAFT',\n",
    "    actionGroupId= action_group_id_employee\n",
    ")\n"
   ]
  },
  {
   "cell_type": "code",
   "execution_count": 54,
   "id": "c2e54be6",
   "metadata": {},
   "outputs": [],
   "source": [
    "response = bedrock_agent_client.update_agent_action_group(\n",
    "    agentId=agent_id,\n",
    "    agentVersion='DRAFT',\n",
    "    actionGroupId= action_group_id_ticket,\n",
    "    actionGroupName=action_group_name_ticket,\n",
    "    actionGroupExecutor={\n",
    "        'lambda': lambda_function_arn\n",
    "    },\n",
    "    functionSchema={\n",
    "        'functions': agent_functions_ticket\n",
    "    },\n",
    "    actionGroupState='DISABLED',\n",
    ")\n",
    "\n",
    "action_group_deletion = bedrock_agent_client.delete_agent_action_group(\n",
    "    agentId=agent_id,\n",
    "    agentVersion='DRAFT',\n",
    "    actionGroupId= action_group_id_ticket\n",
    ")"
   ]
  },
  {
   "cell_type": "code",
   "execution_count": 55,
   "id": "e65d9dc8",
   "metadata": {},
   "outputs": [],
   "source": [
    "agent_deletion = bedrock_agent_client.delete_agent(\n",
    "    agentId=agent_id\n",
    ")"
   ]
  },
  {
   "cell_type": "code",
   "execution_count": 56,
   "id": "ce95af65",
   "metadata": {},
   "outputs": [
    {
     "data": {
      "text/plain": [
       "{'ResponseMetadata': {'RequestId': 'c35ea68e-de0d-404a-ad67-701b407d771c',\n",
       "  'HTTPStatusCode': 204,\n",
       "  'HTTPHeaders': {'date': 'Fri, 01 Nov 2024 16:17:22 GMT',\n",
       "   'content-type': 'application/json',\n",
       "   'connection': 'keep-alive',\n",
       "   'x-amzn-requestid': 'c35ea68e-de0d-404a-ad67-701b407d771c'},\n",
       "  'RetryAttempts': 0}}"
      ]
     },
     "execution_count": 56,
     "metadata": {},
     "output_type": "execute_result"
    }
   ],
   "source": [
    "lambda_client.delete_function(\n",
    "    FunctionName=lambda_function_name\n",
    ")"
   ]
  },
  {
   "cell_type": "code",
   "execution_count": 57,
   "id": "25299c3a",
   "metadata": {},
   "outputs": [
    {
     "data": {
      "text/plain": [
       "'ticket-assistant-ba-563'"
      ]
     },
     "execution_count": 57,
     "metadata": {},
     "output_type": "execute_result"
    }
   ],
   "source": [
    "agent_bedrock_allow_policy_name"
   ]
  },
  {
   "cell_type": "code",
   "execution_count": 58,
   "id": "aedb8355",
   "metadata": {},
   "outputs": [
    {
     "data": {
      "text/plain": [
       "'AmazonBedrockExecutionRoleForAgents_ticket-assistant'"
      ]
     },
     "execution_count": 58,
     "metadata": {},
     "output_type": "execute_result"
    }
   ],
   "source": [
    "agent_role_name"
   ]
  },
  {
   "cell_type": "code",
   "execution_count": 59,
   "id": "d330bb57",
   "metadata": {},
   "outputs": [
    {
     "data": {
      "text/plain": [
       "'ticket-assistant-ba-563'"
      ]
     },
     "execution_count": 59,
     "metadata": {},
     "output_type": "execute_result"
    }
   ],
   "source": [
    "agent_bedrock_allow_policy_name"
   ]
  },
  {
   "cell_type": "code",
   "execution_count": 60,
   "id": "03e3eafc",
   "metadata": {},
   "outputs": [
    {
     "data": {
      "text/plain": [
       "'arn:aws:iam::435212236001:policy/ticket-assistant-ba-863'"
      ]
     },
     "execution_count": 60,
     "metadata": {},
     "output_type": "execute_result"
    }
   ],
   "source": [
    "agent_bedrock_policy_arn"
   ]
  },
  {
   "cell_type": "code",
   "execution_count": 61,
   "id": "7b9119f5",
   "metadata": {},
   "outputs": [],
   "source": [
    "# Delete IAM Roles and policies\n",
    "\n",
    "for policy in [agent_bedrock_allow_policy_name, agent_knowledgebase_allow_policy_name]:\n",
    "    iam_client.detach_role_policy(RoleName=agent_role_name, PolicyArn=f'arn:aws:iam::{account_id}:policy/{policy}')\n",
    "    \n",
    "iam_client.detach_role_policy(RoleName=lambda_function_role, PolicyArn='arn:aws:iam::aws:policy/service-role/AWSLambdaBasicExecutionRole')\n",
    "iam_client.detach_role_policy(RoleName=lambda_function_role, PolicyArn=f'arn:aws:iam::{account_id}:policy/{db_policy_name}')\n",
    "\n",
    "for role_name in [agent_role_name, lambda_function_role]:\n",
    "    iam_client.delete_role(\n",
    "        RoleName=role_name\n",
    "    )\n",
    "\n",
    "for policy in [agent_bedrock_allow_policy_name, db_policy_name, agent_knowledgebase_allow_policy_name]:\n",
    "    iam_client.delete_policy(\n",
    "        PolicyArn=f'arn:aws:iam::{account_id}:policy/{policy}'\n",
    ")"
   ]
  },
  {
   "cell_type": "markdown",
   "id": "532f1e3c",
   "metadata": {},
   "source": [
    "### Delete SNS Topic"
   ]
  },
  {
   "cell_type": "code",
   "execution_count": 62,
   "id": "97d1d0ba",
   "metadata": {},
   "outputs": [],
   "source": [
    "response = sns.delete_topic(\n",
    "    TopicArn=topic_arn\n",
    ")"
   ]
  },
  {
   "cell_type": "code",
   "execution_count": null,
   "id": "1d2dde60",
   "metadata": {},
   "outputs": [],
   "source": []
  }
 ],
 "metadata": {
  "kernelspec": {
   "display_name": "conda_python3",
   "language": "python",
   "name": "conda_python3"
  },
  "language_info": {
   "codemirror_mode": {
    "name": "ipython",
    "version": 3
   },
   "file_extension": ".py",
   "mimetype": "text/x-python",
   "name": "python",
   "nbconvert_exporter": "python",
   "pygments_lexer": "ipython3",
   "version": "3.10.15"
  }
 },
 "nbformat": 4,
 "nbformat_minor": 5
}
