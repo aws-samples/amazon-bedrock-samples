{
 "cells": [
  {
   "cell_type": "markdown",
   "metadata": {},
   "source": [
    "## Multi agents using LangGraph"
   ]
  },
  {
   "cell_type": "markdown",
   "metadata": {},
   "source": [
    "## Challenges with single agents\n",
    "\n",
    "Single agent systems are not efficient for diverse tasks or for applications which may require multiple tools. Imagine input context size if have to use 100s and 1000s of tools. Each tool has its own description and input/output schema. In such cases, it is difficult to use a single model that can handle all the tools.\n",
    "\n",
    "Some of the common challenges are: \n",
    "- Infelxibility: our agentic application is limited to one LLM\n",
    "- Contextual overload - too much information in the context\n",
    "- Lack of parallel processing \n",
    "- Single point of failure \n",
    "\n"
   ]
  },
  {
   "cell_type": "markdown",
   "metadata": {},
   "source": [
    "## Multi agents\n",
    "\n",
    "In multi agent systems, each agent can have its own prompt, LLM and tools. \n",
    "\n",
    "Benefits of multi agent systems:\n",
    "- Agent can be more efficient as it has its on focused tasks\n",
    "- Logical grouping of tools can give better results\n",
    "- Easy to manage prompts for individual agents\n",
    "- Each agent can be tested and evaluated separately\n",
    "\n"
   ]
  },
  {
   "cell_type": "markdown",
   "metadata": {},
   "source": [
    "In this example we are going to use supervisor agentic pattern. In this pattern multiple agents are connected via supervisor agent but ecah agent has its own scratchpad. \n",
    "\n",
    "<!-- ![image-2.png](assets/multi-agent-overview.png) -->\n",
    "\n",
    "<img src=\"images/multi-agent-overview.png\" alt=\"image\" style=\"width:800px;height:auto;\"/>"
   ]
  },
  {
   "cell_type": "markdown",
   "metadata": {},
   "source": [
    "## Setup\n",
    "\n",
    "Let's start with installing required packages"
   ]
  },
  {
   "cell_type": "code",
   "execution_count": null,
   "metadata": {},
   "outputs": [],
   "source": [
    "%pip install -U langchain-community langgraph langchain-chroma langchain_aws pandas"
   ]
  },
  {
   "cell_type": "markdown",
   "metadata": {},
   "source": [
    "You can add LangSmith api key to set up observability"
   ]
  },
  {
   "cell_type": "markdown",
   "metadata": {},
   "source": [
    ":::info\n",
    "\n",
    "This is an optional step that will help you understand how your agents are working.\n",
    "\n",
    ":::"
   ]
  },
  {
   "cell_type": "code",
   "execution_count": 1,
   "metadata": {},
   "outputs": [],
   "source": [
    "import getpass\n",
    "import os\n",
    "\n",
    "os.environ[\"LANGCHAIN_TRACING_V2\"] = \"true\"\n",
    "os.environ[\"LANGCHAIN_API_KEY\"] = getpass.getpass()\n",
    "os.environ[\"LANGCHAIN_PROJECT\"] = \"lc-agent-sample\"\n",
    "os.environ[\"LANGCHAIN_ENDPOINT\"] = \"https://api.smith.langchain.com\""
   ]
  },
  {
   "cell_type": "markdown",
   "metadata": {},
   "source": [
    "## Flight agent\n",
    "\n",
    "To create flight agent we will create few tools to search flights, retrieve booking information, change flight and cancel booking."
   ]
  },
  {
   "cell_type": "markdown",
   "metadata": {},
   "source": [
    "### Tools"
   ]
  },
  {
   "cell_type": "code",
   "execution_count": 1,
   "metadata": {},
   "outputs": [],
   "source": [
    "from langchain_core.tools import tool\n",
    "import random\n",
    "from datetime import datetime, timedelta\n",
    "from langgraph.prebuilt import ToolNode\n",
    "import sqlite3\n",
    "\n",
    "\n",
    "@tool\n",
    "def search_flights(departure_city: str, arrival_city: str, date: str = None) -> str:\n",
    "    \"\"\"\n",
    "    Use this tool to search for flights between two cities\n",
    "\n",
    "    Args:\n",
    "        departure_city (str): The city of departure\n",
    "        arrival_city (str): The city of arrival\n",
    "        date (str, optional): The date of the flight in YYYY-MM-DD format. If not provided, defaults to 7 days from now.\n",
    "\n",
    "    Returns:\n",
    "        str: A formatted string containing flight information including airline, departure time, arrival time, duration, and price for multiple flights.\n",
    "    \"\"\"\n",
    "    departure_city = departure_city.capitalize()\n",
    "    arrival_city = arrival_city.capitalize()\n",
    "\n",
    "    if date is None:\n",
    "        date = (datetime.now() + timedelta(days=7)).strftime(\"%Y-%m-%d\")\n",
    "\n",
    "    # Generate mock flight data\n",
    "    num_flights = random.randint(2, 5)\n",
    "    airlines = [\"AirEurope\", \"SkyWings\", \"TransContinental\", \"EuroJet\", \"GlobalAir\"]\n",
    "    flights = []\n",
    "\n",
    "    for _ in range(num_flights):\n",
    "        airline = random.choice(airlines)\n",
    "        duration = timedelta(minutes=2)\n",
    "        price = random.randint(100, 400)\n",
    "        departure_time = datetime.strptime(date, \"%Y-%m-%d\") + timedelta(\n",
    "            hours=random.randint(0, 23), minutes=random.randint(0, 59)\n",
    "        )\n",
    "        arrival_time = departure_time + duration\n",
    "\n",
    "        flights.append(\n",
    "            {\n",
    "                \"airline\": airline,\n",
    "                \"departure\": departure_time.strftime(\"%H:%M\"),\n",
    "                \"arrival\": arrival_time.strftime(\"%H:%M\"),\n",
    "                \"duration\": str(duration),\n",
    "                \"price\": price,\n",
    "            }\n",
    "        )\n",
    "\n",
    "    # Format the results\n",
    "    import json\n",
    "\n",
    "    flight_data = {\n",
    "        \"departure_city\": departure_city,\n",
    "        \"arrival_city\": arrival_city,\n",
    "        \"date\": date,\n",
    "        \"flights\": []\n",
    "    }\n",
    "    for i, flight in enumerate(flights, 1):\n",
    "        flight_info = {\n",
    "            \"flight_number\": i,\n",
    "            \"airline\": flight['airline'],\n",
    "            \"departure\": flight['departure'],\n",
    "            \"arrival\": flight['arrival'],\n",
    "            \"duration\": str(flight['duration']),\n",
    "            \"price\": flight['price']\n",
    "        }\n",
    "        flight_data[\"flights\"].append(flight_info)\n",
    "\n",
    "    return json.dumps(flight_data) + \" FINISHED\"\n"
   ]
  },
  {
   "cell_type": "code",
   "execution_count": 2,
   "metadata": {},
   "outputs": [],
   "source": [
    "@tool\n",
    "def retrieve_flight_booking(booking_id: str) -> str:\n",
    "    \"\"\"\n",
    "    Retrieve a flight booking by ID\n",
    "\n",
    "    Args:\n",
    "        booking_id (str): The unique identifier of the booking to retrieve\n",
    "\n",
    "    Returns:\n",
    "        str: A string containing the booking information if found, or a message indicating no booking was found\n",
    "    \"\"\"\n",
    "    conn = sqlite3.connect(\"data/travel_bookings.db\")\n",
    "    cursor = conn.cursor()\n",
    "\n",
    "    # Execute the query to retrieve the booking\n",
    "    cursor.execute(\"SELECT * FROM flight_bookings WHERE booking_id = ?\", (booking_id,))\n",
    "    booking = cursor.fetchone()\n",
    "\n",
    "    # Close the connection\n",
    "    conn.close()\n",
    "\n",
    "    if booking:\n",
    "        return f\"Booking found: {booking}\"\n",
    "    else:\n",
    "        return f\"No booking found with ID: {booking_id} FINISHED\""
   ]
  },
  {
   "cell_type": "code",
   "execution_count": 3,
   "metadata": {},
   "outputs": [],
   "source": [
    "@tool\n",
    "def change_flight_booking(booking_id: str, new_date: str) -> str:\n",
    "    \"\"\"\n",
    "    Change the date of a flight booking\n",
    "\n",
    "    Args:\n",
    "        booking_id (str): The unique identifier of the booking to be changed\n",
    "        new_date (str): The new date for the booking\n",
    "\n",
    "    Returns:\n",
    "        str: A message indicating the result of the booking change operation\n",
    "    \"\"\"\n",
    "    conn = sqlite3.connect(\"data/travel_bookings.db\")\n",
    "    cursor = conn.cursor()\n",
    "\n",
    "    # Execute the query to update the booking date\n",
    "    cursor.execute(\n",
    "        \"UPDATE flight_bookings SET departure_date = ? WHERE booking_id = ?\",\n",
    "        (new_date, booking_id),\n",
    "    )\n",
    "    conn.commit()\n",
    "\n",
    "    # Check if the booking was updated\n",
    "    if cursor.rowcount > 0:\n",
    "        result = f\"Booking updated with ID: {booking_id}, new date: {new_date} FINISHED\"\n",
    "    else:\n",
    "        result = f\"No booking found with ID: {booking_id} FINISHED\"\n",
    "\n",
    "    # Close the connection\n",
    "    conn.close()\n",
    "\n",
    "    return result "
   ]
  },
  {
   "cell_type": "code",
   "execution_count": 4,
   "metadata": {},
   "outputs": [],
   "source": [
    "@tool\n",
    "def cancel_flight_booking(booking_id: str) -> str:\n",
    "    \"\"\"\n",
    "    Cancel a flight booking. If the task complete, reply with \"FINISHED\"\n",
    "\n",
    "    Args:\n",
    "        booking_id (str): The unique identifier of the booking to be cancelled\n",
    "\n",
    "    Returns:\n",
    "        str: A message indicating the result of the booking cancellation operation\n",
    "\n",
    "    \"\"\"\n",
    "    conn = sqlite3.connect(\"data/travel_bookings.db\")\n",
    "    cursor  = conn.cursor()\n",
    "\n",
    "    cursor.execute(\"DELETE FROM flight_bookings WHERE booking_id = ?\", (booking_id,))\n",
    "    conn.commit()\n",
    "\n",
    "    # Check if the booking was deleted\n",
    "    if cursor.rowcount > 0:\n",
    "        result = f\"Booking canceled with ID: {booking_id} FINISHED\"\n",
    "    else:\n",
    "        result = f\"No booking found with ID: {booking_id} FINISHED\"\n",
    "\n",
    "    # Close the connection\n",
    "    conn.close()\n",
    "\n",
    "    return result"
   ]
  },
  {
   "cell_type": "code",
   "execution_count": 5,
   "metadata": {},
   "outputs": [],
   "source": [
    "from langchain_aws import ChatBedrockConverse\n",
    "from langchain_aws import ChatBedrock\n",
    "import boto3\n",
    "\n",
    "# ---- ⚠️ Update region for your AWS setup ⚠️ ----\n",
    "bedrock_client = boto3.client(\"bedrock-runtime\", region_name=\"us-east-1\")\n",
    "\n",
    "llm = ChatBedrockConverse(\n",
    "    model=\"anthropic.claude-3-sonnet-20240229-v1:0\",\n",
    "    # model=\"anthropic.claude-3-5-sonnet-20240620-v1:0\",\n",
    "    temperature=0,\n",
    "    max_tokens=None,\n",
    "    client=bedrock_client,\n",
    "    # other params...\n",
    ")"
   ]
  },
  {
   "cell_type": "markdown",
   "metadata": {},
   "source": [
    "### Flight Agent setup\n",
    "\n",
    "We are going to use `create_react_agent` to create a flight agent. This is a prebuilt component from LangGraph build the agent with tools. We can also build it from scratch but we to keep it simple we will use the prebuilt one.\n",
    "\n",
    "We can customize the prompt using `state_modifier`"
   ]
  },
  {
   "cell_type": "code",
   "execution_count": 6,
   "metadata": {},
   "outputs": [],
   "source": [
    "import functools\n",
    "import operator\n",
    "from typing import Sequence, TypedDict\n",
    "\n",
    "from langchain_core.messages import BaseMessage\n",
    "\n",
    "from langgraph.graph import END, StateGraph, START\n",
    "from langgraph.prebuilt import create_react_agent\n",
    "\n",
    "from typing import Annotated\n",
    "from langgraph.graph.message import add_messages\n",
    "from langgraph.checkpoint.memory import MemorySaver\n",
    "\n",
    "class State(TypedDict):\n",
    "    messages: Annotated[list, add_messages]\n",
    "    next: str\n",
    "\n",
    "memory = MemorySaver()\n",
    "\n",
    "\n",
    "flight_agent = create_react_agent(\n",
    "    llm,\n",
    "    tools=[\n",
    "        search_flights,\n",
    "        retrieve_flight_booking,\n",
    "        change_flight_booking,\n",
    "        cancel_flight_booking,\n",
    "    ],\n",
    "    state_modifier=\"\"\"\n",
    "    First gather all the information required to call a tool. \n",
    "    If you are not able to find the booking the do not try again and just reply with \"FINISHED\". \n",
    "    If tool has returned the results then reply with \"FINISHED\"\n",
    "    If all tasks are complete, reply with \"FINISHED\"\n",
    "    \"\"\",\n",
    "    checkpointer=memory,\n",
    ")"
   ]
  },
  {
   "cell_type": "markdown",
   "metadata": {},
   "source": [
    "Let's put this to test. "
   ]
  },
  {
   "cell_type": "code",
   "execution_count": 7,
   "metadata": {},
   "outputs": [
    {
     "data": {
      "text/plain": [
       "{'messages': [HumanMessage(content='Can you give me booking details of booking number 10', additional_kwargs={}, response_metadata={}, id='1fd17e73-6452-48e2-a31e-c64d977ae3c3'),\n",
       "  AIMessage(content=[{'type': 'tool_use', 'name': 'retrieve_flight_booking', 'input': {'booking_id': '10'}, 'id': 'tooluse_nBT4hrONQYabp6zGHSq7hA'}], additional_kwargs={}, response_metadata={'ResponseMetadata': {'RequestId': '236d66be-cf3a-4f2c-badd-19c0e5d945dd', 'HTTPStatusCode': 200, 'HTTPHeaders': {'date': 'Fri, 04 Oct 2024 20:06:32 GMT', 'content-type': 'application/json', 'content-length': '292', 'connection': 'keep-alive', 'x-amzn-requestid': '236d66be-cf3a-4f2c-badd-19c0e5d945dd'}, 'RetryAttempts': 0}, 'stopReason': 'tool_use', 'metrics': {'latencyMs': 4282}}, id='run-812ff801-f32c-42aa-ac20-11c1cd4c5b00-0', tool_calls=[{'name': 'retrieve_flight_booking', 'args': {'booking_id': '10'}, 'id': 'tooluse_nBT4hrONQYabp6zGHSq7hA', 'type': 'tool_call'}], usage_metadata={'input_tokens': 804, 'output_tokens': 57, 'total_tokens': 861}),\n",
       "  ToolMessage(content=\"Booking found: (10, 153, 'George Cunningham', 'New York', 'Stockholm', 682.0, 503, '2024-10-21', '02:25', '2024-10-21', '10:48', 6319.95, '2024-10-05')\", name='retrieve_flight_booking', id='548d7667-dcea-4dc4-bd06-3db048d132f8', tool_call_id='tooluse_nBT4hrONQYabp6zGHSq7hA'),\n",
       "  AIMessage(content='The booking details for booking number 10 are:\\n\\nBooking ID: 10\\nFlight Number: 153 \\nPassenger Name: George Cunningham\\nDeparture City: New York\\nArrival City: Stockholm\\nFlight Duration (mins): 682.0\\nAirline ID: 503\\nDeparture Date: 2024-10-21\\nDeparture Time: 02:25\\nArrival Date: 2024-10-21  \\nArrival Time: 10:48\\nPrice: $6319.95\\nBooking Date: 2024-10-05\\n\\nFINISHED', additional_kwargs={}, response_metadata={'ResponseMetadata': {'RequestId': '0d725122-feb9-4374-b86c-88dcf4721f99', 'HTTPStatusCode': 200, 'HTTPHeaders': {'date': 'Fri, 04 Oct 2024 20:06:37 GMT', 'content-type': 'application/json', 'content-length': '560', 'connection': 'keep-alive', 'x-amzn-requestid': '0d725122-feb9-4374-b86c-88dcf4721f99'}, 'RetryAttempts': 0}, 'stopReason': 'end_turn', 'metrics': {'latencyMs': 4879}}, id='run-f1809c64-f3ba-4b12-8cf6-1e1a11ecfc5a-0', usage_metadata={'input_tokens': 947, 'output_tokens': 134, 'total_tokens': 1081})]}"
      ]
     },
     "execution_count": 7,
     "metadata": {},
     "output_type": "execute_result"
    }
   ],
   "source": [
    "config = {\"configurable\": {\"thread_id\": \"121\"}}\n",
    "flight_agent.invoke({\"messages\": [(\"user\", \"Can you give me booking details of booking number 10\")]}, config)"
   ]
  },
  {
   "cell_type": "markdown",
   "metadata": {},
   "source": [
    "## Hotel Agent\n",
    "\n",
    "Just like flight agent we need to create few tools, which can manage hotel bookings. We will use the same approach as we did with flight agents. We will create a class that will be responsible for booking hotels and also provide some methods to get information about available hotels in certain city or price range.\n"
   ]
  },
  {
   "cell_type": "code",
   "execution_count": 67,
   "metadata": {},
   "outputs": [],
   "source": [
    "import json\n",
    "\n",
    "@tool\n",
    "def suggest_hotels(city: str, checkin_date: str) -> dict:\n",
    "    \"\"\"\n",
    "    Use this tool to search for hotels in these cities\n",
    "\n",
    "    Args:\n",
    "        city (str): The name of the city to search for hotels\n",
    "        checkin_date (str): The check-in date in YYYY-MM-DD format\n",
    "\n",
    "    Returns:\n",
    "        dict: A dictionary containing:\n",
    "            - hotels (list): List of hotel names in the specified city\n",
    "            - checkin_date (str): The provided check-in date\n",
    "            - checkout_date (str): A randomly generated checkout date\n",
    "            - price (int): A randomly generated price for the stay\n",
    "    \"\"\"\n",
    "    hotels = {\n",
    "        \"New York\": [\"Hotel A\", \"Hotel B\", \"Hotel C\"],\n",
    "        \"Paris\": [\"Hotel D\", \"Hotel E\", \"Hotel F\"],\n",
    "        \"Tokyo\": [\"Hotel G\", \"Hotel H\", \"Hotel I\"],\n",
    "    }\n",
    "\n",
    "    # Generate random checkout date and price\n",
    "    checkin = datetime.strptime(checkin_date, \"%Y-%m-%d\")\n",
    "    checkout = checkin + timedelta(days=random.randint(1, 10))\n",
    "    price = random.randint(100, 500)\n",
    "\n",
    "    hotel_list = hotels.get(city, [\"No hotels found\"])\n",
    "    hotel_data = {\n",
    "        \"hotels\": hotel_list,\n",
    "        \"checkin_date\": checkin_date,\n",
    "        \"checkout_date\": checkout.strftime(\"%Y-%m-%d\"),\n",
    "        \"price\": price,\n",
    "    }\n",
    "\n",
    "    return json.dumps(hotel_data) + \" FINISHED\""
   ]
  },
  {
   "cell_type": "code",
   "execution_count": 41,
   "metadata": {},
   "outputs": [],
   "source": [
    "@tool\n",
    "def retrieve_hotel_booking(booking_id: str) -> str:\n",
    "    \"\"\"\n",
    "    Retrieve a hotel booking by ID\n",
    "\n",
    "    Args:\n",
    "        booking_id (str): The unique identifier of the hotel booking to retrieve\n",
    "\n",
    "    Returns:\n",
    "        str: A string containing the hotel booking information if found, or a message indicating no booking was found\n",
    "    \"\"\"\n",
    "    conn = sqlite3.connect(\"data/travel_bookings.db\")\n",
    "    cursor = conn.cursor()\n",
    "    cursor.execute(f\"SELECT * FROM hotel_bookings WHERE booking_id='{booking_id}'\")\n",
    "    booking = cursor.fetchone()\n",
    "\n",
    "    # Close the connection\n",
    "    conn.close()\n",
    "\n",
    "    if booking:\n",
    "        return f\"Booking found: {booking} FINISHED\"\n",
    "    else:\n",
    "        return f\"No booking found with ID: {booking_id} FINISHED\""
   ]
  },
  {
   "cell_type": "code",
   "execution_count": 42,
   "metadata": {},
   "outputs": [],
   "source": [
    "from datetime import datetime\n",
    "\n",
    "@tool\n",
    "def change_hotel_booking(\n",
    "    booking_id: int, new_checkin_date: str = None, new_checkout_date: str = None\n",
    ") -> str:\n",
    "    \"\"\"\n",
    "    Change the dates of a hotel booking in the database\n",
    "\n",
    "    Args:\n",
    "    booking_id (int): The unique identifier of the booking to be changed\n",
    "    new_checkin_date (str, optional): The new check-in date in YYYY-MM-DD format\n",
    "    new_checkout_date (str, optional): The new check-out date in YYYY-MM-DD format\n",
    "\n",
    "    Returns:\n",
    "    str: A message indicating the result of the booking change operation\n",
    "    \"\"\"\n",
    "\n",
    "    conn = sqlite3.connect(\"data/travel_bookings.db\")  # Replace with your actual database file\n",
    "    cursor = conn.cursor()\n",
    "\n",
    "    try:\n",
    "        # First, fetch the current booking details\n",
    "        cursor.execute(\n",
    "            \"\"\"\n",
    "            SELECT * FROM hotel_bookings WHERE booking_id = ?\n",
    "        \"\"\",\n",
    "            (booking_id,),\n",
    "        )\n",
    "\n",
    "        booking = cursor.fetchone()\n",
    "\n",
    "        if booking is None:\n",
    "            return f\"No hotel booking found with ID: {booking_id}\"\n",
    "\n",
    "        # Unpack the booking details\n",
    "        (\n",
    "            _,\n",
    "            user_id,\n",
    "            user_name,\n",
    "            city,\n",
    "            hotel_name,\n",
    "            check_in_date,\n",
    "            check_out_date,\n",
    "            nights,\n",
    "            price_per_night,\n",
    "            total_price,\n",
    "            num_guests,\n",
    "            room_type,\n",
    "        ) = booking\n",
    "\n",
    "        # Update check-in and check-out dates if provided\n",
    "        if new_checkin_date:\n",
    "            check_in_date = new_checkin_date\n",
    "        if new_checkout_date:\n",
    "            check_out_date = new_checkout_date\n",
    "\n",
    "        # Recalculate nights and total price\n",
    "        checkin = datetime.strptime(check_in_date, \"%Y-%m-%d\")\n",
    "        checkout = datetime.strptime(check_out_date, \"%Y-%m-%d\")\n",
    "        nights = (checkout - checkin).days\n",
    "        total_price = nights * price_per_night\n",
    "\n",
    "        # Update the booking in the database\n",
    "        cursor.execute(\n",
    "            \"\"\"\n",
    "            UPDATE hotel_bookings\n",
    "            SET check_in_date = ?, check_out_date = ?, nights = ?, total_price = ?\n",
    "            WHERE booking_id = ?\n",
    "        \"\"\",\n",
    "            (check_in_date, check_out_date, nights, total_price, booking_id),\n",
    "        )\n",
    "\n",
    "        conn.commit()\n",
    "\n",
    "        return f\"Hotel booking updated: Booking ID {booking_id}, New check-in: {check_in_date}, New check-out: {check_out_date}, Nights: {nights}, Total Price: {total_price} FINISHED\"\n",
    "\n",
    "    except sqlite3.Error as e:\n",
    "        conn.rollback()\n",
    "        return f\"An error occurred: {str(e)} FINISHED\"\n",
    "\n",
    "    finally:\n",
    "        conn.close()"
   ]
  },
  {
   "cell_type": "code",
   "execution_count": 43,
   "metadata": {},
   "outputs": [],
   "source": [
    "@tool\n",
    "def cancel_hotel_booking(booking_id: str) -> str:\n",
    "    \"\"\"\n",
    "    Cancel a hotel booking. If the task completes, reply with \"FINISHED\"\n",
    "\n",
    "    Args:\n",
    "        booking_id (str): The unique identifier of the booking to be cancelled\n",
    "\n",
    "    Returns:\n",
    "        str: A message indicating the result of the booking cancellation operation\n",
    "    \"\"\"\n",
    "    conn = sqlite3.connect(\"data/travel_bookings.db\")\n",
    "    cursor  = conn.cursor()\n",
    "\n",
    "    cursor.execute(\"DELETE FROM hotel_bookings WHERE booking_id = ?\", (booking_id,))\n",
    "    conn.commit()\n",
    "\n",
    "    # Check if the booking was deleted\n",
    "    if cursor.rowcount > 0:\n",
    "        result = f\"Booking canceled with ID: {booking_id} FINISHED\"\n",
    "    else:\n",
    "        result = f\"No booking found with ID: {booking_id} FINISHED\"\n",
    "\n",
    "    # Close the connection\n",
    "    conn.close()\n",
    "\n",
    "    return result"
   ]
  },
  {
   "cell_type": "markdown",
   "metadata": {},
   "source": [
    "## Hotel agent from scratch\n",
    "\n",
    "So far we have seen how to create agent using `create_react_agent` class of LangGraph, which has simplified things for us. But we need more control over how this agent is working. We need our agent to ask additional questions based on the previous response and also ask for confirmation before moving to next step. We will create a custom agent that can handle these things. We will create `AskHuman` node in the graph that can interrupt the agent execution and ask for additional information. "
   ]
  },
  {
   "cell_type": "code",
   "execution_count": 12,
   "metadata": {},
   "outputs": [],
   "source": [
    "from langchain_core import __version__ as core_version\n",
    "from packaging import version\n",
    "\n",
    "core_version = version.parse(core_version)\n",
    "if (core_version.major, core_version.minor) < (0, 3):\n",
    "    from pydantic.v1 import BaseModel\n",
    "else:\n",
    "    from pydantic import BaseModel\n",
    "from typing import Literal\n",
    "\n",
    "class AskHuman(BaseModel):\n",
    "    \"\"\"Ask missing information from the user\"\"\"\n",
    "\n",
    "    question: str"
   ]
  },
  {
   "cell_type": "code",
   "execution_count": 80,
   "metadata": {},
   "outputs": [],
   "source": [
    "from langchain_core.prompts import ChatPromptTemplate\n",
    "from langchain_core.runnables import Runnable, RunnableConfig\n",
    "\n",
    "\n",
    "class hotel_agent:\n",
    "    def __init__(self, runnable: Runnable):\n",
    "        self.runnable = runnable\n",
    "\n",
    "    def __call__(self, state: State, config: RunnableConfig):\n",
    "        while True:\n",
    "            configuration = config.get(\"configurable\", {})\n",
    "            result = self.runnable.invoke(state)\n",
    "            # If the LLM happens to return an empty response, we will re-prompt it\n",
    "            # for an actual response.\n",
    "            if not result.tool_calls and (\n",
    "                not result.content\n",
    "                or isinstance(result.content, list)\n",
    "                and not result.content[0].get(\"text\")\n",
    "            ):\n",
    "                # messages = state[\"messages\"] + [(\"user\", \"Respond with a real output.\")]\n",
    "                messages = state[\"messages\"]\n",
    "                state = {**state, \"messages\": messages}\n",
    "            else:\n",
    "                break\n",
    "        return {\"messages\": result}\n",
    "\n",
    "\n",
    "primary_assistant_prompt = ChatPromptTemplate.from_messages(\n",
    "    [\n",
    "        (\n",
    "            \"system\",\n",
    "            \"You are a helpful who manage hotel bookings\"\n",
    "            \" If you dont have enough information use AskHuman tool to get additional information. \"\n",
    "            \" City name is required to search hotels\",\n",
    "        ),\n",
    "        (\"placeholder\", \"{messages}\"),\n",
    "    ]\n",
    ")\n",
    "hotel_tools = [\n",
    "    suggest_hotels,\n",
    "    retrieve_hotel_booking,\n",
    "    change_hotel_booking,\n",
    "    cancel_hotel_booking,\n",
    "]\n",
    "\n",
    "runnable_with_tools = primary_assistant_prompt | llm.bind_tools(\n",
    "    hotel_tools + [AskHuman]\n",
    ")"
   ]
  },
  {
   "cell_type": "code",
   "execution_count": 45,
   "metadata": {},
   "outputs": [],
   "source": [
    "# We define a fake node to ask the human\n",
    "def ask_human(state):\n",
    "    pass"
   ]
  },
  {
   "cell_type": "code",
   "execution_count": 46,
   "metadata": {},
   "outputs": [],
   "source": [
    "from langgraph.prebuilt import ToolNode, tools_condition\n",
    "\n",
    "tool_node = ToolNode(hotel_tools+[AskHuman])"
   ]
  },
  {
   "cell_type": "markdown",
   "metadata": {},
   "source": [
    "We need to check which node is executed next. This function can check the state and decide which node to execute next of end the execution."
   ]
  },
  {
   "cell_type": "code",
   "execution_count": 47,
   "metadata": {},
   "outputs": [],
   "source": [
    "def should_continue(state):\n",
    "    messages = state[\"messages\"]\n",
    "    last_message = messages[-1]\n",
    "    # If there is no function call, then we finish\n",
    "    if not last_message.tool_calls:\n",
    "        return \"end\"\n",
    "    elif last_message.tool_calls[0][\"name\"] == \"AskHuman\":\n",
    "        return \"ask_human\"\n",
    "    # Otherwise if there is, we continue\n",
    "    else:\n",
    "        return \"continue\""
   ]
  },
  {
   "cell_type": "markdown",
   "metadata": {},
   "source": [
    "Let's add all the nodes in the graph and compile it"
   ]
  },
  {
   "cell_type": "code",
   "execution_count": 81,
   "metadata": {},
   "outputs": [
    {
     "data": {
      "image/jpeg": "[encoded data removed]",
      "text/plain": [
       "<IPython.core.display.Image object>"
      ]
     },
     "metadata": {},
     "output_type": "display_data"
    }
   ],
   "source": [
    "from langgraph.graph import END, StateGraph, MessagesState\n",
    "from IPython.display import Image, display\n",
    "\n",
    "# Define a new graph\n",
    "workflow = StateGraph(MessagesState)\n",
    "\n",
    "# Define the three nodes we will cycle between\n",
    "workflow.add_node(\"hotel_agent\", hotel_agent(runnable_with_tools))\n",
    "workflow.add_node(\"action\", tool_node)\n",
    "workflow.add_node(\"ask_human\", ask_human)\n",
    "\n",
    "workflow.add_edge(START, \"hotel_agent\")\n",
    "\n",
    "# We now add a conditional edge\n",
    "workflow.add_conditional_edges(\n",
    "    \"hotel_agent\",\n",
    "    # Next, we pass in the function that will determine which node is called next.\n",
    "    should_continue,\n",
    "    {\n",
    "        # If `tools`, then we call the tool node.\n",
    "        \"continue\": \"action\",\n",
    "        # We may ask the human\n",
    "        \"ask_human\": \"ask_human\",\n",
    "        # Otherwise we finish.\n",
    "        \"end\": END,\n",
    "    },\n",
    ")\n",
    "\n",
    "\n",
    "workflow.add_edge(\"action\", \"hotel_agent\")\n",
    "\n",
    "# After we get back the human response, we go back to the agent\n",
    "workflow.add_edge(\"ask_human\", \"hotel_agent\")\n",
    "\n",
    "# Set up memory\n",
    "from langgraph.checkpoint.memory import MemorySaver\n",
    "\n",
    "memory = MemorySaver()\n",
    "\n",
    "app = workflow.compile(checkpointer=memory, interrupt_before=[\"ask_human\"])\n",
    "\n",
    "display(Image(app.get_graph().draw_mermaid_png()))"
   ]
  },
  {
   "cell_type": "markdown",
   "metadata": {},
   "source": [
    "Now we cab test this agent that we have created from scratch."
   ]
  },
  {
   "cell_type": "code",
   "execution_count": 49,
   "metadata": {},
   "outputs": [
    {
     "name": "stdout",
     "output_type": "stream",
     "text": [
      "================================\u001b[1m Human Message \u001b[0m=================================\n",
      "\n",
      "I want to book a hotel for 8th October for 3 nights\n",
      "==================================\u001b[1m Ai Message \u001b[0m==================================\n",
      "\n",
      "[{'type': 'text', 'text': \"Okay, let me help you book a hotel for your stay. I'll need to know the city you want to stay in. Please provide the city name and I'll search for available hotels.\"}, {'type': 'tool_use', 'name': 'AskHuman', 'input': {'question': 'What city would you like to book a hotel in?'}, 'id': 'tooluse_ORtYo-16T-KparqB7fpTRA'}]\n",
      "Tool Calls:\n",
      "  AskHuman (tooluse_ORtYo-16T-KparqB7fpTRA)\n",
      " Call ID: tooluse_ORtYo-16T-KparqB7fpTRA\n",
      "  Args:\n",
      "    question: What city would you like to book a hotel in?\n"
     ]
    }
   ],
   "source": [
    "from langchain_core.messages import HumanMessage\n",
    "\n",
    "config = {\"configurable\": {\"thread_id\": \"128\"}}\n",
    "input_message = HumanMessage(content=\"I want to book a hotel for 8th October for 3 nights\")\n",
    "for event in app.stream({\"messages\": [input_message]}, config, stream_mode=\"values\"):\n",
    "    event[\"messages\"][-1].pretty_print()"
   ]
  },
  {
   "cell_type": "markdown",
   "metadata": {},
   "source": [
    "We need to update the graph state with user response. "
   ]
  },
  {
   "cell_type": "code",
   "execution_count": 50,
   "metadata": {},
   "outputs": [],
   "source": [
    "user_input = input(\"User: \")"
   ]
  },
  {
   "cell_type": "code",
   "execution_count": 51,
   "metadata": {},
   "outputs": [
    {
     "data": {
      "text/plain": [
       "('hotel_agent',)"
      ]
     },
     "execution_count": 51,
     "metadata": {},
     "output_type": "execute_result"
    }
   ],
   "source": [
    "tool_call_id = app.get_state(config).values[\"messages\"][-1].tool_calls[0][\"id\"]\n",
    "\n",
    "# We now create the tool call with the id and the response we want\n",
    "tool_message = [{\"tool_call_id\": tool_call_id, \"type\": \"tool\", \"content\": user_input}]\n",
    "\n",
    "app.update_state(config, {\"messages\": tool_message}, as_node=\"ask_human\")\n",
    "\n",
    "app.get_state(config).next"
   ]
  },
  {
   "cell_type": "markdown",
   "metadata": {},
   "source": [
    "Once we have updated the state, we just need to execute the graph with empty input."
   ]
  },
  {
   "cell_type": "code",
   "execution_count": 22,
   "metadata": {},
   "outputs": [
    {
     "name": "stdout",
     "output_type": "stream",
     "text": [
      "=================================\u001b[1m Tool Message \u001b[0m=================================\n",
      "\n",
      "Paris\n",
      "==================================\u001b[1m Ai Message \u001b[0m==================================\n",
      "\n",
      "[{'type': 'text', 'text': 'Got it, you need a hotel in Paris for 3 nights checking in on 2023-10-08. Let me search for available hotels:'}, {'type': 'tool_use', 'name': 'suggest_hotels', 'input': {'city': 'Paris', 'checkin_date': '2023-10-08'}, 'id': 'tooluse_-9rl4UjJT9uKRBnMehUefw'}]\n",
      "Tool Calls:\n",
      "  suggest_hotels (tooluse_-9rl4UjJT9uKRBnMehUefw)\n",
      " Call ID: tooluse_-9rl4UjJT9uKRBnMehUefw\n",
      "  Args:\n",
      "    city: Paris\n",
      "    checkin_date: 2023-10-08\n",
      "=================================\u001b[1m Tool Message \u001b[0m=================================\n",
      "Name: suggest_hotels\n",
      "\n",
      "{\"hotels\": [\"Hotel D\", \"Hotel E\", \"Hotel F\"], \"checkin_date\": \"2023-10-08\", \"checkout_date\": \"2023-10-18\", \"price\": 338}\n",
      "==================================\u001b[1m Ai Message \u001b[0m==================================\n",
      "\n",
      "Here are some available hotels in Paris for your 3 night stay checking in on October 8th:\n",
      "\n",
      "- Hotel D\n",
      "- Hotel E  \n",
      "- Hotel F\n",
      "\n",
      "The approximate price for the 3 night stay is €338. Would you like me to book one of these hotels for you? If so, which hotel would you prefer?\n"
     ]
    }
   ],
   "source": [
    "for event in app.stream(None, config, stream_mode=\"values\"):\n",
    "    event[\"messages\"][-1].pretty_print()"
   ]
  },
  {
   "cell_type": "markdown",
   "metadata": {},
   "source": [
    "## Supervisor agent\n",
    "\n",
    "Now its time to create supervisor agent that will be in charge of deciding which child agent to call based on the user input and based on the conversation history. \n",
    "\n",
    "We will create this agent with LangChain runnable chain created using supervisor prompt. We need to get the `next_step` from the chain and we use `with_structured_output` to return next step."
   ]
  },
  {
   "cell_type": "code",
   "execution_count": 23,
   "metadata": {},
   "outputs": [],
   "source": [
    "from langchain_core.runnables import Runnable, RunnableConfig\n",
    "from langgraph.graph.message import add_messages\n",
    "from typing import Annotated, Sequence, List\n",
    "from langchain_core.messages import HumanMessage\n",
    "\n",
    "from langchain_core.prompts import ChatPromptTemplate, MessagesPlaceholder\n",
    "from langchain_core import __version__ as core_version\n",
    "from packaging import version\n",
    "\n",
    "core_version = version.parse(core_version)\n",
    "if (core_version.major, core_version.minor) < (0, 3):\n",
    "    from pydantic.v1 import BaseModel\n",
    "else:\n",
    "    from pydantic import BaseModel\n",
    "from typing import Literal\n",
    "\n",
    "members = [\"flight_agent\", \"hotel_agent\"]\n",
    "options = [\"FINISH\"] + members\n",
    "\n",
    "class routeResponse(BaseModel):\n",
    "    \"\"\"\n",
    "    Return next agent name.\n",
    "    \"\"\"\n",
    "    next: Literal[*options]\n",
    "\n",
    "\n",
    "class AskHuman(BaseModel):\n",
    "    \"\"\"Ask missing information from the user\"\"\"\n",
    "\n",
    "    question: str\n",
    "\n",
    "\n",
    "prompt = ChatPromptTemplate.from_messages(\n",
    "    [\n",
    "        (\n",
    "            \"system\",\n",
    "            \"\"\"\n",
    "        Given the conversation below who should act next?\n",
    "        1. To search or cancel flight return 'flight_agent'\n",
    "        2. To search for hotel or cancel hotel booking return 'hotel_agent'\n",
    "        3. If you have the answer return 'FINISH'\n",
    "        4. When member has finished the task, and you notice FINISHED in the message then don't repeat same member again\n",
    "        5. Do not return next which is not related to user query. Example if user is asking about flight then do not call 'hotel_agent'\n",
    "        Or should we FINISH? ONLY return one of these {options}. Do not explain the process.\n",
    "        \n",
    "        \"\"\",\n",
    "        ),\n",
    "        (\"placeholder\", \"{messages}\"),\n",
    "    ]\n",
    ").partial(options=str(options), members=\", \".join(members))\n",
    "\n",
    "\n",
    "class Supervisor:\n",
    "    def __init__(self, runnable: Runnable):\n",
    "        self.runnable = runnable\n",
    "\n",
    "    def __call__(self, state: State, config: RunnableConfig):\n",
    "        while True:\n",
    "            configuration = config.get(\"configurable\", {})\n",
    "            result = self.runnable.invoke(state)\n",
    "            # If the LLM happens to return an empty response, we will re-prompt it\n",
    "            # for an actual response.\n",
    "            if not result.tool_calls and (\n",
    "                not result.content\n",
    "                or isinstance(result.content, list)\n",
    "                and not result.content[0].get(\"text\")\n",
    "            ):\n",
    "                # messages = state[\"messages\"] + [(\"user\", \"Respond with a real output.\")]\n",
    "                messages = state[\"messages\"]\n",
    "                state = {**state, \"messages\": messages}\n",
    "            else:\n",
    "                break\n",
    "        return {\"messages\": result}\n",
    "\n",
    "\n",
    "def supervisor_agent(state):\n",
    "    supervisor_chain = prompt | llm.with_structured_output(\n",
    "        routeResponse\n",
    "    )\n",
    "    result = supervisor_chain.invoke(state)\n",
    "    print(result)\n",
    "    output = {\n",
    "        \"next\": result.next,\n",
    "        \"messages\": [\n",
    "            HumanMessage(\n",
    "                content=f\"Supervisor decided: {result.next}\", name=\"supervisor\"\n",
    "            )\n",
    "        ],\n",
    "    }\n",
    "    print(f\"Supervisor output: {output}\")\n",
    "    return output"
   ]
  },
  {
   "cell_type": "markdown",
   "metadata": {},
   "source": [
    "We can test our supervisor agent to check if it is returning correct next step based on the user input."
   ]
  },
  {
   "cell_type": "code",
   "execution_count": 26,
   "metadata": {},
   "outputs": [
    {
     "name": "stdout",
     "output_type": "stream",
     "text": [
      "next='flight_agent'\n",
      "Supervisor output: {'next': 'flight_agent', 'messages': [HumanMessage(content='Supervisor decided: flight_agent', additional_kwargs={}, response_metadata={}, name='supervisor')]}\n"
     ]
    },
    {
     "data": {
      "text/plain": [
       "{'next': 'flight_agent',\n",
       " 'messages': [HumanMessage(content='Supervisor decided: flight_agent', additional_kwargs={}, response_metadata={}, name='supervisor')]}"
      ]
     },
     "execution_count": 26,
     "metadata": {},
     "output_type": "execute_result"
    }
   ],
   "source": [
    "supervisor_agent({\"messages\": [(\"user\", \"I want to book a flight\")]})"
   ]
  },
  {
   "cell_type": "markdown",
   "metadata": {},
   "source": [
    "## Putting all agents together\n",
    "\n",
    "Now its time to put all agents together in a workflow. We will start with the `supervisor`."
   ]
  },
  {
   "cell_type": "code",
   "execution_count": 27,
   "metadata": {},
   "outputs": [],
   "source": [
    "class State(TypedDict):\n",
    "    messages: Annotated[list, add_messages]\n",
    "    next: str"
   ]
  },
  {
   "cell_type": "code",
   "execution_count": 82,
   "metadata": {},
   "outputs": [
    {
     "data": {
      "text/plain": [
       "<langgraph.graph.state.StateGraph at 0x1170cfed0>"
      ]
     },
     "execution_count": 82,
     "metadata": {},
     "output_type": "execute_result"
    }
   ],
   "source": [
    "full_workflow = StateGraph(State)\n",
    "full_workflow.add_node(\"supervisor\", supervisor_agent)\n",
    "\n",
    "full_workflow.add_edge(START, \"supervisor\")\n"
   ]
  },
  {
   "cell_type": "markdown",
   "metadata": {},
   "source": [
    "We need to create a agent node using the flight agent that we have created above. "
   ]
  },
  {
   "cell_type": "code",
   "execution_count": 53,
   "metadata": {},
   "outputs": [],
   "source": [
    "from langchain_core.messages import AIMessage\n",
    "\n",
    "def agent_node(state, agent, name):\n",
    "    result = agent.invoke(state)\n",
    "    return {\n",
    "        \"messages\": [HumanMessage(content=result[\"messages\"][-1].content, name=name)]\n",
    "    }"
   ]
  },
  {
   "cell_type": "code",
   "execution_count": 83,
   "metadata": {},
   "outputs": [],
   "source": [
    "flight_node = functools.partial(agent_node, agent=flight_agent, name=\"flight_agent\")"
   ]
  },
  {
   "cell_type": "markdown",
   "metadata": {},
   "source": [
    "Let's add this node to the workflow\n"
   ]
  },
  {
   "cell_type": "code",
   "execution_count": 84,
   "metadata": {},
   "outputs": [
    {
     "data": {
      "text/plain": [
       "<langgraph.graph.state.StateGraph at 0x1170cfed0>"
      ]
     },
     "execution_count": 84,
     "metadata": {},
     "output_type": "execute_result"
    }
   ],
   "source": [
    "full_workflow.add_node(\"flight_agent\", flight_node)"
   ]
  },
  {
   "cell_type": "markdown",
   "metadata": {},
   "source": [
    "We can add `hotel_agent` as subgraph to this workflow. This is is a good example of how to use subgraphs in workflows. This also give us more control over the workflow."
   ]
  },
  {
   "cell_type": "code",
   "execution_count": 85,
   "metadata": {},
   "outputs": [
    {
     "data": {
      "text/plain": [
       "<langgraph.graph.state.StateGraph at 0x1170cfed0>"
      ]
     },
     "execution_count": 85,
     "metadata": {},
     "output_type": "execute_result"
    }
   ],
   "source": [
    "full_workflow.add_node(\"hotel_agent\", app)"
   ]
  },
  {
   "cell_type": "markdown",
   "metadata": {},
   "source": [
    "Once we get the output from hotel agent we need to make sure that it has correct structure that supervisor agent can process. For this we need to add dd a node to the workflow that will process the output from hotel agent."
   ]
  },
  {
   "cell_type": "code",
   "execution_count": 33,
   "metadata": {},
   "outputs": [],
   "source": [
    "def process_output(state):\n",
    "    print(state)\n",
    "    messages = state[\"messages\"]\n",
    "    for message in reversed(messages):\n",
    "        if isinstance(message, AIMessage) and isinstance(message.content, str):\n",
    "           return {\n",
    "                \"messages\": [\n",
    "                    HumanMessage(content=message.content, name=\"hotel_agent\")\n",
    "                ]\n",
    "            }\n",
    "    return None"
   ]
  },
  {
   "cell_type": "code",
   "execution_count": 86,
   "metadata": {},
   "outputs": [
    {
     "data": {
      "text/plain": [
       "<langgraph.graph.state.StateGraph at 0x1170cfed0>"
      ]
     },
     "execution_count": 86,
     "metadata": {},
     "output_type": "execute_result"
    }
   ],
   "source": [
    "\n",
    "full_workflow.add_node(\"process_output\", process_output)"
   ]
  },
  {
   "cell_type": "markdown",
   "metadata": {},
   "source": [
    "Now we can an add edges to the workflow that will connect all the agents. We need to add edge from flight agent to supervisor and hotel agent to process output and then to supervisor. "
   ]
  },
  {
   "cell_type": "code",
   "execution_count": 87,
   "metadata": {},
   "outputs": [
    {
     "data": {
      "text/plain": [
       "<langgraph.graph.state.StateGraph at 0x1170cfed0>"
      ]
     },
     "execution_count": 87,
     "metadata": {},
     "output_type": "execute_result"
    }
   ],
   "source": [
    "\n",
    "full_workflow.add_edge(\"flight_agent\", \"supervisor\")\n",
    "full_workflow.add_edge(\"hotel_agent\", \"process_output\")\n",
    "full_workflow.add_edge(\"process_output\", \"supervisor\")\n",
    "conditional_map = {k: k for k in members}\n",
    "conditional_map[\"FINISH\"] = END\n",
    "full_workflow.add_conditional_edges(\"supervisor\", lambda x: x[\"next\"], conditional_map)"
   ]
  },
  {
   "cell_type": "code",
   "execution_count": 88,
   "metadata": {},
   "outputs": [
    {
     "data": {
      "image/jpeg": "[encoded data removed]",
      "text/plain": [
       "<IPython.core.display.Image object>"
      ]
     },
     "metadata": {},
     "output_type": "display_data"
    }
   ],
   "source": [
    "from IPython.display import Image, display\n",
    "\n",
    "supervisor_agent_graph = full_workflow.compile(\n",
    "    checkpointer=memory,\n",
    ")\n",
    "\n",
    "# display subgraph using xray=1\n",
    "display(Image(supervisor_agent_graph.get_graph(xray=1).draw_mermaid_png()))"
   ]
  },
  {
   "cell_type": "code",
   "execution_count": 89,
   "metadata": {},
   "outputs": [
    {
     "name": "stdout",
     "output_type": "stream",
     "text": [
      "================================\u001b[1m Human Message \u001b[0m=================================\n",
      "\n",
      "I want to book a hotel for 8th October for 3 nights\n",
      "next='hotel_agent'\n",
      "Supervisor output: {'next': 'hotel_agent', 'messages': [HumanMessage(content='Supervisor decided: hotel_agent', additional_kwargs={}, response_metadata={}, name='supervisor')]}\n",
      "================================\u001b[1m Human Message \u001b[0m=================================\n",
      "Name: supervisor\n",
      "\n",
      "Supervisor decided: hotel_agent\n",
      "================================\u001b[1m Human Message \u001b[0m=================================\n",
      "Name: supervisor\n",
      "\n",
      "Supervisor decided: hotel_agent\n",
      "==================================\u001b[1m Ai Message \u001b[0m==================================\n",
      "\n",
      "[{'type': 'text', 'text': 'Okay, let me help you find a hotel for your stay. To search for available hotels, I need to know the city you want to stay in. Please provide the city name.'}, {'type': 'tool_use', 'name': 'AskHuman', 'input': {'question': 'What city would you like to book a hotel in?'}, 'id': 'tooluse_W_Q8LrhxQp-FevJ3d36VZA'}]\n",
      "Tool Calls:\n",
      "  AskHuman (tooluse_W_Q8LrhxQp-FevJ3d36VZA)\n",
      " Call ID: tooluse_W_Q8LrhxQp-FevJ3d36VZA\n",
      "  Args:\n",
      "    question: What city would you like to book a hotel in?\n"
     ]
    }
   ],
   "source": [
    "config = {\"configurable\": {\"thread_id\": \"133\"}}\n",
    "input_message = HumanMessage(\n",
    "    content=\"I want to book a hotel for 8th October for 3 nights\"\n",
    ")\n",
    "for event in supervisor_agent_graph.stream(\n",
    "    {\"messages\": [input_message]}, config, stream_mode=\"values\", subgraphs=True\n",
    "):\n",
    "    event[1][\"messages\"][-1].pretty_print()"
   ]
  },
  {
   "cell_type": "markdown",
   "metadata": {},
   "source": [
    "In the above example execution is interrupted if agent needs to ask additional question. Then we can update state of subgraph and then continue execution"
   ]
  },
  {
   "cell_type": "code",
   "execution_count": 90,
   "metadata": {},
   "outputs": [
    {
     "data": {
      "text/plain": [
       "PregelTask(id='a4f8e1f7-b5c1-245f-4197-e8ab6458bcf1', name='hotel_agent', path=('__pregel_pull', 'hotel_agent'), error=None, interrupts=(), state=StateSnapshot(values={'messages': [HumanMessage(content='I want to book a hotel for 8th October for 3 nights', additional_kwargs={}, response_metadata={}, id='9475bfe4-a51f-4f3e-a6fd-83172ce0b031'), HumanMessage(content='Supervisor decided: hotel_agent', additional_kwargs={}, response_metadata={}, name='supervisor', id='154f3289-f2f9-4011-8502-cb3590d31715'), AIMessage(content=[{'type': 'text', 'text': 'Okay, let me help you find a hotel for your stay. To search for available hotels, I need to know the city you want to stay in. Please provide the city name.'}, {'type': 'tool_use', 'name': 'AskHuman', 'input': {'question': 'What city would you like to book a hotel in?'}, 'id': 'tooluse_W_Q8LrhxQp-FevJ3d36VZA'}], additional_kwargs={}, response_metadata={'ResponseMetadata': {'RequestId': '85bd74f3-526c-4f3d-a8dc-d2a9387ecb37', 'HTTPStatusCode': 200, 'HTTPHeaders': {'date': 'Fri, 04 Oct 2024 21:06:31 GMT', 'content-type': 'application/json', 'content-length': '487', 'connection': 'keep-alive', 'x-amzn-requestid': '85bd74f3-526c-4f3d-a8dc-d2a9387ecb37'}, 'RetryAttempts': 0}, 'stopReason': 'tool_use', 'metrics': {'latencyMs': 3712}}, id='run-5d797a39-e089-41b4-8853-88cd9670de80-0', tool_calls=[{'name': 'AskHuman', 'args': {'question': 'What city would you like to book a hotel in?'}, 'id': 'tooluse_W_Q8LrhxQp-FevJ3d36VZA', 'type': 'tool_call'}], usage_metadata={'input_tokens': 912, 'output_tokens': 103, 'total_tokens': 1015})]}, next=('ask_human',), config={'configurable': {'thread_id': '133', 'checkpoint_ns': 'hotel_agent:a4f8e1f7-b5c1-245f-4197-e8ab6458bcf1', 'checkpoint_id': '1ef82948-7751-6996-8001-2d908caf9533', 'checkpoint_map': {'': '1ef82948-52de-662c-8001-a9d85b278e84', 'hotel_agent:a4f8e1f7-b5c1-245f-4197-e8ab6458bcf1': '1ef82948-7751-6996-8001-2d908caf9533'}}}, metadata={'source': 'loop', 'writes': {'hotel_agent': {'messages': AIMessage(content=[{'type': 'text', 'text': 'Okay, let me help you find a hotel for your stay. To search for available hotels, I need to know the city you want to stay in. Please provide the city name.'}, {'type': 'tool_use', 'name': 'AskHuman', 'input': {'question': 'What city would you like to book a hotel in?'}, 'id': 'tooluse_W_Q8LrhxQp-FevJ3d36VZA'}], additional_kwargs={}, response_metadata={'ResponseMetadata': {'RequestId': '85bd74f3-526c-4f3d-a8dc-d2a9387ecb37', 'HTTPStatusCode': 200, 'HTTPHeaders': {'date': 'Fri, 04 Oct 2024 21:06:31 GMT', 'content-type': 'application/json', 'content-length': '487', 'connection': 'keep-alive', 'x-amzn-requestid': '85bd74f3-526c-4f3d-a8dc-d2a9387ecb37'}, 'RetryAttempts': 0}, 'stopReason': 'tool_use', 'metrics': {'latencyMs': 3712}}, id='run-5d797a39-e089-41b4-8853-88cd9670de80-0', tool_calls=[{'name': 'AskHuman', 'args': {'question': 'What city would you like to book a hotel in?'}, 'id': 'tooluse_W_Q8LrhxQp-FevJ3d36VZA', 'type': 'tool_call'}], usage_metadata={'input_tokens': 912, 'output_tokens': 103, 'total_tokens': 1015})}}, 'step': 1, 'parents': {'': '1ef82948-52de-662c-8001-a9d85b278e84'}}, created_at='2024-10-04T21:06:31.114362+00:00', parent_config={'configurable': {'thread_id': '133', 'checkpoint_ns': 'hotel_agent:a4f8e1f7-b5c1-245f-4197-e8ab6458bcf1', 'checkpoint_id': '1ef82948-52e2-6bfa-8000-40c82626aff8'}}, tasks=(PregelTask(id='ee023483-9522-d622-3804-75d99dcf2c1e', name='ask_human', path=('__pregel_pull', 'ask_human'), error=None, interrupts=(), state=None),)))"
      ]
     },
     "execution_count": 90,
     "metadata": {},
     "output_type": "execute_result"
    }
   ],
   "source": [
    "\n",
    "state = supervisor_agent_graph.get_state(config, subgraphs=True)\n",
    "state.tasks[0]"
   ]
  },
  {
   "cell_type": "markdown",
   "metadata": {},
   "source": [
    "`Ask_Human` is a dummy tool node, we need to find the `tool_id` from the subgraph and the update the state with tool message."
   ]
  },
  {
   "cell_type": "code",
   "execution_count": 91,
   "metadata": {},
   "outputs": [
    {
     "name": "stdout",
     "output_type": "stream",
     "text": [
      "tooluse_W_Q8LrhxQp-FevJ3d36VZA\n"
     ]
    }
   ],
   "source": [
    "def extract_tool_id(pregel_task):\n",
    "    # Navigate to the messages in the state\n",
    "    messages = pregel_task.state.values.get(\"messages\", [])\n",
    "\n",
    "    # Find the last AIMessage\n",
    "    for message in reversed(messages):\n",
    "        if isinstance(message, AIMessage):\n",
    "            # Check if the message has tool_calls\n",
    "            tool_calls = getattr(message, \"tool_calls\", None)\n",
    "            if tool_calls:\n",
    "                # Return the id of the first tool call\n",
    "                return tool_calls[0][\"id\"]\n",
    "\n",
    "    # If no tool_id is found, return None\n",
    "    return None\n",
    "\n",
    "\n",
    "# Assuming 'output' is the PregelTask object you provided\n",
    "tool_id = extract_tool_id(state.tasks[0])\n",
    "print(tool_id)  # This should print: tooluse_qWu6nEewS5OSqxszIgdfNA"
   ]
  },
  {
   "cell_type": "markdown",
   "metadata": {},
   "source": [
    "While updating the state of subgraph, we need to make sure to pass config of subgraph - `state.tasks[0].state.config`"
   ]
  },
  {
   "cell_type": "code",
   "execution_count": 92,
   "metadata": {},
   "outputs": [],
   "source": [
    "user_input=input(\"User: \")"
   ]
  },
  {
   "cell_type": "code",
   "execution_count": 93,
   "metadata": {},
   "outputs": [
    {
     "data": {
      "text/plain": [
       "('ask_human',)"
      ]
     },
     "execution_count": 93,
     "metadata": {},
     "output_type": "execute_result"
    }
   ],
   "source": [
    "# We now create the tool call with the id and the response we want\n",
    "tool_message = [{\"tool_call_id\": tool_id, \"type\": \"tool\", \"content\": user_input}]\n",
    "\n",
    "\n",
    "supervisor_agent_graph.update_state(\n",
    "    state.tasks[0].state.config, {\"messages\": tool_message}, as_node=\"ask_human\"\n",
    ")\n",
    "\n",
    "supervisor_agent_graph.get_state(state.tasks[0].state.config).next"
   ]
  },
  {
   "cell_type": "code",
   "execution_count": 94,
   "metadata": {},
   "outputs": [
    {
     "name": "stdout",
     "output_type": "stream",
     "text": [
      "================================\u001b[1m Human Message \u001b[0m=================================\n",
      "Name: supervisor\n",
      "\n",
      "Supervisor decided: hotel_agent\n",
      "=================================\u001b[1m Tool Message \u001b[0m=================================\n",
      "\n",
      "Paris\n",
      "==================================\u001b[1m Ai Message \u001b[0m==================================\n",
      "\n",
      "[{'type': 'text', 'text': 'Got it, you need a hotel in Paris for 3 nights, checking in on October 8th. Let me search for available hotels:'}, {'type': 'tool_use', 'name': 'suggest_hotels', 'input': {'city': 'Paris', 'checkin_date': '2023-10-08'}, 'id': 'tooluse_opm0n6A-RvWwprcZc-kX9g'}]\n",
      "Tool Calls:\n",
      "  suggest_hotels (tooluse_opm0n6A-RvWwprcZc-kX9g)\n",
      " Call ID: tooluse_opm0n6A-RvWwprcZc-kX9g\n",
      "  Args:\n",
      "    city: Paris\n",
      "    checkin_date: 2023-10-08\n",
      "=================================\u001b[1m Tool Message \u001b[0m=================================\n",
      "Name: suggest_hotels\n",
      "\n",
      "{\"hotels\": [\"Hotel D\", \"Hotel E\", \"Hotel F\"], \"checkin_date\": \"2023-10-08\", \"checkout_date\": \"2023-10-17\", \"price\": 168} FINISHED\n",
      "==================================\u001b[1m Ai Message \u001b[0m==================================\n",
      "\n",
      "Here are some available hotels in Paris for your stay from October 8th to October 17th:\n",
      "\n",
      "- Hotel D\n",
      "- Hotel E  \n",
      "- Hotel F\n",
      "\n",
      "The approximate price for a 3 night stay is $168. Would you like me to book one of these hotels for you? If so, which hotel would you prefer?\n",
      "==================================\u001b[1m Ai Message \u001b[0m==================================\n",
      "\n",
      "Here are some available hotels in Paris for your stay from October 8th to October 17th:\n",
      "\n",
      "- Hotel D\n",
      "- Hotel E  \n",
      "- Hotel F\n",
      "\n",
      "The approximate price for a 3 night stay is $168. Would you like me to book one of these hotels for you? If so, which hotel would you prefer?\n",
      "{'messages': [HumanMessage(content='I want to book a hotel for 8th October for 3 nights', additional_kwargs={}, response_metadata={}, id='9475bfe4-a51f-4f3e-a6fd-83172ce0b031'), HumanMessage(content='Supervisor decided: hotel_agent', additional_kwargs={}, response_metadata={}, name='supervisor', id='154f3289-f2f9-4011-8502-cb3590d31715'), AIMessage(content=[{'type': 'text', 'text': 'Okay, let me help you find a hotel for your stay. To search for available hotels, I need to know the city you want to stay in. Please provide the city name.'}, {'type': 'tool_use', 'name': 'AskHuman', 'input': {'question': 'What city would you like to book a hotel in?'}, 'id': 'tooluse_W_Q8LrhxQp-FevJ3d36VZA'}], additional_kwargs={}, response_metadata={'ResponseMetadata': {'RequestId': '85bd74f3-526c-4f3d-a8dc-d2a9387ecb37', 'HTTPStatusCode': 200, 'HTTPHeaders': {'date': 'Fri, 04 Oct 2024 21:06:31 GMT', 'content-type': 'application/json', 'content-length': '487', 'connection': 'keep-alive', 'x-amzn-requestid': '85bd74f3-526c-4f3d-a8dc-d2a9387ecb37'}, 'RetryAttempts': 0}, 'stopReason': 'tool_use', 'metrics': {'latencyMs': 3712}}, id='run-5d797a39-e089-41b4-8853-88cd9670de80-0', tool_calls=[{'name': 'AskHuman', 'args': {'question': 'What city would you like to book a hotel in?'}, 'id': 'tooluse_W_Q8LrhxQp-FevJ3d36VZA', 'type': 'tool_call'}], usage_metadata={'input_tokens': 912, 'output_tokens': 103, 'total_tokens': 1015}), ToolMessage(content='Paris', id='6d855475-de79-4f43-b813-53a3831f6bf4', tool_call_id='tooluse_W_Q8LrhxQp-FevJ3d36VZA'), AIMessage(content=[{'type': 'text', 'text': 'Got it, you need a hotel in Paris for 3 nights, checking in on October 8th. Let me search for available hotels:'}, {'type': 'tool_use', 'name': 'suggest_hotels', 'input': {'city': 'Paris', 'checkin_date': '2023-10-08'}, 'id': 'tooluse_opm0n6A-RvWwprcZc-kX9g'}], additional_kwargs={}, response_metadata={'ResponseMetadata': {'RequestId': 'd0ff5e0d-8e43-4a68-ac7e-94afe55da3a4', 'HTTPStatusCode': 200, 'HTTPHeaders': {'date': 'Fri, 04 Oct 2024 21:07:47 GMT', 'content-type': 'application/json', 'content-length': '434', 'connection': 'keep-alive', 'x-amzn-requestid': 'd0ff5e0d-8e43-4a68-ac7e-94afe55da3a4'}, 'RetryAttempts': 0}, 'stopReason': 'tool_use', 'metrics': {'latencyMs': 4584}}, id='run-923554a5-8980-454d-a991-14ecb5a8757a-0', tool_calls=[{'name': 'suggest_hotels', 'args': {'city': 'Paris', 'checkin_date': '2023-10-08'}, 'id': 'tooluse_opm0n6A-RvWwprcZc-kX9g', 'type': 'tool_call'}], usage_metadata={'input_tokens': 1027, 'output_tokens': 110, 'total_tokens': 1137}), ToolMessage(content='{\"hotels\": [\"Hotel D\", \"Hotel E\", \"Hotel F\"], \"checkin_date\": \"2023-10-08\", \"checkout_date\": \"2023-10-17\", \"price\": 168} FINISHED', name='suggest_hotels', id='d9ca9425-3dd3-4964-8ef2-ed2663d76d1b', tool_call_id='tooluse_opm0n6A-RvWwprcZc-kX9g'), AIMessage(content='Here are some available hotels in Paris for your stay from October 8th to October 17th:\\n\\n- Hotel D\\n- Hotel E  \\n- Hotel F\\n\\nThe approximate price for a 3 night stay is $168. Would you like me to book one of these hotels for you? If so, which hotel would you prefer?', additional_kwargs={}, response_metadata={'ResponseMetadata': {'RequestId': 'f130eeb8-fbcf-4d5e-ad1c-0815207e838d', 'HTTPStatusCode': 200, 'HTTPHeaders': {'date': 'Fri, 04 Oct 2024 21:07:50 GMT', 'content-type': 'application/json', 'content-length': '455', 'connection': 'keep-alive', 'x-amzn-requestid': 'f130eeb8-fbcf-4d5e-ad1c-0815207e838d'}, 'RetryAttempts': 0}, 'stopReason': 'end_turn', 'metrics': {'latencyMs': 2720}}, id='run-106dfe8f-51ce-41ee-92ba-9e91a2a6b509-0', usage_metadata={'input_tokens': 1198, 'output_tokens': 75, 'total_tokens': 1273})], 'next': 'hotel_agent'}\n",
      "================================\u001b[1m Human Message \u001b[0m=================================\n",
      "Name: hotel_agent\n",
      "\n",
      "Here are some available hotels in Paris for your stay from October 8th to October 17th:\n",
      "\n",
      "- Hotel D\n",
      "- Hotel E  \n",
      "- Hotel F\n",
      "\n",
      "The approximate price for a 3 night stay is $168. Would you like me to book one of these hotels for you? If so, which hotel would you prefer?\n",
      "next='hotel_agent'\n",
      "Supervisor output: {'next': 'hotel_agent', 'messages': [HumanMessage(content='Supervisor decided: hotel_agent', additional_kwargs={}, response_metadata={}, name='supervisor')]}\n",
      "================================\u001b[1m Human Message \u001b[0m=================================\n",
      "Name: supervisor\n",
      "\n",
      "Supervisor decided: hotel_agent\n",
      "================================\u001b[1m Human Message \u001b[0m=================================\n",
      "Name: supervisor\n",
      "\n",
      "Supervisor decided: hotel_agent\n",
      "==================================\u001b[1m Ai Message \u001b[0m==================================\n",
      "\n",
      "[{'type': 'text', 'text': 'It seems there may have been a misunderstanding with the dates. You had requested a 3 night stay checking in on October 8th. However, the results show a check-out date of October 17th, which is 9 nights instead of 3.\\n\\nLet me double check the dates you need:'}, {'type': 'tool_use', 'name': 'AskHuman', 'input': {'question': 'Could you please confirm the check-in date and number of nights you need for your stay in Paris?'}, 'id': 'tooluse_49HauTo3TAieGSTbk70aPw'}]\n",
      "Tool Calls:\n",
      "  AskHuman (tooluse_49HauTo3TAieGSTbk70aPw)\n",
      " Call ID: tooluse_49HauTo3TAieGSTbk70aPw\n",
      "  Args:\n",
      "    question: Could you please confirm the check-in date and number of nights you need for your stay in Paris?\n"
     ]
    }
   ],
   "source": [
    "for event in supervisor_agent_graph.stream(\n",
    "   None, config, stream_mode=\"values\", subgraphs=True\n",
    "):\n",
    "    event[1][\"messages\"][-1].pretty_print()"
   ]
  },
  {
   "cell_type": "markdown",
   "metadata": {},
   "source": [
    "## Conclusion\n",
    "\n",
    "In this notebook, we explored building a multi-agent system using LangGraph to handle travel-related tasks. Key takeaways include:\n",
    "\n",
    "- Multi-agent systems can overcome limitations of single-agent setups, providing more flexibility and efficiency for complex tasks\n",
    "- We created specialized agents for flight and hotel bookings, each with their own set of tools and capabilities\n",
    "- A supervisor agent was implemented to orchestrate the workflow, deciding which specialized agent to call based on the user's input\n",
    "- We demonstrated how to build agents both using pre-built components (like create_react_agent) and from scratch for more control. The use of LangGraph allowed us to create a flexible workflow, incorporating conditional logic and subgraphs\n"
   ]
  }
 ],
 "metadata": {
  "kernelspec": {
   "display_name": ".venv",
   "language": "python",
   "name": "python3"
  },
  "language_info": {
   "codemirror_mode": {
    "name": "ipython",
    "version": 3
   },
   "file_extension": ".py",
   "mimetype": "text/x-python",
   "name": "python",
   "nbconvert_exporter": "python",
   "pygments_lexer": "ipython3",
   "version": "3.11.7"
  }
 },
 "nbformat": 4,
 "nbformat_minor": 2
}
