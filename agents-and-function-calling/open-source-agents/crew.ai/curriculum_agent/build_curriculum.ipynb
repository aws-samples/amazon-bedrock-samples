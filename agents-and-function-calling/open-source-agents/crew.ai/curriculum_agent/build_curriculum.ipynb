{
 "cells": [
  {
   "cell_type": "markdown",
   "metadata": {},
   "source": [
    "# Curriculum Planning Assistant\n",
    "\n",
    "This notebook implements an AI-powered curriculum planning system based on Wiggins and McTighe's \n",
    "Understanding by Design (UbD) framework (Bowen, 2017). UbD employs \"backward design\" - starting with \n",
    "desired results before planning assessments and learning activities.\n",
    "\n",
    "Key Benefits of Backward Design (Wiggins & McTighe, 1998):\n",
    "- Focuses on student learning outcomes rather than teaching activities\n",
    "- Encourages intentional and explicit instruction\n",
    "- Ensures activities align with learning goals\n",
    "- Promotes student understanding rather than just content coverage\n",
    "\n",
    "The system uses three stages of backward design:\n",
    "1. Identify Desired Results\n",
    "2. Determine Acceptable Evidence  \n",
    "3. Plan Learning Experiences and Instruction\n",
    "\n",
    "References:\n",
    "Bowen, R. S. (2017). Understanding by Design. Vanderbilt University Center for Teaching. \n",
    "Retrieved from https://cft.vanderbilt.edu/understanding-by-design/\n",
    "\n",
    "Wiggins, G., & McTighe, J. (1998). Understanding by Design. ASCD."
   ]
  },
  {
   "cell_type": "markdown",
   "metadata": {},
   "source": [
    "## Overview\n",
    "\n",
    "We will be implementing a multi-crew, multi-agent orchestration that follows the UbD framework, by leveraging Crew.AI's sequential agent orchestration process. Here is a high level diagram of that flow.\n",
    "![agent_flow](./assets/agentic_flow.png).\n",
    "\n",
    "Throughout this implementation we've leveraged Amazon Nova for function calling, and Anthropic Claude for running the agents themselves. Feel free to update `llm_config.py` with other models you'd like to use."
   ]
  },
  {
   "cell_type": "markdown",
   "metadata": {},
   "source": [
    "## Setup\n",
    "\n",
    "First, let's insetall and import the required libraries and define our helper functions:"
   ]
  },
  {
   "cell_type": "code",
   "execution_count": null,
   "metadata": {},
   "outputs": [],
   "source": [
    "!pip install ipython==8.31.0 boto3==1.36.0 botocore==1.36.0 crewai==0.98.0 langchain-community==0.3.15"
   ]
  },
  {
   "cell_type": "code",
   "execution_count": 1,
   "metadata": {},
   "outputs": [],
   "source": [
    "import json\n",
    "from IPython.display import Markdown\n",
    "from datetime import datetime\n",
    "from info_collection_crew import InfoCollectionCrew\n",
    "from curriculum_planning_crew import CurriculumPlanningCrew\n",
    "import traceback\n",
    "import crew_helpers\n",
    "\n",
    "def load_student_info(json_file):\n",
    "    \"\"\"Load student information from a JSON file\"\"\"\n",
    "    try:\n",
    "        with open(json_file, 'r') as f:\n",
    "            return json.load(f)\n",
    "    except FileNotFoundError:\n",
    "        print(f\"Error: Could not find {json_file}\")\n",
    "        raise\n",
    "    except json.JSONDecodeError:\n",
    "        print(f\"Error: Invalid JSON format in {json_file}\")\n",
    "        raise"
   ]
  },
  {
   "cell_type": "markdown",
   "metadata": {},
   "source": [
    "### Enable Nova and Claude Models in Bedrock\n",
    "Be sure to request access to the following models, by following [these instructions](https://docs.aws.amazon.com/bedrock/latest/userguide/getting-started.html):\n",
    "* anthropic.claude-3-5-haiku-20241022-v1\n",
    "* us.amazon.nova-pro-v1:0\n",
    "\n",
    "\n",
    "Once permissions have been granted you can begin using this notebook\n",
    "\n",
    "### Get SearchApi Key\n",
    "This example uses [Langchain's SearchApiAPIWrapper](https://python.langchain.com/docs/integrations/providers/searchapi/) to do both google searches for news and web content.\n",
    "Alternatively, you can use the DuckDuckGo search to accomplish the same functionality. Note that this solution uses Google News as well.\n",
    "\n",
    "### .env configuration\n",
    "\n",
    "Next, make sure you've configured your AWS credentials chain. In this example we've leveraged a local AWS profile stored in a `.env` file. Feel free to copy `.env-copy` and use your own AWS profile in your own `.env`.\n",
    "Be sure to also update `SEARCHAPI_API_KEY` to your search api key.\n",
    "\n",
    "### Regional Availability\n",
    "At the time of this writing, Nova is only available in `us-east-1`, so be sure to configure your environment to use this region. We've leveraged a cross-region inference profile in our solution to this end. See [llm_config.py](llm_config.py) `get_nova_pro()` method to see this.\n",
    "\n",
    "\n",
    "\n"
   ]
  },
  {
   "cell_type": "markdown",
   "metadata": {},
   "source": [
    "## Load Student Information\n",
    "\n",
    "We'll load the student information from a JSON file. \n",
    "\n",
    "This file should contain basic information about the student(s) and classroom context. It should also declare the `established_goals` of the curriculum, as the UbD method will workbackwards from this to design the learning plan.\n",
    "\n",
    "You can find some examples in `/examples`.\n",
    "\n",
    "Example JSON structure:\n",
    "```json\n",
    "{\n",
    "    \"location\": \"Springfield, IL\",\n",
    "    \"number_students\": \"33\",\n",
    "    \"age_range\": \"10-11\",\n",
    "    \"venue\": \"classroom roughly 40X40 feet in size\",\n",
    "    \"grade\": \"5th\",\n",
    "    \"established_goals\": \"Students will demonstrate their ability to sequence major 20th century events using basic timeline concepts and vocabulary (past, present, future). Students will compare and contrast daily life between today and 100 years ago, focusing on tangible examples like transportation, communication, and school life. Students will recognize and explain the significance of key American symbols that represent our nation's values and history.\",\n",
    "    \"special_needs\": \"One student who struggles with ADHD  regularly moves between moments of intense focus (particularly during hands-on or personally interesting activities) and periods of visible distraction when their attention drifts away from current tasks.  I have 1 staff support in my class on Wednesdays and Fridays from 1-3 PM.\"\n",
    "}\n",
    "```"
   ]
  },
  {
   "cell_type": "code",
   "execution_count": null,
   "metadata": {},
   "outputs": [],
   "source": [
    "# Specify your JSON file path here\n",
    "json_file_path = \"examples/student_info.json\"\n",
    "\n",
    "# Load the base student information\n",
    "base_student_info = load_student_info(json_file_path)\n",
    "\n",
    "# Add current date to inputs\n",
    "# local_timezone = datetime.now(timezone.utc).astimezone().tzinfo\n",
    "inputs = {\n",
    "    **base_student_info,\n",
    "    \"current_date\": datetime.now().strftime(\"%A, %B %d, %Y\")\n",
    "}\n",
    "\n",
    "print(\"Input information:\", inputs)"
   ]
  },
  {
   "cell_type": "markdown",
   "metadata": {},
   "source": [
    "## Information Collection Phase\n",
    "\n",
    "The Information Collection Crew consists of three specialized agents:\n",
    "1. Student Demographics Specialist\n",
    "2. Classroom Environment Specialist\n",
    "3. Community Liaison\n",
    "\n",
    "This aligns with UbD Stage 1: Identifying Desired Results by understanding learner context.\n",
    "\n",
    "These agents will gather relevant information about the students, classroom, and community context.\n",
    "\n",
    "You can see the agent code in the `InfoCollectionCrew` class."
   ]
  },
  {
   "cell_type": "code",
   "execution_count": null,
   "metadata": {},
   "outputs": [],
   "source": [
    "try:\n",
    "    info_crew = InfoCollectionCrew().crew()\n",
    "    info_crew_result = info_crew.kickoff(inputs=inputs)\n",
    "except Exception as e:\n",
    "    print(f\"Error during information collection: {str(e)}\")\n",
    "    traceback.print_exc()"
   ]
  },
  {
   "cell_type": "markdown",
   "metadata": {},
   "source": [
    "Let's store our task outputs for later use as input to our curriculum development."
   ]
  },
  {
   "cell_type": "code",
   "execution_count": null,
   "metadata": {},
   "outputs": [],
   "source": [
    "collected_info = crew_helpers.task_summary(crew_output=info_crew_result)\n",
    "Markdown(collected_info)"
   ]
  },
  {
   "cell_type": "markdown",
   "metadata": {},
   "source": [
    "## Curriculum Planning Phase\n",
    "\n",
    "The Curriculum Planning Crew implements the three UbD stages (Wiggins & McTighe, 1998):\n",
    "\n",
    "**Stage 1 - Identify Desired Results:**\n",
    "- What should students know and be able to do?\n",
    "- What enduring understandings should students retain?\n",
    "\n",
    "**Stage 2 - Determine Acceptable Evidence:**\n",
    "- How will we know if students have achieved the desired results?\n",
    "- What evidence will show understanding?\n",
    "\n",
    "**Stage 3 - Plan Learning Experiences:**\n",
    "- What knowledge and skills do students need?\n",
    "- What activities will help students learn?\n",
    "- What resources and teaching methods should be used?\n",
    "\n",
    "You can see the agent code in the `CurriculumPlanningCrew` class."
   ]
  },
  {
   "cell_type": "code",
   "execution_count": null,
   "metadata": {},
   "outputs": [],
   "source": [
    "try:\n",
    "    curriculum_planning_crew = CurriculumPlanningCrew().crew()\n",
    "    curriculum_planning_crew_result = curriculum_planning_crew.kickoff(inputs={**inputs, \"background\": collected_info})\n",
    "\n",
    "    # print(\"\\nCurriculum Planning Results:\")\n",
    "    # Markdown(curriculum_planning_crew_result.raw)\n",
    "except Exception as e:\n",
    "    print(f\"Error during curriculum planning: {str(e)}\")\n",
    "    traceback.print_exc()"
   ]
  },
  {
   "cell_type": "markdown",
   "metadata": {},
   "source": [
    "Now that our crew has done its job, lets come back to our original established goals for this curriculum."
   ]
  },
  {
   "cell_type": "code",
   "execution_count": null,
   "metadata": {},
   "outputs": [],
   "source": [
    "Markdown(f\"# Established Goals\\n #### {base_student_info['established_goals']}\")"
   ]
  },
  {
   "cell_type": "markdown",
   "metadata": {},
   "source": [
    "Now lets take a look at our full output from our crew, but combining all of the task outputs."
   ]
  },
  {
   "cell_type": "code",
   "execution_count": null,
   "metadata": {},
   "outputs": [],
   "source": [
    "curriculum_planning_crew_result_md = crew_helpers.task_summary(crew_output=curriculum_planning_crew_result)\n",
    "\n",
    "Markdown(f\"# Established Goals\\n\\n{curriculum_planning_crew_result_md}\")"
   ]
  },
  {
   "cell_type": "markdown",
   "metadata": {},
   "source": [
    "## Results\n",
    "\n",
    "The above cells will generate:\n",
    "\n",
    "**Stage 1 Results:**\n",
    "- Transfer goals\n",
    "- Enduring understandings \n",
    "- Essential questions\n",
    "- Knowledge and skills\n",
    "\n",
    "**Stage 2 Results:**\n",
    "- Assessment evidence\n",
    "- Performance tasks\n",
    "- Other evidence\n",
    "\n",
    "**Stage 3 Results:**\n",
    "- Learning activities\n",
    "- Instructional approaches\n",
    "- Resources needed\n",
    "\n",
    "This comprehensive plan follows the UbD framework to create meaningful, assessment-driven instruction\n",
    "focused on student understanding.\n",
    "\n",
    "You can use these results to implement an effective, contextualized curriculum for your classroom.\n",
    "\n",
    "Find each of the task outputs in their respective log folders in `/logs/tasks/outputs/`.\n"
   ]
  },
  {
   "cell_type": "markdown",
   "metadata": {},
   "source": [
    "## Next Steps\n",
    "\n",
    "Take a deeper dive into how you can make this workflow work best for your students. \n",
    "\n",
    "Are there other tools your organization uses to ensure students are measurably improving their learning?\n",
    "\n",
    "What datasources could this workflow utilize to be improved?\n",
    "\n",
    "\n",
    "**Implementation**\n",
    "* Review and customize the generated curriculum plan for their specific needs\n",
    "* Break down the curriculum into detailed weekly/daily lesson plans\n",
    "* Create specific teaching materials and handouts based on the learning activities\n",
    "* Set up assessment rubrics using the evaluation criteria provided\n",
    "* Develop a timeline for implementing different curriculum components\n",
    "\n",
    "**Technical Enhancement**\n",
    "* Add more specialized agents to handle specific aspects like special education needs\n",
    "* Integrate with existing Learning Management Systems (LMS)\n",
    "* Create a web interface for easier input of student/classroom information\n",
    "* Add functionality to export curriculum plans in different formats (PDF, DOC, etc.)\n",
    "\n",
    "**Extension Projects**\n",
    "* Develop complementary tools for resource gathering\n",
    "* Build assessment generators aligned with curriculum goals\n",
    "* Design parent communication templates\n",
    "* Create student portfolio systems aligned with curriculum objectives\n"
   ]
  },
  {
   "cell_type": "markdown",
   "metadata": {},
   "source": []
  }
 ],
 "metadata": {
  "kernelspec": {
   "display_name": "curriculum_agent-ARqQeUdC",
   "language": "python",
   "name": "python3"
  },
  "language_info": {
   "codemirror_mode": {
    "name": "ipython",
    "version": 3
   },
   "file_extension": ".py",
   "mimetype": "text/x-python",
   "name": "python",
   "nbconvert_exporter": "python",
   "pygments_lexer": "ipython3",
   "version": "3.12.1"
  }
 },
 "nbformat": 4,
 "nbformat_minor": 4
}
