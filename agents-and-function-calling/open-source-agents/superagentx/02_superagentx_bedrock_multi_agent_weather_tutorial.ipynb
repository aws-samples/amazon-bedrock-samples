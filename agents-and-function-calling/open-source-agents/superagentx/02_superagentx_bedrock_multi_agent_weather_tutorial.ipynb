{
 "cells": [
  {
   "cell_type": "markdown",
   "id": "9f3de924-5afd-4df3-b81b-1d2950390a29",
   "metadata": {},
   "source": [
    "# Multi-Agents Real-Time Weather Example by Using SuperAgentX with AWS Bedrock LLM function Calling Feature.\n",
    "\n",
    "### Open Source Github Repository URL: https://github.com/superagentxai/superagentx\n",
    "\n",
    "## What is SuperAgentX?\n",
    "\n",
    "SuperAgentX is an advanced agentic AI framework designed to accelerate the development of Artificial General Intelligence (AGI). It provides a powerful, modular, and flexible platform for building autonomous AI agents capable of executing complex tasks with minimal human intervention.\n",
    "\n",
    "Using the SuperAgentX agentic AI framework, function calling with AWS Bedrock LLMs is simplified.\n",
    "\n",
    "The below example creates weather as a handler (Tool) and invokes using SuperAgentX's agent.\n",
    "\n",
    "#### The Below example explains how to invoke Bedrock Converse API using the SuperAgentX framework.\n",
    "\n",
    "In this example, the SuperAgentX Agent module can automatically invoke a mock weather handler (Tool). This function can be fully operational by integrating any weather service API. Later in the example, we connect to the Open-Meteo API.\n",
    "\n",
    "![SuperAgentX Multi Agent](assets/superagentX-Example-Weather.svg)\n"
   ]
  },
  {
   "cell_type": "code",
   "execution_count": 84,
   "id": "36e84a3e-07c5-4bfe-a00c-1e95ac06be23",
   "metadata": {},
   "outputs": [
    {
     "name": "stdout",
     "output_type": "stream",
     "text": [
      "Requirement already satisfied: superagentx in /Users/raghavprabhu/work/decisionfacts/sourcecode/agent/amazon-bedrock-samples/venv/lib/python3.12/site-packages (0.1.6)\r\n",
      "Requirement already satisfied: aiohttp<4.0.0,>=3.10.8 in /Users/raghavprabhu/work/decisionfacts/sourcecode/agent/amazon-bedrock-samples/venv/lib/python3.12/site-packages (from superagentx) (3.10.10)\r\n",
      "Requirement already satisfied: aiosqlite<0.21.0,>=0.20.0 in /Users/raghavprabhu/work/decisionfacts/sourcecode/agent/amazon-bedrock-samples/venv/lib/python3.12/site-packages (from superagentx) (0.20.0)\r\n",
      "Requirement already satisfied: bokeh<4.0.0,>=3.5.2 in /Users/raghavprabhu/work/decisionfacts/sourcecode/agent/amazon-bedrock-samples/venv/lib/python3.12/site-packages (from superagentx) (3.6.0)\r\n",
      "Requirement already satisfied: boto3<2.0.0,>=1.35.8 in /Users/raghavprabhu/work/decisionfacts/sourcecode/agent/amazon-bedrock-samples/venv/lib/python3.12/site-packages (from superagentx) (1.35.49)\r\n",
      "Requirement already satisfied: chromadb<0.6.0,>=0.5.5 in /Users/raghavprabhu/work/decisionfacts/sourcecode/agent/amazon-bedrock-samples/venv/lib/python3.12/site-packages (from superagentx) (0.5.15)\r\n",
      "Requirement already satisfied: elasticsearch<9.0.0,>=8.15.1 in /Users/raghavprabhu/work/decisionfacts/sourcecode/agent/amazon-bedrock-samples/venv/lib/python3.12/site-packages (from superagentx) (8.15.1)\r\n",
      "Requirement already satisfied: exa-py<2.0.0,>=1.1.4 in /Users/raghavprabhu/work/decisionfacts/sourcecode/agent/amazon-bedrock-samples/venv/lib/python3.12/site-packages (from superagentx) (1.4.0)\r\n",
      "Requirement already satisfied: neo4j<6.0.0,>=5.24.0 in /Users/raghavprabhu/work/decisionfacts/sourcecode/agent/amazon-bedrock-samples/venv/lib/python3.12/site-packages (from superagentx) (5.25.0)\r\n",
      "Requirement already satisfied: openai<2.0.0,>=1.47.1 in /Users/raghavprabhu/work/decisionfacts/sourcecode/agent/amazon-bedrock-samples/venv/lib/python3.12/site-packages (from superagentx) (1.52.2)\r\n",
      "Requirement already satisfied: opensearch-py<3.0.0,>=2.7.1 in /Users/raghavprabhu/work/decisionfacts/sourcecode/agent/amazon-bedrock-samples/venv/lib/python3.12/site-packages (from superagentx) (2.7.1)\r\n",
      "Requirement already satisfied: protobuf==3.20.3 in /Users/raghavprabhu/work/decisionfacts/sourcecode/agent/amazon-bedrock-samples/venv/lib/python3.12/site-packages (from superagentx) (3.20.3)\r\n",
      "Requirement already satisfied: pydantic<3.0.0,>=2.8.2 in /Users/raghavprabhu/work/decisionfacts/sourcecode/agent/amazon-bedrock-samples/venv/lib/python3.12/site-packages (from superagentx) (2.9.2)\r\n",
      "Requirement already satisfied: python-dotenv<2.0.0,>=1.0.1 in /Users/raghavprabhu/work/decisionfacts/sourcecode/agent/amazon-bedrock-samples/venv/lib/python3.12/site-packages (from superagentx) (1.0.1)\r\n",
      "Requirement already satisfied: rich<14.0.0,>=13.9.2 in /Users/raghavprabhu/work/decisionfacts/sourcecode/agent/amazon-bedrock-samples/venv/lib/python3.12/site-packages (from superagentx) (13.9.3)\r\n",
      "Requirement already satisfied: aiohappyeyeballs>=2.3.0 in /Users/raghavprabhu/work/decisionfacts/sourcecode/agent/amazon-bedrock-samples/venv/lib/python3.12/site-packages (from aiohttp<4.0.0,>=3.10.8->superagentx) (2.4.3)\r\n",
      "Requirement already satisfied: aiosignal>=1.1.2 in /Users/raghavprabhu/work/decisionfacts/sourcecode/agent/amazon-bedrock-samples/venv/lib/python3.12/site-packages (from aiohttp<4.0.0,>=3.10.8->superagentx) (1.3.1)\r\n",
      "Requirement already satisfied: attrs>=17.3.0 in /Users/raghavprabhu/work/decisionfacts/sourcecode/agent/amazon-bedrock-samples/venv/lib/python3.12/site-packages (from aiohttp<4.0.0,>=3.10.8->superagentx) (24.2.0)\r\n",
      "Requirement already satisfied: frozenlist>=1.1.1 in /Users/raghavprabhu/work/decisionfacts/sourcecode/agent/amazon-bedrock-samples/venv/lib/python3.12/site-packages (from aiohttp<4.0.0,>=3.10.8->superagentx) (1.5.0)\r\n",
      "Requirement already satisfied: multidict<7.0,>=4.5 in /Users/raghavprabhu/work/decisionfacts/sourcecode/agent/amazon-bedrock-samples/venv/lib/python3.12/site-packages (from aiohttp<4.0.0,>=3.10.8->superagentx) (6.1.0)\r\n",
      "Requirement already satisfied: yarl<2.0,>=1.12.0 in /Users/raghavprabhu/work/decisionfacts/sourcecode/agent/amazon-bedrock-samples/venv/lib/python3.12/site-packages (from aiohttp<4.0.0,>=3.10.8->superagentx) (1.16.0)\r\n",
      "Requirement already satisfied: typing_extensions>=4.0 in /Users/raghavprabhu/work/decisionfacts/sourcecode/agent/amazon-bedrock-samples/venv/lib/python3.12/site-packages (from aiosqlite<0.21.0,>=0.20.0->superagentx) (4.12.2)\r\n",
      "Requirement already satisfied: Jinja2>=2.9 in /Users/raghavprabhu/work/decisionfacts/sourcecode/agent/amazon-bedrock-samples/venv/lib/python3.12/site-packages (from bokeh<4.0.0,>=3.5.2->superagentx) (3.1.4)\r\n",
      "Requirement already satisfied: contourpy>=1.2 in /Users/raghavprabhu/work/decisionfacts/sourcecode/agent/amazon-bedrock-samples/venv/lib/python3.12/site-packages (from bokeh<4.0.0,>=3.5.2->superagentx) (1.3.0)\r\n",
      "Requirement already satisfied: numpy>=1.16 in /Users/raghavprabhu/work/decisionfacts/sourcecode/agent/amazon-bedrock-samples/venv/lib/python3.12/site-packages (from bokeh<4.0.0,>=3.5.2->superagentx) (2.1.0)\r\n",
      "Requirement already satisfied: packaging>=16.8 in /Users/raghavprabhu/work/decisionfacts/sourcecode/agent/amazon-bedrock-samples/venv/lib/python3.12/site-packages (from bokeh<4.0.0,>=3.5.2->superagentx) (24.1)\r\n",
      "Requirement already satisfied: pandas>=1.2 in /Users/raghavprabhu/work/decisionfacts/sourcecode/agent/amazon-bedrock-samples/venv/lib/python3.12/site-packages (from bokeh<4.0.0,>=3.5.2->superagentx) (2.2.3)\r\n",
      "Requirement already satisfied: pillow>=7.1.0 in /Users/raghavprabhu/work/decisionfacts/sourcecode/agent/amazon-bedrock-samples/venv/lib/python3.12/site-packages (from bokeh<4.0.0,>=3.5.2->superagentx) (10.4.0)\r\n",
      "Requirement already satisfied: PyYAML>=3.10 in /Users/raghavprabhu/work/decisionfacts/sourcecode/agent/amazon-bedrock-samples/venv/lib/python3.12/site-packages (from bokeh<4.0.0,>=3.5.2->superagentx) (6.0.2)\r\n",
      "Requirement already satisfied: tornado>=6.2 in /Users/raghavprabhu/work/decisionfacts/sourcecode/agent/amazon-bedrock-samples/venv/lib/python3.12/site-packages (from bokeh<4.0.0,>=3.5.2->superagentx) (6.4.1)\r\n",
      "Requirement already satisfied: xyzservices>=2021.09.1 in /Users/raghavprabhu/work/decisionfacts/sourcecode/agent/amazon-bedrock-samples/venv/lib/python3.12/site-packages (from bokeh<4.0.0,>=3.5.2->superagentx) (2024.9.0)\r\n",
      "Requirement already satisfied: botocore<1.36.0,>=1.35.49 in /Users/raghavprabhu/work/decisionfacts/sourcecode/agent/amazon-bedrock-samples/venv/lib/python3.12/site-packages (from boto3<2.0.0,>=1.35.8->superagentx) (1.35.49)\r\n",
      "Requirement already satisfied: jmespath<2.0.0,>=0.7.1 in /Users/raghavprabhu/work/decisionfacts/sourcecode/agent/amazon-bedrock-samples/venv/lib/python3.12/site-packages (from boto3<2.0.0,>=1.35.8->superagentx) (1.0.1)\r\n",
      "Requirement already satisfied: s3transfer<0.11.0,>=0.10.0 in /Users/raghavprabhu/work/decisionfacts/sourcecode/agent/amazon-bedrock-samples/venv/lib/python3.12/site-packages (from boto3<2.0.0,>=1.35.8->superagentx) (0.10.3)\r\n",
      "Requirement already satisfied: build>=1.0.3 in /Users/raghavprabhu/work/decisionfacts/sourcecode/agent/amazon-bedrock-samples/venv/lib/python3.12/site-packages (from chromadb<0.6.0,>=0.5.5->superagentx) (1.2.2.post1)\r\n",
      "Requirement already satisfied: chroma-hnswlib==0.7.6 in /Users/raghavprabhu/work/decisionfacts/sourcecode/agent/amazon-bedrock-samples/venv/lib/python3.12/site-packages (from chromadb<0.6.0,>=0.5.5->superagentx) (0.7.6)\r\n",
      "Requirement already satisfied: fastapi>=0.95.2 in /Users/raghavprabhu/work/decisionfacts/sourcecode/agent/amazon-bedrock-samples/venv/lib/python3.12/site-packages (from chromadb<0.6.0,>=0.5.5->superagentx) (0.115.3)\r\n",
      "Requirement already satisfied: uvicorn>=0.18.3 in /Users/raghavprabhu/work/decisionfacts/sourcecode/agent/amazon-bedrock-samples/venv/lib/python3.12/site-packages (from uvicorn[standard]>=0.18.3->chromadb<0.6.0,>=0.5.5->superagentx) (0.32.0)\r\n",
      "Requirement already satisfied: posthog>=2.4.0 in /Users/raghavprabhu/work/decisionfacts/sourcecode/agent/amazon-bedrock-samples/venv/lib/python3.12/site-packages (from chromadb<0.6.0,>=0.5.5->superagentx) (3.7.0)\r\n",
      "Requirement already satisfied: onnxruntime>=1.14.1 in /Users/raghavprabhu/work/decisionfacts/sourcecode/agent/amazon-bedrock-samples/venv/lib/python3.12/site-packages (from chromadb<0.6.0,>=0.5.5->superagentx) (1.19.2)\r\n",
      "Requirement already satisfied: opentelemetry-api>=1.2.0 in /Users/raghavprabhu/work/decisionfacts/sourcecode/agent/amazon-bedrock-samples/venv/lib/python3.12/site-packages (from chromadb<0.6.0,>=0.5.5->superagentx) (1.27.0)\r\n",
      "Requirement already satisfied: opentelemetry-exporter-otlp-proto-grpc>=1.2.0 in /Users/raghavprabhu/work/decisionfacts/sourcecode/agent/amazon-bedrock-samples/venv/lib/python3.12/site-packages (from chromadb<0.6.0,>=0.5.5->superagentx) (1.27.0)\r\n",
      "Requirement already satisfied: opentelemetry-instrumentation-fastapi>=0.41b0 in /Users/raghavprabhu/work/decisionfacts/sourcecode/agent/amazon-bedrock-samples/venv/lib/python3.12/site-packages (from chromadb<0.6.0,>=0.5.5->superagentx) (0.48b0)\r\n",
      "Requirement already satisfied: opentelemetry-sdk>=1.2.0 in /Users/raghavprabhu/work/decisionfacts/sourcecode/agent/amazon-bedrock-samples/venv/lib/python3.12/site-packages (from chromadb<0.6.0,>=0.5.5->superagentx) (1.27.0)\r\n",
      "Requirement already satisfied: tokenizers>=0.13.2 in /Users/raghavprabhu/work/decisionfacts/sourcecode/agent/amazon-bedrock-samples/venv/lib/python3.12/site-packages (from chromadb<0.6.0,>=0.5.5->superagentx) (0.20.1)\r\n",
      "Requirement already satisfied: pypika>=0.48.9 in /Users/raghavprabhu/work/decisionfacts/sourcecode/agent/amazon-bedrock-samples/venv/lib/python3.12/site-packages (from chromadb<0.6.0,>=0.5.5->superagentx) (0.48.9)\r\n",
      "Requirement already satisfied: tqdm>=4.65.0 in /Users/raghavprabhu/work/decisionfacts/sourcecode/agent/amazon-bedrock-samples/venv/lib/python3.12/site-packages (from chromadb<0.6.0,>=0.5.5->superagentx) (4.66.5)\r\n",
      "Requirement already satisfied: overrides>=7.3.1 in /Users/raghavprabhu/work/decisionfacts/sourcecode/agent/amazon-bedrock-samples/venv/lib/python3.12/site-packages (from chromadb<0.6.0,>=0.5.5->superagentx) (7.7.0)\r\n",
      "Requirement already satisfied: importlib-resources in /Users/raghavprabhu/work/decisionfacts/sourcecode/agent/amazon-bedrock-samples/venv/lib/python3.12/site-packages (from chromadb<0.6.0,>=0.5.5->superagentx) (6.4.5)\r\n",
      "Requirement already satisfied: grpcio>=1.58.0 in /Users/raghavprabhu/work/decisionfacts/sourcecode/agent/amazon-bedrock-samples/venv/lib/python3.12/site-packages (from chromadb<0.6.0,>=0.5.5->superagentx) (1.67.0)\r\n",
      "Requirement already satisfied: bcrypt>=4.0.1 in /Users/raghavprabhu/work/decisionfacts/sourcecode/agent/amazon-bedrock-samples/venv/lib/python3.12/site-packages (from chromadb<0.6.0,>=0.5.5->superagentx) (4.2.0)\r\n",
      "Requirement already satisfied: typer>=0.9.0 in /Users/raghavprabhu/work/decisionfacts/sourcecode/agent/amazon-bedrock-samples/venv/lib/python3.12/site-packages (from chromadb<0.6.0,>=0.5.5->superagentx) (0.12.5)\r\n",
      "Requirement already satisfied: kubernetes>=28.1.0 in /Users/raghavprabhu/work/decisionfacts/sourcecode/agent/amazon-bedrock-samples/venv/lib/python3.12/site-packages (from chromadb<0.6.0,>=0.5.5->superagentx) (31.0.0)\r\n",
      "Requirement already satisfied: tenacity>=8.2.3 in /Users/raghavprabhu/work/decisionfacts/sourcecode/agent/amazon-bedrock-samples/venv/lib/python3.12/site-packages (from chromadb<0.6.0,>=0.5.5->superagentx) (9.0.0)\r\n",
      "Requirement already satisfied: mmh3>=4.0.1 in /Users/raghavprabhu/work/decisionfacts/sourcecode/agent/amazon-bedrock-samples/venv/lib/python3.12/site-packages (from chromadb<0.6.0,>=0.5.5->superagentx) (5.0.1)\r\n",
      "Requirement already satisfied: orjson>=3.9.12 in /Users/raghavprabhu/work/decisionfacts/sourcecode/agent/amazon-bedrock-samples/venv/lib/python3.12/site-packages (from chromadb<0.6.0,>=0.5.5->superagentx) (3.10.10)\r\n",
      "Requirement already satisfied: httpx>=0.27.0 in /Users/raghavprabhu/work/decisionfacts/sourcecode/agent/amazon-bedrock-samples/venv/lib/python3.12/site-packages (from chromadb<0.6.0,>=0.5.5->superagentx) (0.27.2)\r\n",
      "Requirement already satisfied: elastic-transport<9,>=8.13 in /Users/raghavprabhu/work/decisionfacts/sourcecode/agent/amazon-bedrock-samples/venv/lib/python3.12/site-packages (from elasticsearch<9.0.0,>=8.15.1->superagentx) (8.15.1)\r\n",
      "Requirement already satisfied: requests in /Users/raghavprabhu/work/decisionfacts/sourcecode/agent/amazon-bedrock-samples/venv/lib/python3.12/site-packages (from exa-py<2.0.0,>=1.1.4->superagentx) (2.32.2)\r\n"
     ]
    },
    {
     "name": "stdout",
     "output_type": "stream",
     "text": [
      "Requirement already satisfied: pytz in /Users/raghavprabhu/work/decisionfacts/sourcecode/agent/amazon-bedrock-samples/venv/lib/python3.12/site-packages (from neo4j<6.0.0,>=5.24.0->superagentx) (2024.2)\n",
      "Requirement already satisfied: anyio<5,>=3.5.0 in /Users/raghavprabhu/work/decisionfacts/sourcecode/agent/amazon-bedrock-samples/venv/lib/python3.12/site-packages (from openai<2.0.0,>=1.47.1->superagentx) (4.6.2.post1)\n",
      "Requirement already satisfied: distro<2,>=1.7.0 in /Users/raghavprabhu/work/decisionfacts/sourcecode/agent/amazon-bedrock-samples/venv/lib/python3.12/site-packages (from openai<2.0.0,>=1.47.1->superagentx) (1.9.0)\n",
      "Requirement already satisfied: jiter<1,>=0.4.0 in /Users/raghavprabhu/work/decisionfacts/sourcecode/agent/amazon-bedrock-samples/venv/lib/python3.12/site-packages (from openai<2.0.0,>=1.47.1->superagentx) (0.6.1)\n",
      "Requirement already satisfied: sniffio in /Users/raghavprabhu/work/decisionfacts/sourcecode/agent/amazon-bedrock-samples/venv/lib/python3.12/site-packages (from openai<2.0.0,>=1.47.1->superagentx) (1.3.1)\n",
      "Requirement already satisfied: python-dateutil in /Users/raghavprabhu/work/decisionfacts/sourcecode/agent/amazon-bedrock-samples/venv/lib/python3.12/site-packages (from opensearch-py<3.0.0,>=2.7.1->superagentx) (2.9.0.post0)\n",
      "Requirement already satisfied: certifi>=2024.07.04 in /Users/raghavprabhu/work/decisionfacts/sourcecode/agent/amazon-bedrock-samples/venv/lib/python3.12/site-packages (from opensearch-py<3.0.0,>=2.7.1->superagentx) (2024.8.30)\n",
      "Requirement already satisfied: Events in /Users/raghavprabhu/work/decisionfacts/sourcecode/agent/amazon-bedrock-samples/venv/lib/python3.12/site-packages (from opensearch-py<3.0.0,>=2.7.1->superagentx) (0.5)\n",
      "Requirement already satisfied: urllib3!=2.2.0,!=2.2.1,<3,>=1.26.19 in /Users/raghavprabhu/work/decisionfacts/sourcecode/agent/amazon-bedrock-samples/venv/lib/python3.12/site-packages (from opensearch-py<3.0.0,>=2.7.1->superagentx) (2.2.3)\n",
      "Requirement already satisfied: annotated-types>=0.6.0 in /Users/raghavprabhu/work/decisionfacts/sourcecode/agent/amazon-bedrock-samples/venv/lib/python3.12/site-packages (from pydantic<3.0.0,>=2.8.2->superagentx) (0.7.0)\n",
      "Requirement already satisfied: pydantic-core==2.23.4 in /Users/raghavprabhu/work/decisionfacts/sourcecode/agent/amazon-bedrock-samples/venv/lib/python3.12/site-packages (from pydantic<3.0.0,>=2.8.2->superagentx) (2.23.4)\n",
      "Requirement already satisfied: markdown-it-py>=2.2.0 in /Users/raghavprabhu/work/decisionfacts/sourcecode/agent/amazon-bedrock-samples/venv/lib/python3.12/site-packages (from rich<14.0.0,>=13.9.2->superagentx) (3.0.0)\n",
      "Requirement already satisfied: pygments<3.0.0,>=2.13.0 in /Users/raghavprabhu/work/decisionfacts/sourcecode/agent/amazon-bedrock-samples/venv/lib/python3.12/site-packages (from rich<14.0.0,>=13.9.2->superagentx) (2.18.0)\n",
      "Requirement already satisfied: idna>=2.8 in /Users/raghavprabhu/work/decisionfacts/sourcecode/agent/amazon-bedrock-samples/venv/lib/python3.12/site-packages (from anyio<5,>=3.5.0->openai<2.0.0,>=1.47.1->superagentx) (3.10)\n",
      "Requirement already satisfied: pyproject_hooks in /Users/raghavprabhu/work/decisionfacts/sourcecode/agent/amazon-bedrock-samples/venv/lib/python3.12/site-packages (from build>=1.0.3->chromadb<0.6.0,>=0.5.5->superagentx) (1.2.0)\n",
      "Requirement already satisfied: starlette<0.42.0,>=0.40.0 in /Users/raghavprabhu/work/decisionfacts/sourcecode/agent/amazon-bedrock-samples/venv/lib/python3.12/site-packages (from fastapi>=0.95.2->chromadb<0.6.0,>=0.5.5->superagentx) (0.41.0)\n",
      "Requirement already satisfied: httpcore==1.* in /Users/raghavprabhu/work/decisionfacts/sourcecode/agent/amazon-bedrock-samples/venv/lib/python3.12/site-packages (from httpx>=0.27.0->chromadb<0.6.0,>=0.5.5->superagentx) (1.0.6)\n",
      "Requirement already satisfied: h11<0.15,>=0.13 in /Users/raghavprabhu/work/decisionfacts/sourcecode/agent/amazon-bedrock-samples/venv/lib/python3.12/site-packages (from httpcore==1.*->httpx>=0.27.0->chromadb<0.6.0,>=0.5.5->superagentx) (0.14.0)\n",
      "Requirement already satisfied: MarkupSafe>=2.0 in /Users/raghavprabhu/work/decisionfacts/sourcecode/agent/amazon-bedrock-samples/venv/lib/python3.12/site-packages (from Jinja2>=2.9->bokeh<4.0.0,>=3.5.2->superagentx) (3.0.2)\n",
      "Requirement already satisfied: six>=1.9.0 in /Users/raghavprabhu/work/decisionfacts/sourcecode/agent/amazon-bedrock-samples/venv/lib/python3.12/site-packages (from kubernetes>=28.1.0->chromadb<0.6.0,>=0.5.5->superagentx) (1.16.0)\n",
      "Requirement already satisfied: google-auth>=1.0.1 in /Users/raghavprabhu/work/decisionfacts/sourcecode/agent/amazon-bedrock-samples/venv/lib/python3.12/site-packages (from kubernetes>=28.1.0->chromadb<0.6.0,>=0.5.5->superagentx) (2.35.0)\n",
      "Requirement already satisfied: websocket-client!=0.40.0,!=0.41.*,!=0.42.*,>=0.32.0 in /Users/raghavprabhu/work/decisionfacts/sourcecode/agent/amazon-bedrock-samples/venv/lib/python3.12/site-packages (from kubernetes>=28.1.0->chromadb<0.6.0,>=0.5.5->superagentx) (1.8.0)\n",
      "Requirement already satisfied: requests-oauthlib in /Users/raghavprabhu/work/decisionfacts/sourcecode/agent/amazon-bedrock-samples/venv/lib/python3.12/site-packages (from kubernetes>=28.1.0->chromadb<0.6.0,>=0.5.5->superagentx) (2.0.0)\n",
      "Requirement already satisfied: oauthlib>=3.2.2 in /Users/raghavprabhu/work/decisionfacts/sourcecode/agent/amazon-bedrock-samples/venv/lib/python3.12/site-packages (from kubernetes>=28.1.0->chromadb<0.6.0,>=0.5.5->superagentx) (3.2.2)\n",
      "Requirement already satisfied: durationpy>=0.7 in /Users/raghavprabhu/work/decisionfacts/sourcecode/agent/amazon-bedrock-samples/venv/lib/python3.12/site-packages (from kubernetes>=28.1.0->chromadb<0.6.0,>=0.5.5->superagentx) (0.9)\n",
      "Requirement already satisfied: mdurl~=0.1 in /Users/raghavprabhu/work/decisionfacts/sourcecode/agent/amazon-bedrock-samples/venv/lib/python3.12/site-packages (from markdown-it-py>=2.2.0->rich<14.0.0,>=13.9.2->superagentx) (0.1.2)\n",
      "Requirement already satisfied: coloredlogs in /Users/raghavprabhu/work/decisionfacts/sourcecode/agent/amazon-bedrock-samples/venv/lib/python3.12/site-packages (from onnxruntime>=1.14.1->chromadb<0.6.0,>=0.5.5->superagentx) (15.0.1)\n",
      "Requirement already satisfied: flatbuffers in /Users/raghavprabhu/work/decisionfacts/sourcecode/agent/amazon-bedrock-samples/venv/lib/python3.12/site-packages (from onnxruntime>=1.14.1->chromadb<0.6.0,>=0.5.5->superagentx) (24.3.25)\n",
      "Requirement already satisfied: sympy in /Users/raghavprabhu/work/decisionfacts/sourcecode/agent/amazon-bedrock-samples/venv/lib/python3.12/site-packages (from onnxruntime>=1.14.1->chromadb<0.6.0,>=0.5.5->superagentx) (1.13.3)\n",
      "Requirement already satisfied: deprecated>=1.2.6 in /Users/raghavprabhu/work/decisionfacts/sourcecode/agent/amazon-bedrock-samples/venv/lib/python3.12/site-packages (from opentelemetry-api>=1.2.0->chromadb<0.6.0,>=0.5.5->superagentx) (1.2.14)\n",
      "Requirement already satisfied: importlib-metadata<=8.4.0,>=6.0 in /Users/raghavprabhu/work/decisionfacts/sourcecode/agent/amazon-bedrock-samples/venv/lib/python3.12/site-packages (from opentelemetry-api>=1.2.0->chromadb<0.6.0,>=0.5.5->superagentx) (8.4.0)\n",
      "Requirement already satisfied: googleapis-common-protos~=1.52 in /Users/raghavprabhu/work/decisionfacts/sourcecode/agent/amazon-bedrock-samples/venv/lib/python3.12/site-packages (from opentelemetry-exporter-otlp-proto-grpc>=1.2.0->chromadb<0.6.0,>=0.5.5->superagentx) (1.65.0)\n",
      "Requirement already satisfied: opentelemetry-exporter-otlp-proto-common==1.27.0 in /Users/raghavprabhu/work/decisionfacts/sourcecode/agent/amazon-bedrock-samples/venv/lib/python3.12/site-packages (from opentelemetry-exporter-otlp-proto-grpc>=1.2.0->chromadb<0.6.0,>=0.5.5->superagentx) (1.27.0)\n",
      "Requirement already satisfied: opentelemetry-proto==1.27.0 in /Users/raghavprabhu/work/decisionfacts/sourcecode/agent/amazon-bedrock-samples/venv/lib/python3.12/site-packages (from opentelemetry-exporter-otlp-proto-grpc>=1.2.0->chromadb<0.6.0,>=0.5.5->superagentx) (1.27.0)\n",
      "Requirement already satisfied: opentelemetry-instrumentation-asgi==0.48b0 in /Users/raghavprabhu/work/decisionfacts/sourcecode/agent/amazon-bedrock-samples/venv/lib/python3.12/site-packages (from opentelemetry-instrumentation-fastapi>=0.41b0->chromadb<0.6.0,>=0.5.5->superagentx) (0.48b0)\n",
      "Requirement already satisfied: opentelemetry-instrumentation==0.48b0 in /Users/raghavprabhu/work/decisionfacts/sourcecode/agent/amazon-bedrock-samples/venv/lib/python3.12/site-packages (from opentelemetry-instrumentation-fastapi>=0.41b0->chromadb<0.6.0,>=0.5.5->superagentx) (0.48b0)\n",
      "Requirement already satisfied: opentelemetry-semantic-conventions==0.48b0 in /Users/raghavprabhu/work/decisionfacts/sourcecode/agent/amazon-bedrock-samples/venv/lib/python3.12/site-packages (from opentelemetry-instrumentation-fastapi>=0.41b0->chromadb<0.6.0,>=0.5.5->superagentx) (0.48b0)\n",
      "Requirement already satisfied: opentelemetry-util-http==0.48b0 in /Users/raghavprabhu/work/decisionfacts/sourcecode/agent/amazon-bedrock-samples/venv/lib/python3.12/site-packages (from opentelemetry-instrumentation-fastapi>=0.41b0->chromadb<0.6.0,>=0.5.5->superagentx) (0.48b0)\n",
      "Requirement already satisfied: setuptools>=16.0 in /Users/raghavprabhu/work/decisionfacts/sourcecode/agent/amazon-bedrock-samples/venv/lib/python3.12/site-packages (from opentelemetry-instrumentation==0.48b0->opentelemetry-instrumentation-fastapi>=0.41b0->chromadb<0.6.0,>=0.5.5->superagentx) (75.2.0)\n",
      "Requirement already satisfied: wrapt<2.0.0,>=1.0.0 in /Users/raghavprabhu/work/decisionfacts/sourcecode/agent/amazon-bedrock-samples/venv/lib/python3.12/site-packages (from opentelemetry-instrumentation==0.48b0->opentelemetry-instrumentation-fastapi>=0.41b0->chromadb<0.6.0,>=0.5.5->superagentx) (1.16.0)\n",
      "Requirement already satisfied: asgiref~=3.0 in /Users/raghavprabhu/work/decisionfacts/sourcecode/agent/amazon-bedrock-samples/venv/lib/python3.12/site-packages (from opentelemetry-instrumentation-asgi==0.48b0->opentelemetry-instrumentation-fastapi>=0.41b0->chromadb<0.6.0,>=0.5.5->superagentx) (3.8.1)\n"
     ]
    },
    {
     "name": "stdout",
     "output_type": "stream",
     "text": [
      "Requirement already satisfied: tzdata>=2022.7 in /Users/raghavprabhu/work/decisionfacts/sourcecode/agent/amazon-bedrock-samples/venv/lib/python3.12/site-packages (from pandas>=1.2->bokeh<4.0.0,>=3.5.2->superagentx) (2024.2)\n",
      "Requirement already satisfied: monotonic>=1.5 in /Users/raghavprabhu/work/decisionfacts/sourcecode/agent/amazon-bedrock-samples/venv/lib/python3.12/site-packages (from posthog>=2.4.0->chromadb<0.6.0,>=0.5.5->superagentx) (1.6)\n",
      "Requirement already satisfied: backoff>=1.10.0 in /Users/raghavprabhu/work/decisionfacts/sourcecode/agent/amazon-bedrock-samples/venv/lib/python3.12/site-packages (from posthog>=2.4.0->chromadb<0.6.0,>=0.5.5->superagentx) (2.2.1)\n",
      "Requirement already satisfied: charset-normalizer<4,>=2 in /Users/raghavprabhu/work/decisionfacts/sourcecode/agent/amazon-bedrock-samples/venv/lib/python3.12/site-packages (from requests->exa-py<2.0.0,>=1.1.4->superagentx) (3.4.0)\n",
      "Requirement already satisfied: huggingface-hub<1.0,>=0.16.4 in /Users/raghavprabhu/work/decisionfacts/sourcecode/agent/amazon-bedrock-samples/venv/lib/python3.12/site-packages (from tokenizers>=0.13.2->chromadb<0.6.0,>=0.5.5->superagentx) (0.26.1)\n",
      "Requirement already satisfied: click>=8.0.0 in /Users/raghavprabhu/work/decisionfacts/sourcecode/agent/amazon-bedrock-samples/venv/lib/python3.12/site-packages (from typer>=0.9.0->chromadb<0.6.0,>=0.5.5->superagentx) (8.1.7)\n",
      "Requirement already satisfied: shellingham>=1.3.0 in /Users/raghavprabhu/work/decisionfacts/sourcecode/agent/amazon-bedrock-samples/venv/lib/python3.12/site-packages (from typer>=0.9.0->chromadb<0.6.0,>=0.5.5->superagentx) (1.5.4)\n",
      "Requirement already satisfied: httptools>=0.5.0 in /Users/raghavprabhu/work/decisionfacts/sourcecode/agent/amazon-bedrock-samples/venv/lib/python3.12/site-packages (from uvicorn[standard]>=0.18.3->chromadb<0.6.0,>=0.5.5->superagentx) (0.6.4)\n",
      "Requirement already satisfied: uvloop!=0.15.0,!=0.15.1,>=0.14.0 in /Users/raghavprabhu/work/decisionfacts/sourcecode/agent/amazon-bedrock-samples/venv/lib/python3.12/site-packages (from uvicorn[standard]>=0.18.3->chromadb<0.6.0,>=0.5.5->superagentx) (0.21.0)\n",
      "Requirement already satisfied: watchfiles>=0.13 in /Users/raghavprabhu/work/decisionfacts/sourcecode/agent/amazon-bedrock-samples/venv/lib/python3.12/site-packages (from uvicorn[standard]>=0.18.3->chromadb<0.6.0,>=0.5.5->superagentx) (0.24.0)\n",
      "Requirement already satisfied: websockets>=10.4 in /Users/raghavprabhu/work/decisionfacts/sourcecode/agent/amazon-bedrock-samples/venv/lib/python3.12/site-packages (from uvicorn[standard]>=0.18.3->chromadb<0.6.0,>=0.5.5->superagentx) (13.1)\n",
      "Requirement already satisfied: propcache>=0.2.0 in /Users/raghavprabhu/work/decisionfacts/sourcecode/agent/amazon-bedrock-samples/venv/lib/python3.12/site-packages (from yarl<2.0,>=1.12.0->aiohttp<4.0.0,>=3.10.8->superagentx) (0.2.0)\n",
      "Requirement already satisfied: cachetools<6.0,>=2.0.0 in /Users/raghavprabhu/work/decisionfacts/sourcecode/agent/amazon-bedrock-samples/venv/lib/python3.12/site-packages (from google-auth>=1.0.1->kubernetes>=28.1.0->chromadb<0.6.0,>=0.5.5->superagentx) (5.5.0)\n",
      "Requirement already satisfied: pyasn1-modules>=0.2.1 in /Users/raghavprabhu/work/decisionfacts/sourcecode/agent/amazon-bedrock-samples/venv/lib/python3.12/site-packages (from google-auth>=1.0.1->kubernetes>=28.1.0->chromadb<0.6.0,>=0.5.5->superagentx) (0.4.1)\n",
      "Requirement already satisfied: rsa<5,>=3.1.4 in /Users/raghavprabhu/work/decisionfacts/sourcecode/agent/amazon-bedrock-samples/venv/lib/python3.12/site-packages (from google-auth>=1.0.1->kubernetes>=28.1.0->chromadb<0.6.0,>=0.5.5->superagentx) (4.9)\n",
      "Requirement already satisfied: filelock in /Users/raghavprabhu/work/decisionfacts/sourcecode/agent/amazon-bedrock-samples/venv/lib/python3.12/site-packages (from huggingface-hub<1.0,>=0.16.4->tokenizers>=0.13.2->chromadb<0.6.0,>=0.5.5->superagentx) (3.16.1)\n",
      "Requirement already satisfied: fsspec>=2023.5.0 in /Users/raghavprabhu/work/decisionfacts/sourcecode/agent/amazon-bedrock-samples/venv/lib/python3.12/site-packages (from huggingface-hub<1.0,>=0.16.4->tokenizers>=0.13.2->chromadb<0.6.0,>=0.5.5->superagentx) (2024.10.0)\n",
      "Requirement already satisfied: zipp>=0.5 in /Users/raghavprabhu/work/decisionfacts/sourcecode/agent/amazon-bedrock-samples/venv/lib/python3.12/site-packages (from importlib-metadata<=8.4.0,>=6.0->opentelemetry-api>=1.2.0->chromadb<0.6.0,>=0.5.5->superagentx) (3.20.2)\n",
      "Requirement already satisfied: humanfriendly>=9.1 in /Users/raghavprabhu/work/decisionfacts/sourcecode/agent/amazon-bedrock-samples/venv/lib/python3.12/site-packages (from coloredlogs->onnxruntime>=1.14.1->chromadb<0.6.0,>=0.5.5->superagentx) (10.0)\n",
      "Requirement already satisfied: mpmath<1.4,>=1.1.0 in /Users/raghavprabhu/work/decisionfacts/sourcecode/agent/amazon-bedrock-samples/venv/lib/python3.12/site-packages (from sympy->onnxruntime>=1.14.1->chromadb<0.6.0,>=0.5.5->superagentx) (1.3.0)\n",
      "Requirement already satisfied: pyasn1<0.7.0,>=0.4.6 in /Users/raghavprabhu/work/decisionfacts/sourcecode/agent/amazon-bedrock-samples/venv/lib/python3.12/site-packages (from pyasn1-modules>=0.2.1->google-auth>=1.0.1->kubernetes>=28.1.0->chromadb<0.6.0,>=0.5.5->superagentx) (0.6.1)\n"
     ]
    }
   ],
   "source": [
    "!pip install superagentx"
   ]
  },
  {
   "cell_type": "code",
   "execution_count": 85,
   "id": "49046b9a-5b97-4820-854c-2fd47da4c5d0",
   "metadata": {},
   "outputs": [],
   "source": [
    "from superagentx.agent import Agent\n",
    "from superagentx.agent import Engine\n",
    "from superagentx.agentxpipe import AgentXPipe\n",
    "from superagentx.llm import LLMClient\n",
    "from superagentx.prompt import PromptTemplate\n",
    "from superagentx.memory import Memory"
   ]
  },
  {
   "cell_type": "code",
   "execution_count": 86,
   "id": "d7ad4c3b",
   "metadata": {},
   "outputs": [
    {
     "data": {
      "text/html": [
       "<style>\n",
       "table {float:left}\n",
       "</style>\n"
      ],
      "text/plain": [
       "<IPython.core.display.HTML object>"
      ]
     },
     "metadata": {},
     "output_type": "display_data"
    }
   ],
   "source": [
    "%%html\n",
    "<style>\n",
    "table {float:left}\n",
    "</style>"
   ]
  },
  {
   "cell_type": "markdown",
   "id": "e3973645-f92f-44b6-82be-e76e994a5386",
   "metadata": {},
   "source": [
    "<style>\n",
    "  table {margin-left: 0 !important;}\n",
    "</style>\n",
    "\n",
    "Although this example leverages Claude 3 Sonnet, Bedrock supports many other models. The full list of models and supported features can be found [here](https://docs.aws.amazon.com/bedrock/latest/userguide/conversation-inference.html). The models are invoked via `bedrock-runtime`.\n",
    "\n",
    "\n",
    "**Best Practice**: Always set your AWS credentials as environment variables.\n",
    "\n",
    "```\n",
    "export AWS_ACCESS_KEY=<<`YOUR_ACCESS_KEY`>>\n",
    "export AWS_SECRET_KEY=<<`YOUR_ACCESS_SECRET_KEY`>>\n",
    "export AWS_REGION=<<`AWS_REGION`>>\n",
    "```\n",
    "\n",
    "#### LLM Config in SuperAgentX\n",
    "\n",
    "LLM Configuration Specify ==> llm_config\n",
    "\n",
    "| Name | Description | Data Type | Required | Example |\n",
    "|:-----|:------------|:----------|:---------|:--------|\n",
    "|`model`| AWS Bedrock supported [models](https://docs.aws.amazon.com/bedrock/latest/userguide/conversation-inference.html)|str| Yes| 'model': 'anthropic.claude-3-5-sonnet-20240620-v1:0' |\n",
    "|`llm_type`| LLM type - `bedrock`|str| Yes| 'llm_type':'bedrock'\n",
    "\n",
    "\n",
    " "
   ]
  },
  {
   "cell_type": "code",
   "execution_count": 87,
   "id": "64768dc6-5f0f-4d26-b0ca-f40f63834fb1",
   "metadata": {},
   "outputs": [],
   "source": [
    "llm_config = {'model': 'anthropic.claude-3-5-sonnet-20241022-v2:0', 'llm_type':'bedrock'}\n",
    "\n",
    "llm_client: LLMClient = LLMClient(llm_config=llm_config)"
   ]
  },
  {
   "cell_type": "markdown",
   "id": "c3d3ed52-5ff9-4c2c-ad7a-42fd8f453fa3",
   "metadata": {},
   "source": [
    "### Handler (Tool) definition \n",
    "\n",
    "We define `WeatherHandler` as a class where individual handlers (tools) are defined as functions. Note that there is nothing specific to the model used or Bedrock in this definition."
   ]
  },
  {
   "cell_type": "code",
   "execution_count": 88,
   "id": "26ebfd29-1069-48a5-854a-9f6af856f9a5",
   "metadata": {},
   "outputs": [],
   "source": [
    "import requests\n",
    "\n",
    "from superagentx.handler.base import BaseHandler\n",
    "from superagentx.handler.decorators import tool\n",
    "\n",
    "class WeatherHandler(BaseHandler):\n",
    "\n",
    "    @tool\n",
    "    async def get_weather(self, latitude: str, longitude: str) -> dict:\n",
    "        \"\"\"\n",
    "        Get the weather data based on given latitude & longitude.\n",
    "\n",
    "        Args:\n",
    "            @param latitude: latitude of the location\n",
    "            @param longitude: longitude of the location\n",
    "\n",
    "            @return result (Str): Return Fake Weather for the given city & name in Fahrenheit\n",
    "        \"\"\"\n",
    "\n",
    "        url = f\"https://api.open-meteo.com/v1/forecast?latitude={latitude}&longitude={longitude}&current_weather=true\"\n",
    "        response = requests.get(url)\n",
    "        return response.json()\n",
    "\n",
    "    @tool\n",
    "    async def get_lat_long(self, place: str) -> dict:\n",
    "\n",
    "        \"\"\"\n",
    "        Get the coordinates of a city based on a location.\n",
    "\n",
    "        Args:\n",
    "            @param city (str): The place name\n",
    "\n",
    "            @return result (Str): Return the real latitude & longitude for the given place.\n",
    "\n",
    "        \"\"\"\n",
    "\n",
    "        header_dict = {\n",
    "            \"User-Agent\": \"Mozilla/5.0 (Windows NT 10.0; Win64; x64) AppleWebKit/537.36 (KHTML, like Gecko) Chrome/90.0.4430.212 Safari/537.36\",\n",
    "            \"referer\": 'https://www.guichevirtual.com.br'\n",
    "        }\n",
    "        url = \"http://nominatim.openstreetmap.org/search\"\n",
    "\n",
    "        params = {'q': place, 'format': 'json', 'limit': 1}\n",
    "        response = requests.get(url, params=params, headers=header_dict).json()\n",
    "        if response:\n",
    "            lat = response[0][\"lat\"]\n",
    "            lon = response[0][\"lon\"]\n",
    "            return {\"latitude\": lat, \"longitude\": lon}\n",
    "        else:\n",
    "            return None"
   ]
  },
  {
   "cell_type": "markdown",
   "id": "79a5dd9f-d43e-4f8d-a144-a186f1af30d3",
   "metadata": {},
   "source": [
    "### Create Prompt Template Object"
   ]
  },
  {
   "cell_type": "code",
   "execution_count": 89,
   "id": "3a732b3a-e562-4703-854e-f1ab3a0595a9",
   "metadata": {},
   "outputs": [],
   "source": [
    "system_prompt = \"\"\"You're provided with a tool that can get the coordinates for a specific city \n",
    "        'get_lat_long' and a tool that can get the weather for that city, but requires the coordinates 'get_weather'; \n",
    "        only use the tool if required. You can call the tool multiple times in the same response if required. Don't \n",
    "        make reference to the tools in your final answer.\"\"\"\n",
    "\n",
    "weather_prompt = PromptTemplate(system_message=system_prompt)"
   ]
  },
  {
   "cell_type": "markdown",
   "id": "24f4c968",
   "metadata": {},
   "source": [
    "### Handler Engine\n",
    "\n",
    "Create `Engine` object to invoke `WeatherHandler` along with prompt template and LLM client of `Bedrock` converse API."
   ]
  },
  {
   "cell_type": "code",
   "execution_count": 90,
   "id": "adf0cc3f-50c2-4ddf-b97d-967ba5222731",
   "metadata": {},
   "outputs": [],
   "source": [
    "weather_forecast_engine = Engine(\n",
    "            handler=WeatherHandler(),\n",
    "            llm=llm_client,\n",
    "            prompt_template=weather_prompt\n",
    ")"
   ]
  },
  {
   "cell_type": "markdown",
   "id": "bbd77765",
   "metadata": {},
   "source": [
    "\n",
    "## Agent attributes\n",
    "\n",
    "| Attribute                  | Parameter  | Description                                                                                                                                                                                                                                    |\n",
    "| :------------------------- | :--------- | :--------------------------------------------------------------------------------------------------------------------------------------------------------------------------------------------------------------------------------------------- |\n",
    "| **Role**                   | `role`     | Defines the agent's function within the SuperAgentX. It determines the kind of activcity the agent is best suited for.                                                                                                                                    |\n",
    "| **Goal**                   | `goal`     | The individual objective that the agent aims to achieve. It guides the agent's decision-making process.                                                                                                                                        |\n",
    "| **LLM**              | `llm`| Represents the language model that will run the agent.|\n",
    "| **Retry Max** *(optional)*       | `max_retry`      | sets the maximum number of iterations an agent can complete before it must provide its best possible answer. Default `5`                                                       |\n",
    "| **Prompt Template**       | `prompt_template`      | Specifies the prompt format for the agent. |                                                       |\n",
    "| **Engine**    | `engines`      | A list of engines (or lists of engines) that the engine can utilize in `parallel` or `sequnetial`. This allows for flexibility in processing and task execution based on different capabilities or configurations or or configurations.|"
   ]
  },
  {
   "cell_type": "markdown",
   "id": "a8327c69",
   "metadata": {},
   "source": [
    "#### Agent - Get latitude & longitude from Weather Handler using `engine`."
   ]
  },
  {
   "cell_type": "code",
   "execution_count": 91,
   "id": "31b003a7-b8de-44c7-bd73-5900a4f84a03",
   "metadata": {},
   "outputs": [],
   "source": [
    "lat_and_long_agent = Agent(\n",
    "            role=\"Weather Man\",\n",
    "            goal=\"Get the latitude and longitude for the given place\",\n",
    "            llm=llm_client,\n",
    "            max_retry=2,  # Default Max Retry is 5\n",
    "            prompt_template=weather_prompt,\n",
    "            engines=[weather_forecast_engine],\n",
    ")"
   ]
  },
  {
   "cell_type": "markdown",
   "id": "ae89e566",
   "metadata": {},
   "source": [
    "#### Agent - Get real-time weather for the given latitude & longitude from Weather Handler using `engine`.\n"
   ]
  },
  {
   "cell_type": "code",
   "execution_count": 92,
   "id": "961a636e-c8ef-4142-bc83-5a8ea086374e",
   "metadata": {},
   "outputs": [],
   "source": [
    "weather_agent_agent = Agent(\n",
    "            role=\"Weather Man\",\n",
    "            goal=\"Get the real-time weather based on the given latitude and longitude.\",\n",
    "            llm=llm_client,\n",
    "            max_retry=2,  # Default Max Retry is 5\n",
    "            prompt_template=weather_prompt,\n",
    "            engines=[weather_forecast_engine],\n",
    ")"
   ]
  },
  {
   "cell_type": "markdown",
   "id": "d0c56f59",
   "metadata": {},
   "source": [
    "### Pipe Attributes\n",
    "\n",
    "| Attribute                  | Parameter  | Description                                                                                                                                                                                                                                    |\n",
    "| :------------------------- | :--------- | :--------------------------------------------------------------------------------------------------------------------------------------------------------------------------------------------------------------------------------------------- |\n",
    "| **Name**                   | `name`     | An optional name for the agentxpipe, providing a more friendly reference for display or logging purposes.                                                                                                                                    |\n",
    "| **Agents**                   | `agents`     | A list of Agent instances (or lists of Agent instances) that are part of this structure. These agents can perform tasks and contribute to achieving the defined goal.         |\n"
   ]
  },
  {
   "cell_type": "markdown",
   "id": "889040b2",
   "metadata": {},
   "source": [
    "#### Pipe - Executes agents `sequential` and provide results.\n"
   ]
  },
  {
   "cell_type": "code",
   "execution_count": 93,
   "id": "82b00c28-ea7c-4817-a1b9-0babf15c2fd0",
   "metadata": {},
   "outputs": [],
   "source": [
    "pipe = AgentXPipe(\n",
    "            name='Weather Man',\n",
    "            agents=[lat_and_long_agent, weather_agent_agent]\n",
    ")"
   ]
  },
  {
   "cell_type": "markdown",
   "id": "02860888",
   "metadata": {},
   "source": [
    "#### Pipe Flow - Triggers the pipe flow based on the user input `query_instruction`"
   ]
  },
  {
   "cell_type": "code",
   "execution_count": 94,
   "id": "fd2dec9d-0037-4298-abcb-58b5a309eade",
   "metadata": {},
   "outputs": [],
   "source": [
    "result = await pipe.flow(query_instruction=\"What is the weather in Las Vegas?\")"
   ]
  },
  {
   "cell_type": "markdown",
   "id": "580bbcef",
   "metadata": {},
   "source": [
    "#### Print Results. The result object contains array of `GoalResult`."
   ]
  },
  {
   "cell_type": "code",
   "execution_count": 95,
   "id": "f410bfde",
   "metadata": {},
   "outputs": [
    {
     "name": "stdout",
     "output_type": "stream",
     "text": [
      "Weather result => \n",
      "[GoalResult(name='Agent-4996bc6bbb6749e1a70b165e32e017f9', agent_id='4996bc6bbb6749e1a70b165e32e017f9', reason='The output context contains the correct latitude and longitude coordinates for Las Vegas: latitude of 36.1672559 and longitude of -115.148516. This directly fulfills the goal of getting coordinates for the given place.', result={'latitude': '36.1672559', 'longitude': '-115.148516'}, content=None, error=None, is_goal_satisfied=True), GoalResult(name='Agent-4996bc6bbb6749e1a70b165e32e017f9', agent_id='4996bc6bbb6749e1a70b165e32e017f9', reason='The output context contains the required weather information for Las Vegas with specific coordinates (36.1672559, -115.148516). The data shows current temperature, wind speed, wind direction, and weather conditions.', result='Currently in Las Vegas, the temperature is 13.9°C with a wind speed of 10.7 km/h from the northwest (310°). The sky is clear (weathercode: 0).', content=None, error=None, is_goal_satisfied=True)]\n"
     ]
    }
   ],
   "source": [
    "print(f\"Weather result => \\n{result}\")"
   ]
  }
 ],
 "metadata": {
  "kernelspec": {
   "display_name": "venv",
   "language": "python",
   "name": "venv"
  },
  "language_info": {
   "codemirror_mode": {
    "name": "ipython",
    "version": 3
   },
   "file_extension": ".py",
   "mimetype": "text/x-python",
   "name": "python",
   "nbconvert_exporter": "python",
   "pygments_lexer": "ipython3",
   "version": "3.12.5"
  }
 },
 "nbformat": 4,
 "nbformat_minor": 5
}
