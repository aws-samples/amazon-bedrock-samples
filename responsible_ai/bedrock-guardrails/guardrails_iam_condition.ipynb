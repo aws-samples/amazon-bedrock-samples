{
 "cells": [
  {
   "cell_type": "markdown",
   "metadata": {},
   "source": [
    "## Enforcing Amazon Bedrock Guardrails with AWS IAM conditions"
   ]
  },
  {
   "cell_type": "markdown",
   "metadata": {},
   "source": [
    "In this example, we demonstrate how to enforce the use of a given Guardrail for invoking models in Amazon Bedrock. This helps ensuring the models are always called with the your desired protections for prompts and/or responses, aligned with your company's policies and responsible AI.\n",
    "\n",
    "For more information, check the documentation here: https://docs.aws.amazon.com/bedrock/latest/userguide/guardrails-permissions.html#guardrails-permissions-id\n",
    "\n",
    "\n",
    "### Setup\n",
    "\n",
    "Let's start by installing or upgrading Boto3, and setting up an Amazon STS client for double-checking our account number."
   ]
  },
  {
   "cell_type": "code",
   "execution_count": null,
   "metadata": {},
   "outputs": [],
   "source": [
    "### Uncomment and run the first time...\n",
    "#!pip install boto3 --upgrade"
   ]
  },
  {
   "cell_type": "code",
   "execution_count": null,
   "metadata": {},
   "outputs": [],
   "source": [
    "import boto3\n",
    "import json\n",
    "\n",
    "region = 'us-west-2' ### Replace with your desired region\n",
    "\n",
    "session = boto3.Session(region_name=region, profile_name='default') ### Replace with your desired profile name\n",
    "sts_client = session.client('sts', region_name=region)\n",
    "account_id = sts_client.get_caller_identity()[\"Account\"]\n",
    "print(f'Account ID: {account_id}')"
   ]
  },
  {
   "cell_type": "markdown",
   "metadata": {},
   "source": [
    "### Pre-requisites"
   ]
  },
  {
   "cell_type": "markdown",
   "metadata": {},
   "source": [
    "**IMPORTANT:** Make sure you have an Amazon Bedrock Guardrail created as per the steps here: https://docs.aws.amazon.com/bedrock/latest/userguide/guardrails-create.html\n",
    "\n",
    "Take note of your Guardrail ID and replace in the cell below."
   ]
  },
  {
   "cell_type": "code",
   "execution_count": null,
   "metadata": {},
   "outputs": [],
   "source": [
    "guardrail_id = \"[guardrailID]\" ### Replace with the ID of your guardrail"
   ]
  },
  {
   "cell_type": "markdown",
   "metadata": {},
   "source": [
    "### Policy definitions\n",
    "\n",
    "The cell below contains an example policy for only allowing invocations when the given guardrail is included in the request.\n",
    "\n",
    "Adjust this policy to your needs as per the documentation here: https://docs.aws.amazon.com/bedrock/latest/userguide/guardrails-permissions.html#guardrails-permissions-id"
   ]
  },
  {
   "cell_type": "code",
   "execution_count": null,
   "metadata": {},
   "outputs": [],
   "source": [
    "policy = {\n",
    "    \"Version\": \"2012-10-17\",\n",
    "    \"Statement\": [\n",
    "        {\n",
    "            \"Sid\": \"InvokeFoundationModelStatement1\",\n",
    "            \"Effect\": \"Allow\",\n",
    "            \"Action\": [\n",
    "                \"bedrock:InvokeModel\",\n",
    "                \"bedrock:InvokeModelWithResponseStream\"\n",
    "            ],\n",
    "            \"Resource\": [\n",
    "                \"arn:aws:bedrock:{region}::foundation-model/*\"\n",
    "            ],\n",
    "            \"Condition\": {\n",
    "                \"StringLike\": {\n",
    "                    \"bedrock:GuardrailIdentifier\": \"arn:aws:bedrock:{region}:{account_id}:guardrail/{guardrail_id}*\"\n",
    "                }\n",
    "            }\n",
    "        },\n",
    "        {\n",
    "            \"Sid\": \"ApplyGuardrail\",\n",
    "            \"Effect\": \"Allow\",\n",
    "            \"Action\": [\n",
    "                \"bedrock:ApplyGuardrail\"\n",
    "            ],\n",
    "            \"Resource\": [\n",
    "                \"arn:aws:bedrock:{region}:{account_id}:guardrail/{guardrail_id}\"\n",
    "            ]\n",
    "        }\n",
    "    ]\n",
    "}\n",
    "\n",
    "#Replace the placeholders for region and account ID in the policy...\n",
    "policy_str = json.dumps(policy)\n",
    "policy_str = policy_str.replace('{region}', region)\n",
    "policy_str = policy_str.replace('{account_id}', account_id)\n",
    "policy_str = policy_str.replace('{guardrail_id}', guardrail_id)\n",
    "policy = json.loads(policy_str)\n",
    "print(json.dumps(policy, indent=2))"
   ]
  },
  {
   "cell_type": "markdown",
   "metadata": {},
   "source": [
    "We'll now create an AWS IAM role containing our policy. Alternatively, modify an existing role for attaching the policy."
   ]
  },
  {
   "cell_type": "code",
   "execution_count": null,
   "metadata": {},
   "outputs": [],
   "source": [
    "def create_bedrock_role(bedrock_role_name):\n",
    "    iam_client = session.client('iam')\n",
    "    \n",
    "    # Trust policy for AWS services\n",
    "    trust_policy = {\n",
    "    \t\"Version\": \"2012-10-17\",\n",
    "        \"Statement\": [\n",
    "            {\n",
    "                \"Effect\": \"Allow\",\n",
    "                \"Principal\": {\n",
    "                    \"Service\": [\n",
    "                        \"bedrock.amazonaws.com\",\n",
    "                        \"sagemaker.amazonaws.com\"\n",
    "                    ]\n",
    "                },\n",
    "                \"Action\": \"sts:AssumeRole\"\n",
    "            }\n",
    "        ]\n",
    "    }\n",
    "    \n",
    "    # Bedrock access policy\n",
    "    bedrock_policy = json.dumps(policy)\n",
    "    \n",
    "    try:\n",
    "        # Create Bedrock role\n",
    "        bedrock_role = iam_client.create_role(\n",
    "            RoleName=bedrock_role_name,\n",
    "            AssumeRolePolicyDocument=json.dumps(trust_policy)\n",
    "        )\n",
    "        # Create and attach Bedrock policy\n",
    "        bedrock_policy_name = f\"{bedrock_role_name}Policy\"\n",
    "        iam_client.create_policy(\n",
    "            PolicyName=bedrock_policy_name,\n",
    "            PolicyDocument=json.dumps(bedrock_policy)\n",
    "        )\n",
    "        iam_client.attach_role_policy(\n",
    "            RoleName=bedrock_role_name,\n",
    "            PolicyArn=f\"arn:aws:iam::{sts_client.get_caller_identity()['Account']}:policy/{bedrock_policy_name}\"\n",
    "        )\n",
    "        print(f\"Created Bedrock execution role: {bedrock_role['Role']['Arn']}\")\n",
    "        return bedrock_role['Role']['Arn']\n",
    "        \n",
    "    except Exception as e:\n",
    "        print(f\"Error creating Bedrock Guardrails role: {str(e)}\")\n",
    "        raise"
   ]
  },
  {
   "cell_type": "code",
   "execution_count": null,
   "metadata": {},
   "outputs": [],
   "source": [
    "### Run this if you want to create a new role...\n",
    "bedrock_execution_role = create_bedrock_role('BedrockGuardrailsRole')\n",
    "\n",
    "### Or, uncomment and set this if you already have your own role and have attached the policy to it...\n",
    "#bedrock_execution_role = \"[your-role-arn]\" ### Replace with your existing role ARN"
   ]
  },
  {
   "cell_type": "markdown",
   "metadata": {},
   "source": [
    "### Setup Bedrock client with the role created\n",
    "\n",
    "We're ready to test our policy. For this, we'll setup the Bedrock client with the role we've defined above."
   ]
  },
  {
   "cell_type": "code",
   "execution_count": 19,
   "metadata": {},
   "outputs": [],
   "source": [
    "credentials = boto3.client('sts').assume_role(\n",
    "    RoleArn=bedrock_execution_role,\n",
    "    RoleSessionName='assume-role')[\"Credentials\"]\n",
    "\n",
    "bedrock_session = boto3.session.Session(\n",
    "    aws_access_key_id=credentials['AccessKeyId'],\n",
    "    aws_secret_access_key=credentials['SecretAccessKey'],\n",
    "    aws_session_token=credentials['SessionToken'])\n",
    "\n",
    "bedrock = bedrock_session.client(\n",
    "    service_name='bedrock-runtime',\n",
    "    region_name=region\n",
    ")"
   ]
  },
  {
   "cell_type": "markdown",
   "metadata": {},
   "source": [
    "### Test the enforcement of the Guardrail"
   ]
  },
  {
   "cell_type": "markdown",
   "metadata": {},
   "source": [
    "#### 1. Invoking a model without passing the required Guardrail\n",
    "\n",
    "We'll start by invoking a model in Amazon Bedrock using the Converse API, but we'll not attach any Guardrail in the invocation.\n",
    "\n",
    "**NOTE:** This should return an **AccessDenied** error."
   ]
  },
  {
   "cell_type": "code",
   "execution_count": null,
   "metadata": {},
   "outputs": [],
   "source": [
    "### Without Guardrails...\n",
    "\n",
    "response = bedrock.converse(\n",
    "        modelId=\"anthropic.claude-3-5-haiku-20241022-v1:0\",\n",
    "        messages=[{\"role\": \"user\", \"content\": [{\"text\": \"Hello, how are you today?\"}]}],\n",
    "        system=[{\"text\": \"You're a helpful assistant\"}],\n",
    "        inferenceConfig={\n",
    "            \"maxTokens\": 8000,\n",
    "            \"temperature\": 0,\n",
    "        },\n",
    ")\n",
    "\n",
    "print(json.dumps(response, indent=4, default=str, ensure_ascii=False))"
   ]
  },
  {
   "cell_type": "markdown",
   "metadata": {},
   "source": [
    "#### 2. Invoking a model with the required Guardrail\n",
    "\n",
    "We'll now invoke with the Guardrail ID in the request.\n",
    "\n",
    "**NOTE:** This should allow the call to go through."
   ]
  },
  {
   "cell_type": "code",
   "execution_count": null,
   "metadata": {},
   "outputs": [],
   "source": [
    "#With Guardrails...\n",
    "\n",
    "response = bedrock.converse(\n",
    "        modelId=\"anthropic.claude-3-5-haiku-20241022-v1:0\",\n",
    "        messages=[{\"role\": \"user\", \"content\": [{\"text\": \"Hello, how are you today?\"}]}],\n",
    "        system=[{\"text\": \"You're a helpful assistant\"}],\n",
    "        inferenceConfig={\n",
    "            \"maxTokens\": 8000,\n",
    "            \"temperature\": 0,\n",
    "        },\n",
    "        guardrailConfig={\n",
    "            \"guardrailIdentifier\": f\"arn:aws:bedrock:{region}:{account_id}:guardrail/{guardrail_id}\", ### This should map to your guardrail ARN\n",
    "            \"guardrailVersion\": \"DRAFT\", ### Replace with your desired guardrail version\n",
    "        },\n",
    ")\n",
    "\n",
    "print(json.dumps(response, indent=4, default=str, ensure_ascii=False))"
   ]
  },
  {
   "cell_type": "markdown",
   "metadata": {},
   "source": [
    "For more information, read the blog post and documentation supporting this feature."
   ]
  }
 ],
 "metadata": {
  "kernelspec": {
   "display_name": "Python 3",
   "language": "python",
   "name": "python3"
  },
  "language_info": {
   "codemirror_mode": {
    "name": "ipython",
    "version": 3
   },
   "file_extension": ".py",
   "mimetype": "text/x-python",
   "name": "python",
   "nbconvert_exporter": "python",
   "pygments_lexer": "ipython3",
   "version": "3.13.2"
  }
 },
 "nbformat": 4,
 "nbformat_minor": 2
}
