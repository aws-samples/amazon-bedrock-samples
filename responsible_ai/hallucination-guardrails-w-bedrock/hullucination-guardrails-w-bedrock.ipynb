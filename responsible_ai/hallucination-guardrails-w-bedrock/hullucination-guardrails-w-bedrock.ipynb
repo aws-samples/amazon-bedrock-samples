{
 "cells": [
  {
   "metadata": {
    "ExecuteTime": {
     "end_time": "2024-09-25T00:44:43.501233Z",
     "start_time": "2024-09-25T00:44:31.775743Z"
    }
   },
   "cell_type": "code",
   "source": [
    "import boto3\n",
    "import json\n",
    "\n",
    "# Create the Bedrock Runtime client\n",
    "bedrock_runtime = boto3.client('bedrock-runtime', region_name='us-east-1')\n",
    "\n",
    "# Specify the model ID\n",
    "model_id = 'anthropic.claude-v2'  # Or another appropriate model ID\n",
    "\n",
    "# Prepare the request body with the correct prompt format\n",
    "body = json.dumps({\n",
    "    \"prompt\": \"\\n\\nHuman:Summarize the case law regarding intellectual property?\\n\\nAssistant:\",\n",
    "    \"max_tokens_to_sample\": 300,\n",
    "    \"temperature\": 0.7,\n",
    "    \"top_p\": 1,\n",
    "})\n",
    "\n",
    "# Invoke the model\n",
    "response = bedrock_runtime.invoke_model(\n",
    "    body=body,\n",
    "    modelId=model_id,\n",
    "    accept='application/json',\n",
    "    contentType='application/json'\n",
    ")\n",
    "\n",
    "# Process the response\n",
    "response_body = json.loads(response['body'].read())\n",
    "generated_text = response_body['completion']\n",
    "print(generated_text)"
   ],
   "id": "afef6b8bd326a91",
   "outputs": [
    {
     "name": "stdout",
     "output_type": "stream",
     "text": [
      " Here is a summary of some key case law related to intellectual property:\n",
      "\n",
      "- Diamond v. Chakrabarty (1980) - The Supreme Court ruled that a genetically engineered bacterium could be patented, expanding the scope of patentable subject matter to include living organisms. This paved the way for patents on genes and other biotechnology inventions.\n",
      "\n",
      "- Diamond v. Diehr (1981) - The Supreme Court upheld the eligibility of a computerized process for molding rubber products for a patent, finding that the use of a mathematical formula or computer program did not necessarily make an invention unpatentable. This opened the door to patents on software.\n",
      "\n",
      "- Sony Corp. v. Universal City Studios (1984) - The Supreme Court ruled that Sony was not liable for contributory copyright infringement for selling the Betamax video recorder, establishing that selling devices capable of substantial non-infringing uses is not contributory infringement. This shaped the development of products like VCRs and mp3 players.\n",
      "\n",
      "- Alice Corp v. CLS Bank (2014) - The Supreme Court ruled that simply implementing an abstract idea on a computer is not enough to transform it into a patentable invention. This resulted in more software and business methods being rejected as ineligible subject matter.\n",
      "\n",
      "- Mayo v. Prometheus (2012) - The Supreme Court invalidated patents on a medical diagnostic test, finding that it recited a law of nature and the additional steps were not sufficiently invent\n"
     ]
    }
   ],
   "execution_count": 6
  },
  {
   "metadata": {
    "ExecuteTime": {
     "end_time": "2024-09-25T00:44:43.508462Z",
     "start_time": "2024-09-25T00:44:43.505380Z"
    }
   },
   "cell_type": "code",
   "source": [
    "# Example of a simple legal verification function\n",
    "def verify_legal_content(text, legal_database):\n",
    "    verified_facts = []\n",
    "    for sentence in text.split('.'):\n",
    "        # Check if the sentence exists in the legal database\n",
    "        if sentence.strip() in legal_database:\n",
    "            verified_facts.append(sentence)\n",
    "        else:\n",
    "            print(f\"Warning: The following statement may be hallucinated: {sentence}\")\n",
    "    return verified_facts\n",
    "\n",
    "# Sample legal database (for demonstration purposes)\n",
    "legal_database = [\n",
    "    \"The case law regarding intellectual property is well-established in several jurisdictions.\",\n",
    "    \"Intellectual property laws protect the rights of creators and inventors.\"\n",
    "]\n",
    "\n",
    "# Cross-reference generated content\n",
    "verified_text = verify_legal_content(generated_text, legal_database)\n",
    "print(f\"Verified Text: {'. '.join(verified_text)}\")"
   ],
   "id": "422b798642c28402",
   "outputs": [
    {
     "name": "stdout",
     "output_type": "stream",
     "text": [
      "Warning: The following statement may be hallucinated:  Here is a summary of some key case law related to intellectual property:\n",
      "\n",
      "- Diamond v\n",
      "Warning: The following statement may be hallucinated:  Chakrabarty (1980) - The Supreme Court ruled that a genetically engineered bacterium could be patented, expanding the scope of patentable subject matter to include living organisms\n",
      "Warning: The following statement may be hallucinated:  This paved the way for patents on genes and other biotechnology inventions\n",
      "Warning: The following statement may be hallucinated: \n",
      "\n",
      "- Diamond v\n",
      "Warning: The following statement may be hallucinated:  Diehr (1981) - The Supreme Court upheld the eligibility of a computerized process for molding rubber products for a patent, finding that the use of a mathematical formula or computer program did not necessarily make an invention unpatentable\n",
      "Warning: The following statement may be hallucinated:  This opened the door to patents on software\n",
      "Warning: The following statement may be hallucinated: \n",
      "\n",
      "- Sony Corp\n",
      "Warning: The following statement may be hallucinated:  v\n",
      "Warning: The following statement may be hallucinated:  Universal City Studios (1984) - The Supreme Court ruled that Sony was not liable for contributory copyright infringement for selling the Betamax video recorder, establishing that selling devices capable of substantial non-infringing uses is not contributory infringement\n",
      "Warning: The following statement may be hallucinated:  This shaped the development of products like VCRs and mp3 players\n",
      "Warning: The following statement may be hallucinated: \n",
      "\n",
      "- Alice Corp v\n",
      "Warning: The following statement may be hallucinated:  CLS Bank (2014) - The Supreme Court ruled that simply implementing an abstract idea on a computer is not enough to transform it into a patentable invention\n",
      "Warning: The following statement may be hallucinated:  This resulted in more software and business methods being rejected as ineligible subject matter\n",
      "Warning: The following statement may be hallucinated: \n",
      "\n",
      "- Mayo v\n",
      "Warning: The following statement may be hallucinated:  Prometheus (2012) - The Supreme Court invalidated patents on a medical diagnostic test, finding that it recited a law of nature and the additional steps were not sufficiently invent\n",
      "Verified Text: \n"
     ]
    }
   ],
   "execution_count": 7
  },
  {
   "metadata": {
    "ExecuteTime": {
     "end_time": "2024-09-25T00:44:43.512017Z",
     "start_time": "2024-09-25T00:44:43.509397Z"
    }
   },
   "cell_type": "code",
   "source": [
    "import json\n",
    "\n",
    "def lambda_handler(event, context):\n",
    "    # Parse the generated content\n",
    "    generated_text = event['generated_text']\n",
    "    \n",
    "    # Legal database (in a real scenario, this could be a large external database)\n",
    "    legal_database = [\n",
    "        \"The case law regarding intellectual property is well-established in several jurisdictions.\",\n",
    "        \"Intellectual property laws protect the rights of creators and inventors.\"\n",
    "    ]\n",
    "    \n",
    "    # Apply hallucination guardrails by verifying content\n",
    "    verified_text = verify_legal_content(generated_text, legal_database)\n",
    "    \n",
    "    if verified_text:\n",
    "        return {\n",
    "            'statusCode': 200,\n",
    "            'body': json.dumps({\n",
    "                'message': 'Content verified and safe to deliver.',\n",
    "                'verified_text': '. '.join(verified_text)\n",
    "            })\n",
    "        }\n",
    "    else:\n",
    "        return {\n",
    "            'statusCode': 400,\n",
    "            'body': json.dumps({\n",
    "                'message': 'Generated content contains hallucinations and cannot be delivered.'\n",
    "            })\n",
    "        }"
   ],
   "id": "5df00a8b992c1769",
   "outputs": [],
   "execution_count": 8
  },
  {
   "metadata": {
    "ExecuteTime": {
     "end_time": "2024-09-25T00:48:17.354210Z",
     "start_time": "2024-09-25T00:48:13.027949Z"
    }
   },
   "cell_type": "code",
   "source": [
    "# Example query for testing\n",
    "user_query = \"Summarize the case law regarding intellectual property.\"\n",
    "\n",
    "# Prepare the request body\n",
    "body = json.dumps({\n",
    "    \"prompt\": f\"\\n\\nHuman: {user_query}\\n\\nAssistant:\",\n",
    "    \"max_tokens_to_sample\": 150,\n",
    "    \"temperature\": 0.7,\n",
    "    \"top_p\": 1,\n",
    "})\n",
    "\n",
    "# Specify the model ID (replace with the appropriate model ID)\n",
    "model_id = 'anthropic.claude-v2'  # or another appropriate model ID\n",
    "\n",
    "# Invoke the model\n",
    "response = bedrock_runtime.invoke_model(\n",
    "    body=body,\n",
    "    modelId=model_id,\n",
    "    accept='application/json',\n",
    "    contentType='application/json'\n",
    ")\n",
    "\n",
    "# Process the response\n",
    "response_body = json.loads(response['body'].read())\n",
    "generated_text = response_body['completion']\n",
    "\n",
    "# Apply hallucination guardrails (using the cross-reference function)\n",
    "verified_text = verify_legal_content(generated_text, legal_database)\n",
    "\n",
    "if verified_text:\n",
    "    print(f\"Final Verified Response: {'. '.join(verified_text)}\")\n",
    "else:\n",
    "    print(\"Content contains hallucinations and cannot be used.\")\n"
   ],
   "id": "d486a620e7ae8e4e",
   "outputs": [
    {
     "name": "stdout",
     "output_type": "stream",
     "text": [
      "Warning: The following statement may be hallucinated:  Here is a summary of some key areas of intellectual property case law:\n",
      "\n",
      "- Copyright Law\n",
      "\n",
      "- In Feist Publications v\n",
      "Warning: The following statement may be hallucinated:  Rural Telephone Service (1991), the Supreme Court established that originality is required for copyright protection and facts themselves cannot be copyrighted\n",
      "Warning: The following statement may be hallucinated:  \n",
      "\n",
      "- In Campbell v\n",
      "Warning: The following statement may be hallucinated:  Acuff-Rose Music (1994), the Supreme Court established that parody can qualify as fair use under copyright law\n",
      "Warning: The following statement may be hallucinated: \n",
      "\n",
      "- Trademark Law\n",
      "\n",
      "- In Two Pesos v\n",
      "Warning: The following statement may be hallucinated:  Taco Cabana (1992), the Supreme Court ruled that inherently distinctive trade dress is protectable under federal trademark law without proof of secondary meaning\n",
      "Warning: The following statement may be hallucinated: \n",
      "\n",
      "- In Qualitex Co\n",
      "Warning: The following statement may be hallucinated:  v\n",
      "Warning: The following statement may be hallucinated:  Jacobson Products Co\n",
      "Warning: The following statement may be hallucinated:  (1995), the Supreme Court\n",
      "Content contains hallucinations and cannot be used.\n"
     ]
    }
   ],
   "execution_count": 11
  },
  {
   "metadata": {},
   "cell_type": "code",
   "outputs": [],
   "execution_count": null,
   "source": "",
   "id": "5d839336bc32b160"
  }
 ],
 "metadata": {
  "kernelspec": {
   "display_name": "Python 3",
   "language": "python",
   "name": "python3"
  },
  "language_info": {
   "codemirror_mode": {
    "name": "ipython",
    "version": 2
   },
   "file_extension": ".py",
   "mimetype": "text/x-python",
   "name": "python",
   "nbconvert_exporter": "python",
   "pygments_lexer": "ipython2",
   "version": "2.7.6"
  }
 },
 "nbformat": 4,
 "nbformat_minor": 5
}
