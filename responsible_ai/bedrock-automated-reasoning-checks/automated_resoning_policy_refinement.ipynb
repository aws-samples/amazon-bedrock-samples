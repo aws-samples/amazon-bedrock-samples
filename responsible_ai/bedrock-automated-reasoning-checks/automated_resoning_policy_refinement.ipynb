{
 "cells": [
  {
   "cell_type": "markdown",
   "id": "7bdf46cc",
   "metadata": {},
   "source": [
    "# Automated Reasoning Policy Refinement Playground\n",
    "\n",
    "Refining a Automated Reasoning policy is an important step in improving the soundness of Automated Reasoning Checks. Policy refinement involves modifications to rules, variables and types of the Automated Reasoning policy. This can be done through direct updates to the rules, variables or types. \n",
    "It can also be done through natual language feedback or by generating scenarios to test the rules, and then providing feedback from the test results of the generated scenarios.\n",
    "\n",
    "This notebook demonstrates how to generate scenarios from the policy, run tests using the generated scenario, and update rules, types and variables of the automated reasoning policy using the AWS Bedrock APIs. It includes the following functionality:\n",
    "\n",
    "1. Creating annotations\n",
    "    1. Using Scenario Generation to identify which annotations are required through automated testing\n",
    "2. Generating a new Policy Definition using the annotations\n",
    "3. Update the Automated Reasoning Policy with the updated Policy definitions\n"
   ]
  },
  {
   "cell_type": "markdown",
   "id": "860aa339",
   "metadata": {},
   "source": [
    "### Pre-requisites for running this notebook\n",
    "This notebook uses the medical policy created in Lab1 - If you have not set up Automated Reasoning policy for the sample medical policy executed that, first run Lab1."
   ]
  },
  {
   "cell_type": "markdown",
   "id": "41c3a0a5",
   "metadata": {},
   "source": [
    "# Setup"
   ]
  },
  {
   "cell_type": "code",
   "execution_count": 15,
   "id": "00c98220",
   "metadata": {},
   "outputs": [
    {
     "name": "stdout",
     "output_type": "stream",
     "text": [
      "Note: you may need to restart the kernel to use updated packages.\n"
     ]
    }
   ],
   "source": [
    "%pip install -q -r requirements.txt"
   ]
  },
  {
   "cell_type": "code",
   "execution_count": 16,
   "id": "47d94cd7",
   "metadata": {},
   "outputs": [],
   "source": [
    "import boto3\n",
    "import uuid\n",
    "import pandas as pd\n",
    "from IPython.display import display, HTML, JSON\n",
    "import pprint"
   ]
  },
  {
   "cell_type": "code",
   "execution_count": 3,
   "id": "4157591c",
   "metadata": {},
   "outputs": [],
   "source": [
    "# Create the Bedrock client\n",
    "REGION_NAME=\"us-west-2\" # Fill in the AWS Region\n",
    "my_session = boto3.session.Session()\n",
    "runtime_client = my_session.client('bedrock-runtime', region_name=REGION_NAME)\n",
    "bedrock_client = my_session.client('bedrock', region_name=REGION_NAME)"
   ]
  },
  {
   "cell_type": "markdown",
   "id": "61f299fb",
   "metadata": {},
   "source": [
    "# Automated Reasoning Policy Refinement\n",
    "\n",
    "Policy refinement is an important step in validating that the rules captured in the Automated Reasoning (AR) Policy is accurate, complete and represents the source document/ truth well. This step is crucial in improving the soundness of Automated Reasoning checks.\n",
    "\n",
    "Steps:\n",
    "1. Create a annotation\n",
    "2. Start the automated reasoning workflow with the annotation as a policy repair asset\n",
    "3. Check the result of the workflow and analyse the assets: build log and quality results\n",
    "4. Now we can update the automated reasoning policy "
   ]
  },
  {
   "cell_type": "code",
   "execution_count": 4,
   "id": "a7ed19ca",
   "metadata": {},
   "outputs": [],
   "source": [
    "# Provide the policy arn for which you will create a test case\n",
    "policy_arn=\"arn:aws:bedrock:us-west-2:536697256976:automated-reasoning-policy/rtf5kw0u0oal\" # Update with the policy created in Lab 1\n",
    "\n",
    "# Retrieve all build workflows associated with the specified policy\n",
    "list_build_workflows_response = bedrock_client.list_automated_reasoning_policy_build_workflows(policyArn=policy_arn)\n",
    "\n",
    "# Extract the build workflow ID from the first workflow in the response\n",
    "# This ID is required to run test cases against the policy\n",
    "build_workflow_id = list_build_workflows_response['automatedReasoningPolicyBuildWorkflowSummaries'][0]['buildWorkflowId']"
   ]
  },
  {
   "cell_type": "markdown",
   "id": "3628d3b6",
   "metadata": {},
   "source": []
  },
  {
   "cell_type": "markdown",
   "id": "47488ebe",
   "metadata": {},
   "source": [
    "### What are annotations?\n",
    "\n",
    "An annotation is a addition/update/modification performed on the Automated Reasoning Policy through addition/ modification/ deletion of rules, variables and custom types. \n",
    "\n",
    "The allowed annotations are:\n",
    "1. `` addType ``: Add a new type by passing in a name, description and value of the new type\n",
    "2. `` updateType ``: Update a type by passing in the name of the type to be updated, a new name, description and value\n",
    "3. `` deleteType ``: Delete a type by passing in the name of the type to be deleted\n",
    "4. `` addVariable ``: Add a new variable by passing in a name, description and type of the new variable\n",
    "5. `` updateVariable ``: Update a variable by passing in the name of the variable to be updated, a new name and description\n",
    "6. `` addType ``: Add a new type\n",
    "7. `` addType ``: Add a new type\n",
    "8. `` addType ``: Add a new type\n",
    "9. `` addType ``: Add a new type\n",
    "10. `` addType ``: Add a new type"
   ]
  },
  {
   "cell_type": "code",
   "execution_count": 8,
   "id": "d393af6b",
   "metadata": {},
   "outputs": [],
   "source": [
    "def create_annotation(annotation_type, **kwargs):\n",
    "    \"\"\"\n",
    "    Create an Automated Reasoning Policy Annotation dynamically\n",
    "    \n",
    "    Args:\n",
    "        annotation_type (str): Type of annotation to create\n",
    "        **kwargs: Keyword arguments specific to the annotation type\n",
    "    \n",
    "    Returns:\n",
    "        dict: Annotation dictionary\n",
    "    \n",
    "    Supported Annotation Types:\n",
    "    - 'add_type': Add a new type\n",
    "    - 'update_type': Update an existing type\n",
    "    - 'delete_type': Delete a type\n",
    "    - 'add_variable': Add a new variable\n",
    "    - 'update_variable': Update an existing variable\n",
    "    - 'delete_variable': Delete a variable\n",
    "    - 'add_rule': Add a new rule (SMT)\n",
    "    - 'update_rule': Update an existing rule (SMT)\n",
    "    - 'delete_rule': Delete a rule\n",
    "    - 'add_rule_from_nl': Add a rule from natural language\n",
    "    - 'update_from_rule_feedback': Update rules based on rule feedback\n",
    "    - 'update_from_scenario_feedback': Update rules based on scenario feedback\n",
    "    \"\"\"\n",
    "    annotation_map = {\n",
    "        'add_type': {\n",
    "            'addType': {\n",
    "                'name': kwargs.get('name'),\n",
    "                'description': kwargs.get('description'),\n",
    "                'values': kwargs.get('values', [])\n",
    "            }\n",
    "        },\n",
    "        'update_type': {\n",
    "            'updateType': {\n",
    "                'name': kwargs.get('name'),\n",
    "                'newName': kwargs.get('new_name'),\n",
    "                'description': kwargs.get('description'),\n",
    "                'values': kwargs.get('values', [])\n",
    "            }\n",
    "        },\n",
    "        'delete_type': {\n",
    "            'deleteType': {\n",
    "                'name': kwargs.get('name')\n",
    "            }\n",
    "        },\n",
    "        'add_variable': {\n",
    "            'addVariable': {\n",
    "                'name': kwargs.get('name'),\n",
    "                'type': kwargs.get('type'),\n",
    "                'description': kwargs.get('description')\n",
    "            }\n",
    "        },\n",
    "        'update_variable': {\n",
    "            'updateVariable': {\n",
    "                'name': kwargs.get('name'),\n",
    "                'newName': kwargs.get('new_name'),\n",
    "                'description': kwargs.get('description')\n",
    "            }\n",
    "        },\n",
    "        'delete_variable': {\n",
    "            'deleteVariable': {\n",
    "                'name': kwargs.get('name')\n",
    "            }\n",
    "        },\n",
    "        'add_rule': {\n",
    "            'addRule': {\n",
    "                'expression': kwargs.get('expression')\n",
    "            }\n",
    "        },\n",
    "        'update_rule': {\n",
    "            'updateRule': {\n",
    "                'ruleId': kwargs.get('rule_id'),\n",
    "                'expression': kwargs.get('expression')\n",
    "            }\n",
    "        },\n",
    "        'delete_rule': {\n",
    "            'deleteRule': {\n",
    "                'ruleId': kwargs.get('rule_id')\n",
    "            }\n",
    "        },\n",
    "        'add_rule_from_nl': {\n",
    "            'addRuleFromNaturalLanguage': {\n",
    "                'naturalLanguage': kwargs.get('natural_language')\n",
    "            }\n",
    "        },\n",
    "        'update_from_rule_feedback': {\n",
    "            'updateFromRulesFeedback': {\n",
    "                'ruleIds': kwargs.get('rule_ids', []),\n",
    "                'feedback': kwargs.get('feedback')\n",
    "            }\n",
    "        },\n",
    "        'update_from_scenario_feedback': {\n",
    "            'updateFromScenarioFeedback': {\n",
    "                'ruleIds': kwargs.get('rule_ids', []),\n",
    "                'scenarioExpression': kwargs.get('scenario_expression'),\n",
    "                'feedback': kwargs.get('feedback')\n",
    "            }\n",
    "        }\n",
    "    }\n",
    "    \n",
    "    # Validate annotation type\n",
    "    if annotation_type not in annotation_map:\n",
    "        raise ValueError(f\"Invalid annotation type. Choose from {list(annotation_map.keys())}\")\n",
    "    \n",
    "    # Validate required parameters\n",
    "    annotation = annotation_map[annotation_type]\n",
    "    \n",
    "    return annotation"
   ]
  },
  {
   "cell_type": "code",
   "execution_count": 13,
   "id": "dc809434",
   "metadata": {},
   "outputs": [],
   "source": [
    "# Check the current Automated Reasoning policy\n",
    "def get_policy_definition(policy_arn):\n",
    "    \"\"\"\n",
    "    Get the policy definition.\n",
    "    \n",
    "    Args:\n",
    "        policy_arn (str): ARN of the policy.\n",
    "        \n",
    "    Returns:\n",
    "        dict: Policy definition.\n",
    "    \"\"\"\n",
    "    try:\n",
    "        response = bedrock_client.export_automated_reasoning_policy_version(\n",
    "            policyArn=policy_arn\n",
    "        )\n",
    "        \n",
    "        return response.get('policyDefinition', {})\n",
    "    except Exception as e:\n",
    "        print(f\"Error getting policy definition: {str(e)}\")\n",
    "        raise\n",
    "\n",
    "draft_policy = get_policy_definition(\n",
    "    policy_arn=policy_arn\n",
    ")"
   ]
  },
  {
   "cell_type": "markdown",
   "id": "9496929f",
   "metadata": {},
   "source": [
    "Let's check what types exist in the Automated Reasoning Policy for the sample medical policy we created in Lab 1. In the first annotation , let's update one of the types programmatically"
   ]
  },
  {
   "cell_type": "code",
   "execution_count": 14,
   "id": "8134ca5b",
   "metadata": {},
   "outputs": [
    {
     "data": {
      "text/plain": [
       "{'name': 'HealthcareFacilityType',\n",
       " 'description': 'The type of healthcare facility where the readmission risk assessment protocol is being implemented',\n",
       " 'values': [{'value': 'ACUTE_CARE_HOSPITAL',\n",
       "   'description': 'An acute care hospital with 25 or more beds'},\n",
       "  {'value': 'CRITICAL_ACCESS_HOSPITAL',\n",
       "   'description': 'A critical access hospital in a rural area'},\n",
       "  {'value': 'ACADEMIC_MEDICAL_CENTER',\n",
       "   'description': 'A university-affiliated medical center that provides education, research, and clinical care'},\n",
       "  {'value': 'SPECIALTY_HOSPITAL',\n",
       "   'description': 'A hospital that specializes in specific medical conditions or treatments'},\n",
       "  {'value': 'FACILITY_TYPE_OTHER',\n",
       "   'description': 'Other types of healthcare facilities not covered by the defined categories'}]}"
      ]
     },
     "execution_count": 14,
     "metadata": {},
     "output_type": "execute_result"
    }
   ],
   "source": [
    "draft_policy['types'][1]"
   ]
  },
  {
   "cell_type": "markdown",
   "id": "f94aaa2a",
   "metadata": {},
   "source": [
    "# Step 1: Create annotations\n",
    "\n",
    "Let's create a new type: PatientAgeGroup"
   ]
  },
  {
   "cell_type": "code",
   "execution_count": 24,
   "id": "11ce9b57",
   "metadata": {},
   "outputs": [],
   "source": [
    "\n",
    "# You can provide a rule using natural language as follows:\n",
    "nl_rule = 'Provide patients in low-risk with a 24/7 call-back number and clear instructions on warning signs/symptoms that should prompt them to seek immediate medical attention'\n",
    "nl_rule_annotation = create_annotation('add_rule_from_nl', natural_language=nl_rule)\n",
    "\n",
    "# Let's update the name of the type \"HealthcareFacilityType\" to \"MedicalFacilityType\"\n",
    "update_type_annotation = create_annotation(\n",
    "    'update_type', \n",
    "    name='HealthcareFacilityType', \n",
    "    new_name='MedicalFacilityType', \n",
    "    description='The type of healthcare or medical facility where the readmission risk assessment protocol is being implemented', \n",
    "    values=[{'value': 'ACUTE_CARE_HOSPITAL',\n",
    "   'description': 'An acute care hospital with 25 or more beds'},\n",
    "  {'value': 'CRITICAL_ACCESS_HOSPITAL',\n",
    "   'description': 'A critical access hospital in a rural area'},\n",
    "  {'value': 'ACADEMIC_MEDICAL_CENTER',\n",
    "   'description': 'A university-affiliated medical center that provides education, research, and clinical care'},\n",
    "  {'value': 'SPECIALTY_HOSPITAL',\n",
    "   'description': 'A hospital that specializes in specific medical conditions or treatments'},\n",
    "     {'value': 'EMERGENCY',\n",
    "   'description': 'Emergency healthcare unit to attend to emergencies before transferring to other hospitals'},\n",
    "  {'value': 'FACILITY_TYPE_OTHER',\n",
    "   'description': 'Other types of healthcare facilities not covered by the defined categories'}\n",
    "   ]\n",
    ")\n",
    "\n",
    "# Let's add a new annotation for \"PatientAgeGroup\"\n",
    "add_type_annotation = create_annotation(\n",
    "    'add_type', name='PatientAgeGroup', \n",
    "    description='Age Groups of patients for risk classication', \n",
    "    values = [\n",
    "        {'value': 'NEONATES',\n",
    "         'description': 'New borns who are just born and a maximum of 28 days old'\n",
    "        },\n",
    "        {'value': 'INFANTS',\n",
    "         'description': 'Children who are 29 days to 1 year old'\n",
    "        },\n",
    "        {'value': 'TODDLER',\n",
    "         'description': 'Children who are 1-3 years old'\n",
    "        }\n",
    "    ]\n",
    "    )\n"
   ]
  },
  {
   "cell_type": "markdown",
   "id": "c0cb5ba3",
   "metadata": {},
   "source": [
    "# Step 1.1: Scenario Generation\n",
    "\n",
    "Annotations can be created directly to add/ update or delete rules, variables and types. This is done by analysing the Automated Reasoning policy that has been created by formalizing the logic in the source document when you uploaded the document to Automated Reasoning in Lab 1. \n",
    "\n",
    "Scenario generation is a capability that helps you discover which annotations are required through automated testing. In principle, scenario generation replicates the testing process, where you would add a test sample to check if your rules are correct and use that to identify what modifications are required to the Automated Reasoning policy."
   ]
  },
  {
   "cell_type": "code",
   "execution_count": 44,
   "id": "4f43dbec",
   "metadata": {},
   "outputs": [],
   "source": [
    "# Let's get the build workflow ID of the ingest content workflow or any successful workflow which contains the updated policy\n",
    "ar_workflows = bedrock_client.list_automated_reasoning_policy_build_workflows(policyArn=policy_arn)\n",
    "\n",
    "ar_workflow_ingest_content = [a for a in ar_workflows['automatedReasoningPolicyBuildWorkflowSummaries'] if a['buildWorkflowType'] == 'INGEST_CONTENT']\n",
    "build_workflow_id = ar_workflow_ingest_content[0]['buildWorkflowId']"
   ]
  },
  {
   "cell_type": "code",
   "execution_count": 46,
   "id": "d123642a",
   "metadata": {},
   "outputs": [
    {
     "name": "stdout",
     "output_type": "stream",
     "text": [
      "{'ResponseMetadata': {'HTTPHeaders': {'connection': 'keep-alive',\n",
      "                                      'content-length': '367',\n",
      "                                      'content-type': 'application/json',\n",
      "                                      'date': 'Tue, 09 Sep 2025 19:37:30 GMT',\n",
      "                                      'x-amzn-requestid': '43d7cb36-6eb5-40b0-b49c-4b82f4db5bf5'},\n",
      "                      'HTTPStatusCode': 200,\n",
      "                      'RequestId': '43d7cb36-6eb5-40b0-b49c-4b82f4db5bf5',\n",
      "                      'RetryAttempts': 0},\n",
      " 'policyArn': 'arn:aws:bedrock:us-west-2:536697256976:automated-reasoning-policy/rtf5kw0u0oal',\n",
      " 'scenario': {'alternateExpression': 'riskCategory is equal to HIGH_RISK and '\n",
      "                                     'hasStandardDischargePlan is true',\n",
      "              'expectedResult': 'SATISFIABLE',\n",
      "              'expression': '(and (= riskCategory\\n'\n",
      "                            '        HIGH_RISK)\\n'\n",
      "                            '     (= hasStandardDischargePlan\\n'\n",
      "                            '        true))',\n",
      "              'ruleIds': ['E2A6X2XCZWUN']}}\n"
     ]
    }
   ],
   "source": [
    "# Generate a scenario until the test sample is meaningful. \n",
    "# Run this cell as many times as required! Each time you call 'get_automated_reasoning_policy_next_scenario', it generates a new scenario\n",
    "\n",
    "scenario = bedrock_client.get_automated_reasoning_policy_next_scenario(policyArn=policy_arn, buildWorkflowId=build_workflow_id)\n",
    "pprint.pprint(scenario)"
   ]
  },
  {
   "cell_type": "code",
   "execution_count": 47,
   "id": "6ea1f425",
   "metadata": {},
   "outputs": [],
   "source": [
    "# Add this scenario to test bench\n",
    "guard_content = scenario['scenario']['alternateExpression']\n",
    "expected_result = 'SATISFIABLE' # Set this value to VALID, INVALID, SATISFIABLE, IMPOSSIBLE based on the plausibility of the scenario\n",
    "\n",
    "created_test_case = bedrock_client.create_automated_reasoning_policy_test_case(\n",
    "    policyArn=policy_arn,\n",
    "    guardContent=guard_content,\n",
    "    expectedAggregatedFindingsResult=expected_result,\n",
    "    clientRequestToken=str(uuid.uuid4()),\n",
    "    )"
   ]
  },
  {
   "cell_type": "code",
   "execution_count": 48,
   "id": "c3bd150a",
   "metadata": {},
   "outputs": [],
   "source": [
    "# Run the test case\n",
    "response = bedrock_client.start_automated_reasoning_policy_test_workflow(\n",
    "            policyArn=policy_arn,\n",
    "            buildWorkflowId=build_workflow_id,\n",
    "            testCaseIds=[created_test_case['testCaseId']],\n",
    "            clientRequestToken=str(uuid.uuid4()),\n",
    "        )"
   ]
  },
  {
   "cell_type": "code",
   "execution_count": 50,
   "id": "3be23f89",
   "metadata": {},
   "outputs": [
    {
     "name": "stdout",
     "output_type": "stream",
     "text": [
      "Test was successful\n"
     ]
    }
   ],
   "source": [
    "# Check the status to see if the test sample has completed\n",
    "test_response = bedrock_client.get_automated_reasoning_policy_test_result(\n",
    "    policyArn=policy_arn,\n",
    "    buildWorkflowId=build_workflow_id,\n",
    "    testCaseId=created_test_case['testCaseId'],\n",
    "    )\n",
    "\n",
    "if test_response['testResult']['testRunStatus'] == 'COMPLETED':\n",
    "    if test_response['testResult']['testRunResult'] == 'PASSED':\n",
    "        print('Test was successful')\n",
    "    else:\n",
    "        print(f'Test result is {test_response['testResult']['testRunResult']}')\n",
    "else:\n",
    "    print(f'Status of the test is {test_response['testResult']['testRunStatus']}')"
   ]
  },
  {
   "cell_type": "markdown",
   "id": "526b121e",
   "metadata": {},
   "source": [
    "If the test was not successful, then we can analyse which rules were involved in testing the scenario and understand what annotations need to be created to update the Automated Reasoning Policy"
   ]
  },
  {
   "cell_type": "code",
   "execution_count": 51,
   "id": "be793364",
   "metadata": {},
   "outputs": [],
   "source": [
    "def get_ar_policy_rule(policy_arn, rule_id):\n",
    "    policy_response = policy = bedrock_client.get_automated_reasoning_policy(\n",
    "            policyArn=policy_arn\n",
    "        )\n",
    "    policy_status = policy_response.get('status', 'UNKNOWN')\n",
    "\n",
    "    # create AR Policy version if not done so already - It is not possible to retrieve policy if its still in DRAFT mode\n",
    "\n",
    "    # Analyse which rule corresponds to this generated scenario\n",
    "    ar_policy = bedrock_client.export_automated_reasoning_policy_version(\n",
    "                policyArn=policy_arn\n",
    "        )\n",
    "    \n",
    "    rule_expression = [r['alternateExpression'] for r in ar_policy['policyDefinition']['rules'] if r['id']==rule_id]\n",
    "    return rule_expression"
   ]
  },
  {
   "cell_type": "code",
   "execution_count": 52,
   "id": "e387cfad",
   "metadata": {},
   "outputs": [
    {
     "name": "stdout",
     "output_type": "stream",
     "text": [
      "RuleID: E2A6X2XCZWUN, Expression: ['if riskCategory is equal to LOW_RISK, then hasStandardDischargePlan is true']\n"
     ]
    }
   ],
   "source": [
    "rule_expressions = []\n",
    "for rule_id in scenario['scenario']['ruleIds']:\n",
    "    rule_expression = get_ar_policy_rule(policy_arn, rule_id)\n",
    "    print(f'RuleID: {rule_id}, Expression: {rule_expression}')\n",
    "    rule_expressions.append(rule_expression)"
   ]
  },
  {
   "cell_type": "markdown",
   "id": "50dbb830",
   "metadata": {},
   "source": [
    "#### Exercise: if required, create an annotation based on the rules identified from the scenario generation step (Similar to Step 1)"
   ]
  },
  {
   "cell_type": "markdown",
   "id": "f79ae2ad",
   "metadata": {},
   "source": [
    "# Step 2: Start the workflow build to refine policy"
   ]
  },
  {
   "cell_type": "markdown",
   "id": "d29ddcf4",
   "metadata": {},
   "source": [
    "There is a current service limit of 2 workflows that can be created per Automated Reasoning policy. TO refine the Automated Reasoning policy through annotations, we will need to create a workflow without exceeding this Service Limit. We also need to ensure we retain one successful workflow which can be used to generate scenarios for testing."
   ]
  },
  {
   "cell_type": "code",
   "execution_count": 53,
   "id": "fc18fdba",
   "metadata": {},
   "outputs": [],
   "source": [
    "def list_and_delete_AR_build_workflows():\n",
    "    \"\"\"\n",
    "    List and delete workflows based on specific conditions:\n",
    "    1. Maximum 2 workflows allowed\n",
    "    2. Delete failed workflows\n",
    "    3. For completed workflows, check build log of latest and delete if failed\n",
    "    4. If both completed and build log ok, delete the latest one\n",
    "    \"\"\"\n",
    "    ar_workflows = bedrock_client.list_automated_reasoning_policy_build_workflows(policyArn=policy_arn)\n",
    "    workflows = ar_workflows['automatedReasoningPolicyBuildWorkflowSummaries']\n",
    "    \n",
    "    # Sort workflows by updatedAt timestamp in descending order (latest first)\n",
    "    sorted_workflows = sorted(workflows, key=lambda x: x['updatedAt'], reverse=True)\n",
    "    \n",
    "    for workflow in sorted_workflows:\n",
    "        # Delete any failed workflows\n",
    "        if workflow['status'] == 'FAILED':\n",
    "            bedrock_client.delete_automated_reasoning_policy_build_workflow(\n",
    "                policyArn=workflow['policyArn'],\n",
    "                buildWorkflowId=workflow['buildWorkflowId'],\n",
    "                lastUpdatedAt=workflow['updatedAt']\n",
    "            )\n",
    "            continue\n",
    "            \n",
    "    # After removing failed workflows, get the list again\n",
    "    ar_workflows = bedrock_client.list_automated_reasoning_policy_build_workflows(policyArn=policy_arn)\n",
    "    completed_workflows = [w for w in ar_workflows['automatedReasoningPolicyBuildWorkflowSummaries'] \n",
    "                         if w['status'] == 'COMPLETED']\n",
    "    \n",
    "    # Sort completed workflows by updatedAt timestamp\n",
    "    completed_workflows.sort(key=lambda x: x['updatedAt'], reverse=True)\n",
    "    \n",
    "    if len(completed_workflows) >= 2:\n",
    "        # Get latest workflow's build log\n",
    "        latest_workflow = completed_workflows[0]\n",
    "        build_log = bedrock_client.get_automated_reasoning_policy_build_workflow_result_assets(\n",
    "            policyArn=policy_arn,\n",
    "            buildWorkflowId=latest_workflow['buildWorkflowId'],\n",
    "            assetType='BUILD_LOG'\n",
    "        )\n",
    "        \n",
    "        # Check if build log indicates failure\n",
    "        if 'buildLog' in build_log.get('buildWorkflowAssets', {}) and \\\n",
    "           any(entry.get('status') == 'FAILED' \n",
    "               for entry in build_log['buildWorkflowAssets']['buildLog'].get('entries', [])):\n",
    "            # Delete the failed workflow\n",
    "            bedrock_client.delete_automated_reasoning_policy_build_workflow(\n",
    "                policyArn=latest_workflow['policyArn'],\n",
    "                buildWorkflowId=latest_workflow['buildWorkflowId'],\n",
    "                lastUpdatedAt=latest_workflow['updatedAt']\n",
    "            )\n",
    "        else:\n",
    "            # If build log is ok but we still have 2 completed workflows,\n",
    "            # delete the latest one to maintain the limit\n",
    "            bedrock_client.delete_automated_reasoning_policy_build_workflow(\n",
    "                policyArn=latest_workflow['policyArn'],\n",
    "                buildWorkflowId=latest_workflow['buildWorkflowId'],\n",
    "                lastUpdatedAt=latest_workflow['updatedAt']\n",
    "            )"
   ]
  },
  {
   "cell_type": "code",
   "execution_count": null,
   "id": "cec2cbd4",
   "metadata": {},
   "outputs": [
    {
     "name": "stdout",
     "output_type": "stream",
     "text": [
      "Error: An error occurred (ServiceQuotaExceededException) when calling the StartAutomatedReasoningPolicyBuildWorkflow operation: Exceeded maximum number of build workflows allowed: 2\n",
      "Clearing failed workflows from queue\n",
      "Trying to create annotation through a new workflow\n"
     ]
    }
   ],
   "source": [
    "build_workflow_type = \"REFINE_POLICY\"\n",
    "\n",
    "current_policy = bedrock_client.export_automated_reasoning_policy_version(\n",
    "    policyArn=policy_arn\n",
    ")\n",
    "\n",
    "# We pass in the current policy definition, and the annotation as part of the PolicyRepairAsset\n",
    "# The annotation is applied to the current policy, to build a new policy\n",
    "def apply_annotation_through_policy_repair_asset():\n",
    "    return bedrock_client.start_automated_reasoning_policy_build_workflow(\n",
    "                policyArn=policy_arn,\n",
    "                buildWorkflowType=build_workflow_type,\n",
    "                clientRequestToken=str(uuid.uuid4()),\n",
    "                sourceContent={\n",
    "                    'policyDefinition': {\n",
    "                        'rules': current_policy['policyDefinition']['rules'],\n",
    "                        'variables': current_policy['policyDefinition']['variables'],\n",
    "                        'types': current_policy['policyDefinition']['types'],\n",
    "                        'version': current_policy['policyDefinition']['version']\n",
    "                    },\n",
    "                    'workflowContent': {\n",
    "                        'policyRepairAssets': {\n",
    "                            'annotations': [add_type_annotation]\n",
    "                        }\n",
    "                    }\n",
    "                }\n",
    "            )\n",
    "    \n",
    "\n",
    "try:\n",
    "    reponse = apply_annotation_through_policy_repair_asset()\n",
    "except Exception as e:\n",
    "    print(f'Error: {e}')\n",
    "    print('Clearing failed workflows from queue')\n",
    "\n",
    "    list_and_delete_AR_build_workflows()\n",
    "\n",
    "    print('Trying to create annotation through a new workflow')\n",
    "    reponse = apply_annotation_through_policy_repair_asset()"
   ]
  },
  {
   "cell_type": "code",
   "execution_count": null,
   "id": "7e92ab44",
   "metadata": {},
   "outputs": [
    {
     "data": {
      "text/plain": [
       "{'ResponseMetadata': {'RequestId': '5ca0034a-7a93-4fec-87ba-7771a23fea6d',\n",
       "  'HTTPStatusCode': 200,\n",
       "  'HTTPHeaders': {'date': 'Tue, 09 Sep 2025 19:51:05 GMT',\n",
       "   'content-type': 'application/json',\n",
       "   'content-length': '643',\n",
       "   'connection': 'keep-alive',\n",
       "   'x-amzn-requestid': '5ca0034a-7a93-4fec-87ba-7771a23fea6d'},\n",
       "  'RetryAttempts': 0},\n",
       " 'automatedReasoningPolicyBuildWorkflowSummaries': [{'policyArn': 'arn:aws:bedrock:us-west-2:536697256976:automated-reasoning-policy/rtf5kw0u0oal',\n",
       "   'buildWorkflowId': 'be0e302c-2779-4e9f-a242-defe2b23311f',\n",
       "   'status': 'BUILDING',\n",
       "   'buildWorkflowType': 'REFINE_POLICY',\n",
       "   'createdAt': datetime.datetime(2025, 9, 9, 19, 51, 0, 231000, tzinfo=tzutc()),\n",
       "   'updatedAt': datetime.datetime(2025, 9, 9, 19, 51, 0, 689000, tzinfo=tzutc())},\n",
       "  {'policyArn': 'arn:aws:bedrock:us-west-2:536697256976:automated-reasoning-policy/rtf5kw0u0oal',\n",
       "   'buildWorkflowId': '634c8877-0fc5-4603-85a6-a93c8c57fc89',\n",
       "   'status': 'COMPLETED',\n",
       "   'buildWorkflowType': 'INGEST_CONTENT',\n",
       "   'createdAt': datetime.datetime(2025, 8, 7, 22, 58, 1, 720000, tzinfo=tzutc()),\n",
       "   'updatedAt': datetime.datetime(2025, 8, 7, 23, 3, 34, 825000, tzinfo=tzutc())}]}"
      ]
     },
     "execution_count": 57,
     "metadata": {},
     "output_type": "execute_result"
    }
   ],
   "source": [
    "# Check the queue of workflows to see if the REFINE_POLICY workflow has been created and is being built\n",
    "ar_workflows = bedrock_client.list_automated_reasoning_policy_build_workflows(policyArn=policy_arn)\n",
    "ar_workflows"
   ]
  },
  {
   "cell_type": "markdown",
   "id": "0ae9df9d",
   "metadata": {},
   "source": [
    "### Let's retrieve the Policy Definition from the latest workflow and check if the annotation of PatientAgeGroup exists"
   ]
  },
  {
   "cell_type": "code",
   "execution_count": null,
   "id": "f6172e91",
   "metadata": {},
   "outputs": [],
   "source": [
    "def get_latest_build_workflow(policy_arn):\n",
    "    \"\"\"\n",
    "    Retrieve the latest build workflow for a given policy\n",
    "    \n",
    "    Args:\n",
    "        policy_arn (str): ARN of the Automated Reasoning Policy\n",
    "    \n",
    "    Returns:\n",
    "        dict: Latest build workflow details\n",
    "    \"\"\"\n",
    "    try:\n",
    "        workflows_response = bedrock_client.list_automated_reasoning_policy_build_workflows(\n",
    "            policyArn=policy_arn\n",
    "        )\n",
    "        \n",
    "        # Sort workflows by updatedAt timestamp in descending order\n",
    "        sorted_workflows = sorted(\n",
    "            workflows_response['automatedReasoningPolicyBuildWorkflowSummaries'], \n",
    "            key=lambda x: x.get('updatedAt', ''), \n",
    "            reverse=True\n",
    "        )\n",
    "        \n",
    "        # Return the most recent workflow\n",
    "        return sorted_workflows[0] if sorted_workflows else None\n",
    "    \n",
    "    except Exception as e:\n",
    "        print(f\"Error retrieving build workflows: {str(e)}\")\n",
    "        raise\n",
    "\n",
    "def get_workflow_result_assets(policy_arn, build_workflow_id, asset_type='POLICY_DEFINITION'):\n",
    "    \"\"\"\n",
    "    Retrieve result assets for a specific build workflow\n",
    "    \n",
    "    Args:\n",
    "        policy_arn (str): ARN of the Automated Reasoning Policy\n",
    "        build_workflow_id (str): ID of the build workflow\n",
    "        asset_type (str, optional): Type of asset to retrieve. \n",
    "            Defaults to 'POLICY_DEFINITION'\n",
    "            Options: 'POLICY_DEFINITION', 'QUALITY_REPORT', 'BUILD_LOG'\n",
    "    \n",
    "    Returns:\n",
    "        dict: Workflow result assets\n",
    "    \"\"\"\n",
    "    try:\n",
    "        result_assets_response = bedrock_client.get_automated_reasoning_policy_build_workflow_result_assets(\n",
    "            policyArn=policy_arn,\n",
    "            buildWorkflowId=build_workflow_id,\n",
    "            assetType=asset_type\n",
    "        )\n",
    "        \n",
    "        return result_assets_response.get('buildWorkflowAssets', {})\n",
    "    \n",
    "    except Exception as e:\n",
    "        print(f\"Error retrieving workflow result assets: {str(e)}\")\n",
    "        raise\n",
    "\n",
    "def get_latest_workflow_results(policy_arn, build_workflow_id=None,asset_type='POLICY_DEFINITION'):\n",
    "    \"\"\"\n",
    "    Comprehensive method to get the latest workflow results\n",
    "    \n",
    "    Args:\n",
    "        policy_arn (str): ARN of the Automated Reasoning Policy\n",
    "        build_workflow_id (str, optional): None if not passed in. It gets the latest workflow ID if not passed\n",
    "        asset_type (str, optional): Type of asset to retrieve\n",
    "    \n",
    "    Returns:\n",
    "        dict: Latest workflow result assets\n",
    "    \"\"\"\n",
    "    # Get the latest build workflow\n",
    "    if build_workflow_id is None:\n",
    "        latest_workflow = get_latest_build_workflow(policy_arn)\n",
    "    \n",
    "        if not latest_workflow:\n",
    "            print(\"No build workflows found.\")\n",
    "            return None\n",
    "        build_workflow_id = latest_workflow['buildWorkflowId']\n",
    "    # Get workflow result assets\n",
    "    workflow_results = get_workflow_result_assets(\n",
    "        policy_arn, \n",
    "        build_workflow_id, \n",
    "        asset_type\n",
    "    )\n",
    "    \n",
    "    return workflow_results"
   ]
  },
  {
   "cell_type": "code",
   "execution_count": 63,
   "id": "e72ccf8b",
   "metadata": {},
   "outputs": [],
   "source": [
    "policy_definitions = get_latest_workflow_results(\n",
    "    policy_arn=policy_arn, \n",
    "    # build_workflow_id='90aaf8fb-015a-42fb-9720-e87f36854989', \n",
    "    asset_type='POLICY_DEFINITION'\n",
    "    )"
   ]
  },
  {
   "cell_type": "code",
   "execution_count": 64,
   "id": "c91773cf",
   "metadata": {},
   "outputs": [
    {
     "name": "stdout",
     "output_type": "stream",
     "text": [
      "{'name': 'AdmissionType', 'description': 'The type of hospital admission for a patient, which determines whether the readmission risk assessment protocol applies', 'values': [{'value': 'MEDICAL', 'description': 'Patient admitted for medical treatment'}, {'value': 'SURGICAL', 'description': 'Patient admitted for surgical treatment'}, {'value': 'MIXED_MEDICAL_SURGICAL', 'description': 'Patient admitted with a combination of medical and surgical needs'}, {'value': 'PSYCHIATRIC', 'description': 'Patient admitted for psychiatric treatment'}, {'value': 'REHABILITATION', 'description': 'Patient admitted for rehabilitation services'}, {'value': 'PLANNED_READMISSION', 'description': 'Patient admission that was planned in advance as part of their care'}, {'value': 'ADMISSION_TYPE_OTHER', 'description': 'Other types of admissions not covered by the defined categories'}]}\n",
      "{'name': 'HealthcareFacilityType', 'description': 'The type of healthcare facility where the readmission risk assessment protocol is being implemented', 'values': [{'value': 'ACUTE_CARE_HOSPITAL', 'description': 'An acute care hospital with 25 or more beds'}, {'value': 'CRITICAL_ACCESS_HOSPITAL', 'description': 'A critical access hospital in a rural area'}, {'value': 'ACADEMIC_MEDICAL_CENTER', 'description': 'A university-affiliated medical center that provides education, research, and clinical care'}, {'value': 'SPECIALTY_HOSPITAL', 'description': 'A hospital that specializes in specific medical conditions or treatments'}, {'value': 'FACILITY_TYPE_OTHER', 'description': 'Other types of healthcare facilities not covered by the defined categories'}]}\n",
      "{'name': 'LivingSituation', 'description': \"The patient's living situation with respect to whether they live alone and have a caregiver\", 'values': [{'value': 'LIVES_ALONE_NO_CAREGIVER', 'description': 'Patient lives alone without an identified caregiver'}, {'value': 'LIVES_ALONE_WITH_CAREGIVER', 'description': 'Patient lives alone but has an identified caregiver'}, {'value': 'LIVES_WITH_OTHERS', 'description': 'Patient lives with others who can provide support'}, {'value': 'LIVING_SITUATION_OTHER', 'description': 'Other living situations not captured by the defined categories'}]}\n",
      "{'name': 'RiskCategory', 'description': \"The patient's readmission risk category based on their total risk score\", 'values': [{'value': 'LOW_RISK', 'description': 'Patient has a total risk score of 0-3 points, with an estimated 30-day readmission rate of 8-12%'}, {'value': 'INTERMEDIATE_RISK', 'description': 'Patient has a total risk score of 4-7 points, with an estimated 30-day readmission rate of 15-20%'}, {'value': 'HIGH_RISK', 'description': 'Patient has a total risk score of 8 points or higher, with an estimated 30-day readmission rate of 25-35%'}]}\n",
      "{'name': 'PatientAgeGroup', 'description': 'Age Groups of patients for risk classication', 'values': [{'value': 'NEONATES', 'description': 'New borns who are just born and a maximum of 28 days old'}, {'value': 'INFANTS', 'description': 'Children who are 29 days to 1 year old'}, {'value': 'TODDLER', 'description': 'Children who are 1-3 years old'}]}\n"
     ]
    }
   ],
   "source": [
    "for type in policy_definitions['policyDefinition']['types']:\n",
    "    print(type)"
   ]
  },
  {
   "cell_type": "markdown",
   "id": "1b95e36f",
   "metadata": {},
   "source": [
    "### We can see that the type (PatientAgeGroup) we included has been added to the newly built Automated Reasoning Policy!"
   ]
  },
  {
   "cell_type": "markdown",
   "id": "13fc4cb7",
   "metadata": {},
   "source": [
    "## Quality Report\n",
    "\n",
    "This is a useful report which helps you identify which types, values and variables are unused in the Automated Reasoning Policy. It also shows any conflicting rules or disjoint rule setsto help you identify which rules, variables and types need SME attention."
   ]
  },
  {
   "cell_type": "code",
   "execution_count": 62,
   "id": "8d3eec49",
   "metadata": {},
   "outputs": [],
   "source": [
    "quality_result = get_latest_workflow_results(\n",
    "    policy_arn=policy_arn, \n",
    "    # build_workflow_id='90aaf8fb-015a-42fb-9720-e87f36854989', \n",
    "    asset_type='QUALITY_REPORT'\n",
    "    )"
   ]
  },
  {
   "cell_type": "code",
   "execution_count": 270,
   "id": "7d5e2387",
   "metadata": {},
   "outputs": [
    {
     "data": {
      "text/plain": [
       "{'qualityReport': {'typeCount': 5,\n",
       "  'variableCount': 104,\n",
       "  'ruleCount': 88,\n",
       "  'unusedTypes': ['PatientAgeGroup'],\n",
       "  'unusedTypeValues': [{'typeName': 'AdmissionType',\n",
       "    'valueName': 'ADMISSION_TYPE_OTHER'},\n",
       "   {'typeName': 'HealthcareFacilityType',\n",
       "    'valueName': 'CRITICAL_ACCESS_HOSPITAL'},\n",
       "   {'typeName': 'HealthcareFacilityType',\n",
       "    'valueName': 'ACADEMIC_MEDICAL_CENTER'},\n",
       "   {'typeName': 'HealthcareFacilityType', 'valueName': 'FACILITY_TYPE_OTHER'},\n",
       "   {'typeName': 'LivingSituation', 'valueName': 'LIVES_WITH_OTHERS'},\n",
       "   {'typeName': 'LivingSituation', 'valueName': 'LIVING_SITUATION_OTHER'}],\n",
       "  'unusedVariables': ['effectiveDate',\n",
       "   'documentClassification',\n",
       "   'lowRiskReadmissionRate',\n",
       "   'intermediateRiskReadmissionRate',\n",
       "   'highRiskReadmissionRate',\n",
       "   'edVisitRate30Days',\n",
       "   'patientSatisfactionScore',\n",
       "   'averageTimeToFollowUp'],\n",
       "  'conflictingRules': [],\n",
       "  'disjointRuleSets': [{'variables': ['reviewDate'],\n",
       "    'rules': ['INZBWYCSQVSR']},\n",
       "   {'variables': ['patientAge',\n",
       "     'policyApplies',\n",
       "     'ageRiskPoints',\n",
       "     'facilityType',\n",
       "     'facilityBedCount',\n",
       "     'admissionType',\n",
       "     'totalRiskScore',\n",
       "     'lengthOfStayRiskPoints',\n",
       "     'comorbidityRiskPoints',\n",
       "     'utilizationHistoryRiskPoints',\n",
       "     'laboratoryRiskPoints',\n",
       "     'socialDeterminantsRiskPoints',\n",
       "     'needsSpecialtyAdaptation',\n",
       "     'riskCategory',\n",
       "     'evaluatedForPostAcutePlacement',\n",
       "     'livingSituation',\n",
       "     'hasHomeHealthReferral',\n",
       "     'lengthOfStay',\n",
       "     'hasDiabetes',\n",
       "     'hasHeartFailure',\n",
       "     'hasCOPD',\n",
       "     'hasCKD',\n",
       "     'admissionsWithin30Days',\n",
       "     'admissionsWithin90Days',\n",
       "     'edVisitsWithin6Months',\n",
       "     'hemoglobinValue',\n",
       "     'eGFRValue',\n",
       "     'serumSodiumValue',\n",
       "     'hasReliableTransportation',\n",
       "     'hasEstablishedPCP',\n",
       "     'hasMedicaidOrUninsured',\n",
       "     'hasStandardDischargePlan',\n",
       "     'hasMedicationReconciliation',\n",
       "     'pcpFollowUpDays',\n",
       "     'hasWrittenDischargeInstructions',\n",
       "     'instructionsInPreferredLanguage',\n",
       "     'hasEnhancedDischargePlanning',\n",
       "     'postDischargeCallHours',\n",
       "     'cardiologyFollowUpDays',\n",
       "     'hasEndocrinologyConsult',\n",
       "     'pulmonologyFollowUpDays',\n",
       "     'hasCaseManagementConsult',\n",
       "     'transionalCareAvailable',\n",
       "     'hasTransitionalCareEnrollment',\n",
       "     'hadAdverseDrugReaction',\n",
       "     'medicationNonAdherenceContributed',\n",
       "     'hasActiveSubstanceUseDisorder',\n",
       "     'hasRecentAMADischarge',\n",
       "     'needsNewDME',\n",
       "     'hadSignificantFunctionalChange'],\n",
       "    'rules': ['W79DAON0UUHB',\n",
       "     'TTOGS1I4BV3T',\n",
       "     'DYX11B157GZD',\n",
       "     'JZMRNS999SR7',\n",
       "     'BRDRYAFU7P9L',\n",
       "     'NJFU47E3I9TU',\n",
       "     'GVR9EGBCD87D',\n",
       "     'O9R8KEPMLY0C',\n",
       "     'QCE60DI6RAU9',\n",
       "     'BNVNS9MEC7YM',\n",
       "     'U1NQ1O0XEWL8',\n",
       "     'EZGVEBTB5CEO',\n",
       "     'CZGZCQ0EGUOX',\n",
       "     'M5ZWMPODA40E',\n",
       "     'AM46DDW4UWIU',\n",
       "     'OV13JAGJJU5F',\n",
       "     'JGWSCVDIMMSP',\n",
       "     'X1XAGTA6P148',\n",
       "     'WP2ZD1G5989P',\n",
       "     'OBHP6J5LJ41D',\n",
       "     'GOGRB05PM21G',\n",
       "     'UVVCTYXNYJND',\n",
       "     'E2A6X2XCZWUN',\n",
       "     'JUQHL87OGJSI',\n",
       "     'HCI83R4J5PN5',\n",
       "     'S877QO84XSK9',\n",
       "     'K8PPBJ15ES9B',\n",
       "     'ZHYVQ3V1TNE5',\n",
       "     'MEOKVEQ3T7PH',\n",
       "     'CY4QBCQNRJK1',\n",
       "     'QRD1YTIR7HVO',\n",
       "     'MKTIDNVEBBAU',\n",
       "     'ICBSFM0P5FIH',\n",
       "     'VLP3Q164YZZQ',\n",
       "     'ZIER5PPUP18X',\n",
       "     'CMMP6SPVPW61',\n",
       "     'QFVORAHLUCS9',\n",
       "     'NW4GONEADNK2',\n",
       "     'K8HGRSVHBV6X',\n",
       "     'IIGJH5HJMIBD',\n",
       "     'ZN1O4Y570YHM',\n",
       "     'TPZZ9XCX5P7I',\n",
       "     'FLAUVAV965V2',\n",
       "     'R0B7HZWXIZX4']},\n",
       "   {'variables': ['riskScoringSystemImplemented'], 'rules': ['MQMKPR8BZVQ0']},\n",
       "   {'variables': ['labValuesWithin24Hours'], 'rules': ['NWP27FED7F4F']},\n",
       "   {'variables': ['usedCKDEPIEquation'], 'rules': ['TQDHFG0J4F99']},\n",
       "   {'variables': ['implementedRiskStratifiedInterventions'],\n",
       "    'rules': ['AU86F0C3HJMA']},\n",
       "   {'variables': ['hasPhysicianOverride',\n",
       "     'hasOverrideJustification',\n",
       "     'hasOverrideApproval',\n",
       "     'overrideDocumentedInRecord'],\n",
       "    'rules': ['ZMS9Q39EJ82V', 'VAFPUQRDOF0X', 'OZ38A3VCLYI6']},\n",
       "   {'variables': ['riskAssessmentCompletionRate24Hours'],\n",
       "    'rules': ['CT2JGIAOTVCT']},\n",
       "   {'variables': ['riskAssessmentCompletionRateDischarge'],\n",
       "    'rules': ['XY6TZU9DBTZE']},\n",
       "   {'variables': ['highRiskDischargePlanRate'], 'rules': ['T3DDXX7YM9AK']},\n",
       "   {'variables': ['appointmentSchedulingRate'], 'rules': ['TSGBIM78W2HZ']},\n",
       "   {'variables': ['monitoringProcessIndicators'], 'rules': ['FP246PZJF3B6']},\n",
       "   {'variables': ['trackingOutcomeMeasures'], 'rules': ['VMQFXYAQO6WU']},\n",
       "   {'variables': ['monthlyHighRiskReviewCompleted'],\n",
       "    'rules': ['V3KKOF5Q7RPM']},\n",
       "   {'variables': ['highRiskReviewSampleSize'], 'rules': ['W3H6QQP0CSBE']},\n",
       "   {'variables': ['quarterlyComplianceReviewCompleted'],\n",
       "    'rules': ['FZZYEGDF83MS']},\n",
       "   {'variables': ['lowRiskReadmissionReviewCompleted'],\n",
       "    'rules': ['J3798TWQO374']},\n",
       "   {'variables': ['overrideUtilizationRate',\n",
       "     'excessiveOverrideReviewCompleted'],\n",
       "    'rules': ['GEC4O4D3JVW8']},\n",
       "   {'variables': ['initialTrainingHoursCompleted'], 'rules': ['UE4UGA7HDFH1']},\n",
       "   {'variables': ['annualCompetencyCompleted'], 'rules': ['FVUHQMBP4GAA']},\n",
       "   {'variables': ['riskFactorIdentificationAccuracy'],\n",
       "    'rules': ['E5XKILQ4AKYT']},\n",
       "   {'variables': ['interventionSelectionAccuracy'], 'rules': ['MWFBPSOG2C7F']},\n",
       "   {'variables': ['hasAutomatedRiskCalculation'], 'rules': ['WEA6UANNU1AP']},\n",
       "   {'variables': ['hasClinicalDecisionSupport'], 'rules': ['R35IG6WEDO3H']},\n",
       "   {'variables': ['hasDischargeWorkflowIntegration'],\n",
       "    'rules': ['UVH7LZSTUB75']},\n",
       "   {'variables': ['hasOutcomeTrackingCapability'], 'rules': ['M0K262U3H8OK']},\n",
       "   {'variables': ['dischargePlanningCoordinatorFTEs'],\n",
       "    'rules': ['D04A0LXRFBDU']},\n",
       "   {'variables': ['hasCaseManagementForHighRisk'], 'rules': ['MU6ZAL88QNXF']},\n",
       "   {'variables': ['hasPharmacySupport'], 'rules': ['NM7CWQJ2W9OX']},\n",
       "   {'variables': ['alignedWithCMSProgram'], 'rules': ['YA7UQM0JJEMK']},\n",
       "   {'variables': ['alignedWithJointCommission'], 'rules': ['XR4CCA0VC7S1']},\n",
       "   {'variables': ['alignedWithHCAHPS'], 'rules': ['AVYLG02TFD1A']},\n",
       "   {'variables': ['maintainsRiskAssessmentDocumentation'],\n",
       "    'rules': ['FKQRJM99UGXA']},\n",
       "   {'variables': ['maintainsInterventionDocumentation'],\n",
       "    'rules': ['PP3J9GU0QFXS']},\n",
       "   {'variables': ['maintainsOutcomeMonitoringDocumentation'],\n",
       "    'rules': ['JUCIGEC2B8LV']},\n",
       "   {'variables': ['documentProperlySigned'], 'rules': ['Z7AIPXKZ256V']},\n",
       "   {'variables': ['dataProtectionPolicyImplemented'],\n",
       "    'rules': ['GCR2LKN34SBU']},\n",
       "   {'variables': ['dataEncrypted'], 'rules': ['NQPLVI4IUFGQ']},\n",
       "   {'variables': ['accessControlsImplemented'], 'rules': ['F404SX6O6YU8']},\n",
       "   {'variables': ['dataRetentionPolicyImplemented'],\n",
       "    'rules': ['E4Y3EYNCSG8E']},\n",
       "   {'variables': ['dataBackupProceduresImplemented'],\n",
       "    'rules': ['PX4V2N63U6N4']},\n",
       "   {'variables': ['privacyTrainingCompleted'], 'rules': ['M2Y3BY70Q4A3']},\n",
       "   {'variables': ['rolesDefinedForDataAccess'], 'rules': ['W2OLB538HGQN']}]}}"
      ]
     },
     "execution_count": 270,
     "metadata": {},
     "output_type": "execute_result"
    }
   ],
   "source": [
    "quality_result"
   ]
  },
  {
   "cell_type": "markdown",
   "id": "42c893a8",
   "metadata": {},
   "source": [
    "### Build Log\n",
    "This provides helpful details to identify the status of the annotation that was applied through the REFINE_POLICY workflow"
   ]
  },
  {
   "cell_type": "code",
   "execution_count": 65,
   "id": "6c144c76",
   "metadata": {},
   "outputs": [],
   "source": [
    "build_log = get_latest_workflow_results(\n",
    "    policy_arn=policy_arn, \n",
    "    # build_workflow_id='90aaf8fb-015a-42fb-9720-e87f36854989', \n",
    "    asset_type='BUILD_LOG'\n",
    "    )"
   ]
  },
  {
   "cell_type": "code",
   "execution_count": 66,
   "id": "92608d24",
   "metadata": {},
   "outputs": [
    {
     "data": {
      "text/plain": [
       "{'buildLog': {'entries': [{'annotation': {'addType': {'name': 'PatientAgeGroup',\n",
       "      'description': 'Age Groups of patients for risk classication',\n",
       "      'values': [{'value': 'NEONATES',\n",
       "        'description': 'New borns who are just born and a maximum of 28 days old'},\n",
       "       {'value': 'INFANTS',\n",
       "        'description': 'Children who are 29 days to 1 year old'},\n",
       "       {'value': 'TODDLER',\n",
       "        'description': 'Children who are 1-3 years old'}]}},\n",
       "    'status': 'FAILED',\n",
       "    'buildSteps': [{'context': {'mutation': {'addType': {'type': {'name': 'PatientAgeGroup',\n",
       "          'description': 'Age Groups of patients for risk classication',\n",
       "          'values': [{'value': 'NEONATES',\n",
       "            'description': 'New borns who are just born and a maximum of 28 days old'},\n",
       "           {'value': 'INFANTS',\n",
       "            'description': 'Children who are 29 days to 1 year old'},\n",
       "           {'value': 'TODDLER',\n",
       "            'description': 'Children who are 1-3 years old'}]}}}},\n",
       "      'messages': [{'message': 'Name \"PatientAgeGroup\" is already in use',\n",
       "        'messageType': 'ERROR'}]}]}]}}"
      ]
     },
     "execution_count": 66,
     "metadata": {},
     "output_type": "execute_result"
    }
   ],
   "source": [
    "# The build log shows the status of the individual annotations and the steps taken to build that annotation\n",
    "build_log"
   ]
  },
  {
   "cell_type": "markdown",
   "id": "b784515d",
   "metadata": {},
   "source": [
    "# Step 3: Update the Automated Reasoning Policy with the New Policy generated in Step 2"
   ]
  },
  {
   "cell_type": "code",
   "execution_count": 67,
   "id": "690810c4",
   "metadata": {},
   "outputs": [],
   "source": [
    "# Let's now update the policy with the workflow assets that have been created\n",
    "# Update the policy definition with the new annotation\n",
    "response = bedrock_client.update_automated_reasoning_policy(\n",
    "    policyArn=policy_arn,\n",
    "    policyDefinition={\n",
    "        'rules': policy_definitions['policyDefinition']['rules'],\n",
    "        'variables': policy_definitions['policyDefinition']['variables'],\n",
    "        'types': policy_definitions['policyDefinition']['types'],\n",
    "    }\n",
    ")"
   ]
  },
  {
   "cell_type": "code",
   "execution_count": 68,
   "id": "63ea4e7b",
   "metadata": {},
   "outputs": [
    {
     "data": {
      "text/plain": [
       "{'ResponseMetadata': {'RequestId': '520221e1-a65f-4edd-8001-4190903e6d49',\n",
       "  'HTTPStatusCode': 200,\n",
       "  'HTTPHeaders': {'date': 'Tue, 09 Sep 2025 20:00:21 GMT',\n",
       "   'content-type': 'application/json',\n",
       "   'content-length': '315',\n",
       "   'connection': 'keep-alive',\n",
       "   'x-amzn-requestid': '520221e1-a65f-4edd-8001-4190903e6d49'},\n",
       "  'RetryAttempts': 0},\n",
       " 'policyArn': 'arn:aws:bedrock:us-west-2:536697256976:automated-reasoning-policy/rtf5kw0u0oal',\n",
       " 'name': 'test-jupyter-policy-demo',\n",
       " 'definitionHash': '3b4f0ba251b8bd8dc062ae76337452674877ec937b1b2879688ad2905c9ce0f5b37339af585f3bb032cf7f8aee3140d49371e831b617d6538a250d4298de02d6',\n",
       " 'updatedAt': datetime.datetime(2025, 9, 9, 20, 0, 21, 209000, tzinfo=tzutc())}"
      ]
     },
     "execution_count": 68,
     "metadata": {},
     "output_type": "execute_result"
    }
   ],
   "source": [
    "response"
   ]
  },
  {
   "cell_type": "code",
   "execution_count": 69,
   "id": "907297b7",
   "metadata": {},
   "outputs": [
    {
     "name": "stdout",
     "output_type": "stream",
     "text": [
      "{'name': 'AdmissionType', 'description': 'The type of hospital admission for a patient, which determines whether the readmission risk assessment protocol applies', 'values': [{'value': 'MEDICAL', 'description': 'Patient admitted for medical treatment'}, {'value': 'SURGICAL', 'description': 'Patient admitted for surgical treatment'}, {'value': 'MIXED_MEDICAL_SURGICAL', 'description': 'Patient admitted with a combination of medical and surgical needs'}, {'value': 'PSYCHIATRIC', 'description': 'Patient admitted for psychiatric treatment'}, {'value': 'REHABILITATION', 'description': 'Patient admitted for rehabilitation services'}, {'value': 'PLANNED_READMISSION', 'description': 'Patient admission that was planned in advance as part of their care'}, {'value': 'ADMISSION_TYPE_OTHER', 'description': 'Other types of admissions not covered by the defined categories'}]}\n",
      "{'name': 'HealthcareFacilityType', 'description': 'The type of healthcare facility where the readmission risk assessment protocol is being implemented', 'values': [{'value': 'ACUTE_CARE_HOSPITAL', 'description': 'An acute care hospital with 25 or more beds'}, {'value': 'CRITICAL_ACCESS_HOSPITAL', 'description': 'A critical access hospital in a rural area'}, {'value': 'ACADEMIC_MEDICAL_CENTER', 'description': 'A university-affiliated medical center that provides education, research, and clinical care'}, {'value': 'SPECIALTY_HOSPITAL', 'description': 'A hospital that specializes in specific medical conditions or treatments'}, {'value': 'FACILITY_TYPE_OTHER', 'description': 'Other types of healthcare facilities not covered by the defined categories'}]}\n",
      "{'name': 'LivingSituation', 'description': \"The patient's living situation with respect to whether they live alone and have a caregiver\", 'values': [{'value': 'LIVES_ALONE_NO_CAREGIVER', 'description': 'Patient lives alone without an identified caregiver'}, {'value': 'LIVES_ALONE_WITH_CAREGIVER', 'description': 'Patient lives alone but has an identified caregiver'}, {'value': 'LIVES_WITH_OTHERS', 'description': 'Patient lives with others who can provide support'}, {'value': 'LIVING_SITUATION_OTHER', 'description': 'Other living situations not captured by the defined categories'}]}\n",
      "{'name': 'RiskCategory', 'description': \"The patient's readmission risk category based on their total risk score\", 'values': [{'value': 'LOW_RISK', 'description': 'Patient has a total risk score of 0-3 points, with an estimated 30-day readmission rate of 8-12%'}, {'value': 'INTERMEDIATE_RISK', 'description': 'Patient has a total risk score of 4-7 points, with an estimated 30-day readmission rate of 15-20%'}, {'value': 'HIGH_RISK', 'description': 'Patient has a total risk score of 8 points or higher, with an estimated 30-day readmission rate of 25-35%'}]}\n",
      "{'name': 'PatientAgeGroup', 'description': 'Age Groups of patients for risk classication', 'values': [{'value': 'NEONATES', 'description': 'New borns who are just born and a maximum of 28 days old'}, {'value': 'INFANTS', 'description': 'Children who are 29 days to 1 year old'}, {'value': 'TODDLER', 'description': 'Children who are 1-3 years old'}]}\n"
     ]
    }
   ],
   "source": [
    "# Retrieve latest policy and check that the update exists\n",
    "current_policy = bedrock_client.export_automated_reasoning_policy_version(\n",
    "    policyArn=policy_arn\n",
    ")\n",
    "\n",
    "for type in current_policy['policyDefinition']['types']:\n",
    "    print(type)\n"
   ]
  },
  {
   "cell_type": "markdown",
   "id": "01529018",
   "metadata": {},
   "source": [
    "# Success!\n",
    "We can see that the latest Automated Reasoning Policy contains the type we added - PatientAgeGroup!"
   ]
  }
 ],
 "metadata": {
  "kernelspec": {
   "display_name": ".venv",
   "language": "python",
   "name": "python3"
  },
  "language_info": {
   "codemirror_mode": {
    "name": "ipython",
    "version": 3
   },
   "file_extension": ".py",
   "mimetype": "text/x-python",
   "name": "python",
   "nbconvert_exporter": "python",
   "pygments_lexer": "ipython3",
   "version": "3.13.0"
  }
 },
 "nbformat": 4,
 "nbformat_minor": 5
}
