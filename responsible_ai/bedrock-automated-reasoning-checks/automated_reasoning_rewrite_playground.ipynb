{
 "cells": [
  {
   "cell_type": "markdown",
   "metadata": {},
   "source": [
    "# Automated Reasoning Rewrite Playground\n",
    "\n",
    "This notebook demonstrates how to rewrite the initial LLM response based on the automated reasoning feedback.\n",
    "It includes the following:\n",
    "\n",
    "1. Setting up the Bedrock client with custom API models\n",
    "2. Rewrites the LLM response based on the validation result of ApplyGuardrails API"
   ]
  },
  {
   "cell_type": "markdown",
   "metadata": {},
   "source": [
    "## Setup\n",
    "\n",
    "First, let's import the necessary libraries and set up the Bedrock client with custom API models."
   ]
  },
  {
   "cell_type": "code",
   "execution_count": null,
   "metadata": {},
   "outputs": [],
   "source": [
    "\n",
    "%pip install -r requirements.txt"
   ]
  },
  {
   "cell_type": "code",
   "execution_count": null,
   "metadata": {},
   "outputs": [],
   "source": [
    "import os\n",
    "import json\n",
    "import boto3\n",
    "import uuid\n",
    "import time\n",
    "import pandas as pd\n",
    "from IPython.display import display, HTML, JSON\n",
    "import ipywidgets as widgets\n",
    "from datetime import datetime\n",
    "from rewrite import summarize_results\n",
    "from policy_definition import get_policy_definition"
   ]
  },
  {
   "cell_type": "code",
   "execution_count": null,
   "metadata": {},
   "outputs": [],
   "source": [
    "# Create the Bedrock client\n",
    "REGION_NAME=\"us-west-2\" # Fill in the AWS Region\n",
    "my_session = boto3.session.Session()\n",
    "runtime_client = my_session.client('bedrock-runtime', region_name=REGION_NAME)\n",
    "bedrock_client = my_session.client('bedrock', region_name=REGION_NAME)"
   ]
  },
  {
   "cell_type": "code",
   "execution_count": null,
   "metadata": {},
   "outputs": [],
   "source": [
    "# Policy arn for which policy definitions will be retrieved\n",
    "AR_POLICY_ARN=\"<AR_POLICY_ARN>\"\n",
    "\n",
    "# Guardrail id which will be used for calling ApplyGuardrails API\n",
    "GUARDRAIL_ID = \"<GUARDRAIL_ID>\"\n",
    "\n",
    "# Guardrail version which will be used for calling ApplyGuardrails API\n",
    "GUARDRAIL_VERSION = \"<GUARDRAIL_VERSION>\"\n",
    "\n",
    "# Id of the model used by bedrock when generating LLM responses\n",
    "MODEL_ID=\"<MODEL_ID>\""
   ]
  },
  {
   "cell_type": "markdown",
   "metadata": {},
   "source": [
    "## Rewrite LLM Response \n",
    "\n",
    "In this section we will call summarize_results method that that is defined in the rewrite.py file. This method calls ApplyGuardrails API and rewrites the response by invoking Bedrock Converse API."
   ]
  },
  {
   "cell_type": "code",
   "execution_count": null,
   "metadata": {},
   "outputs": [],
   "source": [
    "# Example usage\n",
    "user_query = \"<USER_QUERY>\"\n",
    "llm_response = \"<LLM_RESPONSE>\"\n",
    "\n",
    "# Get the policy definition first\n",
    "policy_definition = get_policy_definition(bedrock_policy_client, AR_POLICY_ARN)\n",
    "\n",
    "# Get the summary\n",
    "results = summarize_results(\n",
    "    user_query, \n",
    "    llm_response, \n",
    "    policy_definition, \n",
    "    GUARDRAIL_ID, \n",
    "    GUARDRAIL_VERSION,\n",
    "    bedrock_runtime_client,\n",
    "    MODEL_ID\n",
    ")\n",
    "\n",
    "# Print the results in a nicely formatted way\n",
    "print(\"\\n## Findings\")\n",
    "print(results[\"findings\"])\n",
    "\n",
    "print(\"## Query\")\n",
    "print(results[\"query\"])\n",
    "print(\"\\n## Original Response\")\n",
    "print(results[\"original_response\"])\n",
    "\n",
    "if results[\"rewritten_response\"]:\n",
    "    print(\"\\n## Rewritten Response\")\n",
    "    print(results[\"rewritten_response\"])"
   ]
  }
 ],
 "metadata": {
  "kernelspec": {
   "display_name": "base",
   "language": "python",
   "name": "python3"
  },
  "language_info": {
   "codemirror_mode": {
    "name": "ipython",
    "version": 3
   },
   "file_extension": ".py",
   "mimetype": "text/x-python",
   "name": "python",
   "nbconvert_exporter": "python",
   "pygments_lexer": "ipython3",
   "version": "3.11.5"
  }
 },
 "nbformat": 4,
 "nbformat_minor": 4
}
