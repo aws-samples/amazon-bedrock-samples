{
 "cells": [
  {
   "cell_type": "markdown",
   "metadata": {},
   "source": [
    "# Automated Reasoning Policy Playground\n",
    "\n",
    "This notebook demonstrates how to create and manage automated reasoning policies using the AWS Bedrock API. It includes the following functionality:\n",
    "\n",
    "1. Setting up the Bedrock client with custom API models\n",
    "2. Creating an automated reasoning policy\n",
    "3. Starting a build workflow to process a document\n",
    "4. Monitoring the build workflow status\n",
    "5. Retrieving the policy definition\n",
    "6. Extracting rules from the policy document"
   ]
  },
  {
   "cell_type": "markdown",
   "metadata": {},
   "source": [
    "## Setup\n",
    "\n",
    "First, let's import the necessary libraries and set up the Bedrock client with custom API models."
   ]
  },
  {
   "cell_type": "code",
   "execution_count": 24,
   "metadata": {},
   "outputs": [
    {
     "name": "stdout",
     "output_type": "stream",
     "text": [
      "Looking in indexes: https://pypi.org/simple, https://plugin.us-east-1.prod.workshops.aws\n",
      "Requirement already satisfied: Flask==2.3.3 in ./.venv/lib/python3.13/site-packages (from -r requirements.txt (line 1)) (2.3.3)\n",
      "Requirement already satisfied: Werkzeug==2.3.7 in ./.venv/lib/python3.13/site-packages (from -r requirements.txt (line 2)) (2.3.7)\n",
      "Collecting boto3==1.40.3 (from -r requirements.txt (line 3))\n",
      "  Downloading boto3-1.40.3-py3-none-any.whl.metadata (6.7 kB)\n",
      "Collecting botocore==1.40.3 (from -r requirements.txt (line 4))\n",
      "  Downloading botocore-1.40.3-py3-none-any.whl.metadata (5.7 kB)\n",
      "Requirement already satisfied: Jinja2==3.1.2 in ./.venv/lib/python3.13/site-packages (from -r requirements.txt (line 5)) (3.1.2)\n",
      "Requirement already satisfied: MarkupSafe==2.1.3 in ./.venv/lib/python3.13/site-packages (from -r requirements.txt (line 6)) (2.1.3)\n",
      "Requirement already satisfied: itsdangerous==2.1.2 in ./.venv/lib/python3.13/site-packages (from -r requirements.txt (line 7)) (2.1.2)\n",
      "Requirement already satisfied: click==8.1.7 in ./.venv/lib/python3.13/site-packages (from -r requirements.txt (line 8)) (8.1.7)\n",
      "Requirement already satisfied: python-dotenv==1.0.0 in ./.venv/lib/python3.13/site-packages (from -r requirements.txt (line 9)) (1.0.0)\n",
      "Requirement already satisfied: pandas==2.2.0 in ./.venv/lib/python3.13/site-packages (from -r requirements.txt (line 10)) (2.2.0)\n",
      "Requirement already satisfied: ipywidgets==8.1.1 in ./.venv/lib/python3.13/site-packages (from -r requirements.txt (line 11)) (8.1.1)\n",
      "Requirement already satisfied: requests==2.31.0 in ./.venv/lib/python3.13/site-packages (from -r requirements.txt (line 12)) (2.31.0)\n",
      "Requirement already satisfied: jupyter==1.0.0 in ./.venv/lib/python3.13/site-packages (from -r requirements.txt (line 13)) (1.0.0)\n",
      "Requirement already satisfied: notebook==7.0.6 in ./.venv/lib/python3.13/site-packages (from -r requirements.txt (line 14)) (7.0.6)\n",
      "Requirement already satisfied: blinker>=1.6.2 in ./.venv/lib/python3.13/site-packages (from Flask==2.3.3->-r requirements.txt (line 1)) (1.9.0)\n",
      "Requirement already satisfied: jmespath<2.0.0,>=0.7.1 in ./.venv/lib/python3.13/site-packages (from boto3==1.40.3->-r requirements.txt (line 3)) (1.0.1)\n",
      "Requirement already satisfied: s3transfer<0.14.0,>=0.13.0 in ./.venv/lib/python3.13/site-packages (from boto3==1.40.3->-r requirements.txt (line 3)) (0.13.1)\n",
      "Requirement already satisfied: python-dateutil<3.0.0,>=2.1 in ./.venv/lib/python3.13/site-packages (from botocore==1.40.3->-r requirements.txt (line 4)) (2.9.0.post0)\n",
      "Requirement already satisfied: urllib3!=2.2.0,<3,>=1.25.4 in ./.venv/lib/python3.13/site-packages (from botocore==1.40.3->-r requirements.txt (line 4)) (1.26.20)\n",
      "Requirement already satisfied: numpy<2,>=1.26.0 in ./.venv/lib/python3.13/site-packages (from pandas==2.2.0->-r requirements.txt (line 10)) (1.26.4)\n",
      "Requirement already satisfied: pytz>=2020.1 in ./.venv/lib/python3.13/site-packages (from pandas==2.2.0->-r requirements.txt (line 10)) (2025.2)\n",
      "Requirement already satisfied: tzdata>=2022.7 in ./.venv/lib/python3.13/site-packages (from pandas==2.2.0->-r requirements.txt (line 10)) (2025.2)\n",
      "Requirement already satisfied: comm>=0.1.3 in ./.venv/lib/python3.13/site-packages (from ipywidgets==8.1.1->-r requirements.txt (line 11)) (0.2.3)\n",
      "Requirement already satisfied: ipython>=6.1.0 in ./.venv/lib/python3.13/site-packages (from ipywidgets==8.1.1->-r requirements.txt (line 11)) (9.4.0)\n",
      "Requirement already satisfied: traitlets>=4.3.1 in ./.venv/lib/python3.13/site-packages (from ipywidgets==8.1.1->-r requirements.txt (line 11)) (5.14.3)\n",
      "Requirement already satisfied: widgetsnbextension~=4.0.9 in ./.venv/lib/python3.13/site-packages (from ipywidgets==8.1.1->-r requirements.txt (line 11)) (4.0.14)\n",
      "Requirement already satisfied: jupyterlab-widgets~=3.0.9 in ./.venv/lib/python3.13/site-packages (from ipywidgets==8.1.1->-r requirements.txt (line 11)) (3.0.15)\n",
      "Requirement already satisfied: charset-normalizer<4,>=2 in ./.venv/lib/python3.13/site-packages (from requests==2.31.0->-r requirements.txt (line 12)) (3.4.2)\n",
      "Requirement already satisfied: idna<4,>=2.5 in ./.venv/lib/python3.13/site-packages (from requests==2.31.0->-r requirements.txt (line 12)) (3.10)\n",
      "Requirement already satisfied: certifi>=2017.4.17 in ./.venv/lib/python3.13/site-packages (from requests==2.31.0->-r requirements.txt (line 12)) (2025.7.14)\n",
      "Requirement already satisfied: qtconsole in ./.venv/lib/python3.13/site-packages (from jupyter==1.0.0->-r requirements.txt (line 13)) (5.6.1)\n",
      "Requirement already satisfied: jupyter-console in ./.venv/lib/python3.13/site-packages (from jupyter==1.0.0->-r requirements.txt (line 13)) (6.6.3)\n",
      "Requirement already satisfied: nbconvert in ./.venv/lib/python3.13/site-packages (from jupyter==1.0.0->-r requirements.txt (line 13)) (7.16.6)\n",
      "Requirement already satisfied: ipykernel in ./.venv/lib/python3.13/site-packages (from jupyter==1.0.0->-r requirements.txt (line 13)) (6.30.0)\n",
      "Requirement already satisfied: jupyter-server<3,>=2.4.0 in ./.venv/lib/python3.13/site-packages (from notebook==7.0.6->-r requirements.txt (line 14)) (2.16.0)\n",
      "Requirement already satisfied: jupyterlab-server<3,>=2.22.1 in ./.venv/lib/python3.13/site-packages (from notebook==7.0.6->-r requirements.txt (line 14)) (2.27.3)\n",
      "Requirement already satisfied: jupyterlab<5,>=4.0.2 in ./.venv/lib/python3.13/site-packages (from notebook==7.0.6->-r requirements.txt (line 14)) (4.4.5)\n",
      "Requirement already satisfied: notebook-shim<0.3,>=0.2 in ./.venv/lib/python3.13/site-packages (from notebook==7.0.6->-r requirements.txt (line 14)) (0.2.4)\n",
      "Requirement already satisfied: tornado>=6.2.0 in ./.venv/lib/python3.13/site-packages (from notebook==7.0.6->-r requirements.txt (line 14)) (6.5.1)\n",
      "Requirement already satisfied: anyio>=3.1.0 in ./.venv/lib/python3.13/site-packages (from jupyter-server<3,>=2.4.0->notebook==7.0.6->-r requirements.txt (line 14)) (4.9.0)\n",
      "Requirement already satisfied: argon2-cffi>=21.1 in ./.venv/lib/python3.13/site-packages (from jupyter-server<3,>=2.4.0->notebook==7.0.6->-r requirements.txt (line 14)) (25.1.0)\n",
      "Requirement already satisfied: jupyter-client>=7.4.4 in ./.venv/lib/python3.13/site-packages (from jupyter-server<3,>=2.4.0->notebook==7.0.6->-r requirements.txt (line 14)) (8.6.3)\n",
      "Requirement already satisfied: jupyter-core!=5.0.*,>=4.12 in ./.venv/lib/python3.13/site-packages (from jupyter-server<3,>=2.4.0->notebook==7.0.6->-r requirements.txt (line 14)) (5.8.1)\n",
      "Requirement already satisfied: jupyter-events>=0.11.0 in ./.venv/lib/python3.13/site-packages (from jupyter-server<3,>=2.4.0->notebook==7.0.6->-r requirements.txt (line 14)) (0.12.0)\n",
      "Requirement already satisfied: jupyter-server-terminals>=0.4.4 in ./.venv/lib/python3.13/site-packages (from jupyter-server<3,>=2.4.0->notebook==7.0.6->-r requirements.txt (line 14)) (0.5.3)\n",
      "Requirement already satisfied: nbformat>=5.3.0 in ./.venv/lib/python3.13/site-packages (from jupyter-server<3,>=2.4.0->notebook==7.0.6->-r requirements.txt (line 14)) (5.10.4)\n",
      "Requirement already satisfied: overrides>=5.0 in ./.venv/lib/python3.13/site-packages (from jupyter-server<3,>=2.4.0->notebook==7.0.6->-r requirements.txt (line 14)) (7.7.0)\n",
      "Requirement already satisfied: packaging>=22.0 in ./.venv/lib/python3.13/site-packages (from jupyter-server<3,>=2.4.0->notebook==7.0.6->-r requirements.txt (line 14)) (25.0)\n",
      "Requirement already satisfied: prometheus-client>=0.9 in ./.venv/lib/python3.13/site-packages (from jupyter-server<3,>=2.4.0->notebook==7.0.6->-r requirements.txt (line 14)) (0.22.1)\n",
      "Requirement already satisfied: pyzmq>=24 in ./.venv/lib/python3.13/site-packages (from jupyter-server<3,>=2.4.0->notebook==7.0.6->-r requirements.txt (line 14)) (27.0.0)\n",
      "Requirement already satisfied: send2trash>=1.8.2 in ./.venv/lib/python3.13/site-packages (from jupyter-server<3,>=2.4.0->notebook==7.0.6->-r requirements.txt (line 14)) (1.8.3)\n",
      "Requirement already satisfied: terminado>=0.8.3 in ./.venv/lib/python3.13/site-packages (from jupyter-server<3,>=2.4.0->notebook==7.0.6->-r requirements.txt (line 14)) (0.18.1)\n",
      "Requirement already satisfied: websocket-client>=1.7 in ./.venv/lib/python3.13/site-packages (from jupyter-server<3,>=2.4.0->notebook==7.0.6->-r requirements.txt (line 14)) (1.8.0)\n",
      "Requirement already satisfied: async-lru>=1.0.0 in ./.venv/lib/python3.13/site-packages (from jupyterlab<5,>=4.0.2->notebook==7.0.6->-r requirements.txt (line 14)) (2.0.5)\n",
      "Requirement already satisfied: httpx>=0.25.0 in ./.venv/lib/python3.13/site-packages (from jupyterlab<5,>=4.0.2->notebook==7.0.6->-r requirements.txt (line 14)) (0.28.1)\n",
      "Requirement already satisfied: jupyter-lsp>=2.0.0 in ./.venv/lib/python3.13/site-packages (from jupyterlab<5,>=4.0.2->notebook==7.0.6->-r requirements.txt (line 14)) (2.2.6)\n",
      "Requirement already satisfied: setuptools>=41.1.0 in ./.venv/lib/python3.13/site-packages (from jupyterlab<5,>=4.0.2->notebook==7.0.6->-r requirements.txt (line 14)) (80.9.0)\n",
      "Requirement already satisfied: babel>=2.10 in ./.venv/lib/python3.13/site-packages (from jupyterlab-server<3,>=2.22.1->notebook==7.0.6->-r requirements.txt (line 14)) (2.17.0)\n",
      "Requirement already satisfied: json5>=0.9.0 in ./.venv/lib/python3.13/site-packages (from jupyterlab-server<3,>=2.22.1->notebook==7.0.6->-r requirements.txt (line 14)) (0.12.0)\n",
      "Requirement already satisfied: jsonschema>=4.18.0 in ./.venv/lib/python3.13/site-packages (from jupyterlab-server<3,>=2.22.1->notebook==7.0.6->-r requirements.txt (line 14)) (4.25.0)\n",
      "Requirement already satisfied: six>=1.5 in ./.venv/lib/python3.13/site-packages (from python-dateutil<3.0.0,>=2.1->botocore==1.40.3->-r requirements.txt (line 4)) (1.17.0)\n",
      "Requirement already satisfied: sniffio>=1.1 in ./.venv/lib/python3.13/site-packages (from anyio>=3.1.0->jupyter-server<3,>=2.4.0->notebook==7.0.6->-r requirements.txt (line 14)) (1.3.1)\n",
      "Requirement already satisfied: argon2-cffi-bindings in ./.venv/lib/python3.13/site-packages (from argon2-cffi>=21.1->jupyter-server<3,>=2.4.0->notebook==7.0.6->-r requirements.txt (line 14)) (25.1.0)\n",
      "Requirement already satisfied: httpcore==1.* in ./.venv/lib/python3.13/site-packages (from httpx>=0.25.0->jupyterlab<5,>=4.0.2->notebook==7.0.6->-r requirements.txt (line 14)) (1.0.9)\n",
      "Requirement already satisfied: h11>=0.16 in ./.venv/lib/python3.13/site-packages (from httpcore==1.*->httpx>=0.25.0->jupyterlab<5,>=4.0.2->notebook==7.0.6->-r requirements.txt (line 14)) (0.16.0)\n",
      "Requirement already satisfied: appnope>=0.1.2 in ./.venv/lib/python3.13/site-packages (from ipykernel->jupyter==1.0.0->-r requirements.txt (line 13)) (0.1.4)\n",
      "Requirement already satisfied: debugpy>=1.6.5 in ./.venv/lib/python3.13/site-packages (from ipykernel->jupyter==1.0.0->-r requirements.txt (line 13)) (1.8.15)\n",
      "Requirement already satisfied: matplotlib-inline>=0.1 in ./.venv/lib/python3.13/site-packages (from ipykernel->jupyter==1.0.0->-r requirements.txt (line 13)) (0.1.7)\n",
      "Requirement already satisfied: nest-asyncio>=1.4 in ./.venv/lib/python3.13/site-packages (from ipykernel->jupyter==1.0.0->-r requirements.txt (line 13)) (1.6.0)\n",
      "Requirement already satisfied: psutil>=5.7 in ./.venv/lib/python3.13/site-packages (from ipykernel->jupyter==1.0.0->-r requirements.txt (line 13)) (7.0.0)\n",
      "Requirement already satisfied: decorator in ./.venv/lib/python3.13/site-packages (from ipython>=6.1.0->ipywidgets==8.1.1->-r requirements.txt (line 11)) (5.2.1)\n",
      "Requirement already satisfied: ipython-pygments-lexers in ./.venv/lib/python3.13/site-packages (from ipython>=6.1.0->ipywidgets==8.1.1->-r requirements.txt (line 11)) (1.1.1)\n",
      "Requirement already satisfied: jedi>=0.16 in ./.venv/lib/python3.13/site-packages (from ipython>=6.1.0->ipywidgets==8.1.1->-r requirements.txt (line 11)) (0.19.2)\n",
      "Requirement already satisfied: pexpect>4.3 in ./.venv/lib/python3.13/site-packages (from ipython>=6.1.0->ipywidgets==8.1.1->-r requirements.txt (line 11)) (4.9.0)\n",
      "Requirement already satisfied: prompt_toolkit<3.1.0,>=3.0.41 in ./.venv/lib/python3.13/site-packages (from ipython>=6.1.0->ipywidgets==8.1.1->-r requirements.txt (line 11)) (3.0.51)\n",
      "Requirement already satisfied: pygments>=2.4.0 in ./.venv/lib/python3.13/site-packages (from ipython>=6.1.0->ipywidgets==8.1.1->-r requirements.txt (line 11)) (2.19.2)\n",
      "Requirement already satisfied: stack_data in ./.venv/lib/python3.13/site-packages (from ipython>=6.1.0->ipywidgets==8.1.1->-r requirements.txt (line 11)) (0.6.3)\n",
      "Requirement already satisfied: wcwidth in ./.venv/lib/python3.13/site-packages (from prompt_toolkit<3.1.0,>=3.0.41->ipython>=6.1.0->ipywidgets==8.1.1->-r requirements.txt (line 11)) (0.2.13)\n",
      "Requirement already satisfied: parso<0.9.0,>=0.8.4 in ./.venv/lib/python3.13/site-packages (from jedi>=0.16->ipython>=6.1.0->ipywidgets==8.1.1->-r requirements.txt (line 11)) (0.8.4)\n",
      "Requirement already satisfied: attrs>=22.2.0 in ./.venv/lib/python3.13/site-packages (from jsonschema>=4.18.0->jupyterlab-server<3,>=2.22.1->notebook==7.0.6->-r requirements.txt (line 14)) (25.3.0)\n",
      "Requirement already satisfied: jsonschema-specifications>=2023.03.6 in ./.venv/lib/python3.13/site-packages (from jsonschema>=4.18.0->jupyterlab-server<3,>=2.22.1->notebook==7.0.6->-r requirements.txt (line 14)) (2025.4.1)\n",
      "Requirement already satisfied: referencing>=0.28.4 in ./.venv/lib/python3.13/site-packages (from jsonschema>=4.18.0->jupyterlab-server<3,>=2.22.1->notebook==7.0.6->-r requirements.txt (line 14)) (0.36.2)\n",
      "Requirement already satisfied: rpds-py>=0.7.1 in ./.venv/lib/python3.13/site-packages (from jsonschema>=4.18.0->jupyterlab-server<3,>=2.22.1->notebook==7.0.6->-r requirements.txt (line 14)) (0.26.0)\n",
      "Requirement already satisfied: platformdirs>=2.5 in ./.venv/lib/python3.13/site-packages (from jupyter-core!=5.0.*,>=4.12->jupyter-server<3,>=2.4.0->notebook==7.0.6->-r requirements.txt (line 14)) (4.3.8)\n",
      "Requirement already satisfied: python-json-logger>=2.0.4 in ./.venv/lib/python3.13/site-packages (from jupyter-events>=0.11.0->jupyter-server<3,>=2.4.0->notebook==7.0.6->-r requirements.txt (line 14)) (3.3.0)\n",
      "Requirement already satisfied: pyyaml>=5.3 in ./.venv/lib/python3.13/site-packages (from jupyter-events>=0.11.0->jupyter-server<3,>=2.4.0->notebook==7.0.6->-r requirements.txt (line 14)) (6.0.2)\n",
      "Requirement already satisfied: rfc3339-validator in ./.venv/lib/python3.13/site-packages (from jupyter-events>=0.11.0->jupyter-server<3,>=2.4.0->notebook==7.0.6->-r requirements.txt (line 14)) (0.1.4)\n",
      "Requirement already satisfied: rfc3986-validator>=0.1.1 in ./.venv/lib/python3.13/site-packages (from jupyter-events>=0.11.0->jupyter-server<3,>=2.4.0->notebook==7.0.6->-r requirements.txt (line 14)) (0.1.1)\n",
      "Requirement already satisfied: fqdn in ./.venv/lib/python3.13/site-packages (from jsonschema[format-nongpl]>=4.18.0->jupyter-events>=0.11.0->jupyter-server<3,>=2.4.0->notebook==7.0.6->-r requirements.txt (line 14)) (1.5.1)\n",
      "Requirement already satisfied: isoduration in ./.venv/lib/python3.13/site-packages (from jsonschema[format-nongpl]>=4.18.0->jupyter-events>=0.11.0->jupyter-server<3,>=2.4.0->notebook==7.0.6->-r requirements.txt (line 14)) (20.11.0)\n",
      "Requirement already satisfied: jsonpointer>1.13 in ./.venv/lib/python3.13/site-packages (from jsonschema[format-nongpl]>=4.18.0->jupyter-events>=0.11.0->jupyter-server<3,>=2.4.0->notebook==7.0.6->-r requirements.txt (line 14)) (3.0.0)\n",
      "Requirement already satisfied: rfc3987-syntax>=1.1.0 in ./.venv/lib/python3.13/site-packages (from jsonschema[format-nongpl]>=4.18.0->jupyter-events>=0.11.0->jupyter-server<3,>=2.4.0->notebook==7.0.6->-r requirements.txt (line 14)) (1.1.0)\n",
      "Requirement already satisfied: uri-template in ./.venv/lib/python3.13/site-packages (from jsonschema[format-nongpl]>=4.18.0->jupyter-events>=0.11.0->jupyter-server<3,>=2.4.0->notebook==7.0.6->-r requirements.txt (line 14)) (1.3.0)\n",
      "Requirement already satisfied: webcolors>=24.6.0 in ./.venv/lib/python3.13/site-packages (from jsonschema[format-nongpl]>=4.18.0->jupyter-events>=0.11.0->jupyter-server<3,>=2.4.0->notebook==7.0.6->-r requirements.txt (line 14)) (24.11.1)\n",
      "Requirement already satisfied: beautifulsoup4 in ./.venv/lib/python3.13/site-packages (from nbconvert->jupyter==1.0.0->-r requirements.txt (line 13)) (4.13.4)\n",
      "Requirement already satisfied: bleach!=5.0.0 in ./.venv/lib/python3.13/site-packages (from bleach[css]!=5.0.0->nbconvert->jupyter==1.0.0->-r requirements.txt (line 13)) (6.2.0)\n",
      "Requirement already satisfied: defusedxml in ./.venv/lib/python3.13/site-packages (from nbconvert->jupyter==1.0.0->-r requirements.txt (line 13)) (0.7.1)\n",
      "Requirement already satisfied: jupyterlab-pygments in ./.venv/lib/python3.13/site-packages (from nbconvert->jupyter==1.0.0->-r requirements.txt (line 13)) (0.3.0)\n",
      "Requirement already satisfied: mistune<4,>=2.0.3 in ./.venv/lib/python3.13/site-packages (from nbconvert->jupyter==1.0.0->-r requirements.txt (line 13)) (3.1.3)\n",
      "Requirement already satisfied: nbclient>=0.5.0 in ./.venv/lib/python3.13/site-packages (from nbconvert->jupyter==1.0.0->-r requirements.txt (line 13)) (0.10.2)\n",
      "Requirement already satisfied: pandocfilters>=1.4.1 in ./.venv/lib/python3.13/site-packages (from nbconvert->jupyter==1.0.0->-r requirements.txt (line 13)) (1.5.1)\n",
      "Requirement already satisfied: webencodings in ./.venv/lib/python3.13/site-packages (from bleach!=5.0.0->bleach[css]!=5.0.0->nbconvert->jupyter==1.0.0->-r requirements.txt (line 13)) (0.5.1)\n",
      "Requirement already satisfied: tinycss2<1.5,>=1.1.0 in ./.venv/lib/python3.13/site-packages (from bleach[css]!=5.0.0->nbconvert->jupyter==1.0.0->-r requirements.txt (line 13)) (1.4.0)\n",
      "Requirement already satisfied: fastjsonschema>=2.15 in ./.venv/lib/python3.13/site-packages (from nbformat>=5.3.0->jupyter-server<3,>=2.4.0->notebook==7.0.6->-r requirements.txt (line 14)) (2.21.1)\n",
      "Requirement already satisfied: ptyprocess>=0.5 in ./.venv/lib/python3.13/site-packages (from pexpect>4.3->ipython>=6.1.0->ipywidgets==8.1.1->-r requirements.txt (line 11)) (0.7.0)\n",
      "Requirement already satisfied: lark>=1.2.2 in ./.venv/lib/python3.13/site-packages (from rfc3987-syntax>=1.1.0->jsonschema[format-nongpl]>=4.18.0->jupyter-events>=0.11.0->jupyter-server<3,>=2.4.0->notebook==7.0.6->-r requirements.txt (line 14)) (1.2.2)\n",
      "Requirement already satisfied: cffi>=1.0.1 in ./.venv/lib/python3.13/site-packages (from argon2-cffi-bindings->argon2-cffi>=21.1->jupyter-server<3,>=2.4.0->notebook==7.0.6->-r requirements.txt (line 14)) (1.17.1)\n",
      "Requirement already satisfied: pycparser in ./.venv/lib/python3.13/site-packages (from cffi>=1.0.1->argon2-cffi-bindings->argon2-cffi>=21.1->jupyter-server<3,>=2.4.0->notebook==7.0.6->-r requirements.txt (line 14)) (2.22)\n",
      "Requirement already satisfied: soupsieve>1.2 in ./.venv/lib/python3.13/site-packages (from beautifulsoup4->nbconvert->jupyter==1.0.0->-r requirements.txt (line 13)) (2.7)\n",
      "Requirement already satisfied: typing-extensions>=4.0.0 in ./.venv/lib/python3.13/site-packages (from beautifulsoup4->nbconvert->jupyter==1.0.0->-r requirements.txt (line 13)) (4.14.1)\n",
      "Requirement already satisfied: arrow>=0.15.0 in ./.venv/lib/python3.13/site-packages (from isoduration->jsonschema[format-nongpl]>=4.18.0->jupyter-events>=0.11.0->jupyter-server<3,>=2.4.0->notebook==7.0.6->-r requirements.txt (line 14)) (1.3.0)\n",
      "Requirement already satisfied: types-python-dateutil>=2.8.10 in ./.venv/lib/python3.13/site-packages (from arrow>=0.15.0->isoduration->jsonschema[format-nongpl]>=4.18.0->jupyter-events>=0.11.0->jupyter-server<3,>=2.4.0->notebook==7.0.6->-r requirements.txt (line 14)) (2.9.0.20250708)\n",
      "Requirement already satisfied: qtpy>=2.4.0 in ./.venv/lib/python3.13/site-packages (from qtconsole->jupyter==1.0.0->-r requirements.txt (line 13)) (2.4.3)\n",
      "Requirement already satisfied: executing>=1.2.0 in ./.venv/lib/python3.13/site-packages (from stack_data->ipython>=6.1.0->ipywidgets==8.1.1->-r requirements.txt (line 11)) (2.2.0)\n",
      "Requirement already satisfied: asttokens>=2.1.0 in ./.venv/lib/python3.13/site-packages (from stack_data->ipython>=6.1.0->ipywidgets==8.1.1->-r requirements.txt (line 11)) (3.0.0)\n",
      "Requirement already satisfied: pure-eval in ./.venv/lib/python3.13/site-packages (from stack_data->ipython>=6.1.0->ipywidgets==8.1.1->-r requirements.txt (line 11)) (0.2.3)\n",
      "Downloading boto3-1.40.3-py3-none-any.whl (139 kB)\n",
      "Downloading botocore-1.40.3-py3-none-any.whl (14.0 MB)\n",
      "\u001b[2K   \u001b[90m━━━━━━━━━━━━━━━━━━━━━━━━━━━━━━━━━━━━━━━━\u001b[0m \u001b[32m14.0/14.0 MB\u001b[0m \u001b[31m1.2 MB/s\u001b[0m  \u001b[33m0:00:11\u001b[0mm0:00:01\u001b[0m00:01\u001b[0m\n",
      "\u001b[?25hInstalling collected packages: botocore, boto3\n",
      "\u001b[2K  Attempting uninstall: botocore\n",
      "\u001b[2K    Found existing installation: botocore 1.40.2\n",
      "\u001b[2K    Uninstalling botocore-1.40.2:\n",
      "\u001b[2K      Successfully uninstalled botocore-1.40.2\n",
      "\u001b[2K  Attempting uninstall: boto3━━━━━━━━━━━━━━━━━━━\u001b[0m \u001b[32m0/2\u001b[0m [botocore]\n",
      "\u001b[2K    Found existing installation: boto3 1.40.2[0m \u001b[32m0/2\u001b[0m [botocore]\n",
      "\u001b[2K    Uninstalling boto3-1.40.2:━━━━━━━━━━━━━━\u001b[0m \u001b[32m0/2\u001b[0m [botocore]\n",
      "\u001b[2K      Successfully uninstalled boto3-1.40.2━\u001b[0m \u001b[32m0/2\u001b[0m [botocore]\n",
      "\u001b[2K   \u001b[90m━━━━━━━━━━━━━━━━━━━━━━━━━━━━━━━━━━━━━━━━\u001b[0m \u001b[32m2/2\u001b[0m [boto3]\n",
      "\u001b[1A\u001b[2KSuccessfully installed boto3-1.40.3 botocore-1.40.3\n",
      "Note: you may need to restart the kernel to use updated packages.\n"
     ]
    }
   ],
   "source": [
    "\n",
    "%pip install -r requirements.txt\n"
   ]
  },
  {
   "cell_type": "code",
   "execution_count": 1,
   "metadata": {},
   "outputs": [
    {
     "name": "stderr",
     "output_type": "stream",
     "text": [
      "/var/folders/9h/jk764rms7493dnsp6_d37wqm0000gq/T/ipykernel_21412/3773303384.py:6: DeprecationWarning: \n",
      "Pyarrow will become a required dependency of pandas in the next major release of pandas (pandas 3.0),\n",
      "(to allow more performant data types, such as the Arrow string type, and better interoperability with other libraries)\n",
      "but was not found to be installed on your system.\n",
      "If this would cause problems for you,\n",
      "please provide us feedback at https://github.com/pandas-dev/pandas/issues/54466\n",
      "        \n",
      "  import pandas as pd\n"
     ]
    }
   ],
   "source": [
    "import os\n",
    "import json\n",
    "import boto3\n",
    "import uuid\n",
    "import time\n",
    "import pandas as pd\n",
    "from IPython.display import display, HTML, JSON\n",
    "import ipywidgets as widgets\n",
    "from datetime import datetime"
   ]
  },
  {
   "cell_type": "code",
   "execution_count": null,
   "metadata": {},
   "outputs": [],
   "source": [
    "REGION_NAME=\"\" # Fill in the AWS Region\n",
    "my_session = boto3.session.Session()\n",
    "runtime_client = my_session.client('bedrock-runtime', region_name=REGION_NAME)\n",
    "client = my_session.client('bedrock', region_name=REGION_NAME)"
   ]
  },
  {
   "cell_type": "markdown",
   "metadata": {},
   "source": [
    "## Create a Policy\n",
    "\n",
    "Now, let's create an automated reasoning policy using the Bedrock API."
   ]
  },
  {
   "cell_type": "code",
   "execution_count": 6,
   "metadata": {},
   "outputs": [],
   "source": [
    "def create_automated_reasoning_policy(policy_name=None, description=None):\n",
    "    \"\"\"\n",
    "    Create an automated reasoning policy using the Bedrock API.\n",
    "    \n",
    "    Args:\n",
    "        policy_name (str, optional): Name of the policy. If not provided, a random name will be generated.\n",
    "        description (str, optional): Description of the policy.\n",
    "        \n",
    "    Returns:\n",
    "        dict: Response from the API call.\n",
    "    \"\"\"\n",
    "    if policy_name is None:\n",
    "        policy_name = f\"policy{uuid.uuid4().hex[:6]}\"\n",
    "        \n",
    "    if description is None:\n",
    "        description = f\"Policy created from Jupyter notebook on {datetime.now().strftime('%Y-%m-%d %H:%M:%S')}\"\n",
    "    \n",
    "    print(f\"Creating policy: {policy_name}\")\n",
    "    print(f\"Description: {description}\")\n",
    "    \n",
    "    try:\n",
    "        response = client.create_automated_reasoning_policy(\n",
    "            name=policy_name,\n",
    "            description=description,\n",
    "            clientRequestToken=str(uuid.uuid4())\n",
    "        )\n",
    "        \n",
    "        policy_arn = response['policyArn']\n",
    "        policy_id = policy_arn.split('/')[-1]\n",
    "        \n",
    "        print(f\"Policy created successfully!\")\n",
    "        print(f\"Policy ARN: {policy_arn}\")\n",
    "        print(f\"Policy ID: {policy_id}\")\n",
    "        \n",
    "        return response\n",
    "    except Exception as e:\n",
    "        print(f\"Error creating policy: {str(e)}\")\n",
    "        raise"
   ]
  },
  {
   "cell_type": "code",
   "execution_count": 7,
   "metadata": {},
   "outputs": [
    {
     "name": "stdout",
     "output_type": "stream",
     "text": [
      "Creating policy: test-jupyter-policy-demo\n",
      "Description: Policy created from Jupyter notebook demo\n",
      "Policy created successfully!\n",
      "Policy ARN: arn:aws:bedrock:us-west-2:536697256976:automated-reasoning-policy/beagy8pgihbr\n",
      "Policy ID: beagy8pgihbr\n"
     ]
    },
    {
     "data": {
      "application/json": {
       "ResponseMetadata": {
        "HTTPHeaders": {
         "connection": "keep-alive",
         "content-length": "430",
         "content-type": "application/json",
         "date": "Wed, 06 Aug 2025 10:26:57 GMT",
         "x-amzn-requestid": "f5e7ce58-3cdd-4e97-838f-6cc4485b1779"
        },
        "HTTPStatusCode": 200,
        "RequestId": "f5e7ce58-3cdd-4e97-838f-6cc4485b1779",
        "RetryAttempts": 0
       },
       "createdAt": "2025-08-06T10:26:56.963000Z",
       "definitionHash": "f16ba1ceca36e1d21adce559481add6a4998b79ae203d933fd0206a28d5c2896513dd62f57b293cba282441269a72063b1d9da02fcf2b421e9bf8495ff8c87af",
       "description": "Policy created from Jupyter notebook demo",
       "name": "test-jupyter-policy-demo",
       "policyArn": "arn:aws:bedrock:us-west-2:536697256976:automated-reasoning-policy/beagy8pgihbr",
       "updatedAt": "2025-08-06T10:26:56.963000Z",
       "version": "DRAFT"
      },
      "text/plain": [
       "<IPython.core.display.JSON object>"
      ]
     },
     "execution_count": 7,
     "metadata": {
      "application/json": {
       "expanded": false,
       "root": "root"
      }
     },
     "output_type": "execute_result"
    }
   ],
   "source": [
    "# Create a policy\n",
    "policy_response = create_automated_reasoning_policy(\n",
    "    policy_name=\"test-jupyter-policy-demo\",\n",
    "    description=\"Policy created from Jupyter notebook demo\"\n",
    ")\n",
    "\n",
    "# Extract policy ARN and ID\n",
    "policy_arn = policy_response['policyArn']\n",
    "policy_id = policy_arn.split('/')[-1]\n",
    "\n",
    "# Display the response as JSON\n",
    "JSON(policy_response)"
   ]
  },
  {
   "cell_type": "markdown",
   "metadata": {},
   "source": [
    "## Upload a Document and Start a Build Workflow\n",
    "\n",
    "Now, let's upload a document and start a build workflow to process it."
   ]
  },
  {
   "cell_type": "code",
   "execution_count": 12,
   "metadata": {},
   "outputs": [],
   "source": [
    "def read_document(file_path):\n",
    "    \"\"\"\n",
    "    Read a document from a file.\n",
    "    \n",
    "    Args:\n",
    "        file_path (str): Path to the document file.\n",
    "        \n",
    "    Returns:\n",
    "        bytes: Document content.\n",
    "        str: Document content type.\n",
    "    \"\"\"\n",
    "    try:\n",
    "        with open(file_path, 'rb') as f:\n",
    "            document_content = f.read()\n",
    "        \n",
    "        # Determine document content type based on file extension\n",
    "        if file_path.endswith('.pdf'):\n",
    "            content_type = 'pdf'\n",
    "        elif file_path.endswith('.txt'):\n",
    "            content_type = 'txt'\n",
    "        elif file_path.endswith('.json'):\n",
    "            content_type = 'txt'  # JSON is treated as text\n",
    "        else:\n",
    "            content_type = 'txt'  # Default to text\n",
    "        \n",
    "        return document_content, content_type\n",
    "    except Exception as e:\n",
    "        print(f\"Error reading document: {str(e)}\")\n",
    "        raise"
   ]
  },
  {
   "cell_type": "code",
   "execution_count": 13,
   "metadata": {},
   "outputs": [],
   "source": [
    "def start_build_workflow(policy_arn, document_path, instructions):\n",
    "    \"\"\"\n",
    "    Start a build workflow to process a document.\n",
    "    \n",
    "    Args:\n",
    "        policy_arn (str): ARN of the policy.\n",
    "        document_path (str): Path to the document file.\n",
    "        instructions (str): Instructions for policy creation.\n",
    "        \n",
    "    Returns:\n",
    "        dict: Response from the API call.\n",
    "    \"\"\"\n",
    "    try:\n",
    "        # Read the document content\n",
    "        document_content, content_type = read_document(document_path)\n",
    "        \n",
    "        print(f\"Starting build workflow for policy: {policy_arn}\")\n",
    "        print(f\"Document: {os.path.basename(document_path)} ({content_type})\")\n",
    "        print(f\"Instructions: {instructions}\")\n",
    "        \n",
    "        response = client.start_automated_reasoning_policy_build_workflow(\n",
    "            policyArn=policy_arn,\n",
    "            buildWorkflowType='INGEST_CONTENT',\n",
    "            clientRequestToken=str(uuid.uuid4()),\n",
    "            sourceContent={\n",
    "                'workflowContent': {\n",
    "                    'documents': [{\n",
    "                        'document': document_content,\n",
    "                        'documentContentType': content_type,\n",
    "                        'documentName': os.path.basename(document_path),\n",
    "                        'documentDescription': instructions\n",
    "                    }]\n",
    "                }\n",
    "            }\n",
    "        )\n",
    "        \n",
    "        build_workflow_id = response['buildWorkflowId']\n",
    "        print(f\"Build workflow started successfully!\")\n",
    "        print(f\"Build workflow ID: {build_workflow_id}\")\n",
    "        \n",
    "        return response\n",
    "    except Exception as e:\n",
    "        print(f\"Error starting build workflow: {str(e)}\")\n",
    "        raise"
   ]
  },
  {
   "cell_type": "code",
   "execution_count": 14,
   "metadata": {},
   "outputs": [
    {
     "name": "stdout",
     "output_type": "stream",
     "text": [
      "Starting build workflow for policy: arn:aws:bedrock:us-west-2:536697256976:automated-reasoning-policy/98zma3ezks1t\n",
      "Document: sample_medical_policy.pdf (pdf)\n",
      "Instructions: \n",
      "Create a policy that enforces the rules in the provided document.\n",
      "The policy should focus on data protection, access control, and compliance requirements.\n",
      "\n",
      "Build workflow started successfully!\n",
      "Build workflow ID: c914c3b3-f0f3-45da-8aed-6a686286f0e5\n"
     ]
    },
    {
     "data": {
      "application/json": {
       "ResponseMetadata": {
        "HTTPHeaders": {
         "connection": "keep-alive",
         "content-length": "151",
         "content-type": "application/json",
         "date": "Fri, 01 Aug 2025 02:51:26 GMT",
         "x-amzn-requestid": "87bb08da-5d74-4958-814b-6b4788f2506b"
        },
        "HTTPStatusCode": 200,
        "RequestId": "87bb08da-5d74-4958-814b-6b4788f2506b",
        "RetryAttempts": 0
       },
       "buildWorkflowId": "c914c3b3-f0f3-45da-8aed-6a686286f0e5",
       "policyArn": "arn:aws:bedrock:us-west-2:536697256976:automated-reasoning-policy/98zma3ezks1t"
      },
      "text/plain": [
       "<IPython.core.display.JSON object>"
      ]
     },
     "execution_count": 14,
     "metadata": {
      "application/json": {
       "expanded": false,
       "root": "root"
      }
     },
     "output_type": "execute_result"
    }
   ],
   "source": [
    "# Path to the document file\n",
    "document_path = 'uploads/sample_medical_policy.pdf'\n",
    "\n",
    "# Instructions for policy creation\n",
    "instructions = \"\"\"\n",
    "Create a policy that enforces the rules in the provided document.\n",
    "The policy should focus on data protection, access control, and compliance requirements.\n",
    "\"\"\"\n",
    "\n",
    "# Start a build workflow\n",
    "build_workflow_response = start_build_workflow(\n",
    "    policy_arn=policy_arn,\n",
    "    document_path=document_path,\n",
    "    instructions=instructions\n",
    ")\n",
    "\n",
    "# Extract build workflow ID\n",
    "build_workflow_id = build_workflow_response['buildWorkflowId']\n",
    "\n",
    "# Display the response as JSON\n",
    "JSON(build_workflow_response)"
   ]
  },
  {
   "cell_type": "markdown",
   "metadata": {},
   "source": [
    "## Monitor Build Workflow Status\n",
    "\n",
    "Now, let's monitor the build workflow status using a progress bar and periodic updates."
   ]
  },
  {
   "cell_type": "code",
   "execution_count": 15,
   "metadata": {},
   "outputs": [],
   "source": [
    "def check_build_workflow_status(policy_arn, build_workflow_id):\n",
    "    \"\"\"\n",
    "    Check the status of a build workflow.\n",
    "    \n",
    "    Args:\n",
    "        policy_arn (str): ARN of the policy.\n",
    "        build_workflow_id (str): ID of the build workflow.\n",
    "        \n",
    "    Returns:\n",
    "        dict: Response from the API call.\n",
    "    \"\"\"\n",
    "    try:\n",
    "        response = client.get_automated_reasoning_policy_build_workflow(\n",
    "            policyArn=policy_arn,\n",
    "            buildWorkflowId=build_workflow_id\n",
    "        )\n",
    "        \n",
    "        return response\n",
    "    except Exception as e:\n",
    "        print(f\"Error checking build workflow status: {str(e)}\")\n",
    "        raise"
   ]
  },
  {
   "cell_type": "code",
   "execution_count": 16,
   "metadata": {},
   "outputs": [],
   "source": [
    "def check_policy_status(policy_arn):\n",
    "    \"\"\"\n",
    "    Check the status of a policy.\n",
    "    \n",
    "    Args:\n",
    "        policy_arn (str): ARN of the policy.\n",
    "        \n",
    "    Returns:\n",
    "        dict: Response from the API call.\n",
    "    \"\"\"\n",
    "    try:\n",
    "        # Get policy details\n",
    "        policy = client.get_automated_reasoning_policy(\n",
    "            policyArn=policy_arn\n",
    "        )\n",
    "        \n",
    "        # Try to export the policy definition to check if it's active\n",
    "        try:\n",
    "            export_response = client.export_automated_reasoning_policy_version(\n",
    "                policyArn=policy_arn\n",
    "            )\n",
    "            \n",
    "            # If we get here, the policy is active\n",
    "            policy_status = 'ACTIVE'\n",
    "            policy['status'] = policy_status\n",
    "            policy['policy_definition'] = export_response.get('policyDefinition', {})\n",
    "        except Exception as e:\n",
    "            # Policy is still processing\n",
    "            policy_status = 'PROCESSING'\n",
    "            policy['status'] = policy_status\n",
    "        \n",
    "        return policy\n",
    "    except Exception as e:\n",
    "        print(f\"Error checking policy status: {str(e)}\")\n",
    "        raise"
   ]
  },
  {
   "cell_type": "code",
   "execution_count": null,
   "metadata": {},
   "outputs": [
    {
     "data": {
      "application/vnd.jupyter.widget-view+json": {
       "model_id": "4059882edae9453e9f84059ae4745bc4",
       "version_major": 2,
       "version_minor": 0
      },
      "text/plain": [
       "HTML(value='<b>Status:</b> Initializing...')"
      ]
     },
     "metadata": {},
     "output_type": "display_data"
    },
    {
     "data": {
      "application/vnd.jupyter.widget-view+json": {
       "model_id": "1fc9ffd0996f4e31a6a85ad1e90ae0a5",
       "version_major": 2,
       "version_minor": 0
      },
      "text/plain": [
       "IntProgress(value=0, bar_style='info', description='Progress:')"
      ]
     },
     "metadata": {},
     "output_type": "display_data"
    },
    {
     "data": {
      "application/vnd.jupyter.widget-view+json": {
       "model_id": "d6c0ec1749b84750b0860dcd42372411",
       "version_major": 2,
       "version_minor": 0
      },
      "text/plain": [
       "Output()"
      ]
     },
     "metadata": {},
     "output_type": "display_data"
    }
   ],
   "source": [
    "# Create widgets for monitoring\n",
    "status_output = widgets.Output()\n",
    "progress_bar = widgets.IntProgress(\n",
    "    value=0,\n",
    "    min=0,\n",
    "    max=100,\n",
    "    description='Progress:',\n",
    "    bar_style='info',\n",
    "    orientation='horizontal'\n",
    ")\n",
    "status_text = widgets.HTML(value=\"<b>Status:</b> Initializing...\")\n",
    "\n",
    "# Display the widgets\n",
    "display(status_text)\n",
    "display(progress_bar)\n",
    "display(status_output)\n",
    "\n",
    "# Monitor the build workflow status\n",
    "max_attempts = 30\n",
    "poll_interval = 10  # seconds\n",
    "policy_active = False\n",
    "\n",
    "for attempt in range(max_attempts):\n",
    "    # Check build workflow status\n",
    "    build_workflow_response = check_build_workflow_status(policy_arn, build_workflow_id)\n",
    "    build_status = build_workflow_response.get('status', 'UNKNOWN')\n",
    "    \n",
    "    # Check policy status\n",
    "    policy_response = check_policy_status(policy_arn)\n",
    "    policy_status = policy_response.get('status', 'UNKNOWN')\n",
    "    \n",
    "    # Calculate progress\n",
    "    progress = 0\n",
    "    if build_status == 'SCHEDULED':\n",
    "        progress = 10\n",
    "    elif build_status == 'PREPROCESSING':\n",
    "        progress = 20\n",
    "    elif build_status == 'BUILDING':\n",
    "        progress = 50\n",
    "    elif build_status == 'TESTING':\n",
    "        progress = 75\n",
    "    elif build_status == 'COMPLETED':\n",
    "        progress = 90\n",
    "    \n",
    "    if policy_status == 'ACTIVE':\n",
    "        progress = 100\n",
    "        policy_active = True\n",
    "    \n",
    "    # Update the widgets\n",
    "    progress_bar.value = progress\n",
    "    status_text.value = f\"<b>Status:</b> Build workflow: {build_status}, Policy: {policy_status}\"\n",
    "    \n",
    "    with status_output:\n",
    "        print(f\"Check {attempt + 1}: Build workflow status: {build_status}, Policy status: {policy_status}\")\n",
    "    \n",
    "    # If the policy is active, we're done\n",
    "    if policy_active:\n",
    "        progress_bar.bar_style = 'success'\n",
    "        break\n",
    "    \n",
    "    # If the build workflow failed, we're done\n",
    "    if build_status in ['FAILED', 'CANCELLED']:\n",
    "        progress_bar.bar_style = 'danger'\n",
    "        with status_output:\n",
    "            print(f\"Build workflow failed or was cancelled.\")\n",
    "        break\n",
    "    \n",
    "    # Wait before the next check\n",
    "    if attempt < max_attempts - 1:\n",
    "        time.sleep(poll_interval)\n",
    "\n",
    "# Final status update\n",
    "if policy_active:\n",
    "    status_text.value = f\"<b>Status:</b> Policy is ACTIVE and ready to use!\"\n",
    "else:\n",
    "    status_text.value = f\"<b>Status:</b> Policy is not yet active. Build workflow status: {build_status}\""
   ]
  },
  {
   "cell_type": "markdown",
   "metadata": {},
   "source": [
    "## Retrieve Policy Definition\n",
    "\n",
    "Now, let's retrieve the policy definition once the policy is active."
   ]
  },
  {
   "cell_type": "code",
   "execution_count": 18,
   "metadata": {},
   "outputs": [],
   "source": [
    "def get_policy_definition(policy_arn):\n",
    "    \"\"\"\n",
    "    Get the policy definition.\n",
    "    \n",
    "    Args:\n",
    "        policy_arn (str): ARN of the policy.\n",
    "        \n",
    "    Returns:\n",
    "        dict: Policy definition.\n",
    "    \"\"\"\n",
    "    try:\n",
    "        response = client.export_automated_reasoning_policy_version(\n",
    "            policyArn=policy_arn\n",
    "        )\n",
    "        \n",
    "        return response.get('policyDefinition', {})\n",
    "    except Exception as e:\n",
    "        print(f\"Error getting policy definition: {str(e)}\")\n",
    "        raise"
   ]
  },
  {
   "cell_type": "code",
   "execution_count": 22,
   "metadata": {},
   "outputs": [
    {
     "name": "stdout",
     "output_type": "stream",
     "text": [
      "Policy definition retrieved successfully!\n",
      "{'rules': [], 'types': [], 'variables': [], 'version': '1'}\n"
     ]
    }
   ],
   "source": [
    "import pprint\n",
    "# Get the policy definition\n",
    "if policy_active:\n",
    "    policy_definition = get_policy_definition(policy_arn)\n",
    "    print(f\"Policy definition retrieved successfully!\")\n",
    "    \n",
    "    # Display the policy definition as JSON\n",
    "    pprint.pprint(policy_definition, compact=True)\n",
    "else:\n",
    "    print(\"Policy is not yet active. Cannot retrieve policy definition.\")"
   ]
  },
  {
   "cell_type": "code",
   "execution_count": 20,
   "metadata": {},
   "outputs": [],
   "source": [
    "def extract_rules_from_document(document_path):\n",
    "    \"\"\"\n",
    "    Extract rules from the policy document\n",
    "    \n",
    "    Args:\n",
    "        document_path (str): Path to the document file.\n",
    "        \n",
    "    Returns:\n",
    "        list: Extracted rules.\n",
    "    \"\"\"\n",
    "    document_format = document_path.split('.')[-1].lower()\n",
    "    rules = []\n",
    "    \n",
    "    try:\n",
    "        # For JSON format\n",
    "        if document_format == 'json':\n",
    "            with open(document_path, 'r', encoding='utf-8') as f:\n",
    "                data = json.load(f)\n",
    "                \n",
    "                # Extract rules from the JSON structure\n",
    "                if 'policy_sections' in data:\n",
    "                    for section in data['policy_sections']:\n",
    "                        section_id = section.get('section_id', '')\n",
    "                        section_title = section.get('title', '')\n",
    "                        \n",
    "                        if 'rules' in section:\n",
    "                            for rule in section['rules']:\n",
    "                                rule_id = rule.get('rule_id', '')\n",
    "                                description = rule.get('description', '')\n",
    "                                examples = rule.get('examples', [])\n",
    "                                \n",
    "                                rules.append({\n",
    "                                    'section_id': section_id,\n",
    "                                    'section_title': section_title,\n",
    "                                    'rule_id': rule_id,\n",
    "                                    'description': description,\n",
    "                                    'examples': examples\n",
    "                                })\n",
    "        \n",
    "        # For text format\n",
    "        elif document_format == 'txt':\n",
    "            with open(document_path, 'r', encoding='utf-8') as f:\n",
    "                content = f.read()\n",
    "                \n",
    "                # Parse rules from text format\n",
    "                # This is a simple parser that looks for \"Rule X.Y:\" patterns\n",
    "                import re\n",
    "                \n",
    "                # Find sections\n",
    "                section_pattern = r'SECTION (\\d+): ([^\\n]+)'\n",
    "                sections = re.findall(section_pattern, content)\n",
    "                \n",
    "                # Find rules\n",
    "                rule_pattern = r'Rule (\\d+\\.\\d+): ([^\\n]+)'\n",
    "                rule_matches = re.findall(rule_pattern, content)\n",
    "                \n",
    "                # Map rules to sections\n",
    "                for rule_id, description in rule_matches:\n",
    "                    section_id = rule_id.split('.')[0]\n",
    "                    section_title = next((title for sid, title in sections if sid == section_id), '')\n",
    "                    \n",
    "                    # Find examples for this rule\n",
    "                    example_pattern = f\"Rule {rule_id}:.*?Examples:(.*?)(?=Rule|$)\"\n",
    "                    example_match = re.search(example_pattern, content, re.DOTALL)\n",
    "                    examples = []\n",
    "                    \n",
    "                    if example_match:\n",
    "                        examples_text = example_match.group(1).strip()\n",
    "                        examples = [ex.strip() for ex in examples_text.split(',')]\n",
    "                    \n",
    "                    rules.append({\n",
    "                        'section_id': section_id,\n",
    "                        'section_title': section_title,\n",
    "                        'rule_id': rule_id,\n",
    "                        'description': description,\n",
    "                        'examples': examples\n",
    "                    })\n",
    "        \n",
    "        # For PDF format (not implemented in this demo)\n",
    "        elif document_format == 'pdf':\n",
    "            # In a real application, you would use a PDF parsing library\n",
    "            # For this demo, we'll return an empty list\n",
    "            print(\"PDF parsing is not implemented\")\n",
    "    \n",
    "    except Exception as e:\n",
    "        print(f\"Error extracting rules: {str(e)}\")\n",
    "    \n",
    "    return rules"
   ]
  },
  {
   "cell_type": "code",
   "execution_count": 21,
   "metadata": {},
   "outputs": [
    {
     "name": "stdout",
     "output_type": "stream",
     "text": [
      "PDF parsing is not implemented\n",
      "Extracted 0 rules from the document.\n",
      "No rules extracted from the document.\n"
     ]
    }
   ],
   "source": [
    "# Extract rules from the document\n",
    "rules = extract_rules_from_document(document_path)\n",
    "print(f\"Extracted {len(rules)} rules from the document.\")\n",
    "\n",
    "# Display the rules as a DataFrame\n",
    "if rules:\n",
    "    rules_df = pd.DataFrame(rules)\n",
    "    display(rules_df)\n",
    "else:\n",
    "    print(\"No rules extracted from the document.\")"
   ]
  },
  {
   "cell_type": "markdown",
   "metadata": {},
   "source": [
    "## Conclusion\n",
    "\n",
    "In this notebook, we've demonstrated how to:\n",
    "\n",
    "1. Set up the Bedrock client with custom API models\n",
    "2. Create an automated reasoning policy\n",
    "3. Start a build workflow to process a document\n",
    "4. Monitor the build workflow status\n",
    "5. Retrieve the policy definition\n",
    "6. Extract rules from the policy document\n",
    "\n",
    "This provides a foundation for working with automated reasoning policies in AWS Bedrock."
   ]
  }
 ],
 "metadata": {
  "kernelspec": {
   "display_name": ".venv",
   "language": "python",
   "name": "python3"
  },
  "language_info": {
   "codemirror_mode": {
    "name": "ipython",
    "version": 3
   },
   "file_extension": ".py",
   "mimetype": "text/x-python",
   "name": "python",
   "nbconvert_exporter": "python",
   "pygments_lexer": "ipython3",
   "version": "3.13.0"
  }
 },
 "nbformat": 4,
 "nbformat_minor": 4
}
