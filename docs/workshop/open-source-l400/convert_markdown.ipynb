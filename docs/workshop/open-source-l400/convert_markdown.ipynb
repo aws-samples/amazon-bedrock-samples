{
 "cells": [
  {
   "cell_type": "code",
   "execution_count": null,
   "metadata": {},
   "outputs": [],
   "source": [
    "!pip install markdown"
   ]
  },
  {
   "cell_type": "code",
   "execution_count": null,
   "metadata": {},
   "outputs": [],
   "source": [
    "!pwd"
   ]
  },
  {
   "cell_type": "code",
   "execution_count": null,
   "metadata": {},
   "outputs": [],
   "source": [
    "import os\n",
    "import glob\n",
    "\n",
    "# Specify the directory path\n",
    "directory_path = \"./amazon-bedrock-samples/docs/workshop/open-source-l400\"\n",
    "\n",
    "# Use glob to find all files with a specific pattern (e.g., *.txt)\n",
    "file_paths = glob.glob(os.path.join(f\"{directory_path}/oldfiles\", \"*.md\"))\n",
    "\n",
    "files_list = []\n",
    "for file_path in file_paths:\n",
    "    print(file_path)\n",
    "    file_name = os.path.basename(file_path)\n",
    "    files_list.append((file_name,file_path))"
   ]
  },
  {
   "cell_type": "code",
   "execution_count": null,
   "metadata": {},
   "outputs": [],
   "source": [
    "files_list[0]"
   ]
  },
  {
   "cell_type": "code",
   "execution_count": null,
   "metadata": {},
   "outputs": [],
   "source": [
    "import markdown\n",
    "# Open the file for reading and read the input to a temp variable\n",
    "for one_file in files_list:\n",
    "    with open(one_file[1], 'r') as f:\n",
    "        tempMd= f.read()\n",
    "\n",
    "    # Convert the input to HTML\n",
    "    tempHtml = markdown.markdown(tempMd)\n",
    "    # If necessary, could print or edit the results at this point.\n",
    "    # Open the HTML file and write the output.\n",
    "    new_file_name=os.path.join(directory_path,one_file[0])\n",
    "    with open(new_file_name, 'w') as f:\n",
    "        f.write(tempHtml)"
   ]
  },
  {
   "cell_type": "code",
   "execution_count": null,
   "metadata": {},
   "outputs": [],
   "source": []
  }
 ],
 "metadata": {
  "kernelspec": {
   "display_name": "trainenv",
   "language": "python",
   "name": "trainenv"
  },
  "language_info": {
   "codemirror_mode": {
    "name": "ipython",
    "version": 3
   },
   "file_extension": ".py",
   "mimetype": "text/x-python",
   "name": "python",
   "nbconvert_exporter": "python",
   "pygments_lexer": "ipython3",
   "version": "3.11.9"
  }
 },
 "nbformat": 4,
 "nbformat_minor": 2
}
