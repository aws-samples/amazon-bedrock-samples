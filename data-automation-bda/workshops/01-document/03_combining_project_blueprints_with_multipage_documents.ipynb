{
 "cells": [
  {
   "cell_type": "markdown",
   "id": "f8c367b1-d454-4690-ad8b-661a2c48e130",
   "metadata": {},
   "source": [
    "# Combining blueprints and data projects for multi page documents"
   ]
  },
  {
   "cell_type": "markdown",
   "id": "413716ac-5427-4fc7-93a9-588904e315de",
   "metadata": {},
   "source": [
    "## Introduction\n",
    "\n",
    "Data automation projects in Amazon Bedrock Data Automation (BDA) provide an easy way of grouping your standard and custom output configuration for processing files. You can create a BDA project and use the ARN of the project to call the `InvokeDataAutomationAsync` API. BDA processes the input file automatically using the configuration settings defined in that project. Output is then generated based on the project's configuration. You can use a single project resource for multiple file types. You can also configure a project with Blueprints to define custom output. \n",
    "\n",
    "When processing documents, you might want to use multiple blueprints for different kinds of documents that are passed to your project. BDA automatically matches your documents to the appropriate blueprint that's configured in your project, and generates custom output using that blueprint\n",
    "\n",
    "You can also configure a project with Blueprints for documents (or images), to define custom output. In this notebook, we will explore the capability of using project with blueprints for processing documents. We will start with creating a project and associate with multiple blueprints based on kind of documents we expect to process.  We will process a file with a number of different document types and explore how BDA matched the document types in the file to appropriate blueprint and use that to to extract insights from the document."
   ]
  },
  {
   "cell_type": "markdown",
   "id": "f2d0d9d9-cf99-4c6e-9a25-4a6473e28cdc",
   "metadata": {},
   "source": [
    "You can configure custom output for documents by adding a new blueprint (or a preexisting blueprint from BDA global catalog) to the BDA project. If your use case has different kinds of documents then you can use  multiple blueprints for the different document kinds with the project.\n",
    "\n",
    "**Note: A project can have up to 40 document blueprints attached.**\n",
    "\n",
    "When you attach multiple blueprints with a project, BDA would automatically find a blueprint that is closest match to the input document. Once a matching blueprint is found, BDA generates custom output using that blueprint.\n",
    "\n",
    "Let's go through the steps to creating a project and attaching a set of blueprints to process different file types."
   ]
  },
  {
   "cell_type": "markdown",
   "id": "32087d8d-bdec-4f2d-a6be-3eac9b1b9f8c",
   "metadata": {},
   "source": [
    "## Prerequisites"
   ]
  },
  {
   "cell_type": "code",
   "execution_count": null,
   "id": "b201923b-d528-4134-9008-8bb66fc0ee8f",
   "metadata": {},
   "outputs": [],
   "source": [
    "%pip install \"boto3>=1.37.4\" itables==2.2.4 pdf2image PyPDF2==3.0.1 --upgrade -qq"
   ]
  },
  {
   "cell_type": "code",
   "execution_count": null,
   "id": "5cb7192d-210d-4be7-9420-7830cf6c6a9c",
   "metadata": {
    "editable": true,
    "slideshow": {
     "slide_type": ""
    },
    "tags": []
   },
   "outputs": [],
   "source": [
    "%load_ext autoreload\n",
    "%autoreload 2"
   ]
  },
  {
   "cell_type": "markdown",
   "id": "0ecacbe4-bc6e-431b-b65d-cfdfc4fc3c46",
   "metadata": {},
   "source": [
    "## Setup"
   ]
  },
  {
   "cell_type": "markdown",
   "id": "4329ac90-4bd3-486b-ac34-1df59e4f1fd0",
   "metadata": {},
   "source": [
    "Before we get to the part where we invoke BDA with our sample artifacts, let's setup some parameters and configuration that will be used throughout this notebook."
   ]
  },
  {
   "cell_type": "code",
   "execution_count": null,
   "id": "42dde432-d43c-4e6f-aca7-d0687becb529",
   "metadata": {
    "editable": true,
    "slideshow": {
     "slide_type": ""
    },
    "tags": []
   },
   "outputs": [],
   "source": [
    "import boto3\n",
    "import json\n",
    "import pprint\n",
    "from IPython.display import JSON, display, IFrame, HTML\n",
    "import sagemaker\n",
    "import pandas as pd\n",
    "from itables import show\n",
    "import time\n",
    "from utils import helper_functions\n",
    "from utils import display_functions\n",
    "from pathlib import Path\n",
    "import os\n",
    "\n",
    "session = sagemaker.Session()\n",
    "default_bucket = session.default_bucket()\n",
    "current_region = boto3.session.Session().region_name\n",
    "\n",
    "sts = boto3.client('sts')\n",
    "account_id = sts.get_caller_identity()['Account']\n",
    "\n",
    "# Initialize Bedrock Data Automation client\n",
    "bda_client = boto3.client('bedrock-data-automation')\n",
    "bda_runtime_client = boto3.client('bedrock-data-automation-runtime')\n",
    "s3_client = boto3.client('s3')\n",
    "\n",
    "bda_s3_input_location = f's3://{default_bucket}/bda/input'\n",
    "bda_s3_output_location = f's3://{default_bucket}/bda/output'"
   ]
  },
  {
   "cell_type": "markdown",
   "id": "e25ba404-f3db-4152-8ed8-23555a3a5121",
   "metadata": {
    "editable": true,
    "slideshow": {
     "slide_type": ""
    },
    "tags": []
   },
   "source": [
    "## Prepare sample document\n",
    "\n",
    "For this lab, we use a sample `Bank Statement`. The statement contains account holder information, bank account details and balance summary along with a table of transactions. We will use a catalog blueprint with custom output to extract and analyse the document content."
   ]
  },
  {
   "cell_type": "code",
   "execution_count": null,
   "id": "2dad9100",
   "metadata": {},
   "outputs": [],
   "source": [
    "local_download_path = 'samples'\n",
    "os.makedirs(local_download_path, exist_ok=True)\n",
    "local_file_name = 'claims-pack.pdf'\n",
    "source_url = 'https://ws-assets-prod-iad-r-pdx-f3b3f9f1a7d6a3d0.s3.us-west-2.amazonaws.com/335119c4-e170-43ad-b55c-76fa6bc33719/claims-pack.pdf'\n",
    "\n",
    "!curl {source_url} --output {local_download_path}/{local_file_name}"
   ]
  },
  {
   "cell_type": "code",
   "execution_count": null,
   "id": "0aecf5d7-b937-47d8-91fd-c9a0154f2ec1",
   "metadata": {
    "editable": true,
    "slideshow": {
     "slide_type": ""
    },
    "tags": []
   },
   "outputs": [],
   "source": [
    "\n",
    "\n",
    "local_file_path = os.path.join(local_download_path, local_file_name)\n",
    "#(bucket, key) = helper_functions.get_bucket_and_key(document_url)\n",
    "#response = s3_client.download_file(bucket, key, local_file_path)\n",
    "\n",
    "document_s3_uri = f'{bda_s3_input_location}/{local_file_name}'\n",
    "\n",
    "target_s3_bucket, target_s3_key = helper_functions.get_bucket_and_key(document_s3_uri)\n",
    "s3_client.upload_file(local_file_path, target_s3_bucket, target_s3_key)\n",
    "\n",
    "print(f\"Downloaded file to: {local_file_path}\")\n",
    "print(f\"Uploaded file to S3: {target_s3_key}\")\n",
    "print(f\"document_s3_uri: {document_s3_uri}\")"
   ]
  },
  {
   "cell_type": "markdown",
   "id": "54482724-b3f0-4384-b3d8-ecff86baf21d",
   "metadata": {
    "editable": true,
    "slideshow": {
     "slide_type": ""
    },
    "tags": []
   },
   "source": [
    "### View Sample Document"
   ]
  },
  {
   "cell_type": "code",
   "execution_count": null,
   "id": "c692db94-16ce-4a64-b450-995896103757",
   "metadata": {
    "editable": true,
    "slideshow": {
     "slide_type": ""
    },
    "tags": []
   },
   "outputs": [],
   "source": [
    "IFrame(local_file_path, width=1000, height=400)"
   ]
  },
  {
   "cell_type": "markdown",
   "id": "8f537712-435c-461d-a137-ccafd70178c2",
   "metadata": {},
   "source": [
    "### Create custom blueprints for our documents"
   ]
  },
  {
   "cell_type": "markdown",
   "id": "5707548c-1a2b-46a3-9752-9f875ddd3893",
   "metadata": {},
   "source": [
    "Our sample file contains multiple document types. We would therefore use multiple blueprints to process the document. We will use some premade blueprint from the BDA blueprint global catalog. For other document types, where we don't have an catalog blueprint, we would create a custom blueprint.\n",
    "\n",
    "We use the `create_blueprint` operation (or `update_blueprint` to update an existing blueprint) in the  `boto3` API to create/update the blueprint. Each blueprint that you create is an AWS resource with its own blueprint ID and ARN. "
   ]
  },
  {
   "cell_type": "code",
   "execution_count": null,
   "id": "1364d375-71b9-4ec9-b336-6c9770bf86bf",
   "metadata": {
    "editable": true,
    "slideshow": {
     "slide_type": ""
    },
    "tags": []
   },
   "outputs": [],
   "source": [
    "# create blueprint using Boto3\n",
    "blueprints = [\n",
    "    {\n",
    "        \"name\": 'claim-form',\n",
    "        \"description\": 'Blueprint for Medical Claim form CMS 1500',\n",
    "        \"type\": 'DOCUMENT',\n",
    "        \"stage\": 'LIVE',\n",
    "        \"schema_path\": 'blueprint-schemas/claims_form.json'\n",
    "    },\n",
    "    {\n",
    "        \"name\": 'hospital-discharge-report',\n",
    "        \"description\": 'Blueprint for Hospital discharge summary report',\n",
    "        \"type\": 'DOCUMENT',\n",
    "        \"stage\": 'LIVE',\n",
    "        \"schema_path\": 'blueprint-schemas/discharge_summary.json'\n",
    "    },\n",
    "    {\n",
    "        \"name\": 'medical-transcription',\n",
    "        \"description\": ' Medical Transcription',\n",
    "        \"type\": 'DOCUMENT',\n",
    "        \"stage\": 'LIVE',\n",
    "        \"schema_path\": 'blueprint-schemas/medical_transcription.json'\n",
    "    },\n",
    "    {\n",
    "        \"name\": 'lab-reports',\n",
    "        \"description\": ' Lab Reports',\n",
    "        \"type\": 'DOCUMENT',\n",
    "        \"stage\": 'LIVE',\n",
    "        \"schema_path\": 'blueprint-schemas/lab_reports.json'\n",
    "    },\n",
    "    {\n",
    "        \"name\": 'explanation-of-benefits',\n",
    "        \"description\": 'Explanation of Benefits or a Medical Remittance Advice',\n",
    "        \"type\": 'DOCUMENT',\n",
    "        \"stage\": 'LIVE',\n",
    "        \"schema_path\": 'blueprint-schemas/explanation_of_benefits.json'\n",
    "    },\n",
    "    \n",
    "]\n"
   ]
  },
  {
   "cell_type": "code",
   "execution_count": null,
   "id": "185c2db3-9274-49a1-9740-33ec77b1099c",
   "metadata": {
    "editable": true,
    "slideshow": {
     "slide_type": ""
    },
    "tags": []
   },
   "outputs": [],
   "source": [
    "blueprint_arns = []\n",
    "for blueprint in blueprints:\n",
    "    with open(blueprint['schema_path']) as f:\n",
    "        blueprint_schema = json.load(f)\n",
    "        blueprint_arn = helper_functions.create_or_update_blueprint(\n",
    "            bda_client, \n",
    "            blueprint['name'], \n",
    "            blueprint['description'], \n",
    "            blueprint['type'],\n",
    "            blueprint['stage'],\n",
    "            blueprint_schema\n",
    "        )\n",
    "        blueprint_arns += [blueprint_arn]"
   ]
  },
  {
   "cell_type": "markdown",
   "id": "dfcbe699-7d8e-4091-bd47-625f2b231214",
   "metadata": {
    "editable": true,
    "slideshow": {
     "slide_type": ""
    },
    "tags": []
   },
   "source": [
    "The `update_data_automation_project` API takes a project name, description, stage (LIVE / DEVELOPMENT), the standard output configuration and a custom output configuration as input. We are only focussing on the custom output in this notebook, so we leave the standard output configuration as empty so BDA will use the defaults. Additionally, we use a custom configuration with the arn for the recommended blueprint."
   ]
  },
  {
   "cell_type": "markdown",
   "id": "77ac2fa8-fee2-4617-a5e3-57c4e52bdd55",
   "metadata": {
    "editable": true,
    "slideshow": {
     "slide_type": ""
    },
    "tags": []
   },
   "source": [
    "### Create data project to process file with multiple document types\n",
    "With the custom blueprints created, we can now go ahead an create our data project. Check if the project with the given name already exists, if no create a new project with given configuration otherwise update the data project with the given configuration and stage.\n",
    "\n",
    "A few points to note - \n",
    "* We have added multiple blueprints to our data project to match the document types we would expect to find in the claim pack\n",
    "\n",
    "* Because our sample file contains multiple documents, we pass the `overrideConfiguration` to the api call, with `document splitter` enabled.  With this setting, BDA scans the file and splits it into individual documents based on context. Those individual documents are then matched to the correct blueprint for processing."
   ]
  },
  {
   "cell_type": "code",
   "execution_count": null,
   "id": "f91df435-80d2-4143-b82c-85d590da5f67",
   "metadata": {
    "editable": true,
    "slideshow": {
     "slide_type": ""
    },
    "tags": []
   },
   "outputs": [],
   "source": [
    "bda_project_name = 'document-custom-output-multiple-blueprints'\n",
    "bda_project_stage = 'LIVE'\n",
    "standard_output_configuration = {\n",
    "    'document': {\n",
    "        'extraction': {\n",
    "            'granularity': {\n",
    "                'types': [\n",
    "                    'DOCUMENT', 'PAGE'\n",
    "                ]\n",
    "            },\n",
    "            'boundingBox': {\n",
    "                'state': 'ENABLED'\n",
    "            }\n",
    "        },\n",
    "        'generativeField': {\n",
    "            'state': 'ENABLED'\n",
    "        },\n",
    "        'outputFormat': {\n",
    "            'textFormat': {\n",
    "                'types': [\n",
    "                    'MARKDOWN'\n",
    "                ]\n",
    "            },\n",
    "            'additionalFileFormat': {\n",
    "                'state': 'ENABLED'\n",
    "            }\n",
    "        }\n",
    "    }\n",
    "}\n",
    "\n",
    "custom_output_configuration = {\n",
    "    \"blueprints\": [\n",
    "        {\n",
    "            'blueprintArn': f'arn:aws:bedrock:{current_region}:aws:blueprint/bedrock-data-automation-public-bank-statement',\n",
    "            'blueprintStage': 'LIVE'\n",
    "        },\n",
    "        {\n",
    "            'blueprintArn': f'arn:aws:bedrock:{current_region}:aws:blueprint/bedrock-data-automation-public-us-driver-license',\n",
    "            'blueprintStage': 'LIVE'\n",
    "        },\n",
    "        {\n",
    "            'blueprintArn': f'arn:aws:bedrock:{current_region}:aws:blueprint/bedrock-data-automation-public-invoice',\n",
    "            'blueprintStage': 'LIVE'\n",
    "        },\n",
    "        {\n",
    "            'blueprintArn': f'arn:aws:bedrock:{current_region}:aws:blueprint/bedrock-data-automation-public-prescription-label',\n",
    "            'blueprintStage': 'LIVE'\n",
    "        },\n",
    "        {\n",
    "            'blueprintArn': f'arn:aws:bedrock:{current_region}:aws:blueprint/bedrock-data-automation-public-us-medical-insurance-card',\n",
    "            'blueprintStage': 'LIVE'\n",
    "        }\n",
    "    ]\n",
    "}\n",
    "custom_output_configuration['blueprints'] += [\n",
    "    {\n",
    "        'blueprintArn': blueprint_arn,\n",
    "        'blueprintStage': 'LIVE'\n",
    "    } for blueprint_arn in blueprint_arns\n",
    "]\n",
    "\n",
    "override_configuration={'document': {'splitter': {'state': 'ENABLED'}}}"
   ]
  },
  {
   "cell_type": "code",
   "execution_count": null,
   "id": "c2184592-22f3-4ac4-8b3b-7c4b97a280cc",
   "metadata": {},
   "outputs": [],
   "source": [
    "list_project_response = bda_client.list_data_automation_projects(\n",
    "    projectStageFilter=bda_project_stage)\n",
    "\n",
    "project = next((project for project in list_project_response['projects']\n",
    "               if project['projectName'] == bda_project_name), None)\n",
    "\n",
    "if not project:\n",
    "    response = bda_client.create_data_automation_project(\n",
    "        projectName=bda_project_name,\n",
    "        projectDescription='Document processing combining blueprints with data projects',\n",
    "        projectStage=bda_project_stage,\n",
    "        standardOutputConfiguration=standard_output_configuration,\n",
    "        customOutputConfiguration=custom_output_configuration,\n",
    "        overrideConfiguration=override_configuration\n",
    "    )\n",
    "else:\n",
    "    response = bda_client.update_data_automation_project(\n",
    "        projectArn=project['projectArn'],\n",
    "        standardOutputConfiguration=standard_output_configuration,\n",
    "        customOutputConfiguration=custom_output_configuration,\n",
    "        overrideConfiguration=override_configuration\n",
    "    )\n",
    "\n",
    "project_arn = response['projectArn']"
   ]
  },
  {
   "cell_type": "markdown",
   "id": "9c33cd0b-486e-4d53-ae1f-b3d094db7120",
   "metadata": {},
   "source": [
    "### Wait for create/update data project operation completion"
   ]
  },
  {
   "cell_type": "code",
   "execution_count": null,
   "id": "b66b0ac9-27c2-4cf7-ae1c-7b1c1e90eb62",
   "metadata": {},
   "outputs": [],
   "source": [
    "status_response = helper_functions.wait_for_completion(\n",
    "            client=bda_client,\n",
    "            get_status_function=bda_client.get_data_automation_project,\n",
    "            status_kwargs={'projectArn': project_arn},\n",
    "            completion_states=['COMPLETED'],\n",
    "            error_states=['FAILED'],\n",
    "            status_path_in_response='project.status',\n",
    "            max_iterations=15,\n",
    "            delay=30\n",
    ")"
   ]
  },
  {
   "cell_type": "markdown",
   "id": "e61d9c01-769d-4bf8-ba44-974f83860c14",
   "metadata": {},
   "source": [
    "### Invoke Data Automation Async\n",
    "With the data project configured, we can now invoke data automation for our sample document. When we submit the document for processing, BDA scans the file and splits it into individual documents based on contextand matches it against the list of blueprints provided."
   ]
  },
  {
   "cell_type": "code",
   "execution_count": null,
   "id": "bbc098b6-7f54-4a11-ab49-55772e3c5a06",
   "metadata": {
    "editable": true,
    "slideshow": {
     "slide_type": ""
    },
    "tags": []
   },
   "outputs": [],
   "source": [
    "print(f\"Invoking bda - input: {document_s3_uri}\")\n",
    "print(f\"Invoking bda - output: {bda_s3_output_location}\")\n",
    "\n",
    "response = bda_runtime_client.invoke_data_automation_async(\n",
    "    inputConfiguration={\n",
    "        's3Uri': document_s3_uri\n",
    "    },\n",
    "    outputConfiguration={\n",
    "        's3Uri': bda_s3_output_location\n",
    "    },\n",
    "    dataAutomationConfiguration={\n",
    "        'dataAutomationProjectArn': project_arn,\n",
    "        'stage': 'LIVE'\n",
    "    },\n",
    "    dataAutomationProfileArn=f'arn:aws:bedrock:{current_region}:{account_id}:data-automation-profile/us.data-automation-v1'\n",
    ")\n",
    "\n",
    "\n",
    "invocationArn = response['invocationArn']\n",
    "print(f'Invoked data automation job with invocation arn {invocationArn}')"
   ]
  },
  {
   "cell_type": "markdown",
   "id": "fc31dda3-2cbc-49bc-ad40-876deb62ee17",
   "metadata": {},
   "source": [
    "### Get Data Automation Status\n",
    "\n",
    "We can check the status and monitor the progress of the Invocation job using the `GetDataAutomationStatus`. This API takes the invocation arn we retrieved from the response to the `InvokeDataAutomationAsync` operation above.\n",
    "\n",
    "The invocation job status moves from `Created` to `InProgress` and finally to `Success` when the job completes successfully, along with the S3 location of the results. If the job encounters and error the final status is either `ServiceError` or `ClientError` with error details"
   ]
  },
  {
   "cell_type": "code",
   "execution_count": null,
   "id": "d2ced475-951a-4e30-9b87-c6e5e9eca474",
   "metadata": {
    "editable": true,
    "slideshow": {
     "slide_type": ""
    },
    "tags": []
   },
   "outputs": [],
   "source": [
    "status_response = helper_functions.wait_for_completion(\n",
    "            client=bda_client,\n",
    "            get_status_function=bda_runtime_client.get_data_automation_status,\n",
    "            status_kwargs={'invocationArn': invocationArn},\n",
    "            completion_states=['Success'],\n",
    "            error_states=['ClientError', 'ServiceError'],\n",
    "            status_path_in_response='status',\n",
    "            max_iterations=15,\n",
    "            delay=30\n",
    ")\n",
    "if status_response['status'] == 'Success':\n",
    "    job_metadata_s3_location = status_response['outputConfiguration']['s3Uri']\n",
    "else:\n",
    "    raise Exception(f'Invocation Job Error, error_type={status_response[\"error_type\"]},error_message={status_response[\"error_message\"]}')"
   ]
  },
  {
   "cell_type": "markdown",
   "id": "7b8127dc-7bad-4852-a77c-3940f60d05aa",
   "metadata": {},
   "source": [
    "### View Job Metadata\n",
    "Let's retrieve the job metadata. The Job metadata contains the S3 uri's for the standard output,custom output and the status of custom output. The custom output status could be either of `MATCH` or `NO_MATCH`. `MATCH` indicates BDA was able to find a matching blueprint for the specific segment from the list of blueprint we associated with the project. If BDA was unable to match the segment to a blueprint associated with the project then the `custom output status` is `NO_MATCH` and in this case BDA would only have a standard output extracted from that specific segment of the input file."
   ]
  },
  {
   "cell_type": "code",
   "execution_count": null,
   "id": "21eaccd9-b44b-4b5a-bc01-ba5d13306344",
   "metadata": {
    "editable": true,
    "slideshow": {
     "slide_type": ""
    },
    "tags": []
   },
   "outputs": [],
   "source": [
    "job_metadata = json.loads(helper_functions.read_s3_object(job_metadata_s3_location))\n",
    "\n",
    "job_metadata_table = pd.DataFrame(job_metadata['output_metadata'][0]['segment_metadata']).fillna('')\n",
    "job_metadata_table.index.name='Segment Index'\n",
    "job_metadata_json = JSON(job_metadata, root=\"job_metadata\", expanded=True)\n",
    "# Display the widget\n",
    "display_functions.display_multiple(\n",
    "    [display_functions.get_view(job_metadata_table), display_functions.get_view(job_metadata_json)], \n",
    "    [\"Table View\", \"Raw JSON\"])"
   ]
  },
  {
   "cell_type": "markdown",
   "id": "25a7bb59-47f5-4a26-830c-68081af25407",
   "metadata": {},
   "source": [
    "### View Segments and Matched Blueprints\n",
    "As we can see in the `job metadata`, BDA creates a segment each for individual document in the file. Each segment section has details on the matched blueprint and the results of the extraction. For each segment, BDA also outputs the page indices (one or more) from the original file.\n",
    "\n",
    "We can now get the custom output corresponding to each segment and look at the insights that BDA custom output produces."
   ]
  },
  {
   "cell_type": "code",
   "execution_count": null,
   "id": "84b6f351-a7ae-49ea-8237-ca05d02f0e16",
   "metadata": {
    "editable": true,
    "slideshow": {
     "slide_type": ""
    },
    "tags": []
   },
   "outputs": [],
   "source": [
    "asset_id = 0\n",
    "segments_metadata = next(item[\"segment_metadata\"]\n",
    "                                for item in job_metadata[\"output_metadata\"] \n",
    "                                if item['asset_id'] == asset_id)\n",
    "\n",
    "standard_outputs = [\n",
    "    json.loads(helper_functions.read_s3_object(segment_metadata.get('standard_output_path')))for segment_metadata in segments_metadata]\n",
    "custom_outputs = [json.loads(helper_functions.read_s3_object(segment_metadata.get('custom_output_path'))) if segment_metadata.get('custom_output_status') == 'MATCH' else None for segment_metadata in segments_metadata]"
   ]
  },
  {
   "cell_type": "markdown",
   "id": "5202bc53-1180-42db-bb91-34a6b662d8c0",
   "metadata": {},
   "source": [
    "### View Custom output summary"
   ]
  },
  {
   "cell_type": "code",
   "execution_count": null,
   "id": "042fc8dc-23a0-4ff9-85d0-4c2d1b65fd0f",
   "metadata": {},
   "outputs": [],
   "source": [
    "custom_outputs_json = JSON(custom_outputs, root=\"custom_outputs\", expanded=False)\n",
    "custom_outputs_table = pd.DataFrame(helper_functions.get_summaries(custom_outputs)).fillna('')\n",
    "\n",
    "display_functions.display_multiple(\n",
    "    [\n",
    "        display_functions.get_view(custom_outputs_table.style.hide(axis='index')),\n",
    "        display_functions.get_view(custom_outputs_json)\n",
    "    ], \n",
    "    [\"Table View\", \"Raw JSON\"])"
   ]
  },
  {
   "cell_type": "markdown",
   "id": "5c09ee6a-a1bc-45fe-9d7c-f09d28d1708c",
   "metadata": {},
   "source": [
    "### Explore Document Insights using Standard and Custom output"
   ]
  },
  {
   "cell_type": "code",
   "execution_count": null,
   "id": "4de03732-36f1-4d78-99be-b35394a350f2",
   "metadata": {},
   "outputs": [],
   "source": [
    "views=[]\n",
    "titles=[]\n",
    "# Use the function\n",
    "for custom_output, standard_output in zip(custom_outputs, standard_outputs):\n",
    "    if custom_output:\n",
    "        result = helper_functions.transform_custom_output(custom_output['inference_result'], custom_output['explainability_info'][0])\n",
    "        document_image_uris = [page.get('asset_metadata',{}).get('rectified_image') for page in standard_output.get('pages',[])]\n",
    "        views += [display_functions.segment_view(document_image_uris=document_image_uris,\n",
    "                   inference_result=result)]\n",
    "        titles += [custom_output.get('matched_blueprint', {}).get('name', None)]\n",
    "display_functions.display_multiple(views, titles)"
   ]
  },
  {
   "cell_type": "markdown",
   "id": "e6a85bdf-05f9-4814-a301-995869cb5045",
   "metadata": {},
   "source": [
    "## Summary & Next Steps"
   ]
  },
  {
   "cell_type": "markdown",
   "id": "842f9b01-d6fa-4831-b876-0af436a8513c",
   "metadata": {},
   "source": [
    "In this lab we explored how we can leverage the versatility of blueprints along with data projects to extract customized output from multiple documents.\n",
    "\n",
    "For a deeper dive into intelligent document processing, try our workshop on `Document processing with Amazon Bedrock Data Automation` where you can explore creating and using blueprints with various IDP goals such as Classification, Normalization, Transformation etc., along with end-to-end industry use cases."
   ]
  },
  {
   "cell_type": "markdown",
   "id": "b545aaa3-2223-4429-9a8c-fe3a9dfee7cc",
   "metadata": {
    "editable": true,
    "slideshow": {
     "slide_type": ""
    },
    "tags": []
   },
   "source": [
    "## Clean Up\n",
    "Let's delete uploaded sample file from s3 input directory and the generated job output files."
   ]
  },
  {
   "cell_type": "code",
   "execution_count": null,
   "id": "7ebefcf2-c020-41da-9770-35fe9cfdc9e4",
   "metadata": {},
   "outputs": [],
   "source": [
    "import os\n",
    "from pathlib import Path\n",
    "\n",
    "\n",
    "# Delete S3 File\n",
    "s3_client.delete_object(Bucket=target_s3_bucket, Key=target_s3_key)\n",
    "\n",
    "# Delete local file\n",
    "if os.path.exists(local_file_path):\n",
    "    os.remove(local_file_path)\t\n",
    "\n",
    "# Delete bda job output\n",
    "bda_s3_job_location = str(Path(job_metadata_s3_location).parent).replace(\"s3:/\",\"s3://\")\n",
    "!aws s3 rm {bda_s3_job_location} --recursive"
   ]
  }
 ],
 "metadata": {
  "kernelspec": {
   "display_name": "Python 3 (ipykernel)",
   "language": "python",
   "name": "python3"
  },
  "language_info": {
   "codemirror_mode": {
    "name": "ipython",
    "version": 3
   },
   "file_extension": ".py",
   "mimetype": "text/x-python",
   "name": "python",
   "nbconvert_exporter": "python",
   "pygments_lexer": "ipython3",
   "version": "3.11.10"
  }
 },
 "nbformat": 4,
 "nbformat_minor": 5
}
