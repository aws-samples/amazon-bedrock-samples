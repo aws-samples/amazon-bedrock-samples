{
 "cells": [
  {
   "cell_type": "markdown",
   "id": "f8c367b1-d454-4690-ad8b-661a2c48e130",
   "metadata": {},
   "source": [
    "# Define customized extract for documents using blueprints\n"
   ]
  },
  {
   "cell_type": "markdown",
   "id": "413716ac-5427-4fc7-93a9-588904e315de",
   "metadata": {},
   "source": [
    "## Introduction\n",
    "\n",
    "In Intelligent Document Processing (IDP) and similar use cases, customers need direct control over extracted data from unstructured documents. This enables direct integration of extracted insights into applications and workflows without the complexity of managing multiple models or or stitching together outputs. An example use case would be in the Financial Services to automate processing of mortgage applications. A mortgage packet can come with up to 20 different types of forms such as W-2's, bank statements, and deed information which makes it difficult to use traditional technologies to automate the process. By leveraging BDA custom output with blueprints, you can automate the classification and extraction of these documents whether they are structured forms like W-2’s or semi-structured documents like mortgage forms.\n",
    "\n",
    "To help with this Amazon Bedrock Data Automation (BDA) offers the `Custom Output` feature which lets you define the target structure for information which you want to extract or generate from documents or images. This capability is particularly useful when working with complex or specialized data. You can configure custom output in BDA by using `Blueprints`. Blueprints are artifacts that specify which fields to extract, the desired data format for each field (such as string, number, or boolean), and rules for data normalization and validation. Blueprints can be customized for specific document types like W2s, pay stubs, or ID cards.\n",
    "\n",
    "`Blueprints` are essentially lists of instructions and types that guide the extraction or generation of information based on your documents. This feature works in conjunction with BDA projects, enabling the processing of up to 40 document inputs and one image input. \n",
    "\n",
    "\n",
    "In this notebook we configure custom output to define extractions customized to our data schema requirements. "
   ]
  },
  {
   "cell_type": "markdown",
   "id": "f2454093-24a1-48ac-9048-b66999864db0",
   "metadata": {
    "editable": true,
    "slideshow": {
     "slide_type": ""
    },
    "tags": []
   },
   "source": [
    "## Prerequisites"
   ]
  },
  {
   "cell_type": "code",
   "execution_count": null,
   "id": "439ab6c7-3831-401d-9056-f6559908a657",
   "metadata": {
    "editable": true,
    "slideshow": {
     "slide_type": ""
    },
    "tags": []
   },
   "outputs": [],
   "source": [
    "%pip install \"boto3>=1.37.4\" pdf2image itables==2.2.4 PyPDF2==3.0.1 --upgrade -qq"
   ]
  },
  {
   "cell_type": "code",
   "execution_count": null,
   "id": "76b7c20e-72c4-4874-a442-757d032c852d",
   "metadata": {
    "editable": true,
    "slideshow": {
     "slide_type": ""
    },
    "tags": []
   },
   "outputs": [],
   "source": [
    "%load_ext autoreload\n",
    "%autoreload 2"
   ]
  },
  {
   "cell_type": "markdown",
   "id": "6e4ce058-3eba-496d-a6af-364535cda26a",
   "metadata": {
    "editable": true,
    "slideshow": {
     "slide_type": ""
    },
    "tags": []
   },
   "source": [
    "## Setup\n",
    "\n",
    "Before we get to the part where we invoke BDA with our sample artifacts, let's setup some parameters and configuration that will be used throughout this notebook"
   ]
  },
  {
   "cell_type": "code",
   "execution_count": null,
   "id": "7e6e210d-b9b0-486f-9f07-297e4b3bb746",
   "metadata": {
    "editable": true,
    "slideshow": {
     "slide_type": ""
    },
    "tags": []
   },
   "outputs": [],
   "source": [
    "import boto3\n",
    "import json\n",
    "import pprint\n",
    "from IPython.display import JSON, display, IFrame, HTML\n",
    "import sagemaker\n",
    "import pandas as pd\n",
    "from itables import show\n",
    "import time\n",
    "from utils import helper_functions\n",
    "from utils import display_functions\n",
    "from pathlib import Path\n",
    "import os\n",
    "\n",
    "session = sagemaker.Session()\n",
    "default_bucket = session.default_bucket()\n",
    "current_region = boto3.session.Session().region_name\n",
    "\n",
    "sts = boto3.client('sts')\n",
    "account_id = sts.get_caller_identity()['Account']\n",
    "\n",
    "# Initialize Bedrock Data Automation client\n",
    "bda_client = boto3.client('bedrock-data-automation')\n",
    "bda_runtime_client = boto3.client('bedrock-data-automation-runtime')\n",
    "s3_client = boto3.client('s3')\n",
    "\n",
    "bda_s3_input_location = f's3://{default_bucket}/bda/input'\n",
    "bda_s3_output_location = f's3://{default_bucket}/bda/output'"
   ]
  },
  {
   "cell_type": "markdown",
   "id": "8caefac8-b54b-452c-84f0-b18878c73cb5",
   "metadata": {
    "editable": true,
    "slideshow": {
     "slide_type": ""
    },
    "tags": []
   },
   "source": [
    "## Prepare sample document\n",
    "\n",
    "For this lab, we'll use a sample bank statement containing account holder details, banking information, and transaction data. We will use a catalog blueprint with custom output to extract and analyse the document content."
   ]
  },
  {
   "cell_type": "code",
   "execution_count": null,
   "id": "0aecf5d7-b937-47d8-91fd-c9a0154f2ec1",
   "metadata": {
    "editable": true,
    "slideshow": {
     "slide_type": ""
    },
    "tags": []
   },
   "outputs": [],
   "source": [
    "# Download the document\n",
    "document_url = \"s3://bedrock-data-automation-prod-assets-us-west-2/demo-assets/Document/BankStatement.jpg\"\n",
    "local_download_path = 'samples'\n",
    "\n",
    "# Create full path of directories\n",
    "os.makedirs(local_download_path, exist_ok=True)\n",
    "local_file_name = 'BankStatement.jpg'\n",
    "local_file_path = os.path.join(local_download_path, local_file_name)\n",
    "(bucket, key) = helper_functions.get_bucket_and_key(document_url)\n",
    "response = s3_client.download_file(bucket, key, local_file_path)\n",
    "\n",
    "document_s3_uri = f'{bda_s3_input_location}/{local_file_name}'\n",
    "\n",
    "target_s3_bucket, target_s3_key = helper_functions.get_bucket_and_key(document_s3_uri)\n",
    "s3_client.upload_file(local_file_path, target_s3_bucket, target_s3_key)\n",
    "\n",
    "print(f\"Downloaded file to: {local_file_path}\")\n",
    "print(f\"Uploaded file to S3: {target_s3_key}\")\n",
    "print(f\"document_s3_uri: {document_s3_uri}\")"
   ]
  },
  {
   "cell_type": "markdown",
   "id": "a7deb6e6-fd41-401b-8665-144da66fb18c",
   "metadata": {
    "editable": true,
    "slideshow": {
     "slide_type": ""
    },
    "tags": []
   },
   "source": [
    "### View Sample Document"
   ]
  },
  {
   "cell_type": "code",
   "execution_count": null,
   "id": "c692db94-16ce-4a64-b450-995896103757",
   "metadata": {
    "editable": true,
    "slideshow": {
     "slide_type": ""
    },
    "tags": []
   },
   "outputs": [],
   "source": [
    "IFrame(local_file_path, width=600, height=400)"
   ]
  },
  {
   "cell_type": "markdown",
   "id": "db6d610b-1c8d-47cf-a787-a4cf97bf17f3",
   "metadata": {},
   "source": [
    "## Using catalog blueprint"
   ]
  },
  {
   "cell_type": "markdown",
   "id": "69e6a8b3-097a-425f-848c-9f0ccebb29ea",
   "metadata": {},
   "source": [
    "Now that we have our sample document available in S3, let's start with using the blueprints. \n",
    "\n",
    "You can use blueprints to configure file processing business logic in Amazon Bedrock Data Automation (BDA). Each blueprint consists of a list of field names to extract, the desired data format for each field (e.g., string, number, boolean), and natural language context for data normalization and validation rules. \n",
    "\n",
    "BDA has ready-to-use blueprints (`Catalog Blueprints`) for a number of commonly used document types such as W2, Paystub or a Receipt. Catalog blueprints are a great way to start if the document you want to extract from matches the blueprint. To extract from documents that are not matched by blueprints in the catalog you can create your own blueprints. When creating the blueprint, you have the option to let BDA generate blueprint after providing a sample document and an optional prompt. You can also create the blueprint by adding individual fields or by defining a JSON schema for the blueprint.\n",
    "\n",
    "In this notebook, we would explore custom output using blueprints and data automation projects"
   ]
  },
  {
   "cell_type": "markdown",
   "id": "50fa40f1-70e9-4edc-a97b-666ff24484d9",
   "metadata": {},
   "source": [
    "### List blueprints in the catalog\n",
    "Bedrock Data Automation provides sample blueprints (`catalog blueprints`) for common document types like W2s, pay stubs, and ID card that provide a starting place for extracting insights from these known document types.\n",
    "\n",
    "Let's view the blueprints that BDA offers in the sample catalog."
   ]
  },
  {
   "cell_type": "code",
   "execution_count": null,
   "id": "8ac15ad7-2c8d-41ed-904a-5e2a8018b63d",
   "metadata": {},
   "outputs": [],
   "source": [
    "import pandas as pd\n",
    "from itables import show\n",
    "list_blueprints_response = bda_client.list_blueprints(resourceOwner='SERVICE')\n",
    "list_blueprints_response_json = JSON(list_blueprints_response,root=\"blueprint_recommendation\", expanded=True)\n",
    "list_blueprints_response_table = pd.DataFrame(list_blueprints_response['blueprints'])[['blueprintName','blueprintArn']].style.hide(axis='index')\n",
    "list_blueprints_response_html = list_blueprints_response_table.to_html()\n",
    "list_blueprints_response_html = list_blueprints_response_html.replace('<tr>', '<tr onclick=\"handleRowClick(this.rowIndex)\">')\n",
    "list_blueprints_response_html = HTML(f\"\"\"\n",
    "<div style=\"height:400px; overflow-y:auto;\">\n",
    "    {list_blueprints_response_html}\n",
    "</div>\n",
    "\"\"\")\n",
    "display_functions.display_multiple([\n",
    "    display_functions.get_view(list_blueprints_response_html),\n",
    "    display_functions.get_view(list_blueprints_response_json)],[\"Table View\", \"Raw JSON\"]\n",
    ")\n"
   ]
  },
  {
   "cell_type": "markdown",
   "id": "fb8ac1bc-b37a-48f4-8327-34eaeea1d9fd",
   "metadata": {},
   "source": [
    "### Invoke Blueprint Recommendation\n",
    "Let's now use our sample document as input to invoke the BDA blueprint recommendation. BDA will use the provided input document to match a sample blueprint from global catalog. "
   ]
  },
  {
   "cell_type": "code",
   "execution_count": null,
   "id": "5b042b63-ed79-4ea2-8764-92fecd574f9a",
   "metadata": {},
   "outputs": [],
   "source": [
    "payload = {\n",
    "    \"inputDataConfiguration\":{\n",
    "        \"s3Uri\":f'{document_s3_uri}'\n",
    "    },\n",
    "    \"dataAutomationProfileArn\": f\"arn:aws:bedrock:{current_region}:{account_id}:data-automation-profile/us.data-automation-v1\"\n",
    "}\n",
    "response = helper_functions.invoke_blueprint_recommendation_async(bda_client=bda_client,\n",
    "                                      region_name=current_region, \n",
    "                                      payload=json.dumps(payload))\n",
    "\n",
    "job_id = response['jobId']"
   ]
  },
  {
   "cell_type": "markdown",
   "id": "7a51588f-1b3a-429a-841c-94a2d8e65742",
   "metadata": {},
   "source": [
    "### Wait for blueprint recommendation results"
   ]
  },
  {
   "cell_type": "code",
   "execution_count": null,
   "id": "811dd9d0-2c91-4b0a-97e1-390ab3bf78f2",
   "metadata": {},
   "outputs": [],
   "source": [
    "status_response = helper_functions.wait_for_completion(\n",
    "            client=None,\n",
    "            get_status_function=helper_functions.get_blueprint_recommendation,\n",
    "            status_kwargs={\n",
    "                'bda_client': bda_client,\n",
    "                'job_id': job_id,\n",
    "                'region_name': current_region,\n",
    "                'credentials': boto3.Session().get_credentials().get_frozen_credentials(),\n",
    "            },\n",
    "            completion_states=['Completed'],\n",
    "            error_states=['ClientError', 'ServiceError'],\n",
    "            status_path_in_response='status',\n",
    "            max_iterations=15,\n",
    "            delay=30\n",
    ")"
   ]
  },
  {
   "cell_type": "markdown",
   "id": "9d8dc1dd-0842-4dd3-8678-2c25bc46817e",
   "metadata": {},
   "source": [
    "### Identify Blueprint\n",
    "BDA outputs a blueprint recommendation along with a prompt recommendation that is useful to create a custom blueprint, if needed.\n",
    "\n",
    "For this example, we will fetch the blueprint that was recommended by BDA."
   ]
  },
  {
   "cell_type": "code",
   "execution_count": null,
   "id": "db4efd46-c440-45de-80e5-51e9ab3b2ebf",
   "metadata": {},
   "outputs": [],
   "source": [
    "blueprint_recommendation = next((result for result in status_response['results'] if result['type'] == 'BLUEPRINT_RECOMMENDATION'),None)"
   ]
  },
  {
   "cell_type": "code",
   "execution_count": null,
   "id": "6a4606d2-0a57-4fb3-a059-42ad9811b51b",
   "metadata": {},
   "outputs": [],
   "source": [
    "recommended_blueprint_info = blueprint_recommendation['blueprintRecommendation']\n",
    "recommended_blueprint_json = JSON(blueprint_recommendation['blueprintRecommendation'], root='blueprintRecommendation', expanded=True)\n",
    "recommended_blueprint_table = pd.DataFrame([{\n",
    "        'Document Class': recommended_blueprint_info['documentClass']['type'],\n",
    "        'Blueprint Name': recommended_blueprint_info['matchedBlueprint']['name'],\n",
    "        'Confidence': recommended_blueprint_info['matchedBlueprint']['confidence'],\n",
    "        'Blueprint ARN': recommended_blueprint_info['matchedBlueprint']['blueprintArn']\n",
    "    }]\n",
    ")\n",
    "display_functions.display_multiple(\n",
    "    [display_functions.get_view(recommended_blueprint_table.style.hide(axis='index')), \n",
    "     display_functions.get_view(recommended_blueprint_json)], [\"Table View\", \"Raw JSON\"]\n",
    ")\n"
   ]
  },
  {
   "cell_type": "markdown",
   "id": "ee716eab-c6a6-48d3-9b1e-596088421126",
   "metadata": {},
   "source": [
    "### View Schema\n",
    "\n",
    "Now that we have identified the matching blueprint, we can view the blueprint schema. The blueprint schema defines the structure of fields for BDA's custom output extraction. There are two types of fields—explicit and implicit—located in the extraction table. Explicit extractions are used for information visible in the document. Implicit extractions are used for information that needs to be transformed from how they appear in the document"
   ]
  },
  {
   "cell_type": "code",
   "execution_count": null,
   "id": "d80ce3ed-43d0-480b-82a7-60dc3b3a66dc",
   "metadata": {},
   "outputs": [],
   "source": [
    "JSON(json.loads(blueprint_recommendation['blueprintRecommendation']['schema']), root='Schema', expanded=False)"
   ]
  },
  {
   "cell_type": "code",
   "execution_count": null,
   "id": "c35d5c00-4f03-40c9-a801-489c3e2a0ddc",
   "metadata": {},
   "outputs": [],
   "source": [
    "blueprint_arn = blueprint_recommendation['blueprintRecommendation']['matchedBlueprint']['blueprintArn']"
   ]
  },
  {
   "cell_type": "markdown",
   "id": "5030a111-40d3-4bae-94cf-4e6af0703843",
   "metadata": {},
   "source": [
    "### Invoke Data Automation with Catalog Blueprint\n",
    "With a blueprint identified, we can proceed to invoke data automation. Note that in addition to the input and output configuration we also provide the blueprint id when calling the `invoke_data_automation_async` operation."
   ]
  },
  {
   "cell_type": "code",
   "execution_count": null,
   "id": "ee8aecc6-ad76-4dbe-8e70-e49bc7acf3d0",
   "metadata": {},
   "outputs": [],
   "source": [
    "response = bda_runtime_client.invoke_data_automation_async(\n",
    "    inputConfiguration={\n",
    "        's3Uri': f'{document_s3_uri}'\n",
    "    },\n",
    "    outputConfiguration={\n",
    "        's3Uri': bda_s3_output_location\n",
    "    },\n",
    "    blueprints=[\n",
    "        {\n",
    "            'blueprintArn': blueprint_arn\n",
    "        }\n",
    "    ],\n",
    "    dataAutomationProfileArn=f\"arn:aws:bedrock:{current_region}:{account_id}:data-automation-profile/us.data-automation-v1\",\n",
    ")\n",
    "\n",
    "invocationArn = response['invocationArn']\n",
    "print(f'Invoked data automation job with invocation arn {invocationArn}')"
   ]
  },
  {
   "cell_type": "markdown",
   "id": "71f95361-153f-4b17-9aab-2a19ce0cf0a7",
   "metadata": {},
   "source": [
    "We can check the status and monitor the progress of the Invocation job using the `GetDataAutomationStatus`. This API takes the invocation arn we retrieved from the response to the `InvokeDataAutomationAsync` operation above.\n",
    "\n",
    "The invocation job status moves from `Created` to `InProgress` and finally to `Success` when the job completes successfully, along with the S3 location of the results. If the job encounters and error the final status is either `ServiceError` or `ClientError` with error details"
   ]
  },
  {
   "cell_type": "code",
   "execution_count": null,
   "id": "011297d7-196a-4fb7-ba45-cb215940fdca",
   "metadata": {
    "editable": true,
    "slideshow": {
     "slide_type": ""
    },
    "tags": []
   },
   "outputs": [],
   "source": [
    "status_response = helper_functions.wait_for_completion(\n",
    "            client=bda_client,\n",
    "            get_status_function=bda_runtime_client.get_data_automation_status,\n",
    "            status_kwargs={'invocationArn': invocationArn},\n",
    "            completion_states=['Success'],\n",
    "            error_states=['ClientError', 'ServiceError'],\n",
    "            status_path_in_response='status',\n",
    "            max_iterations=15,\n",
    "            delay=30\n",
    ")\n",
    "if status_response['status'] == 'Success':\n",
    "    job_metadata_s3_location = status_response['outputConfiguration']['s3Uri']\n",
    "else:\n",
    "    raise Exception(f'Invocation Job Error, error_type={status_response[\"error_type\"]},error_message={status_response[\"error_message\"]}')"
   ]
  },
  {
   "cell_type": "markdown",
   "id": "107c4f7b-e334-486a-b9c9-2decfc8b1448",
   "metadata": {},
   "source": [
    "### View Job Metadata - Custom Output\n",
    "Once the job is completed successfully, we can view the metadata associated with the BDA data automation job.\n"
   ]
  },
  {
   "cell_type": "code",
   "execution_count": null,
   "id": "c6979390-bd33-4a2a-8947-2e072e91bca6",
   "metadata": {},
   "outputs": [],
   "source": [
    "job_metadata = json.loads(helper_functions.read_s3_object(job_metadata_s3_location))\n",
    "\n",
    "job_metadata_table = pd.DataFrame(job_metadata['output_metadata'][0]['segment_metadata']).style.hide(axis='index')\n",
    "job_metadata_json = JSON(job_metadata, root=\"job_metadata\", expanded=True)\n",
    "# Display the widget\n",
    "display_functions.display_multiple([display_functions.get_view(job_metadata_table),display_functions.get_view(job_metadata_json)], [\"Table View\", \"Raw JSON\"])\n"
   ]
  },
  {
   "cell_type": "markdown",
   "id": "299426d8-f8d0-46e3-a38c-723c2fd7bb78",
   "metadata": {},
   "source": [
    "We can now use the output paths in the metadata to fetch the extracted results."
   ]
  },
  {
   "cell_type": "markdown",
   "id": "992448f8-eff1-4647-9243-fff9cbd6332f",
   "metadata": {},
   "source": [
    "### Fetch BDA Output\n",
    "Now that we have both the Standard output and the custom output, we can extract the results for both from the output S3 bucket."
   ]
  },
  {
   "cell_type": "code",
   "execution_count": null,
   "id": "9f703f65-1cc9-4475-9106-6707f9653cca",
   "metadata": {
    "editable": true,
    "slideshow": {
     "slide_type": ""
    },
    "tags": []
   },
   "outputs": [],
   "source": [
    "asset_id = 0\n",
    "segments_metadata = next(item[\"segment_metadata\"]\n",
    "                                for item in job_metadata[\"output_metadata\"] \n",
    "                                if item['asset_id'] == asset_id)\n",
    "custom_outputs = [json.loads(helper_functions.read_s3_object(segment_metadata.get('custom_output_path'))) if segment_metadata.get('custom_output_status') == 'MATCH' else None for segment_metadata in segments_metadata]\n"
   ]
  },
  {
   "cell_type": "code",
   "execution_count": null,
   "id": "dbe8518e-eff1-427d-8aff-b27413e6c2e8",
   "metadata": {},
   "outputs": [],
   "source": [
    "custom_outputs_json = JSON(custom_outputs, root=\"custom_outputs\", expanded=True)\n",
    "custom_outputs_table = pd.DataFrame(helper_functions.get_summaries(custom_outputs))\n",
    "\n",
    "display_functions.display_multiple(\n",
    "    [display_functions.get_view(custom_outputs_table.style.hide(axis='index')),\n",
    "     display_functions.get_view(custom_outputs_json)],[\"Table View\", \"Raw JSON\"]\n",
    ")\n"
   ]
  },
  {
   "cell_type": "markdown",
   "id": "ebbdd0c1-5278-4d8d-851c-451d93cf5eb5",
   "metadata": {},
   "source": [
    "You should see from the summary of the custom output that BDA has used the provide blueprint (that's why the confidence score is 1). Let's now explore the extracted results."
   ]
  },
  {
   "cell_type": "markdown",
   "id": "1891c8b9-703c-4017-af8a-d95f25bce3b7",
   "metadata": {},
   "source": [
    "### Explore Document Insights extracted using blueprint\n",
    "\n",
    "We can now explore the custom output received from processing documents using the blueprint we used for the Data Automation job."
   ]
  },
  {
   "cell_type": "code",
   "execution_count": null,
   "id": "2954a326-3a93-41a1-aaed-56dabefa7b9b",
   "metadata": {},
   "outputs": [],
   "source": [
    "views =  []\n",
    "titles = []\n",
    "# Use the function\n",
    "for custom_output in custom_outputs:\n",
    "    result = helper_functions.transform_custom_output(custom_output['inference_result'], custom_output['explainability_info'][0])\n",
    "    document_image_uris = [document_s3_uri]\n",
    "    views += [display_functions.segment_view(\n",
    "        document_image_uris=document_image_uris, \n",
    "        inference_result=result)]\n",
    "    titles += [custom_output.get('matched_blueprint', {}).get('name', None)]\n",
    "\n",
    "display_functions.display_multiple(views, titles)"
   ]
  },
  {
   "cell_type": "markdown",
   "id": "9abcf192-b243-4a24-b163-c7abc19ba49f",
   "metadata": {},
   "source": [
    "## Summary and Next Steps"
   ]
  },
  {
   "cell_type": "markdown",
   "id": "e1152f97-2f33-4ca4-b20a-ef0e616f00b1",
   "metadata": {},
   "source": [
    "In this lab we saw how you can leverage custom output and blueprints to achieve a higher degree of granular control over the unstructured data extraction and transformation with BDA. Using custom output allows you to better address your specific use cases and optimize the performance of your applications. \n",
    "\n",
    "In a subsequent lab, you will explore how you can combine the capabilities of custom output, blueprints and data projects to "
   ]
  },
  {
   "cell_type": "markdown",
   "id": "481d749f-19d8-4366-9224-a98ea3625465",
   "metadata": {
    "editable": true,
    "slideshow": {
     "slide_type": ""
    },
    "tags": []
   },
   "source": [
    "## Clean Up\n",
    "Let's delete uploaded sample file from s3 input directory and the generated job output files."
   ]
  },
  {
   "cell_type": "code",
   "execution_count": null,
   "id": "7ebefcf2-c020-41da-9770-35fe9cfdc9e4",
   "metadata": {},
   "outputs": [],
   "source": [
    "import os\n",
    "from pathlib import Path\n",
    "import shutil\n",
    "import os\n",
    "\n",
    "\n",
    "# Delete S3 File\n",
    "s3_client.delete_object(Bucket=target_s3_bucket, Key=target_s3_key)\n",
    "\n",
    "# Delete local file\n",
    "if os.path.exists(local_file_path):\n",
    "    os.remove(local_file_path)\t\n",
    "\n",
    "# Delete bda job output\n",
    "bda_s3_job_location = str(Path(job_metadata_s3_location).parent).replace(\"s3:/\",\"s3://\")\n",
    "!aws s3 rm {bda_s3_job_location} --recursive"
   ]
  }
 ],
 "metadata": {
  "kernelspec": {
   "display_name": "Python 3 (ipykernel)",
   "language": "python",
   "name": "python3"
  },
  "language_info": {
   "codemirror_mode": {
    "name": "ipython",
    "version": 3
   },
   "file_extension": ".py",
   "mimetype": "text/x-python",
   "name": "python",
   "nbconvert_exporter": "python",
   "pygments_lexer": "ipython3",
   "version": "3.11.10"
  }
 },
 "nbformat": 4,
 "nbformat_minor": 5
}
