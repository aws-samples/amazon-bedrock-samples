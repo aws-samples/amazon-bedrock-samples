{
 "cells": [
  {
   "cell_type": "markdown",
   "id": "28739f83-678f-4e76-bb40-af12caf8fac2",
   "metadata": {
    "editable": true,
    "slideshow": {
     "slide_type": ""
    },
    "tags": []
   },
   "source": [
    "# Getting document insights with standard output"
   ]
  },
  {
   "cell_type": "markdown",
   "id": "17a7159c-4b33-4c1a-af1d-710d85c921f4",
   "metadata": {
    "editable": true,
    "slideshow": {
     "slide_type": ""
    },
    "tags": []
   },
   "source": [
    "## Introduction\n",
    "\n",
    "Amazon Bedrock Data Automation (BDA) lets you configure output based on your processing needs for a specific data type: images, documents, audio or video. BDA can generate standard output or custom output.\n",
    "\n",
    "You can use standard outputs for all four modalities: images, documents, audio, and videos. BDA always provides a standard output response even if it's alongside a custom output response.\n",
    "\n",
    "Standard outputs are modality-specific default structured insights, such as video summaries that capture key moments, visual and audible toxic content, explanations of document charts, graph figure data, and more. \n",
    "\n",
    "In this notebook we will explore the standard output for documents."
   ]
  },
  {
   "cell_type": "markdown",
   "id": "ca16843e-0586-4c58-991f-ca6898e192e2",
   "metadata": {
    "editable": true,
    "slideshow": {
     "slide_type": ""
    },
    "tags": []
   },
   "source": [
    "## Prerequisites"
   ]
  },
  {
   "cell_type": "markdown",
   "id": "82ce8a9f-29f8-4323-8c3f-ba6d4e7f63b1",
   "metadata": {},
   "source": [
    "### Configure IAM permissions\n",
    "\n",
    "The features being explored in the workshop require multiple IAM Policies for the role being used. If you're running this notebook within SageMaker Studio in your own AWS Account, update the default execution role for the SageMaker user profile to include the IAM policies described in [README.md](../README.md)."
   ]
  },
  {
   "cell_type": "markdown",
   "id": "05df0165-d832-4c72-b1c6-ce4be1985f5e",
   "metadata": {},
   "source": [
    "### Install required libraries"
   ]
  },
  {
   "cell_type": "code",
   "execution_count": null,
   "id": "f75bfcb2-1f39-4288-a6b7-d3604cff85bc",
   "metadata": {
    "editable": true,
    "slideshow": {
     "slide_type": ""
    },
    "tags": []
   },
   "outputs": [],
   "source": [
    "%pip install \"boto3>=1.37.4\" itables==2.2.4 PyPDF2==3.0.1 pdf2image==1.17.0 markdown==3.7 --upgrade -qq"
   ]
  },
  {
   "cell_type": "code",
   "execution_count": null,
   "id": "5348287f-33e2-41e9-9b7e-0c76bc401fe2",
   "metadata": {
    "editable": true,
    "slideshow": {
     "slide_type": ""
    },
    "tags": []
   },
   "outputs": [],
   "source": [
    "%load_ext autoreload\n",
    "%autoreload 2"
   ]
  },
  {
   "cell_type": "markdown",
   "id": "e5da4e11-dcff-4300-8d29-f4260abe2856",
   "metadata": {
    "editable": true,
    "slideshow": {
     "slide_type": ""
    },
    "tags": []
   },
   "source": [
    "### Setup\n",
    "\n",
    "Before we get to the part where we invoke BDA with our sample artifacts, let's setup some parameters and configuration that will be used throughout this notebook"
   ]
  },
  {
   "cell_type": "code",
   "execution_count": null,
   "id": "d60dc83e-e9a1-42d8-8de6-021c68f6ab45",
   "metadata": {
    "editable": true,
    "slideshow": {
     "slide_type": ""
    },
    "tags": []
   },
   "outputs": [],
   "source": [
    "import boto3\n",
    "import json\n",
    "import pprint\n",
    "from IPython.display import JSON, display, IFrame, Markdown, HTML\n",
    "import sagemaker\n",
    "import pandas as pd\n",
    "from itables import show\n",
    "import time\n",
    "import pdf2image\n",
    "from utils import helper_functions\n",
    "from utils import display_functions\n",
    "from pathlib import Path\n",
    "import os\n",
    "\n",
    "session = sagemaker.Session()\n",
    "default_bucket = session.default_bucket()\n",
    "current_region = boto3.session.Session().region_name\n",
    "\n",
    "sts = boto3.client('sts')\n",
    "account_id = sts.get_caller_identity()['Account']\n",
    "\n",
    "# Initialize Bedrock Data Automation client\n",
    "bda_client = boto3.client('bedrock-data-automation')\n",
    "bda_runtime_client = boto3.client('bedrock-data-automation-runtime')\n",
    "s3_client = boto3.client('s3')\n",
    "\n",
    "bda_s3_input_location = f's3://{default_bucket}/bda/input'\n",
    "bda_s3_output_location = f's3://{default_bucket}/bda/output'"
   ]
  },
  {
   "cell_type": "markdown",
   "id": "eecb09e7-74f9-4d5a-a15f-8f9417698045",
   "metadata": {
    "editable": true,
    "slideshow": {
     "slide_type": ""
    },
    "tags": []
   },
   "source": [
    "## Prepare sample document\n",
    "For this lab, we use a `Monthly Treasury Statement for the United States Government` for Fiscal Year 2025 through November 30, 2024. This document is prepared by the Bureau of the Fiscal Service, Department of the Treasury. It provides detailed information on the government's financial activities. We will first extract a subset of pages from this document and then use BDA to extract and analyze the document content.\n",
    "\n",
    "### Download and store sample document\n",
    "we use the document URL to download the document and store it a S3 location. \n",
    "\n",
    "Note - We will configure BDA to use the sample input from this S3 location, so we need to ensure that BDA has `s3:GetObject` access to this S3 location. If you are running the notebook in your own AWS Account, ensure that the SageMaker Execution role configured for this JupyterLab app has the right IAM permissions."
   ]
  },
  {
   "cell_type": "code",
   "execution_count": null,
   "id": "3eb1e55b-c165-4cfd-800f-8eac35cabf49",
   "metadata": {
    "editable": true,
    "slideshow": {
     "slide_type": ""
    },
    "tags": []
   },
   "outputs": [],
   "source": [
    "# Download the document\n",
    "document_url = \"https://fiscaldata.treasury.gov/static-data/published-reports/mts/MonthlyTreasuryStatement_202411.pdf\"\n",
    "local_download_path = 'samples'\n",
    "\n",
    "# Create full path of directories\n",
    "os.makedirs(local_download_path, exist_ok=True)\n",
    "local_file_name = f\"{local_download_path}/MonthlyTreasuryStatement_202411.pdf\"\n",
    "file_path_local = helper_functions.download_document(document_url, start_page_index=0, end_page_index=10, output_file_path=local_file_name)\n",
    "\n",
    "# Upload the document to S3\n",
    "file_name = Path(file_path_local).name\n",
    "document_s3_uri = f'{bda_s3_input_location}/{file_name}'\n",
    "\n",
    "target_s3_bucket, target_s3_key = helper_functions.get_bucket_and_key(document_s3_uri)\n",
    "s3_client.upload_file(local_file_name, target_s3_bucket, target_s3_key)\n",
    "\n",
    "print(f\"Downloaded file to: {file_path_local}\")\n",
    "print(f\"Uploaded file to S3: {target_s3_key}\")\n",
    "print(f\"document_s3_uri: {document_s3_uri}\")"
   ]
  },
  {
   "cell_type": "markdown",
   "id": "f739ab05-b9bb-428e-b44b-3352420e4b96",
   "metadata": {
    "editable": true,
    "slideshow": {
     "slide_type": ""
    },
    "tags": []
   },
   "source": [
    "### View sample document"
   ]
  },
  {
   "cell_type": "code",
   "execution_count": null,
   "id": "f56001da-07e6-4188-8c50-928f410fc477",
   "metadata": {
    "editable": true,
    "slideshow": {
     "slide_type": ""
    },
    "tags": []
   },
   "outputs": [],
   "source": [
    "IFrame(local_file_name, width=800, height=800)"
   ]
  },
  {
   "cell_type": "markdown",
   "id": "09add04f-4a22-4e36-9acc-a621593cb723",
   "metadata": {
    "editable": true,
    "slideshow": {
     "slide_type": ""
    },
    "tags": []
   },
   "source": [
    "## Define standard output configuration\n",
    "\n",
    "The standard output provides a comprehensive set of options to control the granularity, format, and additional metadata extracted from the input documents. This allows tailoring the output to the specific needs of the use case. \n",
    "\n",
    "Below is a summary of the options that you can set when using standard output with documents. For more details see the [bda-output-documents](https://docs.aws.amazon.com/bedrock/latest/userguide/bda-output-documents.html) documentation."
   ]
  },
  {
   "cell_type": "markdown",
   "id": "6ec7ee9c-e95b-45a6-b156-9e4cd86c17f9",
   "metadata": {
    "slideshow": {
     "slide_type": ""
    },
    "tags": []
   },
   "source": [
    "<table width=\"100%\">\n",
    "    <tr>\n",
    "        <th width=\"20%\" align=\"left\">Setting Type</th>\n",
    "        <th width=\"20%\" align=\"left\">Option</th>\n",
    "        <th width=\"40%\" align=\"left\">Description</th>\n",
    "        <th width=\"10%\" align=\"left\">Default</th>\n",
    "    </tr>\n",
    "    <tr>\n",
    "        <td><b>Response Granularity</b></td>\n",
    "        <td>Page</td>\n",
    "        <td>Each page of document in text output</td>\n",
    "        <td align=\"left\">✅</td>\n",
    "    </tr>\n",
    "    <tr>\n",
    "        <td></td>\n",
    "        <td>Element</td>\n",
    "        <td>Text separated into elements such as figures, tables, or paragraphs</td>\n",
    "        <td align=\"left\">✅</td>\n",
    "    </tr>\n",
    "    <tr>\n",
    "        <td></td>\n",
    "        <td>Word</td>\n",
    "        <td>Individual words and their page locations</td>\n",
    "        <td></td>\n",
    "    </tr>\n",
    "    <tr>\n",
    "        <td></td>\n",
    "        <td>Line</td>\n",
    "        <td>Lines of text with their page locations</td>\n",
    "        <td></td>\n",
    "    </tr>    \n",
    "    <tr>\n",
    "        <td><b>Output Settings</b></td>\n",
    "        <td>JSON</td>\n",
    "        <td>Produces JSON output file using configuration info</td>\n",
    "        <td align=\"left\">✅</td>\n",
    "    </tr>\n",
    "    <tr>\n",
    "        <td></td>\n",
    "        <td>JSON+files</td>\n",
    "        <td>JSON output plus additional files (text, markdown, CSV)</td>\n",
    "        <td></td>\n",
    "    </tr>\n",
    "    <tr>\n",
    "        <td><b>Text Format</b></td>\n",
    "        <td>Plaintext</td>\n",
    "        <td>Text-only output without formatting</td>\n",
    "        <td></td>\n",
    "    </tr>\n",
    "    <tr>\n",
    "        <td></td>\n",
    "        <td>Text with markdown</td>\n",
    "        <td>Text with markdown elements</td>\n",
    "        <td align=\"left\">✅</td>\n",
    "    </tr>\n",
    "    <tr>\n",
    "        <td></td>\n",
    "        <td>Text with HTML</td>\n",
    "        <td>Text with integrated HTML elements</td>\n",
    "        <td></td>\n",
    "    </tr>\n",
    "    <tr>\n",
    "        <td></td>\n",
    "        <td>CSV</td>\n",
    "        <td>CSV format for tables only</td>\n",
    "        <td></td>\n",
    "    </tr>\n",
    "    <tr>\n",
    "        <td><b>Bounding Boxes</b></td>\n",
    "        <td>Enabled</td>\n",
    "        <td>Outputs coordinates of four corners for document elements</td>\n",
    "        <td></td>\n",
    "    </tr>\n",
    "    <tr>\n",
    "        <td><b>Generative Fields</b></td>\n",
    "        <td>Enabled</td>\n",
    "        <td>• 10-word summary<br>• 250-word description<br>• Figure captions (when element granularity enabled)</td>\n",
    "        <td></td>\n",
    "    </tr>\n",
    "</table>"
   ]
  },
  {
   "cell_type": "markdown",
   "id": "7e94da4a-046e-409a-9bff-59bf2aec728b",
   "metadata": {},
   "source": [
    "We configure the standard output for our sample document to enable all possible settings in order to demonstrate the full range of capabilities.\n",
    "\n",
    "Note: When creating a project, you must define your configuration settings for the type of file you tend to process (the modality you intend to use). In our case, we have defined the standard output configuration for `Document` modality."
   ]
  },
  {
   "cell_type": "code",
   "execution_count": null,
   "id": "b02365f1-b784-4c14-8a73-540c875c2733",
   "metadata": {
    "editable": true,
    "slideshow": {
     "slide_type": ""
    },
    "tags": []
   },
   "outputs": [],
   "source": [
    "standard_output_config =  {\n",
    "  \"document\": {\n",
    "    \"extraction\": {\n",
    "      \"granularity\": {\"types\": [\"DOCUMENT\",\"PAGE\", \"ELEMENT\",\"LINE\",\"WORD\"]},\n",
    "      \"boundingBox\": {\"state\": \"ENABLED\"}\n",
    "    },\n",
    "    \"generativeField\": {\"state\": \"ENABLED\"},\n",
    "    \"outputFormat\": {\n",
    "      \"textFormat\": {\"types\": [\"PLAIN_TEXT\", \"MARKDOWN\", \"HTML\", \"CSV\"]},\n",
    "      \"additionalFileFormat\": {\"state\": \"ENABLED\"}\n",
    "    }\n",
    "  }\n",
    "}"
   ]
  },
  {
   "cell_type": "markdown",
   "id": "09a9f7c7-f2e2-4e81-b5e6-776c20a743e8",
   "metadata": {
    "editable": true,
    "slideshow": {
     "slide_type": ""
    },
    "tags": []
   },
   "source": [
    "## Create a data automation project with standard output configuration"
   ]
  },
  {
   "cell_type": "markdown",
   "id": "ebb2b897-3d7a-4b8a-ac57-6a4bd1592f58",
   "metadata": {
    "editable": true,
    "slideshow": {
     "slide_type": ""
    },
    "tags": []
   },
   "source": [
    "To begin processing files with BDA using our standard output configuration, we will first create a Data Automation Project. We use the project to store the standard output configurations used to process our sample document. To get an overview of all the available parameters for project creation, see the [create project documentation](https://boto3.amazonaws.com/v1/documentation/api/latest/reference/services/bedrock-data-automation/client/create_data_automation_project.html)."
   ]
  },
  {
   "cell_type": "markdown",
   "id": "6c2b2430-9dee-45fc-961b-a81d20bd9a5d",
   "metadata": {},
   "source": [
    "The API creates a new project with a unique ARN. The project stores the output settings for future use. If a project is created with no parameters, the default settings will apply.\n",
    "\n",
    "To continue to get standard default output, configure the parameter 'DataAutomationProjectArn'to use 'arn:aws:bedrock:<region>:aws:data-automation-project/public-default'. "
   ]
  },
  {
   "cell_type": "markdown",
   "id": "fc234a63-d12e-4e07-9c9e-971e6258f91c",
   "metadata": {},
   "source": [
    "We first check if the project already exists, if yes then we delete the project before we call the `create_data_automation_project` API"
   ]
  },
  {
   "cell_type": "code",
   "execution_count": null,
   "id": "d42d5ff4-fee2-486b-a91d-d15b394bb4ca",
   "metadata": {
    "editable": true,
    "slideshow": {
     "slide_type": ""
    },
    "tags": []
   },
   "outputs": [],
   "source": [
    "project_name= \"my_bda_project\"\n",
    "\n",
    "# delete project if it already exists\n",
    "projects_existing = [project for project in bda_client.list_data_automation_projects()[\"projects\"] if project[\"projectName\"] == project_name]\n",
    "if len(projects_existing) > 0:\n",
    "    print(f\"Deleting existing project: {projects_existing[0]}\")\n",
    "    bda_client.delete_data_automation_project(projectArn=projects_existing[0][\"projectArn\"])\n",
    "    time.sleep(1)\n",
    "\n",
    "print(f\"\\nCreating project: {project_name}...\\n\")\n",
    "response = bda_client.create_data_automation_project(\n",
    "    projectName=project_name,\n",
    "    projectDescription=\"project to demonstration the full range of standard output options\",\n",
    "    projectStage='LIVE',\n",
    "    standardOutputConfiguration=standard_output_config\n",
    ")\n",
    "project_arn = response[\"projectArn\"]\n",
    "status_response = helper_functions.wait_for_completion(\n",
    "    client=bda_client,\n",
    "    get_status_function=bda_client.get_data_automation_project,\n",
    "    status_kwargs={'projectArn': project_arn},\n",
    "    completion_states=['COMPLETED'],\n",
    "    error_states=['FAILED'],\n",
    "    status_path_in_response='project.status',\n",
    "    max_iterations=15,\n",
    "    delay=30\n",
    ")\n",
    "JSON(status_response,expanded=False)"
   ]
  },
  {
   "cell_type": "markdown",
   "id": "5439f79d-e948-4f3b-8d3d-7faad2e35c00",
   "metadata": {
    "editable": true,
    "slideshow": {
     "slide_type": ""
    },
    "tags": []
   },
   "source": [
    "## Invoke Data Automation Async\n",
    "You have a project set up, you can start processing images using the `invoke_data_automation_async` operation. The InvokeDataAutomationAsync operation allows you to trigger the asynchronous processing of documents or images stored in an S3 bucket, using the data automation project we created earlier. The operation returns an `invocation arn` that can be used to monitor the progress of the processing task."
   ]
  },
  {
   "cell_type": "code",
   "execution_count": null,
   "id": "96e534fe-e15d-498f-b424-57c0be6010aa",
   "metadata": {
    "editable": true,
    "slideshow": {
     "slide_type": ""
    },
    "tags": []
   },
   "outputs": [],
   "source": [
    "print(f\"Invoking bda - input: {document_s3_uri}\")\n",
    "print(f\"Invoking bda - output: {bda_s3_output_location}\")\n",
    "\n",
    "response = bda_runtime_client.invoke_data_automation_async(\n",
    "    inputConfiguration={\n",
    "        's3Uri': document_s3_uri\n",
    "    },\n",
    "    outputConfiguration={\n",
    "        's3Uri': bda_s3_output_location\n",
    "    },\n",
    "    dataAutomationConfiguration={\n",
    "        'dataAutomationProjectArn': project_arn,\n",
    "        'stage': 'LIVE'\n",
    "    },\n",
    "    dataAutomationProfileArn=f'arn:aws:bedrock:{current_region}:{account_id}:data-automation-profile/us.data-automation-v1'\n",
    ")\n",
    "\n",
    "invocationArn = response['invocationArn']"
   ]
  },
  {
   "cell_type": "markdown",
   "id": "7fdf9cd6-3fb6-4301-b547-2393057f9dac",
   "metadata": {
    "editable": true,
    "slideshow": {
     "slide_type": ""
    },
    "tags": []
   },
   "source": [
    "### Get data automation job status\n",
    "\n",
    "We use the `get_data_automation_status` API to check the status and monitor the progress of the Invocation job. This API takes the invocation arn we retrieved from the response to the `invoke_data_automation_async` operation above. The API checks the current status of the job and returns the detail about the job status. \n",
    "\n",
    "If the job is still in progress, it returns the current state (e.g., \"RUNNING\", \"QUEUED\"). If the job is complete, it returns \"COMPLETED\" along with the S3 location of the results. If there was an error, it returns \"FAILED\" with error details."
   ]
  },
  {
   "cell_type": "code",
   "execution_count": null,
   "id": "384a70e2-c004-48c5-9f84-b54536d97e9f",
   "metadata": {
    "editable": true,
    "slideshow": {
     "slide_type": ""
    },
    "tags": []
   },
   "outputs": [],
   "source": [
    "status_response = helper_functions.wait_for_completion(\n",
    "            client=bda_client,\n",
    "            get_status_function=bda_runtime_client.get_data_automation_status,\n",
    "            status_kwargs={'invocationArn': invocationArn},\n",
    "            completion_states=['Success'],\n",
    "            error_states=['ClientError', 'ServiceError'],\n",
    "            status_path_in_response='status',\n",
    "            max_iterations=15,\n",
    "            delay=30\n",
    ")\n",
    "if status_response['status'] == 'Success':\n",
    "    job_metadata_s3_location = status_response['outputConfiguration']['s3Uri']\n",
    "else:\n",
    "    raise Exception(f'Invocation Job Error, error_type={status_response[\"error_type\"]},error_message={status_response[\"error_message\"]}')"
   ]
  },
  {
   "cell_type": "markdown",
   "id": "ee1f46e3-c292-4d09-967e-4f5e31b94cb2",
   "metadata": {
    "editable": true,
    "slideshow": {
     "slide_type": ""
    },
    "tags": []
   },
   "source": [
    "### Retrieve job metadata\n",
    "BDA stores the output from data automation job in the S3 bucket provided as input to the `InvokeDataAutomationAsync` API call earlier. We can retrieve and explore the job metadata response that BDA produces in the configured S3 output bucket.\n",
    "\n",
    "The `job metadata` contains the job details including job_id, the job_status and the identified modality for the job. It also contains the output information with an S3 location for the results."
   ]
  },
  {
   "cell_type": "code",
   "execution_count": null,
   "id": "0a496cd4-0178-463a-aa47-147443de0edc",
   "metadata": {
    "editable": true,
    "slideshow": {
     "slide_type": ""
    },
    "tags": []
   },
   "outputs": [],
   "source": [
    "job_metadata = json.loads(helper_functions.read_s3_object(job_metadata_s3_location))\n",
    "pd.set_option('display.max_colwidth', None)\n",
    "\n",
    "\n",
    "job_status = pd.DataFrame({\n",
    "    'job_id': [job_metadata['job_id']],\n",
    "    'job_status': [job_metadata['job_status']],\n",
    "    'semantic_modality': [job_metadata['semantic_modality']]\n",
    "}).T\n",
    "job_metadata_table = pd.DataFrame(job_metadata['output_metadata'][0]['segment_metadata']).fillna('').T\n",
    "job_metadata_table.index.name='Segment Index'\n",
    "job_metadata_json = JSON(job_metadata, root=\"job_metadata\", expanded=True)\n",
    "# Display the widget\n",
    "display_functions.display_multiple(\n",
    "    [display_functions.get_view(job_status), display_functions.get_view(job_metadata_table), display_functions.get_view(job_metadata_json)], \n",
    "    [\"Job Status\", \"Output Info\", \"Metadata (JSON)\"])"
   ]
  },
  {
   "cell_type": "markdown",
   "id": "f0429dec-2e74-4317-968f-c61b2838eb5d",
   "metadata": {
    "editable": true,
    "slideshow": {
     "slide_type": ""
    },
    "tags": []
   },
   "source": [
    "## Bedrock Data Automation document response\n",
    "\n",
    "This section focuses on the different response objects you receive from running the API operation `invoke_data_automation_async` on a document file. The results of the file processing are stored in the S3 bucket provided when calling the `invoke_data_automation_async` API. We can find the S3 uri of the results file in the `job_metadata.json` file. \n",
    "\n",
    "The output includes unique structures depending on both the file modality. Our sample asset is of `Document` modality and based on our standard output configuration, we should see the following main sections in the results:\n",
    "\n",
    "* **[metadata](#standard_output_metadata)**\n",
    "* **document**\n",
    "* **pages**\n",
    "* **elements**\n",
    "* **text_lines**\n",
    "* **text_words**\n",
    "\n",
    "Let's download the results and start exploring the response objects."
   ]
  },
  {
   "cell_type": "markdown",
   "id": "97e1299b-3af2-4020-8cf3-4fce4a7ecb04",
   "metadata": {},
   "source": [
    "### Downloading the standard output results from S3\n",
    "Here we download the Standard output results in JSON format using the `standard_output_path` that we found in the `job_metadata.json` associated with our `invoke_data_automation_async` job."
   ]
  },
  {
   "cell_type": "code",
   "execution_count": null,
   "id": "e9450960-130c-4130-9588-ff4f5695bab8",
   "metadata": {
    "editable": true,
    "slideshow": {
     "slide_type": ""
    },
    "tags": []
   },
   "outputs": [],
   "source": [
    "asset_id = 0\n",
    "standard_output_path = next(item[\"segment_metadata\"][0][\"standard_output_path\"] \n",
    "                                for item in job_metadata[\"output_metadata\"] \n",
    "                                if item['asset_id'] == asset_id)\n",
    "standard_output = json.loads(helper_functions.read_s3_object(standard_output_path))"
   ]
  },
  {
   "cell_type": "markdown",
   "id": "57b91afd-84a0-4f9d-844d-8da2ed3f6593",
   "metadata": {},
   "source": [
    "### Explore standard output response objects"
   ]
  },
  {
   "cell_type": "markdown",
   "id": "44424be0-6d94-401c-be7e-4734284462d3",
   "metadata": {},
   "source": [
    "In the following sub-sections, we'll break down each section of the response object and then see the raw response content as well as formatted user friendly view to understand the information you have in each of these response object."
   ]
  },
  {
   "cell_type": "markdown",
   "id": "028fed44-1399-4f84-a557-b727e30a4b13",
   "metadata": {
    "editable": true,
    "slideshow": {
     "slide_type": ""
    },
    "tags": []
   },
   "source": [
    "#### metadata\n",
    "The metadata section in the response provides an overview of the metadata associated with the document. This include the S3 bucket and key for the input document. The metadata also contains the modality that was selected for your response, the number of pages processed as well as the start and end page index."
   ]
  },
  {
   "cell_type": "code",
   "execution_count": null,
   "id": "d13ac389-a272-4306-a766-79df0c5d6821",
   "metadata": {
    "editable": true,
    "slideshow": {
     "slide_type": ""
    },
    "tags": []
   },
   "outputs": [],
   "source": [
    "metadata = standard_output['metadata']\n",
    "metadata_table = pd.DataFrame([metadata]).fillna('').T\n",
    "metadata_json = JSON(metadata,root='metadata',expanded=True)\n",
    "# Display the widget\n",
    "display_functions.display_multiple(\n",
    "    [display_functions.get_view(metadata_table), display_functions.get_view(metadata_json)], \n",
    "    [\"Metadata (Table)\", \"Metadata (JSON)\"])\n",
    "\n"
   ]
  },
  {
   "cell_type": "markdown",
   "id": "95ac64f9-2e7b-4701-86d2-150eb6a674e5",
   "metadata": {
    "editable": true,
    "slideshow": {
     "slide_type": ""
    },
    "tags": []
   },
   "source": [
    "#### document\n",
    "The document section of the standard output provides document level granularity information. Document level granularity would include an analysis of information from the document providing key pieces of info.\n",
    "\n",
    "By default the document level granularity includes statistics that contain information on the actual content of the document, such as how many semantic elements there are, how many figures, words, lines, etc. We will look at further information that would be presented in the document level granularity when we modify the standard output using projects."
   ]
  },
  {
   "cell_type": "code",
   "execution_count": null,
   "id": "d460e569-ef2e-49ca-9706-a918beae27b2",
   "metadata": {
    "editable": true,
    "slideshow": {
     "slide_type": ""
    },
    "tags": []
   },
   "outputs": [],
   "source": [
    "document_df = pd.json_normalize(standard_output[\"document\"]).T\n",
    "document_json = JSON(standard_output[\"document\"],root='document',expanded=True)\n",
    "pd.set_option('display.max_colwidth', 200)\n",
    "display_functions.display_multiple(\n",
    "    [display_functions.get_view(document_df), display_functions.get_view(document_json)], \n",
    "    [\"Document (Table)\", \"Document (JSON)\"])"
   ]
  },
  {
   "cell_type": "markdown",
   "id": "c85be5e7-57fe-485d-a26c-cbbf38930fd7",
   "metadata": {
    "editable": true,
    "slideshow": {
     "slide_type": ""
    },
    "tags": []
   },
   "source": [
    "#### pages\n",
    "With Page level granularity (enabled by default) text in a page is consolidated and are listed in the pages section with one item for each page. The page entity in the Standard output include the page index. The individual page entities also include the statistics that contain information on the actual content of the document, such as how many semantic elements there are, how many figures, words, lines, etc. The asset metadata represents the page bounds using coordinates of the four corners.\n",
    "\n",
    "Below, we look at a snippet of the output pertaining to a specific page."
   ]
  },
  {
   "cell_type": "code",
   "execution_count": null,
   "id": "d5d0dc33-4ae0-4d69-b709-dab5a22daf09",
   "metadata": {},
   "outputs": [],
   "source": [
    "pages = standard_output[\"pages\"]\n",
    "pages_json = JSON(pages,root='pages',expanded=False)\n",
    "\n",
    "views=[display_functions.get_view(pages_json)]\n",
    "titles=[\"Pages (JSON)\"]\n",
    "\n",
    "modal_id, frame_id = display_functions.display_modal()\n",
    "for page_index, page in enumerate(pages):\n",
    "    if page:\n",
    "        views += [display_functions.get_page_view(page, modal_id, frame_id)]\n",
    "        titles += [f'Page {page_index+1}']\n",
    "display_functions.display_multiple(views, titles)"
   ]
  },
  {
   "cell_type": "markdown",
   "id": "26f32795-8436-44bd-9d71-8f8ad43143d4",
   "metadata": {
    "editable": true,
    "slideshow": {
     "slide_type": ""
    },
    "tags": []
   },
   "source": [
    "#### elements\n",
    "The element section contains the various semantic elements extracted from the documents including Text content, Tables and figures. The text and figure entities are further sub-classified for example TITLE/SECTION_TITLE for Text or Chart for figures."
   ]
  },
  {
   "cell_type": "markdown",
   "id": "e0a4011e-a84c-4c50-bca4-917470d1590d",
   "metadata": {
    "editable": true,
    "slideshow": {
     "slide_type": ""
    },
    "tags": []
   },
   "source": [
    "##### TEXT elements"
   ]
  },
  {
   "cell_type": "markdown",
   "id": "a21f6d2c-6e1e-4e36-837c-36781c2e91ae",
   "metadata": {
    "editable": true,
    "slideshow": {
     "slide_type": ""
    },
    "tags": []
   },
   "source": [
    "Below we extract the TEXT elements found in a page and display it along with the rectified image of the page output by BDA. When you hover over the text in the right side pane, you can see the TEXT element subtype as tooltip. Also, we use the bounding boxes provided by BDA to draw bounding boxes when we click on the TEXT element displayed on the right side pane."
   ]
  },
  {
   "cell_type": "code",
   "execution_count": null,
   "id": "a651e54e-e766-4d2b-b380-9e9dbd45215e",
   "metadata": {},
   "outputs": [],
   "source": [
    "s3_uri = standard_output['pages'][2]['asset_metadata']['rectified_image']\n",
    "elements = standard_output[\"elements\"]\n",
    "# Filter dataframe for text elements\n",
    "page2_text = [item for item in elements \n",
    "                 if item['type'] == 'TEXT' and 2 in item['page_indices']]\n",
    "\n",
    "page2_text.sort(key=lambda x: x['reading_order'])\n",
    "display_functions.create_page_viewer(s3_uri, page2_text)"
   ]
  },
  {
   "cell_type": "markdown",
   "id": "bae620f8-4d36-4dbc-ba02-0871dad2a990",
   "metadata": {
    "editable": true,
    "slideshow": {
     "slide_type": ""
    },
    "tags": []
   },
   "source": [
    "##### FIGURE elements\n",
    "The FIGURE entity is used for figures in document such as graphs and charts. These figures will be cropped and images sent to the output S3 bucket we provide when calling the `invoke_data_automation_sync` operation.  Additionally, you'll receive a `sub_type` and a `figure title` response for the title text and an indication on what kind of figure it is."
   ]
  },
  {
   "cell_type": "code",
   "execution_count": null,
   "id": "65214671-e123-4a0c-8ad3-692a6d733c8d",
   "metadata": {
    "editable": true,
    "slideshow": {
     "slide_type": ""
    },
    "tags": []
   },
   "outputs": [],
   "source": [
    "elements = standard_output[\"elements\"]\n",
    "# Filter dataframe for text elements\n",
    "figures = [item for item in elements \n",
    "                 if item['type'] == 'FIGURE']\n",
    "\n",
    "figures.sort(key=lambda x: x['reading_order'])\n",
    "figures_json = JSON(figures,root='figures',expanded=False)\n",
    "figure_views=[display_functions.get_view(figures_json)]\n",
    "figure_titles=[\"Figures (JSON)\"]\n",
    "model_id, frame_id = display_functions.display_modal()\n",
    "\n",
    "for figure_index, figure in enumerate(figures):\n",
    "    if figure:\n",
    "        figure_views += [display_functions.get_figure_view(figure, model_id, frame_id)]\n",
    "        figure_titles += [f'Figure {figure_index+1}']\n",
    "display_functions.display_multiple(figure_views, figure_titles)"
   ]
  },
  {
   "cell_type": "markdown",
   "id": "43b2ff25-4253-46e7-a04a-c45d2fc33151",
   "metadata": {
    "editable": true,
    "slideshow": {
     "slide_type": ""
    },
    "tags": []
   },
   "source": [
    "##### TABLE elements"
   ]
  },
  {
   "cell_type": "code",
   "execution_count": null,
   "id": "98c6beb6-c314-42dc-9352-166e4e1580b5",
   "metadata": {
    "editable": true,
    "slideshow": {
     "slide_type": ""
    },
    "tags": []
   },
   "outputs": [],
   "source": [
    "# Filter dataframe for text elements\n",
    "df_elements = pd.json_normalize(standard_output[\"elements\"])\n",
    "df_table = df_elements[df_elements[\"type\"] == \"TABLE\"]\n",
    "\n",
    "embedded_images=df_table.apply( lambda row: helper_functions.create_image_html_column(row, \"crop_images\",\"500px\"), axis=1)\n",
    "df_table.insert(6, 'image', embedded_images)\n",
    "cols = [\"type\",\"locations\",\"image\", \n",
    "        #'representation.text', 'representation.markdown', \n",
    "        'representation.html','title', 'summary', 'footers', 'headers', 'csv_s3_uri',\n",
    "       'representation.csv']\n",
    "# Display formatted dataframe\n",
    "show(\n",
    "    df_table[cols],\n",
    "    columnDefs=[                \n",
    "        {\"width\": \"120px\", \"targets\": [0,1]},   \n",
    "        {\"width\": \"340px\", \"targets\": [2]},  \n",
    "        {\"width\": \"380px\", \"targets\": [3]},\n",
    "        {\"width\": \"150px\", \"targets\": [5,6,7,8]},        \n",
    "        {\"className\": \"dt-left\", \"targets\": \"_all\"}\n",
    "    ],\n",
    "    # style=\"width:1200px\",\n",
    "    # autoWidth=True,\n",
    "    classes=\"compact\",\n",
    "    showIndex=False,\n",
    "    scrollY=\"400\"    \n",
    ")"
   ]
  },
  {
   "cell_type": "code",
   "execution_count": null,
   "id": "a595fdfa-da74-4adc-a4a8-434f0bbfbbdc",
   "metadata": {
    "editable": true,
    "slideshow": {
     "slide_type": ""
    },
    "tags": []
   },
   "outputs": [],
   "source": [
    "JSON([el for el in standard_output[\"elements\"]if el[\"type\"]==\"TABLE\"][2], root=\"sample_table\")"
   ]
  },
  {
   "cell_type": "markdown",
   "id": "8ba9e4ac-cddc-4894-8367-ed2a9be00382",
   "metadata": {},
   "source": [
    "#### text_lines elements"
   ]
  },
  {
   "cell_type": "code",
   "execution_count": null,
   "id": "9c5634d8-b1d0-4295-8e28-e33a6a604629",
   "metadata": {},
   "outputs": [],
   "source": [
    "JSON(standard_output[\"text_lines\"][:10], root=\"text_lines\")"
   ]
  },
  {
   "cell_type": "code",
   "execution_count": null,
   "id": "20b59c6e-6dfa-40a9-9309-66cd383af8d1",
   "metadata": {},
   "outputs": [],
   "source": [
    "df = pd.json_normalize(standard_output[\"text_lines\"])\n",
    "show(df, classes=\"compact\")"
   ]
  },
  {
   "cell_type": "markdown",
   "id": "fcd633e5-277e-44bc-9de7-587e87fe9faa",
   "metadata": {},
   "source": [
    "#### text_words elements"
   ]
  },
  {
   "cell_type": "code",
   "execution_count": null,
   "id": "ff5e14af-6027-428d-8b81-d018686adc14",
   "metadata": {},
   "outputs": [],
   "source": [
    "JSON(standard_output[\"text_words\"][3:4], root=\"text_words[3:4]\", expanded=True)"
   ]
  },
  {
   "cell_type": "markdown",
   "id": "5e83cd8f-507f-4414-92eb-f92a25f894e4",
   "metadata": {},
   "source": [
    "## Conclusion\n",
    "\n",
    "We explored the standard output of BDA for documents which can be configured and allows us to detailed insights about a document and its structure,  like headers, sections, paragraphs, tables, figures, charts, etc.\n",
    "\n",
    "It does not only detect these elements but also interprets these elements, e.g. by giving a description of a figures, or by extracting the chart depicted values into a structured table. "
   ]
  },
  {
   "cell_type": "markdown",
   "id": "339176b4-0bee-4900-9f50-d3656f86b93e",
   "metadata": {
    "editable": true,
    "slideshow": {
     "slide_type": ""
    },
    "tags": []
   },
   "source": [
    "## Clean Up\n",
    "Let's delete uploaded sample file from s3 input directory and the generated job output files."
   ]
  },
  {
   "cell_type": "code",
   "execution_count": null,
   "id": "7ebefcf2-c020-41da-9770-35fe9cfdc9e4",
   "metadata": {
    "scrolled": true
   },
   "outputs": [],
   "source": [
    "import os\n",
    "from pathlib import Path\n",
    "import shutil\n",
    "\n",
    "# Delete S3 File\n",
    "s3_client.delete_object(Bucket=target_s3_bucket, Key=target_s3_key)\n",
    "\n",
    "# Delete local file\n",
    "if os.path.exists(file_path_local):\n",
    "    os.remove(file_path_local)\t\n",
    "\n",
    "# Delete bda job output\n",
    "bda_s3_job_location = str(Path(job_metadata_s3_location).parent).replace(\"s3:/\",\"s3://\")\n",
    "!aws s3 rm {bda_s3_job_location} --recursive"
   ]
  },
  {
   "cell_type": "markdown",
   "id": "bd98eb4b-9cdc-4414-a14f-23ab4349f3f0",
   "metadata": {},
   "source": [
    "## Summary and next steps"
   ]
  },
  {
   "cell_type": "markdown",
   "id": "5449b54d-a92a-460c-a394-2e96b8d5c471",
   "metadata": {},
   "source": [
    "In this lab we saw how BDA's standard output provides a default set of commonly required information for documents, such as document summaries, text extraction, and metadata. \n",
    "\n",
    "In a subsequent lab you will explore using custom output and blueprints, how you can ensure that the generated output adheres to a specific format or a schema tailored to your downstream systems such as a structured database."
   ]
  }
 ],
 "metadata": {
  "kernelspec": {
   "display_name": "Python 3 (ipykernel)",
   "language": "python",
   "name": "python3"
  },
  "language_info": {
   "codemirror_mode": {
    "name": "ipython",
    "version": 3
   },
   "file_extension": ".py",
   "mimetype": "text/x-python",
   "name": "python",
   "nbconvert_exporter": "python",
   "pygments_lexer": "ipython3",
   "version": "3.11.10"
  }
 },
 "nbformat": 4,
 "nbformat_minor": 5
}
