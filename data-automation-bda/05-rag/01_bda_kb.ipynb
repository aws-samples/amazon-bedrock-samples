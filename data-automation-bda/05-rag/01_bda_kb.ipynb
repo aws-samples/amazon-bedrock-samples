{
 "cells": [
  {
   "cell_type": "markdown",
   "id": "28739f83-678f-4e76-bb40-af12caf8fac2",
   "metadata": {
    "editable": true,
    "slideshow": {
     "slide_type": ""
    },
    "tags": []
   },
   "source": [
    "# Building a Multimodal Retrieval-Augmented Generation (RAG) Application with Amazon Bedrock Data Automation"
   ]
  },
  {
   "cell_type": "markdown",
   "id": "17a7159c-4b33-4c1a-af1d-710d85c921f4",
   "metadata": {
    "editable": true,
    "slideshow": {
     "slide_type": ""
    },
    "tags": []
   },
   "source": [
    "# Introduction\n",
    "\n",
    "This notebook demonstrates how to build a Multimodal Retrieval-Augmented Generation (RAG) application using Amazon Bedrock Data Automation (BDA) and Bedrock Knowledge Bases (KB). With the latest integration between BDA and Amazon Bedrock Knowledge Bases, you can specify BDA as parser of your data source for Bedrock Knowledge Bases.\n",
    "\n",
    "## Key Features\n",
    "\n",
    "- Amazon Bedrock Data Automation (BDA): A managed service that automatically extracts content from multimodal data. BDA streamlines the generation of valuable insights from unstructured multimodal content such as documents, images, audio, and videos through a unified multi-modal inference API.\n",
    "  \n",
    "- Bedrock KB to build a RAG solution with BDA: Amazon Bedrock KB extract multi-modal content using BDA, generating semantic embeddings using the selected embedding model, and storing them in the chosen vector store. This enables users to retrieve and generate answers to questions derived not only from text but also from image data. Additionally, retrieved results include source attribution for visual data, enhancing transparency and building trust in the generated outputs."
   ]
  },
  {
   "cell_type": "markdown",
   "id": "ca16843e-0586-4c58-991f-ca6898e192e2",
   "metadata": {
    "editable": true,
    "slideshow": {
     "slide_type": ""
    },
    "tags": []
   },
   "source": [
    "## Prerequisites\n",
    "Please make sure to enable `Anthropic Claude 3 Sonnet` , `Amazon Nova Micro` and  `Titan Text Embeddings V2` model access in Amazon Bedrock Console\n",
    "\n",
    "You need to have suitable IAM role permission to run this notebook. For IAM role, choose either an existing IAM role in your account or create a new role. The role must the necessary permissions to invoke the BDA, Bedrock KB, create IAM roles, SageMaker and S3 APIs.\n",
    "\n",
    "Note: The AdministratorAccess IAM policy can be used, if allowed by security policies at your organization.\n",
    "\n",
    "<div class=\"alert alert-block alert-info\">\n",
    "<b>Note:</b> Please run the notebook cell one at a time instead of using \"Run All Cells\" option.\n",
    "</div>\n"
   ]
  },
  {
   "cell_type": "markdown",
   "id": "7a1ac402-0ae3-4041-9cb6-8b2c253c58d3",
   "metadata": {},
   "source": [
    "# Setup notebook and boto3 clients\n",
    "\n",
    "In this step, we will import some necessary libraries that will be used throughout this notebook. To use Amazon Bedrock Data Automation (BDA) with boto3, you'll need to ensure you have the latest version of the AWS SDK for Python (boto3) installed. Version Boto3 1.35.96 of later is required.\n",
    "\n",
    "Note: At time of Public Preview launch, BDA is available in us-west-2 only."
   ]
  },
  {
   "cell_type": "code",
   "execution_count": null,
   "id": "66bbf79b",
   "metadata": {},
   "outputs": [],
   "source": [
    "%pip install --force-reinstall -q -r ./requirements.txt"
   ]
  },
  {
   "cell_type": "code",
   "execution_count": null,
   "id": "b30dd502-5210-4567-99ce-d2300c5f43a9",
   "metadata": {},
   "outputs": [],
   "source": [
    "# restart kernel\n",
    "from IPython.core.display import HTML\n",
    "HTML(\"<script>Jupyter.notebook.kernel.restart()</script>\")"
   ]
  },
  {
   "cell_type": "code",
   "execution_count": null,
   "id": "f75bfcb2-1f39-4288-a6b7-d3604cff85bc",
   "metadata": {
    "editable": true,
    "scrolled": true,
    "slideshow": {
     "slide_type": ""
    },
    "tags": []
   },
   "outputs": [],
   "source": [
    "%load_ext autoreload\n",
    "%autoreload 2\n",
    "\n",
    "import warnings\n",
    "warnings.filterwarnings('ignore')"
   ]
  },
  {
   "cell_type": "markdown",
   "id": "f1c2cbe1",
   "metadata": {},
   "source": [
    "<div class=\"alert alert-block alert-info\">\n",
    "<b>Note:</b> In this workshop, a pre-created S3 bucket will be used, and the input and output will be saved under a folder called \"bda\" in the default bucket. Please replace the following cell with your S3 bucket name. \n",
    "</div>"
   ]
  },
  {
   "cell_type": "code",
   "execution_count": null,
   "id": "02bb5216-a0d3-4a6d-a57f-ec95c98aa2a6",
   "metadata": {},
   "outputs": [],
   "source": [
    "import boto3\n",
    "from botocore.exceptions import ClientError\n",
    "import os\n",
    "import json, uuid\n",
    "from datetime import datetime\n",
    "import time\n",
    "from time import sleep\n",
    "import pprint\n",
    "import random\n",
    "from retrying import retry\n",
    "from PyPDF2 import PdfReader\n",
    "from tqdm import tqdm\n",
    "from pathlib import Path\n",
    "import tempfile\n",
    "import io\n",
    "import base64\n",
    "from IPython.display import JSON, IFrame, Audio, display, clear_output\n",
    "import IPython.display as display\n",
    "import sagemaker\n",
    "import logging\n",
    "from utils.knowledge_base import BedrockKnowledgeBase\n",
    "\n",
    "\n",
    "suffix = random.randrange(200, 900)\n",
    "\n",
    "sts_client = boto3.client('sts')\n",
    "account_id = sts_client.get_caller_identity()[\"Account\"]\n",
    "\n",
    "session = sagemaker.Session()\n",
    "bucket_name = session.default_bucket()\n",
    "\n",
    "bucket_name_kb = f'kb-bda-multimodal-datasource-{account_id}'\n",
    "\n",
    "\n",
    "region_name = \"us-west-2\" # can be removed ones BDA is GA and available in other regions.\n",
    "region = region_name\n",
    "\n",
    "s3_client = boto3.client('s3', region_name=region_name)\n",
    "\n",
    "bda_client = boto3.client('bedrock-data-automation', region_name=region_name)\n",
    "bda_runtime_client = boto3.client('bedrock-data-automation-runtime', region_name=region_name)\n",
    "\n",
    "bedrock_agent_client = boto3.client('bedrock-agent')\n",
    "bedrock_agent_runtime_client = boto3.client('bedrock-agent-runtime') \n",
    "\n",
    "logging.basicConfig(format='[%(asctime)s] p%(process)s {%(filename)s:%(lineno)d} %(levelname)s - %(message)s', level=logging.INFO)\n",
    "logger = logging.getLogger(__name__)\n",
    "region, account_id\n",
    "\n",
    "# Create S3 bucket for the KB\n",
    "if region == \"us-east-1\":\n",
    "    s3_client.create_bucket(Bucket=bucket_name_kb)\n",
    "else:\n",
    "    s3_client.create_bucket(\n",
    "        Bucket=bucket_name_kb,\n",
    "        CreateBucketConfiguration={'LocationConstraint': region}\n",
    "    )\n",
    "\n",
    "bucket_name_input = f's3://{bucket_name}/bda/input'      # DBA input path\n",
    "bucket_name_output = f's3://{bucket_name}/bda/output'    # DBA output path\n"
   ]
  },
  {
   "cell_type": "markdown",
   "id": "c6c1c8b3-1176-4d45-a48d-0295908206a4",
   "metadata": {},
   "source": [
    "## Create a BDA project\n",
    "To start a BDA job, you need a BDA project, which organizes both standard and custom output configurations. This project is reusable, allowing you to apply the same configuration to process multiple video/audio files that share the same settings."
   ]
  },
  {
   "cell_type": "code",
   "execution_count": 5,
   "id": "68b85496-ab88-4a99-892a-c2f764800c59",
   "metadata": {},
   "outputs": [],
   "source": [
    "project_name= f'bda-workshop-kb-project-{str(uuid.uuid4())[0:4]}'\n",
    "\n",
    "# delete project if it already exists\n",
    "projects_existing = [project for project in bda_client.list_data_automation_projects()[\"projects\"] if project[\"projectName\"] == project_name]\n",
    "if len(projects_existing) >0:\n",
    "    print(f\"Deleting existing project: {projects_existing[0]}\")\n",
    "    bda_client.delete_data_automation_project(projectArn=projects_existing[0][\"projectArn\"])"
   ]
  },
  {
   "cell_type": "code",
   "execution_count": 6,
   "id": "c64b4833-ce48-431d-9da0-d162b05957f1",
   "metadata": {},
   "outputs": [],
   "source": [
    "response = bda_client.create_data_automation_project(\n",
    "    projectName=project_name,\n",
    "    projectDescription='BDA workshop audio sample project',\n",
    "    projectStage='DEVELOPMENT',\n",
    "    standardOutputConfiguration={\n",
    "        \"video\": {\n",
    "            \"extraction\": {\n",
    "                \"category\": {\n",
    "                    \"state\": \"ENABLED\",\n",
    "                    \"types\": [\"CONTENT_MODERATION\", \"TEXT_DETECTION\", \"TRANSCRIPT\"]\n",
    "                },\n",
    "                \"boundingBox\": {\"state\": \"ENABLED\"}\n",
    "            },\n",
    "            \"generativeField\": {\n",
    "                \"state\": \"ENABLED\",\n",
    "                \"types\": [\"VIDEO_SUMMARY\", \"SCENE_SUMMARY\", \"IAB\"]\n",
    "            }\n",
    "        },\n",
    "        \"audio\": {\n",
    "            \"extraction\": {\n",
    "                \"category\": {\n",
    "                    \"state\": \"ENABLED\", \n",
    "                    \"types\": [\"AUDIO_CONTENT_MODERATION\", \"CHAPTER_CONTENT_MODERATION\", \"TRANSCRIPT\"]\n",
    "                }\n",
    "            },\n",
    "            \"generativeField\": {\n",
    "                \"state\": \"ENABLED\",\n",
    "                \"types\": [\"AUDIO_SUMMARY\", \"CHAPTER_SUMMARY\", \"IAB\"]\n",
    "            }\n",
    "        }\n",
    "    }\n",
    ")\n"
   ]
  },
  {
   "cell_type": "code",
   "execution_count": null,
   "id": "9aad4b09-b0f4-4e77-a375-6477efd87179",
   "metadata": {},
   "outputs": [],
   "source": [
    "kb_project_arn = response.get(\"projectArn\")\n",
    "print(\"BDA kb project ARN:\", kb_project_arn)"
   ]
  },
  {
   "cell_type": "code",
   "execution_count": null,
   "id": "4455e90f",
   "metadata": {},
   "outputs": [],
   "source": [
    "# Download sample audio\n",
    "file_name_audio = 'podcastdemo.mp3'\n",
    "source_url = f'https://d1xvhy22zmw77y.cloudfront.net/tmp/{file_name_audio}'\n",
    "\n",
    "!curl {source_url} --output {file_name_audio}\n",
    "\n",
    "# Download sample video\n",
    "file_name_video = 'podcastdemo.mp3'\n",
    "source_url = f'https://d1xvhy22zmw77y.cloudfront.net/tmp/{file_name_video}'\n",
    "\n",
    "!curl {source_url} --output {file_name_video}"
   ]
  },
  {
   "cell_type": "code",
   "execution_count": null,
   "id": "265795d4-9b13-46b9-b636-78b5ac8165b9",
   "metadata": {},
   "outputs": [],
   "source": [
    "# Upload an audio and video file samples to S3 for BDA processing\n",
    "from IPython.display import Audio,Video, display\n",
    "\n",
    "object_name_audio = f'bda/input/{file_name_audio}'\n",
    "\n",
    "s3_client.upload_file(file_name_audio, bucket_name, object_name_audio)\n",
    "\n",
    "object_name_video = f'bda/input/{file_name_video}'\n",
    "\n",
    "s3_client.upload_file(file_name_video, bucket_name, object_name_video)"
   ]
  },
  {
   "cell_type": "code",
   "execution_count": null,
   "id": "ad12ac4f-ee81-45cc-a261-dbe15e6058d1",
   "metadata": {},
   "outputs": [],
   "source": [
    "# Load and play an MP3 file\n",
    "display(Audio(file_name, autoplay=True))"
   ]
  },
  {
   "cell_type": "code",
   "execution_count": null,
   "id": "7f17c889",
   "metadata": {},
   "outputs": [],
   "source": [
    "# Load and play an MP4 file\n",
    "\n",
    "from IPython.display import HTML\n",
    "from base64 import b64encode\n",
    "\n",
    "def play(filename):\n",
    "    html = ''\n",
    "    video = open(filename,'rb').read()\n",
    "    src = 'data:video/mp4;base64,' + b64encode(video).decode()\n",
    "    html += '<video width=1000 controls autoplay loop><source src=\"%s\" type=\"video/mp4\"></video>' % src \n",
    "    return HTML(html)\n",
    "\n",
    "play(file_name_video)"
   ]
  },
  {
   "cell_type": "markdown",
   "id": "dd51747b-9e30-4a3d-b792-6eeccc57c60d",
   "metadata": {},
   "source": [
    "### Start BDA tasks\n",
    "We will now invoke the BDA API to process the uploaded audio file. You need to provide the BDA project ARN that we created at the beginning of the lab and specify an S3 location where BDA will store the output results.\n",
    "\n",
    "For a complete API reference for invoke a BDA async task, refer to this [document](https://boto3.amazonaws.com/v1/documentation/api/latest/reference/services/bedrock-data-automation-runtime/client/invoke_data_automation_async.html)."
   ]
  },
  {
   "cell_type": "code",
   "execution_count": null,
   "id": "c8041bf5-48c8-48c2-bcf6-53146715eedd",
   "metadata": {},
   "outputs": [],
   "source": [
    "# Start BDA task audio\n",
    "\n",
    "input_name = object_name_audio\n",
    "output_name = f'bda/output/' \n",
    "\n",
    "response_aud = bda_runtime_client.invoke_data_automation_async(\n",
    "    inputConfiguration={'s3Uri':  f\"s3://{bucket_name}/{input_name}\"},\n",
    "    outputConfiguration={'s3Uri': f\"s3://{bucket_name}/{output_name}\"},\n",
    "    dataAutomationConfiguration={\n",
    "        'dataAutomationArn': kb_project_arn,\n",
    "        'stage': 'DEVELOPMENT'\n",
    "    })\n",
    "response_aud"
   ]
  },
  {
   "cell_type": "code",
   "execution_count": null,
   "id": "67e34652-6b38-462b-874d-90dd5518a861",
   "metadata": {},
   "outputs": [],
   "source": [
    "invocation_audio_arn = response_aud.get(\"invocationArn\")\n",
    "\n",
    "print(\"BDA audio task started:\", invocation_audio_arn)"
   ]
  },
  {
   "cell_type": "markdown",
   "id": "3d926b1e",
   "metadata": {},
   "source": [
    "\n",
    "We will repeat the process for the uploaded video file. "
   ]
  },
  {
   "cell_type": "code",
   "execution_count": null,
   "id": "bb26cdb3",
   "metadata": {},
   "outputs": [],
   "source": [
    "# Start BDA task video\n",
    "\n",
    "input_name = object_name_video\n",
    "output_name = f'bda/output/' \n",
    "\n",
    "response_vid = bda_runtime_client.invoke_data_automation_async(\n",
    "    inputConfiguration={'s3Uri':  f\"s3://{bucket_name}/{object_name_video}\"},\n",
    "    outputConfiguration={'s3Uri': f\"s3://{bucket_name}/{output_name}\"},\n",
    "    dataAutomationConfiguration={\n",
    "        'dataAutomationArn': kb_project_arn,\n",
    "        'stage': 'DEVELOPMENT'\n",
    "    })\n",
    "response_vid"
   ]
  },
  {
   "cell_type": "code",
   "execution_count": null,
   "id": "3b35577d",
   "metadata": {},
   "outputs": [],
   "source": [
    "invocation_video_arn = response_vid.get(\"invocationArn\")\n",
    "\n",
    "print(\"BDA video task started:\", invocation_video_arn)"
   ]
  },
  {
   "cell_type": "markdown",
   "id": "a0f3e71c",
   "metadata": {},
   "source": [
    "We can monitor the progress status of BDA task execution, by running the code cell below"
   ]
  },
  {
   "cell_type": "code",
   "execution_count": null,
   "id": "65a778f7-8c43-4418-8b4a-f5ec2e76971c",
   "metadata": {},
   "outputs": [],
   "source": [
    "\n",
    "statusAudio,statusVideo, status_aud_response, status_vid_response = None, None, None, None\n",
    "while (statusAudio not in [\"Success\",\"ServiceError\",\"ClientError\"]) and (statusAudio not in [\"Success\",\"ServiceError\",\"ClientError\"]):\n",
    "    status_aud_response = bda_runtime_client.get_data_automation_status(\n",
    "        invocationArn=invocation_audio_arn\n",
    "    )\n",
    "    statusAudio = status_aud_response.get(\"status\")\n",
    "    clear_output(wait=True)\n",
    "   # print(f\"{datetime.now().strftime('%H:%M:%S')} : BDA kb audio task: {statusAudio}\")\n",
    "    \n",
    "    status_vid_response = bda_runtime_client.get_data_automation_status(\n",
    "        invocationArn=invocation_video_arn\n",
    "    )\n",
    "    statusVideo = status_vid_response.get(\"status\")\n",
    "    clear_output(wait=True)\n",
    "    print(f\"{datetime.now().strftime('%H:%M:%S')} : \"\\\n",
    "          f\"BDA kb video task: {statusVideo} \"\\\n",
    "          f\"BDA kb audio task: {statusAudio}\")\n",
    "    time.sleep(5)\n",
    "\n",
    "output_aud_config = status_aud_response.get(\"outputConfiguration\",{}).get(\"s3Uri\")\n",
    "print(\"Ouput configuration file:\", output_aud_config)\n",
    "\n",
    "output_vid_config = status_vid_response.get(\"outputConfiguration\",{}).get(\"s3Uri\")\n",
    "print(\"Ouput configuration file:\", output_vid_config)"
   ]
  },
  {
   "cell_type": "markdown",
   "id": "b61a1172-6264-4817-a050-deb73b5e3164",
   "metadata": {},
   "source": [
    "# Examine the BDA output for the processed audio file"
   ]
  },
  {
   "cell_type": "code",
   "execution_count": null,
   "id": "af95cdc6-9033-4348-a030-1f3a283273ed",
   "metadata": {},
   "outputs": [],
   "source": [
    "out_aud_loc = status_aud_response['outputConfiguration']['s3Uri'].split(\"/job_metadata.json\", 1)[0].split(bucket_name+\"/\")[1]\n",
    "out_aud_loc += \"/0/standard_output/0/result.json\"\n",
    "print(out_aud_loc)\n",
    "s3_client.download_file(bucket_name, out_aud_loc, 'result_aud.json')"
   ]
  },
  {
   "cell_type": "code",
   "execution_count": null,
   "id": "c0290d27-768a-4da8-973b-33f9eb29e86d",
   "metadata": {},
   "outputs": [],
   "source": [
    "data_aud = json.load(open('result_aud.json'))\n",
    "print(data_aud[\"audio\"][\"summary\"])"
   ]
  },
  {
   "cell_type": "markdown",
   "id": "05e2c756",
   "metadata": {},
   "source": [
    "# Examine the BDA output for the processed video file"
   ]
  },
  {
   "cell_type": "code",
   "execution_count": null,
   "id": "def441d4",
   "metadata": {},
   "outputs": [],
   "source": [
    "out_vid_loc = status_vid_response['outputConfiguration']['s3Uri'].split(\"/job_metadata.json\", 1)[0].split(bucket_name+\"/\")[1]\n",
    "out_vid_loc += \"/0/standard_output/0/result.json\"\n",
    "print(out_vid_loc)\n",
    "s3_client.download_file(bucket_name, out_vid_loc, 'result_vid.json')"
   ]
  },
  {
   "cell_type": "code",
   "execution_count": null,
   "id": "f34c2f5e",
   "metadata": {},
   "outputs": [],
   "source": [
    "data_vid = json.load(open('result_vid.json'))\n",
    "print(data_vid[\"video\"][\"summary\"])"
   ]
  },
  {
   "cell_type": "markdown",
   "id": "bc404c12-dc48-49c7-855c-f33e4604f8b0",
   "metadata": {},
   "source": [
    "# Integrate with Amazon Bedrock Knowledge Bases:\n",
    "After processed the audio and video files with a BDA project, next it is time to integrate with Bedrock KB.\n",
    "## Steps involved in this integration: \n",
    "- Set up a knowledge base to parse documents using Amazon Bedrock Data Automation as the parser.\n",
    "- Ingest the processed data into the knowledge base for retrieval and response generation."
   ]
  },
  {
   "cell_type": "code",
   "execution_count": null,
   "id": "0c4efa1f",
   "metadata": {},
   "outputs": [],
   "source": [
    "# Download sample doc\n",
    "file_name_doc = 'bedrock-ug.pdf'\n",
    "source_url = f'https://d1xvhy22zmw77y.cloudfront.net/tmp/{file_name_doc}'\n",
    "\n",
    "!curl {source_url} --output {file_name_doc}\n",
    "\n",
    "# Download sample image\n",
    "file_name_img = 'bda-idp.png'\n",
    "source_url = f'https://d1xvhy22zmw77y.cloudfront.net/tmp/{file_name_img}'\n",
    "\n",
    "!curl {source_url} --output {file_name_img}"
   ]
  },
  {
   "cell_type": "code",
   "execution_count": null,
   "id": "d60dc83e-e9a1-42d8-8de6-021c68f6ab45",
   "metadata": {
    "editable": true,
    "slideshow": {
     "slide_type": ""
    },
    "tags": []
   },
   "outputs": [],
   "source": [
    "# copy BDA proj output to bda_kb_bucket_name\n",
    "\n",
    "obj_audio = 'bda/dataset/result_aud.json'  \n",
    "s3_client.upload_file('result_aud.json', bucket_name_kb, obj_audio )\n",
    "\n",
    "obj_video = 'bda/dataset/result_vid.json'  \n",
    "s3_client.upload_file('result_vid.json', bucket_name_kb, obj_video )\n",
    "\n",
    "# copy pdf file and image file to bda_kb_bucket_name\n",
    "obj_doc = f\"bda/dataset/{file_name_doc}\"\n",
    "\n",
    "obj_img = f\"bda/dataset/{file_name_img}\"\n",
    "\n",
    "s3_client.upload_file(file_name_doc, bucket_name_kb, obj_doc )\n",
    "s3_client.upload_file(file_name_img, bucket_name_kb, obj_img )\n"
   ]
  },
  {
   "cell_type": "code",
   "execution_count": 20,
   "id": "2d0bb87f-52ad-43b3-82a3-23cac4da5a30",
   "metadata": {},
   "outputs": [],
   "source": [
    "# Get the current timestamp\n",
    "current_time = time.time()\n",
    "\n",
    "# Format the timestamp as a string\n",
    "timestamp_str = time.strftime(\"%Y%m%d%H%M%S\", time.localtime(current_time))[-7:]\n",
    "# Create the suffix using the timestamp\n",
    "suffix = f\"{timestamp_str}\"\n",
    "\n",
    "knowledge_base_name = f\"bedrock-multi-modal-kb-{suffix}\"\n",
    "knowledge_base_description = \"Multi-modal RAG knowledge base.\"\n",
    "\n",
    "foundation_model = \"anthropic.claude-3-sonnet-20240229-v1:0\""
   ]
  },
  {
   "cell_type": "markdown",
   "id": "0be7a09f-0f26-47fe-b3fc-ec392bda9bcd",
   "metadata": {
    "editable": true,
    "slideshow": {
     "slide_type": ""
    },
    "tags": []
   },
   "source": [
    "#### You can add multiple data sources (S3, Sharepoint) to a multimodal Knowledge Base. \n",
    "\n",
    "In this notebook, the process of creating a KB is simplified by using a wrapper function from the knowledge_base.py file in \"utils\" folder of this notebook. The whole process of creating data source, creating a KB, creating an embedding index, saving the index in a vector data store is simplified by using this function. \n"
   ]
  },
  {
   "cell_type": "code",
   "execution_count": 21,
   "id": "5bad0767-573d-4f89-9611-2469e80b0d2e",
   "metadata": {},
   "outputs": [],
   "source": [
    "## Please uncomment the data sources that you want to add and update the placeholder values accordingly.\n",
    "\n",
    "data=[{\"type\": \"S3\", \"bucket_name\": bucket_name_kb}]\n",
    "\n",
    "    # {\"type\": \"SHAREPOINT\", \"tenantId\": \"888d0b57-69f1-4fb8-957f-e1f0bedf64de\", \"domain\": \"yourdomain\",\n",
    "    #   \"authType\": \"OAUTH2_CLIENT_CREDENTIALS\",\n",
    "    #  \"credentialsSecretArn\": f\"arn:aws::secretsmanager:{region_name}:secret:<<your_secret_name>>\",\n",
    "    #  \"siteUrls\": [\"https://yourdomain.sharepoint.com/sites/mysite\"]\n",
    "    # },\n",
    "    \n",
    "                \n",
    "pp = pprint.PrettyPrinter(indent=2)"
   ]
  },
  {
   "cell_type": "markdown",
   "id": "ccba453a-e46a-47c0-ac88-12a5e6f52a63",
   "metadata": {},
   "source": [
    "### Step 1 - Create Knowledge Base with Multi modality"
   ]
  },
  {
   "cell_type": "code",
   "execution_count": null,
   "id": "ce13cfd2-09a6-4c83-aab8-595441b50e9e",
   "metadata": {},
   "outputs": [],
   "source": [
    "# For multi-modal RAG While instantiating BedrockKnowledgeBase, pass multi_modal= True and choose the parser you want to use\n",
    "\n",
    "knowledge_base = BedrockKnowledgeBase(\n",
    "    kb_name=f'{knowledge_base_name}',\n",
    "    kb_description=knowledge_base_description,\n",
    "    data_sources=data,\n",
    "    multi_modal= True,\n",
    "    parser= 'BEDROCK_DATA_AUTOMATION', #'BEDROCK_FOUNDATION_MODEL'\n",
    "    chunking_strategy = \"FIXED_SIZE\", \n",
    "    suffix = f'{suffix}-f'\n",
    ")"
   ]
  },
  {
   "cell_type": "markdown",
   "id": "9572dcd5-7236-4c7e-a01b-facdbc0d185a",
   "metadata": {},
   "source": [
    "### Step 2 - Start data ingestion job to KB\n",
    "\n",
    "Once the KB and data source(s) created, we can start the ingestion job for each data source. During the ingestion job, KB will fetch the documents from the data source, Parse the document to extract text, chunk it based on the chunking size provided, create embeddings of each chunk and then write it to the vector database, in this case OSS.\n",
    "\n",
    "NOTE: Currently, you can only kick-off one ingestion job at one time."
   ]
  },
  {
   "cell_type": "code",
   "execution_count": null,
   "id": "2e7e9483-3462-42ce-b8c9-d400300714fa",
   "metadata": {},
   "outputs": [],
   "source": [
    "# ensure that the kb is available\n",
    "time.sleep(30)\n",
    "# sync knowledge base\n",
    "knowledge_base.start_ingestion_job()"
   ]
  },
  {
   "cell_type": "code",
   "execution_count": null,
   "id": "0694c95f-0ccb-48d9-a25f-b8b1d79293da",
   "metadata": {},
   "outputs": [],
   "source": [
    "# keep the kb_id for invocation later in the invoke request\n",
    "kb_id = knowledge_base.get_knowledge_base_id()\n",
    "%store kb_id"
   ]
  },
  {
   "cell_type": "markdown",
   "id": "eecb09e7-74f9-4d5a-a15f-8f9417698045",
   "metadata": {
    "editable": true,
    "slideshow": {
     "slide_type": ""
    },
    "tags": []
   },
   "source": [
    "### Step 3 -  Test the Knowledge Base\n",
    "Now the Knowlegde Base is available we can test it out using the [**retrieve**](https://boto3.amazonaws.com/v1/documentation/api/latest/reference/services/bedrock-agent-runtime/client/retrieve.html) and [**retrieve_and_generate**](https://boto3.amazonaws.com/v1/documentation/api/latest/reference/services/bedrock-agent-runtime/client/retrieve_and_generate.html) functions. \n",
    "\n",
    "#### Testing Knowledge Base with Retrieve and Generate API\n",
    "\n",
    "Let's first test the knowledge base using the retrieve and generate API. With this API, Bedrock takes care of retrieving the necessary references from the knowledge base and generating the final answer using a foundation model from Bedrock.\n",
    "\n",
    "query = Give me the summary of the AWS Rethink podcast hosted by Nolan Chen and Malini Chatterjee?\n",
    "\n",
    "The right response for this query is expected to fetch from a chart/graph from the PDF document."
   ]
  },
  {
   "cell_type": "markdown",
   "id": "f739ab05-b9bb-428e-b44b-3352420e4b96",
   "metadata": {
    "editable": true,
    "slideshow": {
     "slide_type": ""
    },
    "tags": []
   },
   "source": [
    "### Step 4: View Query Output"
   ]
  },
  {
   "cell_type": "code",
   "execution_count": 38,
   "id": "f56001da-07e6-4188-8c50-928f410fc477",
   "metadata": {
    "editable": true,
    "slideshow": {
     "slide_type": ""
    },
    "tags": []
   },
   "outputs": [],
   "source": [
    "query = \"Give me the summary of the AWS Rethink podcast hosted by Nolan Chen and Malini Chatterjee?\""
   ]
  },
  {
   "cell_type": "code",
   "execution_count": null,
   "id": "b8cf2fc3-fc44-48be-9c5e-843147ae4469",
   "metadata": {},
   "outputs": [],
   "source": [
    "foundation_model = \"anthropic.claude-3-sonnet-20240229-v1:0\"\n",
    "# foundation_model = \"amazon.nova-micro-v1:0\"\n",
    "\n",
    "response = bedrock_agent_runtime_client.retrieve_and_generate(\n",
    "    input={\n",
    "        \"text\": query\n",
    "    },\n",
    "    retrieveAndGenerateConfiguration={\n",
    "        \"type\": \"KNOWLEDGE_BASE\",\n",
    "        \"knowledgeBaseConfiguration\": {\n",
    "            'knowledgeBaseId': kb_id,\n",
    "            \"modelArn\": \"arn:aws:bedrock:{}::foundation-model/{}\".format(region, foundation_model),\n",
    "            \"retrievalConfiguration\": {\n",
    "                \"vectorSearchConfiguration\": {\n",
    "                    \"numberOfResults\":5\n",
    "                } \n",
    "            }\n",
    "        }\n",
    "    }\n",
    ")\n",
    "\n",
    "print(response['output']['text'],end='\\n'*2)"
   ]
  },
  {
   "cell_type": "markdown",
   "id": "d9704f36",
   "metadata": {},
   "source": [
    "## Query image"
   ]
  },
  {
   "cell_type": "code",
   "execution_count": null,
   "id": "cf5ccbd5",
   "metadata": {},
   "outputs": [],
   "source": [
    "query = \"Give me an architecture design of an IDP workflow using Bedrock Data Automation\""
   ]
  },
  {
   "cell_type": "code",
   "execution_count": null,
   "id": "a4e80f8d",
   "metadata": {},
   "outputs": [],
   "source": [
    "foundation_model = \"anthropic.claude-3-sonnet-20240229-v1:0\"\n",
    "# foundation_model = \"amazon.nova-micro-v1:0\"\n",
    "\n",
    "response = bedrock_agent_runtime_client.retrieve_and_generate(\n",
    "    input={\n",
    "        \"text\": query\n",
    "    },\n",
    "    retrieveAndGenerateConfiguration={\n",
    "        \"type\": \"KNOWLEDGE_BASE\",\n",
    "        \"knowledgeBaseConfiguration\": {\n",
    "            'knowledgeBaseId': kb_id,\n",
    "            \"modelArn\": \"arn:aws:bedrock:{}::foundation-model/{}\".format(region, foundation_model),\n",
    "            \"retrievalConfiguration\": {\n",
    "                \"vectorSearchConfiguration\": {\n",
    "                    \"numberOfResults\":5\n",
    "                } \n",
    "            }\n",
    "        }\n",
    "    }\n",
    ")\n",
    "\n",
    "print(response['output']['text'],end='\\n'*2)"
   ]
  },
  {
   "cell_type": "code",
   "execution_count": null,
   "id": "48f840f2",
   "metadata": {},
   "outputs": [],
   "source": [
    "from PIL import Image\n",
    "import s3fs\n",
    "\n",
    "fs = s3fs.S3FileSystem()\n",
    "\n",
    "## Function to print retrieved response\n",
    "\n",
    "def print_response(response):\n",
    "#structure 'retrievalResults': list of contents. Each list has ['ResponseMetadata', 'citations', 'output', 'sessionId']\n",
    "    print( f'OUTPUT: {response[\"output\"][\"text\"]} \\n')\n",
    "    \n",
    "    print(f'CITATION DETAILS: \\n')\n",
    "    \n",
    "    for num, chunk in enumerate(response['citations']):\n",
    "        print(f'CHUNK {num}',end='\\n'*1)\n",
    "        print(\"========\")\n",
    "        print(f'\\t Generated  Response Text: ')\n",
    "        print(f'\\t ------------------------- ')\n",
    "        print(f'\\t Generated  Response Text: ',chunk['generatedResponsePart']['textResponsePart']['text'],end='\\n'*2)\n",
    "        for i, ref in enumerate (chunk['retrievedReferences']):\n",
    "            print(f'\\t Retrieved References: ')\n",
    "            print(f'\\t ---------------------', )\n",
    "            print(f'\\n\\t\\t --> Location:', ref['location'])\n",
    "            print(f'\\t\\n\\t\\t --> Metadata: \\n\\t\\t\\t ---> Source', ref['metadata']['x-amz-bedrock-kb-source-uri'])\n",
    "            # print(f'\\t\\n\\t\\t\\n\\t\\t\\t ---> x-amz-bedrock-kb-description', ref['metadata']['x-amz-bedrock-kb-description'])\n",
    "            print(f'\\t\\n\\t\\t\\n\\t\\t\\t ---> x-amz-bedrock-kb-byte-content-source', ref['metadata']['x-amz-bedrock-kb-byte-content-source'])\n",
    "            print(\"\")\n",
    "            with fs.open(ref['metadata']['x-amz-bedrock-kb-byte-content-source']) as f:\n",
    "                display(Image.open(f).resize((400, 400)))"
   ]
  },
  {
   "cell_type": "code",
   "execution_count": null,
   "id": "d8e276f1",
   "metadata": {},
   "outputs": [],
   "source": [
    "print_response(response)"
   ]
  },
  {
   "cell_type": "markdown",
   "id": "339176b4-0bee-4900-9f50-d3656f86b93e",
   "metadata": {},
   "source": [
    "## Clean Up\n",
    "Let's delete the sample files that were uploaded to S3 and Bedrock Knowledge Base created using BDA as parser"
   ]
  },
  {
   "cell_type": "code",
   "execution_count": null,
   "id": "7ebefcf2-c020-41da-9770-35fe9cfdc9e4",
   "metadata": {},
   "outputs": [],
   "source": [
    "## Delete S3 Files\n",
    "\n",
    "s3_client.delete_object(Bucket=bucket_name, Key='bda/')\n",
    "\n",
    "# Delete Knowledge Base\n",
    "\n",
    "knowledge_base.delete_kb(delete_s3_bucket=True, delete_iam_roles_and_policies=False)\n"
   ]
  },
  {
   "cell_type": "markdown",
   "id": "889e875d-5ac0-4d6e-b9aa-a802bbd6d041",
   "metadata": {},
   "source": [
    "## Conclusion\n",
    "\n",
    "By following this guide, you can effectively harness the power of Amazon Bedrock’s features to build a robust Multimodal RAG application tailored to your specific needs."
   ]
  }
 ],
 "metadata": {
  "kernelspec": {
   "display_name": "conda_python3",
   "language": "python",
   "name": "conda_python3"
  },
  "language_info": {
   "codemirror_mode": {
    "name": "ipython",
    "version": 3
   },
   "file_extension": ".py",
   "mimetype": "text/x-python",
   "name": "python",
   "nbconvert_exporter": "python",
   "pygments_lexer": "ipython3",
   "version": "3.10.16"
  }
 },
 "nbformat": 4,
 "nbformat_minor": 5
}
