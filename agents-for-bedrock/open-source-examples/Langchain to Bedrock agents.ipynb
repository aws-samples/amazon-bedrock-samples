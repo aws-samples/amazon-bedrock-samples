{
 "cells": [
  {
   "cell_type": "markdown",
   "id": "c4f07d66-b581-498a-9867-893eefe2f8d6",
   "metadata": {},
   "source": [
    "# Langchain to Bedrock Migration"
   ]
  },
  {
   "cell_type": "code",
   "execution_count": 2,
   "id": "f9168d1f-40fb-478f-92f4-e3370521d92c",
   "metadata": {
    "scrolled": true,
    "tags": []
   },
   "outputs": [
    {
     "name": "stdout",
     "output_type": "stream",
     "text": [
      "Requirement already satisfied: langchain in /opt/conda/lib/python3.10/site-packages (0.2.5)\n",
      "Requirement already satisfied: langchain-aws in /opt/conda/lib/python3.10/site-packages (0.1.7)\n",
      "Requirement already satisfied: boto3 in /opt/conda/lib/python3.10/site-packages (1.34.132)\n",
      "Requirement already satisfied: PyYAML>=5.3 in /opt/conda/lib/python3.10/site-packages (from langchain) (6.0.1)\n",
      "Requirement already satisfied: SQLAlchemy<3,>=1.4 in /opt/conda/lib/python3.10/site-packages (from langchain) (2.0.29)\n",
      "Requirement already satisfied: aiohttp<4.0.0,>=3.8.3 in /opt/conda/lib/python3.10/site-packages (from langchain) (3.9.5)\n",
      "Requirement already satisfied: async-timeout<5.0.0,>=4.0.0 in /opt/conda/lib/python3.10/site-packages (from langchain) (4.0.3)\n",
      "Requirement already satisfied: langchain-core<0.3.0,>=0.2.7 in /opt/conda/lib/python3.10/site-packages (from langchain) (0.2.9)\n",
      "Requirement already satisfied: langchain-text-splitters<0.3.0,>=0.2.0 in /opt/conda/lib/python3.10/site-packages (from langchain) (0.2.1)\n",
      "Requirement already satisfied: langsmith<0.2.0,>=0.1.17 in /opt/conda/lib/python3.10/site-packages (from langchain) (0.1.81)\n",
      "Requirement already satisfied: numpy<2,>=1 in /opt/conda/lib/python3.10/site-packages (from langchain) (1.26.4)\n",
      "Requirement already satisfied: pydantic<3,>=1 in /opt/conda/lib/python3.10/site-packages (from langchain) (2.7.0)\n",
      "Requirement already satisfied: requests<3,>=2 in /opt/conda/lib/python3.10/site-packages (from langchain) (2.32.3)\n",
      "Requirement already satisfied: tenacity<9.0.0,>=8.1.0 in /opt/conda/lib/python3.10/site-packages (from langchain) (8.2.3)\n",
      "Requirement already satisfied: botocore<1.35.0,>=1.34.132 in /opt/conda/lib/python3.10/site-packages (from boto3) (1.34.132)\n",
      "Requirement already satisfied: jmespath<2.0.0,>=0.7.1 in /opt/conda/lib/python3.10/site-packages (from boto3) (1.0.1)\n",
      "Requirement already satisfied: s3transfer<0.11.0,>=0.10.0 in /opt/conda/lib/python3.10/site-packages (from boto3) (0.10.1)\n",
      "Requirement already satisfied: aiosignal>=1.1.2 in /opt/conda/lib/python3.10/site-packages (from aiohttp<4.0.0,>=3.8.3->langchain) (1.3.1)\n",
      "Requirement already satisfied: attrs>=17.3.0 in /opt/conda/lib/python3.10/site-packages (from aiohttp<4.0.0,>=3.8.3->langchain) (23.2.0)\n",
      "Requirement already satisfied: frozenlist>=1.1.1 in /opt/conda/lib/python3.10/site-packages (from aiohttp<4.0.0,>=3.8.3->langchain) (1.4.1)\n",
      "Requirement already satisfied: multidict<7.0,>=4.5 in /opt/conda/lib/python3.10/site-packages (from aiohttp<4.0.0,>=3.8.3->langchain) (6.0.5)\n",
      "Requirement already satisfied: yarl<2.0,>=1.0 in /opt/conda/lib/python3.10/site-packages (from aiohttp<4.0.0,>=3.8.3->langchain) (1.9.4)\n",
      "Requirement already satisfied: python-dateutil<3.0.0,>=2.1 in /opt/conda/lib/python3.10/site-packages (from botocore<1.35.0,>=1.34.132->boto3) (2.9.0)\n",
      "Requirement already satisfied: urllib3!=2.2.0,<3,>=1.25.4 in /opt/conda/lib/python3.10/site-packages (from botocore<1.35.0,>=1.34.132->boto3) (2.2.1)\n",
      "Requirement already satisfied: jsonpatch<2.0,>=1.33 in /opt/conda/lib/python3.10/site-packages (from langchain-core<0.3.0,>=0.2.7->langchain) (1.33)\n",
      "Requirement already satisfied: packaging<25,>=23.2 in /opt/conda/lib/python3.10/site-packages (from langchain-core<0.3.0,>=0.2.7->langchain) (23.2)\n",
      "Requirement already satisfied: orjson<4.0.0,>=3.9.14 in /opt/conda/lib/python3.10/site-packages (from langsmith<0.2.0,>=0.1.17->langchain) (3.10.5)\n",
      "Requirement already satisfied: annotated-types>=0.4.0 in /opt/conda/lib/python3.10/site-packages (from pydantic<3,>=1->langchain) (0.6.0)\n",
      "Requirement already satisfied: pydantic-core==2.18.1 in /opt/conda/lib/python3.10/site-packages (from pydantic<3,>=1->langchain) (2.18.1)\n",
      "Requirement already satisfied: typing-extensions>=4.6.1 in /opt/conda/lib/python3.10/site-packages (from pydantic<3,>=1->langchain) (4.11.0)\n",
      "Requirement already satisfied: charset-normalizer<4,>=2 in /opt/conda/lib/python3.10/site-packages (from requests<3,>=2->langchain) (3.3.2)\n",
      "Requirement already satisfied: idna<4,>=2.5 in /opt/conda/lib/python3.10/site-packages (from requests<3,>=2->langchain) (3.6)\n",
      "Requirement already satisfied: certifi>=2017.4.17 in /opt/conda/lib/python3.10/site-packages (from requests<3,>=2->langchain) (2024.2.2)\n",
      "Requirement already satisfied: greenlet!=0.4.17 in /opt/conda/lib/python3.10/site-packages (from SQLAlchemy<3,>=1.4->langchain) (3.0.3)\n",
      "Requirement already satisfied: jsonpointer>=1.9 in /opt/conda/lib/python3.10/site-packages (from jsonpatch<2.0,>=1.33->langchain-core<0.3.0,>=0.2.7->langchain) (2.4)\n",
      "Requirement already satisfied: six>=1.5 in /opt/conda/lib/python3.10/site-packages (from python-dateutil<3.0.0,>=2.1->botocore<1.35.0,>=1.34.132->boto3) (1.16.0)\n",
      "\u001b[33mWARNING: Running pip as the 'root' user can result in broken permissions and conflicting behaviour with the system package manager. It is recommended to use a virtual environment instead: https://pip.pypa.io/warnings/venv\u001b[0m\u001b[33m\n",
      "\u001b[0mNote: you may need to restart the kernel to use updated packages.\n"
     ]
    }
   ],
   "source": [
    "%pip install langchain langchain-aws boto3 --upgrade"
   ]
  },
  {
   "cell_type": "markdown",
   "id": "14d35caf-ca17-488a-b818-56ff2d944b9f",
   "metadata": {},
   "source": [
    "## Step 0: Prerequisites and setup"
   ]
  },
  {
   "cell_type": "code",
   "execution_count": 2,
   "id": "9cf0d0ea-6020-43ed-a6a6-f0ec3723225d",
   "metadata": {
    "tags": []
   },
   "outputs": [
    {
     "data": {
      "text/plain": [
       "'my-agent-us-east-17168459174841719414885-1153114'"
      ]
     },
     "execution_count": 2,
     "metadata": {},
     "output_type": "execute_result"
    }
   ],
   "source": [
    "import time\n",
    "import boto3\n",
    "import logging\n",
    "import ipywidgets as widgets\n",
    "import uuid\n",
    "\n",
    "from agent import create_agent_role, create_lambda_role\n",
    "from agent import create_dynamodb, create_lambda, invoke_agent_helper\n",
    "\n",
    "#Clients\n",
    "s3_client = boto3.client('s3')\n",
    "sts_client = boto3.client('sts')\n",
    "session = boto3.session.Session()\n",
    "region = session.region_name\n",
    "account_id = sts_client.get_caller_identity()[\"Account\"]\n",
    "bedrock_agent_client = boto3.client('bedrock-agent')\n",
    "bedrock_agent_runtime_client = boto3.client('bedrock-agent-runtime')\n",
    "logging.basicConfig(format='[%(asctime)s] p%(process)s {%(filename)s:%(lineno)d} %(levelname)s - %(message)s', level=logging.INFO)\n",
    "logger = logging.getLogger(__name__)\n",
    "# region, account_id\n",
    "agent_name = 'my-agent-'+region+account_id + str(time.time()).replace('.','-')\n",
    "agent_name"
   ]
  },
  {
   "cell_type": "markdown",
   "id": "de6b3cb8-e5ec-414c-a358-0865852750a6",
   "metadata": {
    "tags": []
   },
   "source": [
    "## Step 1: Create and edit a local `lambda_function.py` "
   ]
  },
  {
   "cell_type": "code",
   "execution_count": 3,
   "id": "72897bb4-df20-4a0d-ab68-535caea02b95",
   "metadata": {
    "scrolled": true,
    "tags": []
   },
   "outputs": [
    {
     "name": "stdout",
     "output_type": "stream",
     "text": [
      "Overwriting lambda_function.py\n"
     ]
    }
   ],
   "source": [
    "%%writefile lambda_function.py\n",
    "\n",
    "\n",
    "import json\n",
    "\n",
    "def run_python_code(python_string):\n",
    "    # Python code must contain \"result\" variable\n",
    "    \n",
    "    try:\n",
    "        if \"result\" in python_string:\n",
    "            \n",
    "            print(\"Running the following python string\")\n",
    "            print(python_string)\n",
    "            exec(python_string, globals())\n",
    "            \n",
    "            return result \n",
    "        else:\n",
    "            return \"Error: you must include the variable 'result' in the code you submit\"\n",
    "    except Exception as e:\n",
    "        return e\n",
    "        \n",
    "\n",
    "def lambda_handler(event, context):\n",
    "\n",
    "    print(event)\n",
    "    \n",
    "    ## Langchain wraps request and response in 'body', but Bedrock agents does not\n",
    "    if 'body' in event:\n",
    "        event = json.loads(event['body'])\n",
    "    agent = event['agent']\n",
    "    actionGroup = event['actionGroup']\n",
    "    function = event['function']\n",
    "    parameters = event.get('parameters', [])\n",
    "    responseBody =  {\n",
    "        \"TEXT\": {\n",
    "            \"body\": \"Error, no function was called\"\n",
    "        }\n",
    "    }\n",
    "\n",
    "\n",
    "    \n",
    "    if function == 'run_python_code':\n",
    "        \n",
    "        \n",
    "        cmd = \"print('no valid python string entered')\"\n",
    "        for param in parameters:\n",
    "            if param[\"name\"] == \"python_string\":\n",
    "                python_string = param[\"value\"]\n",
    "\n",
    "        output = run_python_code(python_string)\n",
    "        responseBody =  {\n",
    "            'TEXT': {\n",
    "                \"body\": f\"output: {output}\"\n",
    "            }\n",
    "        }\n",
    "    else:\n",
    "        responseBody =  {\n",
    "            'TEXT': {\n",
    "                \"body\": f\"output: Function called is invalid: {function}\"\n",
    "            }\n",
    "        }\n",
    "        \n",
    "    action_response = {\n",
    "        'actionGroup': actionGroup,\n",
    "        'function': function,\n",
    "        'functionResponse': {\n",
    "            'responseBody': responseBody\n",
    "        }\n",
    "\n",
    "    }\n",
    "    \n",
    "    ## Langchain wraps request and response in 'body', but Bedrock agents does not\n",
    "    \n",
    "    if isinstance( event['agent'] , dict):\n",
    "        function_response = {'response': action_response, 'messageVersion': event['messageVersion']}\n",
    "    else:\n",
    "        function_response = {'body': {'response': action_response, 'messageVersion': event['messageVersion']}}\n",
    "        \n",
    "    \n",
    "    print(\"Response: {}\".format(function_response))\n",
    "\n",
    "    return function_response\n"
   ]
  },
  {
   "cell_type": "markdown",
   "id": "d0ad9187-5540-4140-a167-525fd1156810",
   "metadata": {
    "tags": []
   },
   "source": [
    "## Step 2: Create Lambda function"
   ]
  },
  {
   "cell_type": "code",
   "execution_count": 4,
   "id": "1d72eb3d-9bf3-4c02-bdda-d1ad4213a899",
   "metadata": {
    "tags": []
   },
   "outputs": [],
   "source": [
    "lambda_iam_role = create_lambda_role(agent_name, dynamodb_table_name='') # Do not create DynamoDB table. If your Lambda requires DynamoDB, provide a table name\n",
    "lambda_function_name = f'{agent_name}-lambda'\n",
    "lambda_function = create_lambda(lambda_function_name, lambda_iam_role)"
   ]
  },
  {
   "cell_type": "markdown",
   "id": "0de0ba7d-2df7-444d-85ed-ca21d11aca8a",
   "metadata": {},
   "source": [
    "## Step 3: Test model invoke and Lambda invoke"
   ]
  },
  {
   "cell_type": "markdown",
   "id": "6d1dc3ad-7478-4deb-854d-98f6252c3134",
   "metadata": {},
   "source": [
    "#### Test Model invoke separately"
   ]
  },
  {
   "cell_type": "code",
   "execution_count": 5,
   "id": "16180873-1441-499c-8663-f7232b67ebdd",
   "metadata": {
    "tags": []
   },
   "outputs": [],
   "source": [
    "from langchain_aws import ChatBedrock, BedrockLLM"
   ]
  },
  {
   "cell_type": "code",
   "execution_count": 6,
   "id": "bc9bdc31-4238-4a86-8c46-2893583585f6",
   "metadata": {
    "scrolled": true,
    "tags": []
   },
   "outputs": [],
   "source": [
    "import boto3\n",
    "client = boto3.client(\"bedrock\")\n",
    "model_list = [s['modelId'] for s in client.list_foundation_models()['modelSummaries']]"
   ]
  },
  {
   "cell_type": "code",
   "execution_count": 7,
   "id": "f3d2448f-97b2-4585-ae18-b259fb32a86f",
   "metadata": {
    "tags": []
   },
   "outputs": [
    {
     "data": {
      "application/vnd.jupyter.widget-view+json": {
       "model_id": "54f7d137da5b4cc3a11d1f7151a8caad",
       "version_major": 2,
       "version_minor": 0
      },
      "text/plain": [
       "Dropdown(options=(('amazon.titan-tg1-large', 'amazon.titan-tg1-large'), ('amazon.titan-image-generator-v1:0', …"
      ]
     },
     "metadata": {},
     "output_type": "display_data"
    }
   ],
   "source": [
    "import ipywidgets\n",
    "\n",
    "agent_llm_selector = ipywidgets.Dropdown(\n",
    "    options=[(s,s) for s in model_list]\n",
    ")\n",
    "\n",
    "agent_llm_selector"
   ]
  },
  {
   "cell_type": "code",
   "execution_count": 8,
   "id": "f9d6137b-85ee-4f45-b174-8abb7f4112c3",
   "metadata": {
    "tags": []
   },
   "outputs": [],
   "source": [
    "llm = ChatBedrock(model_id=agent_llm_selector.value)"
   ]
  },
  {
   "cell_type": "code",
   "execution_count": 9,
   "id": "1791721f-c95f-4c7c-b4ad-da464d294e82",
   "metadata": {
    "tags": []
   },
   "outputs": [
    {
     "data": {
      "text/plain": [
       "AIMessage(content='Hello! How can I assist you today?', additional_kwargs={'usage': {'prompt_tokens': 10, 'completion_tokens': 12, 'total_tokens': 22}, 'stop_reason': 'end_turn', 'model_id': 'anthropic.claude-3-sonnet-20240229-v1:0'}, response_metadata={'usage': {'prompt_tokens': 10, 'completion_tokens': 12, 'total_tokens': 22}, 'stop_reason': 'end_turn', 'model_id': 'anthropic.claude-3-sonnet-20240229-v1:0'}, id='run-d52a80c3-367b-40a5-a8e0-05ed04b88978-0')"
      ]
     },
     "execution_count": 9,
     "metadata": {},
     "output_type": "execute_result"
    }
   ],
   "source": [
    "llm.invoke(input=\"Hello, \")"
   ]
  },
  {
   "cell_type": "markdown",
   "id": "775efcdd-9605-4d3e-a42a-3e2dc2028265",
   "metadata": {},
   "source": [
    "#### Test Lambda invoke separately:"
   ]
  },
  {
   "cell_type": "markdown",
   "id": "26b05509-33f2-40be-8e0b-f0321c62b76f",
   "metadata": {},
   "source": [
    "We will be mocking the test event that is required when using Amazon Bedrock Agents"
   ]
  },
  {
   "cell_type": "code",
   "execution_count": 10,
   "id": "49c6de44-d454-41f5-8125-47a24d6f61c0",
   "metadata": {
    "tags": []
   },
   "outputs": [],
   "source": [
    "import json \n",
    "lambda_client = boto3.client('lambda')\n",
    "\n",
    "test_event = {\n",
    "  \"agent\": \"1234\",\n",
    "  \"actionGroup\": \"5678\",\n",
    "  \"messageVersion\":\"9101112\",\n",
    "  \"function\": \"run_python_code\",\n",
    "  \"parameters\": [\n",
    "    {\n",
    "      \"name\":\"python_string\",\n",
    "      \"value\":\"result = 2 + 2\"\n",
    "    }\n",
    "  ]\n",
    "}\n",
    "\n",
    "res = lambda_client.invoke(\n",
    "            FunctionName=lambda_function_name,\n",
    "            InvocationType=\"RequestResponse\",\n",
    "            Payload=json.dumps(test_event),\n",
    "        )\n",
    "            \n"
   ]
  },
  {
   "cell_type": "code",
   "execution_count": 11,
   "id": "0306496f-d17a-43f2-a557-ab311ce9b7c8",
   "metadata": {
    "tags": []
   },
   "outputs": [
    {
     "data": {
      "text/plain": [
       "'{\"agent\": \"1234\", \"actionGroup\": \"5678\", \"messageVersion\": \"9101112\", \"function\": \"run_python_code\", \"parameters\": [{\"name\": \"python_string\", \"value\": \"result = 2 + 2\"}]}'"
      ]
     },
     "execution_count": 11,
     "metadata": {},
     "output_type": "execute_result"
    }
   ],
   "source": [
    "json.dumps(test_event)"
   ]
  },
  {
   "cell_type": "code",
   "execution_count": 12,
   "id": "62a30797-17d2-458a-91df-e2fd10da51c5",
   "metadata": {
    "tags": []
   },
   "outputs": [
    {
     "data": {
      "text/plain": [
       "{'response': {'actionGroup': '5678',\n",
       "  'function': 'run_python_code',\n",
       "  'functionResponse': {'responseBody': {'TEXT': {'body': 'output: 4'}}}},\n",
       " 'messageVersion': '9101112'}"
      ]
     },
     "execution_count": 12,
     "metadata": {},
     "output_type": "execute_result"
    }
   ],
   "source": [
    "payload_stream = res[\"Payload\"]\n",
    "payload_string = payload_stream.read().decode(\"utf-8\")\n",
    "answer = json.loads(payload_string)[\"body\"]\n",
    "answer"
   ]
  },
  {
   "cell_type": "markdown",
   "id": "32698787-f486-4695-9181-83b57f523bc1",
   "metadata": {},
   "source": [
    "## Step 4: Test on Langchain"
   ]
  },
  {
   "cell_type": "code",
   "execution_count": 39,
   "id": "4d787ece-5614-4a85-b688-b58980581995",
   "metadata": {
    "tags": []
   },
   "outputs": [
    {
     "name": "stdout",
     "output_type": "stream",
     "text": [
      "\n",
      "\n",
      "\u001b[1m> Entering new AgentExecutor chain...\u001b[0m\n",
      "\u001b[32;1m\u001b[1;3mThought: To calculate 20% of 18924, I will need to use Python to perform the calculation.\n",
      "\n",
      "Action: run_python_code\n",
      "Action Input:\n",
      "{\n",
      "  \"agent\": \"1234\",\n",
      "  \"actionGroup\": \"5678\",\n",
      "  \"function\": \"run_python_code\",\n",
      "  \"parameters\": [\n",
      "    {\n",
      "      \"name\": \"python_string\",\n",
      "      \"value\": \"result = 0.2 * 18924\"\n",
      "    }\n",
      "  ],\n",
      "  \"messageVersion\": \"1.0\"\n",
      "}\n",
      "\u001b[0m\n",
      "Observation: \u001b[36;1m\u001b[1;3mResult: {'response': {'actionGroup': '5678', 'function': 'run_python_code', 'functionResponse': {'responseBody': {'TEXT': {'body': 'output: 3784.8'}}}}, 'messageVersion': '1.0'}\u001b[0m\n",
      "Thought:\u001b[32;1m\u001b[1;3mQuestion: 20% of 18924\n",
      "Thought: To calculate 20% of 18924, I will need to use Python to perform the calculation.\n",
      "\n",
      "Action: run_python_code\n",
      "Action Input:\n",
      "{\n",
      "  \"agent\": \"1234\", \n",
      "  \"actionGroup\": \"5678\",\n",
      "  \"function\": \"run_python_code\",\n",
      "  \"parameters\": [\n",
      "    {\n",
      "      \"name\": \"python_string\",\n",
      "      \"value\": \"result = 0.2 * 18924\"\n",
      "    }\n",
      "  ],\n",
      "  \"messageVersion\": \"1.0\"\n",
      "}\n",
      "\u001b[0m\n",
      "Observation: \u001b[36;1m\u001b[1;3mResult: {'response': {'actionGroup': '5678', 'function': 'run_python_code', 'functionResponse': {'responseBody': {'TEXT': {'body': 'output: 3784.8'}}}}, 'messageVersion': '1.0'}\u001b[0m\n",
      "Thought:\u001b[32;1m\u001b[1;3mI now know the final answer.\n",
      "\n",
      "Final Answer: 3784.8\u001b[0m\n",
      "\n",
      "\u001b[1m> Finished chain.\u001b[0m\n"
     ]
    },
    {
     "data": {
      "text/plain": [
       "'3784.8'"
      ]
     },
     "execution_count": 39,
     "metadata": {},
     "output_type": "execute_result"
    }
   ],
   "source": [
    "from langchain.agents import AgentType, initialize_agent, load_tools\n",
    "\n",
    "tools = load_tools(\n",
    "    [\"awslambda\"],\n",
    "    awslambda_tool_name=\"run_python_code\",\n",
    "    awslambda_tool_description=\"\"\"Runs python code and returns result. Pass in input that has the following keys as a json 1. 'agent' (random id); 2. 'actionGroup' (random id); 3. 'function':'run_python_code'; 4. 'parameters' with the code to be run, where parameters is a list of nested json with parameter 'name' and 'value' keys; here the only required param key is 'python_string' (remember you must use the `result` variable when calcualting the final answer); 5. 'messageVersion' (random version) \"\"\",\n",
    "    function_name=lambda_function['FunctionName'],\n",
    ")\n",
    "\n",
    "agent = initialize_agent(\n",
    "    tools, \n",
    "    llm, \n",
    "    agent=AgentType.ZERO_SHOT_REACT_DESCRIPTION, \n",
    "    verbose=True\n",
    ")\n",
    "\n",
    "agent.run(\"\"\"20% of 18924\"\"\")"
   ]
  },
  {
   "cell_type": "markdown",
   "id": "edd828c0-d7df-43b3-9174-bc8806f3186b",
   "metadata": {},
   "source": [
    "## Step 5: Deploy to Amazon Bedrock Agents"
   ]
  },
  {
   "cell_type": "code",
   "execution_count": 15,
   "id": "04900114-e4b9-468c-af1d-b70277517b88",
   "metadata": {
    "tags": []
   },
   "outputs": [
    {
     "data": {
      "text/plain": [
       "'my-agent-us-east-17168459174841719336070-8890233'"
      ]
     },
     "execution_count": 15,
     "metadata": {},
     "output_type": "execute_result"
    }
   ],
   "source": [
    "agent_name"
   ]
  },
  {
   "cell_type": "code",
   "execution_count": 16,
   "id": "7f0edd94-6c5e-4af4-b924-fb212e8d18cd",
   "metadata": {
    "tags": []
   },
   "outputs": [],
   "source": [
    "suffix = f\"{region}-{account_id}\"\n",
    "\n",
    "agent_bedrock_allow_policy_name = f\"{agent_name}-ba\"\n",
    "agent_role_name = f'role_{agent_name}'[:64]\n",
    "\n",
    "agent_description = \"Runs python code and returns result\"\n",
    "\n",
    "agent_instruction = tools[0].description\n",
    "\n",
    "agent_action_group_description = \"Action for \" + agent_description\n",
    "\n",
    "agent_action_group_name = suffix+\"ActionGroup\""
   ]
  },
  {
   "cell_type": "markdown",
   "id": "a233b12f-3662-4c20-983d-6fadd0a368fc",
   "metadata": {},
   "source": [
    "#### 5a. Create agent role"
   ]
  },
  {
   "cell_type": "code",
   "execution_count": 17,
   "id": "5ec92b54-b808-455a-a2b2-fcbf55145853",
   "metadata": {
    "tags": []
   },
   "outputs": [],
   "source": [
    "agent_role = create_agent_role(agent_name, agent_llm_selector.value)"
   ]
  },
  {
   "cell_type": "code",
   "execution_count": 18,
   "id": "6443261f-f927-4253-85df-289d59c0e631",
   "metadata": {
    "tags": []
   },
   "outputs": [
    {
     "data": {
      "text/plain": [
       "{'Role': {'Path': '/',\n",
       "  'RoleName': 'RoleForAgents_my-agent-us-east-17168459174841719336070-8890233',\n",
       "  'RoleId': 'AROA2NZ2YUUWKADAG7ILB',\n",
       "  'Arn': 'arn:aws:iam::716845917484:role/RoleForAgents_my-agent-us-east-17168459174841719336070-8890233',\n",
       "  'CreateDate': datetime.datetime(2024, 6, 25, 17, 22, 7, tzinfo=tzlocal()),\n",
       "  'AssumeRolePolicyDocument': {'Version': '2012-10-17',\n",
       "   'Statement': [{'Effect': 'Allow',\n",
       "     'Principal': {'Service': 'bedrock.amazonaws.com'},\n",
       "     'Action': 'sts:AssumeRole'}]}},\n",
       " 'ResponseMetadata': {'RequestId': '409fcce0-62d5-4d63-8600-c978f2597b02',\n",
       "  'HTTPStatusCode': 200,\n",
       "  'HTTPHeaders': {'date': 'Tue, 25 Jun 2024 17:22:07 GMT',\n",
       "   'x-amzn-requestid': '409fcce0-62d5-4d63-8600-c978f2597b02',\n",
       "   'content-type': 'text/xml',\n",
       "   'content-length': '879'},\n",
       "  'RetryAttempts': 0}}"
      ]
     },
     "execution_count": 18,
     "metadata": {},
     "output_type": "execute_result"
    }
   ],
   "source": [
    "agent_role"
   ]
  },
  {
   "cell_type": "markdown",
   "id": "65c12278-5ac6-42ad-8857-d4362cadf14f",
   "metadata": {},
   "source": [
    "#### 5b. Create agent"
   ]
  },
  {
   "cell_type": "code",
   "execution_count": 19,
   "id": "222d122b-37d6-4a14-a7b6-38b879333dd6",
   "metadata": {
    "tags": []
   },
   "outputs": [
    {
     "name": "stdout",
     "output_type": "stream",
     "text": [
      "The agent id is: QA7LSTI0EY\n"
     ]
    }
   ],
   "source": [
    "response = bedrock_agent_client.create_agent(\n",
    "    agentName=agent_name,\n",
    "    agentResourceRoleArn=agent_role['Role']['Arn'],\n",
    "    description=agent_description,\n",
    "    idleSessionTTLInSeconds=1800,\n",
    "    foundationModel=agent_llm_selector.value,\n",
    "    instruction=agent_instruction,\n",
    ")\n",
    "\n",
    "agent_id = response['agent']['agentId']\n",
    "print(\"The agent id is:\",agent_id)"
   ]
  },
  {
   "cell_type": "markdown",
   "id": "675f72da-d9e6-4cd1-aeca-5fb4a8f7e570",
   "metadata": {
    "tags": []
   },
   "source": [
    "#### 5c. Create agent action group"
   ]
  },
  {
   "cell_type": "code",
   "execution_count": 20,
   "id": "2807114a-d59e-4a4b-ac2c-9905ef8888ef",
   "metadata": {
    "tags": []
   },
   "outputs": [],
   "source": [
    "agent_functions = [\n",
    "    {\n",
    "        'name': tools[0].name,\n",
    "        'description': tools[0].description,\n",
    "        'parameters': {\n",
    "            \"python_string\": {\n",
    "                \"description\": \"Python code to run. Can be multi-step but must have a 'result' variable.\",\n",
    "                \"required\": True,\n",
    "                \"type\": \"string\"\n",
    "            }\n",
    "        }\n",
    "    },]"
   ]
  },
  {
   "cell_type": "code",
   "execution_count": 21,
   "id": "f735d890-0e0a-4f47-b34b-4f5fcfb38126",
   "metadata": {
    "tags": []
   },
   "outputs": [],
   "source": [
    "agent_action_group_response = bedrock_agent_client.create_agent_action_group(\n",
    "    agentId=agent_id,\n",
    "    agentVersion='DRAFT',\n",
    "    actionGroupExecutor={\n",
    "        'lambda': lambda_function['FunctionArn']\n",
    "    },\n",
    "    actionGroupName=agent_action_group_name,\n",
    "    functionSchema={\n",
    "        'functions': agent_functions\n",
    "    },\n",
    "    description=agent_action_group_description\n",
    ")"
   ]
  },
  {
   "cell_type": "code",
   "execution_count": 22,
   "id": "84cfbc70-69d3-4405-897d-14096456458d",
   "metadata": {
    "tags": []
   },
   "outputs": [
    {
     "data": {
      "text/plain": [
       "{'actionGroupExecutor': {'lambda': 'arn:aws:lambda:us-east-1:716845917484:function:my-agent-us-east-17168459174841719336070-8890233-lambda'},\n",
       " 'actionGroupId': 'X30LHCNK8L',\n",
       " 'actionGroupName': 'us-east-1-716845917484ActionGroup',\n",
       " 'actionGroupState': 'ENABLED',\n",
       " 'agentId': 'QA7LSTI0EY',\n",
       " 'agentVersion': 'DRAFT',\n",
       " 'createdAt': datetime.datetime(2024, 6, 25, 17, 22, 26, 170212, tzinfo=tzlocal()),\n",
       " 'description': 'Action for Runs python code and returns result',\n",
       " 'functionSchema': {'functions': [{'description': \"Runs python code and returns result. Pass in input that has the following keys as a json 1. 'agent' (random id); 2. 'actionGroup' (random id); 3. 'function':'run_python_code'; 4. 'parameters' with the code to be run, where parameters is a list of nested json with parameter 'name' and 'value' keys; here the only required param key is 'python_string' (remember you must use the `result` variable when calcualting the final answer); 5. 'messageVersion' (random version) \",\n",
       "    'name': 'run_python_code',\n",
       "    'parameters': {'python_string': {'description': \"Python code to run. Can be multi-step but must have a 'result' variable.\",\n",
       "      'required': True,\n",
       "      'type': 'string'}}}]},\n",
       " 'updatedAt': datetime.datetime(2024, 6, 25, 17, 22, 26, 170212, tzinfo=tzlocal())}"
      ]
     },
     "execution_count": 22,
     "metadata": {},
     "output_type": "execute_result"
    }
   ],
   "source": [
    "agent_action_group_response['agentActionGroup']"
   ]
  },
  {
   "cell_type": "markdown",
   "id": "947eef10-3a9c-40eb-ba4d-939becc73fef",
   "metadata": {},
   "source": [
    "#### 5d. Allow Bedrock to call Lambda functions"
   ]
  },
  {
   "cell_type": "code",
   "execution_count": 23,
   "id": "2724e442-198e-48e3-9053-461a8a3dae34",
   "metadata": {
    "tags": []
   },
   "outputs": [
    {
     "name": "stdout",
     "output_type": "stream",
     "text": [
      "{'ResponseMetadata': {'RequestId': 'f3bc7f50-a6ee-478b-be46-a0a9989f5a0d', 'HTTPStatusCode': 201, 'HTTPHeaders': {'date': 'Tue, 25 Jun 2024 17:22:30 GMT', 'content-type': 'application/json', 'content-length': '394', 'connection': 'keep-alive', 'x-amzn-requestid': 'f3bc7f50-a6ee-478b-be46-a0a9989f5a0d'}, 'RetryAttempts': 0}, 'Statement': '{\"Sid\":\"allow_bedrock_QA7LSTI0EY\",\"Effect\":\"Allow\",\"Principal\":{\"Service\":\"bedrock.amazonaws.com\"},\"Action\":\"lambda:InvokeFunction\",\"Resource\":\"arn:aws:lambda:us-east-1:716845917484:function:my-agent-us-east-17168459174841719336070-8890233-lambda\",\"Condition\":{\"ArnLike\":{\"AWS:SourceArn\":\"arn:aws:bedrock:us-east-1:716845917484:agent/QA7LSTI0EY\"}}}'}\n"
     ]
    }
   ],
   "source": [
    "# Create allow to invoke permission on lambda\n",
    "lambda_client = boto3.client('lambda')\n",
    "try:\n",
    "    response = lambda_client.add_permission(\n",
    "        FunctionName=lambda_function_name,\n",
    "        StatementId=f'allow_bedrock_{agent_id}',\n",
    "        Action='lambda:InvokeFunction',\n",
    "        Principal='bedrock.amazonaws.com',\n",
    "        SourceArn=f\"arn:aws:bedrock:{region}:{account_id}:agent/{agent_id}\",\n",
    "    )\n",
    "    print(response)\n",
    "except Exception as e:\n",
    "    print(e)"
   ]
  },
  {
   "cell_type": "markdown",
   "id": "5369ef02-51dc-4fd1-b376-07de0944e386",
   "metadata": {},
   "source": [
    "#### 5e. Prepare the agent"
   ]
  },
  {
   "cell_type": "code",
   "execution_count": 24,
   "id": "f317016a-a323-49dd-afd3-52e36f5b1c59",
   "metadata": {
    "tags": []
   },
   "outputs": [
    {
     "name": "stdout",
     "output_type": "stream",
     "text": [
      "{'ResponseMetadata': {'RequestId': 'a61e93c8-0246-4243-a9fb-7af6ed6301d2', 'HTTPStatusCode': 202, 'HTTPHeaders': {'date': 'Tue, 25 Jun 2024 17:22:34 GMT', 'content-type': 'application/json', 'content-length': '119', 'connection': 'keep-alive', 'x-amzn-requestid': 'a61e93c8-0246-4243-a9fb-7af6ed6301d2', 'x-amz-apigw-id': 'Z7xyIG44IAMEcDQ=', 'x-amzn-trace-id': 'Root=1-667afcda-3ffb87fc79ec926b28b2cd1d'}, 'RetryAttempts': 0}, 'agentId': 'QA7LSTI0EY', 'agentStatus': 'PREPARING', 'agentVersion': 'DRAFT', 'preparedAt': datetime.datetime(2024, 6, 25, 17, 22, 34, 249747, tzinfo=tzlocal())}\n"
     ]
    }
   ],
   "source": [
    "response = bedrock_agent_client.prepare_agent(\n",
    "    agentId=agent_id\n",
    ")\n",
    "print(response)"
   ]
  },
  {
   "cell_type": "markdown",
   "id": "70a80a5b-6e34-4402-81e6-db4fb39e0955",
   "metadata": {},
   "source": [
    "#### 5f. Invoke the migrated agent"
   ]
  },
  {
   "cell_type": "code",
   "execution_count": 40,
   "id": "83dafd47-c499-4408-8717-e073ab7ec067",
   "metadata": {
    "tags": []
   },
   "outputs": [
    {
     "name": "stdout",
     "output_type": "stream",
     "text": [
      "20% of 18924 is 3784.8\n",
      "CPU times: user 14.4 ms, sys: 0 ns, total: 14.4 ms\n",
      "Wall time: 9.42 s\n"
     ]
    }
   ],
   "source": [
    "%%time\n",
    "session_id:str = str(uuid.uuid1())\n",
    "alias_id = 'TSTALIASID'\n",
    "query = \"\"\"20% of 18924\"\"\"\n",
    "response = invoke_agent_helper(query, session_id, agent_id, alias_id)\n",
    "print(response)"
   ]
  },
  {
   "cell_type": "markdown",
   "id": "ba70c046-6b64-4a72-92df-d4c20c6cded0",
   "metadata": {},
   "source": [
    "## Step 6: Cleanup!"
   ]
  },
  {
   "cell_type": "code",
   "execution_count": 41,
   "id": "440bf9b7-6a03-4519-aece-476b2c6a24e0",
   "metadata": {
    "tags": []
   },
   "outputs": [
    {
     "name": "stdout",
     "output_type": "stream",
     "text": [
      "Error deleting Agent resources: An error occurred (AccessDeniedException) when calling the DisassociateAgentKnowledgeBase operation: Unable to determine service/operation name to be authorized\n",
      "Lambda function my-agent-us-east-17168459174841719336070-8890233-lambda has been deleted.\n",
      "Error deleting table : Parameter validation failed:\n",
      "Invalid length for parameter TableName, value: 0, valid min length: 1\n",
      "name 'kb_policy_name' is not defined\n"
     ]
    }
   ],
   "source": [
    "from agent import delete_agent_roles_and_policies, clean_up_resources\n",
    "\n",
    "try:\n",
    "    clean_up_resources(\n",
    "    '', lambda_function, lambda_function_name, agent_action_group_response, agent_functions, \n",
    "    agent_id, '', alias_id)\n",
    "    \n",
    "    delete_agent_roles_and_policies(agent_name, kb_policy_name)\n",
    "except Exception as e:\n",
    "    print(e)\n"
   ]
  },
  {
   "cell_type": "code",
   "execution_count": null,
   "id": "a2eabde4-b1ef-44ce-b421-4737d2115ccb",
   "metadata": {},
   "outputs": [],
   "source": []
  }
 ],
 "metadata": {
  "availableInstances": [
   {
    "_defaultOrder": 0,
    "_isFastLaunch": true,
    "category": "General purpose",
    "gpuNum": 0,
    "hideHardwareSpecs": false,
    "memoryGiB": 4,
    "name": "ml.t3.medium",
    "vcpuNum": 2
   },
   {
    "_defaultOrder": 1,
    "_isFastLaunch": false,
    "category": "General purpose",
    "gpuNum": 0,
    "hideHardwareSpecs": false,
    "memoryGiB": 8,
    "name": "ml.t3.large",
    "vcpuNum": 2
   },
   {
    "_defaultOrder": 2,
    "_isFastLaunch": false,
    "category": "General purpose",
    "gpuNum": 0,
    "hideHardwareSpecs": false,
    "memoryGiB": 16,
    "name": "ml.t3.xlarge",
    "vcpuNum": 4
   },
   {
    "_defaultOrder": 3,
    "_isFastLaunch": false,
    "category": "General purpose",
    "gpuNum": 0,
    "hideHardwareSpecs": false,
    "memoryGiB": 32,
    "name": "ml.t3.2xlarge",
    "vcpuNum": 8
   },
   {
    "_defaultOrder": 4,
    "_isFastLaunch": true,
    "category": "General purpose",
    "gpuNum": 0,
    "hideHardwareSpecs": false,
    "memoryGiB": 8,
    "name": "ml.m5.large",
    "vcpuNum": 2
   },
   {
    "_defaultOrder": 5,
    "_isFastLaunch": false,
    "category": "General purpose",
    "gpuNum": 0,
    "hideHardwareSpecs": false,
    "memoryGiB": 16,
    "name": "ml.m5.xlarge",
    "vcpuNum": 4
   },
   {
    "_defaultOrder": 6,
    "_isFastLaunch": false,
    "category": "General purpose",
    "gpuNum": 0,
    "hideHardwareSpecs": false,
    "memoryGiB": 32,
    "name": "ml.m5.2xlarge",
    "vcpuNum": 8
   },
   {
    "_defaultOrder": 7,
    "_isFastLaunch": false,
    "category": "General purpose",
    "gpuNum": 0,
    "hideHardwareSpecs": false,
    "memoryGiB": 64,
    "name": "ml.m5.4xlarge",
    "vcpuNum": 16
   },
   {
    "_defaultOrder": 8,
    "_isFastLaunch": false,
    "category": "General purpose",
    "gpuNum": 0,
    "hideHardwareSpecs": false,
    "memoryGiB": 128,
    "name": "ml.m5.8xlarge",
    "vcpuNum": 32
   },
   {
    "_defaultOrder": 9,
    "_isFastLaunch": false,
    "category": "General purpose",
    "gpuNum": 0,
    "hideHardwareSpecs": false,
    "memoryGiB": 192,
    "name": "ml.m5.12xlarge",
    "vcpuNum": 48
   },
   {
    "_defaultOrder": 10,
    "_isFastLaunch": false,
    "category": "General purpose",
    "gpuNum": 0,
    "hideHardwareSpecs": false,
    "memoryGiB": 256,
    "name": "ml.m5.16xlarge",
    "vcpuNum": 64
   },
   {
    "_defaultOrder": 11,
    "_isFastLaunch": false,
    "category": "General purpose",
    "gpuNum": 0,
    "hideHardwareSpecs": false,
    "memoryGiB": 384,
    "name": "ml.m5.24xlarge",
    "vcpuNum": 96
   },
   {
    "_defaultOrder": 12,
    "_isFastLaunch": false,
    "category": "General purpose",
    "gpuNum": 0,
    "hideHardwareSpecs": false,
    "memoryGiB": 8,
    "name": "ml.m5d.large",
    "vcpuNum": 2
   },
   {
    "_defaultOrder": 13,
    "_isFastLaunch": false,
    "category": "General purpose",
    "gpuNum": 0,
    "hideHardwareSpecs": false,
    "memoryGiB": 16,
    "name": "ml.m5d.xlarge",
    "vcpuNum": 4
   },
   {
    "_defaultOrder": 14,
    "_isFastLaunch": false,
    "category": "General purpose",
    "gpuNum": 0,
    "hideHardwareSpecs": false,
    "memoryGiB": 32,
    "name": "ml.m5d.2xlarge",
    "vcpuNum": 8
   },
   {
    "_defaultOrder": 15,
    "_isFastLaunch": false,
    "category": "General purpose",
    "gpuNum": 0,
    "hideHardwareSpecs": false,
    "memoryGiB": 64,
    "name": "ml.m5d.4xlarge",
    "vcpuNum": 16
   },
   {
    "_defaultOrder": 16,
    "_isFastLaunch": false,
    "category": "General purpose",
    "gpuNum": 0,
    "hideHardwareSpecs": false,
    "memoryGiB": 128,
    "name": "ml.m5d.8xlarge",
    "vcpuNum": 32
   },
   {
    "_defaultOrder": 17,
    "_isFastLaunch": false,
    "category": "General purpose",
    "gpuNum": 0,
    "hideHardwareSpecs": false,
    "memoryGiB": 192,
    "name": "ml.m5d.12xlarge",
    "vcpuNum": 48
   },
   {
    "_defaultOrder": 18,
    "_isFastLaunch": false,
    "category": "General purpose",
    "gpuNum": 0,
    "hideHardwareSpecs": false,
    "memoryGiB": 256,
    "name": "ml.m5d.16xlarge",
    "vcpuNum": 64
   },
   {
    "_defaultOrder": 19,
    "_isFastLaunch": false,
    "category": "General purpose",
    "gpuNum": 0,
    "hideHardwareSpecs": false,
    "memoryGiB": 384,
    "name": "ml.m5d.24xlarge",
    "vcpuNum": 96
   },
   {
    "_defaultOrder": 20,
    "_isFastLaunch": false,
    "category": "General purpose",
    "gpuNum": 0,
    "hideHardwareSpecs": true,
    "memoryGiB": 0,
    "name": "ml.geospatial.interactive",
    "supportedImageNames": [
     "sagemaker-geospatial-v1-0"
    ],
    "vcpuNum": 0
   },
   {
    "_defaultOrder": 21,
    "_isFastLaunch": true,
    "category": "Compute optimized",
    "gpuNum": 0,
    "hideHardwareSpecs": false,
    "memoryGiB": 4,
    "name": "ml.c5.large",
    "vcpuNum": 2
   },
   {
    "_defaultOrder": 22,
    "_isFastLaunch": false,
    "category": "Compute optimized",
    "gpuNum": 0,
    "hideHardwareSpecs": false,
    "memoryGiB": 8,
    "name": "ml.c5.xlarge",
    "vcpuNum": 4
   },
   {
    "_defaultOrder": 23,
    "_isFastLaunch": false,
    "category": "Compute optimized",
    "gpuNum": 0,
    "hideHardwareSpecs": false,
    "memoryGiB": 16,
    "name": "ml.c5.2xlarge",
    "vcpuNum": 8
   },
   {
    "_defaultOrder": 24,
    "_isFastLaunch": false,
    "category": "Compute optimized",
    "gpuNum": 0,
    "hideHardwareSpecs": false,
    "memoryGiB": 32,
    "name": "ml.c5.4xlarge",
    "vcpuNum": 16
   },
   {
    "_defaultOrder": 25,
    "_isFastLaunch": false,
    "category": "Compute optimized",
    "gpuNum": 0,
    "hideHardwareSpecs": false,
    "memoryGiB": 72,
    "name": "ml.c5.9xlarge",
    "vcpuNum": 36
   },
   {
    "_defaultOrder": 26,
    "_isFastLaunch": false,
    "category": "Compute optimized",
    "gpuNum": 0,
    "hideHardwareSpecs": false,
    "memoryGiB": 96,
    "name": "ml.c5.12xlarge",
    "vcpuNum": 48
   },
   {
    "_defaultOrder": 27,
    "_isFastLaunch": false,
    "category": "Compute optimized",
    "gpuNum": 0,
    "hideHardwareSpecs": false,
    "memoryGiB": 144,
    "name": "ml.c5.18xlarge",
    "vcpuNum": 72
   },
   {
    "_defaultOrder": 28,
    "_isFastLaunch": false,
    "category": "Compute optimized",
    "gpuNum": 0,
    "hideHardwareSpecs": false,
    "memoryGiB": 192,
    "name": "ml.c5.24xlarge",
    "vcpuNum": 96
   },
   {
    "_defaultOrder": 29,
    "_isFastLaunch": true,
    "category": "Accelerated computing",
    "gpuNum": 1,
    "hideHardwareSpecs": false,
    "memoryGiB": 16,
    "name": "ml.g4dn.xlarge",
    "vcpuNum": 4
   },
   {
    "_defaultOrder": 30,
    "_isFastLaunch": false,
    "category": "Accelerated computing",
    "gpuNum": 1,
    "hideHardwareSpecs": false,
    "memoryGiB": 32,
    "name": "ml.g4dn.2xlarge",
    "vcpuNum": 8
   },
   {
    "_defaultOrder": 31,
    "_isFastLaunch": false,
    "category": "Accelerated computing",
    "gpuNum": 1,
    "hideHardwareSpecs": false,
    "memoryGiB": 64,
    "name": "ml.g4dn.4xlarge",
    "vcpuNum": 16
   },
   {
    "_defaultOrder": 32,
    "_isFastLaunch": false,
    "category": "Accelerated computing",
    "gpuNum": 1,
    "hideHardwareSpecs": false,
    "memoryGiB": 128,
    "name": "ml.g4dn.8xlarge",
    "vcpuNum": 32
   },
   {
    "_defaultOrder": 33,
    "_isFastLaunch": false,
    "category": "Accelerated computing",
    "gpuNum": 4,
    "hideHardwareSpecs": false,
    "memoryGiB": 192,
    "name": "ml.g4dn.12xlarge",
    "vcpuNum": 48
   },
   {
    "_defaultOrder": 34,
    "_isFastLaunch": false,
    "category": "Accelerated computing",
    "gpuNum": 1,
    "hideHardwareSpecs": false,
    "memoryGiB": 256,
    "name": "ml.g4dn.16xlarge",
    "vcpuNum": 64
   },
   {
    "_defaultOrder": 35,
    "_isFastLaunch": false,
    "category": "Accelerated computing",
    "gpuNum": 1,
    "hideHardwareSpecs": false,
    "memoryGiB": 61,
    "name": "ml.p3.2xlarge",
    "vcpuNum": 8
   },
   {
    "_defaultOrder": 36,
    "_isFastLaunch": false,
    "category": "Accelerated computing",
    "gpuNum": 4,
    "hideHardwareSpecs": false,
    "memoryGiB": 244,
    "name": "ml.p3.8xlarge",
    "vcpuNum": 32
   },
   {
    "_defaultOrder": 37,
    "_isFastLaunch": false,
    "category": "Accelerated computing",
    "gpuNum": 8,
    "hideHardwareSpecs": false,
    "memoryGiB": 488,
    "name": "ml.p3.16xlarge",
    "vcpuNum": 64
   },
   {
    "_defaultOrder": 38,
    "_isFastLaunch": false,
    "category": "Accelerated computing",
    "gpuNum": 8,
    "hideHardwareSpecs": false,
    "memoryGiB": 768,
    "name": "ml.p3dn.24xlarge",
    "vcpuNum": 96
   },
   {
    "_defaultOrder": 39,
    "_isFastLaunch": false,
    "category": "Memory Optimized",
    "gpuNum": 0,
    "hideHardwareSpecs": false,
    "memoryGiB": 16,
    "name": "ml.r5.large",
    "vcpuNum": 2
   },
   {
    "_defaultOrder": 40,
    "_isFastLaunch": false,
    "category": "Memory Optimized",
    "gpuNum": 0,
    "hideHardwareSpecs": false,
    "memoryGiB": 32,
    "name": "ml.r5.xlarge",
    "vcpuNum": 4
   },
   {
    "_defaultOrder": 41,
    "_isFastLaunch": false,
    "category": "Memory Optimized",
    "gpuNum": 0,
    "hideHardwareSpecs": false,
    "memoryGiB": 64,
    "name": "ml.r5.2xlarge",
    "vcpuNum": 8
   },
   {
    "_defaultOrder": 42,
    "_isFastLaunch": false,
    "category": "Memory Optimized",
    "gpuNum": 0,
    "hideHardwareSpecs": false,
    "memoryGiB": 128,
    "name": "ml.r5.4xlarge",
    "vcpuNum": 16
   },
   {
    "_defaultOrder": 43,
    "_isFastLaunch": false,
    "category": "Memory Optimized",
    "gpuNum": 0,
    "hideHardwareSpecs": false,
    "memoryGiB": 256,
    "name": "ml.r5.8xlarge",
    "vcpuNum": 32
   },
   {
    "_defaultOrder": 44,
    "_isFastLaunch": false,
    "category": "Memory Optimized",
    "gpuNum": 0,
    "hideHardwareSpecs": false,
    "memoryGiB": 384,
    "name": "ml.r5.12xlarge",
    "vcpuNum": 48
   },
   {
    "_defaultOrder": 45,
    "_isFastLaunch": false,
    "category": "Memory Optimized",
    "gpuNum": 0,
    "hideHardwareSpecs": false,
    "memoryGiB": 512,
    "name": "ml.r5.16xlarge",
    "vcpuNum": 64
   },
   {
    "_defaultOrder": 46,
    "_isFastLaunch": false,
    "category": "Memory Optimized",
    "gpuNum": 0,
    "hideHardwareSpecs": false,
    "memoryGiB": 768,
    "name": "ml.r5.24xlarge",
    "vcpuNum": 96
   },
   {
    "_defaultOrder": 47,
    "_isFastLaunch": false,
    "category": "Accelerated computing",
    "gpuNum": 1,
    "hideHardwareSpecs": false,
    "memoryGiB": 16,
    "name": "ml.g5.xlarge",
    "vcpuNum": 4
   },
   {
    "_defaultOrder": 48,
    "_isFastLaunch": false,
    "category": "Accelerated computing",
    "gpuNum": 1,
    "hideHardwareSpecs": false,
    "memoryGiB": 32,
    "name": "ml.g5.2xlarge",
    "vcpuNum": 8
   },
   {
    "_defaultOrder": 49,
    "_isFastLaunch": false,
    "category": "Accelerated computing",
    "gpuNum": 1,
    "hideHardwareSpecs": false,
    "memoryGiB": 64,
    "name": "ml.g5.4xlarge",
    "vcpuNum": 16
   },
   {
    "_defaultOrder": 50,
    "_isFastLaunch": false,
    "category": "Accelerated computing",
    "gpuNum": 1,
    "hideHardwareSpecs": false,
    "memoryGiB": 128,
    "name": "ml.g5.8xlarge",
    "vcpuNum": 32
   },
   {
    "_defaultOrder": 51,
    "_isFastLaunch": false,
    "category": "Accelerated computing",
    "gpuNum": 1,
    "hideHardwareSpecs": false,
    "memoryGiB": 256,
    "name": "ml.g5.16xlarge",
    "vcpuNum": 64
   },
   {
    "_defaultOrder": 52,
    "_isFastLaunch": false,
    "category": "Accelerated computing",
    "gpuNum": 4,
    "hideHardwareSpecs": false,
    "memoryGiB": 192,
    "name": "ml.g5.12xlarge",
    "vcpuNum": 48
   },
   {
    "_defaultOrder": 53,
    "_isFastLaunch": false,
    "category": "Accelerated computing",
    "gpuNum": 4,
    "hideHardwareSpecs": false,
    "memoryGiB": 384,
    "name": "ml.g5.24xlarge",
    "vcpuNum": 96
   },
   {
    "_defaultOrder": 54,
    "_isFastLaunch": false,
    "category": "Accelerated computing",
    "gpuNum": 8,
    "hideHardwareSpecs": false,
    "memoryGiB": 768,
    "name": "ml.g5.48xlarge",
    "vcpuNum": 192
   },
   {
    "_defaultOrder": 55,
    "_isFastLaunch": false,
    "category": "Accelerated computing",
    "gpuNum": 8,
    "hideHardwareSpecs": false,
    "memoryGiB": 1152,
    "name": "ml.p4d.24xlarge",
    "vcpuNum": 96
   },
   {
    "_defaultOrder": 56,
    "_isFastLaunch": false,
    "category": "Accelerated computing",
    "gpuNum": 8,
    "hideHardwareSpecs": false,
    "memoryGiB": 1152,
    "name": "ml.p4de.24xlarge",
    "vcpuNum": 96
   },
   {
    "_defaultOrder": 57,
    "_isFastLaunch": false,
    "category": "Accelerated computing",
    "gpuNum": 0,
    "hideHardwareSpecs": false,
    "memoryGiB": 32,
    "name": "ml.trn1.2xlarge",
    "vcpuNum": 8
   },
   {
    "_defaultOrder": 58,
    "_isFastLaunch": false,
    "category": "Accelerated computing",
    "gpuNum": 0,
    "hideHardwareSpecs": false,
    "memoryGiB": 512,
    "name": "ml.trn1.32xlarge",
    "vcpuNum": 128
   },
   {
    "_defaultOrder": 59,
    "_isFastLaunch": false,
    "category": "Accelerated computing",
    "gpuNum": 0,
    "hideHardwareSpecs": false,
    "memoryGiB": 512,
    "name": "ml.trn1n.32xlarge",
    "vcpuNum": 128
   }
  ],
  "instance_type": "ml.c5.large",
  "kernelspec": {
   "display_name": "Python 3 (Data Science 3.0)",
   "language": "python",
   "name": "python3__SAGEMAKER_INTERNAL__arn:aws:sagemaker:us-east-1:081325390199:image/sagemaker-data-science-310-v1"
  },
  "language_info": {
   "codemirror_mode": {
    "name": "ipython",
    "version": 3
   },
   "file_extension": ".py",
   "mimetype": "text/x-python",
   "name": "python",
   "nbconvert_exporter": "python",
   "pygments_lexer": "ipython3",
   "version": "3.10.6"
  }
 },
 "nbformat": 4,
 "nbformat_minor": 5
}
