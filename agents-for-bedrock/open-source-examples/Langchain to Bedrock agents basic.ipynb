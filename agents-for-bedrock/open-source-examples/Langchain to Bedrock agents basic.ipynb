{
 "cells": [
  {
   "cell_type": "markdown",
   "id": "c4f07d66-b581-498a-9867-893eefe2f8d6",
   "metadata": {},
   "source": [
    "# Langchain to Bedrock Migration"
   ]
  },
  {
   "cell_type": "code",
   "execution_count": null,
   "id": "f9168d1f-40fb-478f-92f4-e3370521d92c",
   "metadata": {
    "scrolled": true,
    "tags": []
   },
   "outputs": [],
   "source": [
    "%pip install langchain langchain-aws boto3 --upgrade"
   ]
  },
  {
   "cell_type": "markdown",
   "id": "14d35caf-ca17-488a-b818-56ff2d944b9f",
   "metadata": {},
   "source": [
    "## Step 0: Prerequisites and setup"
   ]
  },
  {
   "cell_type": "code",
   "execution_count": null,
   "id": "9cf0d0ea-6020-43ed-a6a6-f0ec3723225d",
   "metadata": {
    "tags": []
   },
   "outputs": [],
   "source": [
    "import time\n",
    "import boto3\n",
    "import logging\n",
    "import ipywidgets as widgets\n",
    "import uuid\n",
    "\n",
    "from agent import create_agent_role, create_lambda_role\n",
    "from agent import create_dynamodb, create_lambda, invoke_agent_helper\n",
    "\n",
    "#Clients\n",
    "s3_client = boto3.client('s3')\n",
    "sts_client = boto3.client('sts')\n",
    "session = boto3.session.Session()\n",
    "region = session.region_name\n",
    "account_id = sts_client.get_caller_identity()[\"Account\"]\n",
    "bedrock_agent_client = boto3.client('bedrock-agent')\n",
    "bedrock_agent_runtime_client = boto3.client('bedrock-agent-runtime')\n",
    "logging.basicConfig(format='[%(asctime)s] p%(process)s {%(filename)s:%(lineno)d} %(levelname)s - %(message)s', level=logging.INFO)\n",
    "logger = logging.getLogger(__name__)\n",
    "# region, account_id\n",
    "agent_name = 'my-agent-'+region+account_id + str(time.time()).replace('.','-')\n",
    "agent_name"
   ]
  },
  {
   "cell_type": "markdown",
   "id": "de6b3cb8-e5ec-414c-a358-0865852750a6",
   "metadata": {
    "tags": []
   },
   "source": [
    "## Step 1: Create and edit a local `lambda_function.py` "
   ]
  },
  {
   "cell_type": "code",
   "execution_count": null,
   "id": "72897bb4-df20-4a0d-ab68-535caea02b95",
   "metadata": {
    "scrolled": true,
    "tags": []
   },
   "outputs": [],
   "source": [
    "%%writefile lambda_function.py\n",
    "import json\n",
    "import random\n",
    "import uuid\n",
    "        \n",
    "\n",
    "def lambda_handler(event, context):\n",
    "\n",
    "    print(event)\n",
    "    \n",
    "    ## Langchain wraps request and response in 'body', but Bedrock agents does not\n",
    "    if 'body' in event:\n",
    "        event = json.loads(event['body'])\n",
    "    agent = event['agent']\n",
    "    actionGroup = event['actionGroup']\n",
    "    function = event['function']\n",
    "    # parameters = event.get('parameters', [])\n",
    "    responseBody =  {\n",
    "        \"TEXT\": {\n",
    "            \"body\": \"Error, no function was called\"\n",
    "        }\n",
    "    }\n",
    "\n",
    "\n",
    "    # random number generator\n",
    "    if function == 'get_random':\n",
    "        out = str(random.random())\n",
    "    \n",
    "    # UUID4 generator\n",
    "    elif function == 'get_uuid':\n",
    "        out = str(uuid.uuid4())\n",
    "        \n",
    "    else:\n",
    "        out = f\"output: Function called is invalid: {function}\"\n",
    "        \n",
    "    responseBody =  {\n",
    "            'TEXT': {\n",
    "                \"body\": out\n",
    "            }\n",
    "        }\n",
    "    \n",
    "    action_response = {\n",
    "        'actionGroup': actionGroup,\n",
    "        'function': function,\n",
    "        'functionResponse': {\n",
    "            'responseBody': responseBody\n",
    "        }\n",
    "\n",
    "    }\n",
    "    \n",
    "    ## Langchain wraps request and response in 'body', but Bedrock agents does not\n",
    "    \n",
    "    if isinstance( event['agent'] , dict):\n",
    "        function_response = {'response': action_response, 'messageVersion': event['messageVersion']}\n",
    "    else:\n",
    "        function_response = {'body': {'response': action_response, 'messageVersion': event['messageVersion']}}\n",
    "        \n",
    "    \n",
    "    print(\"Response: {}\".format(function_response))\n",
    "\n",
    "    return function_response\n"
   ]
  },
  {
   "cell_type": "markdown",
   "id": "d0ad9187-5540-4140-a167-525fd1156810",
   "metadata": {
    "tags": []
   },
   "source": [
    "## Step 2: Create Lambda function"
   ]
  },
  {
   "cell_type": "code",
   "execution_count": null,
   "id": "1d72eb3d-9bf3-4c02-bdda-d1ad4213a899",
   "metadata": {
    "tags": []
   },
   "outputs": [],
   "source": [
    "lambda_iam_role = create_lambda_role(agent_name, dynamodb_table_name='') # Do not create DynamoDB table. If your Lambda requires DynamoDB, provide a table name\n",
    "lambda_function_name = f'{agent_name}-lambda'\n",
    "lambda_function = create_lambda(lambda_function_name, lambda_iam_role, path_to_lambda = 'lambda_function.py')"
   ]
  },
  {
   "cell_type": "markdown",
   "id": "0de0ba7d-2df7-444d-85ed-ca21d11aca8a",
   "metadata": {},
   "source": [
    "## Step 3: Test model invoke and Lambda invoke"
   ]
  },
  {
   "cell_type": "markdown",
   "id": "6d1dc3ad-7478-4deb-854d-98f6252c3134",
   "metadata": {},
   "source": [
    "#### Test Model invoke separately"
   ]
  },
  {
   "cell_type": "code",
   "execution_count": null,
   "id": "16180873-1441-499c-8663-f7232b67ebdd",
   "metadata": {
    "tags": []
   },
   "outputs": [],
   "source": [
    "from langchain_aws import ChatBedrock, BedrockLLM"
   ]
  },
  {
   "cell_type": "code",
   "execution_count": null,
   "id": "bc9bdc31-4238-4a86-8c46-2893583585f6",
   "metadata": {
    "scrolled": true,
    "tags": []
   },
   "outputs": [],
   "source": [
    "import boto3\n",
    "client = boto3.client(\"bedrock\")\n",
    "model_list = [s['modelId'] for s in client.list_foundation_models()['modelSummaries']]"
   ]
  },
  {
   "cell_type": "code",
   "execution_count": null,
   "id": "f3d2448f-97b2-4585-ae18-b259fb32a86f",
   "metadata": {
    "tags": []
   },
   "outputs": [],
   "source": [
    "import ipywidgets\n",
    "\n",
    "agent_llm_selector = ipywidgets.Dropdown(\n",
    "    options=[(s,s) for s in model_list]\n",
    ")\n",
    "\n",
    "agent_llm_selector"
   ]
  },
  {
   "cell_type": "code",
   "execution_count": null,
   "id": "f9d6137b-85ee-4f45-b174-8abb7f4112c3",
   "metadata": {
    "tags": []
   },
   "outputs": [],
   "source": [
    "llm = ChatBedrock(model_id=agent_llm_selector.value)"
   ]
  },
  {
   "cell_type": "code",
   "execution_count": null,
   "id": "1791721f-c95f-4c7c-b4ad-da464d294e82",
   "metadata": {
    "tags": []
   },
   "outputs": [],
   "source": [
    "llm.invoke(input=\"Hello, \")"
   ]
  },
  {
   "cell_type": "markdown",
   "id": "775efcdd-9605-4d3e-a42a-3e2dc2028265",
   "metadata": {},
   "source": [
    "#### Test Lambda invoke separately:"
   ]
  },
  {
   "cell_type": "markdown",
   "id": "26b05509-33f2-40be-8e0b-f0321c62b76f",
   "metadata": {},
   "source": [
    "We will be mocking the test event that is required when using Amazon Bedrock Agents"
   ]
  },
  {
   "cell_type": "code",
   "execution_count": null,
   "id": "49c6de44-d454-41f5-8125-47a24d6f61c0",
   "metadata": {
    "tags": []
   },
   "outputs": [],
   "source": [
    "import json \n",
    "lambda_client = boto3.client('lambda')\n",
    "\n",
    "test_event = {\n",
    "  \"agent\": \"1234\",\n",
    "  \"actionGroup\": \"5678\",\n",
    "  \"messageVersion\":\"9101112\",\n",
    "  \"function\": \"get_uuid\",\n",
    "}\n",
    "\n",
    "res = lambda_client.invoke(\n",
    "            FunctionName=lambda_function_name,\n",
    "            InvocationType=\"RequestResponse\",\n",
    "            Payload=json.dumps(test_event),\n",
    "        )\n",
    "            \n"
   ]
  },
  {
   "cell_type": "code",
   "execution_count": null,
   "id": "0306496f-d17a-43f2-a557-ab311ce9b7c8",
   "metadata": {
    "tags": []
   },
   "outputs": [],
   "source": [
    "json.dumps(test_event)"
   ]
  },
  {
   "cell_type": "code",
   "execution_count": null,
   "id": "62a30797-17d2-458a-91df-e2fd10da51c5",
   "metadata": {
    "tags": []
   },
   "outputs": [],
   "source": [
    "payload_stream = res[\"Payload\"]\n",
    "payload_string = payload_stream.read().decode(\"utf-8\")\n",
    "answer = json.loads(payload_string)#[\"body\"]\n",
    "answer"
   ]
  },
  {
   "cell_type": "markdown",
   "id": "32698787-f486-4695-9181-83b57f523bc1",
   "metadata": {},
   "source": [
    "## Step 4: Test on Langchain"
   ]
  },
  {
   "cell_type": "code",
   "execution_count": null,
   "id": "4d787ece-5614-4a85-b688-b58980581995",
   "metadata": {
    "tags": []
   },
   "outputs": [],
   "source": [
    "from langchain.agents import AgentType, initialize_agent, load_tools\n",
    "\n",
    "tools = load_tools(\n",
    "    [\"awslambda\"],\n",
    "    awslambda_tool_name=\"get_random_or_uuid\",\n",
    "    awslambda_tool_description=\"\"\"Returns a random number or a UUID based on choice of function. Pass in json that has the following keys --- 1. 'agent':(random id); 2. 'actionGroup':(random id); 3. 'function':choose between 'get_random' or 'get_uuid'; 4. 'messageVersion': (random version) \"\"\",\n",
    "    function_name=lambda_function['FunctionName']\n",
    ")\n",
    "\n",
    "agent = initialize_agent(\n",
    "    tools,\n",
    "    llm, \n",
    "    agent=AgentType.ZERO_SHOT_REACT_DESCRIPTION, \n",
    "    verbose=True\n",
    ")\n",
    "\n",
    "agent.run(\"Generate a random number, use that as a probability of a coin flip (<0.5 is heads). If the coin is heads, generate a UUID.\")"
   ]
  },
  {
   "cell_type": "markdown",
   "id": "edd828c0-d7df-43b3-9174-bc8806f3186b",
   "metadata": {},
   "source": [
    "## Step 5: Deploy to Amazon Bedrock Agents"
   ]
  },
  {
   "cell_type": "code",
   "execution_count": null,
   "id": "04900114-e4b9-468c-af1d-b70277517b88",
   "metadata": {
    "tags": []
   },
   "outputs": [],
   "source": [
    "agent_name"
   ]
  },
  {
   "cell_type": "code",
   "execution_count": null,
   "id": "7f0edd94-6c5e-4af4-b924-fb212e8d18cd",
   "metadata": {
    "tags": []
   },
   "outputs": [],
   "source": [
    "suffix = f\"{region}-{account_id}\"\n",
    "\n",
    "agent_bedrock_allow_policy_name = f\"{agent_name}-ba\"\n",
    "agent_role_name = f'role_{agent_name}'[:64]\n",
    "\n",
    "agent_description = \"Uses tools like random number generation and UUID generation to answer questions\"\n",
    "\n",
    "agent_instruction = tools[0].description\n",
    "\n",
    "agent_action_group_description = \"Action for \" + agent_description\n",
    "\n",
    "agent_action_group_name = suffix+\"ActionGroup\""
   ]
  },
  {
   "cell_type": "markdown",
   "id": "a233b12f-3662-4c20-983d-6fadd0a368fc",
   "metadata": {},
   "source": [
    "#### 5a. Create agent role"
   ]
  },
  {
   "cell_type": "code",
   "execution_count": null,
   "id": "5ec92b54-b808-455a-a2b2-fcbf55145853",
   "metadata": {
    "tags": []
   },
   "outputs": [],
   "source": [
    "agent_role = create_agent_role(agent_name, agent_llm_selector.value)"
   ]
  },
  {
   "cell_type": "code",
   "execution_count": null,
   "id": "6443261f-f927-4253-85df-289d59c0e631",
   "metadata": {
    "tags": []
   },
   "outputs": [],
   "source": [
    "agent_role"
   ]
  },
  {
   "cell_type": "markdown",
   "id": "65c12278-5ac6-42ad-8857-d4362cadf14f",
   "metadata": {},
   "source": [
    "#### 5b. Create agent"
   ]
  },
  {
   "cell_type": "code",
   "execution_count": null,
   "id": "222d122b-37d6-4a14-a7b6-38b879333dd6",
   "metadata": {
    "tags": []
   },
   "outputs": [],
   "source": [
    "response = bedrock_agent_client.create_agent(\n",
    "    agentName=agent_name,\n",
    "    agentResourceRoleArn=agent_role['Role']['Arn'],\n",
    "    description=agent_description,\n",
    "    idleSessionTTLInSeconds=1800,\n",
    "    foundationModel=agent_llm_selector.value,\n",
    "    instruction=agent_instruction,\n",
    ")\n",
    "\n",
    "agent_id = response['agent']['agentId']\n",
    "print(\"The agent id is:\",agent_id)"
   ]
  },
  {
   "cell_type": "markdown",
   "id": "675f72da-d9e6-4cd1-aeca-5fb4a8f7e570",
   "metadata": {
    "tags": []
   },
   "source": [
    "#### 5c. Create agent action group"
   ]
  },
  {
   "cell_type": "code",
   "execution_count": null,
   "id": "2807114a-d59e-4a4b-ac2c-9905ef8888ef",
   "metadata": {
    "tags": []
   },
   "outputs": [],
   "source": [
    "agent_functions = [\n",
    "    {\n",
    "        'name': tools[0].name,\n",
    "        'description': tools[0].description,\n",
    "        'parameters': {}\n",
    "    },]"
   ]
  },
  {
   "cell_type": "code",
   "execution_count": null,
   "id": "f735d890-0e0a-4f47-b34b-4f5fcfb38126",
   "metadata": {
    "tags": []
   },
   "outputs": [],
   "source": [
    "agent_action_group_response = bedrock_agent_client.create_agent_action_group(\n",
    "    agentId=agent_id,\n",
    "    agentVersion='DRAFT',\n",
    "    actionGroupExecutor={\n",
    "        'lambda': lambda_function['FunctionArn']\n",
    "    },\n",
    "    actionGroupName=agent_action_group_name,\n",
    "    functionSchema={\n",
    "        'functions': agent_functions\n",
    "    },\n",
    "    description=agent_action_group_description\n",
    ")"
   ]
  },
  {
   "cell_type": "code",
   "execution_count": null,
   "id": "84cfbc70-69d3-4405-897d-14096456458d",
   "metadata": {
    "tags": []
   },
   "outputs": [],
   "source": [
    "agent_action_group_response['agentActionGroup']"
   ]
  },
  {
   "cell_type": "markdown",
   "id": "947eef10-3a9c-40eb-ba4d-939becc73fef",
   "metadata": {},
   "source": [
    "#### 5d. Allow Bedrock to call Lambda functions"
   ]
  },
  {
   "cell_type": "code",
   "execution_count": null,
   "id": "2724e442-198e-48e3-9053-461a8a3dae34",
   "metadata": {
    "tags": []
   },
   "outputs": [],
   "source": [
    "# Create allow to invoke permission on lambda\n",
    "lambda_client = boto3.client('lambda')\n",
    "try:\n",
    "    response = lambda_client.add_permission(\n",
    "        FunctionName=lambda_function_name,\n",
    "        StatementId=f'allow_bedrock_{agent_id}',\n",
    "        Action='lambda:InvokeFunction',\n",
    "        Principal='bedrock.amazonaws.com',\n",
    "        SourceArn=f\"arn:aws:bedrock:{region}:{account_id}:agent/{agent_id}\",\n",
    "    )\n",
    "    print(response)\n",
    "except Exception as e:\n",
    "    print(e)"
   ]
  },
  {
   "cell_type": "markdown",
   "id": "5369ef02-51dc-4fd1-b376-07de0944e386",
   "metadata": {},
   "source": [
    "#### 5e. Prepare the agent"
   ]
  },
  {
   "cell_type": "code",
   "execution_count": null,
   "id": "f317016a-a323-49dd-afd3-52e36f5b1c59",
   "metadata": {
    "tags": []
   },
   "outputs": [],
   "source": [
    "response = bedrock_agent_client.prepare_agent(\n",
    "    agentId=agent_id\n",
    ")\n",
    "print(response)"
   ]
  },
  {
   "cell_type": "markdown",
   "id": "70a80a5b-6e34-4402-81e6-db4fb39e0955",
   "metadata": {},
   "source": [
    "#### 5f. Invoke the migrated agent"
   ]
  },
  {
   "cell_type": "code",
   "execution_count": null,
   "id": "83dafd47-c499-4408-8717-e073ab7ec067",
   "metadata": {
    "tags": []
   },
   "outputs": [],
   "source": [
    "%%time\n",
    "session_id:str = str(uuid.uuid1())\n",
    "alias_id = 'TSTALIASID'\n",
    "query = \"Generate a random number, use that as a probability of a coin flip (<0.5 is heads). If the coin is heads, generate a UUID. Provide the final answer in JSON as {'coin_state':'heads','uuid':'<insert UUID if generated otherwise use \" \">'}\"\n",
    "response = invoke_agent_helper(query, session_id, agent_id, alias_id)\n",
    "print(response)"
   ]
  },
  {
   "cell_type": "markdown",
   "id": "ba70c046-6b64-4a72-92df-d4c20c6cded0",
   "metadata": {},
   "source": [
    "## Step 6: Cleanup!"
   ]
  },
  {
   "cell_type": "code",
   "execution_count": null,
   "id": "440bf9b7-6a03-4519-aece-476b2c6a24e0",
   "metadata": {
    "tags": []
   },
   "outputs": [],
   "source": [
    "from agent import delete_agent_roles_and_policies, clean_up_resources\n",
    "\n",
    "try:\n",
    "    clean_up_resources(\n",
    "    '', lambda_function, lambda_function_name, agent_action_group_response, agent_functions, \n",
    "    agent_id, '', alias_id)\n",
    "    \n",
    "    delete_agent_roles_and_policies(agent_name, kb_policy_name)\n",
    "except Exception as e:\n",
    "    print(e)\n"
   ]
  },
  {
   "cell_type": "code",
   "execution_count": null,
   "id": "a62025d2-258e-4f7d-838e-ab8dd129a53e",
   "metadata": {},
   "outputs": [],
   "source": []
  }
 ],
 "metadata": {
  "availableInstances": [
   {
    "_defaultOrder": 0,
    "_isFastLaunch": true,
    "category": "General purpose",
    "gpuNum": 0,
    "hideHardwareSpecs": false,
    "memoryGiB": 4,
    "name": "ml.t3.medium",
    "vcpuNum": 2
   },
   {
    "_defaultOrder": 1,
    "_isFastLaunch": false,
    "category": "General purpose",
    "gpuNum": 0,
    "hideHardwareSpecs": false,
    "memoryGiB": 8,
    "name": "ml.t3.large",
    "vcpuNum": 2
   },
   {
    "_defaultOrder": 2,
    "_isFastLaunch": false,
    "category": "General purpose",
    "gpuNum": 0,
    "hideHardwareSpecs": false,
    "memoryGiB": 16,
    "name": "ml.t3.xlarge",
    "vcpuNum": 4
   },
   {
    "_defaultOrder": 3,
    "_isFastLaunch": false,
    "category": "General purpose",
    "gpuNum": 0,
    "hideHardwareSpecs": false,
    "memoryGiB": 32,
    "name": "ml.t3.2xlarge",
    "vcpuNum": 8
   },
   {
    "_defaultOrder": 4,
    "_isFastLaunch": true,
    "category": "General purpose",
    "gpuNum": 0,
    "hideHardwareSpecs": false,
    "memoryGiB": 8,
    "name": "ml.m5.large",
    "vcpuNum": 2
   },
   {
    "_defaultOrder": 5,
    "_isFastLaunch": false,
    "category": "General purpose",
    "gpuNum": 0,
    "hideHardwareSpecs": false,
    "memoryGiB": 16,
    "name": "ml.m5.xlarge",
    "vcpuNum": 4
   },
   {
    "_defaultOrder": 6,
    "_isFastLaunch": false,
    "category": "General purpose",
    "gpuNum": 0,
    "hideHardwareSpecs": false,
    "memoryGiB": 32,
    "name": "ml.m5.2xlarge",
    "vcpuNum": 8
   },
   {
    "_defaultOrder": 7,
    "_isFastLaunch": false,
    "category": "General purpose",
    "gpuNum": 0,
    "hideHardwareSpecs": false,
    "memoryGiB": 64,
    "name": "ml.m5.4xlarge",
    "vcpuNum": 16
   },
   {
    "_defaultOrder": 8,
    "_isFastLaunch": false,
    "category": "General purpose",
    "gpuNum": 0,
    "hideHardwareSpecs": false,
    "memoryGiB": 128,
    "name": "ml.m5.8xlarge",
    "vcpuNum": 32
   },
   {
    "_defaultOrder": 9,
    "_isFastLaunch": false,
    "category": "General purpose",
    "gpuNum": 0,
    "hideHardwareSpecs": false,
    "memoryGiB": 192,
    "name": "ml.m5.12xlarge",
    "vcpuNum": 48
   },
   {
    "_defaultOrder": 10,
    "_isFastLaunch": false,
    "category": "General purpose",
    "gpuNum": 0,
    "hideHardwareSpecs": false,
    "memoryGiB": 256,
    "name": "ml.m5.16xlarge",
    "vcpuNum": 64
   },
   {
    "_defaultOrder": 11,
    "_isFastLaunch": false,
    "category": "General purpose",
    "gpuNum": 0,
    "hideHardwareSpecs": false,
    "memoryGiB": 384,
    "name": "ml.m5.24xlarge",
    "vcpuNum": 96
   },
   {
    "_defaultOrder": 12,
    "_isFastLaunch": false,
    "category": "General purpose",
    "gpuNum": 0,
    "hideHardwareSpecs": false,
    "memoryGiB": 8,
    "name": "ml.m5d.large",
    "vcpuNum": 2
   },
   {
    "_defaultOrder": 13,
    "_isFastLaunch": false,
    "category": "General purpose",
    "gpuNum": 0,
    "hideHardwareSpecs": false,
    "memoryGiB": 16,
    "name": "ml.m5d.xlarge",
    "vcpuNum": 4
   },
   {
    "_defaultOrder": 14,
    "_isFastLaunch": false,
    "category": "General purpose",
    "gpuNum": 0,
    "hideHardwareSpecs": false,
    "memoryGiB": 32,
    "name": "ml.m5d.2xlarge",
    "vcpuNum": 8
   },
   {
    "_defaultOrder": 15,
    "_isFastLaunch": false,
    "category": "General purpose",
    "gpuNum": 0,
    "hideHardwareSpecs": false,
    "memoryGiB": 64,
    "name": "ml.m5d.4xlarge",
    "vcpuNum": 16
   },
   {
    "_defaultOrder": 16,
    "_isFastLaunch": false,
    "category": "General purpose",
    "gpuNum": 0,
    "hideHardwareSpecs": false,
    "memoryGiB": 128,
    "name": "ml.m5d.8xlarge",
    "vcpuNum": 32
   },
   {
    "_defaultOrder": 17,
    "_isFastLaunch": false,
    "category": "General purpose",
    "gpuNum": 0,
    "hideHardwareSpecs": false,
    "memoryGiB": 192,
    "name": "ml.m5d.12xlarge",
    "vcpuNum": 48
   },
   {
    "_defaultOrder": 18,
    "_isFastLaunch": false,
    "category": "General purpose",
    "gpuNum": 0,
    "hideHardwareSpecs": false,
    "memoryGiB": 256,
    "name": "ml.m5d.16xlarge",
    "vcpuNum": 64
   },
   {
    "_defaultOrder": 19,
    "_isFastLaunch": false,
    "category": "General purpose",
    "gpuNum": 0,
    "hideHardwareSpecs": false,
    "memoryGiB": 384,
    "name": "ml.m5d.24xlarge",
    "vcpuNum": 96
   },
   {
    "_defaultOrder": 20,
    "_isFastLaunch": false,
    "category": "General purpose",
    "gpuNum": 0,
    "hideHardwareSpecs": true,
    "memoryGiB": 0,
    "name": "ml.geospatial.interactive",
    "supportedImageNames": [
     "sagemaker-geospatial-v1-0"
    ],
    "vcpuNum": 0
   },
   {
    "_defaultOrder": 21,
    "_isFastLaunch": true,
    "category": "Compute optimized",
    "gpuNum": 0,
    "hideHardwareSpecs": false,
    "memoryGiB": 4,
    "name": "ml.c5.large",
    "vcpuNum": 2
   },
   {
    "_defaultOrder": 22,
    "_isFastLaunch": false,
    "category": "Compute optimized",
    "gpuNum": 0,
    "hideHardwareSpecs": false,
    "memoryGiB": 8,
    "name": "ml.c5.xlarge",
    "vcpuNum": 4
   },
   {
    "_defaultOrder": 23,
    "_isFastLaunch": false,
    "category": "Compute optimized",
    "gpuNum": 0,
    "hideHardwareSpecs": false,
    "memoryGiB": 16,
    "name": "ml.c5.2xlarge",
    "vcpuNum": 8
   },
   {
    "_defaultOrder": 24,
    "_isFastLaunch": false,
    "category": "Compute optimized",
    "gpuNum": 0,
    "hideHardwareSpecs": false,
    "memoryGiB": 32,
    "name": "ml.c5.4xlarge",
    "vcpuNum": 16
   },
   {
    "_defaultOrder": 25,
    "_isFastLaunch": false,
    "category": "Compute optimized",
    "gpuNum": 0,
    "hideHardwareSpecs": false,
    "memoryGiB": 72,
    "name": "ml.c5.9xlarge",
    "vcpuNum": 36
   },
   {
    "_defaultOrder": 26,
    "_isFastLaunch": false,
    "category": "Compute optimized",
    "gpuNum": 0,
    "hideHardwareSpecs": false,
    "memoryGiB": 96,
    "name": "ml.c5.12xlarge",
    "vcpuNum": 48
   },
   {
    "_defaultOrder": 27,
    "_isFastLaunch": false,
    "category": "Compute optimized",
    "gpuNum": 0,
    "hideHardwareSpecs": false,
    "memoryGiB": 144,
    "name": "ml.c5.18xlarge",
    "vcpuNum": 72
   },
   {
    "_defaultOrder": 28,
    "_isFastLaunch": false,
    "category": "Compute optimized",
    "gpuNum": 0,
    "hideHardwareSpecs": false,
    "memoryGiB": 192,
    "name": "ml.c5.24xlarge",
    "vcpuNum": 96
   },
   {
    "_defaultOrder": 29,
    "_isFastLaunch": true,
    "category": "Accelerated computing",
    "gpuNum": 1,
    "hideHardwareSpecs": false,
    "memoryGiB": 16,
    "name": "ml.g4dn.xlarge",
    "vcpuNum": 4
   },
   {
    "_defaultOrder": 30,
    "_isFastLaunch": false,
    "category": "Accelerated computing",
    "gpuNum": 1,
    "hideHardwareSpecs": false,
    "memoryGiB": 32,
    "name": "ml.g4dn.2xlarge",
    "vcpuNum": 8
   },
   {
    "_defaultOrder": 31,
    "_isFastLaunch": false,
    "category": "Accelerated computing",
    "gpuNum": 1,
    "hideHardwareSpecs": false,
    "memoryGiB": 64,
    "name": "ml.g4dn.4xlarge",
    "vcpuNum": 16
   },
   {
    "_defaultOrder": 32,
    "_isFastLaunch": false,
    "category": "Accelerated computing",
    "gpuNum": 1,
    "hideHardwareSpecs": false,
    "memoryGiB": 128,
    "name": "ml.g4dn.8xlarge",
    "vcpuNum": 32
   },
   {
    "_defaultOrder": 33,
    "_isFastLaunch": false,
    "category": "Accelerated computing",
    "gpuNum": 4,
    "hideHardwareSpecs": false,
    "memoryGiB": 192,
    "name": "ml.g4dn.12xlarge",
    "vcpuNum": 48
   },
   {
    "_defaultOrder": 34,
    "_isFastLaunch": false,
    "category": "Accelerated computing",
    "gpuNum": 1,
    "hideHardwareSpecs": false,
    "memoryGiB": 256,
    "name": "ml.g4dn.16xlarge",
    "vcpuNum": 64
   },
   {
    "_defaultOrder": 35,
    "_isFastLaunch": false,
    "category": "Accelerated computing",
    "gpuNum": 1,
    "hideHardwareSpecs": false,
    "memoryGiB": 61,
    "name": "ml.p3.2xlarge",
    "vcpuNum": 8
   },
   {
    "_defaultOrder": 36,
    "_isFastLaunch": false,
    "category": "Accelerated computing",
    "gpuNum": 4,
    "hideHardwareSpecs": false,
    "memoryGiB": 244,
    "name": "ml.p3.8xlarge",
    "vcpuNum": 32
   },
   {
    "_defaultOrder": 37,
    "_isFastLaunch": false,
    "category": "Accelerated computing",
    "gpuNum": 8,
    "hideHardwareSpecs": false,
    "memoryGiB": 488,
    "name": "ml.p3.16xlarge",
    "vcpuNum": 64
   },
   {
    "_defaultOrder": 38,
    "_isFastLaunch": false,
    "category": "Accelerated computing",
    "gpuNum": 8,
    "hideHardwareSpecs": false,
    "memoryGiB": 768,
    "name": "ml.p3dn.24xlarge",
    "vcpuNum": 96
   },
   {
    "_defaultOrder": 39,
    "_isFastLaunch": false,
    "category": "Memory Optimized",
    "gpuNum": 0,
    "hideHardwareSpecs": false,
    "memoryGiB": 16,
    "name": "ml.r5.large",
    "vcpuNum": 2
   },
   {
    "_defaultOrder": 40,
    "_isFastLaunch": false,
    "category": "Memory Optimized",
    "gpuNum": 0,
    "hideHardwareSpecs": false,
    "memoryGiB": 32,
    "name": "ml.r5.xlarge",
    "vcpuNum": 4
   },
   {
    "_defaultOrder": 41,
    "_isFastLaunch": false,
    "category": "Memory Optimized",
    "gpuNum": 0,
    "hideHardwareSpecs": false,
    "memoryGiB": 64,
    "name": "ml.r5.2xlarge",
    "vcpuNum": 8
   },
   {
    "_defaultOrder": 42,
    "_isFastLaunch": false,
    "category": "Memory Optimized",
    "gpuNum": 0,
    "hideHardwareSpecs": false,
    "memoryGiB": 128,
    "name": "ml.r5.4xlarge",
    "vcpuNum": 16
   },
   {
    "_defaultOrder": 43,
    "_isFastLaunch": false,
    "category": "Memory Optimized",
    "gpuNum": 0,
    "hideHardwareSpecs": false,
    "memoryGiB": 256,
    "name": "ml.r5.8xlarge",
    "vcpuNum": 32
   },
   {
    "_defaultOrder": 44,
    "_isFastLaunch": false,
    "category": "Memory Optimized",
    "gpuNum": 0,
    "hideHardwareSpecs": false,
    "memoryGiB": 384,
    "name": "ml.r5.12xlarge",
    "vcpuNum": 48
   },
   {
    "_defaultOrder": 45,
    "_isFastLaunch": false,
    "category": "Memory Optimized",
    "gpuNum": 0,
    "hideHardwareSpecs": false,
    "memoryGiB": 512,
    "name": "ml.r5.16xlarge",
    "vcpuNum": 64
   },
   {
    "_defaultOrder": 46,
    "_isFastLaunch": false,
    "category": "Memory Optimized",
    "gpuNum": 0,
    "hideHardwareSpecs": false,
    "memoryGiB": 768,
    "name": "ml.r5.24xlarge",
    "vcpuNum": 96
   },
   {
    "_defaultOrder": 47,
    "_isFastLaunch": false,
    "category": "Accelerated computing",
    "gpuNum": 1,
    "hideHardwareSpecs": false,
    "memoryGiB": 16,
    "name": "ml.g5.xlarge",
    "vcpuNum": 4
   },
   {
    "_defaultOrder": 48,
    "_isFastLaunch": false,
    "category": "Accelerated computing",
    "gpuNum": 1,
    "hideHardwareSpecs": false,
    "memoryGiB": 32,
    "name": "ml.g5.2xlarge",
    "vcpuNum": 8
   },
   {
    "_defaultOrder": 49,
    "_isFastLaunch": false,
    "category": "Accelerated computing",
    "gpuNum": 1,
    "hideHardwareSpecs": false,
    "memoryGiB": 64,
    "name": "ml.g5.4xlarge",
    "vcpuNum": 16
   },
   {
    "_defaultOrder": 50,
    "_isFastLaunch": false,
    "category": "Accelerated computing",
    "gpuNum": 1,
    "hideHardwareSpecs": false,
    "memoryGiB": 128,
    "name": "ml.g5.8xlarge",
    "vcpuNum": 32
   },
   {
    "_defaultOrder": 51,
    "_isFastLaunch": false,
    "category": "Accelerated computing",
    "gpuNum": 1,
    "hideHardwareSpecs": false,
    "memoryGiB": 256,
    "name": "ml.g5.16xlarge",
    "vcpuNum": 64
   },
   {
    "_defaultOrder": 52,
    "_isFastLaunch": false,
    "category": "Accelerated computing",
    "gpuNum": 4,
    "hideHardwareSpecs": false,
    "memoryGiB": 192,
    "name": "ml.g5.12xlarge",
    "vcpuNum": 48
   },
   {
    "_defaultOrder": 53,
    "_isFastLaunch": false,
    "category": "Accelerated computing",
    "gpuNum": 4,
    "hideHardwareSpecs": false,
    "memoryGiB": 384,
    "name": "ml.g5.24xlarge",
    "vcpuNum": 96
   },
   {
    "_defaultOrder": 54,
    "_isFastLaunch": false,
    "category": "Accelerated computing",
    "gpuNum": 8,
    "hideHardwareSpecs": false,
    "memoryGiB": 768,
    "name": "ml.g5.48xlarge",
    "vcpuNum": 192
   },
   {
    "_defaultOrder": 55,
    "_isFastLaunch": false,
    "category": "Accelerated computing",
    "gpuNum": 8,
    "hideHardwareSpecs": false,
    "memoryGiB": 1152,
    "name": "ml.p4d.24xlarge",
    "vcpuNum": 96
   },
   {
    "_defaultOrder": 56,
    "_isFastLaunch": false,
    "category": "Accelerated computing",
    "gpuNum": 8,
    "hideHardwareSpecs": false,
    "memoryGiB": 1152,
    "name": "ml.p4de.24xlarge",
    "vcpuNum": 96
   },
   {
    "_defaultOrder": 57,
    "_isFastLaunch": false,
    "category": "Accelerated computing",
    "gpuNum": 0,
    "hideHardwareSpecs": false,
    "memoryGiB": 32,
    "name": "ml.trn1.2xlarge",
    "vcpuNum": 8
   },
   {
    "_defaultOrder": 58,
    "_isFastLaunch": false,
    "category": "Accelerated computing",
    "gpuNum": 0,
    "hideHardwareSpecs": false,
    "memoryGiB": 512,
    "name": "ml.trn1.32xlarge",
    "vcpuNum": 128
   },
   {
    "_defaultOrder": 59,
    "_isFastLaunch": false,
    "category": "Accelerated computing",
    "gpuNum": 0,
    "hideHardwareSpecs": false,
    "memoryGiB": 512,
    "name": "ml.trn1n.32xlarge",
    "vcpuNum": 128
   }
  ],
  "instance_type": "ml.c5.large",
  "kernelspec": {
   "display_name": "Python 3 (Data Science 3.0)",
   "language": "python",
   "name": "python3__SAGEMAKER_INTERNAL__arn:aws:sagemaker:us-east-1:081325390199:image/sagemaker-data-science-310-v1"
  },
  "language_info": {
   "codemirror_mode": {
    "name": "ipython",
    "version": 3
   },
   "file_extension": ".py",
   "mimetype": "text/x-python",
   "name": "python",
   "nbconvert_exporter": "python",
   "pygments_lexer": "ipython3",
   "version": "3.10.6"
  }
 },
 "nbformat": 4,
 "nbformat_minor": 5
}
