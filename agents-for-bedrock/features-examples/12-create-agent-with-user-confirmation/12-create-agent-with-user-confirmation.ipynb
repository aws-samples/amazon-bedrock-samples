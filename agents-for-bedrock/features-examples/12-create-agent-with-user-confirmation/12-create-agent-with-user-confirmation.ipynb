{
 "cells": [
  {
   "cell_type": "markdown",
   "id": "ab1d56b8",
   "metadata": {},
   "source": [
    "# Create Agent with User Confirmation"
   ]
  },
  {
   "cell_type": "markdown",
   "id": "8dbf66c9",
   "metadata": {},
   "source": [
    "In this notebook we will create an Agent for Amazon Bedrock using the new capabilities for function definition with get user confirmation before invoking action group function.\n",
    "\n",
    "We will use the HR agent as example. With this agent, you can request a new vacation leave. We will use a local function to define the logic that checks for the available vacation days and book new ones. Notice that this example does not need an API Schema file, nor does it need a Lambda function.\n",
    "\n",
    "For this example, we will generate some employee data using an [SQLite](https://www.sqlite.org/) database"
   ]
  },
  {
   "cell_type": "markdown",
   "id": "f1dce8dd",
   "metadata": {},
   "source": [
    "## Pre-requisites"
   ]
  },
  {
   "cell_type": "markdown",
   "id": "dc8ce09d",
   "metadata": {},
   "source": [
    "Before starting, let's update the botocore and boto3 packages to ensure we have the latest version"
   ]
  },
  {
   "cell_type": "code",
   "execution_count": 113,
   "id": "f387cd23",
   "metadata": {},
   "outputs": [],
   "source": [
    "!python3 -m pip install --upgrade -q botocore\n",
    "!python3 -m pip install --upgrade -q boto3\n",
    "!python3 -m pip install --upgrade -q awscli"
   ]
  },
  {
   "cell_type": "markdown",
   "id": "e0e913c8",
   "metadata": {},
   "source": [
    "Let's now check the boto3 version to ensure the correct version has been installed. Your version should be bigger or equal to 1.34.90."
   ]
  },
  {
   "cell_type": "code",
   "execution_count": 13,
   "id": "a24c2efa",
   "metadata": {},
   "outputs": [
    {
     "name": "stdout",
     "output_type": "stream",
     "text": [
      "1.35.23\n"
     ]
    }
   ],
   "source": [
    "import boto3\n",
    "import json\n",
    "import time\n",
    "import uuid\n",
    "import pprint\n",
    "import logging\n",
    "\n",
    "print(boto3.__version__)"
   ]
  },
  {
   "cell_type": "code",
   "execution_count": 14,
   "id": "d42b1a86",
   "metadata": {},
   "outputs": [],
   "source": [
    "# setting logger\n",
    "logging.basicConfig(format='[%(asctime)s] p%(process)s {%(filename)s:%(lineno)d} %(levelname)s - %(message)s', level=logging.INFO)\n",
    "logger = logging.getLogger(__name__)"
   ]
  },
  {
   "cell_type": "markdown",
   "id": "6c39cb8f",
   "metadata": {},
   "source": [
    "Let's now create the boto3 clients for the required AWS services"
   ]
  },
  {
   "cell_type": "code",
   "execution_count": 15,
   "id": "e69b7a22",
   "metadata": {},
   "outputs": [],
   "source": [
    "# getting boto3 clients for required AWS services\n",
    "sts_client = boto3.client('sts')\n",
    "iam_client = boto3.client('iam')\n",
    "bedrock_agent_client = boto3.client('bedrock-agent')\n",
    "bedrock_agent_runtime_client = boto3.client('bedrock-agent-runtime')"
   ]
  },
  {
   "cell_type": "markdown",
   "id": "04e8db6f",
   "metadata": {},
   "source": [
    "Next we can set some configuration variables for the agent"
   ]
  },
  {
   "cell_type": "code",
   "execution_count": 16,
   "id": "d7f1d1a8",
   "metadata": {},
   "outputs": [
    {
     "data": {
      "text/plain": [
       "('us-east-1', '336118322861')"
      ]
     },
     "execution_count": 16,
     "metadata": {},
     "output_type": "execute_result"
    }
   ],
   "source": [
    "session = boto3.session.Session()\n",
    "region = session.region_name\n",
    "account_id = sts_client.get_caller_identity()[\"Account\"]\n",
    "region, account_id"
   ]
  },
  {
   "cell_type": "code",
   "execution_count": 17,
   "id": "1b4bab51",
   "metadata": {},
   "outputs": [],
   "source": [
    "# configuration variables\n",
    "suffix = f\"{region}-{account_id}\"\n",
    "agent_name = \"hr-assistant-function-roc\"\n",
    "agent_bedrock_allow_policy_name = f\"{agent_name}-ba-{suffix}\"\n",
    "agent_role_name = f'AmazonBedrockExecutionRoleForAgents_{agent_name}'\n",
    "agent_foundation_model = \"anthropic.claude-3-sonnet-20240229-v1:0\"\n",
    "agent_description = \"Agent for providing HR assistance to book holidays\"\n",
    "agent_instruction = \"You are an HR agent, helping employees understand HR policies and manage vacation time\"\n",
    "agent_action_group_name = \"VacationsActionGroup\"\n",
    "agent_action_group_description = \"Actions to book new vacations in the system with user confirmation\"\n",
    "agent_alias_name = f\"{agent_name}-alias\""
   ]
  },
  {
   "cell_type": "markdown",
   "id": "cf418516",
   "metadata": {},
   "source": [
    "## Create Agent"
   ]
  },
  {
   "cell_type": "markdown",
   "id": "496fdaae",
   "metadata": {},
   "source": [
    "We will now create the agent. To do so, we first need to create the agent policies that allow bedrock model invocation and the agent IAM role with the policy associated to it. We will allow this agent to invoke the Claude Sonnet model"
   ]
  },
  {
   "cell_type": "code",
   "execution_count": 18,
   "id": "bf7e782e",
   "metadata": {},
   "outputs": [],
   "source": [
    "# Create IAM policies for agent\n",
    "bedrock_agent_bedrock_allow_policy_statement = {\n",
    "    \"Version\": \"2012-10-17\",\n",
    "    \"Statement\": [\n",
    "        {\n",
    "            \"Sid\": \"AmazonBedrockAgentBedrockFoundationModelPolicy\",\n",
    "            \"Effect\": \"Allow\",\n",
    "            \"Action\": \"bedrock:InvokeModel\",\n",
    "            \"Resource\": [\n",
    "                f\"arn:aws:bedrock:{region}::foundation-model/{agent_foundation_model}\"\n",
    "            ]\n",
    "        }\n",
    "    ]\n",
    "}\n",
    "\n",
    "bedrock_policy_json = json.dumps(bedrock_agent_bedrock_allow_policy_statement)\n",
    "\n",
    "agent_bedrock_policy = iam_client.create_policy(\n",
    "    PolicyName=agent_bedrock_allow_policy_name,\n",
    "    PolicyDocument=bedrock_policy_json\n",
    ")"
   ]
  },
  {
   "cell_type": "code",
   "execution_count": 19,
   "id": "c1d29d43",
   "metadata": {},
   "outputs": [
    {
     "data": {
      "text/plain": [
       "{'ResponseMetadata': {'RequestId': '55d98c5b-48e4-46e2-82d7-51d61464e4be',\n",
       "  'HTTPStatusCode': 200,\n",
       "  'HTTPHeaders': {'date': 'Fri, 20 Sep 2024 17:35:20 GMT',\n",
       "   'x-amzn-requestid': '55d98c5b-48e4-46e2-82d7-51d61464e4be',\n",
       "   'content-type': 'text/xml',\n",
       "   'content-length': '212'},\n",
       "  'RetryAttempts': 0}}"
      ]
     },
     "execution_count": 19,
     "metadata": {},
     "output_type": "execute_result"
    }
   ],
   "source": [
    "# Create IAM Role for the agent and attach IAM policies\n",
    "assume_role_policy_document = {\n",
    "    \"Version\": \"2012-10-17\",\n",
    "    \"Statement\": [{\n",
    "          \"Effect\": \"Allow\",\n",
    "          \"Principal\": {\n",
    "            \"Service\": \"bedrock.amazonaws.com\"\n",
    "          },\n",
    "          \"Action\": \"sts:AssumeRole\"\n",
    "    }]\n",
    "}\n",
    "\n",
    "assume_role_policy_document_json = json.dumps(assume_role_policy_document)\n",
    "agent_role = iam_client.create_role(\n",
    "    RoleName=agent_role_name,\n",
    "    AssumeRolePolicyDocument=assume_role_policy_document_json\n",
    ")\n",
    "\n",
    "# Pause to make sure role is created\n",
    "time.sleep(10)\n",
    "    \n",
    "iam_client.attach_role_policy(\n",
    "    RoleName=agent_role_name,\n",
    "    PolicyArn=agent_bedrock_policy['Policy']['Arn']\n",
    ")"
   ]
  },
  {
   "cell_type": "markdown",
   "id": "5b3cc045",
   "metadata": {},
   "source": [
    "## Creating agent"
   ]
  },
  {
   "cell_type": "markdown",
   "id": "a84f486a",
   "metadata": {},
   "source": [
    "Once the needed IAM role is created, we can use the Bedrock agent client to create a new agent. To do so we use the create_agent function. It requires an agent name, underlying foundation model and instructions. You can also provide an agent description. Note that the agent created is not yet prepared. We will focus on preparing the agent and then using it to invoke actions and use other APIs."
   ]
  },
  {
   "cell_type": "code",
   "execution_count": 20,
   "id": "b1b60d62",
   "metadata": {},
   "outputs": [
    {
     "data": {
      "text/plain": [
       "{'ResponseMetadata': {'RequestId': 'df2c33bc-2efb-4b16-8a0f-8d74f9339d16',\n",
       "  'HTTPStatusCode': 202,\n",
       "  'HTTPHeaders': {'date': 'Fri, 20 Sep 2024 17:35:20 GMT',\n",
       "   'content-type': 'application/json',\n",
       "   'content-length': '637',\n",
       "   'connection': 'keep-alive',\n",
       "   'x-amzn-requestid': 'df2c33bc-2efb-4b16-8a0f-8d74f9339d16',\n",
       "   'x-amz-apigw-id': 'eajN7G4BoAMEemw=',\n",
       "   'x-amzn-trace-id': 'Root=1-66edb258-260fb01067ba5b633df10f20'},\n",
       "  'RetryAttempts': 0},\n",
       " 'agent': {'agentArn': 'arn:aws:bedrock:us-east-1:336118322861:agent/M8LOXKHHNB',\n",
       "  'agentId': 'M8LOXKHHNB',\n",
       "  'agentName': 'hr-assistant-function-roc',\n",
       "  'agentResourceRoleArn': 'arn:aws:iam::336118322861:role/AmazonBedrockExecutionRoleForAgents_hr-assistant-function-roc',\n",
       "  'agentStatus': 'CREATING',\n",
       "  'createdAt': datetime.datetime(2024, 9, 20, 17, 35, 20, 907735, tzinfo=tzlocal()),\n",
       "  'description': 'Agent for providing HR assistance to book holidays',\n",
       "  'foundationModel': 'anthropic.claude-3-sonnet-20240229-v1:0',\n",
       "  'idleSessionTTLInSeconds': 1800,\n",
       "  'instruction': 'You are an HR agent, helping employees understand HR policies and manage vacation time',\n",
       "  'updatedAt': datetime.datetime(2024, 9, 20, 17, 35, 20, 907735, tzinfo=tzlocal())}}"
      ]
     },
     "execution_count": 20,
     "metadata": {},
     "output_type": "execute_result"
    }
   ],
   "source": [
    "response = bedrock_agent_client.create_agent(\n",
    "    agentName=agent_name,\n",
    "    agentResourceRoleArn=agent_role['Role']['Arn'],\n",
    "    description=agent_description,\n",
    "    idleSessionTTLInSeconds=1800,\n",
    "    foundationModel=agent_foundation_model,\n",
    "    instruction=agent_instruction,\n",
    ")\n",
    "response"
   ]
  },
  {
   "cell_type": "markdown",
   "id": "6e1b29d2",
   "metadata": {},
   "source": [
    "Let's now store the agent id in a local variable to use it on the next steps"
   ]
  },
  {
   "cell_type": "code",
   "execution_count": 21,
   "id": "c63bd2ab",
   "metadata": {},
   "outputs": [
    {
     "data": {
      "text/plain": [
       "'M8LOXKHHNB'"
      ]
     },
     "execution_count": 21,
     "metadata": {},
     "output_type": "execute_result"
    }
   ],
   "source": [
    "agent_id = response['agent']['agentId']\n",
    "agent_id"
   ]
  },
  {
   "cell_type": "markdown",
   "id": "c8980de6",
   "metadata": {},
   "source": [
    "## Create Agent Action Group"
   ]
  },
  {
   "cell_type": "markdown",
   "id": "365a2091",
   "metadata": {},
   "source": [
    "We will now create an agent action group. The create_agent_action_group function provides this functionality. We will use DRAFT as the agent version since we haven't yet create an agent version or alias. To inform the agent about the action group functionalities, we will provide an action group description containing the functionalities of the action group.\n",
    "\n",
    "In this example, we will provide the Action Group functionality using a functionSchema. You can also provide and APISchema. The notebook [02-create-agent-with-api-schema.ipynb](02-create-agent-with-api-schema/02-create-agent-with-api-schema.ipynb) provides an example of it.\n",
    "\n",
    "To define the functions using a function schema, you need to provide the name, description, parameters and requireConfirmation for each function.\n",
    "\n",
    "When defining functions using a function schema, you must specify the name, description, parameters, and the requireConfirmation attribute for each function. The requireConfirmation attribute indicates whether user confirmation is required before executing the function. \n",
    "\n",
    "For more details on this configuration, refer to the documentation at the provided [link](https://docs.aws.amazon.com/bedrock/latest/userguide/agents-userconfirmation.html)."
   ]
  },
  {
   "cell_type": "code",
   "execution_count": 22,
   "id": "9aa2bbf1",
   "metadata": {},
   "outputs": [],
   "source": [
    "agent_functions = [\n",
    "\n",
    "    {\n",
    "        'name': 'reserve_vacation_time',\n",
    "        'description': 'reserve vacation time for a specific employee - you need all parameters to reserve vacation time',\n",
    "        'parameters': {\n",
    "            \"employee_id\": {\n",
    "                \"description\": \"the id of the employee for which time off will be reserved\",\n",
    "                \"required\": True,\n",
    "                \"type\": \"integer\"\n",
    "            },\n",
    "            \"start_date\": {\n",
    "                \"description\": \"the start date for the vacation time\",\n",
    "                \"required\": True,\n",
    "                \"type\": \"String\"\n",
    "            },\n",
    "            \"end_date\": {\n",
    "                \"description\": \"the end date for the vacation time\",\n",
    "                \"required\": True,\n",
    "                \"type\": \"String\"\n",
    "            }\n",
    "        },\n",
    "        'requireConfirmation':'ENABLED'\n",
    "    },\n",
    "]"
   ]
  },
  {
   "cell_type": "markdown",
   "id": "e17847f4",
   "metadata": {},
   "source": [
    "Here we create the action group with a `customContrl` executor of `RETURN_CONTROL`. This lets the agent know that instead of executing the function, it should simply return the appropriate function and parameters. The client application is then responsible for executing the function."
   ]
  },
  {
   "cell_type": "code",
   "execution_count": 23,
   "id": "2926038c",
   "metadata": {},
   "outputs": [],
   "source": [
    "# Pause to make sure agent is created\n",
    "time.sleep(30)\n",
    "# Now, we can configure and create an action group here:\n",
    "agent_action_group_response = bedrock_agent_client.create_agent_action_group(\n",
    "    agentId=agent_id,\n",
    "    agentVersion='DRAFT',\n",
    "    actionGroupExecutor={\n",
    "        'customControl': 'RETURN_CONTROL'\n",
    "    },\n",
    "    actionGroupName=agent_action_group_name,\n",
    "    functionSchema={\n",
    "        'functions': agent_functions\n",
    "    },\n",
    "    description=agent_action_group_description\n",
    ")"
   ]
  },
  {
   "cell_type": "code",
   "execution_count": 24,
   "id": "200fcec7",
   "metadata": {},
   "outputs": [
    {
     "data": {
      "text/plain": [
       "{'ResponseMetadata': {'RequestId': '43f6a679-11dd-42ea-9159-3fe96b7d54db',\n",
       "  'HTTPStatusCode': 200,\n",
       "  'HTTPHeaders': {'date': 'Fri, 20 Sep 2024 17:36:06 GMT',\n",
       "   'content-type': 'application/json',\n",
       "   'content-length': '943',\n",
       "   'connection': 'keep-alive',\n",
       "   'x-amzn-requestid': '43f6a679-11dd-42ea-9159-3fe96b7d54db',\n",
       "   'x-amz-apigw-id': 'eajVDFFtIAMEXNQ=',\n",
       "   'x-amzn-trace-id': 'Root=1-66edb286-5902af1c75c63571290c7d32'},\n",
       "  'RetryAttempts': 0},\n",
       " 'agentActionGroup': {'actionGroupExecutor': {'customControl': 'RETURN_CONTROL'},\n",
       "  'actionGroupId': 'RQCZXNDCH5',\n",
       "  'actionGroupName': 'VacationsActionGroup',\n",
       "  'actionGroupState': 'ENABLED',\n",
       "  'agentId': 'M8LOXKHHNB',\n",
       "  'agentVersion': 'DRAFT',\n",
       "  'createdAt': datetime.datetime(2024, 9, 20, 17, 36, 6, 561049, tzinfo=tzlocal()),\n",
       "  'description': 'Actions to book new vacations in the system with user confirmation',\n",
       "  'functionSchema': {'functions': [{'description': 'reserve vacation time for a specific employee - you need all parameters to reserve vacation time',\n",
       "     'name': 'reserve_vacation_time',\n",
       "     'parameters': {'employee_id': {'description': 'the id of the employee for which time off will be reserved',\n",
       "       'required': True,\n",
       "       'type': 'integer'},\n",
       "      'end_date': {'description': 'the end date for the vacation time',\n",
       "       'required': True,\n",
       "       'type': 'string'},\n",
       "      'start_date': {'description': 'the start date for the vacation time',\n",
       "       'required': True,\n",
       "       'type': 'string'}},\n",
       "     'requireConfirmation': 'ENABLED'}]},\n",
       "  'updatedAt': datetime.datetime(2024, 9, 20, 17, 36, 6, 561049, tzinfo=tzlocal())}}"
      ]
     },
     "execution_count": 24,
     "metadata": {},
     "output_type": "execute_result"
    }
   ],
   "source": [
    "agent_action_group_response"
   ]
  },
  {
   "cell_type": "markdown",
   "id": "d5990185",
   "metadata": {},
   "source": [
    "## Preparing Agent"
   ]
  },
  {
   "cell_type": "markdown",
   "id": "e8b4bf90",
   "metadata": {},
   "source": [
    "Let's create a DRAFT version of the agent that can be used for internal testing."
   ]
  },
  {
   "cell_type": "code",
   "execution_count": 63,
   "id": "d89a99b0",
   "metadata": {},
   "outputs": [
    {
     "name": "stdout",
     "output_type": "stream",
     "text": [
      "{'ResponseMetadata': {'RequestId': '9f8757fe-66fb-4148-b5ef-5a7c2b692559', 'HTTPStatusCode': 202, 'HTTPHeaders': {'date': 'Fri, 20 Sep 2024 17:51:38 GMT', 'content-type': 'application/json', 'content-length': '119', 'connection': 'keep-alive', 'x-amzn-requestid': '9f8757fe-66fb-4148-b5ef-5a7c2b692559', 'x-amz-apigw-id': 'ealmnHFcoAMEDQg=', 'x-amzn-trace-id': 'Root=1-66edb62a-6478ee5047c52ef753b4461d'}, 'RetryAttempts': 1}, 'agentId': 'M8LOXKHHNB', 'agentStatus': 'PREPARING', 'agentVersion': 'DRAFT', 'preparedAt': datetime.datetime(2024, 9, 20, 17, 51, 38, 136455, tzinfo=tzlocal())}\n"
     ]
    }
   ],
   "source": [
    "response = bedrock_agent_client.prepare_agent(\n",
    "    agentId=agent_id\n",
    ")\n",
    "print(response)"
   ]
  },
  {
   "cell_type": "markdown",
   "id": "b4402c15",
   "metadata": {},
   "source": [
    "## Invoke Agent"
   ]
  },
  {
   "cell_type": "markdown",
   "id": "a430e53c",
   "metadata": {},
   "source": [
    "Now that we've created the agent, let's use the `bedrock-agent-runtime` client to invoke this agent and perform some tasks."
   ]
  },
  {
   "cell_type": "code",
   "execution_count": 87,
   "id": "46067a7b",
   "metadata": {},
   "outputs": [],
   "source": [
    "# Pause to make sure agent is prepared\n",
    "time.sleep(30)\n",
    "\n",
    "# Extract the agentAliasId from the response\n",
    "agent_alias_id = \"TSTALIASID\""
   ]
  },
  {
   "cell_type": "code",
   "execution_count": 104,
   "id": "3484bac9",
   "metadata": {},
   "outputs": [
    {
     "name": "stdout",
     "output_type": "stream",
     "text": [
      "{'ResponseMetadata': {'HTTPHeaders': {'connection': 'keep-alive',\n",
      "                                      'content-type': 'application/json',\n",
      "                                      'date': 'Fri, 20 Sep 2024 18:07:21 GMT',\n",
      "                                      'transfer-encoding': 'chunked',\n",
      "                                      'x-amz-bedrock-agent-session-id': '2e9aab48-777b-11ef-9c68-0affee3e2ef7',\n",
      "                                      'x-amzn-bedrock-agent-content-type': 'application/json',\n",
      "                                      'x-amzn-requestid': 'efe1243f-dcd2-4f55-994a-4e9c54d4ea64'},\n",
      "                      'HTTPStatusCode': 200,\n",
      "                      'RequestId': 'efe1243f-dcd2-4f55-994a-4e9c54d4ea64',\n",
      "                      'RetryAttempts': 0},\n",
      " 'completion': <botocore.eventstream.EventStream object at 0x7f06dce42290>,\n",
      " 'contentType': 'application/json',\n",
      " 'sessionId': '2e9aab48-777b-11ef-9c68-0affee3e2ef7'}\n"
     ]
    }
   ],
   "source": [
    "## create a random id for session initiator id\n",
    "session_id:str = str(uuid.uuid1())\n",
    "enable_trace:bool = False\n",
    "end_session:bool = False\n",
    "# Pause to make sure agent alias is ready\n",
    "# time.sleep(30)\n",
    "\n",
    "# invoke the agent API\n",
    "agentResponse = bedrock_agent_runtime_client.invoke_agent(\n",
    "    inputText=\"Book 2 days off for employee 1 with the start date of 2024-11-14 and the end date of 2024-11-19\",\n",
    "    agentId=agent_id,\n",
    "    agentAliasId=agent_alias_id, \n",
    "    sessionId=session_id,\n",
    "    enableTrace=enable_trace, \n",
    "    endSession= end_session\n",
    ")\n",
    "\n",
    "logger.info(pprint.pprint(agentResponse))"
   ]
  },
  {
   "cell_type": "code",
   "execution_count": 105,
   "id": "286a370d",
   "metadata": {},
   "outputs": [
    {
     "name": "stdout",
     "output_type": "stream",
     "text": [
      "{'returnControl': {'invocationId': '29e12a37-f18c-4a3e-bb19-c5e77f043223-uc-result',\n",
      "                   'invocationInputs': [{'functionInvocationInput': {'actionGroup': 'VacationsActionGroup',\n",
      "                                                                     'actionInvocationType': 'USER_CONFIRMATION_AND_RESULT',\n",
      "                                                                     'function': 'reserve_vacation_time',\n",
      "                                                                     'parameters': [{'name': 'end_date',\n",
      "                                                                                     'type': 'string',\n",
      "                                                                                     'value': '2024-11-19'},\n",
      "                                                                                    {'name': 'employee_id',\n",
      "                                                                                     'type': 'integer',\n",
      "                                                                                     'value': '1'},\n",
      "                                                                                    {'name': 'start_date',\n",
      "                                                                                     'type': 'string',\n",
      "                                                                                     'value': '2024-11-14'}]}}]}}\n",
      "CPU times: user 10.9 ms, sys: 2.95 ms, total: 13.9 ms\n",
      "Wall time: 8.63 s\n"
     ]
    }
   ],
   "source": [
    "%%time\n",
    "event_stream = agentResponse['completion']\n",
    "\n",
    "for event in event_stream:\n",
    "    if 'returnControl' in event:\n",
    "        pprint.pp(event)"
   ]
  },
  {
   "cell_type": "markdown",
   "id": "1d86a8da",
   "metadata": {},
   "source": [
    "## Defining function implementation"
   ]
  },
  {
   "cell_type": "markdown",
   "id": "9ddb8264",
   "metadata": {},
   "source": [
    "Let's now implement our functions to get the vacation information for an employee_id and to book a vacation for an employee_id between start_date and end_dates.\n",
    "\n",
    "To do so, we will first create an SQLite database with generated data"
   ]
  },
  {
   "cell_type": "code",
   "execution_count": 106,
   "id": "cfc916eb",
   "metadata": {},
   "outputs": [],
   "source": [
    "# creating employee database to be used by lambda function\n",
    "import sqlite3\n",
    "import random\n",
    "from datetime import date, timedelta\n",
    "\n",
    "# Connect to the SQLite database (creates a new one if it doesn't exist)\n",
    "conn = sqlite3.connect('employee_database.db')\n",
    "c = conn.cursor()\n",
    "\n",
    "# Create the employees table\n",
    "c.execute('''CREATE TABLE IF NOT EXISTS employees\n",
    "                (employee_id INTEGER PRIMARY KEY AUTOINCREMENT, employee_name TEXT, employee_job_title TEXT, employee_start_date TEXT, employee_employment_status TEXT)''')\n",
    "\n",
    "# Create the vacations table\n",
    "c.execute('''CREATE TABLE IF NOT EXISTS vacations\n",
    "                (employee_id INTEGER, year INTEGER, employee_total_vacation_days INTEGER, employee_vacation_days_taken INTEGER, employee_vacation_days_available INTEGER, FOREIGN KEY(employee_id) REFERENCES employees(employee_id))''')\n",
    "\n",
    "# Create the planned_vacations table\n",
    "c.execute('''CREATE TABLE IF NOT EXISTS planned_vacations\n",
    "                (employee_id INTEGER, vacation_start_date TEXT, vacation_end_date TEXT, vacation_days_taken INTEGER, FOREIGN KEY(employee_id) REFERENCES employees(employee_id))''')\n",
    "\n",
    "# Generate some random data for 10 employees\n",
    "employee_names = ['John Doe', 'Jane Smith', 'Bob Johnson', 'Alice Williams', 'Tom Brown', 'Emily Davis', 'Michael Wilson', 'Sarah Taylor', 'David Anderson', 'Jessica Thompson']\n",
    "job_titles = ['Manager', 'Developer', 'Designer', 'Analyst', 'Accountant', 'Sales Representative']\n",
    "employment_statuses = ['Active', 'Inactive']\n",
    "\n",
    "for i in range(10):\n",
    "    name = employee_names[i]\n",
    "    job_title = random.choice(job_titles)\n",
    "    start_date = date(2015 + random.randint(0, 7), random.randint(1, 12), random.randint(1, 28)).strftime('%Y-%m-%d')\n",
    "    employment_status = random.choice(employment_statuses)\n",
    "    c.execute(\"INSERT INTO employees (employee_name, employee_job_title, employee_start_date, employee_employment_status) VALUES (?, ?, ?, ?)\", (name, job_title, start_date, employment_status))\n",
    "    employee_id = c.lastrowid\n",
    "\n",
    "    # Generate vacation data for the current employee\n",
    "    for year in range(date.today().year, date.today().year - 3, -1):\n",
    "        total_vacation_days = random.randint(10, 30)\n",
    "        days_taken = random.randint(0, total_vacation_days)\n",
    "        days_available = total_vacation_days - days_taken\n",
    "        c.execute(\"INSERT INTO vacations (employee_id, year, employee_total_vacation_days, employee_vacation_days_taken, employee_vacation_days_available) VALUES (?, ?, ?, ?, ?)\", (employee_id, year, total_vacation_days, days_taken, days_available))\n",
    "\n",
    "        # Generate some planned vacations for the current employee and year\n",
    "        num_planned_vacations = random.randint(0, 3)\n",
    "        for _ in range(num_planned_vacations):\n",
    "            start_date = date(year, random.randint(1, 12), random.randint(1, 28)).strftime('%Y-%m-%d')\n",
    "            end_date = (date(int(start_date[:4]), int(start_date[5:7]), int(start_date[8:])) + timedelta(days=random.randint(1, 14))).strftime('%Y-%m-%d')\n",
    "            days_taken = (date(int(end_date[:4]), int(end_date[5:7]), int(end_date[8:])) - date(int(start_date[:4]), int(start_date[5:7]), int(start_date[8:])))\n",
    "            c.execute(\"INSERT INTO planned_vacations (employee_id, vacation_start_date, vacation_end_date, vacation_days_taken) VALUES (?, ?, ?, ?)\", (employee_id, start_date, end_date, days_taken.days))\n",
    "\n",
    "# Commit the changes and close the connection\n",
    "conn.commit()\n",
    "conn.close()"
   ]
  },
  {
   "cell_type": "markdown",
   "id": "026a2b37",
   "metadata": {},
   "source": [
    "Next let's use the generated file `employee_database.db` to provide the results for our query by implementing `reserve_vacation_time`"
   ]
  },
  {
   "cell_type": "code",
   "execution_count": 107,
   "id": "7ade2df2",
   "metadata": {},
   "outputs": [
    {
     "name": "stdout",
     "output_type": "stream",
     "text": [
      "reserve_vacation_time\n"
     ]
    }
   ],
   "source": [
    "import sqlite3\n",
    "from datetime import datetime\n",
    "    \n",
    "def reserve_vacation_time(employee_id, start_date, end_date):\n",
    "    # Connect to the SQLite database\n",
    "    conn = sqlite3.connect('employee_database.db')\n",
    "    c = conn.cursor()\n",
    "    try:\n",
    "        # Calculate the number of vacation days\n",
    "        start_date = datetime.strptime(start_date, '%Y-%m-%d')\n",
    "        end_date = datetime.strptime(end_date, '%Y-%m-%d')\n",
    "        vacation_days = (end_date - start_date).days + 1\n",
    "\n",
    "        # Get the current year\n",
    "        current_year = start_date.year\n",
    "\n",
    "        # Check if the employee exists\n",
    "        c.execute(\"SELECT * FROM employees WHERE employee_id = ?\", (employee_id,))\n",
    "        employee = c.fetchone()\n",
    "        if employee is None:\n",
    "            return_msg = f\"Employee with ID {employee_id} does not exist.\"\n",
    "            print(return_msg)\n",
    "            conn.close()\n",
    "            return return_msg\n",
    "\n",
    "        # Check if the vacation days are available for the employee in the current year\n",
    "        query = \"\"\"SELECT COALESCE(\n",
    "                        (SELECT employee_vacation_days_available \n",
    "                         FROM vacations \n",
    "                         WHERE employee_id = ? \n",
    "                         AND year = ?), 0) AS employee_vacation_days_available;\"\"\"\n",
    "        \n",
    "        c.execute(query, (employee_id, current_year))\n",
    "        result = c.fetchone()\n",
    "        available_days = result[0] if result else 0\n",
    "        \n",
    "        \n",
    "        print(available_days)\n",
    "        \n",
    "        if available_days is None or available_days < vacation_days:\n",
    "            return_msg = f\"Employee with ID {employee_id} does not have enough vacation days available for the requested period.\"\n",
    "            print(return_msg)\n",
    "            conn.close()\n",
    "            return return_msg\n",
    "\n",
    "        # Insert the new vacation into the planned_vacations table\n",
    "        c.execute(\"INSERT INTO planned_vacations (employee_id, vacation_start_date, vacation_end_date, vacation_days_taken) VALUES (?, ?, ?, ?)\", (employee_id, start_date, end_date, vacation_days))\n",
    "\n",
    "        # Update the vacations table with the new vacation days taken\n",
    "        c.execute(\"UPDATE vacations SET employee_vacation_days_taken = employee_vacation_days_taken + ?, employee_vacation_days_available = employee_vacation_days_available - ? WHERE employee_id = ? AND year = ?\", (vacation_days, vacation_days, employee_id, current_year))\n",
    "\n",
    "        conn.commit()\n",
    "        print(f\"Vacation booked successfully for employee with ID {employee_id} from {start_date} to {end_date}.\")\n",
    "        # Close the database connection\n",
    "        conn.close()\n",
    "        return f\"Vacation booked successfully for employee with ID {employee_id} from {start_date} to {end_date}.\"\n",
    "    except Exception as e:\n",
    "        conn.rollback()\n",
    "        # Close the database connection\n",
    "        conn.close()\n",
    "        raise Exception(f\"Error occurred: {e}\")\n",
    "\n",
    "print(event[\"returnControl\"][\"invocationInputs\"][0][\"functionInvocationInput\"][\"function\"])"
   ]
  },
  {
   "cell_type": "markdown",
   "id": "58cbe30c",
   "metadata": {},
   "source": [
    "We can now call the `reserve_vacation_time`function with the parameters provided by the agent"
   ]
  },
  {
   "cell_type": "code",
   "execution_count": 108,
   "id": "4c9d4f3f",
   "metadata": {},
   "outputs": [
    {
     "name": "stdout",
     "output_type": "stream",
     "text": [
      "0\n",
      "Employee with ID 1 does not have enough vacation days available for the requested period.\n"
     ]
    },
    {
     "data": {
      "text/plain": [
       "'Employee with ID 1 does not have enough vacation days available for the requested period.'"
      ]
     },
     "execution_count": 108,
     "metadata": {},
     "output_type": "execute_result"
    }
   ],
   "source": [
    "reserve_vacation_time_msg = None\n",
    "for invocationInput in event[\"returnControl\"][\"invocationInputs\"]:\n",
    "    function_to_call = invocationInput[\"functionInvocationInput\"][\"function\"]\n",
    "    if function_to_call == \"reserve_vacation_time\":\n",
    "        employee_id = None\n",
    "        start_date = None\n",
    "        end_date = None\n",
    "        for param in invocationInput[\"functionInvocationInput\"][\"parameters\"]:\n",
    "            if param[\"name\"] == \"employee_id\":\n",
    "                employee_id = param[\"value\"]\n",
    "            if param[\"name\"] == \"start_date\":\n",
    "                start_date = param[\"value\"]\n",
    "            if param[\"name\"] == \"end_date\":\n",
    "                end_date = param[\"value\"]\n",
    "                \n",
    "        if employee_id and start_date and end_date:\n",
    "            reserve_vacation_time_msg = reserve_vacation_time(employee_id, start_date, end_date)\n",
    "\n",
    "reserve_vacation_time_msg"
   ]
  },
  {
   "cell_type": "markdown",
   "id": "eafa0e5c",
   "metadata": {},
   "source": [
    "## Invoking the agent with the function results"
   ]
  },
  {
   "cell_type": "markdown",
   "id": "1d55e84c",
   "metadata": {},
   "source": [
    "Finally, we need to invoke the agent passing the function results as a parameter. This lets us use the agent for generating the final response.\n",
    "\n",
    "Note that if user confirmation is enabled for the function or API, the user will be presented with the option to `CONFIRM` or `DENY` the action specified in the response, within the `confirmationState` field.\n",
    "\n",
    "If the user's response is `CONFIRM`, the function or API in the response will be executed.\n",
    "\n",
    "If the user's response is `DENY`, the function or API in the response will not be executed."
   ]
  },
  {
   "cell_type": "code",
   "execution_count": 109,
   "id": "1a77aa36",
   "metadata": {},
   "outputs": [
    {
     "name": "stdout",
     "output_type": "stream",
     "text": [
      "{'ResponseMetadata': {'RequestId': 'ba795b81-7eb3-4fe5-9782-1285965cc159', 'HTTPStatusCode': 200, 'HTTPHeaders': {'date': 'Fri, 20 Sep 2024 18:07:47 GMT', 'content-type': 'application/json', 'transfer-encoding': 'chunked', 'connection': 'keep-alive', 'x-amzn-requestid': 'ba795b81-7eb3-4fe5-9782-1285965cc159', 'x-amz-bedrock-agent-session-id': '2e9aab48-777b-11ef-9c68-0affee3e2ef7', 'x-amzn-bedrock-agent-content-type': 'application/json'}, 'RetryAttempts': 0}, 'contentType': 'application/json', 'sessionId': '2e9aab48-777b-11ef-9c68-0affee3e2ef7', 'completion': <botocore.eventstream.EventStream object at 0x7f06dce441f0>}\n"
     ]
    }
   ],
   "source": [
    "raw_response_with_roc = bedrock_agent_runtime_client.invoke_agent(\n",
    "    agentId=agent_id,\n",
    "    agentAliasId=agent_alias_id, \n",
    "    sessionId=session_id,\n",
    "    enableTrace=enable_trace, \n",
    "    sessionState={\n",
    "        'invocationId': event[\"returnControl\"][\"invocationId\"],\n",
    "        'returnControlInvocationResults': [{\n",
    "                'functionResult': {\n",
    "                    'actionGroup': event[\"returnControl\"][\"invocationInputs\"][0][\"functionInvocationInput\"][\"actionGroup\"],\n",
    "                    'function': event[\"returnControl\"][\"invocationInputs\"][0][\"functionInvocationInput\"][\"function\"],\n",
    "                    'confirmationState': 'CONFIRM',\n",
    "                    'responseBody': {\n",
    "                        \"TEXT\": {\n",
    "                            'body': \"reserve_vacation_time: \"+str(reserve_vacation_time_msg)\n",
    "                        }\n",
    "                    }\n",
    "                }\n",
    "        }]}\n",
    ")\n",
    "\n",
    "print(raw_response_with_roc)"
   ]
  },
  {
   "cell_type": "code",
   "execution_count": 112,
   "id": "fb0d6920",
   "metadata": {},
   "outputs": [
    {
     "name": "stdout",
     "output_type": "stream",
     "text": [
      "CPU times: user 7 µs, sys: 0 ns, total: 7 µs\n",
      "Wall time: 9.54 µs\n"
     ]
    }
   ],
   "source": [
    "%%time\n",
    "event_stream = raw_response_with_roc['completion']\n",
    "for event in event_stream:\n",
    "    print(event)"
   ]
  },
  {
   "cell_type": "code",
   "execution_count": 111,
   "id": "ec537fd7",
   "metadata": {},
   "outputs": [
    {
     "name": "stdout",
     "output_type": "stream",
     "text": [
      "{'ResponseMetadata': {'RequestId': 'ba795b81-7eb3-4fe5-9782-1285965cc159', 'HTTPStatusCode': 200, 'HTTPHeaders': {'date': 'Fri, 20 Sep 2024 18:07:47 GMT', 'content-type': 'application/json', 'transfer-encoding': 'chunked', 'connection': 'keep-alive', 'x-amzn-requestid': 'ba795b81-7eb3-4fe5-9782-1285965cc159', 'x-amz-bedrock-agent-session-id': '2e9aab48-777b-11ef-9c68-0affee3e2ef7', 'x-amzn-bedrock-agent-content-type': 'application/json'}, 'RetryAttempts': 0}, 'contentType': 'application/json', 'sessionId': '2e9aab48-777b-11ef-9c68-0affee3e2ef7', 'completion': <botocore.eventstream.EventStream object at 0x7f06dce441f0>}\n"
     ]
    }
   ],
   "source": [
    "print(raw_response_with_roc)"
   ]
  },
  {
   "cell_type": "markdown",
   "id": "49486669",
   "metadata": {},
   "source": [
    "## Clean up (optional)"
   ]
  },
  {
   "cell_type": "markdown",
   "id": "c8946507",
   "metadata": {},
   "source": [
    "The next steps are optional and demonstrate how to delete our agent. To delete the agent we need to:\n",
    "\n",
    "1. update the action group to disable it\n",
    "2. delete agent action group\n",
    "3. delete agent\n",
    "4. delete the created IAM roles and policies"
   ]
  },
  {
   "cell_type": "code",
   "execution_count": 114,
   "id": "9e341fc5",
   "metadata": {},
   "outputs": [],
   "source": [
    "# This is not needed, you can delete agent successfully after deleting alias only\n",
    "# Additionaly, you need to disable it first\n",
    "action_group_id = agent_action_group_response['agentActionGroup']['actionGroupId']\n",
    "action_group_name = agent_action_group_response['agentActionGroup']['actionGroupName']\n",
    "\n",
    "response = bedrock_agent_client.update_agent_action_group(\n",
    "    agentId=agent_id,\n",
    "    agentVersion='DRAFT',\n",
    "    actionGroupId= action_group_id,\n",
    "    actionGroupName=action_group_name,\n",
    "    actionGroupExecutor={\n",
    "        'customControl': 'RETURN_CONTROL'\n",
    "    },\n",
    "    functionSchema={\n",
    "        'functions': agent_functions\n",
    "    },\n",
    "    actionGroupState='DISABLED',\n",
    ")\n",
    "\n",
    "action_group_deletion = bedrock_agent_client.delete_agent_action_group(\n",
    "    agentId=agent_id,\n",
    "    agentVersion='DRAFT',\n",
    "    actionGroupId= action_group_id\n",
    ")"
   ]
  },
  {
   "cell_type": "code",
   "execution_count": 115,
   "id": "5827d99c",
   "metadata": {},
   "outputs": [],
   "source": [
    "agent_deletion = bedrock_agent_client.delete_agent(\n",
    "    agentId=agent_id\n",
    ")"
   ]
  },
  {
   "cell_type": "code",
   "execution_count": 116,
   "id": "8f1063e1",
   "metadata": {},
   "outputs": [],
   "source": [
    "# Delete IAM Roles and policies\n",
    "\n",
    "for policy in [agent_bedrock_allow_policy_name]:\n",
    "    iam_client.detach_role_policy(RoleName=agent_role_name, PolicyArn=f'arn:aws:iam::{account_id}:policy/{policy}')\n",
    "    \n",
    "for role_name in [agent_role_name]:\n",
    "    iam_client.delete_role(\n",
    "        RoleName=role_name\n",
    "    )\n",
    "\n",
    "for policy in [agent_bedrock_policy]:\n",
    "    iam_client.delete_policy(\n",
    "        PolicyArn=policy['Policy']['Arn']\n",
    ")"
   ]
  },
  {
   "cell_type": "markdown",
   "id": "6abaede5",
   "metadata": {},
   "source": [
    "## Thank you!"
   ]
  }
 ],
 "metadata": {
  "kernelspec": {
   "display_name": "Python 3",
   "language": "python",
   "name": "python3"
  },
  "language_info": {
   "codemirror_mode": {
    "name": "ipython",
    "version": 3
   },
   "file_extension": ".py",
   "mimetype": "text/x-python",
   "name": "python",
   "nbconvert_exporter": "python",
   "pygments_lexer": "ipython3",
   "version": "3.10.8"
  }
 },
 "nbformat": 4,
 "nbformat_minor": 5
}
