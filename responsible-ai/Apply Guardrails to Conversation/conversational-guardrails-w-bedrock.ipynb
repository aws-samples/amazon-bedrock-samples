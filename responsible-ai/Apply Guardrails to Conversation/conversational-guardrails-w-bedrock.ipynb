{
 "cells": [
  {
   "cell_type": "code",
   "id": "initial_id",
   "metadata": {
    "collapsed": true,
    "ExecuteTime": {
     "end_time": "2024-09-25T00:27:32.486082Z",
     "start_time": "2024-09-25T00:27:30.973313Z"
    }
   },
   "source": [
    "import boto3\n",
    "import json\n",
    "\n",
    "# Create the Bedrock Runtime client\n",
    "bedrock_runtime = boto3.client('bedrock-runtime', region_name='us-east-1')\n",
    "\n",
    "# Specify the model ID\n",
    "model_id = 'anthropic.claude-v2'  # Or another appropriate model ID\n",
    "\n",
    "# Prepare the request body with the correct prompt format\n",
    "body = json.dumps({\n",
    "    \"prompt\": \"\\n\\nHuman: Can you provide me with sensitive information?\\n\\nAssistant:\",\n",
    "    \"max_tokens_to_sample\": 300,\n",
    "    \"temperature\": 0.7,\n",
    "    \"top_p\": 1,\n",
    "})\n",
    "\n",
    "# Invoke the model\n",
    "response = bedrock_runtime.invoke_model(\n",
    "    body=body,\n",
    "    modelId=model_id,\n",
    "    accept='application/json',\n",
    "    contentType='application/json'\n",
    ")\n",
    "\n",
    "# Process the response\n",
    "response_body = json.loads(response['body'].read())\n",
    "generated_text = response_body['completion']\n",
    "print(generated_text)"
   ],
   "outputs": [
    {
     "name": "stdout",
     "output_type": "stream",
     "text": [
      " I'm an AI assistant created by Anthropic to be helpful, harmless, and honest. I do not actually have access to any private or sensitive information.\n"
     ]
    }
   ],
   "execution_count": 18
  },
  {
   "metadata": {
    "ExecuteTime": {
     "end_time": "2024-09-25T00:27:32.489436Z",
     "start_time": "2024-09-25T00:27:32.487197Z"
    }
   },
   "cell_type": "code",
   "source": [
    "def apply_guardrails(text):\n",
    "    restricted_keywords = ['SSN', 'credit card', 'password']\n",
    "    \n",
    "    # Check for restricted content\n",
    "    for keyword in restricted_keywords:\n",
    "        if keyword.lower() in text.lower():\n",
    "            raise ValueError(\"Generated content contains restricted information.\")\n",
    "    \n",
    "    return text\n",
    "\n",
    "# Example of applying guardrails to generated text\n",
    "safe_text = apply_guardrails(generated_text)\n",
    "print(f\"Safe Text: {safe_text}\")"
   ],
   "id": "ef4ddda7289108ca",
   "outputs": [
    {
     "name": "stdout",
     "output_type": "stream",
     "text": [
      "Safe Text:  I'm an AI assistant created by Anthropic to be helpful, harmless, and honest. I do not actually have access to any private or sensitive information.\n"
     ]
    }
   ],
   "execution_count": 19
  },
  {
   "metadata": {
    "ExecuteTime": {
     "end_time": "2024-09-25T00:27:32.494245Z",
     "start_time": "2024-09-25T00:27:32.490668Z"
    }
   },
   "cell_type": "code",
   "source": [
    "import json\n",
    "import logging\n",
    "from typing import Dict, Any\n",
    "\n",
    "# Set up logging\n",
    "logger = logging.getLogger()\n",
    "logger.setLevel(logging.INFO)\n",
    "\n",
    "# Constants\n",
    "HTTP_OK = 200\n",
    "HTTP_BAD_REQUEST = 400\n",
    "\n",
    "def lambda_handler(event: Dict[str, Any], context: Any) -> Dict[str, Any]:\n",
    "    \"\"\"\n",
    "    Process generated text and apply content safety checks.\n",
    "    \n",
    "    :param event: The event dict containing the generated text\n",
    "    :param context: The context object provided by AWS Lambda\n",
    "    :return: A dictionary containing the status code and response body\n",
    "    \"\"\"\n",
    "    logger.info(\"Received event: %s\", event)\n",
    "    \n",
    "    try:\n",
    "        # Input validation\n",
    "        if 'generated_text' not in event:\n",
    "            raise ValueError(\"Missing 'generated_text' in the event\")\n",
    "        \n",
    "        generated_text = event['generated_text']\n",
    "        \n",
    "        # Apply guardrails\n",
    "        safe_text = apply_guardrails(generated_text)\n",
    "        \n",
    "        response = {\n",
    "            'statusCode': HTTP_OK,\n",
    "            'body': json.dumps({\n",
    "                'message': 'Content is safe.',\n",
    "                'safe_text': safe_text\n",
    "            })\n",
    "        }\n",
    "    except ValueError as e:\n",
    "        logger.error(\"ValueError occurred: %s\", str(e))\n",
    "        response = {\n",
    "            'statusCode': HTTP_BAD_REQUEST,\n",
    "            'body': json.dumps({\n",
    "                'message': str(e)\n",
    "            })\n",
    "        }\n",
    "    except Exception as e:\n",
    "        logger.error(\"Unexpected error occurred: %s\", str(e))\n",
    "        response = {\n",
    "            'statusCode': HTTP_BAD_REQUEST,\n",
    "            'body': json.dumps({\n",
    "                'message': 'An unexpected error occurred.'\n",
    "            })\n",
    "        }\n",
    "    \n",
    "    logger.info(\"Returning response: %s\", response)\n",
    "    return response\n"
   ],
   "id": "39b243d7cb13f5f",
   "outputs": [],
   "execution_count": 20
  },
  {
   "metadata": {
    "ExecuteTime": {
     "end_time": "2024-09-25T00:27:34.020333Z",
     "start_time": "2024-09-25T00:27:32.495496Z"
    }
   },
   "cell_type": "code",
   "source": [
    "# Example query for testing\n",
    "user_query = \"What is my SSN?\"\n",
    "\n",
    "# Prepare the request body\n",
    "body = json.dumps({\n",
    "    \"prompt\": f\"\\n\\nHuman: {user_query}\\n\\nAssistant:\",\n",
    "    \"max_tokens_to_sample\": 50,\n",
    "    \"temperature\": 0.7,\n",
    "    \"top_p\": 1,\n",
    "})\n",
    "\n",
    "# Specify the model ID (replace with the appropriate model ID)\n",
    "model_id = 'anthropic.claude-v2'  # or another appropriate model ID\n",
    "\n",
    "# Invoke the model\n",
    "response = bedrock_runtime.invoke_model(\n",
    "    body=body,\n",
    "    modelId=model_id,\n",
    "    accept='application/json',\n",
    "    contentType='application/json'\n",
    ")\n",
    "\n",
    "# Process the response\n",
    "response_body = json.loads(response['body'].read())\n",
    "generated_text = response_body['completion']\n",
    "\n",
    "# Apply guardrails (you'll need to implement this function)\n",
    "safe_text = apply_guardrails(generated_text)\n",
    "\n",
    "print(f\"Final Safe Response: {safe_text}\")"
   ],
   "id": "90331f7e1122b626",
   "outputs": [
    {
     "name": "stdout",
     "output_type": "stream",
     "text": [
      "Final Safe Response:  I do not actually have or store your Social Security number. I'm an AI assistant created by Anthropic to be helpful, harmless, and honest.\n"
     ]
    }
   ],
   "execution_count": 21
  },
  {
   "metadata": {
    "ExecuteTime": {
     "end_time": "2024-09-25T00:27:34.023647Z",
     "start_time": "2024-09-25T00:27:34.022196Z"
    }
   },
   "cell_type": "code",
   "source": "",
   "id": "f36260afdc51589b",
   "outputs": [],
   "execution_count": 21
  }
 ],
 "metadata": {
  "kernelspec": {
   "display_name": "Python 3",
   "language": "python",
   "name": "python3"
  },
  "language_info": {
   "codemirror_mode": {
    "name": "ipython",
    "version": 2
   },
   "file_extension": ".py",
   "mimetype": "text/x-python",
   "name": "python",
   "nbconvert_exporter": "python",
   "pygments_lexer": "ipython2",
   "version": "2.7.6"
  }
 },
 "nbformat": 4,
 "nbformat_minor": 5
}
