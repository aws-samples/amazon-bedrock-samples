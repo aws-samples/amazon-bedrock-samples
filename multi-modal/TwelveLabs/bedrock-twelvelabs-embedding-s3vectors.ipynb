{
 "cells": [
  {
   "cell_type": "markdown",
   "id": "3a0b2a41-bebe-4f3a-b803-eadc275a916f",
   "metadata": {},
   "source": [
    "# TwelveLabs Multimodal Embedding Search using Amazon Bedrock and Amazon S3 Vectors\n",
    "Work with TwelveLabs Marengo Embed 2.7 Model and Amazon S3 Vectores\n",
    "![TwelveLabs Embedding](./images/12labs-embed-s3vectors.png)"
   ]
  },
  {
   "cell_type": "markdown",
   "id": "5eae1890-d953-4805-a136-6f07f9f18953",
   "metadata": {},
   "source": [
    "The TwelveLabs Marengo Embed 2.7 model generates embeddings from video, text, audio, or image inputs. These embeddings can be used for similarity search, clustering, and other machine learning tasks. The model supports asynchronous inference through the StartAsyncInvoke API.\n",
    "\n",
    "[Amazon S3 Vectors](https://aws.amazon.com/s3/features/vectors/) is the first cloud object store with native support to store and query vectors, delivering purpose-built, cost-optimized vector storage for AI agents, AI inference, and semantic search of your content stored in Amazon S3.\n",
    "\n",
    "This sample demonstrates how to use the TwelveLabs Marengo Embed 2.7 model—available through Amazon Bedrock—to generate embeddings from a sample video and perform dynamic search using Amazon S3 as the vector store."
   ]
  },
  {
   "cell_type": "code",
   "execution_count": null,
   "id": "11dc6ae2-b86d-449f-80e1-2a5af7da8dd6",
   "metadata": {},
   "outputs": [],
   "source": [
    "!pip install --upgrade pip setuptools wheel\n",
    "!pip install faiss-cpu==1.7.4\n",
    "!pip install boto3 --upgrade"
   ]
  },
  {
   "cell_type": "markdown",
   "id": "791697ad-ac6d-4fd6-a320-fd560c4f3dc5",
   "metadata": {},
   "source": [
    "Restart kernal"
   ]
  },
  {
   "cell_type": "code",
   "execution_count": null,
   "id": "bb53643f-7155-475f-9108-416c4b6cd80e",
   "metadata": {},
   "outputs": [],
   "source": [
    "import os, sys\n",
    "os.execv(sys.executable, ['python'] + sys.argv)"
   ]
  },
  {
   "cell_type": "code",
   "execution_count": null,
   "id": "5334acca-7700-4f32-87a1-ff648e5fde35",
   "metadata": {},
   "outputs": [],
   "source": [
    "import boto3\n",
    "import json\n",
    "\n",
    "bedrock = boto3.client('bedrock-runtime')\n",
    "s3 = boto3.client('s3')\n",
    "s3vectors = boto3.client('s3vectors') "
   ]
  },
  {
   "cell_type": "code",
   "execution_count": null,
   "id": "69e2067a-23c6-4480-bff5-e83b80423f1b",
   "metadata": {},
   "outputs": [],
   "source": [
    "model_id = 'twelvelabs.marengo-embed-2-7-v1:0'\n",
    "\n",
    "s3_bucket = '<YOUR_S3_BUCKET>'\n",
    "s3_prefix = '<YOUR_S3_PREFIX>' # For example: 'twelvelabs-test'\n",
    "aws_account_id = '<YOUR_AWS_ACCOUNT_ID>'\n",
    "\n",
    "s3vector_bucket = \"<S3_VECTOR_BUCKET_NAME_TO_CREATE>\"\n",
    "s3vector_index = \"<S3_VECTOR_INDEX_NAME_TO_CREATE>\""
   ]
  },
  {
   "cell_type": "markdown",
   "id": "8080c0d3-3a50-4f3b-aec0-325744730063",
   "metadata": {},
   "source": [
    "## Download a Sample Video and Upload to S3 as Input\n",
    "We'll use the TwelveLabs Marengo model to generate embeddings from this video and perform content-based search.\n",
    "\n",
    "![Meridian](./images/sample-video-meridian.png)\n",
    "We will use an open-source sample video, [Meridian](https://en.wikipedia.org/wiki/Meridian_(film) ), as input to generate embeddings."
   ]
  },
  {
   "cell_type": "code",
   "execution_count": null,
   "id": "ab678794-538a-432b-9414-054ade37d191",
   "metadata": {},
   "outputs": [],
   "source": [
    "# Download a sample video to local disk\n",
    "sample_name = 'NetflixMeridian.mp4'\n",
    "source_url = f'https://ws-assets-prod-iad-r-pdx-f3b3f9f1a7d6a3d0.s3.us-west-2.amazonaws.com/335119c4-e170-43ad-b55c-76fa6bc33719/NetflixMeridian.mp4'\n",
    "!curl {source_url} --output {sample_name}\n",
    "\n",
    "# Upload to S3\n",
    "s3_input_key = f'{s3_prefix}/video/{sample_name}'\n",
    "s3.upload_file(sample_name, s3_bucket, s3_input_key)\n",
    "print(f\"Uploaded to s3://{s3_bucket}/{s3_input_key}\")"
   ]
  },
  {
   "cell_type": "markdown",
   "id": "103306de-9d24-4238-9ef2-41fc51ec52c9",
   "metadata": {},
   "source": [
    "## Generate Multimodal Embeddings Using TwelveLabs Marengo 2.7 Model\n",
    "We use Bedrock’s [StartAsyncInvoke](https://docs.aws.amazon.com/bedrock/latest/APIReference/API_runtime_StartAsyncInvoke.html) to run the embedding task asynchronously. In this example, the video is hosted on S3—ideal for handling large video files. The API also supports providing the video as a base64-encoded string within the payload. Refer to the [documentation](https://docs.aws.amazon.com/bedrock/latest/userguide/model-parameters-marengo.html?trk=769a1a2b-8c19-4976-9c45-b6b1226c7d20&sc_channel=el) for more details."
   ]
  },
  {
   "cell_type": "code",
   "execution_count": null,
   "id": "08ebc811-1275-492a-86bc-b1a4255784a6",
   "metadata": {},
   "outputs": [],
   "source": [
    "import uuid\n",
    "\n",
    "s3_output_prefix = f'{s3_prefix}/output/{uuid.uuid4()}'\n",
    "response = bedrock.start_async_invoke(\n",
    "    modelId=model_id,\n",
    "    modelInput={\n",
    "        \"inputType\": \"video\",\n",
    "        \"mediaSource\": {\n",
    "            \"s3Location\": {\n",
    "                \"uri\": f's3://{s3_bucket}/{s3_input_key}',\n",
    "                \"bucketOwner\": aws_account_id\n",
    "            }\n",
    "        }\n",
    "    },\n",
    "    outputDataConfig={\n",
    "        \"s3OutputDataConfig\": {\n",
    "            \"s3Uri\": f's3://{s3_bucket}/{s3_output_prefix}'\n",
    "        }\n",
    "    }\n",
    ")\n",
    "\n",
    "# Print Job ID\n",
    "invocation_arn = response[\"invocationArn\"]\n",
    "print(\"Async Job Started\")\n",
    "print(\"Invocation Arn:\", invocation_arn)"
   ]
  },
  {
   "cell_type": "markdown",
   "id": "fe3f42b3-5711-4a86-b12f-cbd818ab9b0e",
   "metadata": {},
   "source": [
    "The result will be available in S3 once the task is complete. The code snippet below wait until the output.json file is ready and read it from the output path specified in your request."
   ]
  },
  {
   "cell_type": "code",
   "execution_count": null,
   "id": "3f5295b9-fc84-4767-82ed-1f254aba69d7",
   "metadata": {},
   "outputs": [],
   "source": [
    "import time\n",
    "from IPython.display import clear_output\n",
    "from datetime import datetime\n",
    "\n",
    "def wait_for_output_file(s3_bucket, s3_prefix, invocation_arn):\n",
    "    # Wait until task complete\n",
    "    status = None\n",
    "    while status not in [\"Completed\", \"Failed\", \"Expired\"]:\n",
    "        response = bedrock.get_async_invoke(invocationArn=invocation_arn)\n",
    "        status = response['status']\n",
    "        clear_output(wait=True)\n",
    "        print(f\"Embedding task status: {status}\")\n",
    "        time.sleep(5)\n",
    "\n",
    "    # List objects in the prefix\n",
    "    response = s3.list_objects_v2(Bucket=s3_bucket, Prefix=f'{s3_prefix}')\n",
    "\n",
    "    # Look for output.json\n",
    "    data = []\n",
    "    output_key = None\n",
    "    for obj in response.get('Contents', []):\n",
    "        if obj['Key'].endswith('output.json'):\n",
    "            output_key = obj['Key']\n",
    "            if output_key:\n",
    "                obj = s3.get_object(Bucket=s3_bucket, Key=output_key)\n",
    "                content = obj['Body'].read().decode('utf-8')\n",
    "                data += json.loads(content).get(\"data\")\n",
    "\n",
    "    return data"
   ]
  },
  {
   "cell_type": "code",
   "execution_count": null,
   "id": "242fd3de-8cf8-4afb-9d0a-6e90c085ef18",
   "metadata": {
    "scrolled": true
   },
   "outputs": [],
   "source": [
    "from IPython.display import display, JSON\n",
    "output = wait_for_output_file(s3_bucket, s3_output_prefix, invocation_arn)\n",
    "display(JSON(output))"
   ]
  },
  {
   "cell_type": "markdown",
   "id": "21ecfcad-bf83-410b-9dee-2cdf48148843",
   "metadata": {},
   "source": [
    "## Create an Amazon S3 Vector Bucket and Index\n",
    "In this example, we use Amazon S3 vectors to store the embeddings generated in the previous steps to serve light search as an example."
   ]
  },
  {
   "cell_type": "code",
   "execution_count": null,
   "id": "1a7d0ed0-289a-4a89-8744-7761274d4b0b",
   "metadata": {},
   "outputs": [],
   "source": [
    "# Create a S3 vector bucket\n",
    "s3vectors.create_vector_bucket(vectorBucketName=s3vector_bucket)\n",
    "print(f\"Vector bucket '{s3vector_bucket}' created successfully.\")"
   ]
  },
  {
   "cell_type": "code",
   "execution_count": null,
   "id": "cb15957f-9f04-4992-b5ac-c39f6da5bdce",
   "metadata": {},
   "outputs": [],
   "source": [
    "# Create an index in the vector store\n",
    "vector_dimension = 1024\n",
    "distance_metric = 'cosine' # or 'euclidean'\n",
    "\n",
    "s3vectors.create_index(\n",
    "    vectorBucketName=s3vector_bucket,\n",
    "    indexName=s3vector_index,\n",
    "    dataType='float32',  # Common data type for vector embeddings\n",
    "    dimension=vector_dimension,\n",
    "    distanceMetric=distance_metric\n",
    ")\n",
    "print(f\"Vector index '{s3vector_index}' created successfully in bucket '{s3vector_bucket}'.\")\n"
   ]
  },
  {
   "cell_type": "markdown",
   "id": "272122c4-a13f-4c2a-a9ee-7fc411d2800c",
   "metadata": {},
   "source": [
    "## Store the Embeddings into the S3 vector index\n",
    "You can use the Python boto3 library to index and query the S3 vector store"
   ]
  },
  {
   "cell_type": "code",
   "execution_count": null,
   "id": "b8f467d1-e037-45f7-94ff-5c076fb6c991",
   "metadata": {},
   "outputs": [],
   "source": [
    "import boto3\n",
    "import json\n",
    "\n",
    "# Create Bedrock Runtime and S3 Vectors clients in the AWS Region of your choice. \n",
    "s3vectors = boto3.client(\"s3vectors\")\n",
    "\n",
    "embeddings = []\n",
    "for o in output:\n",
    "    embeddings.append({\n",
    "            \"key\": f'{o[\"embeddingOption\"]} {o[\"startSec\"]} {o[\"endSec\"]}',\n",
    "            \"data\": {\"float32\": o[\"embedding\"]},\n",
    "            \"metadata\": {\"embeddingOption\": o[\"embeddingOption\"], \"startSec\": o[\"startSec\"], \"endSec\": o[\"endSec\"]}\n",
    "        })\n",
    "\n",
    "# Write embeddings into vector index with metadata.\n",
    "s3vectors.put_vectors(\n",
    "    vectorBucketName=s3vector_bucket,   \n",
    "    indexName=s3vector_index,   \n",
    "    vectors=embeddings\n",
    ")"
   ]
  },
  {
   "cell_type": "markdown",
   "id": "916474b5-301b-48fe-8af3-a7a72ddd9d40",
   "metadata": {},
   "source": [
    "## Generate a search embedding from an image\n",
    "We'll create an embedding from this image using the same model.\n",
    "\n",
    "<img src=\"./images/meridian-car.png\" width=\"50%\">"
   ]
  },
  {
   "cell_type": "code",
   "execution_count": null,
   "id": "795ad337-ab73-4676-a2fc-93d504f6dda0",
   "metadata": {},
   "outputs": [],
   "source": [
    "# Read image\n",
    "import base64\n",
    "base64_string = None\n",
    "with open('./images/meridian-car.png', \"rb\") as image_file:\n",
    "    base64_string = base64.b64encode(image_file.read()).decode(\"utf-8\")\n",
    "\n",
    "import uuid\n",
    "query_prefix = f'{s3_prefix}/input/{uuid.uuid4()}'\n",
    "\n",
    "# Create an input embedding\n",
    "response = bedrock.start_async_invoke(\n",
    "    modelId=model_id,\n",
    "    modelInput = {\n",
    "        \"inputType\": \"image\",\n",
    "        \"mediaSource\": {\n",
    "            \"base64String\": base64_string\n",
    "        }\n",
    "    },\n",
    "    outputDataConfig={\n",
    "        \"s3OutputDataConfig\": {\n",
    "            \"s3Uri\": f's3://{s3_bucket}/{query_prefix}'\n",
    "        }\n",
    "    }\n",
    ")\n",
    "\n",
    "# Print Job ID\n",
    "invocation_arn = response[\"invocationArn\"]\n",
    "print(\"Async Job Started\")\n",
    "print(\"Invocation Arn:\", invocation_arn)\n",
    "\n",
    "query = wait_for_output_file(s3_bucket, query_prefix, invocation_arn)\n",
    "display(JSON(query))"
   ]
  },
  {
   "cell_type": "markdown",
   "id": "b424a429-f70c-4a93-b009-14d7124a24ce",
   "metadata": {},
   "source": [
    "## Search the Vector Store\n",
    "We now perform a similarity search against the vector index using boto3."
   ]
  },
  {
   "cell_type": "code",
   "execution_count": null,
   "id": "de98958e-a153-41b6-b508-ce8b90426343",
   "metadata": {
    "scrolled": true
   },
   "outputs": [],
   "source": [
    "embedding = query[0][\"embedding\"]\n",
    "\n",
    "# Query vector index.\n",
    "response = s3vectors.query_vectors(\n",
    "    vectorBucketName=s3vector_bucket,\n",
    "    indexName=s3vector_index,\n",
    "    queryVector={\"float32\": embedding}, \n",
    "    topK=3, \n",
    "    returnDistance=True,\n",
    "    returnMetadata=True\n",
    ")\n",
    "print(json.dumps(response[\"vectors\"], indent=2))"
   ]
  },
  {
   "cell_type": "markdown",
   "id": "5fdba0f2-bfc7-4487-962c-0e45e146580a",
   "metadata": {},
   "source": [
    "## Display the Video Clips\n",
    "Now, we display the video to help you visualize the clips returned from the search."
   ]
  },
  {
   "cell_type": "code",
   "execution_count": null,
   "id": "8ab52c38-d609-49b0-951f-3bae1fe5fd3b",
   "metadata": {},
   "outputs": [],
   "source": [
    "# Format data for display\n",
    "start_times = []\n",
    "\n",
    "for clip in response[\"vectors\"]:\n",
    "    #print(clip)\n",
    "    start_times.append((round(clip[\"metadata\"][\"startSec\"],2), f'{round(float(clip[\"metadata\"][\"startSec\"]),2)} - {round(float(clip[\"metadata\"][\"endSec\"]),2)}s (score: {round(clip[\"distance\"],3)})'))"
   ]
  },
  {
   "cell_type": "code",
   "execution_count": null,
   "id": "970f89de-f0de-4091-9efc-d88bb634c0cc",
   "metadata": {},
   "outputs": [],
   "source": [
    "from IPython.display import HTML\n",
    "import boto3\n",
    "\n",
    "# Generate a presigned URL for the video in S3\n",
    "s3 = boto3.client('s3')\n",
    "url = s3.generate_presigned_url(\n",
    "    ClientMethod='get_object',\n",
    "    Params={'Bucket': s3_bucket, 'Key': s3_input_key},\n",
    "    ExpiresIn=3600\n",
    ")"
   ]
  },
  {
   "cell_type": "markdown",
   "id": "1357dfb2-e430-40bc-b1c7-ec038d27592a",
   "metadata": {},
   "source": [
    "Clicking the buttons below the video will take you to the timestamp where each clip begins."
   ]
  },
  {
   "cell_type": "code",
   "execution_count": null,
   "id": "f9cc1b97-609a-4645-a915-e96a2d6144df",
   "metadata": {},
   "outputs": [],
   "source": [
    "# Generate buttons HTML\n",
    "buttons_html = ''.join([\n",
    "    f'<button onclick=\"jumpTo({time})\">{label}</button> '\n",
    "    for time, label in start_times\n",
    "])\n",
    "\n",
    "html = f\"\"\"\n",
    "<video id=\"videoPlayer\" width=\"640\" controls>\n",
    "  <source src=\"{url}\" type=\"video/mp4\">\n",
    "  Your browser does not support the video tag.\n",
    "</video>\n",
    "\n",
    "<div style=\"margin-top:10px;display:block;\">\n",
    "  {buttons_html}\n",
    "</div>\n",
    "\n",
    "<script>\n",
    "  var video = document.getElementById('videoPlayer');\n",
    "\n",
    "  function jumpTo(time) {{\n",
    "    video.currentTime = time;\n",
    "    video.play();\n",
    "  }}\n",
    "</script>\n",
    "\"\"\"\n",
    "\n",
    "display(HTML(html))"
   ]
  },
  {
   "cell_type": "markdown",
   "id": "01f0d777-b19e-44cb-b19e-449e790dc9a7",
   "metadata": {},
   "source": [
    "## Cleanup\n",
    "Delete the video and the embedding files from S3. Delete the S3 vector store and index."
   ]
  },
  {
   "cell_type": "code",
   "execution_count": null,
   "id": "699066c5-59a6-40c5-814d-731613f02c96",
   "metadata": {},
   "outputs": [],
   "source": [
    "# List all objects under the prefix\n",
    "response = s3.list_objects_v2(Bucket=s3_bucket, Prefix=s3_prefix)\n",
    "\n",
    "if 'Contents' in response:\n",
    "    # Create a list of object identifiers to delete\n",
    "    objects_to_delete = [{'Key': obj['Key']} for obj in response['Contents']]\n",
    "\n",
    "    # Delete the objects\n",
    "    s3.delete_objects(\n",
    "        Bucket=s3_bucket,\n",
    "        Delete={'Objects': objects_to_delete}\n",
    "    )\n",
    "    print(f\"Deleted {len(objects_to_delete)} objects from '{s3_prefix}' in bucket '{s3_bucket}'.\")\n",
    "else:\n",
    "    print(f\"No objects found under prefix '{s3_prefix}'.\")\n"
   ]
  },
  {
   "cell_type": "code",
   "execution_count": null,
   "id": "d10ec007-afbd-417f-9382-306ab3a29cf9",
   "metadata": {},
   "outputs": [],
   "source": [
    "# Delete vector index\n",
    "response = s3vectors.delete_index(\n",
    "    vectorBucketName=s3vector_bucket,\n",
    "    indexName=s3vector_index\n",
    ")\n",
    "print(response)\n",
    "\n",
    "response = s3vectors.delete_vector_bucket(\n",
    "    vectorBucketName=s3vector_bucket\n",
    ")"
   ]
  }
 ],
 "metadata": {
  "kernelspec": {
   "display_name": "conda_python3",
   "language": "python",
   "name": "conda_python3"
  },
  "language_info": {
   "codemirror_mode": {
    "name": "ipython",
    "version": 3
   },
   "file_extension": ".py",
   "mimetype": "text/x-python",
   "name": "python",
   "nbconvert_exporter": "python",
   "pygments_lexer": "ipython3",
   "version": "3.10.18"
  }
 },
 "nbformat": 4,
 "nbformat_minor": 5
}
