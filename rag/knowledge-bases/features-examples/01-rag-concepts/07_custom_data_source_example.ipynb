{
 "cells": [
  {
   "cell_type": "markdown",
   "metadata": {},
   "source": [
    "This notebook demonstrates how to create a knowledge base with a custom data source and then uses the KnowledgeBaseDocuments API to ingest documents directly into the knowledge base without the need for syncing.  We test the KB with a query and then show how to clean up the resources we just created."
   ]
  },
  {
   "cell_type": "markdown",
   "metadata": {},
   "source": [
    "## Setup Vars"
   ]
  },
  {
   "cell_type": "code",
   "execution_count": 33,
   "metadata": {},
   "outputs": [],
   "source": [
    "import time\n",
    "\n",
    "# Get the current timestamp\n",
    "current_time = time.time()\n",
    "# Format the timestamp as a string\n",
    "timestamp_str = time.strftime(\"%Y%m%d%H%M%S\", time.localtime(current_time))[-7:]\n",
    "# Create the suffix using the timestamp\n",
    "suffix = f\"{timestamp_str}\""
   ]
  },
  {
   "cell_type": "code",
   "execution_count": 42,
   "metadata": {},
   "outputs": [],
   "source": [
    "import boto3\n",
    "import json \n",
    "\n",
    "boto3_session = boto3.session.Session()\n",
    "region_name = boto3_session.region_name\n",
    "iam_client = boto3_session.client('iam')\n",
    "aoss_client = boto3_session.client('opensearchserverless')\n",
    "sts_client = boto3_session.client('sts')\n",
    "bedrock_agent_client = boto3_session.client('bedrock-agent')\n",
    "bedrock_agent_runtime_client = boto3_session.client('bedrock-agent-runtime') \n",
    "bedrock_client = boto3_session.client('bedrock')\n",
    "account_number = sts_client.get_caller_identity().get('Account')\n",
    "identity = sts_client.get_caller_identity()['Arn']\n",
    "credentials = boto3_session.get_credentials()\n"
   ]
  },
  {
   "cell_type": "markdown",
   "metadata": {},
   "source": [
    "## Create Role"
   ]
  },
  {
   "cell_type": "code",
   "execution_count": 3,
   "metadata": {},
   "outputs": [
    {
     "name": "stdout",
     "output_type": "stream",
     "text": [
      "Amazon Bedrock Execution Role ARN:  arn:aws:iam::044009490089:role/AmazonBedrockExecutionRoleForKnowledgeBase_6152214\n"
     ]
    }
   ],
   "source": [
    "# create bedrock execution role\n",
    "\n",
    "kb_execution_role_name = f'AmazonBedrockExecutionRoleForKnowledgeBase_{suffix}'\n",
    "\n",
    "assume_role_policy_document = {\n",
    "    'Version': '2012-10-17',\n",
    "    'Statement': [\n",
    "        {\n",
    "            'Effect': 'Allow',\n",
    "            'Principal': {\n",
    "                'Service': 'bedrock.amazonaws.com'\n",
    "            },\n",
    "            'Action': 'sts:AssumeRole'\n",
    "        }\n",
    "    ]\n",
    "}\n",
    "\n",
    "bedrock_kb_execution_role = None\n",
    "\n",
    "try:\n",
    "    bedrock_kb_execution_role = iam_client.create_role(\n",
    "        RoleName=kb_execution_role_name,\n",
    "        AssumeRolePolicyDocument=json.dumps(assume_role_policy_document),\n",
    "        Description='Amazon Bedrock Knowledge Base Execution Role for accessing OSS and S3',\n",
    "        MaxSessionDuration=3600\n",
    "    )\n",
    "except iam_client.exceptions.EntityAlreadyExistsException:\n",
    "    print(\"Role already exists\")\n",
    "    bedrock_kb_execution_role = iam_client.get_role(\n",
    "        RoleName=kb_execution_role_name\n",
    "    )\n",
    "\n",
    "print(\"Amazon Bedrock Execution Role ARN: \", bedrock_kb_execution_role[\"Role\"][\"Arn\"])"
   ]
  },
  {
   "cell_type": "markdown",
   "metadata": {},
   "source": [
    "## Create FM Policy and attach to role\n"
   ]
  },
  {
   "cell_type": "code",
   "execution_count": 4,
   "metadata": {},
   "outputs": [
    {
     "name": "stdout",
     "output_type": "stream",
     "text": [
      "Foundation model policy arn:  arn:aws:iam::044009490089:policy/AmazonBedrockFoundationModelPolicyForKnowledgeBase_6152214\n"
     ]
    },
    {
     "data": {
      "text/plain": [
       "{'ResponseMetadata': {'RequestId': '6eefd128-c56a-41ca-92fc-67fac9cc9ca5',\n",
       "  'HTTPStatusCode': 200,\n",
       "  'HTTPHeaders': {'date': 'Thu, 06 Feb 2025 22:23:39 GMT',\n",
       "   'x-amzn-requestid': '6eefd128-c56a-41ca-92fc-67fac9cc9ca5',\n",
       "   'content-type': 'text/xml',\n",
       "   'content-length': '212'},\n",
       "  'RetryAttempts': 0}}"
      ]
     },
     "execution_count": 4,
     "metadata": {},
     "output_type": "execute_result"
    }
   ],
   "source": [
    "fm_policy_name = f'AmazonBedrockFoundationModelPolicyForKnowledgeBase_{suffix}'\n",
    "\n",
    "foundation_model_policy_document = {\n",
    "    \"Version\": \"2012-10-17\",\n",
    "    \"Statement\": [\n",
    "        {\n",
    "            \"Effect\": \"Allow\",\n",
    "            \"Action\": [\n",
    "                \"bedrock:InvokeModel\"\n",
    "            ],\n",
    "            \"Resource\": [\n",
    "                \"arn:aws:bedrock:us-east-1::foundation-model/amazon.titan-embed-text-v2:0\",\n",
    "                \"arn:aws:bedrock:us-east-1::foundation-model/anthropic.claude-3-sonnet-20240229-v1:0\",\n",
    "                \"arn:aws:bedrock:us-east-1::foundation-model/cohere.rerank-v3-5:0\"\n",
    "            ]\n",
    "        }\n",
    "    ]\n",
    "}\n",
    "\n",
    "try:\n",
    "    # create policies based on the policy documents\n",
    "    fm_policy = iam_client.create_policy(\n",
    "        PolicyName=fm_policy_name,\n",
    "        PolicyDocument=json.dumps(foundation_model_policy_document),\n",
    "        Description='Policy for accessing foundation model',\n",
    "    )\n",
    "except iam_client.exceptions.EntityAlreadyExistsException:\n",
    "    print(f\"Policy {fm_policy_name} already exists.\")\n",
    "    fm_policy = iam_client.get_policy(\n",
    "        PolicyArn=f\"arn:aws:iam::{account_number}:policy/{fm_policy_name}\"\n",
    "    )\n",
    "\n",
    "fm_policy_arn = fm_policy[\"Policy\"][\"Arn\"]\n",
    "print(\"Foundation model policy arn: \", fm_policy_arn)\n",
    "\n",
    "# attach policies to Amazon Bedrock execution role\n",
    "iam_client.attach_role_policy(\n",
    "    RoleName=bedrock_kb_execution_role[\"Role\"][\"RoleName\"],\n",
    "    PolicyArn=fm_policy_arn\n",
    ")\n"
   ]
  },
  {
   "cell_type": "markdown",
   "metadata": {},
   "source": [
    "## Create Encryption Policy"
   ]
  },
  {
   "cell_type": "code",
   "execution_count": 5,
   "metadata": {},
   "outputs": [],
   "source": [
    "encryption_policy_name = f\"bedrock-sample-rag-sp-{suffix}\"\n",
    "vector_store_name = f'bedrock-sample-rag-{suffix}'\n",
    "\n",
    "try:\n",
    "    encryption_policy = aoss_client.create_security_policy(\n",
    "        name= encryption_policy_name,\n",
    "        policy=json.dumps(\n",
    "            {\n",
    "                'Rules': [{'Resource': ['collection/' + vector_store_name],\n",
    "                            'ResourceType': 'collection'}],\n",
    "                'AWSOwnedKey': True\n",
    "            }),\n",
    "        type='encryption'\n",
    "    )\n",
    "except aoss_client.exceptions.ConflictException:\n",
    "    print(f\"Security policy {encryption_policy_name} already exists\")\n",
    "    encryption_policy = aoss_client.get_security_policy(\n",
    "        name=encryption_policy_name,\n",
    "        type='encryption'\n",
    "    )\n"
   ]
  },
  {
   "cell_type": "markdown",
   "metadata": {},
   "source": [
    "## Create OSS Collection\n"
   ]
  },
  {
   "cell_type": "code",
   "execution_count": 6,
   "metadata": {},
   "outputs": [
    {
     "name": "stdout",
     "output_type": "stream",
     "text": [
      "{ 'ResponseMetadata': { 'HTTPHeaders': { 'connection': 'keep-alive',\n",
      "                                         'content-length': '318',\n",
      "                                         'content-type': 'application/x-amz-json-1.0',\n",
      "                                         'date': 'Thu, 06 Feb 2025 22:23:51 '\n",
      "                                                 'GMT',\n",
      "                                         'x-amzn-requestid': '17a288bc-d529-4f57-88fc-804533de0879'},\n",
      "                        'HTTPStatusCode': 200,\n",
      "                        'RequestId': '17a288bc-d529-4f57-88fc-804533de0879',\n",
      "                        'RetryAttempts': 0},\n",
      "  'createCollectionDetail': { 'arn': 'arn:aws:aoss:us-east-1:044009490089:collection/se36fidhoaoa9mfwj2g9',\n",
      "                              'createdDate': 1738880631357,\n",
      "                              'id': 'se36fidhoaoa9mfwj2g9',\n",
      "                              'kmsKeyArn': 'auto',\n",
      "                              'lastModifiedDate': 1738880631357,\n",
      "                              'name': 'bedrock-sample-rag-6152214',\n",
      "                              'standbyReplicas': 'ENABLED',\n",
      "                              'status': 'CREATING',\n",
      "                              'type': 'VECTORSEARCH'}}\n",
      "se36fidhoaoa9mfwj2g9.us-east-1.aoss.amazonaws.com\n",
      "Creating collection...\n",
      "..............................\n",
      "Collection successfully created:\n",
      "[ { 'arn': 'arn:aws:aoss:us-east-1:044009490089:collection/se36fidhoaoa9mfwj2g9',\n",
      "    'collectionEndpoint': 'https://se36fidhoaoa9mfwj2g9.us-east-1.aoss.amazonaws.com',\n",
      "    'createdDate': 1738880631357,\n",
      "    'dashboardEndpoint': 'https://se36fidhoaoa9mfwj2g9.us-east-1.aoss.amazonaws.com/_dashboards',\n",
      "    'id': 'se36fidhoaoa9mfwj2g9',\n",
      "    'kmsKeyArn': 'auto',\n",
      "    'lastModifiedDate': 1738880654832,\n",
      "    'name': 'bedrock-sample-rag-6152214',\n",
      "    'standbyReplicas': 'ENABLED',\n",
      "    'status': 'ACTIVE',\n",
      "    'type': 'VECTORSEARCH'}]\n"
     ]
    }
   ],
   "source": [
    "import pprint\n",
    "pp = pprint.PrettyPrinter(indent=2)\n",
    "\n",
    "\n",
    "def interactive_sleep(seconds: int):\n",
    "    \"\"\"\n",
    "    Support functionality to induce an artificial 'sleep' to the code in order to wait for resources to be available\n",
    "    Args:\n",
    "        seconds (int): number of seconds to sleep for\n",
    "    \"\"\"\n",
    "    dots = ''\n",
    "    for i in range(seconds):\n",
    "        dots += '.'\n",
    "        print(dots, end='\\r')\n",
    "        time.sleep(1)\n",
    "\n",
    "\n",
    "try:\n",
    "    collection = aoss_client.create_collection(name=vector_store_name, type='VECTORSEARCH')\n",
    "    collection_id = collection['createCollectionDetail']['id']\n",
    "    collection_arn = collection['createCollectionDetail']['arn']\n",
    "except aoss_client.exceptions.ConflictException:\n",
    "    print(\"Collection already exists\")\n",
    "    collection = aoss_client.batch_get_collection(names=[vector_store_name])['collectionDetails'][0]\n",
    "    pp.pprint(collection)\n",
    "    collection_id = collection['id']\n",
    "    collection_arn = collection['arn']\n",
    "pp.pprint(collection)\n",
    "\n",
    "# Get the OpenSearch serverless collection URL\n",
    "host = collection_id + '.' + region_name + '.aoss.amazonaws.com'\n",
    "print(host)\n",
    "# wait for collection creation\n",
    "# This can take couple of minutes to finish\n",
    "response = aoss_client.batch_get_collection(names=[vector_store_name])\n",
    "# Periodically check collection status\n",
    "while (response['collectionDetails'][0]['status']) == 'CREATING':\n",
    "    print('Creating collection...')\n",
    "    interactive_sleep(30)\n",
    "    response = aoss_client.batch_get_collection(names=[vector_store_name])\n",
    "print('\\nCollection successfully created:')\n",
    "pp.pprint(response[\"collectionDetails\"])\n"
   ]
  },
  {
   "cell_type": "markdown",
   "metadata": {},
   "source": [
    "## Create OSS Policy and attach to role"
   ]
  },
  {
   "cell_type": "code",
   "execution_count": 7,
   "metadata": {},
   "outputs": [
    {
     "name": "stdout",
     "output_type": "stream",
     "text": [
      "Opensearch serverless arn:  arn:aws:iam::044009490089:policy/AmazonBedrockOSSPolicyForKnowledgeBase_6152214\n"
     ]
    },
    {
     "data": {
      "text/plain": [
       "{'ResponseMetadata': {'RequestId': '1e37b1ae-96c9-401a-b955-924f6fc69b4e',\n",
       "  'HTTPStatusCode': 200,\n",
       "  'HTTPHeaders': {'date': 'Thu, 06 Feb 2025 22:24:27 GMT',\n",
       "   'x-amzn-requestid': '1e37b1ae-96c9-401a-b955-924f6fc69b4e',\n",
       "   'content-type': 'text/xml',\n",
       "   'content-length': '212'},\n",
       "  'RetryAttempts': 0}}"
      ]
     },
     "execution_count": 7,
     "metadata": {},
     "output_type": "execute_result"
    }
   ],
   "source": [
    "oss_policy_name = f'AmazonBedrockOSSPolicyForKnowledgeBase_{suffix}'\n",
    "\n",
    "# define oss policy document\n",
    "oss_policy_document = {\n",
    "    \"Version\": \"2012-10-17\",\n",
    "    \"Statement\": [\n",
    "        {\n",
    "            \"Effect\": \"Allow\",\n",
    "            \"Action\": [\n",
    "                \"aoss:APIAccessAll\"\n",
    "            ],\n",
    "            \"Resource\": [\n",
    "                f\"arn:aws:aoss:{region_name}:{account_number}:collection/{collection_id}\"\n",
    "            ]\n",
    "        }\n",
    "    ]\n",
    "}\n",
    "\n",
    "oss_policy_arn = f\"arn:aws:iam::{account_number}:policy/{oss_policy_name}\"\n",
    "created = False\n",
    "try:\n",
    "    iam_client.create_policy(\n",
    "        PolicyName=oss_policy_name,\n",
    "        PolicyDocument=json.dumps(oss_policy_document),\n",
    "        Description='Policy for accessing opensearch serverless',\n",
    "    )\n",
    "    created = True\n",
    "except iam_client.exceptions.EntityAlreadyExistsException:\n",
    "    print(f\"Policy {oss_policy_arn} already exists, skipping creation\")\n",
    "print(\"Opensearch serverless arn: \", oss_policy_arn)\n",
    "\n",
    "iam_client.attach_role_policy(\n",
    "    RoleName=bedrock_kb_execution_role[\"Role\"][\"RoleName\"],\n",
    "    PolicyArn=oss_policy_arn\n",
    ")"
   ]
  },
  {
   "cell_type": "markdown",
   "metadata": {},
   "source": [
    "## Create Network Policy"
   ]
  },
  {
   "cell_type": "code",
   "execution_count": 12,
   "metadata": {},
   "outputs": [
    {
     "name": "stdout",
     "output_type": "stream",
     "text": [
      "Policy already exists\n"
     ]
    }
   ],
   "source": [
    "network_policy_name = f\"bedrock-sample-rag-np-{suffix}\"\n",
    "try:\n",
    "    network_policy = aoss_client.create_security_policy(\n",
    "        name=network_policy_name,\n",
    "        policy=json.dumps(\n",
    "            [\n",
    "                {'Rules': [{'Resource': ['collection/' + vector_store_name],\n",
    "                            'ResourceType': 'collection'}],\n",
    "                    'AllowFromPublic': True}\n",
    "            ]),\n",
    "        type='network'\n",
    "    )\n",
    "except aoss_client.exceptions.ConflictException:\n",
    "    print(\"Policy already exists\")\n",
    "    network_policy = aoss_client.get_security_policy(\n",
    "        name= network_policy_name,\n",
    "        type='network'\n",
    "    )"
   ]
  },
  {
   "cell_type": "markdown",
   "metadata": {},
   "source": [
    "## Create access policy for vector index"
   ]
  },
  {
   "cell_type": "code",
   "execution_count": 13,
   "metadata": {},
   "outputs": [
    {
     "name": "stdout",
     "output_type": "stream",
     "text": [
      "Policy already exists\n"
     ]
    }
   ],
   "source": [
    "access_policy_name = f'bedrock-sample-rag-ap-{suffix}'\n",
    "try:\n",
    "    access_policy = aoss_client.create_access_policy(\n",
    "        name= access_policy_name,\n",
    "        policy=json.dumps(\n",
    "            [\n",
    "                {\n",
    "                    'Rules': [\n",
    "                        {\n",
    "                            'Resource': ['collection/' + vector_store_name],\n",
    "                            'Permission': [\n",
    "                                'aoss:CreateCollectionItems',\n",
    "                                'aoss:DeleteCollectionItems',\n",
    "                                'aoss:UpdateCollectionItems',\n",
    "                                'aoss:DescribeCollectionItems'],\n",
    "                            'ResourceType': 'collection'\n",
    "                        },\n",
    "                        {\n",
    "                            'Resource': ['index/' + vector_store_name + '/*'],\n",
    "                            'Permission': [\n",
    "                                'aoss:CreateIndex',\n",
    "                                'aoss:DeleteIndex',\n",
    "                                'aoss:UpdateIndex',\n",
    "                                'aoss:DescribeIndex',\n",
    "                                'aoss:ReadDocument',\n",
    "                                'aoss:WriteDocument'],\n",
    "                            'ResourceType': 'index'\n",
    "                        }],\n",
    "                    'Principal': [identity, bedrock_kb_execution_role['Role']['Arn']],\n",
    "                    'Description': 'Easy data policy'}\n",
    "            ]),\n",
    "        type='data'\n",
    "    )\n",
    "except aoss_client.exceptions.ConflictException:\n",
    "    print(\"Policy already exists\")\n",
    "    access_policy = aoss_client.get_access_policy(\n",
    "        name=access_policy_name,\n",
    "        type='data'\n",
    "    )"
   ]
  },
  {
   "cell_type": "markdown",
   "metadata": {},
   "source": [
    "## Create the vector index"
   ]
  },
  {
   "cell_type": "code",
   "execution_count": 14,
   "metadata": {},
   "outputs": [
    {
     "name": "stdout",
     "output_type": "stream",
     "text": [
      "\n",
      "Creating index:\n",
      "{ 'acknowledged': True,\n",
      "  'index': 'bedrock-sample-rag-index-6152214',\n",
      "  'shards_acknowledged': True}\n",
      "............................................................\r"
     ]
    }
   ],
   "source": [
    "from opensearchpy import OpenSearch, RequestsHttpConnection, AWSV4SignerAuth, RequestError\n",
    "awsauth = AWSV4SignerAuth(credentials, region_name, 'aoss')\n",
    "# Build the OpenSearch client\n",
    "oss_client = OpenSearch(\n",
    "    hosts=[{'host': host, 'port': 443}],\n",
    "    http_auth= awsauth,\n",
    "    use_ssl=True,\n",
    "    verify_certs=True,\n",
    "    connection_class=RequestsHttpConnection,\n",
    "    timeout=300\n",
    ")\n",
    "\n",
    "\n",
    "# create a dictionary with model id as key and context length as value\n",
    "embedding_context_dimensions = {\n",
    "    \"cohere.embed-multilingual-v3\": 512,\n",
    "    \"cohere.embed-english-v3\": 512,\n",
    "    \"amazon.titan-embed-text-v1\": 1536,\n",
    "    \"amazon.titan-embed-text-v2:0\": 1024\n",
    "}\n",
    "embedding_model = \"amazon.titan-embed-text-v2:0\"\n",
    "\n",
    "index_name = f\"bedrock-sample-rag-index-{suffix}\"\n",
    "\n",
    "body_json = {\n",
    "    \"settings\": {\n",
    "        \"index.knn\": \"true\",\n",
    "        \"number_of_shards\": 1,\n",
    "        \"knn.algo_param.ef_search\": 512,\n",
    "        \"number_of_replicas\": 0,\n",
    "    },\n",
    "    \"mappings\": {\n",
    "        \"properties\": {\n",
    "            \"vector\": {\n",
    "                \"type\": \"knn_vector\",\n",
    "                \"dimension\": embedding_context_dimensions[embedding_model], # use dimension as per the context length of embeddings model selected.\n",
    "                \"method\": {\n",
    "                    \"name\": \"hnsw\",\n",
    "                    \"engine\": \"faiss\",\n",
    "                    \"space_type\": \"l2\"\n",
    "                },\n",
    "            },\n",
    "            \"text\": {\n",
    "                \"type\": \"text\"\n",
    "            },\n",
    "            \"text-metadata\": {\n",
    "                \"type\": \"text\"}\n",
    "        }\n",
    "    }\n",
    "}\n",
    "\n",
    "# Create index\n",
    "try:\n",
    "    response = oss_client.indices.create(index=index_name, body=json.dumps(body_json))\n",
    "    print('\\nCreating index:')\n",
    "    pp.pprint(response)\n",
    "\n",
    "    # index creation can take up to a minute\n",
    "    interactive_sleep(60)\n",
    "except RequestError as e:\n",
    "    # you can delete the index if its already exists\n",
    "    # oss_client.indices.delete(index=index_name)\n",
    "    print(e)\n",
    "    print(\n",
    "        f'Error while trying to create the index, with error {e.error}\\nyou may unmark the delete above to '\n",
    "        f'delete, and recreate the index')"
   ]
  },
  {
   "cell_type": "markdown",
   "metadata": {},
   "source": [
    "## Create the knowledge base"
   ]
  },
  {
   "cell_type": "code",
   "execution_count": 17,
   "metadata": {},
   "outputs": [
    {
     "name": "stdout",
     "output_type": "stream",
     "text": [
      "Creating KB with chunking strategy - FIXED_SIZE\n",
      "============Chunking config========\n",
      " {'chunkingConfiguration': {'chunkingStrategy': 'NONE'}}\n",
      "Knowledge Base already exists\n",
      "{ 'createdAt': datetime.datetime(2025, 2, 6, 22, 26, 37, 948081, tzinfo=tzutc()),\n",
      "  'description': 'Multi data source knowledge base.',\n",
      "  'knowledgeBaseArn': 'arn:aws:bedrock:us-east-1:044009490089:knowledge-base/SNNQJ2YY5G',\n",
      "  'knowledgeBaseConfiguration': { 'type': 'VECTOR',\n",
      "                                  'vectorKnowledgeBaseConfiguration': { 'embeddingModelArn': 'arn:aws:bedrock:us-east-1::foundation-model/amazon.titan-embed-text-v2:0'}},\n",
      "  'knowledgeBaseId': 'SNNQJ2YY5G',\n",
      "  'name': 'bedrock-sample-knowledge-base-6152214',\n",
      "  'roleArn': 'arn:aws:iam::044009490089:role/AmazonBedrockExecutionRoleForKnowledgeBase_6152214',\n",
      "  'status': 'ACTIVE',\n",
      "  'storageConfiguration': { 'opensearchServerlessConfiguration': { 'collectionArn': 'arn:aws:aoss:us-east-1:044009490089:collection/se36fidhoaoa9mfwj2g9',\n",
      "                                                                   'fieldMapping': { 'metadataField': 'text-metadata',\n",
      "                                                                                     'textField': 'text',\n",
      "                                                                                     'vectorField': 'vector'},\n",
      "                                                                   'vectorIndexName': 'bedrock-sample-rag-index-6152214'},\n",
      "                            'type': 'OPENSEARCH_SERVERLESS'},\n",
      "  'updatedAt': datetime.datetime(2025, 2, 6, 22, 26, 37, 948081, tzinfo=tzutc())}\n",
      "bedrock-sample-knowledge-base-6152214\n",
      "SNNQJ2YY5G\n",
      "An error occurred (ConflictException) when calling the CreateDataSource operation: DataSource with name bedrock-sample-knowledge-base-6152214 already exists.\n",
      "Datasource already exists\n",
      "{ 'createdAt': datetime.datetime(2025, 2, 6, 22, 26, 38, 671741, tzinfo=tzutc()),\n",
      "  'dataDeletionPolicy': 'RETAIN',\n",
      "  'dataSourceConfiguration': {'type': 'CUSTOM'},\n",
      "  'dataSourceId': 'MXBOGUPBGT',\n",
      "  'description': 'Multi data source knowledge base.',\n",
      "  'knowledgeBaseId': 'SNNQJ2YY5G',\n",
      "  'name': 'bedrock-sample-knowledge-base-6152214',\n",
      "  'status': 'AVAILABLE',\n",
      "  'updatedAt': datetime.datetime(2025, 2, 6, 22, 26, 38, 671741, tzinfo=tzutc()),\n",
      "  'vectorIngestionConfiguration': { 'chunkingConfiguration': { 'chunkingStrategy': 'NONE'}}}\n",
      "Knowledge Base ID:  SNNQJ2YY5G\n",
      "Data Source ID:  MXBOGUPBGT\n"
     ]
    }
   ],
   "source": [
    "chunking_strategy = \"FIXED_SIZE\"\n",
    "\n",
    "kb_name = f\"bedrock-sample-knowledge-base-{suffix}\"\n",
    "kb_description = \"Multi data source knowledge base.\"\n",
    "\n",
    "opensearch_serverless_configuration = {\n",
    "    \"collectionArn\": collection_arn,\n",
    "    \"vectorIndexName\": index_name,\n",
    "    \"fieldMapping\": {\n",
    "        \"vectorField\": \"vector\",\n",
    "        \"textField\": \"text\",\n",
    "        \"metadataField\": \"text-metadata\"\n",
    "    }\n",
    "}\n",
    "\n",
    "chunking_strategy_configuration = {}\n",
    "# vectorIngestionConfiguration = {}\n",
    "\n",
    "print(f\"Creating KB with chunking strategy - {chunking_strategy}\")\n",
    "chunking_strategy_configuration = {\n",
    "                \"chunkingConfiguration\": {\"chunkingStrategy\": \"NONE\"}\n",
    "            }\n",
    "print(\"============Chunking config========\\n\", chunking_strategy_configuration)\n",
    "\n",
    "\n",
    "custom_datasource_name = f'bedrock-sample-rag-customds-{suffix}'\n",
    "\n",
    "# The embedding model used by Bedrock to embed ingested documents, and realtime prompts\n",
    "embedding_model_arn = f\"arn:aws:bedrock:{region_name}::foundation-model/{embedding_model}\"\n",
    "try:\n",
    "    create_kb_response = bedrock_agent_client.create_knowledge_base(\n",
    "        name=kb_name,\n",
    "        description=kb_description,\n",
    "        roleArn=bedrock_kb_execution_role['Role']['Arn'],\n",
    "        knowledgeBaseConfiguration={\n",
    "            \"type\": \"VECTOR\",\n",
    "            \"vectorKnowledgeBaseConfiguration\": {\n",
    "                \"embeddingModelArn\": embedding_model_arn\n",
    "            }\n",
    "        },\n",
    "        storageConfiguration={\n",
    "            \"type\": \"OPENSEARCH_SERVERLESS\",\n",
    "            \"opensearchServerlessConfiguration\": opensearch_serverless_configuration\n",
    "        }\n",
    "    )\n",
    "    kb = create_kb_response[\"knowledgeBase\"]\n",
    "    pp.pprint(kb)\n",
    "except bedrock_agent_client.exceptions.ConflictException:\n",
    "    print(\"Knowledge Base already exists\")\n",
    "    kbs = bedrock_agent_client.list_knowledge_bases(\n",
    "        maxResults=100\n",
    "    )\n",
    "    kb_id = None\n",
    "    for kb in kbs['knowledgeBaseSummaries']:\n",
    "        if kb['name'] == kb_name:\n",
    "            kb_id = kb['knowledgeBaseId']\n",
    "    response = bedrock_agent_client.get_knowledge_base(knowledgeBaseId=kb_id)\n",
    "    kb = response['knowledgeBase']\n",
    "    pp.pprint(kb)\n",
    "\n",
    "# Create a DataSource in KnowledgeBase\n",
    "try:\n",
    "    print(kb_name)\n",
    "    print(kb['knowledgeBaseId'])\n",
    "    create_ds_response = bedrock_agent_client.create_data_source(\n",
    "        name=kb_name,\n",
    "        description=kb_description,\n",
    "        knowledgeBaseId=kb['knowledgeBaseId'],\n",
    "        dataSourceConfiguration={\n",
    "            \"type\": \"CUSTOM\"\n",
    "        },\n",
    "        vectorIngestionConfiguration = chunking_strategy_configuration, \n",
    "        dataDeletionPolicy='RETAIN'\n",
    "    )\n",
    "    ds = create_ds_response[\"dataSource\"]\n",
    "    pp.pprint(ds)\n",
    "except bedrock_agent_client.exceptions.ConflictException as ce:\n",
    "    print(ce)\n",
    "    print(\"Datasource already exists\")\n",
    "    ds_id = bedrock_agent_client.list_data_sources(\n",
    "        knowledgeBaseId=kb['knowledgeBaseId'],\n",
    "        maxResults=100\n",
    "    )['dataSourceSummaries'][0]['dataSourceId']\n",
    "    get_ds_response = bedrock_agent_client.get_data_source(\n",
    "        dataSourceId=ds_id,\n",
    "        knowledgeBaseId=kb['knowledgeBaseId']\n",
    "    )\n",
    "    ds = get_ds_response[\"dataSource\"]\n",
    "    pp.pprint(ds)\n",
    "\n",
    "knowledgeBaseId = kb['knowledgeBaseId']\n",
    "dsId = ds['dataSourceId']\n",
    "print(\"Knowledge Base ID: \", knowledgeBaseId)\n",
    "print(\"Data Source ID: \", ds['dataSourceId'])"
   ]
  },
  {
   "cell_type": "markdown",
   "metadata": {},
   "source": [
    "## Add documents to the custom data source using the KnowledgeBaseDocuments API.\n",
    "\n",
    "At this point you have a working knowledge base.  We will demonstrate how to load a document directly to the knowledge base.  There is no need to sync.  See: https://docs.aws.amazon.com/bedrock/latest/userguide/kb-direct-ingestion-add.html"
   ]
  },
  {
   "cell_type": "code",
   "execution_count": 30,
   "metadata": {},
   "outputs": [
    {
     "name": "stdout",
     "output_type": "stream",
     "text": [
      "Response: {'ResponseMetadata': {'RequestId': '4328b3b1-a829-45cb-ade5-281ee99daaf2', 'HTTPStatusCode': 202, 'HTTPHeaders': {'date': 'Thu, 06 Feb 2025 23:25:15 GMT', 'content-type': 'application/json', 'content-length': '435', 'connection': 'keep-alive', 'x-amzn-requestid': '4328b3b1-a829-45cb-ade5-281ee99daaf2', 'x-amz-apigw-id': 'FleyWG2rIAMEk1Q=', 'x-amzn-trace-id': 'Root=1-67a544db-423c1fc734430fd25d69ec3c'}, 'RetryAttempts': 0}, 'documentDetails': [{'dataSourceId': 'MXBOGUPBGT', 'identifier': {'custom': {'id': 'AWS Documentation_6152214'}, 'dataSourceType': 'CUSTOM'}, 'knowledgeBaseId': 'SNNQJ2YY5G', 'status': 'STARTING', 'updatedAt': datetime.datetime(2025, 2, 6, 23, 25, 15, 637257, tzinfo=tzutc())}, {'dataSourceId': 'MXBOGUPBGT', 'identifier': {'custom': {'id': 'Wikipedia_6152214'}, 'dataSourceType': 'CUSTOM'}, 'knowledgeBaseId': 'SNNQJ2YY5G', 'status': 'STARTING', 'updatedAt': datetime.datetime(2025, 2, 6, 23, 25, 15, 703099, tzinfo=tzutc())}]}\n",
      "\n",
      "Successfully completed ingestion: [{'dataSourceId': 'MXBOGUPBGT', 'identifier': {'custom': {'id': 'AWS Documentation_6152214'}, 'dataSourceType': 'CUSTOM'}, 'knowledgeBaseId': 'SNNQJ2YY5G', 'status': 'STARTING', 'updatedAt': datetime.datetime(2025, 2, 6, 23, 25, 15, 637257, tzinfo=tzutc())}, {'dataSourceId': 'MXBOGUPBGT', 'identifier': {'custom': {'id': 'Wikipedia_6152214'}, 'dataSourceType': 'CUSTOM'}, 'knowledgeBaseId': 'SNNQJ2YY5G', 'status': 'STARTING', 'updatedAt': datetime.datetime(2025, 2, 6, 23, 25, 15, 703099, tzinfo=tzutc())}]\n"
     ]
    }
   ],
   "source": [
    "def ingest_documents(knowledge_base_id, data_source_id, documents):\n",
    "    \n",
    "    try:\n",
    "        formatted_documents = []\n",
    "        for doc in documents:\n",
    "            document = { \n",
    "                \"content\": { \n",
    "                    \"dataSourceType\": \"CUSTOM\",\n",
    "                    \"custom\": { \n",
    "                        \"customDocumentIdentifier\": { \n",
    "                            \"id\": f\"{doc['source']}_{suffix}\"\n",
    "                        },\n",
    "                        \"inlineContent\": { \n",
    "                            \"textContent\": { \n",
    "                                \"data\": doc['text']\n",
    "                            },\n",
    "                            \"type\": \"TEXT\"\n",
    "                        },\n",
    "                        \"sourceType\": \"IN_LINE\"\n",
    "                    }\n",
    "                }\n",
    "            }\n",
    "            formatted_documents.append(document)\n",
    "\n",
    "        #https://docs.aws.amazon.com/bedrock/latest/APIReference/API_agent_IngestKnowledgeBaseDocuments.html\n",
    "        response = bedrock_agent_client.ingest_knowledge_base_documents(\n",
    "            knowledgeBaseId=knowledge_base_id,\n",
    "            dataSourceId=data_source_id,\n",
    "            documents=formatted_documents\n",
    "        )\n",
    "        \n",
    "        print(f\"Response: {response}\")\n",
    "\n",
    "        return response['documentDetails'] \n",
    "        \n",
    "    except Exception as e:\n",
    "        print(f\"Error ingesting documents: {str(e)}\")\n",
    "        raise\n",
    "\n",
    "\n",
    "# Sample documents to ingest\n",
    "documents = [\n",
    "    {\n",
    "        'text': \"\"\"\n",
    "        Amazon Bedrock is a fully managed service that makes FMs from leading AI companies \n",
    "        accessible via an API, making it easy to build generative AI applications.\n",
    "        \"\"\",\n",
    "        'source': 'AWS Documentation',\n",
    "        'author': 'AWS',\n",
    "        'source_uri': 'https://docs.aws.amazon.com/bedrock'\n",
    "    },\n",
    "    {\n",
    "        'text': \"\"\"\n",
    "        George Washington was born in Virginia in 1732. He served as Commander and Chief of the Army. He was the first president of the United States.  He died in Mount Vernon, Virginia in 1799,\n",
    "        \"\"\",\n",
    "        'source': 'Wikipedia',\n",
    "        'author': 'Wikipedia',\n",
    "        'source_uri': 'https://en.wikipedia.org/wiki/George_Washington'\n",
    "    }\n",
    "\n",
    "]\n",
    "\n",
    "try:\n",
    "    # Replace with your actual knowledge base ID\n",
    "    kb_id = knowledgeBaseId\n",
    "    data_source_id = dsId\n",
    "    \n",
    "    # Ingest documents with retry logic\n",
    "    document_details = ingest_documents(kb_id, data_source_id, documents)\n",
    "    \n",
    "    print(f\"\\nSuccessfully completed ingestion: {document_details}\")\n",
    "    \n",
    "except Exception as e:\n",
    "    print(f\"Final error: {e}\")\n",
    "\n"
   ]
  },
  {
   "cell_type": "markdown",
   "metadata": {},
   "source": [
    "## Check the status of the documents we just uploaded."
   ]
  },
  {
   "cell_type": "code",
   "execution_count": 58,
   "metadata": {},
   "outputs": [
    {
     "data": {
      "text/plain": [
       "[{'dataSourceId': 'MXBOGUPBGT',\n",
       "  'identifier': {'custom': {'id': 'AWS Documentation_6152214'},\n",
       "   'dataSourceType': 'CUSTOM'},\n",
       "  'knowledgeBaseId': 'SNNQJ2YY5G',\n",
       "  'status': 'INDEXED',\n",
       "  'statusReason': '',\n",
       "  'updatedAt': datetime.datetime(2025, 2, 6, 23, 25, 19, 95163, tzinfo=tzutc())},\n",
       " {'dataSourceId': 'MXBOGUPBGT',\n",
       "  'identifier': {'custom': {'id': 'MyDocument'}, 'dataSourceType': 'CUSTOM'},\n",
       "  'knowledgeBaseId': 'SNNQJ2YY5G',\n",
       "  'status': 'INDEXED',\n",
       "  'statusReason': '',\n",
       "  'updatedAt': datetime.datetime(2025, 2, 6, 22, 47, 4, 757061, tzinfo=tzutc())},\n",
       " {'dataSourceId': 'MXBOGUPBGT',\n",
       "  'identifier': {'custom': {'id': 'Wikipedia+6152214'},\n",
       "   'dataSourceType': 'CUSTOM'},\n",
       "  'knowledgeBaseId': 'SNNQJ2YY5G',\n",
       "  'status': 'INDEXED',\n",
       "  'statusReason': '',\n",
       "  'updatedAt': datetime.datetime(2025, 2, 6, 23, 0, 0, 756749, tzinfo=tzutc())},\n",
       " {'dataSourceId': 'MXBOGUPBGT',\n",
       "  'identifier': {'custom': {'id': 'AWS Documentation+6152214'},\n",
       "   'dataSourceType': 'CUSTOM'},\n",
       "  'knowledgeBaseId': 'SNNQJ2YY5G',\n",
       "  'status': 'INDEXED',\n",
       "  'statusReason': '',\n",
       "  'updatedAt': datetime.datetime(2025, 2, 6, 23, 0, 0, 766280, tzinfo=tzutc())},\n",
       " {'dataSourceId': 'MXBOGUPBGT',\n",
       "  'identifier': {'custom': {'id': 'Wikipedia_6152214'},\n",
       "   'dataSourceType': 'CUSTOM'},\n",
       "  'knowledgeBaseId': 'SNNQJ2YY5G',\n",
       "  'status': 'INDEXED',\n",
       "  'statusReason': '',\n",
       "  'updatedAt': datetime.datetime(2025, 2, 6, 23, 25, 19, 85381, tzinfo=tzutc())}]"
      ]
     },
     "execution_count": 58,
     "metadata": {},
     "output_type": "execute_result"
    }
   ],
   "source": [
    "# aws bedrock-agent list-knowledge-base-documents --knowledge-base-id SNNQJ2YY5G --data-source-id MXBOGUPBGT\n",
    "\n",
    "\n",
    "import boto3\n",
    "from botocore.exceptions import ClientError\n",
    "\n",
    "def list_knowledge_base_documents(knowledge_base_id, data_source_id):\n",
    "    try:\n",
    "        response = bedrock_agent_client.list_knowledge_base_documents(\n",
    "            knowledgeBaseId=knowledge_base_id,\n",
    "            dataSourceId=data_source_id\n",
    "        )\n",
    "        \n",
    "        return response['documentDetails']\n",
    "        \n",
    "    except ClientError as e:\n",
    "        print(f\"Error listing documents: {e.response['Error']['Message']}\")\n",
    "        raise   \n",
    "\n",
    "list_knowledge_base_documents(kb_id, ds_id)"
   ]
  },
  {
   "cell_type": "markdown",
   "metadata": {},
   "source": [
    "## Query the knowledge base"
   ]
  },
  {
   "cell_type": "code",
   "execution_count": null,
   "metadata": {},
   "outputs": [
    {
     "name": "stdout",
     "output_type": "stream",
     "text": [
      "{'ResponseMetadata': {'RequestId': '879e63ce-04ec-4972-848d-e80817b7ad6e', 'HTTPStatusCode': 200, 'HTTPHeaders': {'date': 'Fri, 07 Feb 2025 16:41:30 GMT', 'content-type': 'application/json', 'content-length': '1195', 'connection': 'keep-alive', 'x-amzn-requestid': '879e63ce-04ec-4972-848d-e80817b7ad6e'}, 'RetryAttempts': 0}, 'citations': [{'generatedResponsePart': {'textResponsePart': {'span': {'end': 46, 'start': 0}, 'text': 'George Washington was born in Virginia in 1732.'}}, 'retrievedReferences': [{'content': {'text': 'George Washington was born in Virginia in 1732.  He was the first president of the United States.  He died in Mount Vernon, Virginia in 1799,', 'type': 'TEXT'}, 'location': {'customDocumentLocation': {'id': 'Wikipedia+6152214'}, 'type': 'CUSTOM'}, 'metadata': {'x-amz-bedrock-kb-source-uri': 'Wikipedia+6152214', 'x-amz-bedrock-kb-chunk-id': '1%3A0%3ALcB73ZQBv38PVEjauuvc', 'x-amz-bedrock-kb-data-source-id': 'MXBOGUPBGT'}}, {'content': {'text': 'George Washington was born in Virginia in 1732. He served as Commander and Chief of the Army. He was the first president of the United States.  He died in Mount Vernon, Virginia in 1799,', 'type': 'TEXT'}, 'location': {'customDocumentLocation': {'id': 'Wikipedia_6152214'}, 'type': 'CUSTOM'}, 'metadata': {'x-amz-bedrock-kb-source-uri': 'Wikipedia_6152214', 'x-amz-bedrock-kb-chunk-id': '1%3A0%3AL8CA3ZQBv38PVEjaveur', 'x-amz-bedrock-kb-data-source-id': 'MXBOGUPBGT'}}]}], 'output': {'text': 'George Washington was born in Virginia in 1732.'}, 'sessionId': 'cd7bc31f-26cc-4934-98fb-d137c68f360d'}\n",
      "George Washington was born in Virginia in 1732.\n",
      "\n"
     ]
    }
   ],
   "source": [
    "# find the ARN of a model from the cli as follows\n",
    "# e.g., aws bedrock list-foundation-models | grep -i haiku \n",
    "\n",
    "model_arn = \"arn:aws:bedrock:us-east-1::foundation-model/anthropic.claude-3-haiku-20240307-v1:0\"\n",
    "response = bedrock_agent_runtime_client.retrieve_and_generate(\n",
    "    input={\n",
    "        \"text\": \"When was George Washington born? \"\n",
    "    },\n",
    "    retrieveAndGenerateConfiguration={\n",
    "        \"type\": \"KNOWLEDGE_BASE\",\n",
    "        \"knowledgeBaseConfiguration\": {\n",
    "            'knowledgeBaseId': kb_id,\n",
    "            \"modelArn\": model_arn,\n",
    "            \"retrievalConfiguration\": {\n",
    "                \"vectorSearchConfiguration\": {\n",
    "                    \"numberOfResults\":5\n",
    "                } \n",
    "            }\n",
    "        }\n",
    "    }\n",
    ")\n",
    "print(response)\n",
    "print(response['output']['text'],end='\\n'*2)\n"
   ]
  },
  {
   "cell_type": "markdown",
   "metadata": {},
   "source": [
    "## Cleanup"
   ]
  },
  {
   "cell_type": "code",
   "execution_count": 62,
   "metadata": {},
   "outputs": [],
   "source": [
    "try:\n",
    "    #aoss_client.delete_collection(id=collection_id)\n",
    "    # aoss_client.delete_access_policy(\n",
    "    #     type=\"data\",\n",
    "    #     name=access_policy_name\n",
    "    # )\n",
    "    # aoss_client.delete_security_policy(\n",
    "    #     type=\"network\",\n",
    "    #     name=network_policy_name\n",
    "    # )\n",
    "    # aoss_client.delete_security_policy(\n",
    "    #     type=\"encryption\",\n",
    "    #     name=encryption_policy_name\n",
    "    # )\n",
    "    bedrock_agent_client.delete_data_source(\n",
    "        dataSourceId=ds_id,\n",
    "        knowledgeBaseId=kb_id\n",
    "    )\n",
    "    bedrock_agent_client.delete_knowledge_base(\n",
    "        knowledgeBaseId=kb_id\n",
    "    )\n",
    "except bedrock_agent_client.exceptions.ResourceNotFoundException as e:\n",
    "    print(\"Resource not found\", e)\n",
    "    pass\n",
    "except Exception as e:\n",
    "    print(e)\n",
    "\n"
   ]
  },
  {
   "cell_type": "code",
   "execution_count": 63,
   "metadata": {},
   "outputs": [
    {
     "name": "stdout",
     "output_type": "stream",
     "text": [
      "======Attached policies with role AmazonBedrockExecutionRoleForKnowledgeBase_6152214========\n",
      " [{'PolicyName': 'AmazonBedrockOSSPolicyForKnowledgeBase_6152214', 'PolicyArn': 'arn:aws:iam::044009490089:policy/AmazonBedrockOSSPolicyForKnowledgeBase_6152214'}, {'PolicyName': 'AmazonBedrockFoundationModelPolicyForKnowledgeBase_6152214', 'PolicyArn': 'arn:aws:iam::044009490089:policy/AmazonBedrockFoundationModelPolicyForKnowledgeBase_6152214'}]\n",
      "Detached policy AmazonBedrockOSSPolicyForKnowledgeBase_6152214 from role AmazonBedrockExecutionRoleForKnowledgeBase_6152214\n",
      "Deleted policy AmazonBedrockOSSPolicyForKnowledgeBase_6152214 from role AmazonBedrockExecutionRoleForKnowledgeBase_6152214\n",
      "Deleted role AmazonBedrockExecutionRoleForKnowledgeBase_6152214\n",
      "======== All IAM roles and policies deleted =========\n",
      "Detached policy AmazonBedrockFoundationModelPolicyForKnowledgeBase_6152214 from role AmazonBedrockExecutionRoleForKnowledgeBase_6152214\n",
      "Deleted policy AmazonBedrockFoundationModelPolicyForKnowledgeBase_6152214 from role AmazonBedrockExecutionRoleForKnowledgeBase_6152214\n",
      "Deleted role AmazonBedrockExecutionRoleForKnowledgeBase_6152214\n",
      "======== All IAM roles and policies deleted =========\n"
     ]
    }
   ],
   "source": [
    "attached_policies = iam_client.list_attached_role_policies(RoleName=kb_execution_role_name)[\"AttachedPolicies\"]\n",
    "print(f\"======Attached policies with role {kb_execution_role_name}========\\n\", attached_policies)\n",
    "for attached_policy in attached_policies:\n",
    "    policy_arn = attached_policy[\"PolicyArn\"]\n",
    "    policy_name = attached_policy[\"PolicyName\"]\n",
    "    #iam_client.detach_role_policy(RoleName=kb_execution_role_name, PolicyArn=policy_arn)\n",
    "    print(f\"Detached policy {policy_name} from role {kb_execution_role_name}\")\n",
    "\n",
    "    #    iam_client.delete_policy(PolicyArn=policy_arn)\n",
    "    print(f\"Deleted policy {policy_name} from role {kb_execution_role_name}\")\n",
    "                \n",
    "    #iam_client.delete_role(RoleName=kb_execution_role_name)\n",
    "    print(f\"Deleted role {kb_execution_role_name}\")\n",
    "    print(\"======== All IAM roles and policies deleted =========\")\n"
   ]
  },
  {
   "cell_type": "markdown",
   "metadata": {},
   "source": [
    "aws iam list-attached-role-policies --role-name AmazonBedrockExecutionRoleForKnowledgeBase_6152214\n",
    "\n",
    "{\n",
    "    \"AttachedPolicies\": [\n",
    "        {\n",
    "            \"PolicyName\": \"AmazonBedrockOSSPolicyForKnowledgeBase_6152214\",\n",
    "            \"PolicyArn\": \"arn:aws:iam::044009490089:policy/AmazonBedrockOSSPolicyForKnowledgeBase_6152214\"\n",
    "        },\n",
    "        {\n",
    "            \"PolicyName\": \"AmazonBedrockFoundationModelPolicyForKnowledgeBase_6152214\",\n",
    "            \"PolicyArn\": \"arn:aws:iam::044009490089:policy/AmazonBedrockFoundationModelPolicyForKnowledgeBase_6152214\"\n",
    "        }\n",
    "    ]\n",
    "}"
   ]
  },
  {
   "cell_type": "code",
   "execution_count": 59,
   "metadata": {},
   "outputs": [
    {
     "name": "stdout",
     "output_type": "stream",
     "text": [
      "AmazonBedrockExecutionRoleForKnowledgeBase_6152214\n"
     ]
    }
   ],
   "source": [
    "print(kb_execution_role_name)\n",
    "            #\"RoleName\": \"AmazonBedrockExecutionRoleForKnowledgeBase_6152214\",\n",
    "            #\"Arn\": \"arn:aws:iam::044009490089:role/AmazonBedrockExecutionRoleForKnowledgeBase_6152214\",\n",
    "            "
   ]
  }
 ],
 "metadata": {
  "kernelspec": {
   "display_name": ".venv",
   "language": "python",
   "name": "python3"
  },
  "language_info": {
   "codemirror_mode": {
    "name": "ipython",
    "version": 3
   },
   "file_extension": ".py",
   "mimetype": "text/x-python",
   "name": "python",
   "nbconvert_exporter": "python",
   "pygments_lexer": "ipython3",
   "version": "3.10.9"
  }
 },
 "nbformat": 4,
 "nbformat_minor": 2
}
