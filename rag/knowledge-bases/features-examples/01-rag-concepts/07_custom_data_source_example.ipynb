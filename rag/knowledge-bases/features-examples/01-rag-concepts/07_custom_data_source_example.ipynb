{
 "cells": [
  {
   "cell_type": "markdown",
   "metadata": {},
   "source": [
    "Step 2 - Creating Knowledge Base Execution Role (AmazonBedrockExecutionRoleForKnowledgeBase_6104904-f) and Policies"
   ]
  },
  {
   "cell_type": "code",
   "execution_count": 1,
   "metadata": {},
   "outputs": [],
   "source": [
    "import time\n",
    "\n",
    "# Get the current timestamp\n",
    "current_time = time.time()\n",
    "\n",
    "# Format the timestamp as a string\n",
    "timestamp_str = time.strftime(\"%Y%m%d%H%M%S\", time.localtime(current_time))[-7:]\n",
    "# Create the suffix using the timestamp\n",
    "suffix = f\"{timestamp_str}\""
   ]
  },
  {
   "cell_type": "code",
   "execution_count": 2,
   "metadata": {},
   "outputs": [],
   "source": [
    "import boto3\n",
    "import json \n",
    "\n",
    "boto3_session = boto3.session.Session()\n",
    "region_name = boto3_session.region_name\n",
    "iam_client = boto3_session.client('iam')\n",
    "aoss_client = boto3_session.client('opensearchserverless')\n",
    "sts_client = boto3_session.client('sts')\n",
    "#s3_client = boto3_session.client('s3')\n",
    "bedrock_agent_client = boto3_session.client('bedrock-agent')\n",
    "#lambda_client = boto3_session.client('lambda')\n",
    "account_number = sts_client.get_caller_identity().get('Account')\n",
    "identity = sts_client.get_caller_identity()['Arn']\n",
    "\n",
    "credentials = boto3_session.get_credentials()\n",
    "#awsauth = AWSV4SignerAuth(credentials, self.region_name, 'aoss')\n",
    "#bucket_name = data_bucket"
   ]
  },
  {
   "cell_type": "code",
   "execution_count": null,
   "metadata": {},
   "outputs": [],
   "source": [
    "# kb_name = f\"bedrock-sample-knowledge-base-{suffix}\"\n",
    "# kb_description = \"Multi data source knowledge base.\"\n",
    "# \n",
    "# \n",
    "# \n",
    "# \n",
    "\n",
    "\n",
    "\n",
    "# s3_policy_name = f'AmazonBedrockS3PolicyForKnowledgeBase_{suffix}'\n",
    "\n",
    "# lambda_policy_name = f'AmazonBedrockLambdaPolicyForKnowledgeBase_{suffix}'\n",
    "# lambda_arn = None\n",
    "# roles = []\n",
    "# roles.append(kb_execution_role_name)\n",
    "\n",
    "# index_name = f\"bedrock-sample-rag-index-{suffix}\""
   ]
  },
  {
   "cell_type": "markdown",
   "metadata": {},
   "source": [
    "## Create Role"
   ]
  },
  {
   "cell_type": "code",
   "execution_count": null,
   "metadata": {},
   "outputs": [],
   "source": []
  },
  {
   "cell_type": "code",
   "execution_count": 3,
   "metadata": {},
   "outputs": [
    {
     "name": "stdout",
     "output_type": "stream",
     "text": [
      "Amazon Bedrock Execution Role ARN:  arn:aws:iam::044009490089:role/AmazonBedrockExecutionRoleForKnowledgeBase_6141113\n"
     ]
    }
   ],
   "source": [
    "# create bedrock execution role\n",
    "\n",
    "kb_execution_role_name = f'AmazonBedrockExecutionRoleForKnowledgeBase_{suffix}'\n",
    "\n",
    "assume_role_policy_document = {\n",
    "    'Version': '2012-10-17',\n",
    "    'Statement': [\n",
    "        {\n",
    "            'Effect': 'Allow',\n",
    "            'Principal': {\n",
    "                'Service': 'bedrock.amazonaws.com'\n",
    "            },\n",
    "            'Action': 'sts:AssumeRole'\n",
    "        }\n",
    "    ]\n",
    "}\n",
    "\n",
    "bedrock_kb_execution_role = None\n",
    "\n",
    "try:\n",
    "    bedrock_kb_execution_role = iam_client.create_role(\n",
    "        RoleName=kb_execution_role_name,\n",
    "        AssumeRolePolicyDocument=json.dumps(assume_role_policy_document),\n",
    "        Description='Amazon Bedrock Knowledge Base Execution Role for accessing OSS and S3',\n",
    "        MaxSessionDuration=3600\n",
    "    )\n",
    "except iam_client.exceptions.EntityAlreadyExistsException:\n",
    "    print(\"Role already exists\")\n",
    "    bedrock_kb_execution_role = iam_client.get_role(\n",
    "        RoleName=kb_execution_role_name\n",
    "    )\n",
    "\n",
    "print(\"Amazon Bedrock Execution Role ARN: \", bedrock_kb_execution_role[\"Role\"][\"Arn\"])"
   ]
  },
  {
   "cell_type": "markdown",
   "metadata": {},
   "source": [
    "## Create FM Policy and attach to role\n"
   ]
  },
  {
   "cell_type": "code",
   "execution_count": 4,
   "metadata": {},
   "outputs": [
    {
     "name": "stdout",
     "output_type": "stream",
     "text": [
      "Foundation model policy arn:  arn:aws:iam::044009490089:policy/AmazonBedrockFoundationModelPolicyForKnowledgeBase_6141113\n"
     ]
    },
    {
     "data": {
      "text/plain": [
       "{'ResponseMetadata': {'RequestId': '41e0cfcc-8e0f-49ab-9911-988164807a76',\n",
       "  'HTTPStatusCode': 200,\n",
       "  'HTTPHeaders': {'date': 'Thu, 06 Feb 2025 21:11:29 GMT',\n",
       "   'x-amzn-requestid': '41e0cfcc-8e0f-49ab-9911-988164807a76',\n",
       "   'content-type': 'text/xml',\n",
       "   'content-length': '212'},\n",
       "  'RetryAttempts': 0}}"
      ]
     },
     "execution_count": 4,
     "metadata": {},
     "output_type": "execute_result"
    }
   ],
   "source": [
    "fm_policy_name = f'AmazonBedrockFoundationModelPolicyForKnowledgeBase_{suffix}'\n",
    "\n",
    "foundation_model_policy_document = {\n",
    "    \"Version\": \"2012-10-17\",\n",
    "    \"Statement\": [\n",
    "        {\n",
    "            \"Effect\": \"Allow\",\n",
    "            \"Action\": [\n",
    "                \"bedrock:InvokeModel\"\n",
    "            ],\n",
    "            \"Resource\": [\n",
    "                \"arn:aws:bedrock:us-east-1::foundation-model/amazon.titan-embed-text-v2:0\",\n",
    "                \"arn:aws:bedrock:us-east-1::foundation-model/anthropic.claude-3-sonnet-20240229-v1:0\",\n",
    "                \"arn:aws:bedrock:us-east-1::foundation-model/cohere.rerank-v3-5:0\"\n",
    "            ]\n",
    "        }\n",
    "    ]\n",
    "}\n",
    "\n",
    "try:\n",
    "    # create policies based on the policy documents\n",
    "    fm_policy = iam_client.create_policy(\n",
    "        PolicyName=fm_policy_name,\n",
    "        PolicyDocument=json.dumps(foundation_model_policy_document),\n",
    "        Description='Policy for accessing foundation model',\n",
    "    )\n",
    "except iam_client.exceptions.EntityAlreadyExistsException:\n",
    "    print(f\"Policy {fm_policy_name} already exists.\")\n",
    "    fm_policy = iam_client.get_policy(\n",
    "        PolicyArn=f\"arn:aws:iam::{account_number}:policy/{fm_policy_name}\"\n",
    "    )\n",
    "\n",
    "fm_policy_arn = fm_policy[\"Policy\"][\"Arn\"]\n",
    "print(\"Foundation model policy arn: \", fm_policy_arn)\n",
    "\n",
    "# attach policies to Amazon Bedrock execution role\n",
    "iam_client.attach_role_policy(\n",
    "    RoleName=bedrock_kb_execution_role[\"Role\"][\"RoleName\"],\n",
    "    PolicyArn=fm_policy_arn\n",
    ")\n"
   ]
  },
  {
   "cell_type": "markdown",
   "metadata": {},
   "source": [
    "## Create Encryption Policy"
   ]
  },
  {
   "cell_type": "code",
   "execution_count": 5,
   "metadata": {},
   "outputs": [],
   "source": [
    "encryption_policy_name = f\"bedrock-sample-rag-sp-{suffix}\"\n",
    "vector_store_name = f'bedrock-sample-rag-{suffix}'\n",
    "\n",
    "try:\n",
    "    encryption_policy = aoss_client.create_security_policy(\n",
    "        name= encryption_policy_name,\n",
    "        policy=json.dumps(\n",
    "            {\n",
    "                'Rules': [{'Resource': ['collection/' + vector_store_name],\n",
    "                            'ResourceType': 'collection'}],\n",
    "                'AWSOwnedKey': True\n",
    "            }),\n",
    "        type='encryption'\n",
    "    )\n",
    "except aoss_client.exceptions.ConflictException:\n",
    "    print(f\"Security policy {encryption_policy_name} already exists\")\n",
    "    encryption_policy = aoss_client.get_security_policy(\n",
    "        name=encryption_policy_name,\n",
    "        type='encryption'\n",
    "    )\n"
   ]
  },
  {
   "cell_type": "markdown",
   "metadata": {},
   "source": [
    "## Create OSS Collection\n"
   ]
  },
  {
   "cell_type": "code",
   "execution_count": 6,
   "metadata": {},
   "outputs": [
    {
     "name": "stdout",
     "output_type": "stream",
     "text": [
      "{ 'ResponseMetadata': { 'HTTPHeaders': { 'connection': 'keep-alive',\n",
      "                                         'content-length': '318',\n",
      "                                         'content-type': 'application/x-amz-json-1.0',\n",
      "                                         'date': 'Thu, 06 Feb 2025 21:11:42 '\n",
      "                                                 'GMT',\n",
      "                                         'x-amzn-requestid': '87d2a1a5-3c31-41d2-9d21-3baadba1019c'},\n",
      "                        'HTTPStatusCode': 200,\n",
      "                        'RequestId': '87d2a1a5-3c31-41d2-9d21-3baadba1019c',\n",
      "                        'RetryAttempts': 0},\n",
      "  'createCollectionDetail': { 'arn': 'arn:aws:aoss:us-east-1:044009490089:collection/mrwd0ej7e0intiseahvb',\n",
      "                              'createdDate': 1738876302030,\n",
      "                              'id': 'mrwd0ej7e0intiseahvb',\n",
      "                              'kmsKeyArn': 'auto',\n",
      "                              'lastModifiedDate': 1738876302030,\n",
      "                              'name': 'bedrock-sample-rag-6141113',\n",
      "                              'standbyReplicas': 'ENABLED',\n",
      "                              'status': 'CREATING',\n",
      "                              'type': 'VECTORSEARCH'}}\n",
      "mrwd0ej7e0intiseahvb.us-east-1.aoss.amazonaws.com\n",
      "Creating collection...\n",
      "..............................\n",
      "Collection successfully created:\n",
      "[ { 'arn': 'arn:aws:aoss:us-east-1:044009490089:collection/mrwd0ej7e0intiseahvb',\n",
      "    'collectionEndpoint': 'https://mrwd0ej7e0intiseahvb.us-east-1.aoss.amazonaws.com',\n",
      "    'createdDate': 1738876302030,\n",
      "    'dashboardEndpoint': 'https://mrwd0ej7e0intiseahvb.us-east-1.aoss.amazonaws.com/_dashboards',\n",
      "    'id': 'mrwd0ej7e0intiseahvb',\n",
      "    'kmsKeyArn': 'auto',\n",
      "    'lastModifiedDate': 1738876325278,\n",
      "    'name': 'bedrock-sample-rag-6141113',\n",
      "    'standbyReplicas': 'ENABLED',\n",
      "    'status': 'ACTIVE',\n",
      "    'type': 'VECTORSEARCH'}]\n"
     ]
    }
   ],
   "source": [
    "import pprint\n",
    "pp = pprint.PrettyPrinter(indent=2)\n",
    "vector_store_name = f'bedrock-sample-rag-{suffix}'\n",
    "\n",
    "def interactive_sleep(seconds: int):\n",
    "    \"\"\"\n",
    "    Support functionality to induce an artificial 'sleep' to the code in order to wait for resources to be available\n",
    "    Args:\n",
    "        seconds (int): number of seconds to sleep for\n",
    "    \"\"\"\n",
    "    dots = ''\n",
    "    for i in range(seconds):\n",
    "        dots += '.'\n",
    "        print(dots, end='\\r')\n",
    "        time.sleep(1)\n",
    "\n",
    "\n",
    "try:\n",
    "    collection = aoss_client.create_collection(name=vector_store_name, type='VECTORSEARCH')\n",
    "    collection_id = collection['createCollectionDetail']['id']\n",
    "    collection_arn = collection['createCollectionDetail']['arn']\n",
    "except aoss_client.exceptions.ConflictException:\n",
    "    print(\"Collection already exists\")\n",
    "    collection = aoss_client.batch_get_collection(names=[vector_store_name])['collectionDetails'][0]\n",
    "    pp.pprint(collection)\n",
    "    collection_id = collection['id']\n",
    "    collection_arn = collection['arn']\n",
    "pp.pprint(collection)\n",
    "\n",
    "# Get the OpenSearch serverless collection URL\n",
    "host = collection_id + '.' + region_name + '.aoss.amazonaws.com'\n",
    "print(host)\n",
    "# wait for collection creation\n",
    "# This can take couple of minutes to finish\n",
    "response = aoss_client.batch_get_collection(names=[vector_store_name])\n",
    "# Periodically check collection status\n",
    "while (response['collectionDetails'][0]['status']) == 'CREATING':\n",
    "    print('Creating collection...')\n",
    "    interactive_sleep(30)\n",
    "    response = aoss_client.batch_get_collection(names=[vector_store_name])\n",
    "print('\\nCollection successfully created:')\n",
    "pp.pprint(response[\"collectionDetails\"])\n"
   ]
  },
  {
   "cell_type": "markdown",
   "metadata": {},
   "source": [
    "## Create OSS Policy and attach to role"
   ]
  },
  {
   "cell_type": "code",
   "execution_count": 7,
   "metadata": {},
   "outputs": [
    {
     "name": "stdout",
     "output_type": "stream",
     "text": [
      "Opensearch serverless arn:  arn:aws:iam::044009490089:policy/AmazonBedrockOSSPolicyForKnowledgeBase_6141113\n"
     ]
    },
    {
     "data": {
      "text/plain": [
       "{'ResponseMetadata': {'RequestId': '7280497f-3646-4df1-8485-2ba642f1c132',\n",
       "  'HTTPStatusCode': 200,\n",
       "  'HTTPHeaders': {'date': 'Thu, 06 Feb 2025 21:12:19 GMT',\n",
       "   'x-amzn-requestid': '7280497f-3646-4df1-8485-2ba642f1c132',\n",
       "   'content-type': 'text/xml',\n",
       "   'content-length': '212'},\n",
       "  'RetryAttempts': 0}}"
      ]
     },
     "execution_count": 7,
     "metadata": {},
     "output_type": "execute_result"
    }
   ],
   "source": [
    "oss_policy_name = f'AmazonBedrockOSSPolicyForKnowledgeBase_{suffix}'\n",
    "\n",
    "# define oss policy document\n",
    "oss_policy_document = {\n",
    "    \"Version\": \"2012-10-17\",\n",
    "    \"Statement\": [\n",
    "        {\n",
    "            \"Effect\": \"Allow\",\n",
    "            \"Action\": [\n",
    "                \"aoss:APIAccessAll\"\n",
    "            ],\n",
    "            \"Resource\": [\n",
    "                f\"arn:aws:aoss:{region_name}:{account_number}:collection/{collection_id}\"\n",
    "            ]\n",
    "        }\n",
    "    ]\n",
    "}\n",
    "\n",
    "oss_policy_arn = f\"arn:aws:iam::{account_number}:policy/{oss_policy_name}\"\n",
    "created = False\n",
    "try:\n",
    "    iam_client.create_policy(\n",
    "        PolicyName=oss_policy_name,\n",
    "        PolicyDocument=json.dumps(oss_policy_document),\n",
    "        Description='Policy for accessing opensearch serverless',\n",
    "    )\n",
    "    created = True\n",
    "except iam_client.exceptions.EntityAlreadyExistsException:\n",
    "    print(f\"Policy {oss_policy_arn} already exists, skipping creation\")\n",
    "print(\"Opensearch serverless arn: \", oss_policy_arn)\n",
    "\n",
    "iam_client.attach_role_policy(\n",
    "    RoleName=bedrock_kb_execution_role[\"Role\"][\"RoleName\"],\n",
    "    PolicyArn=oss_policy_arn\n",
    ")"
   ]
  },
  {
   "cell_type": "markdown",
   "metadata": {},
   "source": [
    "## Create Network Policy"
   ]
  },
  {
   "cell_type": "code",
   "execution_count": 13,
   "metadata": {},
   "outputs": [
    {
     "name": "stdout",
     "output_type": "stream",
     "text": [
      "Policy already exists\n"
     ]
    }
   ],
   "source": [
    "network_policy_name = f\"bedrock-sample-rag-np-{suffix}\"\n",
    "try:\n",
    "    network_policy = aoss_client.create_security_policy(\n",
    "        name=network_policy_name,\n",
    "        policy=json.dumps(\n",
    "            [\n",
    "                {'Rules': [{'Resource': ['collection/' + vector_store_name],\n",
    "                            'ResourceType': 'collection'}],\n",
    "                    'AllowFromPublic': True}\n",
    "            ]),\n",
    "        type='network'\n",
    "    )\n",
    "except aoss_client.exceptions.ConflictException:\n",
    "    print(\"Policy already exists\")\n",
    "    network_policy = aoss_client.get_security_policy(\n",
    "        name= network_policy_name,\n",
    "        type='network'\n",
    "    )"
   ]
  },
  {
   "cell_type": "markdown",
   "metadata": {},
   "source": [
    "## Create access policy for vector index"
   ]
  },
  {
   "cell_type": "code",
   "execution_count": 14,
   "metadata": {},
   "outputs": [
    {
     "name": "stdout",
     "output_type": "stream",
     "text": [
      "Policy already exists\n"
     ]
    }
   ],
   "source": [
    "access_policy_name = f'bedrock-sample-rag-ap-{suffix}'\n",
    "try:\n",
    "    access_policy = aoss_client.create_access_policy(\n",
    "        name= access_policy_name,\n",
    "        policy=json.dumps(\n",
    "            [\n",
    "                {\n",
    "                    'Rules': [\n",
    "                        {\n",
    "                            'Resource': ['collection/' + vector_store_name],\n",
    "                            'Permission': [\n",
    "                                'aoss:CreateCollectionItems',\n",
    "                                'aoss:DeleteCollectionItems',\n",
    "                                'aoss:UpdateCollectionItems',\n",
    "                                'aoss:DescribeCollectionItems'],\n",
    "                            'ResourceType': 'collection'\n",
    "                        },\n",
    "                        {\n",
    "                            'Resource': ['index/' + vector_store_name + '/*'],\n",
    "                            'Permission': [\n",
    "                                'aoss:CreateIndex',\n",
    "                                'aoss:DeleteIndex',\n",
    "                                'aoss:UpdateIndex',\n",
    "                                'aoss:DescribeIndex',\n",
    "                                'aoss:ReadDocument',\n",
    "                                'aoss:WriteDocument'],\n",
    "                            'ResourceType': 'index'\n",
    "                        }],\n",
    "                    'Principal': [identity, bedrock_kb_execution_role['Role']['Arn']],\n",
    "                    'Description': 'Easy data policy'}\n",
    "            ]),\n",
    "        type='data'\n",
    "    )\n",
    "except aoss_client.exceptions.ConflictException:\n",
    "    print(\"Policy already exists\")\n",
    "    access_policy = aoss_client.get_access_policy(\n",
    "        name=access_policy_name,\n",
    "        type='data'\n",
    "    )"
   ]
  },
  {
   "cell_type": "markdown",
   "metadata": {},
   "source": [
    "## Create the vector index"
   ]
  },
  {
   "cell_type": "code",
   "execution_count": 15,
   "metadata": {},
   "outputs": [
    {
     "name": "stdout",
     "output_type": "stream",
     "text": [
      "\n",
      "Creating index:\n",
      "{ 'acknowledged': True,\n",
      "  'index': 'bedrock-sample-rag-index-6141113',\n",
      "  'shards_acknowledged': True}\n",
      "............................................................\r"
     ]
    }
   ],
   "source": [
    "from opensearchpy import OpenSearch, RequestsHttpConnection, AWSV4SignerAuth, RequestError\n",
    "awsauth = AWSV4SignerAuth(credentials, region_name, 'aoss')\n",
    "# Build the OpenSearch client\n",
    "oss_client = OpenSearch(\n",
    "    hosts=[{'host': host, 'port': 443}],\n",
    "    http_auth= awsauth,\n",
    "    use_ssl=True,\n",
    "    verify_certs=True,\n",
    "    connection_class=RequestsHttpConnection,\n",
    "    timeout=300\n",
    ")\n",
    "\n",
    "\n",
    "# create a dictionary with model id as key and context length as value\n",
    "embedding_context_dimensions = {\n",
    "    \"cohere.embed-multilingual-v3\": 512,\n",
    "    \"cohere.embed-english-v3\": 512,\n",
    "    \"amazon.titan-embed-text-v1\": 1536,\n",
    "    \"amazon.titan-embed-text-v2:0\": 1024\n",
    "}\n",
    "embedding_model = \"amazon.titan-embed-text-v2:0\"\n",
    "\n",
    "index_name = f\"bedrock-sample-rag-index-{suffix}\"\n",
    "\n",
    "body_json = {\n",
    "    \"settings\": {\n",
    "        \"index.knn\": \"true\",\n",
    "        \"number_of_shards\": 1,\n",
    "        \"knn.algo_param.ef_search\": 512,\n",
    "        \"number_of_replicas\": 0,\n",
    "    },\n",
    "    \"mappings\": {\n",
    "        \"properties\": {\n",
    "            \"vector\": {\n",
    "                \"type\": \"knn_vector\",\n",
    "                \"dimension\": embedding_context_dimensions[embedding_model], # use dimension as per the context length of embeddings model selected.\n",
    "                \"method\": {\n",
    "                    \"name\": \"hnsw\",\n",
    "                    \"engine\": \"faiss\",\n",
    "                    \"space_type\": \"l2\"\n",
    "                },\n",
    "            },\n",
    "            \"text\": {\n",
    "                \"type\": \"text\"\n",
    "            },\n",
    "            \"text-metadata\": {\n",
    "                \"type\": \"text\"}\n",
    "        }\n",
    "    }\n",
    "}\n",
    "\n",
    "# Create index\n",
    "try:\n",
    "    response = oss_client.indices.create(index=index_name, body=json.dumps(body_json))\n",
    "    print('\\nCreating index:')\n",
    "    pp.pprint(response)\n",
    "\n",
    "    # index creation can take up to a minute\n",
    "    interactive_sleep(60)\n",
    "except RequestError as e:\n",
    "    # you can delete the index if its already exists\n",
    "    # oss_client.indices.delete(index=index_name)\n",
    "    print(e)\n",
    "    print(\n",
    "        f'Error while trying to create the index, with error {e.error}\\nyou may unmark the delete above to '\n",
    "        f'delete, and recreate the index')"
   ]
  },
  {
   "cell_type": "markdown",
   "metadata": {},
   "source": [
    "## Create the knowledge base"
   ]
  },
  {
   "cell_type": "code",
   "execution_count": null,
   "metadata": {},
   "outputs": [],
   "source": [
    "chunking_strategy = \"FIXED_SIZE\"\n",
    "\n",
    "kb_name = f\"bedrock-sample-knowledge-base-{suffix}\"\n",
    "kb_description = \"Multi data source knowledge base.\"\n",
    "\n",
    "opensearch_serverless_configuration = {\n",
    "    \"collectionArn\": collection_arn,\n",
    "    \"vectorIndexName\": index_name,\n",
    "    \"fieldMapping\": {\n",
    "        \"vectorField\": \"vector\",\n",
    "        \"textField\": \"text\",\n",
    "        \"metadataField\": \"text-metadata\"\n",
    "    }\n",
    "}\n",
    "\n",
    "chunking_strategy_configuration = {}\n",
    "# vectorIngestionConfiguration = {}\n",
    "\n",
    "print(f\"Creating KB with chunking strategy - {chunking_strategy}\")\n",
    "chunking_strategy_configuration = {\n",
    "                \"chunkingConfiguration\": {\"chunkingStrategy\": \"NONE\"}\n",
    "            }\n",
    "print(\"============Chunking config========\\n\", chunking_strategy_configuration)\n",
    "\n",
    "\n",
    "custom_datasource_name = f'bedrock-sample-rag-customds-{suffix}'\n",
    "\n",
    "# The embedding model used by Bedrock to embed ingested documents, and realtime prompts\n",
    "embedding_model_arn = f\"arn:aws:bedrock:{region_name}::foundation-model/{embedding_model}\"\n",
    "try:\n",
    "    create_kb_response = bedrock_agent_client.create_knowledge_base(\n",
    "        name=kb_name,\n",
    "        description=kb_description,\n",
    "        roleArn=bedrock_kb_execution_role['Role']['Arn'],\n",
    "        knowledgeBaseConfiguration={\n",
    "            \"type\": \"VECTOR\",\n",
    "            \"vectorKnowledgeBaseConfiguration\": {\n",
    "                \"embeddingModelArn\": embedding_model_arn\n",
    "            }\n",
    "        },\n",
    "        storageConfiguration={\n",
    "            \"type\": \"OPENSEARCH_SERVERLESS\",\n",
    "            \"opensearchServerlessConfiguration\": opensearch_serverless_configuration\n",
    "        }\n",
    "    )\n",
    "    kb = create_kb_response[\"knowledgeBase\"]\n",
    "    pp.pprint(kb)\n",
    "except bedrock_agent_client.exceptions.ConflictException:\n",
    "    print(\"Knowledge Base already exists\")\n",
    "    kbs = bedrock_agent_client.list_knowledge_bases(\n",
    "        maxResults=100\n",
    "    )\n",
    "    kb_id = None\n",
    "    for kb in kbs['knowledgeBaseSummaries']:\n",
    "        if kb['name'] == kb_name:\n",
    "            kb_id = kb['knowledgeBaseId']\n",
    "    response = bedrock_agent_client.get_knowledge_base(knowledgeBaseId=kb_id)\n",
    "    kb = response['knowledgeBase']\n",
    "    pp.pprint(kb)\n",
    "\n",
    "# Create a DataSource in KnowledgeBase\n",
    "try:\n",
    "    print(kb_name)\n",
    "    print(kb['knowledgeBaseId'])\n",
    "    create_ds_response = bedrock_agent_client.create_data_source(\n",
    "        name=kb_name,\n",
    "        description=kb_description,\n",
    "        knowledgeBaseId=kb['knowledgeBaseId'],\n",
    "        dataSourceConfiguration={\n",
    "            \"type\": \"CUSTOM\",\n",
    "            \"name\": custom_datasource_name\n",
    "        },\n",
    "        vectorIngestionConfiguration = chunking_strategy_configuration, \n",
    "        dataDeletionPolicy='RETAIN'\n",
    "    )\n",
    "    ds = create_ds_response[\"dataSource\"]\n",
    "    pp.pprint(ds)\n",
    "except bedrock_agent_client.exceptions.ConflictException as ce:\n",
    "    print(ce)\n",
    "    print(\"Datasource already exists\")\n",
    "    ds_id = bedrock_agent_client.list_data_sources(\n",
    "        knowledgeBaseId=kb['knowledgeBaseId'],\n",
    "        maxResults=100\n",
    "    )['dataSourceSummaries'][0]['dataSourceId']\n",
    "    get_ds_response = bedrock_agent_client.get_data_source(\n",
    "        dataSourceId=ds_id,\n",
    "        knowledgeBaseId=kb['knowledgeBaseId']\n",
    "    )\n",
    "    ds = get_ds_response[\"dataSource\"]\n",
    "    pp.pprint(ds)\n"
   ]
  }
 ],
 "metadata": {
  "kernelspec": {
   "display_name": ".venv",
   "language": "python",
   "name": "python3"
  },
  "language_info": {
   "codemirror_mode": {
    "name": "ipython",
    "version": 3
   },
   "file_extension": ".py",
   "mimetype": "text/x-python",
   "name": "python",
   "nbconvert_exporter": "python",
   "pygments_lexer": "ipython3",
   "version": "3.10.9"
  }
 },
 "nbformat": 4,
 "nbformat_minor": 2
}
