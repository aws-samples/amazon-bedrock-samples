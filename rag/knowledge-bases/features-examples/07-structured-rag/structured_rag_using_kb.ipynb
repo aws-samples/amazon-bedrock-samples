{
 "cells": [
  {
   "cell_type": "markdown",
   "metadata": {},
   "source": [
    "# Structured RAG using Amazon Bedrock Knowledge Bases : end-to-end example using Amazon Redshift DB\n",
    "\n",
    "Structure RAG allows Amazon Bedrock Knowledge Bases customers to query structured data in Redshift using natural language, and receive natural language responses summarizing the data thereby providing an answer to the user question.\n",
    "\n",
    "Using advanced natural language processing, Amazon Bedrock Knowledge Bases can transform natural language queries into SQL queries, allowing users to retrieve data directly from the source without the need to move or preprocess the data. To generate accurate SQL queries, Bedrock Knowledge Base leverages database schema, previous query history, and other contextual information that are provided about the data sources. For more details. please see the [documentation](https://docs.aws.amazon.com/bedrock/latest/userguide/knowledge-base-build-structured.html).\n",
    "\n",
    "\n",
    "This notebook provides sample code for building a Structured RAG using Amazon Bedrock Knowledgebases using Redshift.\n",
    "\n",
    "\n",
    "#### Steps: \n",
    "- Create Knowledge Base execution role with necessary policies for accessing data from Amazon Redshift.\n",
    "- Create a knowledge base with Structured database (Redshift database)\n",
    "- Create data source(s) within knowledge base\n",
    "- Start ingestion jobs using KB APIs which will read metadata about structred database.\n",
    "\n",
    "Once the metadata is extracted and ingested, then user can interact with Structured databases via Amazon Bedrock Knowledge Base APIs using Natural language query."
   ]
  },
  {
   "cell_type": "markdown",
   "metadata": {},
   "source": [
    "#### Pre-requisites\n",
    "This notebook requires :\n",
    "- A Redshift serverless cluster with a workgroup  [OR] Redshift provisioned cluster \n",
    "- Your workgroup or cluster is already setup with your structured data ingested\n",
    "- You've set-up the IAM Role [OR] Secrets manager with User Credentials [OR] the DB User \n",
    "\n",
    "To read more details about pre-requisites, see the [documentation](https://docs.aws.amazon.com/bedrock/latest/userguide/knowledge-base-prereq-structured.html)\n"
   ]
  },
  {
   "cell_type": "markdown",
   "metadata": {},
   "source": [
    "### 0 - Setup\n",
    "Before running the rest of this notebook, you'll need to run the cells below to ensure necessary libraries are installed and connect to Bedrock.\n",
    "\n",
    "Please ignore any pip dependency error (if you see any while installing libraries)"
   ]
  },
  {
   "cell_type": "code",
   "execution_count": null,
   "metadata": {},
   "outputs": [],
   "source": [
    "%pip install --upgrade pip --quiet\n",
    "%pip install -r ../requirements.txt --no-deps --quiet\n",
    "%pip install -r ../requirements.txt --upgrade --quiet"
   ]
  },
  {
   "cell_type": "code",
   "execution_count": null,
   "metadata": {},
   "outputs": [],
   "source": [
    "# %pip install --upgrade boto3\n",
    "import boto3\n",
    "print(boto3.__version__)"
   ]
  },
  {
   "cell_type": "code",
   "execution_count": null,
   "metadata": {},
   "outputs": [],
   "source": [
    "# restart kernel\n",
    "from IPython.core.display import HTML\n",
    "HTML(\"<script>Jupyter.notebook.kernel.restart()</script>\")"
   ]
  },
  {
   "cell_type": "code",
   "execution_count": 4,
   "metadata": {},
   "outputs": [],
   "source": [
    "%load_ext autoreload\n",
    "%autoreload 2"
   ]
  },
  {
   "cell_type": "code",
   "execution_count": 5,
   "metadata": {},
   "outputs": [],
   "source": [
    "import warnings\n",
    "warnings.filterwarnings('ignore')"
   ]
  },
  {
   "cell_type": "markdown",
   "metadata": {},
   "source": [
    "This code is part of the setup and used to :\n",
    "- Add the parent directory to the python system path\n",
    "- Imports a custom module (BedrockStructuredKnowledgeBase) from `utils` necessary for later executions"
   ]
  },
  {
   "cell_type": "code",
   "execution_count": null,
   "metadata": {},
   "outputs": [],
   "source": [
    "import sys\n",
    "import logging\n",
    "from pathlib import Path\n",
    "\n",
    "current_path = Path().resolve()\n",
    "current_path = current_path.parent\n",
    "\n",
    "if str(current_path) not in sys.path:\n",
    "    sys.path.append(str(current_path))\n",
    "\n",
    "# Print sys.path to verify\n",
    "print(sys.path)\n",
    "\n",
    "from utils.structured_knowledge_base import BedrockStructuredKnowledgeBase"
   ]
  },
  {
   "cell_type": "markdown",
   "metadata": {},
   "source": [
    "Setup and initialize boto3 clients "
   ]
  },
  {
   "cell_type": "code",
   "execution_count": null,
   "metadata": {},
   "outputs": [],
   "source": [
    "s3_client = boto3.client('s3')\n",
    "sts_client = boto3.client('sts')\n",
    "session = boto3.session.Session(region_name='us-east-1')\n",
    "region =  session.region_name\n",
    "account_id = sts_client.get_caller_identity()[\"Account\"]\n",
    "bedrock_agent_client = boto3.client('bedrock-agent')\n",
    "bedrock_agent_runtime_client = boto3.client('bedrock-agent-runtime') \n",
    "logging.basicConfig(format='[%(asctime)s] p%(process)s {%(filename)s:%(lineno)d} %(levelname)s - %(message)s', level=logging.INFO)\n",
    "logger = logging.getLogger(__name__)\n",
    "region, account_id"
   ]
  },
  {
   "cell_type": "markdown",
   "metadata": {},
   "source": [
    "Initialize and configure the knowledge base name and the foundational model. This foundational model will be used to generate the natural language response based on the records received from the structured data store."
   ]
  },
  {
   "cell_type": "code",
   "execution_count": 29,
   "metadata": {},
   "outputs": [],
   "source": [
    "import time\n",
    "\n",
    "# Get the current timestamp\n",
    "current_time = time.time()\n",
    "\n",
    "# Format the timestamp as a string\n",
    "timestamp_str = time.strftime(\"%Y%m%d%H%M%S\", time.localtime(current_time))[-7:]\n",
    "# Create the suffix using the timestamp\n",
    "suffix = f\"{timestamp_str}\"\n",
    "\n",
    "knowledge_base_name = f\"bedrock-sample-structured-kb-{suffix}\"\n",
    "knowledge_base_description = \"Sample Structured KB\"\n",
    "\n",
    "\n",
    "foundation_model = \"anthropic.claude-3-sonnet-20240229-v1:0\""
   ]
  },
  {
   "cell_type": "markdown",
   "metadata": {},
   "source": [
    "Amazon Bedrock Knowledge Bases uses a service role to connect knowledge bases to structured data stores, retrieve data from these data stores, and generate SQL queries based on user queries and the structure of the data stores. There are several access patterns based on if you're using Redshift Serverless vs Redshift Provisioned Cluster."
   ]
  },
  {
   "cell_type": "markdown",
   "metadata": {},
   "source": [
    "<div class=\"alert alert-block alert-warning\">\n",
    "<b>NOTE:</b> Below are several access patterns based on if you're using Redshift Serverless vs Redshift Provisioned Cluster.\n",
    "<br><br>\n",
    "1.   Secrets Manager + Redshift Serverless WorkGroup\n",
    "<br> \n",
    "2.   IAM Role + Redshift Serverless WorkGroup \n",
    "<br>\n",
    "3.   IAM Role + Redshift Cluster\n",
    "<br>\n",
    "4.   Secrets Manager + Redshift Cluster \n",
    "<br>\n",
    "5.   DB user + Redshift Cluster\n",
    "<br>\n",
    "\n",
    "In this notebook, we'll look at all these access pattern.\n",
    "</div>"
   ]
  },
  {
   "cell_type": "markdown",
   "metadata": {},
   "source": [
    "Please note that, you will have to initialize only the variables that are necessary based on following access patterns:\n",
    "\n",
    "1. Secrets Manager + Redshift Serverless WorkGroup  \n",
    "`workgroup_id`  \n",
    "`secretArn`\n",
    "\n",
    "2.   IAM Role + Redshift Serverless WorkGroup  \n",
    "`workgroup_id`  \n",
    "`redshiftDBName`\n",
    "\n",
    "3.   IAM Role + Redshift Provisioned Cluster  \n",
    "`provisioned_cluster_identifier`  \n",
    "`provisioned_cluster_dbname`\n",
    "\n",
    "4.   Secrets Manager + Redshift Provisioned Cluster  \n",
    "`provisioned_cluster_identifier`  \n",
    "`provisioned_cluster_dbname`  \n",
    "`provisionedSecretArn`\n",
    "\n",
    "5.   DB user + Redshift Provisioned Cluster  \n",
    "`provisioned_cluster_identifier`  \n",
    "`provisioned_cluster_dbname`  \n",
    "`databaseUser`\n",
    "\n",
    "Knowledge base configuration and the roles created will use these parameters to perform necessary configuration. Any additional steps required as part of execution will be covered as part of execution steps"
   ]
  },
  {
   "cell_type": "markdown",
   "metadata": {},
   "source": [
    "#### Redshift acces pattern choice\n",
    "Select the choice that aligns with your setup. "
   ]
  },
  {
   "cell_type": "code",
   "execution_count": null,
   "metadata": {},
   "outputs": [],
   "source": [
    "import ipywidgets as widgets\n",
    "from IPython.display import display\n",
    "\n",
    "# Display the choices to the user\n",
    "print(\"Choose your Redshift access pattern:\")\n",
    "print(\"1. Secrets Manager + Redshift Serverless WorkGroup\")\n",
    "print(\"2. IAM Role + Redshift Serverless WorkGroup\")\n",
    "print(\"3. IAM Role + Redshift Provisioned Cluster\")\n",
    "print(\"4. Secrets Manager + Redshift Provisioned Cluster\")\n",
    "print(\"5. DB User + Redshift Provisioned Cluster\")\n",
    "\n",
    "# Create a text input widget\n",
    "choice_widget = widgets.Text(placeholder=\"Enter your choice (1 Only)\")\n",
    "\n",
    "# Display the widget\n",
    "display(choice_widget)\n"
   ]
  },
  {
   "cell_type": "code",
   "execution_count": 31,
   "metadata": {},
   "outputs": [],
   "source": [
    "# Change below variables as needed\n",
    "\n",
    "#Redshift Serverless Cluster configuration details\n",
    "workgroup_id = '<enter-redshift-serverless-workgroup-id>'\n",
    "redshiftDBName = \"<enter-redshift-serverless-database-name\"\n",
    "workgroupArn =  f\"arn:aws:redshift-serverless:{region}:{account_id}:workgroup/{workgroup_id}\"\n",
    "secretArn = \"<enter-secret-key-arn>\"\n",
    "\n",
    "#Redshift Provisioned Cluster configuration details\n",
    "provisioned_cluster_identifier = \"<enter-provisioned-cluster-identifier>\"\n",
    "provisioned_cluster_dbname = \"<enter-provisioned-cluster-database-name>\"\n",
    "#Secrets manager ARN , this value is required to use \"Secrets Manager + Redshift Provisioned Cluster\" access pattern \n",
    "provisionedSecretArn = \"<enter-secret-key-arn>\"\n",
    "#Redshift Database UserName, this value is required to use \"DB User + Redshift Provisioned Cluster\" access pattern\n",
    "databaseUser = \"<enter-db-username>\"\n",
    "\n",
    "# kb Configuration\n",
    "kbConfigParam = {\n",
    "            \"type\": \"SQL\",\n",
    "            \"sqlKnowledgeBaseConfiguration\": {\n",
    "                \"type\": \"REDSHIFT\",\n",
    "                \"redshiftConfiguration\": {\n",
    "                    \"storageConfigurations\": [{\n",
    "                        \"type\": \"REDSHIFT\",\n",
    "                        \"redshiftConfiguration\": {\n",
    "                            \"databaseName\": redshiftDBName\n",
    "                        }\n",
    "                    }],\n",
    "                    \"queryEngineConfiguration\": {\n",
    "                        \"type\": \"SERVERLESS\",\n",
    "                        \"serverlessConfiguration\": {\n",
    "                            \"workgroupArn\": workgroupArn,\n",
    "                            \"authConfiguration\": {}\n",
    "                        }\n",
    "                    }\n",
    "                }\n",
    "            }\n",
    "        }\n",
    "\n",
    "kbProvisionedConfigParam = {\n",
    "    \"type\": \"SQL\",\n",
    "    \"sqlKnowledgeBaseConfiguration\": {\n",
    "        \"type\": \"REDSHIFT\",\n",
    "            \"redshiftConfiguration\": {\n",
    "                \"queryEngineConfiguration\": {\n",
    "                    \"type\": \"PROVISIONED\",\n",
    "                    \"provisionedConfiguration\": {\n",
    "                        \"authConfiguration\": {},\n",
    "                        \"clusterIdentifier\": provisioned_cluster_identifier\n",
    "                    }\n",
    "                },\n",
    "                \"storageConfigurations\": [{\n",
    "                        \"redshiftConfiguration\": {\n",
    "                            \"databaseName\": provisioned_cluster_dbname\n",
    "                        },\n",
    "                        \"type\": \"REDSHIFT\"\n",
    "                }]\n",
    "            } \n",
    "        }  \n",
    "}"
   ]
  },
  {
   "cell_type": "markdown",
   "metadata": {},
   "source": [
    "### 1 - Create Knowledge Base\n",
    "\n",
    "Based on the selected access pattern, \n",
    "1. This code updates the knowledge base configuration with additional parameters. For example, if the access pattern is slected as `IAM Role + Redshift Serverless ` , the `[authCofiguration][type]` parameter willbe updated as \"IAM\"\n",
    "2. Then it creates the knowledge base "
   ]
  },
  {
   "cell_type": "code",
   "execution_count": null,
   "metadata": {},
   "outputs": [],
   "source": [
    "# Access the entered value\n",
    "access_pattern_choice = int(choice_widget.value)\n",
    "try:\n",
    "    access_pattern_choice = int(choice_widget.value)\n",
    "    if access_pattern_choice ==1:\n",
    "        print(f\"Access pattern:{choice_widget.value}. Secrets Manager + Redshift Serverless WorkGroup\")\n",
    "\n",
    "        kbConfigParam['sqlKnowledgeBaseConfiguration']['redshiftConfiguration']['queryEngineConfiguration']['serverlessConfiguration']['authConfiguration']['type'] = \"USERNAME_PASSWORD\"\n",
    "        kbConfigParam['sqlKnowledgeBaseConfiguration']['redshiftConfiguration']['queryEngineConfiguration']['serverlessConfiguration']['authConfiguration']['usernamePasswordSecretArn'] = secretArn\n",
    "\n",
    "        knowledge_base = BedrockStructuredKnowledgeBase(\n",
    "                        kb_name=f'{knowledge_base_name}',\n",
    "                        kb_description=knowledge_base_description,\n",
    "                        workgroup_arn=workgroupArn,\n",
    "                        secrets_arn = secretArn,\n",
    "                        kbConfigParam = kbConfigParam,\n",
    "                        suffix = f'{suffix}-f'\n",
    "                    )\n",
    "       \n",
    "    elif access_pattern_choice ==2:\n",
    "        print(f\"Access pattern:{choice_widget.value} IAM Role + Redshift Serverless WorkGroup\")\n",
    "\n",
    "        kbConfigParam['sqlKnowledgeBaseConfiguration']['redshiftConfiguration']['queryEngineConfiguration']['serverlessConfiguration']['authConfiguration']['type'] = \"IAM\"\n",
    "        \n",
    "        knowledge_base = BedrockStructuredKnowledgeBase(\n",
    "                        kb_name=f'{knowledge_base_name}',\n",
    "                        kb_description=knowledge_base_description,\n",
    "                        workgroup_arn=workgroupArn,\n",
    "                        kbConfigParam = kbConfigParam,\n",
    "                        suffix = f'{suffix}-f'\n",
    "                    )\n",
    "    \n",
    "    elif access_pattern_choice == 3:\n",
    "        print(f\"Access pattern:{choice_widget.value} IAM Role + Redshift Provisioned Cluster\")\n",
    "\n",
    "        kbProvisionedConfigParam['sqlKnowledgeBaseConfiguration']['redshiftConfiguration']['queryEngineConfiguration']['provisionedConfiguration']['authConfiguration']['type'] = \"IAM\"\n",
    "        \n",
    "        knowledge_base = BedrockStructuredKnowledgeBase(\n",
    "                        kb_name=f'{knowledge_base_name}',\n",
    "                        kb_description=knowledge_base_description,\n",
    "                        cluster_identifier=provisioned_cluster_identifier,\n",
    "                        db_name=provisioned_cluster_dbname,\n",
    "                        kbConfigParam = kbProvisionedConfigParam,\n",
    "                        suffix = f'{suffix}-f'\n",
    "                    )\n",
    "        \n",
    "    elif access_pattern_choice == 4:\n",
    "        print(f\"Access pattern:{choice_widget.value} Secrets Manager + Redshift Provisioned Cluster\")\n",
    "\n",
    "        kbProvisionedConfigParam['sqlKnowledgeBaseConfiguration']['redshiftConfiguration']['queryEngineConfiguration']['provisionedConfiguration']['authConfiguration']['type'] = \"USERNAME_PASSWORD\"\n",
    "        kbProvisionedConfigParam['sqlKnowledgeBaseConfiguration']['redshiftConfiguration']['queryEngineConfiguration']['provisionedConfiguration']['authConfiguration']['usernamePasswordSecretArn'] = provisionedSecretArn\n",
    "        \n",
    "        knowledge_base = BedrockStructuredKnowledgeBase(\n",
    "                        kb_name=f'{knowledge_base_name}',\n",
    "                        kb_description=knowledge_base_description,\n",
    "                        cluster_identifier=provisioned_cluster_identifier,\n",
    "                        db_name=provisioned_cluster_dbname,\n",
    "                        secrets_arn = provisionedSecretArn,\n",
    "                        kbConfigParam = kbProvisionedConfigParam,\n",
    "                        suffix = f'{suffix}-f'\n",
    "                    )  \n",
    "    elif access_pattern_choice == 5:\n",
    "        print(f\"Access pattern:{choice_widget.value} DB User + Redshift Provisioned Cluster\")\n",
    "\n",
    "        kbProvisionedConfigParam['sqlKnowledgeBaseConfiguration']['redshiftConfiguration']['queryEngineConfiguration']['provisionedConfiguration']['authConfiguration']['type'] = \"USERNAME\"\n",
    "        kbProvisionedConfigParam['sqlKnowledgeBaseConfiguration']['redshiftConfiguration']['queryEngineConfiguration']['provisionedConfiguration']['authConfiguration']['databaseUser'] = databaseUser\n",
    "\n",
    "        knowledge_base = BedrockStructuredKnowledgeBase(\n",
    "                        kb_name=f'{knowledge_base_name}',\n",
    "                        kb_description=knowledge_base_description,\n",
    "                        cluster_identifier=provisioned_cluster_identifier,\n",
    "                        db_name=provisioned_cluster_dbname,\n",
    "                        db_user=databaseUser,\n",
    "                        kbConfigParam = kbProvisionedConfigParam,\n",
    "                        suffix = f'{suffix}-f'\n",
    "                    )   \n",
    "    else:\n",
    "        print(\"Invalid choice. Please enter a number between 1 and 2.\")\n",
    "except ValueError:\n",
    "    print(\"Invalid input. Please enter a number.\")"
   ]
  },
  {
   "cell_type": "markdown",
   "metadata": {},
   "source": [
    "### For IAM access pattern, Grant database access to the role you use for authentication\n",
    "\n",
    "You can use below sample SQL Statement to create user and provide access. Please update the GRANT statement based on the level of access that needs to be provided for your dataset. \n",
    "\n",
    "For more detailed steps, please see the [documentation](https://docs.aws.amazon.com/bedrock/latest/userguide/knowledge-base-prereq-structured.html#knowledge-base-prereq-structured-db-access)"
   ]
  },
  {
   "cell_type": "code",
   "execution_count": null,
   "metadata": {},
   "outputs": [],
   "source": [
    "#Following SQL commands should be executed in Redshift Query Editor\n",
    "print(f'CREATE USER \"IAMR:{knowledge_base.bedrock_kb_execution_role_name}\" WITH PASSWORD DISABLE;')\n",
    "print(f'GRANT SELECT ON ALL tables IN SCHEMA public TO \"IAMR:{knowledge_base.bedrock_kb_execution_role_name}\";')"
   ]
  },
  {
   "cell_type": "markdown",
   "metadata": {},
   "source": [
    "### 2 - Start the ingestion job\n",
    "\n",
    "This step is to start the ingestion job to sync the datasources. "
   ]
  },
  {
   "cell_type": "code",
   "execution_count": null,
   "metadata": {},
   "outputs": [],
   "source": [
    "# ensure that the kb is available\n",
    "time.sleep(60)\n",
    "# sync knowledge base\n",
    "knowledge_base.start_ingestion_job()"
   ]
  },
  {
   "cell_type": "code",
   "execution_count": null,
   "metadata": {},
   "outputs": [],
   "source": [
    "# keep the kb_id for invocation later in the invoke request\n",
    "kb_id = knowledge_base.get_knowledge_base_id()\n",
    "%store kb_id"
   ]
  },
  {
   "cell_type": "markdown",
   "metadata": {},
   "source": [
    "### 3 -  Test the Structured Knowledge Base\n",
    "Now the Knowlegde Base is available we can test it out using the [**retrieve**](https://boto3.amazonaws.com/v1/documentation/api/latest/reference/services/bedrock-agent-runtime/client/retrieve.html), [**retrieve_and_generate**](https://boto3.amazonaws.com/v1/documentation/api/latest/reference/services/bedrock-agent-runtime/client/retrieve_and_generate.html), and [**generate_query**](https://docs.aws.amazon.com/bedrock/latest/APIReference/API_agent-runtime_GenerateQuery.html) functions. \n",
    "\n",
    "When you use [**retrieve**](https://boto3.amazonaws.com/v1/documentation/api/latest/reference/services/bedrock-agent-runtime/client/retrieve.html), the response returns the result of the SQL query execution. \n",
    "\n",
    "When you use [**retrieve_and_generate**](https://boto3.amazonaws.com/v1/documentation/api/latest/reference/services/bedrock-agent-runtime/client/retrieve_and_generate.html), the generated response is based on the result of the SQL query execution\n",
    "\n",
    "When using the [**generate_query**](https://docs.aws.amazon.com/bedrock/latest/APIReference/API_agent-runtime_GenerateQuery.html) API, it transforms a natural language query into SQL.\n",
    "\n"
   ]
  },
  {
   "cell_type": "code",
   "execution_count": null,
   "metadata": {},
   "outputs": [],
   "source": [
    "query = \"<Enter your sample query here>\""
   ]
  },
  {
   "cell_type": "markdown",
   "metadata": {},
   "source": [
    "#### 3.1 - Using RetrieveAndGenerate API"
   ]
  },
  {
   "cell_type": "code",
   "execution_count": null,
   "metadata": {},
   "outputs": [],
   "source": [
    "foundation_model = \"anthropic.claude-3-sonnet-20240229-v1:0\"\n",
    "\n",
    "response = bedrock_agent_runtime_client.retrieve_and_generate(\n",
    "    input={\n",
    "        \"text\": query\n",
    "    },\n",
    "    retrieveAndGenerateConfiguration={\n",
    "        \"type\": \"KNOWLEDGE_BASE\",\n",
    "        \"knowledgeBaseConfiguration\": {\n",
    "            'knowledgeBaseId': kb_id,\n",
    "            \"modelArn\": \"arn:aws:bedrock:{}::foundation-model/{}\".format(region, foundation_model),\n",
    "            \"retrievalConfiguration\": {\n",
    "                \"vectorSearchConfiguration\": {\n",
    "                    \"numberOfResults\":5\n",
    "                } \n",
    "            }\n",
    "        }\n",
    "    }\n",
    ")\n",
    "\n",
    "print(response['output']['text'],end='\\n'*2)"
   ]
  },
  {
   "cell_type": "markdown",
   "metadata": {},
   "source": [
    "#### 3.2 -  Using Retrieve API"
   ]
  },
  {
   "cell_type": "code",
   "execution_count": 40,
   "metadata": {},
   "outputs": [],
   "source": [
    "response_ret = bedrock_agent_runtime_client.retrieve(\n",
    "    knowledgeBaseId=kb_id, \n",
    "    nextToken='string',\n",
    "    retrievalConfiguration={\n",
    "        \"vectorSearchConfiguration\": {\n",
    "            \"numberOfResults\":5,\n",
    "        } \n",
    "    },\n",
    "    retrievalQuery={\n",
    "        \"text\": query\n",
    "    }\n",
    ")\n"
   ]
  },
  {
   "cell_type": "code",
   "execution_count": null,
   "metadata": {},
   "outputs": [],
   "source": [
    "import json\n",
    "import pandas as pd\n",
    "\n",
    "# Function to extract retrieved results from Retrieve API response into a pandas dataframe.\n",
    "\n",
    "def response_print(retrieve_resp):\n",
    "\n",
    "    # Extract the retrievalResults list\n",
    "    retrieval_results = retrieve_resp['retrievalResults']\n",
    "\n",
    "    # Dictionary to store the extracted data\n",
    "    extracted_data = {}\n",
    "\n",
    "    # Iterate through each item in retrievalResults\n",
    "    for item in retrieval_results:\n",
    "        row = item['content']['row']\n",
    "        for col in row:\n",
    "            column_name = col['columnName']\n",
    "            column_value = col['columnValue']\n",
    "            \n",
    "            # If this column hasn't been seen before, create a new list for it\n",
    "            if column_name not in extracted_data:\n",
    "                extracted_data[column_name] = []\n",
    "            \n",
    "            # Append the value to the appropriate list\n",
    "            extracted_data[column_name].append(column_value)\n",
    "\n",
    "    # Create a DataFrame from the extracted data\n",
    "    df = pd.DataFrame(extracted_data)\n",
    "\n",
    "    return df\n",
    "    "
   ]
  },
  {
   "cell_type": "code",
   "execution_count": null,
   "metadata": {},
   "outputs": [],
   "source": [
    "# Display the Retrieved results records\n",
    "df = response_print(response_ret)\n",
    "print(df.head())"
   ]
  },
  {
   "cell_type": "markdown",
   "metadata": {},
   "source": [
    "#### 3.3 - Using Generate Query"
   ]
  },
  {
   "cell_type": "code",
   "execution_count": null,
   "metadata": {},
   "outputs": [],
   "source": [
    "query_response = bedrock_agent_runtime_client.generate_query(\n",
    "    queryGenerationInput={\n",
    "        \"text\": query,\n",
    "        \"type\": \"TEXT\"\n",
    "    },\n",
    "    transformationConfiguration={\n",
    "        \"mode\" : \"TEXT_TO_SQL\",\n",
    "        \"textToSqlConfiguration\": {\n",
    "            \"type\": \"KNOWLEDGE_BASE\",\n",
    "            \"knowledgeBaseConfiguration\": {\n",
    "                \"knowledgeBaseArn\": knowledge_base.knowledge_base['knowledgeBaseArn']\n",
    "            }\n",
    "        }\n",
    "    }\n",
    ")\n",
    "\n",
    "generated_sql = query_response['queries'][0]['sql']\n",
    "generated_sql"
   ]
  },
  {
   "cell_type": "markdown",
   "metadata": {},
   "source": [
    "### Clean Up\n",
    "Please make sure to uncomment and run the below section to delete all the resources"
   ]
  },
  {
   "cell_type": "code",
   "execution_count": null,
   "metadata": {},
   "outputs": [],
   "source": [
    "# # Delete resources\n",
    "# print(\"===============================Deleteing resources ==============================\\n\")\n",
    "knowledge_base.delete_kb( delete_iam_roles_and_policies=True)"
   ]
  }
 ],
 "metadata": {
  "kernelspec": {
   "display_name": "bedrock_env",
   "language": "python",
   "name": "python3"
  },
  "language_info": {
   "codemirror_mode": {
    "name": "ipython",
    "version": 3
   },
   "file_extension": ".py",
   "mimetype": "text/x-python",
   "name": "python",
   "nbconvert_exporter": "python",
   "pygments_lexer": "ipython3",
   "version": "3.10.13"
  }
 },
 "nbformat": 4,
 "nbformat_minor": 2
}
