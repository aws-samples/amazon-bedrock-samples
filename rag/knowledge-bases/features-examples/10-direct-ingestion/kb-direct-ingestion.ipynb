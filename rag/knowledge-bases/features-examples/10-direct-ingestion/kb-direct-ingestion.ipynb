{
 "cells": [
  {
   "cell_type": "markdown",
   "id": "a06e9780-b17b-4e71-98f5-65264ed2e1e3",
   "metadata": {},
   "source": [
    "# Bedrock Knowledgebases - Direct Ingestion"
   ]
  },
  {
   "cell_type": "markdown",
   "id": "647eec29",
   "metadata": {},
   "source": [
    "### Overview\n",
    "\n",
    "Amazon Bedrock Knowledge Bases allows you to modify your data source and sync the changes in one step. You can take advantage of this feature if your knowledge base is connected to one of the following types of data sources:\n",
    "\n",
    "* Amazon S3\n",
    "\n",
    "* Custom\n",
    "\n",
    "With direct ingestion, you can directly add, update, or delete files in a knowledge base in a single action and your knowledge base can have access to documents without the need to sync.\n",
    "\n",
    "For S3 data sources, any changes that you index into the knowledge base directly aren't reflected in the S3 location. You can use these API operations to make changes to your knowledge base immediately available in a single step. However, you should follow up by making the same changes in your S3 location so that they aren't overwritten the next time you sync your data source.\n",
    "\n",
    "This notebook provides sample code for ingesting documents directly into Amazon Bedrock Knowledgebases using a *Custom* datasource."
   ]
  },
  {
   "cell_type": "markdown",
   "id": "fb106440",
   "metadata": {},
   "source": [
    "### 1. Import libraries"
   ]
  },
  {
   "cell_type": "code",
   "execution_count": null,
   "id": "23a9c7ad",
   "metadata": {},
   "outputs": [],
   "source": [
    "%pip install --force-reinstall -q -r ../requirements.txt"
   ]
  },
  {
   "cell_type": "code",
   "execution_count": null,
   "id": "bd79a9cf",
   "metadata": {},
   "outputs": [],
   "source": [
    "# restart kernel\n",
    "from IPython.core.display import HTML\n",
    "HTML(\"<script>Jupyter.notebook.kernel.restart()</script>\")"
   ]
  },
  {
   "cell_type": "code",
   "execution_count": 18,
   "id": "f6c4ab18",
   "metadata": {},
   "outputs": [],
   "source": [
    "import warnings\n",
    "warnings.filterwarnings('ignore')"
   ]
  },
  {
   "cell_type": "code",
   "execution_count": 19,
   "id": "19fdbbce",
   "metadata": {},
   "outputs": [],
   "source": [
    "import boto3\n",
    "import os\n",
    "from utils.knowledge_base import BedrockKnowledgeBase\n",
    "from utils.knowledge_base import interactive_sleep\n",
    "import time\n",
    "import base64\n",
    "\n",
    "os.environ['AWS_DEFAULT_PROFILE'] = \"genai-demo-admin\"\n",
    "\n",
    "bedrock_agent_build_time_client = boto3.client(\"bedrock-agent\")\n",
    "bedrock_agent_runtime_client = boto3.client('bedrock-agent-runtime') \n",
    "session = boto3.session.Session()\n",
    "region =  session.region_name\n",
    "\n",
    "# Get the current timestamp\n",
    "current_time = time.time()\n",
    "\n",
    "# Format the timestamp as a string\n",
    "timestamp_str = time.strftime(\"%Y%m%d%H%M%S\", time.localtime(current_time))[-7:]\n",
    "# Create the suffix using the timestamp\n",
    "suffix = f\"{timestamp_str}\""
   ]
  },
  {
   "cell_type": "markdown",
   "id": "7d1234cc",
   "metadata": {},
   "source": [
    "### 2. Create a Bedrock Knowledgebase"
   ]
  },
  {
   "cell_type": "markdown",
   "id": "d6952e32",
   "metadata": {},
   "source": [
    "In this step we will create a Bedrock knowledgebase with a *Custom* datasource."
   ]
  },
  {
   "cell_type": "code",
   "execution_count": null,
   "id": "d9b59cd1",
   "metadata": {},
   "outputs": [],
   "source": [
    "knowledge_base_name = f\"bedrock-sample-knowledge-base-{suffix}\"\n",
    "knowledge_base_description = \"Multi data source knowledge base.\"\n",
    "data_sources = [\n",
    "    {\n",
    "        \"type\": \"CUSTOM\",\n",
    "        \"description\": \"Custom data source for Bedrock knowledgebase\",\n",
    "    }\n",
    "]\n",
    "\n",
    "bedrock_knowledge_base = BedrockKnowledgeBase(\n",
    "    kb_name=f'{knowledge_base_name}',\n",
    "    kb_description=knowledge_base_description,\n",
    "    data_sources=data_sources,\n",
    "    chunking_strategy = \"FIXED_SIZE\", \n",
    "    suffix = f'{suffix}-f'\n",
    ")\n",
    "knowledge_base_id = bedrock_knowledge_base.knowledge_base[\"knowledgeBaseId\"]\n",
    "print(\"knowledge_base_id: \" + knowledge_base_id)\n",
    "\n",
    "for data_source in bedrock_knowledge_base.data_source:\n",
    "    data_source_id = data_source[\"dataSourceId\"]\n",
    "    print(\"data_source_id: \" + data_source_id)"
   ]
  },
  {
   "cell_type": "markdown",
   "id": "c6650f79",
   "metadata": {},
   "source": [
    "### 3. Ingest a sample document into Bedrock knowledgebase"
   ]
  },
  {
   "cell_type": "markdown",
   "id": "e42f1df8",
   "metadata": {},
   "source": [
    "In this step we will ingest a sample pdf document."
   ]
  },
  {
   "cell_type": "code",
   "execution_count": 21,
   "id": "af29bab9",
   "metadata": {},
   "outputs": [],
   "source": [
    "with open(\"everything-about-project-kuiper.pdf\", \"rb\") as image_file:\n",
    "    encoded_string = base64.b64encode(image_file.read())"
   ]
  },
  {
   "cell_type": "code",
   "execution_count": null,
   "id": "cee18e86",
   "metadata": {},
   "outputs": [],
   "source": [
    "bedrock_agent_build_time_client.ingest_knowledge_base_documents(\n",
    "    knowledgeBaseId=knowledge_base_id,\n",
    "    dataSourceId=data_source_id,\n",
    "    documents=[\n",
    "        {\n",
    "            \"content\":{\n",
    "                \"dataSourceType\": \"CUSTOM\",\n",
    "                \"custom\": {\n",
    "                    \"sourceType\": \"IN_LINE\",\n",
    "                    \"customDocumentIdentifier\": {\n",
    "                        'id': 'doc-2'\n",
    "                    },\n",
    "                    \"inlineContent\": {\n",
    "                        \"byteContent\":{\n",
    "                            \"data\": str(encoded_string),\n",
    "                            \"mimeType\": \"application/pdf\"\n",
    "                        },\n",
    "                        \"type\": \"BYTE\"\n",
    "                    },\n",
    "                }\n",
    "            },\n",
    "            \"metadata\":{\n",
    "                \"type\": \"IN_LINE_ATTRIBUTE\",\n",
    "                \"inlineAttributes\": [\n",
    "                    {\n",
    "                        \"key\": \"attribute1\",\n",
    "                        \"value\": {\n",
    "                            \"type\": \"STRING\",\n",
    "                            \"stringValue\": \"value2\"                           \n",
    "                        }\n",
    "                    }\n",
    "                ]\n",
    "            }\n",
    "        },\n",
    "    ],\n",
    ")\n",
    "print(\"Sleeping for a minute to let the document ingestion complete.\")\n",
    "interactive_sleep(60)"
   ]
  },
  {
   "cell_type": "markdown",
   "id": "ba17b80e",
   "metadata": {},
   "source": [
    "### 4. Test Knowledgebase"
   ]
  },
  {
   "cell_type": "markdown",
   "id": "5f6a0ccc",
   "metadata": {},
   "source": [
    "In this step we will test the knowledgebase with a sample question related to the document ingested in the above step."
   ]
  },
  {
   "cell_type": "code",
   "execution_count": null,
   "id": "4e087005",
   "metadata": {},
   "outputs": [],
   "source": [
    "query = \"What is Kuiper?\""
   ]
  },
  {
   "cell_type": "code",
   "execution_count": null,
   "id": "1a277ae9",
   "metadata": {},
   "outputs": [],
   "source": [
    "foundation_model = \"anthropic.claude-3-sonnet-20240229-v1:0\"\n",
    "\n",
    "response = bedrock_agent_runtime_client.retrieve_and_generate(\n",
    "    input={\n",
    "        \"text\": query\n",
    "    },\n",
    "    retrieveAndGenerateConfiguration={\n",
    "        \"type\": \"KNOWLEDGE_BASE\",\n",
    "        \"knowledgeBaseConfiguration\": {\n",
    "            'knowledgeBaseId': knowledge_base_id,\n",
    "            \"modelArn\": \"arn:aws:bedrock:{}::foundation-model/{}\".format(region, foundation_model),\n",
    "            \"retrievalConfiguration\": {\n",
    "                \"vectorSearchConfiguration\": {\n",
    "                    \"numberOfResults\":5\n",
    "                } \n",
    "            }\n",
    "        }\n",
    "    }\n",
    ")\n",
    "\n",
    "print(response['output']['text'],end='\\n'*2)"
   ]
  },
  {
   "cell_type": "markdown",
   "id": "bb7876ae",
   "metadata": {},
   "source": [
    "### 5. Clean up\n",
    "Let's delete all the resources to avoid unnecessary costs."
   ]
  },
  {
   "cell_type": "code",
   "execution_count": null,
   "id": "623b2c07",
   "metadata": {},
   "outputs": [],
   "source": [
    "# delete role and policies\n",
    "print(\"===============================Knowledge base with custom datasource==============================\\n\")\n",
    "bedrock_knowledge_base.delete_kb(delete_s3_bucket=True, delete_iam_roles_and_policies=True)"
   ]
  }
 ],
 "metadata": {
  "kernelspec": {
   "display_name": "kb-direct-ingestion",
   "language": "python",
   "name": "python3"
  },
  "language_info": {
   "codemirror_mode": {
    "name": "ipython",
    "version": 3
   },
   "file_extension": ".py",
   "mimetype": "text/x-python",
   "name": "python",
   "nbconvert_exporter": "python",
   "pygments_lexer": "ipython3",
   "version": "3.12.6"
  }
 },
 "nbformat": 4,
 "nbformat_minor": 5
}
