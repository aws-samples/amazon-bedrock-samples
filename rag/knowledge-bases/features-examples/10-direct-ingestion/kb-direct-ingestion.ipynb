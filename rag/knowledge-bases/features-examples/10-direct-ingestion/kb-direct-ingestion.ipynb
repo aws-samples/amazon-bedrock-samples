{
 "cells": [
  {
   "cell_type": "markdown",
   "id": "a06e9780-b17b-4e71-98f5-65264ed2e1e3",
   "metadata": {},
   "source": [
    "# Bedrock Knowledgebases - Direct Ingestion"
   ]
  },
  {
   "cell_type": "markdown",
   "id": "647eec29",
   "metadata": {},
   "source": [
    "### Overview\n",
    "\n",
    "Amazon Bedrock Knowledge Bases allows you to modify your data source and sync the changes in one step. You can take advantage of this feature if your knowledge base is connected to one of the following types of data sources:\n",
    "\n",
    "* Amazon S3\n",
    "\n",
    "* Custom\n",
    "\n",
    "With direct ingestion, you can directly add, update, or delete files in a knowledge base in a single action and your knowledge base can have access to documents without the need to sync.\n",
    "\n",
    "For S3 data sources, any changes that you index into the knowledge base directly aren't reflected in the S3 location. You can use these API operations to make changes to your knowledge base immediately available in a single step. However, you should follow up by making the same changes in your S3 location so that they aren't overwritten the next time you sync your data source.\n",
    "\n",
    "This notebook provides sample code for ingesting documents directly into Amazon Bedrock Knowledgebases using a *Custom* datasource."
   ]
  },
  {
   "cell_type": "markdown",
   "id": "fb106440",
   "metadata": {},
   "source": [
    "### 1. Import libraries"
   ]
  },
  {
   "cell_type": "code",
   "execution_count": 2,
   "id": "23a9c7ad",
   "metadata": {},
   "outputs": [
    {
     "name": "stdout",
     "output_type": "stream",
     "text": [
      "Note: you may need to restart the kernel to use updated packages.\n"
     ]
    },
    {
     "name": "stderr",
     "output_type": "stream",
     "text": [
      "\n",
      "[notice] A new release of pip is available: 24.3.1 -> 25.0.1\n",
      "[notice] To update, run: python.exe -m pip install --upgrade pip\n",
      "ERROR: Could not open requirements file: [Errno 2] No such file or directory: '../requirements.txt'\n"
     ]
    }
   ],
   "source": [
    "%pip install --force-reinstall -q -r ../requirements.txt"
   ]
  },
  {
   "cell_type": "code",
   "execution_count": 3,
   "id": "bd79a9cf",
   "metadata": {},
   "outputs": [
    {
     "data": {
      "text/html": [
       "<script>Jupyter.notebook.kernel.restart()</script>"
      ],
      "text/plain": [
       "<IPython.core.display.HTML object>"
      ]
     },
     "execution_count": 3,
     "metadata": {},
     "output_type": "execute_result"
    }
   ],
   "source": [
    "# restart kernel\n",
    "from IPython.core.display import HTML\n",
    "HTML(\"<script>Jupyter.notebook.kernel.restart()</script>\")"
   ]
  },
  {
   "cell_type": "code",
   "execution_count": 4,
   "id": "f6c4ab18",
   "metadata": {},
   "outputs": [],
   "source": [
    "import warnings\n",
    "warnings.filterwarnings('ignore')"
   ]
  },
  {
   "cell_type": "code",
   "execution_count": 5,
   "id": "19fdbbce",
   "metadata": {},
   "outputs": [],
   "source": [
    "import boto3\n",
    "import os\n",
    "from utils.knowledge_base import BedrockKnowledgeBase\n",
    "from utils.knowledge_base import interactive_sleep\n",
    "import time\n",
    "import base64\n",
    "\n",
    "os.environ['AWS_DEFAULT_PROFILE'] = \"genai-demo-admin\"\n",
    "\n",
    "bedrock_agent_build_time_client = boto3.client(\"bedrock-agent\")\n",
    "bedrock_agent_runtime_client = boto3.client('bedrock-agent-runtime') \n",
    "session = boto3.session.Session()\n",
    "region =  session.region_name\n",
    "\n",
    "# Get the current timestamp\n",
    "current_time = time.time()\n",
    "\n",
    "# Format the timestamp as a string\n",
    "timestamp_str = time.strftime(\"%Y%m%d%H%M%S\", time.localtime(current_time))[-7:]\n",
    "# Create the suffix using the timestamp\n",
    "suffix = f\"{timestamp_str}\""
   ]
  },
  {
   "cell_type": "markdown",
   "id": "7d1234cc",
   "metadata": {},
   "source": [
    "### 2. Create a Bedrock Knowledgebase"
   ]
  },
  {
   "cell_type": "markdown",
   "id": "d6952e32",
   "metadata": {},
   "source": [
    "In this step we will create a Bedrock knowledgebase with a *Custom* datasource."
   ]
  },
  {
   "cell_type": "code",
   "execution_count": 6,
   "id": "d9b59cd1",
   "metadata": {},
   "outputs": [
    {
     "name": "stdout",
     "output_type": "stream",
     "text": [
      "========================================================================================\n",
      "Step 1 - Creating or retrieving S3 bucket(s) for Knowledge Base documents\n",
      "[]\n",
      "buckets_to_check:  []\n",
      "========================================================================================\n",
      "Step 2 - Creating Knowledge Base Execution Role (AmazonBedrockExecutionRoleForKnowledgeBase_4185235-f) and Policies\n",
      "========================================================================================\n",
      "Step 3 - Creating OSS encryption, network and data access policies\n",
      "========================================================================================\n",
      "Step 4 - Creating OSS Collection (this step takes a couple of minutes to complete)\n",
      "{ 'ResponseMetadata': { 'HTTPHeaders': { 'connection': 'keep-alive',\n",
      "                                         'content-length': '320',\n",
      "                                         'content-type': 'application/x-amz-json-1.0',\n",
      "                                         'date': 'Fri, 14 Feb 2025 18:52:44 '\n",
      "                                                 'GMT',\n",
      "                                         'x-amzn-requestid': 'e6a79279-bc26-4093-91a9-ddb81758a315'},\n",
      "                        'HTTPStatusCode': 200,\n",
      "                        'RequestId': 'e6a79279-bc26-4093-91a9-ddb81758a315',\n",
      "                        'RetryAttempts': 0},\n",
      "  'createCollectionDetail': { 'arn': 'arn:aws:aoss:us-east-1:975050363991:collection/hcqon05i3wdyhd4hgyqf',\n",
      "                              'createdDate': 1739559163894,\n",
      "                              'id': 'hcqon05i3wdyhd4hgyqf',\n",
      "                              'kmsKeyArn': 'auto',\n",
      "                              'lastModifiedDate': 1739559163894,\n",
      "                              'name': 'bedrock-sample-rag-4185235-f',\n",
      "                              'standbyReplicas': 'ENABLED',\n",
      "                              'status': 'CREATING',\n",
      "                              'type': 'VECTORSEARCH'}}\n",
      "hcqon05i3wdyhd4hgyqf.us-east-1.aoss.amazonaws.com\n",
      "Creating collection...\n",
      "..............................\n",
      "Collection successfully created:\n",
      "[ { 'arn': 'arn:aws:aoss:us-east-1:975050363991:collection/hcqon05i3wdyhd4hgyqf',\n",
      "    'collectionEndpoint': 'https://hcqon05i3wdyhd4hgyqf.us-east-1.aoss.amazonaws.com',\n",
      "    'createdDate': 1739559163894,\n",
      "    'dashboardEndpoint': 'https://hcqon05i3wdyhd4hgyqf.us-east-1.aoss.amazonaws.com/_dashboards',\n",
      "    'id': 'hcqon05i3wdyhd4hgyqf',\n",
      "    'kmsKeyArn': 'auto',\n",
      "    'lastModifiedDate': 1739559188268,\n",
      "    'name': 'bedrock-sample-rag-4185235-f',\n",
      "    'standbyReplicas': 'ENABLED',\n",
      "    'status': 'ACTIVE',\n",
      "    'type': 'VECTORSEARCH'}]\n",
      "Opensearch serverless arn:  arn:aws:iam::975050363991:policy/AmazonBedrockOSSPolicyForKnowledgeBase_4185235-f\n",
      "Sleeping for a minute to ensure data access rules have been enforced\n",
      "========================================================================================\n",
      "Step 5 - Creating OSS Vector Index\n",
      "\n",
      "Creating index:\n",
      "{ 'acknowledged': True,\n",
      "  'index': 'bedrock-sample-rag-index-4185235-f',\n",
      "  'shards_acknowledged': True}\n",
      "========================================================================================\n",
      "Step 6 - Will create Lambda Function if chunking strategy selected as CUSTOM\n",
      "Not creating lambda function as chunking strategy is FIXED_SIZE\n",
      "========================================================================================\n",
      "Step 7 - Creating Knowledge Base\n",
      "{ 'createdAt': datetime.datetime(2025, 2, 14, 18, 55, 16, 603708, tzinfo=tzutc()),\n",
      "  'description': 'Multi data source knowledge base.',\n",
      "  'knowledgeBaseArn': 'arn:aws:bedrock:us-east-1:975050363991:knowledge-base/LIYDJAP04Q',\n",
      "  'knowledgeBaseConfiguration': { 'type': 'VECTOR',\n",
      "                                  'vectorKnowledgeBaseConfiguration': { 'embeddingModelArn': 'arn:aws:bedrock:us-east-1::foundation-model/amazon.titan-embed-text-v2:0'}},\n",
      "  'knowledgeBaseId': 'LIYDJAP04Q',\n",
      "  'name': 'bedrock-sample-knowledge-base-4185235',\n",
      "  'roleArn': 'arn:aws:iam::975050363991:role/AmazonBedrockExecutionRoleForKnowledgeBase_4185235-f',\n",
      "  'status': 'CREATING',\n",
      "  'storageConfiguration': { 'opensearchServerlessConfiguration': { 'collectionArn': 'arn:aws:aoss:us-east-1:975050363991:collection/hcqon05i3wdyhd4hgyqf',\n",
      "                                                                   'fieldMapping': { 'metadataField': 'text-metadata',\n",
      "                                                                                     'textField': 'text',\n",
      "                                                                                     'vectorField': 'vector'},\n",
      "                                                                   'vectorIndexName': 'bedrock-sample-rag-index-4185235-f'},\n",
      "                            'type': 'OPENSEARCH_SERVERLESS'},\n",
      "  'updatedAt': datetime.datetime(2025, 2, 14, 18, 55, 16, 603708, tzinfo=tzutc())}\n",
      "Creating Data Sources\n",
      "{ 'createdAt': datetime.datetime(2025, 2, 14, 18, 55, 16, 603708, tzinfo=tzutc()),\n",
      "  'description': 'Multi data source knowledge base.',\n",
      "  'knowledgeBaseArn': 'arn:aws:bedrock:us-east-1:975050363991:knowledge-base/LIYDJAP04Q',\n",
      "  'knowledgeBaseConfiguration': { 'type': 'VECTOR',\n",
      "                                  'vectorKnowledgeBaseConfiguration': { 'embeddingModelArn': 'arn:aws:bedrock:us-east-1::foundation-model/amazon.titan-embed-text-v2:0'}},\n",
      "  'knowledgeBaseId': 'LIYDJAP04Q',\n",
      "  'name': 'bedrock-sample-knowledge-base-4185235',\n",
      "  'roleArn': 'arn:aws:iam::975050363991:role/AmazonBedrockExecutionRoleForKnowledgeBase_4185235-f',\n",
      "  'status': 'ACTIVE',\n",
      "  'storageConfiguration': { 'opensearchServerlessConfiguration': { 'collectionArn': 'arn:aws:aoss:us-east-1:975050363991:collection/hcqon05i3wdyhd4hgyqf',\n",
      "                                                                   'fieldMapping': { 'metadataField': 'text-metadata',\n",
      "                                                                                     'textField': 'text',\n",
      "                                                                                     'vectorField': 'vector'},\n",
      "                                                                   'vectorIndexName': 'bedrock-sample-rag-index-4185235-f'},\n",
      "                            'type': 'OPENSEARCH_SERVERLESS'},\n",
      "  'updatedAt': datetime.datetime(2025, 2, 14, 18, 55, 16, 603708, tzinfo=tzutc())}\n",
      "Creating Data Sources\n",
      "============Chunking config========\n",
      " {'chunkingConfiguration': {'chunkingStrategy': 'FIXED_SIZE', 'fixedSizeChunkingConfiguration': {'maxTokens': 300, 'overlapPercentage': 20}}}\n",
      "1 data source: CUSTOM\n",
      "{ 'createdAt': datetime.datetime(2025, 2, 14, 18, 55, 19, 424325, tzinfo=tzutc()),\n",
      "  'dataDeletionPolicy': 'DELETE',\n",
      "  'dataSourceConfiguration': {'type': 'CUSTOM'},\n",
      "  'dataSourceId': 'XYXODTK3OK',\n",
      "  'description': 'Multi data source knowledge base.',\n",
      "  'knowledgeBaseId': 'LIYDJAP04Q',\n",
      "  'name': 'LIYDJAP04Q-custom',\n",
      "  'status': 'AVAILABLE',\n",
      "  'updatedAt': datetime.datetime(2025, 2, 14, 18, 55, 19, 424325, tzinfo=tzutc()),\n",
      "  'vectorIngestionConfiguration': { 'chunkingConfiguration': { 'chunkingStrategy': 'FIXED_SIZE',\n",
      "                                                               'fixedSizeChunkingConfiguration': { 'maxTokens': 300,\n",
      "                                                                                                   'overlapPercentage': 20}}}}\n",
      "[ { 'createdAt': datetime.datetime(2025, 2, 14, 18, 55, 19, 424325, tzinfo=tzutc()),\n",
      "    'dataDeletionPolicy': 'DELETE',\n",
      "    'dataSourceConfiguration': {'type': 'CUSTOM'},\n",
      "    'dataSourceId': 'XYXODTK3OK',\n",
      "    'description': 'Multi data source knowledge base.',\n",
      "    'knowledgeBaseId': 'LIYDJAP04Q',\n",
      "    'name': 'LIYDJAP04Q-custom',\n",
      "    'status': 'AVAILABLE',\n",
      "    'updatedAt': datetime.datetime(2025, 2, 14, 18, 55, 19, 424325, tzinfo=tzutc()),\n",
      "    'vectorIngestionConfiguration': { 'chunkingConfiguration': { 'chunkingStrategy': 'FIXED_SIZE',\n",
      "                                                                 'fixedSizeChunkingConfiguration': { 'maxTokens': 300,\n",
      "                                                                                                     'overlapPercentage': 20}}}}]\n",
      "========================================================================================\n",
      "knowledge_base_id: LIYDJAP04Q\n",
      "data_source_id: XYXODTK3OK\n"
     ]
    }
   ],
   "source": [
    "knowledge_base_name = f\"bedrock-sample-knowledge-base-{suffix}\"\n",
    "knowledge_base_description = \"Multi data source knowledge base.\"\n",
    "data_sources = [\n",
    "    {\n",
    "        \"type\": \"CUSTOM\",\n",
    "        \"description\": \"Custom data source for Bedrock knowledgebase\",\n",
    "    }\n",
    "]\n",
    "\n",
    "bedrock_knowledge_base = BedrockKnowledgeBase(\n",
    "    kb_name=f'{knowledge_base_name}',\n",
    "    kb_description=knowledge_base_description,\n",
    "    data_sources=data_sources,\n",
    "    chunking_strategy = \"FIXED_SIZE\", \n",
    "    suffix = f'{suffix}-f'\n",
    ")\n",
    "knowledge_base_id = bedrock_knowledge_base.knowledge_base[\"knowledgeBaseId\"]\n",
    "print(\"knowledge_base_id: \" + knowledge_base_id)\n",
    "\n",
    "for data_source in bedrock_knowledge_base.data_source:\n",
    "    data_source_id = data_source[\"dataSourceId\"]\n",
    "    print(\"data_source_id: \" + data_source_id)"
   ]
  },
  {
   "cell_type": "markdown",
   "id": "c6650f79",
   "metadata": {},
   "source": [
    "### 3. Ingest a sample document into Bedrock knowledgebase"
   ]
  },
  {
   "cell_type": "markdown",
   "id": "e42f1df8",
   "metadata": {},
   "source": [
    "In this step we will ingest a sample pdf document."
   ]
  },
  {
   "cell_type": "code",
   "execution_count": 7,
   "id": "af29bab9",
   "metadata": {},
   "outputs": [],
   "source": [
    "with open(\"everything-about-project-kuiper.pdf\", \"rb\") as image_file:\n",
    "    encoded_string = base64.b64encode(image_file.read())"
   ]
  },
  {
   "cell_type": "code",
   "execution_count": 12,
   "id": "cee18e86",
   "metadata": {},
   "outputs": [
    {
     "data": {
      "text/plain": [
       "{'ResponseMetadata': {'RequestId': '6699af3b-f2e4-4dab-b562-5f00553a5a7a',\n",
       "  'HTTPStatusCode': 202,\n",
       "  'HTTPHeaders': {'date': 'Fri, 14 Feb 2025 18:56:22 GMT',\n",
       "   'content-type': 'application/json',\n",
       "   'content-length': '212',\n",
       "   'connection': 'keep-alive',\n",
       "   'x-amzn-requestid': '6699af3b-f2e4-4dab-b562-5f00553a5a7a',\n",
       "   'x-amz-apigw-id': 'F_O5bFPboAMEG4w=',\n",
       "   'x-amzn-trace-id': 'Root=1-67af91d4-35beaf2d05b74cbc79f80ae4'},\n",
       "  'RetryAttempts': 0},\n",
       " 'documentDetails': [{'dataSourceId': 'XYXODTK3OK',\n",
       "   'identifier': {'custom': {'id': 'doc-2'}, 'dataSourceType': 'CUSTOM'},\n",
       "   'knowledgeBaseId': 'LIYDJAP04Q',\n",
       "   'status': 'STARTING',\n",
       "   'updatedAt': datetime.datetime(2025, 2, 14, 18, 56, 22, 178762, tzinfo=tzutc())}]}"
      ]
     },
     "execution_count": 12,
     "metadata": {},
     "output_type": "execute_result"
    }
   ],
   "source": [
    "bedrock_agent_build_time_client.ingest_knowledge_base_documents(\n",
    "    knowledgeBaseId=knowledge_base_id,\n",
    "    dataSourceId=data_source_id,\n",
    "    documents=[\n",
    "        {\n",
    "            \"content\":{\n",
    "                \"dataSourceType\": \"CUSTOM\",\n",
    "                \"custom\": {\n",
    "                    \"sourceType\": \"IN_LINE\",\n",
    "                    \"customDocumentIdentifier\": {\n",
    "                        'id': 'doc-2'\n",
    "                    },\n",
    "                    \"inlineContent\": {\n",
    "                        \"byteContent\":{\n",
    "                            \"data\": str(encoded_string),\n",
    "                            \"mimeType\": \"application/pdf\"\n",
    "                        },\n",
    "                        \"type\": \"BYTE\"\n",
    "                    },\n",
    "                }\n",
    "            },\n",
    "            \"metadata\":{\n",
    "                \"type\": \"IN_LINE_ATTRIBUTE\",\n",
    "                \"inlineAttributes\": [\n",
    "                    {\n",
    "                        \"key\": \"attribute1\",\n",
    "                        \"value\": {\n",
    "                            \"type\": \"STRING\",\n",
    "                            \"stringValue\": \"value2\"                           \n",
    "                        }\n",
    "                    }\n",
    "                ]\n",
    "            }\n",
    "        },\n",
    "    ],\n",
    ")\n",
    "print(\"Sleeping for a minute to let the document ingestion complete.\")\n",
    "interactive_sleep(60)"
   ]
  },
  {
   "cell_type": "markdown",
   "id": "ba17b80e",
   "metadata": {},
   "source": [
    "### 4. Test Knowledgebase"
   ]
  },
  {
   "cell_type": "markdown",
   "id": "5f6a0ccc",
   "metadata": {},
   "source": [
    "In this step we will test the knowledgebase with a sample question related to the document ingested in the above step."
   ]
  },
  {
   "cell_type": "code",
   "execution_count": 9,
   "id": "4e087005",
   "metadata": {},
   "outputs": [],
   "source": [
    "query = \"What is Kuiper?\""
   ]
  },
  {
   "cell_type": "code",
   "execution_count": 13,
   "id": "1a277ae9",
   "metadata": {},
   "outputs": [
    {
     "name": "stdout",
     "output_type": "stream",
     "text": [
      "Kuiper is a region of the outer solar system that lies beyond the orbit of Neptune. It is a disc-shaped region consisting mainly of small bodies or remnants from the solar system's formation. Many of these objects are composed largely of frozen gases like methane, ammonia and water. The Kuiper Belt is similar to the asteroid belt, but it is much larger and massier. It extends from about 30 AU (the orbit of Neptune) to about 55 AU from the Sun. The first Kuiper Belt Object (KBO) was discovered in 1992, with the discovery of other dwarf planets like Pluto, Haumea, Makemake and Eris in subsequent years.\n",
      "\n"
     ]
    }
   ],
   "source": [
    "foundation_model = \"anthropic.claude-3-sonnet-20240229-v1:0\"\n",
    "\n",
    "response = bedrock_agent_runtime_client.retrieve_and_generate(\n",
    "    input={\n",
    "        \"text\": query\n",
    "    },\n",
    "    retrieveAndGenerateConfiguration={\n",
    "        \"type\": \"KNOWLEDGE_BASE\",\n",
    "        \"knowledgeBaseConfiguration\": {\n",
    "            'knowledgeBaseId': knowledge_base_id,\n",
    "            \"modelArn\": \"arn:aws:bedrock:{}::foundation-model/{}\".format(region, foundation_model),\n",
    "            \"retrievalConfiguration\": {\n",
    "                \"vectorSearchConfiguration\": {\n",
    "                    \"numberOfResults\":5\n",
    "                } \n",
    "            }\n",
    "        }\n",
    "    }\n",
    ")\n",
    "\n",
    "print(response['output']['text'],end='\\n'*2)"
   ]
  },
  {
   "cell_type": "markdown",
   "id": "bb7876ae",
   "metadata": {},
   "source": [
    "### 5. Clean up\n",
    "Let's delete all the resources to avoid unnecessary costs."
   ]
  },
  {
   "cell_type": "code",
   "execution_count": 15,
   "id": "623b2c07",
   "metadata": {},
   "outputs": [
    {
     "name": "stdout",
     "output_type": "stream",
     "text": [
      "===============================Knowledge base with custom datasource==============================\n",
      "\n",
      "======== Data source deleted =========\n",
      "======== Knowledge base deleted =========\n",
      "======== Vector Index, collection and associated policies deleted =========\n",
      "======== All IAM roles and policies deleted =========\n"
     ]
    }
   ],
   "source": [
    "# delete role and policies\n",
    "print(\"===============================Knowledge base with custom datasource==============================\\n\")\n",
    "bedrock_knowledge_base.delete_kb(delete_s3_bucket=True, delete_iam_roles_and_policies=True)"
   ]
  }
 ],
 "metadata": {
  "kernelspec": {
   "display_name": "kb-direct-ingestion",
   "language": "python",
   "name": "python3"
  },
  "language_info": {
   "codemirror_mode": {
    "name": "ipython",
    "version": 3
   },
   "file_extension": ".py",
   "mimetype": "text/x-python",
   "name": "python",
   "nbconvert_exporter": "python",
   "pygments_lexer": "ipython3",
   "version": "3.12.6"
  }
 },
 "nbformat": 4,
 "nbformat_minor": 5
}
