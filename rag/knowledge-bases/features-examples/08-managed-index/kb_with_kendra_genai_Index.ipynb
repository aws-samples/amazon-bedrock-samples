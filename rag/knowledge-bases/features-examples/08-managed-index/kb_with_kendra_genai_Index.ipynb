{
 "cells": [
  {
   "cell_type": "markdown",
   "id": "2fdc0576-8303-4ba3-812e-65ec8847a252",
   "metadata": {
    "tags": []
   },
   "source": [
    "# Amazon Bedrock Knowledge base with Kendra GenAI index\n",
    "\n",
    "The new Amazon Kendra GenAI Enterprise Edition index offers the highest accuracy for the Retrieve API operation and for Retrieval Augmented Generation (RAG) use cases. It's powered by the latest information retrieval technologies—like hybrid search (keyword and vector), semantic embedding, and re-ranker models—and has been tested across a variety of datasets. Amazon Kendra GenAI Enterprise Edition index enables mobility of your indexed data across AWS generative AI services. With this functionality, you can seamlessly reuse your investments without having to rebuild indexes. For more details on the new index type see [kendra index types]( https://docs.aws.amazon.com/kendra/latest/dg/hiw-index-types.html#kendra-gen-ai-index)\n",
    "\n",
    "\n",
    "You can now use Kendra in an Amazon Bedrock knowledge base as a managed retriever, and integrate it with Amazon Bedrock tools like agents and prompt flows to build advanced AI assistants with the new Amazon Kendra GenAI Enterprise Edition index.\n"
   ]
  },
  {
   "cell_type": "markdown",
   "id": "03afb33f-248f-404a-b817-3fd8d14b5447",
   "metadata": {},
   "source": [
    "## Notebook Overview\n",
    "\n",
    "In this notebook, will create a Bedrock Knowledge base with an associated Kendra-GenAI index and test the retrieval with the familiar Bedrock __retrieve__ and __retrieve_and_generate__ api. We will first create the policies and roles needed for the kendra index and the Bedrock Knowledge Base. Then we will move onto creating the Kendra-GenAI index and Bedrock Knowledge base, associating our newly created Kendra GenAI index with the KB. \n",
    "\n",
    "For more details See [building a Bedrock Knowledge Base with a Kendra-GenAI index](https://docs.aws.amazon.com/bedrock/latest/userguide/knowledge-base-kendra-genai-index-create.html)"
   ]
  },
  {
   "cell_type": "markdown",
   "id": "6454cb28",
   "metadata": {},
   "source": [
    "## 1. Setup\n",
    "Before running the rest of this notebook, you'll need to run the cells below to (ensure necessary libraries are installed and) connect to Bedrock.\n",
    "\n",
    "Please ignore any pip dependency error (if you see any while installing libraries)"
   ]
  },
  {
   "cell_type": "code",
   "execution_count": null,
   "id": "86fec2de",
   "metadata": {},
   "outputs": [],
   "source": [
    "%pip install --upgrade pip --quiet\n",
    "%pip install -r ../requirements.txt --no-deps --quiet\n",
    "%pip install -r ../requirements.txt --upgrade --quiet"
   ]
  },
  {
   "cell_type": "code",
   "execution_count": null,
   "id": "ffcff79d",
   "metadata": {},
   "outputs": [],
   "source": [
    "# restart kernel\n",
    "from IPython.core.display import HTML\n",
    "HTML(\"<script>Jupyter.notebook.kernel.restart()</script>\")"
   ]
  },
  {
   "cell_type": "code",
   "execution_count": null,
   "id": "cbefbeb6",
   "metadata": {},
   "outputs": [],
   "source": [
    "import boto3\n",
    "print(boto3.__version__)"
   ]
  },
  {
   "cell_type": "code",
   "execution_count": null,
   "id": "1eea88d5",
   "metadata": {},
   "outputs": [],
   "source": [
    "import warnings\n",
    "warnings.filterwarnings('ignore')"
   ]
  },
  {
   "cell_type": "code",
   "execution_count": null,
   "id": "57215ea0",
   "metadata": {},
   "outputs": [],
   "source": [
    "import os\n",
    "import sys\n",
    "import time\n",
    "import boto3\n",
    "import logging\n",
    "import pprint\n",
    "import json\n",
    "\n",
    "# Set the path to import module\n",
    "from pathlib import Path\n",
    "current_path = Path().resolve()\n",
    "current_path = current_path.parent\n",
    "if str(current_path) not in sys.path:\n",
    "    sys.path.append(str(current_path))\n",
    "# Print sys.path to verify\n",
    "# print(sys.path)\n",
    "\n",
    "from utils.managed_knowledge_base import BedrockManagedKnowledgeBase\n",
    "from utils.knowledge_base_operators import create_kedra_genai_index_role, create_bucket, upload_to_s3"
   ]
  },
  {
   "cell_type": "code",
   "execution_count": null,
   "id": "0c221d50",
   "metadata": {},
   "outputs": [],
   "source": [
    "#Clients\n",
    "s3_client = boto3.client('s3')\n",
    "kendra_client=boto3.client('kendra')\n",
    "sts_client = boto3.client('sts')\n",
    "session = boto3.session.Session()\n",
    "iam_client = session.client('iam')\n",
    "region =  session.region_name\n",
    "account_id = sts_client.get_caller_identity()[\"Account\"]\n",
    "bedrock_agent_client = boto3.client('bedrock-agent')\n",
    "bedrock_agent_runtime_client = boto3.client('bedrock-agent-runtime') \n",
    "logging.basicConfig(format='[%(asctime)s] p%(process)s {%(filename)s:%(lineno)d} %(levelname)s - %(message)s', level=logging.INFO)\n",
    "logger = logging.getLogger(__name__)\n",
    "region, account_id"
   ]
  },
  {
   "cell_type": "markdown",
   "id": "7d507b55-7b53-48c4-89b5-66dfd1bf8c77",
   "metadata": {
    "tags": []
   },
   "source": [
    "## 2. Create Kendra genAI index\n",
    "\n",
    "Note: If you already have a Kendra-Q index created, you can proceed to the __Create Knowledge Base__ section using your kendra_index_id in the creations process."
   ]
  },
  {
   "cell_type": "code",
   "execution_count": null,
   "id": "b1e3bb1f",
   "metadata": {},
   "outputs": [],
   "source": [
    "kendra_role_name=f'kendra-role-genai-{account_id}'\n",
    "kendra_ds_name=f'kendra-ds-genai-index-kb'\n",
    "bucket_name=f'kendra-kb--genai-datasource-{account_id}'"
   ]
  },
  {
   "cell_type": "markdown",
   "id": "bb7c56db-bbae-41b5-95c9-9d04381a72cf",
   "metadata": {
    "tags": []
   },
   "source": [
    "### Create role and policies needed for Kendra-GenAI index"
   ]
  },
  {
   "cell_type": "code",
   "execution_count": null,
   "id": "86896d3d",
   "metadata": {},
   "outputs": [],
   "source": [
    "kedra_genai_index_role = create_kedra_genai_index_role(kendra_role_name = kendra_role_name, bucket_name=bucket_name, account_id = account_id)\n",
    "kedra_genai_index_role_arn = kedra_genai_index_role['Role']['Arn']"
   ]
  },
  {
   "cell_type": "markdown",
   "id": "f23f8be5",
   "metadata": {},
   "source": [
    "### Creating a Kendra-GenAI Index\n",
    "\n",
    "For Amazon Bedrock knowledge bases you can leverage an already created Kendra-GenAI index or create your own. For more details on creating an Index see [Kendra Index Creation](\n",
    "https://boto3.amazonaws.com/v1/documentation/api/latest/reference/services/kendra/client/create_index.html). In this notebook, we will create a new index."
   ]
  },
  {
   "cell_type": "markdown",
   "id": "48f94c3d",
   "metadata": {},
   "source": [
    " \n",
    "<div class=\"alert alert-block alert-info\">\n",
    "<b>Note:</b>  The index creation process may take up to 40 minutes to complete.\n"
   ]
  },
  {
   "cell_type": "code",
   "execution_count": null,
   "id": "a382e6cb",
   "metadata": {},
   "outputs": [],
   "source": [
    "response = kendra_client.create_index(\n",
    "    Name= 'sandeep-index', # enter a name for the index as a str\n",
    "    Edition='GEN_AI_ENTERPRISE_EDITION',\n",
    "    RoleArn=kedra_genai_index_role_arn)\n"
   ]
  },
  {
   "cell_type": "markdown",
   "id": "630a5572",
   "metadata": {},
   "source": [
    "Once Index is created successfully, let's grab the Kendra index id"
   ]
  },
  {
   "cell_type": "code",
   "execution_count": null,
   "id": "6e062e14",
   "metadata": {},
   "outputs": [],
   "source": [
    "kendra_index_id=response['Id']\n",
    "print(kendra_index_id)"
   ]
  },
  {
   "cell_type": "markdown",
   "id": "1cd68007",
   "metadata": {},
   "source": [
    "### Data source creation and ingestion"
   ]
  },
  {
   "cell_type": "code",
   "execution_count": null,
   "id": "4de3f002",
   "metadata": {},
   "outputs": [],
   "source": [
    "# Create S3 bucket\n",
    "response=create_bucket(bucket_name)\n",
    "\n",
    "# Upload the data to S3 bucket\n",
    "upload_to_s3(\"../synthetic_dataset\", bucket_name)"
   ]
  },
  {
   "cell_type": "code",
   "execution_count": null,
   "id": "cca7d2fa",
   "metadata": {},
   "outputs": [],
   "source": [
    "# create s3 data source\n",
    "response = kendra_client.create_data_source(\n",
    "    Name=kendra_ds_name,\n",
    "    IndexId=kendra_index_id,\n",
    "    Type='S3',\n",
    "    RoleArn=kedra_genai_index_role_arn,\n",
    "    Configuration={\n",
    "        'S3Configuration': {\n",
    "            'BucketName': bucket_name \n",
    "        }})"
   ]
  },
  {
   "cell_type": "code",
   "execution_count": null,
   "id": "1d14fc0f",
   "metadata": {},
   "outputs": [],
   "source": [
    "kendra_data_source_id=response['Id']\n",
    "kendra_data_source_id"
   ]
  },
  {
   "cell_type": "code",
   "execution_count": null,
   "id": "7e67b7d7-1b62-4adc-a537-439b2e888966",
   "metadata": {
    "tags": []
   },
   "outputs": [],
   "source": [
    "# create data source sync job\n",
    "\n",
    "response = kendra_client.start_data_source_sync_job(\n",
    "    Id=kendra_data_source_id,\n",
    "    IndexId=kendra_index_id\n",
    ")\n",
    "\n",
    "time.sleep(60)"
   ]
  },
  {
   "cell_type": "markdown",
   "id": "4ee3e92d-8923-49d5-88fb-94161bab0d91",
   "metadata": {
    "tags": []
   },
   "source": [
    "## 3. Create Knowledge Base with Kendra GenAI Index\n",
    "\n",
    "Here we will create the policies and roles for the Amazon Bedrock Knowledge Base. The we will define a helper function with the new __knowledgeBaseConfiguration__ values. An example is show below:\n",
    "\n",
    "knowledgeBaseConfiguration = {\n",
    "            \"kendraKnowledgeBaseConfiguration\": {\n",
    "               \"kendraIndexArn\": f\"arn:aws:kendra:us-east-1:{acct_id}:index/{kendra_index_id}\"\n",
    "        },\n",
    "               \"type\": \"KENDRA\"\n",
    "             } "
   ]
  },
  {
   "cell_type": "code",
   "execution_count": null,
   "id": "f75615c2",
   "metadata": {},
   "outputs": [],
   "source": [
    "# [OPTINAL]: Uncomment this cell if you want to use existing Kendra GenAI index\n",
    "\n",
    "kendra_index_id = '<insert-your-kendra-index-existing-id' \n",
    "kendra_data_source_id ='<insert-your-kendra-data-source-id>' "
   ]
  },
  {
   "cell_type": "code",
   "execution_count": null,
   "id": "9e9e3ac6",
   "metadata": {},
   "outputs": [],
   "source": [
    "import time\n",
    "\n",
    "# Get the current timestamp\n",
    "current_time = time.time()\n",
    "\n",
    "# Format the timestamp as a string\n",
    "timestamp_str = time.strftime(\"%Y%m%d%H%M%S\", time.localtime(current_time))[-7:]\n",
    "# Create the suffix using the timestamp\n",
    "suffix = f\"{timestamp_str}\""
   ]
  },
  {
   "cell_type": "code",
   "execution_count": null,
   "id": "398c15fa",
   "metadata": {},
   "outputs": [],
   "source": [
    "knowledge_base_name = 'kb-with-kendra-index-filters-kb'\n",
    "knowledge_base_description = \"Knowledge Base with Kendra GenAI index.\"\n",
    "foundation_model = \"anthropic.claude-3-sonnet-20240229-v1:0\"\n",
    "\n",
    "# kb Configuration\n",
    "kbConfigParam = {\n",
    "                \"kendraKnowledgeBaseConfiguration\": \n",
    "                    { \n",
    "                        \"kendraIndexArn\": f\"arn:aws:kendra:{region}:{account_id}:index/{kendra_index_id}\"\n",
    "                    },\n",
    "                    \"type\": \"KENDRA\"\n",
    "                }"
   ]
  },
  {
   "cell_type": "code",
   "execution_count": null,
   "id": "26469f48",
   "metadata": {},
   "outputs": [],
   "source": [
    "knowledge_base = BedrockManagedKnowledgeBase(\n",
    "    kb_name=f'{knowledge_base_name}',\n",
    "    kb_description=knowledge_base_description,\n",
    "    kendra_index=kendra_index_id,\n",
    "    kbConfigParam = kbConfigParam,\n",
    "    suffix= f'{suffix}-f'\n",
    ")"
   ]
  },
  {
   "cell_type": "code",
   "execution_count": null,
   "id": "75884239",
   "metadata": {},
   "outputs": [],
   "source": [
    "# keep the kb_id for invocation later in the invoke request\n",
    "kb_id = knowledge_base.get_knowledge_base_id()"
   ]
  },
  {
   "cell_type": "markdown",
   "id": "92476d60-704c-4ece-b889-4997bd39da5b",
   "metadata": {
    "pycharm": {
     "name": "#%% md\n"
    }
   },
   "source": [
    "## 4. Testing the Kendra-GenAI Bedrock Knowledge Base\n",
    "Now that Knowledge Base with a kendra-GenAI index is available we can test it out using the [**retrieve**](https://boto3.amazonaws.com/v1/documentation/api/latest/reference/services/bedrock-agent-runtime/client/retrieve.html) and [**retrieve_and_generate**](https://boto3.amazonaws.com/v1/documentation/api/latest/reference/services/bedrock-agent-runtime/client/retrieve_and_generate.html) functions. \n",
    "\n"
   ]
  },
  {
   "cell_type": "markdown",
   "id": "370a02fb-fd95-4216-a878-d4e6ce6807f9",
   "metadata": {},
   "source": [
    "#### Testing Knowledge Base with Retrieve and Generate API\n",
    "\n",
    "Let's first test the knowledge base using the retrieve and generate API. With this API, Bedrock takes care of retrieving the necessary references from the knowledge base and generating the final answer using a Bedrock LLM."
   ]
  },
  {
   "cell_type": "code",
   "execution_count": null,
   "id": "e751a21a",
   "metadata": {},
   "outputs": [],
   "source": [
    "query = \"Provide a summary of consolidated statements of cash flows of Octank Financial for the fiscal years ended December 31, 2019?\""
   ]
  },
  {
   "cell_type": "code",
   "execution_count": null,
   "id": "5633b08c-960d-4a7a-8d66-a0c768e2b498",
   "metadata": {
    "tags": []
   },
   "outputs": [],
   "source": [
    "response = bedrock_agent_runtime_client.retrieve_and_generate(\n",
    "    input={\n",
    "        \"text\": query\n",
    "    },\n",
    "    retrieveAndGenerateConfiguration={\n",
    "        \"type\": \"KNOWLEDGE_BASE\",\n",
    "        \"knowledgeBaseConfiguration\": {\n",
    "            'knowledgeBaseId': kb_id,\n",
    "            \"modelArn\": f\"arn:aws:bedrock:{region}::foundation-model/{foundation_model}\",\n",
    "            \"retrievalConfiguration\": {\n",
    "                \"vectorSearchConfiguration\": {\n",
    "                    \"numberOfResults\":5\n",
    "                } \n",
    "            }\n",
    "        }\n",
    "    }\n",
    ")\n",
    "\n",
    "print(response['output']['text'],end='\\n'*2)"
   ]
  },
  {
   "cell_type": "markdown",
   "id": "716b7341-f4c8-41bb-8426-c6045241f727",
   "metadata": {},
   "source": [
    "As you can see, with the retrieve and generate API we get the final response directly and we don't see the different sources used to generate this response. Let's now retrieve the source information from the knowledge base with the retrieve API.\n",
    "\n",
    "#### Testing Knowledge Base with Retrieve API\n",
    "If you need an extra layer of control, you can retrieve the chuncks that best match your query using the retrieve API. In this setup, we can configure the desired number of results and control the final answer with your own application logic. The API then provides you with the matching content, its S3 location, the similarity score and the chunk metadata"
   ]
  },
  {
   "cell_type": "code",
   "execution_count": null,
   "id": "74dc963d-6519-4529-b254-399e260a1c1b",
   "metadata": {
    "pycharm": {
     "name": "#%%\n"
    },
    "tags": []
   },
   "outputs": [],
   "source": [
    "response_ret = bedrock_agent_runtime_client.retrieve(\n",
    "    knowledgeBaseId=kb_id,\n",
    "    nextToken='string',\n",
    "    retrievalConfiguration={\n",
    "        \"vectorSearchConfiguration\": {\n",
    "            \"numberOfResults\":3,\n",
    "        } \n",
    "    },\n",
    "    retrievalQuery={\n",
    "        'text': \"What is the patients name?\"\n",
    "    }\n",
    ")\n",
    "\n",
    "def response_print(retrieve_resp):\n",
    "    #structure 'retrievalResults': list of contents. Each list has content, location, score, metadata\n",
    "    for num,chunk in enumerate(response_ret['retrievalResults'],1):\n",
    "        print('-----------------------------------------------------------------------------------------')\n",
    "        print(f'Chunk {num}: ',chunk['content']['text'],end='\\n'*2)\n",
    "        print(f'Chunk {num} Location: ',chunk['location'],end='\\n'*2)\n",
    "        print(f'Chunk {num} Score: ',chunk['score'],end='\\n'*2)\n",
    "        print(f'Chunk {num} Metadata: ',chunk['metadata'],end='\\n'*2)\n",
    "\n",
    "response_print(response_ret)"
   ]
  },
  {
   "cell_type": "markdown",
   "id": "3c762a3f-cddb-402b-b493-7dc4332c1ef2",
   "metadata": {},
   "source": [
    " In this notebook, we created an Amazon Bedrock Knowledge Base with a Kendra-GenAI index and tested its functionality with the __retrieve__ and __retrieve_and_generate API__. We invite you to go deeper and experiment wih the benefits an Amazon Knowledge Base leveraging a kendra-GenAI index can bring to your use-case. For additional resources see [Amazon Bedrock Samples](https://github.com/aws-samples/amazon-bedrock-samples/tree/main/rag/knowledge-bases)"
   ]
  },
  {
   "cell_type": "markdown",
   "id": "b0a385fe",
   "metadata": {},
   "source": [
    "### Clean Up\n",
    "Please make sure to uncomment and run the below section to delete all the resources"
   ]
  },
  {
   "cell_type": "code",
   "execution_count": null,
   "id": "fed3d361",
   "metadata": {},
   "outputs": [],
   "source": [
    "# # Delete resources\n",
    "# print(\"===============================Deleteing resources ==============================\\n\")\n",
    "knowledge_base.delete_kb(delete_iam_roles_and_policies=True)"
   ]
  }
 ],
 "metadata": {
  "kernelspec": {
   "display_name": "Python 3",
   "language": "python",
   "name": "python3"
  },
  "language_info": {
   "codemirror_mode": {
    "name": "ipython",
    "version": 3
   },
   "file_extension": ".py",
   "mimetype": "text/x-python",
   "name": "python",
   "nbconvert_exporter": "python",
   "pygments_lexer": "ipython3",
   "version": "3.10.13"
  }
 },
 "nbformat": 4,
 "nbformat_minor": 5
}
