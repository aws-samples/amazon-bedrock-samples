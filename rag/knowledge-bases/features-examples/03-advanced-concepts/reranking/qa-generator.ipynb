{
 "cells": [
  {
   "cell_type": "markdown",
   "id": "a2171960-5609-44eb-a1e7-ca893fb4a7dc",
   "metadata": {},
   "source": [
    "# Use LLM to Generate Question And Answer For Q&A conversational chatbot"
   ]
  },
  {
   "cell_type": "code",
   "execution_count": 1,
   "id": "bdf214af-da9d-412c-b311-8c6ae04c3bfb",
   "metadata": {},
   "outputs": [],
   "source": [
    "%load_ext autoreload\n",
    "%autoreload 2"
   ]
  },
  {
   "cell_type": "code",
   "execution_count": null,
   "id": "b0cbc85b-2c57-489b-94a8-567d3c17a609",
   "metadata": {},
   "outputs": [],
   "source": [
    "import boto3\n",
    "import urllib.request\n",
    "import math\n",
    "from utils import helper"
   ]
  },
  {
   "cell_type": "code",
   "execution_count": null,
   "id": "4af21fc0-f395-4e60-9d55-ea8708f7168b",
   "metadata": {},
   "outputs": [],
   "source": [
    "bedrock_runtime = boto3.client(\"bedrock-runtime\")\n",
    "model_id = \"anthropic.claude-3-haiku-20240307-v1:0\""
   ]
  },
  {
   "cell_type": "code",
   "execution_count": null,
   "id": "e2e890d3-82d1-44a9-b7a3-b22f668ef767",
   "metadata": {},
   "outputs": [],
   "source": [
    "target_url = \"https://www.gutenberg.org/ebooks/64317.txt.utf-8\" # the great gatsby\n",
    "data = urllib.request.urlopen(target_url)\n",
    "my_texts = []\n",
    "for line in data:\n",
    "    my_texts.append(line.decode())"
   ]
  },
  {
   "cell_type": "code",
   "execution_count": null,
   "id": "06299edd-f55c-4514-80c7-8f7d55ecb277",
   "metadata": {},
   "outputs": [],
   "source": [
    "doc_size = 700 # size of the document to determine number of batches\n",
    "batches = math.ceil(len(my_texts) / doc_size)"
   ]
  },
  {
   "cell_type": "code",
   "execution_count": null,
   "id": "1093266f-beb1-40e7-99a5-1757e04b3e98",
   "metadata": {},
   "outputs": [],
   "source": [
    "start = 0\n",
    "data_samples = {}\n",
    "data_samples['question'] = []\n",
    "data_samples['ground_truth'] = []\n",
    "for batch in range(batches):\n",
    "    batch_text_arr = my_texts[start:start+doc_size]\n",
    "    batch_text = \"\".join(batch_text_arr)\n",
    "    start += doc_size\n",
    "    ds = helper.generate_questions(bedrock_runtime, model_id, batch_text)\n",
    "    data_samples['question'].extend(ds['question'])\n",
    "    data_samples['ground_truth'].extend(ds['ground_truth'])"
   ]
  },
  {
   "cell_type": "code",
   "execution_count": null,
   "id": "c5f3fcaf-a906-4f1d-b150-7232b964c870",
   "metadata": {},
   "outputs": [],
   "source": [
    "data_samples"
   ]
  },
  {
   "cell_type": "code",
   "execution_count": null,
   "id": "32ece810-2f44-4391-8926-060daa94d85c",
   "metadata": {},
   "outputs": [],
   "source": [
    "import json"
   ]
  },
  {
   "cell_type": "code",
   "execution_count": null,
   "id": "5fe10728-e36d-474a-8a7e-cc67cee57a83",
   "metadata": {},
   "outputs": [],
   "source": [
    "with open(\"data/qa_samples.json\", \"w\") as f:\n",
    "    f.write(json.dumps(data_samples))"
   ]
  },
  {
   "cell_type": "code",
   "execution_count": null,
   "id": "199f362c-e609-442f-841d-2a776d07339f",
   "metadata": {},
   "outputs": [],
   "source": [
    "batches"
   ]
  },
  {
   "cell_type": "code",
   "execution_count": null,
   "id": "8b0f7f68-ffcd-4ae2-9744-11d7dfcbd34a",
   "metadata": {},
   "outputs": [],
   "source": []
  }
 ],
 "metadata": {
  "kernelspec": {
   "display_name": "Python 3 (ipykernel)",
   "language": "python",
   "name": "python3"
  },
  "language_info": {
   "codemirror_mode": {
    "name": "ipython",
    "version": 3
   },
   "file_extension": ".py",
   "mimetype": "text/x-python",
   "name": "python",
   "nbconvert_exporter": "python",
   "pygments_lexer": "ipython3",
   "version": "3.10.13"
  }
 },
 "nbformat": 4,
 "nbformat_minor": 5
}
