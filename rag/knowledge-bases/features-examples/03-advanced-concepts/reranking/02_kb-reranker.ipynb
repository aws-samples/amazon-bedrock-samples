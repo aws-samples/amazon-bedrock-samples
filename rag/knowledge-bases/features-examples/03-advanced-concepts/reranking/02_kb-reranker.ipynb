{
 "cells": [
  {
   "cell_type": "markdown",
   "id": "0c28851c-774f-4c77-b0d5-417dc36abeaf",
   "metadata": {},
   "source": [
    "# Improving accuracy for RAG based applications using Knowledge Bases For Amazon Bedrock and a Re-ranking model \n",
    "\n",
    "<img src=\"img/bedrock-icon.png\" alt=\"bedrock\" style=\"width: 300px;\"/>\n",
    "\n",
    "## Overview\n",
    "\n",
    "When it comes to building a chatbot using GenAI LLMs, RAG is a popular architectural choice. It combines the strengths of knowledge base retrieval and generative models for text generation. Using RAG approach for building a chatbot has many advantages. For example, retrieving responses from its database before generating a response could provide more relevant and coherent responses. This helps improve the conversational flow. RAG also scales better with more data compared to pure generative models and it doesn’t require fine tuning of the model when new data is added to the knowledge base. Additionally, the retrieval component enables the model to incorporate external knowledge by retrieving relevant background information from its database. This approach helps provide factual, in-depth and knowledgeable responses.\n",
    "\n",
    "## RAG Challenges\n",
    "Despite clear advantages of using RAG for building Chatbots, there are some challenges when it comes to applying it for practical use. \n",
    "In order to find an answer, RAG takes an approach that uses vector search across the documents. The advantage of using vector search is the speed and scalability. Rather than scanning every single document to find the aswer, using RAG approach, we would turn the texts (knowledge base) into embeddings and store these embeddings in the database. The embeddings are compressed version of the documents, represented by array of numerical values. After the embeddings are stored,  vector search queries the vector database to find the similarity based on the vectors associated with the documents. Typically vector search will return the top k most relevant documents based on the user question, and return the k results. However, since the similarity algorithm in vector database works on vectors and not documents, vector search does not always return the most relevant information in the top k results. This directly impacts the accuracy of the response if the most relevant contexts are not available to the LLM. \n",
    "\n",
    "A proposed solution to address the challenge of RAG approach is called Reranking. Reranking is a technique that can further improve the responses by selecting the best option out of several candidate responses. Here is how reranking could work, described in the sequential order:\n",
    "\n",
    "1. The chatbot generates its top 5 response candidates using RAG.\n",
    "2. These candidates are fed into a reranking model. This model scores each response based on how relevant, natural and informative they are.\n",
    "3. The response with the highest reranking score is selected as the context to feed the LLM in generating a response .\n",
    "\n",
    "In summary, reranking allows the chatbot to filter out poor responses and pick the best one to send back. This further improves the quality and consistency of the conversations.\n",
    "\n",
    "## Architecture\n",
    "The following architecture dipicts a 2 stage retrieval by integrating a vector DB, an LLM and a reranking model. In the diagram, we will demonstrate how this could easily be built using Knowledge Base for Bedrock and a reranking model. \n",
    "\n",
    "<img src=\"img/rag-reranking-architecture.png\" alt=\"bedrock-reranking\" style=\"width: 800px;\"/>\n",
    "\n",
    "In this notebook, we are going to demonstrate how to build a solution from the above architecture. Additionally, we'll also evaluate the performance of each approach (i.e. standard RAG approach vs RAG + reranking model) and perform analysis and share the results.\n",
    "\n",
    "## Prerequisites\n",
    "1. This notebook is tested using Amazon SageMaker Studio Jupyterlab Notebook. This notebook contains steps require the appropriate permission to perform actions on behalf of the IAM user/ Assumed role who runs the notebook. Following snippet contains the IAM policies required to run the notebook successfully.\n",
    "```\n",
    "{\n",
    "    \"Version\": \"2012-10-17\",\n",
    "    \"Statement\": [\n",
    "        {\n",
    "            \"Effect\": \"Allow\",\n",
    "            \"Action\": [\"bedrock:*\"],\n",
    "            \"Resource\": \"*\"\n",
    "        },\n",
    "        {\n",
    "            \"Effect\": \"Allow\",\n",
    "            \"Action\": [\"iam:PutRolePolicy\", \"iam:CreateRole\"],\n",
    "            \"Resource\": \"*\"\n",
    "        },\n",
    "        {\n",
    "            \"Effect\": \"Allow\",\n",
    "            \"Action\": [\"aoss:*\"],\n",
    "            \"Resource\": \"*\"\n",
    "        }\n",
    "    ]\n",
    "}\n",
    "```\n",
    "\n",
    "2. In order to run this notebook successfully, you would first deploy a reranking model. Our example utilizes a reranking model named [BGE-Large](https://huggingface.co/BAAI/bge-reranker-large) deployed in Amazon SageMaker. The code for deploying the model is available in [deploy-reranking-model-sm.ipynb](deploy-reranking-model-sm.ipynb) in this directory. If you haven't deployed the reranking model, please proceed to the notebook and complete the steps, then come back and continue with this notebook."
   ]
  },
  {
   "cell_type": "markdown",
   "id": "da6a949f-ddd0-4c4c-a2bb-39debceb45f8",
   "metadata": {},
   "source": [
    "Let's first install the dependencies we need for the notebook."
   ]
  },
  {
   "cell_type": "code",
   "execution_count": null,
   "id": "7e33c014-05fd-4e70-b3e3-a71b01b9a590",
   "metadata": {},
   "outputs": [],
   "source": [
    "%pip install -r requirements.txt"
   ]
  },
  {
   "cell_type": "markdown",
   "id": "920b7422-adf2-4573-8c32-907520be18af",
   "metadata": {},
   "source": [
    "Let's also restore the variables that we stored in the previous notebook: `deploy-reranking-model-sm.ipynb`"
   ]
  },
  {
   "cell_type": "code",
   "execution_count": null,
   "id": "c7aa452d-2681-49a8-aab0-95840ff746d4",
   "metadata": {},
   "outputs": [],
   "source": [
    "%load_ext autoreload\n",
    "%autoreload 2"
   ]
  },
  {
   "cell_type": "code",
   "execution_count": null,
   "id": "c7aa3f9e-067f-4d80-a7fb-4e38ce4c0ca4",
   "metadata": {},
   "outputs": [],
   "source": [
    "%store -r"
   ]
  },
  {
   "cell_type": "markdown",
   "id": "cc26d2cd-48dd-48d5-afe0-cfe5a0bc1cca",
   "metadata": {},
   "source": [
    "Import the python libraries"
   ]
  },
  {
   "cell_type": "code",
   "execution_count": null,
   "id": "221f1f35-31fd-4cb6-8c4c-52e1d513df9d",
   "metadata": {},
   "outputs": [],
   "source": [
    "import boto3\n",
    "import json\n",
    "import os\n",
    "import uuid\n",
    "import urllib.request\n",
    "import sagemaker\n",
    "import math\n",
    "from utils import helper\n",
    "import ragas\n",
    "from datasets import Dataset\n",
    "import time"
   ]
  },
  {
   "cell_type": "markdown",
   "id": "c687c110-8cfd-4190-ab17-ca47d9fb3677",
   "metadata": {},
   "source": [
    "## Dataset\n",
    "To demonstrate RAG semantic search, we'll need to first ingest documents into a vector database. For this example, we'll ingest a book\n",
    "call 'The Great Gatsby', a 1925 novel by American writer F. Scott Fitzgerald. This book is publically available in the project [gutenberg website](https://www.gutenberg.org/)\n",
    "\n",
    "In addition to the book, we'll also leverage Bedrock model to create 20 questions and the answers so that we could use those information for evaluating the performance of these RAG approaches. \n",
    "\n",
    "Please refer to the license information for gutenbergy project: https://www.gutenberg.org/policy/license.html\n",
    "\n",
    "The specific license for this ebook is documented at the bottom of the book here: https://www.gutenberg.org/cache/epub/64317/pg64317-images.html\n"
   ]
  },
  {
   "cell_type": "code",
   "execution_count": null,
   "id": "568aa924-c8c2-4d1f-a201-833f2d822e45",
   "metadata": {},
   "outputs": [],
   "source": [
    "target_url = \"https://www.gutenberg.org/ebooks/64317.txt.utf-8\" # the great gatsby\n",
    "data = urllib.request.urlopen(target_url)\n",
    "my_texts = []\n",
    "for line in data:\n",
    "    my_texts.append(line.decode())"
   ]
  },
  {
   "cell_type": "markdown",
   "id": "e507d99b-4013-4b2a-8efc-5fea6992dd46",
   "metadata": {},
   "source": [
    "Split the documents into 10 large chunks by a fixed size, then uploads them to S3 bucket location for downstream process. "
   ]
  },
  {
   "cell_type": "code",
   "execution_count": null,
   "id": "0113a4f2-0669-4781-ba8d-1d7e6d2e131c",
   "metadata": {},
   "outputs": [],
   "source": [
    "doc_size = 700 # size of the document to determine number of batches\n",
    "batches = math.ceil(len(my_texts) / doc_size)"
   ]
  },
  {
   "cell_type": "code",
   "execution_count": null,
   "id": "72ccb548-c8e9-411f-9d15-579b09e82d2d",
   "metadata": {},
   "outputs": [],
   "source": [
    "# use boto3 s3 to upload a string to S3 \n",
    "sagemaker_session = sagemaker.Session()\n",
    "default_bucket = sagemaker_session.default_bucket()\n",
    "s3_prefix = \"bedrock/knowledgebase/datasource\"\n",
    "\n",
    "start = 0\n",
    "s3 = boto3.client(\"s3\")\n",
    "for batch in range(batches):\n",
    "    batch_text_arr = my_texts[start:start+doc_size]\n",
    "    batch_text = \"\".join(batch_text_arr)\n",
    "    s3.put_object(\n",
    "        Body=batch_text,\n",
    "        Bucket=default_bucket,\n",
    "        Key=f\"{s3_prefix}/{start}.txt\"\n",
    "    )\n",
    "    start += doc_size   "
   ]
  },
  {
   "cell_type": "markdown",
   "id": "05fad46a-c4f4-4045-94c1-ccb4650a8ca6",
   "metadata": {},
   "source": [
    "## Setup\n",
    "In our setup, we'll be using a Bedrock 3p model called Claude v3 Haiku with 200k context window. In addition, we'll use the Amazon Titan Text Embedding v2 to convert the documents into embeddings and store the vectors into Opensearch serverless collection. "
   ]
  },
  {
   "cell_type": "code",
   "execution_count": null,
   "id": "49cbd799-cf8d-4e67-919b-0cfc9e57b612",
   "metadata": {},
   "outputs": [],
   "source": [
    "execution_role = sagemaker.get_execution_role()\n",
    "bedrock = boto3.client(\"bedrock\")\n",
    "bedrock_runtime = boto3.client(\"bedrock-runtime\")\n",
    "agent_runtime = boto3.client('bedrock-agent-runtime')\n",
    "bedrock_agent = boto3.client(\"bedrock-agent\")\n",
    "retrieval_topk = 10\n",
    "model_id = \"anthropic.claude-3-haiku-20240307-v1:0\"\n",
    "embedding_dim = 1024\n",
    "region = bedrock.meta.region_name\n",
    "embedding_model_id = \"amazon.titan-embed-text-v2:0\"\n",
    "embedding_model_arn = f\"arn:aws:bedrock:{region}::foundation-model/amazon.titan-embed-text-v2:0\"\n",
    "boto3_credentials = boto3.Session().get_credentials() # needed for authenticating against opensearch cluster for index creation"
   ]
  },
  {
   "cell_type": "markdown",
   "id": "6f486e02-a208-40e2-bf45-1766c5c80b2f",
   "metadata": {},
   "source": [
    "##  Create a Knowledge Base using Amazon Bedrock\n",
    "The following section describes the steps to take in order to create a knowledge base in Bedrock. We are going to use the Amazon Bedrock Agent SDK and Opensearch SDK to create the required components. \n",
    "\n",
    "### How it works\n",
    "Knowledge base for Amazon Bedrock help you take advantage of Retrieval Augmented Generation (RAG), a popular technique that involves drawing information from a data store to augment the responses generated by Large Language Models (LLMs). With this approach, your application can query the knowledge base to return most relevant information found in your knowledge base to answer the query either with direct quotations from sources or with natural responses generated from the query results.\n",
    "\n",
    "There are 2 main processes involved in carrying out RAG functionality via Knowledge Bases for Bedrock:\n",
    "\n",
    "1. Pre-processing - Ingest source data, create embeddings for the data and populate the embeddings into a vector database.\n",
    "2. \n",
    "3. Runtime Execution - Query the vectorDB for similar documents based on user query and return topk documents as the basis for the LLM to provide a response.\n",
    "The following diagrams illustrate schematically how RAG is carried out. Knowledge base simplifies the setup and implementation of RAG by automating several steps in this process.\n",
    "\n",
    "The following diagrams show how the components for each stage and how they are constructed. \n",
    "\n",
    "### Preprocesing Stage\n",
    "<img src=\"img/br-kb-preprod-diagram.png\" alt=\"kb-bedrock-pre\" style=\"width: 700px;\"/>\n",
    "\n",
    "### Runtime Execution Stage\n",
    "<img src=\"img/br-kb-runtime-diagram.png\" alt=\"kb-bedrock-runtime\" style=\"width: 700px;\"/>\n",
    "\n"
   ]
  },
  {
   "cell_type": "markdown",
   "id": "d2e5de87-db04-4aea-b001-2fb80787f1f1",
   "metadata": {},
   "source": [
    "Defines the variables for creating a knowledge base, OpenSaerch serverless collection and creating an ingestion job. "
   ]
  },
  {
   "cell_type": "code",
   "execution_count": null,
   "id": "d859ff1c-c66d-4889-b933-8319c75bbb6c",
   "metadata": {},
   "outputs": [],
   "source": [
    "random_id = str(uuid.uuid4().hex)[:5]\n",
    "vector_store_name = f'bedrock-kb-rerank-{random_id}'\n",
    "index_name = f\"bedrock-kb-rerank-index-{random_id}\"\n",
    "encryption_policy_name = f\"bedrock-kb-rerank-sp-{random_id}\"\n",
    "network_policy_name = f\"bedrock-kb-rerank-np-{random_id}\"\n",
    "access_policy_name = f\"bedrock-kb-rerank-ap-{random_id}\"\n",
    "kb_role_name = f\"bedrock-kb-rerank-role-test-{random_id}\"\n",
    "knowledge_base_name = f\"bedrock-kb-rerank-test-{random_id}\""
   ]
  },
  {
   "cell_type": "markdown",
   "id": "dd6711cb-8cf7-45ca-a53c-aa82250aaa1a",
   "metadata": {},
   "source": [
    "## Steps for creating a Knowledge Base for Bedrock application\n",
    "Creating a knowledge base involves the following steps:\n",
    "\n",
    "1. Create an opensearch serverless collection as the vector DB.\n",
    "2. Create an index for the collection to be used for all the documents\n",
    "3. Create the required IAM service roles for Bedrock to integrate with the collection\n",
    "4. Create a Knowledge Base for Bedrock application.\n",
    "5. Create a data ingestion job to create the embeddings into the opensearch serverless collection.\n",
    "\n",
    "Luckily, all the steps outlined above are provided as a helper function so you don't have to do this yourself!\n",
    "\n",
    "**Note** The knowledge base creation step below takes about 5 minutes. Please be patient and and let it finish everything before stopping any processes. "
   ]
  },
  {
   "cell_type": "code",
   "execution_count": null,
   "id": "41aa9ac1-eeba-479b-b914-f260043bbf35",
   "metadata": {},
   "outputs": [],
   "source": [
    "knowledge_base_id = helper.create_knowledge_base(knowledge_base_name, \n",
    "                                                 kb_role_name, \n",
    "                                                 embedding_model_arn, \n",
    "                                                 embedding_dim,\n",
    "                                                 default_bucket, \n",
    "                                                 s3_prefix, \n",
    "                                                 vector_store_name, \n",
    "                                                 index_name, \n",
    "                                                 encryption_policy_name, \n",
    "                                                 network_policy_name, \n",
    "                                                 access_policy_name,\n",
    "                                                 region,\n",
    "                                                 boto3_credentials)"
   ]
  },
  {
   "cell_type": "markdown",
   "id": "95b85645-a60e-403c-81ce-dc53829fa831",
   "metadata": {},
   "source": [
    "## Generate Questions From the Documents\n",
    "We have prepared a list of questions and answers from the book which we'll used as the base for the questions and answers.\n",
    "These questions and answers are generated by an LLM in Bedrock. \n",
    "\n",
    "**Important:** Just as many LLM applications, it's important to leverage human in the loop to validate the Q&A generated by the LLM to ensure they are correct and accurate. For our experiment, all the questions and answers have been validated by human, so that we could use them as the ground truth for a fair model and RAG evaluation process. \n",
    "\n",
    "The Q&A data serves as the foundation for the RAG evaluation based on the approaches that we are going to implement. We'll define the generated answers from this step as ground truth data.\n",
    "\n",
    "Next, based on the generated questions, we'll use Bedrock Agent SDK to retrieve the contexts that's most relevant to the question, and generate answers for each one of them. These data would be served as the source data for standard RAG approach.\n",
    "\n",
    "We also share a notebook that walks through the process of using an LLM to generate questions and answers [here](qa-generator.ipynb)"
   ]
  },
  {
   "cell_type": "code",
   "execution_count": null,
   "id": "c4c70daf-f128-4658-8d59-f08fbe549515",
   "metadata": {},
   "outputs": [],
   "source": [
    "with open(\"data/qa_samples.json\", \"r\") as f:\n",
    "    data = f.read()\n",
    "    data_samples = json.loads(data)"
   ]
  },
  {
   "cell_type": "code",
   "execution_count": null,
   "id": "244aba0d-c1f4-4b1d-840c-8facd1ade986",
   "metadata": {},
   "outputs": [],
   "source": [
    "standard_rag_time_start = time.time()\n",
    "contexts, answers = helper.generate_context_answers(bedrock_runtime, agent_runtime, model_id, knowledge_base_id, retrieval_topk, data_samples['question'])\n",
    "standard_rag_time_end = time.time()\n",
    "standard_rag_time_elapsed_time = standard_rag_time_end - standard_rag_time_start"
   ]
  },
  {
   "cell_type": "code",
   "execution_count": null,
   "id": "f118531b-7bbb-4e45-905f-25125e92cc00",
   "metadata": {},
   "outputs": [],
   "source": [
    "contexts"
   ]
  },
  {
   "cell_type": "code",
   "execution_count": null,
   "id": "949ebb26-f671-4268-a6ab-640389e76527",
   "metadata": {},
   "outputs": [],
   "source": [
    "data_samples['contexts'] = contexts\n",
    "data_samples['answer'] = answers"
   ]
  },
  {
   "cell_type": "code",
   "execution_count": null,
   "id": "275d9c33-bd39-4753-b650-1b0e7e7bd6e6",
   "metadata": {},
   "outputs": [],
   "source": [
    "ds = Dataset.from_dict(data_samples)"
   ]
  },
  {
   "cell_type": "markdown",
   "id": "f2bab5ba-8a68-476a-91f0-d0509e468710",
   "metadata": {},
   "source": [
    "## RAG Evaluation\n",
    "To evaluate the effectiveness of RAG, well use a framework called [RAGAS](https://arxiv.org/pdf/2309.15217.pdf). The framework \n",
    "provides a suite of metrics which can be used to evaluate different dimensions. For more information about how to setup RAGAS for evaluation, please visit their [documentation](https://docs.ragas.io/en/stable/).\n",
    "\n",
    "At a high level, RAGAS evaluation focuses on the following key components:\n",
    "\n",
    "<img src=\"img/ragas-evaluations.png\" alt=\"ragas-eval\" style=\"width: 600px;\"/>\n",
    "\n",
    "\n",
    "Here's are the summary of some of the evaluation components supported in RAGAS:\n",
    "\n",
    "### Faithfullness\n",
    "This measures the factual consistency of the generated answer against the given context. It is calculated from answer and retrieved context. The answer is scaled to (0,1) range. Higher the better.\n",
    "\n",
    "The generated answer is regarded as faithful if all the claims that are made in the answer can be inferred from the given context. To calculate this a set of claims from the generated answer is first identified. Then each one of these claims are cross checked with given context to determine if it can be inferred from given context or not. \n",
    "\n",
    "### Answer Relevancy\n",
    "The evaluation metric, Answer Relevancy, focuses on assessing how pertinent the generated answer is to the given prompt. A lower score is assigned to answers that are incomplete or contain redundant information. This metric is computed using the question and the answer, with values ranging between 0 and 1, where higher scores indicate better relevancy.\n",
    "\n",
    "### Context Relevancy\n",
    "This metric gauges the relevancy of the retrieved context, calculated based on both the question and contexts. The values fall within the range of (0, 1), with higher values indicating better relevancy.\n",
    "\n",
    "### Answer Correctness\n",
    "The assessment of Answer Correctness involves gauging the accuracy of the generated answer when compared to the ground truth. This evaluation relies on the ground truth and the answer, with scores ranging from 0 to 1. A higher score indicates a closer alignment between the generated answer and the ground truth, signifying better correctness.\n",
    "\n",
    "Answer correctness encompasses two critical aspects: semantic similarity between the generated answer and the ground truth, as well as factual similarity. These aspects are combined using a weighted scheme to formulate the answer correctness score. Users also have the option to employ a ‘threshold’ value to round the resulting score to binary, if desired.\n",
    "\n",
    "### Answer Similarity\n",
    "The concept of Answer Semantic Similarity pertains to the assessment of the semantic resemblance between the generated answer and the ground truth. This evaluation is based on the ground truth and the answer, with values falling within the range of 0 to 1. A higher score signifies a better alignment between the generated answer and the ground truth.\n",
    "\n",
    "Measuring the semantic similarity between answers can offer valuable insights into the quality of the generated response. This evaluation utilizes a cross-encoder model to calculate the semantic similarity score.\n",
    "\n",
    "\n",
    "In our example, we'll explore the following evaluation components:\n",
    "\n",
    "* Answer Relevancy\n",
    "* Answer Similarity\n",
    "* Context Relevancy\n",
    "* Answer Correctness"
   ]
  },
  {
   "cell_type": "code",
   "execution_count": null,
   "id": "10483fab-24b6-404f-b25f-298afd0a17e6",
   "metadata": {},
   "outputs": [],
   "source": [
    "from ragas import evaluate\n",
    "from ragas.metrics import (\n",
    "    faithfulness,\n",
    "    answer_correctness,\n",
    "    answer_similarity,\n",
    "    context_relevancy,\n",
    "    answer_relevancy\n",
    ")\n",
    "from langchain_aws import ChatBedrock\n",
    "from langchain_community.embeddings import BedrockEmbeddings"
   ]
  },
  {
   "cell_type": "code",
   "execution_count": null,
   "id": "1126e498-8963-405e-a924-75cae04ded8e",
   "metadata": {},
   "outputs": [],
   "source": [
    "metrics = [\n",
    "    answer_similarity,\n",
    "    context_relevancy,\n",
    "    answer_correctness,\n",
    "    answer_relevancy\n",
    "]"
   ]
  },
  {
   "cell_type": "code",
   "execution_count": null,
   "id": "a42690ef-cf37-4838-bfad-0573196b742a",
   "metadata": {},
   "outputs": [],
   "source": [
    "import nest_asyncio \n",
    "nest_asyncio.apply() # Based on Ragas documenttion this is only needed when running in a jupyter notebook. "
   ]
  },
  {
   "cell_type": "code",
   "execution_count": null,
   "id": "e26fb767-16bb-47df-9ef8-a97bdcd13d28",
   "metadata": {},
   "outputs": [],
   "source": [
    "config = {\n",
    "    \"region_name\": region,  # E.g. \"us-east-1\"\n",
    "    \"model_id\": model_id,  # E.g \"anthropic.claude-3-haiku-20240307-v1:0\"\n",
    "    \"model_kwargs\": {\"temperature\": 0.9},\n",
    "}\n",
    "\n",
    "bedrock_model = ChatBedrock(\n",
    "    region_name=config[\"region_name\"],\n",
    "    model_id=config[\"model_id\"],\n",
    "    model_kwargs=config[\"model_kwargs\"],\n",
    ")\n",
    "\n",
    "# init the embeddings\n",
    "bedrock_embeddings = BedrockEmbeddings(\n",
    "    region_name=config[\"region_name\"],\n",
    "    model_id = embedding_model_id\n",
    ")"
   ]
  },
  {
   "cell_type": "markdown",
   "id": "b82d87b4-6796-4920-8ec3-d1f6c01f68ea",
   "metadata": {},
   "source": [
    "Perform the RAG evaluation based on the collected datapoints."
   ]
  },
  {
   "cell_type": "code",
   "execution_count": null,
   "id": "083985be-3094-4afe-9dd8-e7865a070de4",
   "metadata": {},
   "outputs": [],
   "source": [
    "evaluation_result = evaluate(\n",
    "    ds,\n",
    "    metrics=metrics,\n",
    "    llm=bedrock_model,\n",
    "    embeddings=bedrock_embeddings,\n",
    "    raise_exceptions=False\n",
    ")"
   ]
  },
  {
   "cell_type": "markdown",
   "id": "c863e05b-6cbd-46f9-bedc-eeebf6d42f1a",
   "metadata": {},
   "source": [
    "Shows the results in great detail"
   ]
  },
  {
   "cell_type": "code",
   "execution_count": null,
   "id": "ff8381f2-f74f-4519-bc2c-6c54f121bc5a",
   "metadata": {},
   "outputs": [],
   "source": [
    "df = evaluation_result.to_pandas()\n",
    "df"
   ]
  },
  {
   "cell_type": "code",
   "execution_count": null,
   "id": "fb71dc66-8dcf-481b-9774-010b9257dbbd",
   "metadata": {},
   "outputs": [],
   "source": [
    "print(f\"\"\"A summarized report for standard RAG approach based on RAGAS evaluation: \n",
    "\n",
    "answer_relevancy: {evaluation_result['answer_relevancy']}\n",
    "answer_similarity: {evaluation_result['answer_similarity']}\n",
    "answer_correctness: {evaluation_result['answer_correctness']}\n",
    "context_relevancy: {evaluation_result['context_relevancy']}\"\"\")"
   ]
  },
  {
   "cell_type": "markdown",
   "id": "ef0c29d5-f9ac-4b18-b9e8-11ca7f9b7b51",
   "metadata": {},
   "source": [
    "# Evaluating RAG using 2 stage retrieval\n",
    "In the following section, we'll explore the 2 stage retrieval approach by extending the standard RAG approach to integrate with a reranking model. \n",
    "\n",
    "In the context of RAG, reranking models are used after an initial set of contexts are retrieved by the retriever. The reranking model takes in the list of results and reranks each one of them based on the similarity between the context and the user query.\n",
    "\n",
    "In our example, we'll use an opensource reranker called [bge-large](https://huggingface.co/BAAI/bge-reranker-large). For more information about deploying the model, please refer to [deploy-reranking-model-sm.ipynb](deploy-reranking-model-sm.ipynb)."
   ]
  },
  {
   "cell_type": "code",
   "execution_count": null,
   "id": "923494a1-61e6-4051-8956-c64074376077",
   "metadata": {},
   "outputs": [],
   "source": [
    "reranking_topk = 3\n",
    "\n",
    "two_stage_rag_time_start = time.time()\n",
    "contexts, answers = helper.generate_two_stage_context_answers(bedrock_runtime, \n",
    "                                                              agent_runtime,\n",
    "                                                              model_id, \n",
    "                                                              knowledge_base_id,\n",
    "                                                              retrieval_topk,\n",
    "                                                              reranking_model_endpoint,\n",
    "                                                              data_samples['question'], \n",
    "                                                              reranking_topk)\n",
    "two_stage_rag_time_end = time.time()\n",
    "two_stage_rag_time_elapsed_time = two_stage_rag_time_end - two_stage_rag_time_start"
   ]
  },
  {
   "cell_type": "code",
   "execution_count": null,
   "id": "5935703b-2c51-43c2-97ed-c9880dce9913",
   "metadata": {},
   "outputs": [],
   "source": [
    "two_stage_data_samples = {}\n",
    "two_stage_data_samples['contexts'] = contexts\n",
    "two_stage_data_samples['answer'] = answers\n",
    "two_stage_data_samples['question'] = data_samples['question']\n",
    "two_stage_data_samples['ground_truth'] = data_samples['ground_truth']"
   ]
  },
  {
   "cell_type": "code",
   "execution_count": null,
   "id": "b3487a5a-cd6e-4c88-a3dd-7d3131683c8d",
   "metadata": {},
   "outputs": [],
   "source": [
    "two_stage_ds = Dataset.from_dict(two_stage_data_samples)"
   ]
  },
  {
   "cell_type": "code",
   "execution_count": null,
   "id": "5148b16a-8787-4bb2-beb6-4caf5ce9e338",
   "metadata": {},
   "outputs": [],
   "source": [
    "two_stage_evaluation_result = evaluate(\n",
    "    two_stage_ds,\n",
    "    metrics=metrics,\n",
    "    llm=bedrock_model,\n",
    "    embeddings=bedrock_embeddings,\n",
    "    raise_exceptions=False,\n",
    ")"
   ]
  },
  {
   "cell_type": "code",
   "execution_count": null,
   "id": "053a5996-01f7-4d17-bbfb-d9ed939f1e45",
   "metadata": {},
   "outputs": [],
   "source": [
    "df_two_stage = two_stage_evaluation_result.to_pandas()\n",
    "df_two_stage"
   ]
  },
  {
   "cell_type": "code",
   "execution_count": null,
   "id": "f75eba1d-0bff-46d4-b0c4-558bd6a30c62",
   "metadata": {},
   "outputs": [],
   "source": [
    "print(f\"\"\"A summarized report for a 2 stage retrieval RAG approach based on RAGAS evaluation: \n",
    "\n",
    "answer_relevancy: {two_stage_evaluation_result['answer_relevancy']}\n",
    "answer_similarity: {two_stage_evaluation_result['answer_similarity']}\n",
    "answer_correctness: {two_stage_evaluation_result['answer_correctness']}\n",
    "context_relevancy: {two_stage_evaluation_result['context_relevancy']}\"\"\")"
   ]
  },
  {
   "cell_type": "markdown",
   "id": "265de4b6-7da4-45e1-942f-4e8484ff9ed3",
   "metadata": {},
   "source": [
    "## Visualize RAGAS evaluation metrics\n",
    "After running RAGAS evaluation for both approaches, let's compare the evaluation results and visualize the metrics in a plot as followed."
   ]
  },
  {
   "cell_type": "code",
   "execution_count": null,
   "id": "c448df8a-189c-410e-a05b-df6382ad57ed",
   "metadata": {},
   "outputs": [],
   "source": [
    "from matplotlib import pyplot as plt\n",
    "import pandas as pd"
   ]
  },
  {
   "cell_type": "code",
   "execution_count": null,
   "id": "5225d2aa-9797-4c2e-9008-80df3a457143",
   "metadata": {},
   "outputs": [],
   "source": [
    "two_stage_mean_df = pd.DataFrame({ \n",
    "    \"answer_relevancy\" : [df_two_stage['answer_relevancy'].mean()], \n",
    "    \"answer_similarity\" : [df_two_stage['answer_similarity'].mean()], \n",
    "    \"context_relevancy\" : [df_two_stage['context_relevancy'].mean()],\n",
    "    \"answer_correctness\" : [df_two_stage['answer_correctness'].mean()]})\n",
    "two_stage_mean_df = pd.melt(two_stage_mean_df, var_name=\"metric\")"
   ]
  },
  {
   "cell_type": "code",
   "execution_count": null,
   "id": "97b74231-68ec-431e-a486-c797a9116c43",
   "metadata": {},
   "outputs": [],
   "source": [
    "one_stage_retrieval_mean_df = pd.DataFrame({ \n",
    "    \"answer_relevancy\" : [df['answer_relevancy'].mean()], \n",
    "    \"answer_similarity\" : [df['answer_similarity'].mean()], \n",
    "    \"context_relevancy\" : [df['context_relevancy'].mean()],\n",
    "    \"answer_correctness\" : [df['answer_correctness'].mean()]})\n",
    "one_stage_retrieval_mean_df = pd.melt(one_stage_retrieval_mean_df, var_name=\"metric\")"
   ]
  },
  {
   "cell_type": "code",
   "execution_count": null,
   "id": "4b114903-a2fd-400f-bc16-528cc3833ff8",
   "metadata": {},
   "outputs": [],
   "source": [
    "combined_df = pd.merge(one_stage_retrieval_mean_df, two_stage_mean_df, on='metric', suffixes=(\"_one_stage_retrieval\", \"_two_stage_retrieval\"))"
   ]
  },
  {
   "cell_type": "code",
   "execution_count": null,
   "id": "bbfbf5c5-391f-46f6-9bf1-08a6df3f69de",
   "metadata": {},
   "outputs": [],
   "source": [
    "plt.rcParams[\"figure.figsize\"] = (10,5)\n",
    "ax = combined_df.plot(kind='bar', x='metric', rot=0)\n",
    "ax.legend(bbox_to_anchor=(1.05, 1), loc='upper left')\n",
    "ax.set_title(\"RAG One Stage vs Two-Stage Retrieval Evaluation Metrics\")\n",
    "ax.set_xlabel('Metric', fontsize=10)\n",
    "ax.set_ylabel('Score (higher the better)', fontsize=16)\n",
    "plt.show()"
   ]
  },
  {
   "cell_type": "markdown",
   "id": "acd7d61b-cb63-4357-88f9-b1a344b84627",
   "metadata": {},
   "source": [
    "# Speed Comparison between RAG approaches\n",
    "Due to using different approaches in the query and retrieval process in the Q&A application, we expect the performance would also be different. In the following, we'll compare the speed of both the RAG approaches and visualize the differences. \n",
    "In the previous cells, in addition to running the RAG for all the questions, we also captured the elapsed time for these 2 approaches. In the following section, we'll demonstrate the performance using a visualization based on the captured time. "
   ]
  },
  {
   "cell_type": "code",
   "execution_count": null,
   "id": "d55db966-c408-492c-b4bf-51563cf4df15",
   "metadata": {},
   "outputs": [],
   "source": [
    "print(f\"Standard RAG took: {standard_rag_time_elapsed_time} seconds. Two stage retrieval took: {two_stage_rag_time_elapsed_time} seconds\")"
   ]
  },
  {
   "cell_type": "code",
   "execution_count": null,
   "id": "9a8328c9-13f0-42e5-87b6-c27207747816",
   "metadata": {},
   "outputs": [],
   "source": [
    "speed_test_df = pd.DataFrame(data = { \"speed (s)\" : [standard_rag_time_elapsed_time, two_stage_rag_time_elapsed_time] }, index=[\"Standard RAG\",\"Two Stage RAG\"] )\n"
   ]
  },
  {
   "cell_type": "code",
   "execution_count": null,
   "id": "8dd22b90-19a0-4fcc-a613-720313ecdc35",
   "metadata": {},
   "outputs": [],
   "source": [
    "speed_test_df"
   ]
  },
  {
   "cell_type": "code",
   "execution_count": null,
   "id": "b45f86b0-ed6b-45cd-becc-b93386341d6e",
   "metadata": {},
   "outputs": [],
   "source": [
    "speed_test_df.plot(kind='bar', rot=0, title=\"Speed comparison between Standard RAG and Two Stage Retrieval (10 requests)\", ylabel=\"elspased time\", xlabel=\"RAG approach\")"
   ]
  },
  {
   "cell_type": "markdown",
   "id": "43f178a3-a719-4714-b7f0-25ccb13533b2",
   "metadata": {},
   "source": [
    "# Observations\n",
    "Based on the results we gathered over several runs, we share the observations as followed:\n",
    "\n",
    "1. The two stage RAG model yields better answer correctness and answer similarity compared to the standard RAG.\n",
    "2. The two stage RAG model yields better context relevancy because the number of contexts from the retrieval was reranked, then reduced through reraking model, therefore increasing the relevancy.\n",
    "3. The standard RAG outperforms the two stage RAG model in terms of latency. This is due to the extra model invocation in the two stage RAG to rerank the documents. "
   ]
  },
  {
   "cell_type": "markdown",
   "id": "dd592dea-de0e-451a-82db-55dc0cd3d5ae",
   "metadata": {},
   "source": [
    "# Conclusion\n",
    "In this notebook, we demonstrates how to implement a 2 stage retrieval process by integrating a reranking model. \n",
    "We started by uploaded the sample texts into an S3 bucket for creating the corresponding vector embeddings. \n",
    "After the data is uploaded to S3, we created a [knowledge Base for Bedrock](https://aws.amazon.com/bedrock/knowledge-bases) application and \n",
    "integrated it with an OpenSearch serverless collection. We fired a data ingestion job using the Bedrock Agent SDK to create the vector embeddings for the \n",
    "data on S3, and persists the vectors into the given Opensearch serverless collection. \n",
    "\n",
    "To perform RAG evaluation on both the standard RAG and the two stage retrieval with a reranking model approach, we used an open source framework RAGAS focusing on *context relevancy*, *answer relevancy*, *answer similarity* and *answer correctness*. Finally, we provided a comparison between these 2 approaches using RAGAS metrics over a plot. "
   ]
  },
  {
   "cell_type": "markdown",
   "id": "836d991a-fbc8-414a-9e45-9a795fab4218",
   "metadata": {},
   "source": [
    "# Clean up\n",
    "If you are done with the experiment, you can delete the resources used in this notebook by running the following cells below."
   ]
  },
  {
   "cell_type": "code",
   "execution_count": null,
   "id": "a0d6cea6-036c-456b-9dae-e236f084d433",
   "metadata": {},
   "outputs": [],
   "source": [
    "response = bedrock_agent.delete_knowledge_base(\n",
    "    knowledgeBaseId=knowledge_base_id\n",
    ")"
   ]
  },
  {
   "cell_type": "code",
   "execution_count": null,
   "id": "0ba24eaf-ade5-46d1-a1c2-93b292ed1d53",
   "metadata": {},
   "outputs": [],
   "source": [
    "aoss_client = boto3.client('opensearchserverless')"
   ]
  },
  {
   "cell_type": "code",
   "execution_count": null,
   "id": "0a788bda-ce26-41f9-be67-a1c6ce86fa40",
   "metadata": {},
   "outputs": [],
   "source": [
    "response = aoss_client.delete_security_policy(name=encryption_policy_name, type='encryption')"
   ]
  },
  {
   "cell_type": "code",
   "execution_count": null,
   "id": "cd1e8545-81d6-441b-93f9-16a263ca5478",
   "metadata": {},
   "outputs": [],
   "source": [
    "response = aoss_client.delete_access_policy(name=access_policy_name, type='data')"
   ]
  },
  {
   "cell_type": "code",
   "execution_count": null,
   "id": "598ec76e-ba7a-4742-b0d8-7145e11828fb",
   "metadata": {},
   "outputs": [],
   "source": [
    "response = aoss_client.list_collections(\n",
    "    collectionFilters={\n",
    "        'name': vector_store_name,\n",
    "        'status': 'ACTIVE'\n",
    "    },)"
   ]
  },
  {
   "cell_type": "code",
   "execution_count": null,
   "id": "a73625b7-f349-45a1-b9e6-ba513c315ae9",
   "metadata": {},
   "outputs": [],
   "source": [
    "collection_id = response['collectionSummaries'][0]['id']"
   ]
  },
  {
   "cell_type": "code",
   "execution_count": null,
   "id": "8b49519c-a72b-41cd-be5d-f608677631af",
   "metadata": {},
   "outputs": [],
   "source": [
    "response = aoss_client.delete_collection(\n",
    "    id=collection_id\n",
    ")"
   ]
  },
  {
   "cell_type": "code",
   "execution_count": null,
   "id": "5ad8aaa0-e53b-4754-ab5a-ac48cde8cf58",
   "metadata": {},
   "outputs": [],
   "source": [
    "sess = sagemaker.Session()\n",
    "sess.delete_endpoint(reranking_model_endpoint)"
   ]
  },
  {
   "cell_type": "code",
   "execution_count": null,
   "id": "cb5f2ab2-08d9-4660-a3ee-d9e3d398ac40",
   "metadata": {},
   "outputs": [],
   "source": []
  }
 ],
 "metadata": {
  "availableInstances": [
   {
    "_defaultOrder": 0,
    "_isFastLaunch": true,
    "category": "General purpose",
    "gpuNum": 0,
    "hideHardwareSpecs": false,
    "memoryGiB": 4,
    "name": "ml.t3.medium",
    "vcpuNum": 2
   },
   {
    "_defaultOrder": 1,
    "_isFastLaunch": false,
    "category": "General purpose",
    "gpuNum": 0,
    "hideHardwareSpecs": false,
    "memoryGiB": 8,
    "name": "ml.t3.large",
    "vcpuNum": 2
   },
   {
    "_defaultOrder": 2,
    "_isFastLaunch": false,
    "category": "General purpose",
    "gpuNum": 0,
    "hideHardwareSpecs": false,
    "memoryGiB": 16,
    "name": "ml.t3.xlarge",
    "vcpuNum": 4
   },
   {
    "_defaultOrder": 3,
    "_isFastLaunch": false,
    "category": "General purpose",
    "gpuNum": 0,
    "hideHardwareSpecs": false,
    "memoryGiB": 32,
    "name": "ml.t3.2xlarge",
    "vcpuNum": 8
   },
   {
    "_defaultOrder": 4,
    "_isFastLaunch": true,
    "category": "General purpose",
    "gpuNum": 0,
    "hideHardwareSpecs": false,
    "memoryGiB": 8,
    "name": "ml.m5.large",
    "vcpuNum": 2
   },
   {
    "_defaultOrder": 5,
    "_isFastLaunch": false,
    "category": "General purpose",
    "gpuNum": 0,
    "hideHardwareSpecs": false,
    "memoryGiB": 16,
    "name": "ml.m5.xlarge",
    "vcpuNum": 4
   },
   {
    "_defaultOrder": 6,
    "_isFastLaunch": false,
    "category": "General purpose",
    "gpuNum": 0,
    "hideHardwareSpecs": false,
    "memoryGiB": 32,
    "name": "ml.m5.2xlarge",
    "vcpuNum": 8
   },
   {
    "_defaultOrder": 7,
    "_isFastLaunch": false,
    "category": "General purpose",
    "gpuNum": 0,
    "hideHardwareSpecs": false,
    "memoryGiB": 64,
    "name": "ml.m5.4xlarge",
    "vcpuNum": 16
   },
   {
    "_defaultOrder": 8,
    "_isFastLaunch": false,
    "category": "General purpose",
    "gpuNum": 0,
    "hideHardwareSpecs": false,
    "memoryGiB": 128,
    "name": "ml.m5.8xlarge",
    "vcpuNum": 32
   },
   {
    "_defaultOrder": 9,
    "_isFastLaunch": false,
    "category": "General purpose",
    "gpuNum": 0,
    "hideHardwareSpecs": false,
    "memoryGiB": 192,
    "name": "ml.m5.12xlarge",
    "vcpuNum": 48
   },
   {
    "_defaultOrder": 10,
    "_isFastLaunch": false,
    "category": "General purpose",
    "gpuNum": 0,
    "hideHardwareSpecs": false,
    "memoryGiB": 256,
    "name": "ml.m5.16xlarge",
    "vcpuNum": 64
   },
   {
    "_defaultOrder": 11,
    "_isFastLaunch": false,
    "category": "General purpose",
    "gpuNum": 0,
    "hideHardwareSpecs": false,
    "memoryGiB": 384,
    "name": "ml.m5.24xlarge",
    "vcpuNum": 96
   },
   {
    "_defaultOrder": 12,
    "_isFastLaunch": false,
    "category": "General purpose",
    "gpuNum": 0,
    "hideHardwareSpecs": false,
    "memoryGiB": 8,
    "name": "ml.m5d.large",
    "vcpuNum": 2
   },
   {
    "_defaultOrder": 13,
    "_isFastLaunch": false,
    "category": "General purpose",
    "gpuNum": 0,
    "hideHardwareSpecs": false,
    "memoryGiB": 16,
    "name": "ml.m5d.xlarge",
    "vcpuNum": 4
   },
   {
    "_defaultOrder": 14,
    "_isFastLaunch": false,
    "category": "General purpose",
    "gpuNum": 0,
    "hideHardwareSpecs": false,
    "memoryGiB": 32,
    "name": "ml.m5d.2xlarge",
    "vcpuNum": 8
   },
   {
    "_defaultOrder": 15,
    "_isFastLaunch": false,
    "category": "General purpose",
    "gpuNum": 0,
    "hideHardwareSpecs": false,
    "memoryGiB": 64,
    "name": "ml.m5d.4xlarge",
    "vcpuNum": 16
   },
   {
    "_defaultOrder": 16,
    "_isFastLaunch": false,
    "category": "General purpose",
    "gpuNum": 0,
    "hideHardwareSpecs": false,
    "memoryGiB": 128,
    "name": "ml.m5d.8xlarge",
    "vcpuNum": 32
   },
   {
    "_defaultOrder": 17,
    "_isFastLaunch": false,
    "category": "General purpose",
    "gpuNum": 0,
    "hideHardwareSpecs": false,
    "memoryGiB": 192,
    "name": "ml.m5d.12xlarge",
    "vcpuNum": 48
   },
   {
    "_defaultOrder": 18,
    "_isFastLaunch": false,
    "category": "General purpose",
    "gpuNum": 0,
    "hideHardwareSpecs": false,
    "memoryGiB": 256,
    "name": "ml.m5d.16xlarge",
    "vcpuNum": 64
   },
   {
    "_defaultOrder": 19,
    "_isFastLaunch": false,
    "category": "General purpose",
    "gpuNum": 0,
    "hideHardwareSpecs": false,
    "memoryGiB": 384,
    "name": "ml.m5d.24xlarge",
    "vcpuNum": 96
   },
   {
    "_defaultOrder": 20,
    "_isFastLaunch": false,
    "category": "General purpose",
    "gpuNum": 0,
    "hideHardwareSpecs": true,
    "memoryGiB": 0,
    "name": "ml.geospatial.interactive",
    "supportedImageNames": [
     "sagemaker-geospatial-v1-0"
    ],
    "vcpuNum": 0
   },
   {
    "_defaultOrder": 21,
    "_isFastLaunch": true,
    "category": "Compute optimized",
    "gpuNum": 0,
    "hideHardwareSpecs": false,
    "memoryGiB": 4,
    "name": "ml.c5.large",
    "vcpuNum": 2
   },
   {
    "_defaultOrder": 22,
    "_isFastLaunch": false,
    "category": "Compute optimized",
    "gpuNum": 0,
    "hideHardwareSpecs": false,
    "memoryGiB": 8,
    "name": "ml.c5.xlarge",
    "vcpuNum": 4
   },
   {
    "_defaultOrder": 23,
    "_isFastLaunch": false,
    "category": "Compute optimized",
    "gpuNum": 0,
    "hideHardwareSpecs": false,
    "memoryGiB": 16,
    "name": "ml.c5.2xlarge",
    "vcpuNum": 8
   },
   {
    "_defaultOrder": 24,
    "_isFastLaunch": false,
    "category": "Compute optimized",
    "gpuNum": 0,
    "hideHardwareSpecs": false,
    "memoryGiB": 32,
    "name": "ml.c5.4xlarge",
    "vcpuNum": 16
   },
   {
    "_defaultOrder": 25,
    "_isFastLaunch": false,
    "category": "Compute optimized",
    "gpuNum": 0,
    "hideHardwareSpecs": false,
    "memoryGiB": 72,
    "name": "ml.c5.9xlarge",
    "vcpuNum": 36
   },
   {
    "_defaultOrder": 26,
    "_isFastLaunch": false,
    "category": "Compute optimized",
    "gpuNum": 0,
    "hideHardwareSpecs": false,
    "memoryGiB": 96,
    "name": "ml.c5.12xlarge",
    "vcpuNum": 48
   },
   {
    "_defaultOrder": 27,
    "_isFastLaunch": false,
    "category": "Compute optimized",
    "gpuNum": 0,
    "hideHardwareSpecs": false,
    "memoryGiB": 144,
    "name": "ml.c5.18xlarge",
    "vcpuNum": 72
   },
   {
    "_defaultOrder": 28,
    "_isFastLaunch": false,
    "category": "Compute optimized",
    "gpuNum": 0,
    "hideHardwareSpecs": false,
    "memoryGiB": 192,
    "name": "ml.c5.24xlarge",
    "vcpuNum": 96
   },
   {
    "_defaultOrder": 29,
    "_isFastLaunch": true,
    "category": "Accelerated computing",
    "gpuNum": 1,
    "hideHardwareSpecs": false,
    "memoryGiB": 16,
    "name": "ml.g4dn.xlarge",
    "vcpuNum": 4
   },
   {
    "_defaultOrder": 30,
    "_isFastLaunch": false,
    "category": "Accelerated computing",
    "gpuNum": 1,
    "hideHardwareSpecs": false,
    "memoryGiB": 32,
    "name": "ml.g4dn.2xlarge",
    "vcpuNum": 8
   },
   {
    "_defaultOrder": 31,
    "_isFastLaunch": false,
    "category": "Accelerated computing",
    "gpuNum": 1,
    "hideHardwareSpecs": false,
    "memoryGiB": 64,
    "name": "ml.g4dn.4xlarge",
    "vcpuNum": 16
   },
   {
    "_defaultOrder": 32,
    "_isFastLaunch": false,
    "category": "Accelerated computing",
    "gpuNum": 1,
    "hideHardwareSpecs": false,
    "memoryGiB": 128,
    "name": "ml.g4dn.8xlarge",
    "vcpuNum": 32
   },
   {
    "_defaultOrder": 33,
    "_isFastLaunch": false,
    "category": "Accelerated computing",
    "gpuNum": 4,
    "hideHardwareSpecs": false,
    "memoryGiB": 192,
    "name": "ml.g4dn.12xlarge",
    "vcpuNum": 48
   },
   {
    "_defaultOrder": 34,
    "_isFastLaunch": false,
    "category": "Accelerated computing",
    "gpuNum": 1,
    "hideHardwareSpecs": false,
    "memoryGiB": 256,
    "name": "ml.g4dn.16xlarge",
    "vcpuNum": 64
   },
   {
    "_defaultOrder": 35,
    "_isFastLaunch": false,
    "category": "Accelerated computing",
    "gpuNum": 1,
    "hideHardwareSpecs": false,
    "memoryGiB": 61,
    "name": "ml.p3.2xlarge",
    "vcpuNum": 8
   },
   {
    "_defaultOrder": 36,
    "_isFastLaunch": false,
    "category": "Accelerated computing",
    "gpuNum": 4,
    "hideHardwareSpecs": false,
    "memoryGiB": 244,
    "name": "ml.p3.8xlarge",
    "vcpuNum": 32
   },
   {
    "_defaultOrder": 37,
    "_isFastLaunch": false,
    "category": "Accelerated computing",
    "gpuNum": 8,
    "hideHardwareSpecs": false,
    "memoryGiB": 488,
    "name": "ml.p3.16xlarge",
    "vcpuNum": 64
   },
   {
    "_defaultOrder": 38,
    "_isFastLaunch": false,
    "category": "Accelerated computing",
    "gpuNum": 8,
    "hideHardwareSpecs": false,
    "memoryGiB": 768,
    "name": "ml.p3dn.24xlarge",
    "vcpuNum": 96
   },
   {
    "_defaultOrder": 39,
    "_isFastLaunch": false,
    "category": "Memory Optimized",
    "gpuNum": 0,
    "hideHardwareSpecs": false,
    "memoryGiB": 16,
    "name": "ml.r5.large",
    "vcpuNum": 2
   },
   {
    "_defaultOrder": 40,
    "_isFastLaunch": false,
    "category": "Memory Optimized",
    "gpuNum": 0,
    "hideHardwareSpecs": false,
    "memoryGiB": 32,
    "name": "ml.r5.xlarge",
    "vcpuNum": 4
   },
   {
    "_defaultOrder": 41,
    "_isFastLaunch": false,
    "category": "Memory Optimized",
    "gpuNum": 0,
    "hideHardwareSpecs": false,
    "memoryGiB": 64,
    "name": "ml.r5.2xlarge",
    "vcpuNum": 8
   },
   {
    "_defaultOrder": 42,
    "_isFastLaunch": false,
    "category": "Memory Optimized",
    "gpuNum": 0,
    "hideHardwareSpecs": false,
    "memoryGiB": 128,
    "name": "ml.r5.4xlarge",
    "vcpuNum": 16
   },
   {
    "_defaultOrder": 43,
    "_isFastLaunch": false,
    "category": "Memory Optimized",
    "gpuNum": 0,
    "hideHardwareSpecs": false,
    "memoryGiB": 256,
    "name": "ml.r5.8xlarge",
    "vcpuNum": 32
   },
   {
    "_defaultOrder": 44,
    "_isFastLaunch": false,
    "category": "Memory Optimized",
    "gpuNum": 0,
    "hideHardwareSpecs": false,
    "memoryGiB": 384,
    "name": "ml.r5.12xlarge",
    "vcpuNum": 48
   },
   {
    "_defaultOrder": 45,
    "_isFastLaunch": false,
    "category": "Memory Optimized",
    "gpuNum": 0,
    "hideHardwareSpecs": false,
    "memoryGiB": 512,
    "name": "ml.r5.16xlarge",
    "vcpuNum": 64
   },
   {
    "_defaultOrder": 46,
    "_isFastLaunch": false,
    "category": "Memory Optimized",
    "gpuNum": 0,
    "hideHardwareSpecs": false,
    "memoryGiB": 768,
    "name": "ml.r5.24xlarge",
    "vcpuNum": 96
   },
   {
    "_defaultOrder": 47,
    "_isFastLaunch": false,
    "category": "Accelerated computing",
    "gpuNum": 1,
    "hideHardwareSpecs": false,
    "memoryGiB": 16,
    "name": "ml.g5.xlarge",
    "vcpuNum": 4
   },
   {
    "_defaultOrder": 48,
    "_isFastLaunch": false,
    "category": "Accelerated computing",
    "gpuNum": 1,
    "hideHardwareSpecs": false,
    "memoryGiB": 32,
    "name": "ml.g5.2xlarge",
    "vcpuNum": 8
   },
   {
    "_defaultOrder": 49,
    "_isFastLaunch": false,
    "category": "Accelerated computing",
    "gpuNum": 1,
    "hideHardwareSpecs": false,
    "memoryGiB": 64,
    "name": "ml.g5.4xlarge",
    "vcpuNum": 16
   },
   {
    "_defaultOrder": 50,
    "_isFastLaunch": false,
    "category": "Accelerated computing",
    "gpuNum": 1,
    "hideHardwareSpecs": false,
    "memoryGiB": 128,
    "name": "ml.g5.8xlarge",
    "vcpuNum": 32
   },
   {
    "_defaultOrder": 51,
    "_isFastLaunch": false,
    "category": "Accelerated computing",
    "gpuNum": 1,
    "hideHardwareSpecs": false,
    "memoryGiB": 256,
    "name": "ml.g5.16xlarge",
    "vcpuNum": 64
   },
   {
    "_defaultOrder": 52,
    "_isFastLaunch": false,
    "category": "Accelerated computing",
    "gpuNum": 4,
    "hideHardwareSpecs": false,
    "memoryGiB": 192,
    "name": "ml.g5.12xlarge",
    "vcpuNum": 48
   },
   {
    "_defaultOrder": 53,
    "_isFastLaunch": false,
    "category": "Accelerated computing",
    "gpuNum": 4,
    "hideHardwareSpecs": false,
    "memoryGiB": 384,
    "name": "ml.g5.24xlarge",
    "vcpuNum": 96
   },
   {
    "_defaultOrder": 54,
    "_isFastLaunch": false,
    "category": "Accelerated computing",
    "gpuNum": 8,
    "hideHardwareSpecs": false,
    "memoryGiB": 768,
    "name": "ml.g5.48xlarge",
    "vcpuNum": 192
   },
   {
    "_defaultOrder": 55,
    "_isFastLaunch": false,
    "category": "Accelerated computing",
    "gpuNum": 8,
    "hideHardwareSpecs": false,
    "memoryGiB": 1152,
    "name": "ml.p4d.24xlarge",
    "vcpuNum": 96
   },
   {
    "_defaultOrder": 56,
    "_isFastLaunch": false,
    "category": "Accelerated computing",
    "gpuNum": 8,
    "hideHardwareSpecs": false,
    "memoryGiB": 1152,
    "name": "ml.p4de.24xlarge",
    "vcpuNum": 96
   },
   {
    "_defaultOrder": 57,
    "_isFastLaunch": false,
    "category": "Accelerated computing",
    "gpuNum": 0,
    "hideHardwareSpecs": false,
    "memoryGiB": 32,
    "name": "ml.trn1.2xlarge",
    "vcpuNum": 8
   },
   {
    "_defaultOrder": 58,
    "_isFastLaunch": false,
    "category": "Accelerated computing",
    "gpuNum": 0,
    "hideHardwareSpecs": false,
    "memoryGiB": 512,
    "name": "ml.trn1.32xlarge",
    "vcpuNum": 128
   },
   {
    "_defaultOrder": 59,
    "_isFastLaunch": false,
    "category": "Accelerated computing",
    "gpuNum": 0,
    "hideHardwareSpecs": false,
    "memoryGiB": 512,
    "name": "ml.trn1n.32xlarge",
    "vcpuNum": 128
   }
  ],
  "instance_type": "ml.t3.medium",
  "kernelspec": {
   "display_name": "Python 3 (Data Science 3.0)",
   "language": "python",
   "name": "python3__SAGEMAKER_INTERNAL__arn:aws:sagemaker:us-west-2:236514542706:image/sagemaker-data-science-310-v1"
  },
  "language_info": {
   "codemirror_mode": {
    "name": "ipython",
    "version": 3
   },
   "file_extension": ".py",
   "mimetype": "text/x-python",
   "name": "python",
   "nbconvert_exporter": "python",
   "pygments_lexer": "ipython3",
   "version": "3.10.6"
  }
 },
 "nbformat": 4,
 "nbformat_minor": 5
}
