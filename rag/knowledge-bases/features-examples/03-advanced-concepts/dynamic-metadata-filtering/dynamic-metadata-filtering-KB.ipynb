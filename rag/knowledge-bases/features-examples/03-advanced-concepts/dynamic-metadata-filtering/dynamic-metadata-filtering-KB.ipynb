{
 "cells": [
  {
   "cell_type": "markdown",
   "id": "b5831f71",
   "metadata": {},
   "source": [
    "# Dynamic Metadata Filtering for Knowledge Bases for Amazon Bedrock\n",
    "\n",
    "This notebook demonstrates how to implement dynamic metadata filtering for `Knowledge Bases for Amazon Bedrock` using the `tool use` (function calling) capability and `Pydantic` for data validation. By leveraging this approach, you can enhance the flexibility and accuracy of `retrieval-augmented generation` (RAG) applications, leading to more relevant and contextually appropriate AI-generated responses.\n",
    "\n",
    "## Overview\n",
    "\n",
    "`Metadata filtering` is a powerful feature in Knowledge Bases for Amazon Bedrock that allows you to refine search results by pre-filtering the vector store based on custom metadata attributes. This approach narrows down the search space to the most relevant documents or passages, reducing noise and irrelevant information. However, manually constructing metadata filters can become challenging and error-prone, especially for complex queries or a large number of metadata attributes.\n",
    "\n",
    "To address this challenge, we can leverage the power of `foundation models` (FMs) to create a more intuitive and user-friendly solution. This approach, which we call intelligent metadata filtering, uses `function calling` (also known as tool use) to intelligently extract metadata filters from natural language inputs. Function calling allows models to interact with external tools or functions, enhancing their ability to process and respond to complex queries.\n",
    "\n",
    "By implementing intelligent metadata filtering using Amazon Bedrock and Pydantic, we can significantly enhance the flexibility and power of RAG applications. This approach allows for more intuitive querying of knowledge bases, leading to improved context recall and more relevant AI-generated responses.\n",
    "\n",
    "### Understanding Tool Use (Function Calling)\n",
    "\n",
    "`Tool use`, also known as function calling, is a powerful feature in Amazon Bedrock that allows models to access external tools or functions to enhance their response generation capabilities. When you send a message to a model, you can provide definitions for one or more tools that could potentially help the model generate a response. If the model determines it needs a tool, it responds with a request for you to call the tool, including the necessary input parameters.\n",
    "\n",
    "This feature enables models to leverage external data sources, perform calculations, or invoke other functionalities, significantly expanding their capabilities beyond pure text generation."
   ]
  },
  {
   "cell_type": "markdown",
   "id": "e09c83f2-602a-4620-89c0-c83fdcc99570",
   "metadata": {},
   "source": [
    "## Prerequisites\n",
    "\n",
    "Before proceeding, ensure you have:\n",
    "\n",
    "1. An AWS account with access to Amazon Bedrock.\n",
    "2. A Knowledge Base created in Amazon Bedrock with ingested data and metadata. If you do not have one setup, you can follow the instructions as mentioned in the [aws blogpost on metadata filtering with Knowledge Bases for Amazon Bedrock](https://aws.amazon.com/blogs/machine-learning/knowledge-bases-for-amazon-bedrock-now-supports-metadata-filtering-to-improve-retrieval-accuracy/).\n",
    "\n",
    "## Setup\n",
    "\n",
    "First, let's set up the environment with the necessary imports and boto3 clients:"
   ]
  },
  {
   "cell_type": "code",
   "execution_count": null,
   "id": "17c7feab",
   "metadata": {
    "tags": []
   },
   "outputs": [],
   "source": [
    "%pip install --force-reinstall -q -r ../requirements.txt"
   ]
  },
  {
   "cell_type": "code",
   "execution_count": null,
   "id": "e316117b",
   "metadata": {
    "tags": []
   },
   "outputs": [],
   "source": [
    "# # restart kernel\n",
    "from IPython.core.display import HTML\n",
    "HTML(\"<script>Jupyter.notebook.kernel.restart()</script>\")"
   ]
  },
  {
   "cell_type": "code",
   "execution_count": null,
   "id": "e14b3fa9-7a59-46e6-a964-91f2bfc587c8",
   "metadata": {},
   "outputs": [],
   "source": [
    "%store -r kb_id_standard"
   ]
  },
  {
   "cell_type": "code",
   "execution_count": null,
   "id": "196b605b",
   "metadata": {
    "tags": []
   },
   "outputs": [],
   "source": [
    "import json\n",
    "import boto3\n",
    "from typing import List, Optional\n",
    "from pydantic import BaseModel, validator\n",
    "\n",
    "session = boto3.session.Session()\n",
    "region = session.region_name\n",
    "bedrock = boto3.client(\"bedrock-runtime\", region_name=region)\n",
    "bedrock_agent_runtime = boto3.client(\"bedrock-agent-runtime\")\n",
    "\n",
    "MODEL_ID = \"anthropic.claude-3-haiku-20240307-v1:0\" # \"<add-model-id>\"\n",
    "\n",
    "# KB with FAISS for metadata filtering\n",
    "kb_id = kb_id_standard"
   ]
  },
  {
   "cell_type": "markdown",
   "id": "236f7cad",
   "metadata": {},
   "source": [
    "## Define Pydantic Models\n",
    "\n",
    "We'll use Pydantic models to validate and structure our extracted entities:"
   ]
  },
  {
   "cell_type": "code",
   "execution_count": null,
   "id": "d5b065f5",
   "metadata": {
    "tags": []
   },
   "outputs": [],
   "source": [
    "class Entity(BaseModel):\n",
    "    Publisher: Optional[str]\n",
    "    Year: Optional[int]\n",
    "\n",
    "class ExtractedEntities(BaseModel):\n",
    "    entities: List[Entity]\n",
    "\n",
    "    @validator('entities', pre=True)\n",
    "    def remove_duplicates(cls, entities):\n",
    "        unique_entities = []\n",
    "        seen = set()\n",
    "        for entity in entities:\n",
    "            entity_tuple = tuple(sorted(entity.items()))\n",
    "            if entity_tuple not in seen:\n",
    "                seen.add(entity_tuple)\n",
    "                unique_entities.append(dict(entity_tuple))\n",
    "        return unique_entities"
   ]
  },
  {
   "cell_type": "markdown",
   "id": "63316c08",
   "metadata": {},
   "source": [
    "## Implement Entity Extraction using Tool Use\n",
    "\n",
    "We'll define a tool for entity extraction with very basic instructions and use it with Amazon Bedrock:"
   ]
  },
  {
   "cell_type": "code",
   "execution_count": null,
   "id": "13f1dfbf",
   "metadata": {
    "tags": []
   },
   "outputs": [],
   "source": [
    "tool_name = \"extract_entities\"\n",
    "tool_description = \"Extract named entities from the text. If you are not 100% sure of the entity value, use 'unknown'.\"\n",
    "\n",
    "tool_extract_entities = [\"Publisher\", \"Year\"]\n",
    "tool_extract_property = [\"entities\"]\n",
    "\n",
    "tool_entity_description = {\n",
    "    \"Publisher\": {\"type\": \"string\", \"description\": \"The publisher of the game. First alphabet is upper case.\"},\n",
    "    \"Year\": {\"type\": \"integer\", \"description\": \"The year when the game was released.\"}\n",
    "}\n",
    "\n",
    "tool_properties = {\n",
    "    'tool_name':tool_name,\n",
    "    'tool_description':tool_description,\n",
    "    'tool_extract_entities':tool_extract_entities,\n",
    "    'tool_extract_property':tool_extract_property,\n",
    "    'tool_entity_description': tool_entity_description\n",
    "}\n",
    "\n",
    "def extract_entities(text, tool_properties):   \n",
    "    tools = [{\n",
    "            \"toolSpec\": {\n",
    "                \"name\": tool_properties['tool_name'],\n",
    "                \"description\": tool_properties['tool_description'],\n",
    "                \"inputSchema\": {\n",
    "                    \"json\": {\n",
    "                        \"type\": \"object\",\n",
    "                        \"properties\": {\n",
    "                            \"entities\": {\n",
    "                                \"type\": \"array\",\n",
    "                                \"items\": {\n",
    "                                    \"type\": \"object\",\n",
    "                                    \"properties\": tool_properties['tool_entity_description'],\n",
    "                                    \"required\": tool_properties['tool_extract_entities']\n",
    "                                }\n",
    "                            }\n",
    "                        },\n",
    "                        \"required\": tool_properties['tool_extract_property']\n",
    "                    }\n",
    "                }\n",
    "            }\n",
    "        }]\n",
    "    \n",
    "    response = bedrock.converse(\n",
    "        modelId=MODEL_ID,\n",
    "        inferenceConfig={\n",
    "            \"temperature\": 0,\n",
    "            \"maxTokens\": 4000\n",
    "        },\n",
    "        toolConfig={\"tools\": tools},\n",
    "        messages=[{\"role\": \"user\", \"content\": [{\"text\": text}]}]\n",
    "    )\n",
    "\n",
    "    json_entities = None\n",
    "    for content in response['output']['message']['content']:\n",
    "        if \"toolUse\" in content and content['toolUse']['name'] == \"extract_entities\":\n",
    "            json_entities = content['toolUse']['input']\n",
    "            break\n",
    "\n",
    "    if json_entities:\n",
    "        return ExtractedEntities.parse_obj(json_entities)\n",
    "    else:\n",
    "        print(\"No entities found in the response.\")\n",
    "        return None"
   ]
  },
  {
   "cell_type": "markdown",
   "id": "397e7731",
   "metadata": {},
   "source": [
    "## Construct Metadata Filter\n",
    "\n",
    "Now, let's create a function to construct the metadata filter based on the extracted entities:"
   ]
  },
  {
   "cell_type": "code",
   "execution_count": null,
   "id": "b9995520",
   "metadata": {
    "tags": []
   },
   "outputs": [],
   "source": [
    "def construct_metadata_filter(extracted_entities):\n",
    "    if not extracted_entities or not extracted_entities.entities:\n",
    "        return None\n",
    "\n",
    "    entity = extracted_entities.entities[0]\n",
    "    metadata_filter = {\"andAll\": []}\n",
    "\n",
    "    if entity.Publisher and entity.Publisher != 'unknown':\n",
    "        metadata_filter[\"andAll\"].append({\n",
    "            \"equals\": {\n",
    "                \"key\": \"Publisher\",\n",
    "                \"value\": entity.Publisher\n",
    "            }\n",
    "        })\n",
    "\n",
    "    if entity.Year and entity.Year != 'unknown':\n",
    "        metadata_filter[\"andAll\"].append({\n",
    "            \"greaterThanOrEquals\": {\n",
    "                \"key\": \"Year\",\n",
    "                \"value\": int(entity.Year)\n",
    "            }\n",
    "        })\n",
    "\n",
    "    return metadata_filter if metadata_filter[\"andAll\"] else None"
   ]
  },
  {
   "cell_type": "markdown",
   "id": "50f50fe4",
   "metadata": {},
   "source": [
    "## Process Query and Retrieve Results\n",
    "\n",
    "Finally, let's create a main function to process the query and retrieve results using the `Retrieve` API from Amazon Bedrock. This function will leverage the previously defined methods for entity extraction and metadata filter construction.\n",
    "\n",
    "Note that this implementation demonstrates the use of the `Retrieve` API, but you can also leverage the `RetrieveAndGenerate` API to directly generate responses based on the retrieved context. The choice between these APIs depends on your specific use case and requirements."
   ]
  },
  {
   "cell_type": "code",
   "execution_count": null,
   "id": "7884820e",
   "metadata": {
    "tags": []
   },
   "outputs": [],
   "source": [
    "def process_query(text, tool_properties):\n",
    "    extracted_entities = extract_entities(text, tool_properties)\n",
    "    metadata_filter = construct_metadata_filter(extracted_entities)\n",
    "    print('Here is the prepared metadata filters:')\n",
    "    print(metadata_filter)\n",
    "\n",
    "    response = bedrock_agent_runtime.retrieve(\n",
    "        knowledgeBaseId=kb_id,\n",
    "        retrievalConfiguration={\n",
    "            \"vectorSearchConfiguration\": {\n",
    "                \"filter\": metadata_filter\n",
    "            }\n",
    "        },\n",
    "        retrievalQuery={\n",
    "            'text': text\n",
    "        }\n",
    "    )\n",
    "    return response"
   ]
  },
  {
   "cell_type": "markdown",
   "id": "86ec1f91",
   "metadata": {},
   "source": [
    "## Example Usage\n",
    "\n",
    "You can test the implementation with the following example:"
   ]
  },
  {
   "cell_type": "code",
   "execution_count": null,
   "id": "dee81646",
   "metadata": {
    "tags": []
   },
   "outputs": [],
   "source": [
    "text = \"Provide a list of all video games published by Rockstar Games and released after 2010\"\n",
    "results = process_query(text, tool_properties)\n",
    "\n",
    "# Print results\n",
    "print(results)"
   ]
  },
  {
   "cell_type": "markdown",
   "id": "0dd5d8b7",
   "metadata": {},
   "source": [
    "## Handling Edge Cases\n",
    "\n",
    "When implementing dynamic metadata filtering, it's important to consider and handle edge cases. Here are some ways you can address them:\n",
    "\n",
    "If the function calling process fails to extract any metadata from the user query due to absence of filters or errors, you have several options:\n",
    "\n",
    "1. `Proceed without filters`: This allows for a broad search but may reduce precision.\n",
    "2. `Apply a default filter`: This can help maintain some level of filtering even when no specific metadata is extracted.\n",
    "3. `Use the most common filter`: If you have statistics available on common user queries, you could apply the most frequently used filter.\n",
    "4. `Strict Policy Handling`: For cases where you want to enforce stricter policies or adhere to specific responsible AI guidelines, you might choose not to process queries that don't yield metadata.\n",
    "\n",
    "## Performance Considerations\n",
    "\n",
    "It's important to note that this dynamic approach introduces an additional FM call to extract metadata, which will increase both cost and latency. To mitigate this:\n",
    "\n",
    "1. Consider using a faster, lighter FM for the metadata extraction step. This can help reduce latency and cost while still providing accurate entity extraction.\n",
    "2. Implement caching mechanisms for common queries to avoid redundant FM calls.\n",
    "3. Monitor and optimize the performance of your metadata extraction model regularly.\n",
    "\n",
    "## Cleanup\n",
    "\n",
    "After you've finished experimenting with this solution, it's crucial to clean up your resources to avoid unnecessary charges. Please follow the detailed cleanup instructions provided in the `Clean up` section of the blog post: [Knowledge Bases for Amazon Bedrock now supports metadata filtering to improve retrieval accuracy](https://aws.amazon.com/blogs/machine-learning/knowledge-bases-for-amazon-bedrock-now-supports-metadata-filtering-to-improve-retrieval-accuracy/).\n",
    "\n",
    "These steps will guide you through deleting your Knowledge Base, vector database, IAM roles, and sample datasets, ensuring that you don't incur any unexpected costs.\n",
    "\n",
    "## Conclusion\n",
    "\n",
    "By implementing dynamic metadata filtering using Amazon Bedrock and Pydantic, we've significantly enhanced the flexibility and power of RAG applications. This approach allows for more intuitive querying of knowledge bases, leading to improved context recall and more relevant AI-generated responses.\n",
    "\n",
    "As you explore this technique, remember to balance the benefits of dynamic filtering against the additional computational costs. We encourage you to try this method in your own RAG applications and share your experiences with the community.\n"
   ]
  },
  {
   "cell_type": "markdown",
   "id": "8cb76702",
   "metadata": {},
   "source": [
    "# End"
   ]
  }
 ],
 "metadata": {
  "availableInstances": [
   {
    "_defaultOrder": 0,
    "_isFastLaunch": true,
    "category": "General purpose",
    "gpuNum": 0,
    "hideHardwareSpecs": false,
    "memoryGiB": 4,
    "name": "ml.t3.medium",
    "vcpuNum": 2
   },
   {
    "_defaultOrder": 1,
    "_isFastLaunch": false,
    "category": "General purpose",
    "gpuNum": 0,
    "hideHardwareSpecs": false,
    "memoryGiB": 8,
    "name": "ml.t3.large",
    "vcpuNum": 2
   },
   {
    "_defaultOrder": 2,
    "_isFastLaunch": false,
    "category": "General purpose",
    "gpuNum": 0,
    "hideHardwareSpecs": false,
    "memoryGiB": 16,
    "name": "ml.t3.xlarge",
    "vcpuNum": 4
   },
   {
    "_defaultOrder": 3,
    "_isFastLaunch": false,
    "category": "General purpose",
    "gpuNum": 0,
    "hideHardwareSpecs": false,
    "memoryGiB": 32,
    "name": "ml.t3.2xlarge",
    "vcpuNum": 8
   },
   {
    "_defaultOrder": 4,
    "_isFastLaunch": true,
    "category": "General purpose",
    "gpuNum": 0,
    "hideHardwareSpecs": false,
    "memoryGiB": 8,
    "name": "ml.m5.large",
    "vcpuNum": 2
   },
   {
    "_defaultOrder": 5,
    "_isFastLaunch": false,
    "category": "General purpose",
    "gpuNum": 0,
    "hideHardwareSpecs": false,
    "memoryGiB": 16,
    "name": "ml.m5.xlarge",
    "vcpuNum": 4
   },
   {
    "_defaultOrder": 6,
    "_isFastLaunch": false,
    "category": "General purpose",
    "gpuNum": 0,
    "hideHardwareSpecs": false,
    "memoryGiB": 32,
    "name": "ml.m5.2xlarge",
    "vcpuNum": 8
   },
   {
    "_defaultOrder": 7,
    "_isFastLaunch": false,
    "category": "General purpose",
    "gpuNum": 0,
    "hideHardwareSpecs": false,
    "memoryGiB": 64,
    "name": "ml.m5.4xlarge",
    "vcpuNum": 16
   },
   {
    "_defaultOrder": 8,
    "_isFastLaunch": false,
    "category": "General purpose",
    "gpuNum": 0,
    "hideHardwareSpecs": false,
    "memoryGiB": 128,
    "name": "ml.m5.8xlarge",
    "vcpuNum": 32
   },
   {
    "_defaultOrder": 9,
    "_isFastLaunch": false,
    "category": "General purpose",
    "gpuNum": 0,
    "hideHardwareSpecs": false,
    "memoryGiB": 192,
    "name": "ml.m5.12xlarge",
    "vcpuNum": 48
   },
   {
    "_defaultOrder": 10,
    "_isFastLaunch": false,
    "category": "General purpose",
    "gpuNum": 0,
    "hideHardwareSpecs": false,
    "memoryGiB": 256,
    "name": "ml.m5.16xlarge",
    "vcpuNum": 64
   },
   {
    "_defaultOrder": 11,
    "_isFastLaunch": false,
    "category": "General purpose",
    "gpuNum": 0,
    "hideHardwareSpecs": false,
    "memoryGiB": 384,
    "name": "ml.m5.24xlarge",
    "vcpuNum": 96
   },
   {
    "_defaultOrder": 12,
    "_isFastLaunch": false,
    "category": "General purpose",
    "gpuNum": 0,
    "hideHardwareSpecs": false,
    "memoryGiB": 8,
    "name": "ml.m5d.large",
    "vcpuNum": 2
   },
   {
    "_defaultOrder": 13,
    "_isFastLaunch": false,
    "category": "General purpose",
    "gpuNum": 0,
    "hideHardwareSpecs": false,
    "memoryGiB": 16,
    "name": "ml.m5d.xlarge",
    "vcpuNum": 4
   },
   {
    "_defaultOrder": 14,
    "_isFastLaunch": false,
    "category": "General purpose",
    "gpuNum": 0,
    "hideHardwareSpecs": false,
    "memoryGiB": 32,
    "name": "ml.m5d.2xlarge",
    "vcpuNum": 8
   },
   {
    "_defaultOrder": 15,
    "_isFastLaunch": false,
    "category": "General purpose",
    "gpuNum": 0,
    "hideHardwareSpecs": false,
    "memoryGiB": 64,
    "name": "ml.m5d.4xlarge",
    "vcpuNum": 16
   },
   {
    "_defaultOrder": 16,
    "_isFastLaunch": false,
    "category": "General purpose",
    "gpuNum": 0,
    "hideHardwareSpecs": false,
    "memoryGiB": 128,
    "name": "ml.m5d.8xlarge",
    "vcpuNum": 32
   },
   {
    "_defaultOrder": 17,
    "_isFastLaunch": false,
    "category": "General purpose",
    "gpuNum": 0,
    "hideHardwareSpecs": false,
    "memoryGiB": 192,
    "name": "ml.m5d.12xlarge",
    "vcpuNum": 48
   },
   {
    "_defaultOrder": 18,
    "_isFastLaunch": false,
    "category": "General purpose",
    "gpuNum": 0,
    "hideHardwareSpecs": false,
    "memoryGiB": 256,
    "name": "ml.m5d.16xlarge",
    "vcpuNum": 64
   },
   {
    "_defaultOrder": 19,
    "_isFastLaunch": false,
    "category": "General purpose",
    "gpuNum": 0,
    "hideHardwareSpecs": false,
    "memoryGiB": 384,
    "name": "ml.m5d.24xlarge",
    "vcpuNum": 96
   },
   {
    "_defaultOrder": 20,
    "_isFastLaunch": false,
    "category": "General purpose",
    "gpuNum": 0,
    "hideHardwareSpecs": true,
    "memoryGiB": 0,
    "name": "ml.geospatial.interactive",
    "supportedImageNames": [
     "sagemaker-geospatial-v1-0"
    ],
    "vcpuNum": 0
   },
   {
    "_defaultOrder": 21,
    "_isFastLaunch": true,
    "category": "Compute optimized",
    "gpuNum": 0,
    "hideHardwareSpecs": false,
    "memoryGiB": 4,
    "name": "ml.c5.large",
    "vcpuNum": 2
   },
   {
    "_defaultOrder": 22,
    "_isFastLaunch": false,
    "category": "Compute optimized",
    "gpuNum": 0,
    "hideHardwareSpecs": false,
    "memoryGiB": 8,
    "name": "ml.c5.xlarge",
    "vcpuNum": 4
   },
   {
    "_defaultOrder": 23,
    "_isFastLaunch": false,
    "category": "Compute optimized",
    "gpuNum": 0,
    "hideHardwareSpecs": false,
    "memoryGiB": 16,
    "name": "ml.c5.2xlarge",
    "vcpuNum": 8
   },
   {
    "_defaultOrder": 24,
    "_isFastLaunch": false,
    "category": "Compute optimized",
    "gpuNum": 0,
    "hideHardwareSpecs": false,
    "memoryGiB": 32,
    "name": "ml.c5.4xlarge",
    "vcpuNum": 16
   },
   {
    "_defaultOrder": 25,
    "_isFastLaunch": false,
    "category": "Compute optimized",
    "gpuNum": 0,
    "hideHardwareSpecs": false,
    "memoryGiB": 72,
    "name": "ml.c5.9xlarge",
    "vcpuNum": 36
   },
   {
    "_defaultOrder": 26,
    "_isFastLaunch": false,
    "category": "Compute optimized",
    "gpuNum": 0,
    "hideHardwareSpecs": false,
    "memoryGiB": 96,
    "name": "ml.c5.12xlarge",
    "vcpuNum": 48
   },
   {
    "_defaultOrder": 27,
    "_isFastLaunch": false,
    "category": "Compute optimized",
    "gpuNum": 0,
    "hideHardwareSpecs": false,
    "memoryGiB": 144,
    "name": "ml.c5.18xlarge",
    "vcpuNum": 72
   },
   {
    "_defaultOrder": 28,
    "_isFastLaunch": false,
    "category": "Compute optimized",
    "gpuNum": 0,
    "hideHardwareSpecs": false,
    "memoryGiB": 192,
    "name": "ml.c5.24xlarge",
    "vcpuNum": 96
   },
   {
    "_defaultOrder": 29,
    "_isFastLaunch": true,
    "category": "Accelerated computing",
    "gpuNum": 1,
    "hideHardwareSpecs": false,
    "memoryGiB": 16,
    "name": "ml.g4dn.xlarge",
    "vcpuNum": 4
   },
   {
    "_defaultOrder": 30,
    "_isFastLaunch": false,
    "category": "Accelerated computing",
    "gpuNum": 1,
    "hideHardwareSpecs": false,
    "memoryGiB": 32,
    "name": "ml.g4dn.2xlarge",
    "vcpuNum": 8
   },
   {
    "_defaultOrder": 31,
    "_isFastLaunch": false,
    "category": "Accelerated computing",
    "gpuNum": 1,
    "hideHardwareSpecs": false,
    "memoryGiB": 64,
    "name": "ml.g4dn.4xlarge",
    "vcpuNum": 16
   },
   {
    "_defaultOrder": 32,
    "_isFastLaunch": false,
    "category": "Accelerated computing",
    "gpuNum": 1,
    "hideHardwareSpecs": false,
    "memoryGiB": 128,
    "name": "ml.g4dn.8xlarge",
    "vcpuNum": 32
   },
   {
    "_defaultOrder": 33,
    "_isFastLaunch": false,
    "category": "Accelerated computing",
    "gpuNum": 4,
    "hideHardwareSpecs": false,
    "memoryGiB": 192,
    "name": "ml.g4dn.12xlarge",
    "vcpuNum": 48
   },
   {
    "_defaultOrder": 34,
    "_isFastLaunch": false,
    "category": "Accelerated computing",
    "gpuNum": 1,
    "hideHardwareSpecs": false,
    "memoryGiB": 256,
    "name": "ml.g4dn.16xlarge",
    "vcpuNum": 64
   },
   {
    "_defaultOrder": 35,
    "_isFastLaunch": false,
    "category": "Accelerated computing",
    "gpuNum": 1,
    "hideHardwareSpecs": false,
    "memoryGiB": 61,
    "name": "ml.p3.2xlarge",
    "vcpuNum": 8
   },
   {
    "_defaultOrder": 36,
    "_isFastLaunch": false,
    "category": "Accelerated computing",
    "gpuNum": 4,
    "hideHardwareSpecs": false,
    "memoryGiB": 244,
    "name": "ml.p3.8xlarge",
    "vcpuNum": 32
   },
   {
    "_defaultOrder": 37,
    "_isFastLaunch": false,
    "category": "Accelerated computing",
    "gpuNum": 8,
    "hideHardwareSpecs": false,
    "memoryGiB": 488,
    "name": "ml.p3.16xlarge",
    "vcpuNum": 64
   },
   {
    "_defaultOrder": 38,
    "_isFastLaunch": false,
    "category": "Accelerated computing",
    "gpuNum": 8,
    "hideHardwareSpecs": false,
    "memoryGiB": 768,
    "name": "ml.p3dn.24xlarge",
    "vcpuNum": 96
   },
   {
    "_defaultOrder": 39,
    "_isFastLaunch": false,
    "category": "Memory Optimized",
    "gpuNum": 0,
    "hideHardwareSpecs": false,
    "memoryGiB": 16,
    "name": "ml.r5.large",
    "vcpuNum": 2
   },
   {
    "_defaultOrder": 40,
    "_isFastLaunch": false,
    "category": "Memory Optimized",
    "gpuNum": 0,
    "hideHardwareSpecs": false,
    "memoryGiB": 32,
    "name": "ml.r5.xlarge",
    "vcpuNum": 4
   },
   {
    "_defaultOrder": 41,
    "_isFastLaunch": false,
    "category": "Memory Optimized",
    "gpuNum": 0,
    "hideHardwareSpecs": false,
    "memoryGiB": 64,
    "name": "ml.r5.2xlarge",
    "vcpuNum": 8
   },
   {
    "_defaultOrder": 42,
    "_isFastLaunch": false,
    "category": "Memory Optimized",
    "gpuNum": 0,
    "hideHardwareSpecs": false,
    "memoryGiB": 128,
    "name": "ml.r5.4xlarge",
    "vcpuNum": 16
   },
   {
    "_defaultOrder": 43,
    "_isFastLaunch": false,
    "category": "Memory Optimized",
    "gpuNum": 0,
    "hideHardwareSpecs": false,
    "memoryGiB": 256,
    "name": "ml.r5.8xlarge",
    "vcpuNum": 32
   },
   {
    "_defaultOrder": 44,
    "_isFastLaunch": false,
    "category": "Memory Optimized",
    "gpuNum": 0,
    "hideHardwareSpecs": false,
    "memoryGiB": 384,
    "name": "ml.r5.12xlarge",
    "vcpuNum": 48
   },
   {
    "_defaultOrder": 45,
    "_isFastLaunch": false,
    "category": "Memory Optimized",
    "gpuNum": 0,
    "hideHardwareSpecs": false,
    "memoryGiB": 512,
    "name": "ml.r5.16xlarge",
    "vcpuNum": 64
   },
   {
    "_defaultOrder": 46,
    "_isFastLaunch": false,
    "category": "Memory Optimized",
    "gpuNum": 0,
    "hideHardwareSpecs": false,
    "memoryGiB": 768,
    "name": "ml.r5.24xlarge",
    "vcpuNum": 96
   },
   {
    "_defaultOrder": 47,
    "_isFastLaunch": false,
    "category": "Accelerated computing",
    "gpuNum": 1,
    "hideHardwareSpecs": false,
    "memoryGiB": 16,
    "name": "ml.g5.xlarge",
    "vcpuNum": 4
   },
   {
    "_defaultOrder": 48,
    "_isFastLaunch": false,
    "category": "Accelerated computing",
    "gpuNum": 1,
    "hideHardwareSpecs": false,
    "memoryGiB": 32,
    "name": "ml.g5.2xlarge",
    "vcpuNum": 8
   },
   {
    "_defaultOrder": 49,
    "_isFastLaunch": false,
    "category": "Accelerated computing",
    "gpuNum": 1,
    "hideHardwareSpecs": false,
    "memoryGiB": 64,
    "name": "ml.g5.4xlarge",
    "vcpuNum": 16
   },
   {
    "_defaultOrder": 50,
    "_isFastLaunch": false,
    "category": "Accelerated computing",
    "gpuNum": 1,
    "hideHardwareSpecs": false,
    "memoryGiB": 128,
    "name": "ml.g5.8xlarge",
    "vcpuNum": 32
   },
   {
    "_defaultOrder": 51,
    "_isFastLaunch": false,
    "category": "Accelerated computing",
    "gpuNum": 1,
    "hideHardwareSpecs": false,
    "memoryGiB": 256,
    "name": "ml.g5.16xlarge",
    "vcpuNum": 64
   },
   {
    "_defaultOrder": 52,
    "_isFastLaunch": false,
    "category": "Accelerated computing",
    "gpuNum": 4,
    "hideHardwareSpecs": false,
    "memoryGiB": 192,
    "name": "ml.g5.12xlarge",
    "vcpuNum": 48
   },
   {
    "_defaultOrder": 53,
    "_isFastLaunch": false,
    "category": "Accelerated computing",
    "gpuNum": 4,
    "hideHardwareSpecs": false,
    "memoryGiB": 384,
    "name": "ml.g5.24xlarge",
    "vcpuNum": 96
   },
   {
    "_defaultOrder": 54,
    "_isFastLaunch": false,
    "category": "Accelerated computing",
    "gpuNum": 8,
    "hideHardwareSpecs": false,
    "memoryGiB": 768,
    "name": "ml.g5.48xlarge",
    "vcpuNum": 192
   },
   {
    "_defaultOrder": 55,
    "_isFastLaunch": false,
    "category": "Accelerated computing",
    "gpuNum": 8,
    "hideHardwareSpecs": false,
    "memoryGiB": 1152,
    "name": "ml.p4d.24xlarge",
    "vcpuNum": 96
   },
   {
    "_defaultOrder": 56,
    "_isFastLaunch": false,
    "category": "Accelerated computing",
    "gpuNum": 8,
    "hideHardwareSpecs": false,
    "memoryGiB": 1152,
    "name": "ml.p4de.24xlarge",
    "vcpuNum": 96
   },
   {
    "_defaultOrder": 57,
    "_isFastLaunch": false,
    "category": "Accelerated computing",
    "gpuNum": 0,
    "hideHardwareSpecs": false,
    "memoryGiB": 32,
    "name": "ml.trn1.2xlarge",
    "vcpuNum": 8
   },
   {
    "_defaultOrder": 58,
    "_isFastLaunch": false,
    "category": "Accelerated computing",
    "gpuNum": 0,
    "hideHardwareSpecs": false,
    "memoryGiB": 512,
    "name": "ml.trn1.32xlarge",
    "vcpuNum": 128
   },
   {
    "_defaultOrder": 59,
    "_isFastLaunch": false,
    "category": "Accelerated computing",
    "gpuNum": 0,
    "hideHardwareSpecs": false,
    "memoryGiB": 512,
    "name": "ml.trn1n.32xlarge",
    "vcpuNum": 128
   }
  ],
  "instance_type": "ml.t3.medium",
  "kernelspec": {
   "display_name": "Python 3 (Data Science 3.0)",
   "language": "python",
   "name": "python3__SAGEMAKER_INTERNAL__arn:aws:sagemaker:us-west-2:236514542706:image/sagemaker-data-science-310-v1"
  },
  "language_info": {
   "codemirror_mode": {
    "name": "ipython",
    "version": 3
   },
   "file_extension": ".py",
   "mimetype": "text/x-python",
   "name": "python",
   "nbconvert_exporter": "python",
   "pygments_lexer": "ipython3",
   "version": "3.10.6"
  }
 },
 "nbformat": 4,
 "nbformat_minor": 5
}
