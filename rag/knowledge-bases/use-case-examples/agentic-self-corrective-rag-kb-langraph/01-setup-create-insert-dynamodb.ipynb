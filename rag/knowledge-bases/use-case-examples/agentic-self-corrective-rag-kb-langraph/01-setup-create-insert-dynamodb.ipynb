{
 "cells": [
  {
   "cell_type": "markdown",
   "id": "b5194281-422b-440b-aa7c-51f112307fb7",
   "metadata": {},
   "source": [
    "## Setup DynamoDB Table for RAG Knowledge Base\n",
    "\n",
    "This notebook demonstrates how to:\n",
    "1. Create a DynamoDB table to store glossary terms and definitions\n",
    "2. Insert terms and definitions into the table\n",
    "3. Query the table for glossary lookups\n",
    "\n",
    "The glossary will be used as a knowledge base for query expansion in an agentic RAG (Retrieval-Augmented Generation) system."
   ]
  },
  {
   "cell_type": "markdown",
   "metadata": {},
   "source": [
    "## Install Dependencies\n",
    "\n",
    "Install required packages for working with AWS services and data processing."
   ]
  },
  {
   "cell_type": "code",
   "execution_count": null,
   "id": "8c35106f-0108-4d55-a1b7-99803b0df531",
   "metadata": {
    "tags": []
   },
   "outputs": [],
   "source": [
    "%pip install --force-reinstall -q -r ../../features-examples/requirements.txt"
   ]
  },
  {
   "cell_type": "code",
   "execution_count": null,
   "id": "b59bd6e1-7b3b-4a49-a1ea-49d243f1431b",
   "metadata": {
    "tags": []
   },
   "outputs": [],
   "source": [
    "# Restart kernel to ensure all installed dependencies are properly loaded\n",
    "from IPython.core.display import HTML\n",
    "HTML(\"<script>Jupyter.notebook.kernel.restart()</script>\")"
   ]
  },
  {
   "cell_type": "markdown",
   "metadata": {},
   "source": [
    "## Set Up AWS Session\n",
    "\n",
    "Import boto3 and set up an AWS session for interacting with DynamoDB. Also check the boto3 version."
   ]
  },
  {
   "cell_type": "code",
   "execution_count": null,
   "id": "3389ed24-bfa0-4b16-9171-e2cfe5d65d67",
   "metadata": {
    "tags": []
   },
   "outputs": [],
   "source": [
    "import json\n",
    "import boto3\n",
    "from typing import List, Optional\n",
    "from pydantic import BaseModel, validator\n",
    "\n",
    "session = boto3.session.Session()\n",
    "region = session.region_name\n"
   ]
  },
  {
   "cell_type": "code",
   "execution_count": null,
   "id": "8845c4e7-56ca-4ce7-9107-974431c4e675",
   "metadata": {
    "tags": []
   },
   "outputs": [],
   "source": [
    "import boto3\n",
    "import json, sys\n",
    "from datetime import datetime\n",
    "\n",
    "print('Running boto3 version:', boto3.__version__)"
   ]
  },
  {
   "cell_type": "markdown",
   "id": "d3e4379c",
   "metadata": {},
   "source": [
    "## Parse Glossary Text\n",
    "\n",
    "This function `convert_glossary_to_dict` parses a multi-line glossary string into a structured list of dictionaries. \n",
    "Each entry contains a term and its definition, which will be stored in the DynamoDB table."
   ]
  },
  {
   "cell_type": "code",
   "execution_count": null,
   "id": "128a6ecd-0166-43f8-a37f-5601b5327a42",
   "metadata": {
    "tags": []
   },
   "outputs": [],
   "source": [
    "def convert_glossary_to_dict(glossary):\n",
    "    terms = []\n",
    "    current_term = None\n",
    "    current_definition = None\n",
    "\n",
    "    for line in glossary.split('\\n'):\n",
    "        line = line.strip()\n",
    "        if line:\n",
    "            terms_def = line.split(': ')\n",
    "            current_term = terms_def[0].lower()\n",
    "            current_definition = terms_def[1]\n",
    "            if current_term:\n",
    "                terms.append({'term': current_term.lower(), 'term_definition': current_definition})\n",
    "\n",
    "    return terms"
   ]
  },
  {
   "cell_type": "markdown",
   "id": "03cfb92f",
   "metadata": {},
   "source": [
    "## Test the Glossary Parser\n",
    "\n",
    "Create a sample glossary with financial terminology and test the parsing function. \n",
    "The output shows a list of dictionaries with term-definition pairs converted from the text format."
   ]
  },
  {
   "cell_type": "code",
   "execution_count": null,
   "id": "76563554-f692-4164-b226-0443947eddd3",
   "metadata": {
    "tags": []
   },
   "outputs": [],
   "source": [
    "sample_glossary = \"\"\"\n",
    "net book value: The net book value of each asset class is calculated as the cost less the accumulated depreciation.\n",
    "dcm: Disclosure Committee Members \n",
    "ceo: Cheif Executive Officer\n",
    "htm: held-to-maturity\n",
    "DCMs: Disclosure Committee Members\n",
    "\"\"\"\n",
    "elements = convert_glossary_to_dict(sample_glossary)\n",
    "print(elements)"
   ]
  },
  {
   "cell_type": "markdown",
   "id": "d2f74dd4",
   "metadata": {},
   "source": [
    "## Create DynamoDB Table Helper Function\n",
    "\n",
    "This function creates a DynamoDB table with a defined schema:\n",
    "- Uses 'term' as the partition key (HASH)\n",
    "- Sets up the attribute definitions and provisioned throughput\n",
    "- Configures read and write capacity units"
   ]
  },
  {
   "cell_type": "code",
   "execution_count": null,
   "id": "c24b963f-0130-41ec-b366-046d08f07ce9",
   "metadata": {
    "tags": []
   },
   "outputs": [],
   "source": [
    "import boto3, botocore\n",
    "\n",
    "def create_dynamo_table(table_name):\n",
    "    \"\"\"\n",
    "    Creates a DynamoDB table with the given name and attributes.\n",
    "    \n",
    "    Args:\n",
    "        table_name (str): The name of the DynamoDB table to create.\n",
    "        attributes (dict): A dictionary where keys are attribute names and values are attribute data types.\n",
    "    \n",
    "    Returns:\n",
    "        dict: The response from the DynamoDB service when creating the table.\n",
    "    \"\"\"\n",
    "    # Create a DynamoDB client\n",
    "    dynamodb = boto3.client('dynamodb')\n",
    "    \n",
    "    # Define the key schema and attribute definitions\n",
    "    key_schema = [\n",
    "        {'AttributeName': 'term', 'KeyType': 'HASH'},  # 'term' is the partition key\n",
    "    ]\n",
    "    attribute_definitions = [\n",
    "        {'AttributeName': 'term', 'AttributeType': 'S'},\n",
    "    ]\n",
    "    \n",
    "    # Create the table\n",
    "    table = dynamodb.create_table(\n",
    "        TableName=table_name,\n",
    "        KeySchema=key_schema,\n",
    "        AttributeDefinitions=attribute_definitions,\n",
    "        ProvisionedThroughput={\n",
    "            'ReadCapacityUnits': 5,\n",
    "            'WriteCapacityUnits': 5\n",
    "        }\n",
    "    )\n",
    "    \n",
    "    return table"
   ]
  },
  {
   "cell_type": "markdown",
   "id": "ebef0840",
   "metadata": {},
   "source": [
    "## Create the DynamoDB Table\n",
    "\n",
    "Create a new DynamoDB table named 'glossary-2'. The output shows the table description including:\n",
    "- Table attributes and schema\n",
    "- Provisioned throughput values\n",
    "- Creation time and status\n",
    "- ARN and other table properties"
   ]
  },
  {
   "cell_type": "code",
   "execution_count": null,
   "id": "332fafa1-83d1-4f21-977f-7d37d02467ff",
   "metadata": {
    "tags": []
   },
   "outputs": [],
   "source": [
    "# Define the table name\n",
    "table_name = 'glossary-2'\n",
    "\n",
    "try:\n",
    "    # Attempt to create the table\n",
    "    table_response = create_dynamo_table(table_name)\n",
    "    print(table_response)\n",
    "except botocore.exceptions.ClientError as e:\n",
    "    # Check if the error is because the table already exists\n",
    "    if e.response['Error']['Code'] == 'ResourceInUseException':\n",
    "        print(f\"Table {table_name} already exists. Skipping creation.\")\n",
    "    else:\n",
    "        # Re-raise the exception if it's not the \"table exists\" error\n",
    "        raise"
   ]
  },
  {
   "cell_type": "markdown",
   "metadata": {},
   "source": [
    "## Insert Items into DynamoDB\n",
    "\n",
    "This cell:\n",
    "1. Creates a DynamoDB resource\n",
    "2. References the table we just created\n",
    "3. Adds a delay to ensure the table is fully created\n",
    "4. Defines a function to batch write items to the table\n",
    "5. Inserts the parsed glossary elements into the DynamoDB table"
   ]
  },
  {
   "cell_type": "code",
   "execution_count": null,
   "id": "b972fb6f-5004-4c25-bb0e-aa1cfb0a660f",
   "metadata": {
    "tags": []
   },
   "outputs": [],
   "source": [
    "import boto3\n",
    "import time\n",
    "\n",
    "# Create a DynamoDB resource\n",
    "dynamodb = boto3.resource('dynamodb')\n",
    "\n",
    "table = dynamodb.Table(table_name)\n",
    "\n",
    "time.sleep(10)\n",
    "\n",
    "def write_items_ddb(elements):\n",
    "# Batch write items to the table\n",
    "    with table.batch_writer() as batch:\n",
    "        for element in elements:\n",
    "            batch.put_item(Item=element)\n",
    "\n",
    "    print(\"Elements inserted successfully.\")\n",
    "    return 0\n",
    "\n",
    "write_items_ddb(elements)"
   ]
  },
  {
   "cell_type": "markdown",
   "metadata": {},
   "source": [
    "## Helper function: Get All Terms from DynamoDB\n",
    "\n",
    "This function queries the DynamoDB table to retrieve all terms:\n",
    "1. Creates a DynamoDB resource for the specified table\n",
    "2. Uses the scan operation with a projection expression to get only the term field\n",
    "3. Handles pagination with LastEvaluatedKey to get all items if there are more than the query limit\n",
    "4. Returns a list of all terms in the table"
   ]
  },
  {
   "cell_type": "code",
   "execution_count": null,
   "id": "7cd6e91a-9dec-4b66-a2d2-aef2920af8da",
   "metadata": {
    "tags": []
   },
   "outputs": [],
   "source": [
    "def get_all_terms(table_name):\n",
    "    dynamodb = boto3.resource('dynamodb')\n",
    "    table = dynamodb.Table(table_name)\n",
    "\n",
    "    response = table.scan(\n",
    "        ProjectionExpression='term'\n",
    "    )\n",
    "\n",
    "    terms = [item['term'] for item in response['Items']]\n",
    "\n",
    "    while 'LastEvaluatedKey' in response:\n",
    "        response = table.scan(\n",
    "            ProjectionExpression='term',\n",
    "            ExclusiveStartKey=response['LastEvaluatedKey']\n",
    "        )\n",
    "        terms.extend([item['term'] for item in response['Items']])\n",
    "\n",
    "    return terms"
   ]
  },
  {
   "cell_type": "markdown",
   "metadata": {},
   "source": [
    "\n",
    "## Verify Term Storage\n",
    "\n",
    "Test the `get_all_terms` function to retrieve and display all stored terms from the DynamoDB table."
   ]
  },
  {
   "cell_type": "code",
   "execution_count": null,
   "id": "d980ecae-b00d-48c6-9ced-cacad73ebf3b",
   "metadata": {
    "tags": []
   },
   "outputs": [],
   "source": [
    "get_all_terms(table_name)"
   ]
  },
  {
   "cell_type": "markdown",
   "id": "d71186d9",
   "metadata": {},
   "source": [
    "## Store the Table Name\n",
    "\n",
    "Store the table name as a variable that can be accessed in other notebooks using Jupyter's `%store` magic command.\n",
    "This allows the second notebook to use the same table name without hardcoding it."
   ]
  },
  {
   "cell_type": "code",
   "execution_count": null,
   "id": "5b8407c9-4ccd-4787-b918-b226ccfd9efa",
   "metadata": {},
   "outputs": [],
   "source": [
    "%store table_name"
   ]
  },
  {
   "cell_type": "markdown",
   "id": "1f90315e",
   "metadata": {},
   "source": [
    "## Optional Clean Up\n",
    "\n",
    "If you don't plan to run the second notebook: `02-langgraph_agentic_rag.ipynb`, please uncomment and run the cell below when you no longer need the table to avoid incurring unnecessary AWS costs."
   ]
  },
  {
   "cell_type": "code",
   "execution_count": null,
   "id": "c9f58c7b",
   "metadata": {},
   "outputs": [],
   "source": [
    "# Cleanup function to delete the DynamoDB table\n",
    "def delete_dynamodb_table(table_name):\n",
    "    \"\"\"\n",
    "    Deletes a DynamoDB table with the given name.\n",
    "    \n",
    "    Args:\n",
    "        table_name (str): The name of the DynamoDB table to delete.\n",
    "    \n",
    "    Returns:\n",
    "        dict: The response from the DynamoDB service when deleting the table.\n",
    "    \"\"\"\n",
    "    try:\n",
    "        # Create a DynamoDB client\n",
    "        dynamodb = boto3.client('dynamodb')\n",
    "        \n",
    "        # Delete the table\n",
    "        response = dynamodb.delete_table(\n",
    "            TableName=table_name\n",
    "        )\n",
    "        \n",
    "        print(f\"Table {table_name} deletion initiated. Waiting for completion...\")\n",
    "        \n",
    "        # Create a DynamoDB resource\n",
    "        dynamodb_resource = boto3.resource('dynamodb')\n",
    "        \n",
    "        # Wait for the table to be deleted\n",
    "        table = dynamodb_resource.Table(table_name)\n",
    "        table.meta.client.get_waiter('table_not_exists').wait(TableName=table_name)\n",
    "        \n",
    "        print(f\"Table {table_name} has been successfully deleted.\")\n",
    "        return response\n",
    "        \n",
    "    except boto3.exceptions.ClientError as e:\n",
    "        if e.response['Error']['Code'] == 'ResourceNotFoundException':\n",
    "            print(f\"Table {table_name} does not exist.\")\n",
    "        else:\n",
    "            print(f\"Error deleting table: {e}\")\n",
    "        return None"
   ]
  },
  {
   "cell_type": "code",
   "execution_count": null,
   "id": "49dcdb5a",
   "metadata": {},
   "outputs": [],
   "source": [
    "# To delete the table, uncomment the line below and run this cell\n",
    "# delete_dynamodb_table(table_name)"
   ]
  }
 ],
 "metadata": {
  "availableInstances": [
   {
    "_defaultOrder": 0,
    "_isFastLaunch": true,
    "category": "General purpose",
    "gpuNum": 0,
    "hideHardwareSpecs": false,
    "memoryGiB": 4,
    "name": "ml.t3.medium",
    "vcpuNum": 2
   },
   {
    "_defaultOrder": 1,
    "_isFastLaunch": false,
    "category": "General purpose",
    "gpuNum": 0,
    "hideHardwareSpecs": false,
    "memoryGiB": 8,
    "name": "ml.t3.large",
    "vcpuNum": 2
   },
   {
    "_defaultOrder": 2,
    "_isFastLaunch": false,
    "category": "General purpose",
    "gpuNum": 0,
    "hideHardwareSpecs": false,
    "memoryGiB": 16,
    "name": "ml.t3.xlarge",
    "vcpuNum": 4
   },
   {
    "_defaultOrder": 3,
    "_isFastLaunch": false,
    "category": "General purpose",
    "gpuNum": 0,
    "hideHardwareSpecs": false,
    "memoryGiB": 32,
    "name": "ml.t3.2xlarge",
    "vcpuNum": 8
   },
   {
    "_defaultOrder": 4,
    "_isFastLaunch": true,
    "category": "General purpose",
    "gpuNum": 0,
    "hideHardwareSpecs": false,
    "memoryGiB": 8,
    "name": "ml.m5.large",
    "vcpuNum": 2
   },
   {
    "_defaultOrder": 5,
    "_isFastLaunch": false,
    "category": "General purpose",
    "gpuNum": 0,
    "hideHardwareSpecs": false,
    "memoryGiB": 16,
    "name": "ml.m5.xlarge",
    "vcpuNum": 4
   },
   {
    "_defaultOrder": 6,
    "_isFastLaunch": false,
    "category": "General purpose",
    "gpuNum": 0,
    "hideHardwareSpecs": false,
    "memoryGiB": 32,
    "name": "ml.m5.2xlarge",
    "vcpuNum": 8
   },
   {
    "_defaultOrder": 7,
    "_isFastLaunch": false,
    "category": "General purpose",
    "gpuNum": 0,
    "hideHardwareSpecs": false,
    "memoryGiB": 64,
    "name": "ml.m5.4xlarge",
    "vcpuNum": 16
   },
   {
    "_defaultOrder": 8,
    "_isFastLaunch": false,
    "category": "General purpose",
    "gpuNum": 0,
    "hideHardwareSpecs": false,
    "memoryGiB": 128,
    "name": "ml.m5.8xlarge",
    "vcpuNum": 32
   },
   {
    "_defaultOrder": 9,
    "_isFastLaunch": false,
    "category": "General purpose",
    "gpuNum": 0,
    "hideHardwareSpecs": false,
    "memoryGiB": 192,
    "name": "ml.m5.12xlarge",
    "vcpuNum": 48
   },
   {
    "_defaultOrder": 10,
    "_isFastLaunch": false,
    "category": "General purpose",
    "gpuNum": 0,
    "hideHardwareSpecs": false,
    "memoryGiB": 256,
    "name": "ml.m5.16xlarge",
    "vcpuNum": 64
   },
   {
    "_defaultOrder": 11,
    "_isFastLaunch": false,
    "category": "General purpose",
    "gpuNum": 0,
    "hideHardwareSpecs": false,
    "memoryGiB": 384,
    "name": "ml.m5.24xlarge",
    "vcpuNum": 96
   },
   {
    "_defaultOrder": 12,
    "_isFastLaunch": false,
    "category": "General purpose",
    "gpuNum": 0,
    "hideHardwareSpecs": false,
    "memoryGiB": 8,
    "name": "ml.m5d.large",
    "vcpuNum": 2
   },
   {
    "_defaultOrder": 13,
    "_isFastLaunch": false,
    "category": "General purpose",
    "gpuNum": 0,
    "hideHardwareSpecs": false,
    "memoryGiB": 16,
    "name": "ml.m5d.xlarge",
    "vcpuNum": 4
   },
   {
    "_defaultOrder": 14,
    "_isFastLaunch": false,
    "category": "General purpose",
    "gpuNum": 0,
    "hideHardwareSpecs": false,
    "memoryGiB": 32,
    "name": "ml.m5d.2xlarge",
    "vcpuNum": 8
   },
   {
    "_defaultOrder": 15,
    "_isFastLaunch": false,
    "category": "General purpose",
    "gpuNum": 0,
    "hideHardwareSpecs": false,
    "memoryGiB": 64,
    "name": "ml.m5d.4xlarge",
    "vcpuNum": 16
   },
   {
    "_defaultOrder": 16,
    "_isFastLaunch": false,
    "category": "General purpose",
    "gpuNum": 0,
    "hideHardwareSpecs": false,
    "memoryGiB": 128,
    "name": "ml.m5d.8xlarge",
    "vcpuNum": 32
   },
   {
    "_defaultOrder": 17,
    "_isFastLaunch": false,
    "category": "General purpose",
    "gpuNum": 0,
    "hideHardwareSpecs": false,
    "memoryGiB": 192,
    "name": "ml.m5d.12xlarge",
    "vcpuNum": 48
   },
   {
    "_defaultOrder": 18,
    "_isFastLaunch": false,
    "category": "General purpose",
    "gpuNum": 0,
    "hideHardwareSpecs": false,
    "memoryGiB": 256,
    "name": "ml.m5d.16xlarge",
    "vcpuNum": 64
   },
   {
    "_defaultOrder": 19,
    "_isFastLaunch": false,
    "category": "General purpose",
    "gpuNum": 0,
    "hideHardwareSpecs": false,
    "memoryGiB": 384,
    "name": "ml.m5d.24xlarge",
    "vcpuNum": 96
   },
   {
    "_defaultOrder": 20,
    "_isFastLaunch": false,
    "category": "General purpose",
    "gpuNum": 0,
    "hideHardwareSpecs": true,
    "memoryGiB": 0,
    "name": "ml.geospatial.interactive",
    "supportedImageNames": [
     "sagemaker-geospatial-v1-0"
    ],
    "vcpuNum": 0
   },
   {
    "_defaultOrder": 21,
    "_isFastLaunch": true,
    "category": "Compute optimized",
    "gpuNum": 0,
    "hideHardwareSpecs": false,
    "memoryGiB": 4,
    "name": "ml.c5.large",
    "vcpuNum": 2
   },
   {
    "_defaultOrder": 22,
    "_isFastLaunch": false,
    "category": "Compute optimized",
    "gpuNum": 0,
    "hideHardwareSpecs": false,
    "memoryGiB": 8,
    "name": "ml.c5.xlarge",
    "vcpuNum": 4
   },
   {
    "_defaultOrder": 23,
    "_isFastLaunch": false,
    "category": "Compute optimized",
    "gpuNum": 0,
    "hideHardwareSpecs": false,
    "memoryGiB": 16,
    "name": "ml.c5.2xlarge",
    "vcpuNum": 8
   },
   {
    "_defaultOrder": 24,
    "_isFastLaunch": false,
    "category": "Compute optimized",
    "gpuNum": 0,
    "hideHardwareSpecs": false,
    "memoryGiB": 32,
    "name": "ml.c5.4xlarge",
    "vcpuNum": 16
   },
   {
    "_defaultOrder": 25,
    "_isFastLaunch": false,
    "category": "Compute optimized",
    "gpuNum": 0,
    "hideHardwareSpecs": false,
    "memoryGiB": 72,
    "name": "ml.c5.9xlarge",
    "vcpuNum": 36
   },
   {
    "_defaultOrder": 26,
    "_isFastLaunch": false,
    "category": "Compute optimized",
    "gpuNum": 0,
    "hideHardwareSpecs": false,
    "memoryGiB": 96,
    "name": "ml.c5.12xlarge",
    "vcpuNum": 48
   },
   {
    "_defaultOrder": 27,
    "_isFastLaunch": false,
    "category": "Compute optimized",
    "gpuNum": 0,
    "hideHardwareSpecs": false,
    "memoryGiB": 144,
    "name": "ml.c5.18xlarge",
    "vcpuNum": 72
   },
   {
    "_defaultOrder": 28,
    "_isFastLaunch": false,
    "category": "Compute optimized",
    "gpuNum": 0,
    "hideHardwareSpecs": false,
    "memoryGiB": 192,
    "name": "ml.c5.24xlarge",
    "vcpuNum": 96
   },
   {
    "_defaultOrder": 29,
    "_isFastLaunch": true,
    "category": "Accelerated computing",
    "gpuNum": 1,
    "hideHardwareSpecs": false,
    "memoryGiB": 16,
    "name": "ml.g4dn.xlarge",
    "vcpuNum": 4
   },
   {
    "_defaultOrder": 30,
    "_isFastLaunch": false,
    "category": "Accelerated computing",
    "gpuNum": 1,
    "hideHardwareSpecs": false,
    "memoryGiB": 32,
    "name": "ml.g4dn.2xlarge",
    "vcpuNum": 8
   },
   {
    "_defaultOrder": 31,
    "_isFastLaunch": false,
    "category": "Accelerated computing",
    "gpuNum": 1,
    "hideHardwareSpecs": false,
    "memoryGiB": 64,
    "name": "ml.g4dn.4xlarge",
    "vcpuNum": 16
   },
   {
    "_defaultOrder": 32,
    "_isFastLaunch": false,
    "category": "Accelerated computing",
    "gpuNum": 1,
    "hideHardwareSpecs": false,
    "memoryGiB": 128,
    "name": "ml.g4dn.8xlarge",
    "vcpuNum": 32
   },
   {
    "_defaultOrder": 33,
    "_isFastLaunch": false,
    "category": "Accelerated computing",
    "gpuNum": 4,
    "hideHardwareSpecs": false,
    "memoryGiB": 192,
    "name": "ml.g4dn.12xlarge",
    "vcpuNum": 48
   },
   {
    "_defaultOrder": 34,
    "_isFastLaunch": false,
    "category": "Accelerated computing",
    "gpuNum": 1,
    "hideHardwareSpecs": false,
    "memoryGiB": 256,
    "name": "ml.g4dn.16xlarge",
    "vcpuNum": 64
   },
   {
    "_defaultOrder": 35,
    "_isFastLaunch": false,
    "category": "Accelerated computing",
    "gpuNum": 1,
    "hideHardwareSpecs": false,
    "memoryGiB": 61,
    "name": "ml.p3.2xlarge",
    "vcpuNum": 8
   },
   {
    "_defaultOrder": 36,
    "_isFastLaunch": false,
    "category": "Accelerated computing",
    "gpuNum": 4,
    "hideHardwareSpecs": false,
    "memoryGiB": 244,
    "name": "ml.p3.8xlarge",
    "vcpuNum": 32
   },
   {
    "_defaultOrder": 37,
    "_isFastLaunch": false,
    "category": "Accelerated computing",
    "gpuNum": 8,
    "hideHardwareSpecs": false,
    "memoryGiB": 488,
    "name": "ml.p3.16xlarge",
    "vcpuNum": 64
   },
   {
    "_defaultOrder": 38,
    "_isFastLaunch": false,
    "category": "Accelerated computing",
    "gpuNum": 8,
    "hideHardwareSpecs": false,
    "memoryGiB": 768,
    "name": "ml.p3dn.24xlarge",
    "vcpuNum": 96
   },
   {
    "_defaultOrder": 39,
    "_isFastLaunch": false,
    "category": "Memory Optimized",
    "gpuNum": 0,
    "hideHardwareSpecs": false,
    "memoryGiB": 16,
    "name": "ml.r5.large",
    "vcpuNum": 2
   },
   {
    "_defaultOrder": 40,
    "_isFastLaunch": false,
    "category": "Memory Optimized",
    "gpuNum": 0,
    "hideHardwareSpecs": false,
    "memoryGiB": 32,
    "name": "ml.r5.xlarge",
    "vcpuNum": 4
   },
   {
    "_defaultOrder": 41,
    "_isFastLaunch": false,
    "category": "Memory Optimized",
    "gpuNum": 0,
    "hideHardwareSpecs": false,
    "memoryGiB": 64,
    "name": "ml.r5.2xlarge",
    "vcpuNum": 8
   },
   {
    "_defaultOrder": 42,
    "_isFastLaunch": false,
    "category": "Memory Optimized",
    "gpuNum": 0,
    "hideHardwareSpecs": false,
    "memoryGiB": 128,
    "name": "ml.r5.4xlarge",
    "vcpuNum": 16
   },
   {
    "_defaultOrder": 43,
    "_isFastLaunch": false,
    "category": "Memory Optimized",
    "gpuNum": 0,
    "hideHardwareSpecs": false,
    "memoryGiB": 256,
    "name": "ml.r5.8xlarge",
    "vcpuNum": 32
   },
   {
    "_defaultOrder": 44,
    "_isFastLaunch": false,
    "category": "Memory Optimized",
    "gpuNum": 0,
    "hideHardwareSpecs": false,
    "memoryGiB": 384,
    "name": "ml.r5.12xlarge",
    "vcpuNum": 48
   },
   {
    "_defaultOrder": 45,
    "_isFastLaunch": false,
    "category": "Memory Optimized",
    "gpuNum": 0,
    "hideHardwareSpecs": false,
    "memoryGiB": 512,
    "name": "ml.r5.16xlarge",
    "vcpuNum": 64
   },
   {
    "_defaultOrder": 46,
    "_isFastLaunch": false,
    "category": "Memory Optimized",
    "gpuNum": 0,
    "hideHardwareSpecs": false,
    "memoryGiB": 768,
    "name": "ml.r5.24xlarge",
    "vcpuNum": 96
   },
   {
    "_defaultOrder": 47,
    "_isFastLaunch": false,
    "category": "Accelerated computing",
    "gpuNum": 1,
    "hideHardwareSpecs": false,
    "memoryGiB": 16,
    "name": "ml.g5.xlarge",
    "vcpuNum": 4
   },
   {
    "_defaultOrder": 48,
    "_isFastLaunch": false,
    "category": "Accelerated computing",
    "gpuNum": 1,
    "hideHardwareSpecs": false,
    "memoryGiB": 32,
    "name": "ml.g5.2xlarge",
    "vcpuNum": 8
   },
   {
    "_defaultOrder": 49,
    "_isFastLaunch": false,
    "category": "Accelerated computing",
    "gpuNum": 1,
    "hideHardwareSpecs": false,
    "memoryGiB": 64,
    "name": "ml.g5.4xlarge",
    "vcpuNum": 16
   },
   {
    "_defaultOrder": 50,
    "_isFastLaunch": false,
    "category": "Accelerated computing",
    "gpuNum": 1,
    "hideHardwareSpecs": false,
    "memoryGiB": 128,
    "name": "ml.g5.8xlarge",
    "vcpuNum": 32
   },
   {
    "_defaultOrder": 51,
    "_isFastLaunch": false,
    "category": "Accelerated computing",
    "gpuNum": 1,
    "hideHardwareSpecs": false,
    "memoryGiB": 256,
    "name": "ml.g5.16xlarge",
    "vcpuNum": 64
   },
   {
    "_defaultOrder": 52,
    "_isFastLaunch": false,
    "category": "Accelerated computing",
    "gpuNum": 4,
    "hideHardwareSpecs": false,
    "memoryGiB": 192,
    "name": "ml.g5.12xlarge",
    "vcpuNum": 48
   },
   {
    "_defaultOrder": 53,
    "_isFastLaunch": false,
    "category": "Accelerated computing",
    "gpuNum": 4,
    "hideHardwareSpecs": false,
    "memoryGiB": 384,
    "name": "ml.g5.24xlarge",
    "vcpuNum": 96
   },
   {
    "_defaultOrder": 54,
    "_isFastLaunch": false,
    "category": "Accelerated computing",
    "gpuNum": 8,
    "hideHardwareSpecs": false,
    "memoryGiB": 768,
    "name": "ml.g5.48xlarge",
    "vcpuNum": 192
   },
   {
    "_defaultOrder": 55,
    "_isFastLaunch": false,
    "category": "Accelerated computing",
    "gpuNum": 8,
    "hideHardwareSpecs": false,
    "memoryGiB": 1152,
    "name": "ml.p4d.24xlarge",
    "vcpuNum": 96
   },
   {
    "_defaultOrder": 56,
    "_isFastLaunch": false,
    "category": "Accelerated computing",
    "gpuNum": 8,
    "hideHardwareSpecs": false,
    "memoryGiB": 1152,
    "name": "ml.p4de.24xlarge",
    "vcpuNum": 96
   },
   {
    "_defaultOrder": 57,
    "_isFastLaunch": false,
    "category": "Accelerated computing",
    "gpuNum": 0,
    "hideHardwareSpecs": false,
    "memoryGiB": 32,
    "name": "ml.trn1.2xlarge",
    "vcpuNum": 8
   },
   {
    "_defaultOrder": 58,
    "_isFastLaunch": false,
    "category": "Accelerated computing",
    "gpuNum": 0,
    "hideHardwareSpecs": false,
    "memoryGiB": 512,
    "name": "ml.trn1.32xlarge",
    "vcpuNum": 128
   },
   {
    "_defaultOrder": 59,
    "_isFastLaunch": false,
    "category": "Accelerated computing",
    "gpuNum": 0,
    "hideHardwareSpecs": false,
    "memoryGiB": 512,
    "name": "ml.trn1n.32xlarge",
    "vcpuNum": 128
   }
  ],
  "instance_type": "ml.t3.medium",
  "kernelspec": {
   "display_name": "Python 3",
   "language": "python",
   "name": "python3"
  },
  "language_info": {
   "codemirror_mode": {
    "name": "ipython",
    "version": 3
   },
   "file_extension": ".py",
   "mimetype": "text/x-python",
   "name": "python",
   "nbconvert_exporter": "python",
   "pygments_lexer": "ipython3",
   "version": "3.12.3"
  }
 },
 "nbformat": 4,
 "nbformat_minor": 5
}
