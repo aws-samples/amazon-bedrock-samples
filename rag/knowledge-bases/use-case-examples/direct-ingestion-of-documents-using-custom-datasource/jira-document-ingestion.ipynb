{
 "cells": [
  {
   "cell_type": "markdown",
   "metadata": {},
   "source": [
    "# Direct ingestion of JIRA documents using a custom data source and the Document Level API (DLA)\n",
    "\n",
    "With Document Level API (DLA), customers can now efficiently and cost-effectively ingest, update, or delete data directly from Amazon Bedrock Knowledge Bases using a single API call, without the need to perform a full sync with the data source periodically or after every change.\n",
    "\n",
    "To read more about DLA, see the [documentation](https://docs.aws.amazon.com/bedrock/latest/userguide/kb-direct-ingestion-add.html)\n",
    "\n",
    "In this example, we pull JIRA issues via an API then ingest these issues as documents in our knowledge base using DLA."
   ]
  },
  {
   "cell_type": "markdown",
   "metadata": {},
   "source": [
    "## Pre-requisites\n",
    "- You will need to create a knowledge base with a custom data source.  You can do this via the AWS console or follow the instructions in this notebook found in this repo at:   amazon-bedrock-samples/rag/knowledge-bases/features-examples/01-rag-concepts/01_create_ingest_documents_test_kb_multi_ds.ipynb\n",
    "- Please note the knowledge base id and the data source id.\n",
    "- You will need a JIRA account with an API key and some sample data.  Instructions on how to do this are in this [pdf](./JIRA-API-Access.pdf).  Note: It's possible that these instructions may change as they refer to a third party product.\n",
    "\n"
   ]
  },
  {
   "cell_type": "markdown",
   "metadata": {},
   "source": [
    "<div class=\"alert alert-block alert-info\">\n",
    "<b>Note:</b> Please make sure to enable `Anthropic Claude 3 Sonnet` and,  `Titan Text Embeddings V2` model access in Amazon Bedrock Console.\n",
    "<br> -------------------------------------------------------------------------------------------------------------------------------------------------------   </br>\n",
    "    \n",
    "Please run the notebook cell by cell instead of using \"Run All Cells\" option.\n",
    "</div>"
   ]
  },
  {
   "cell_type": "markdown",
   "metadata": {},
   "source": [
    "## Install dependencies"
   ]
  },
  {
   "cell_type": "code",
   "execution_count": null,
   "metadata": {},
   "outputs": [],
   "source": [
    "%pip install --force-reinstall -q -r ../../features-examples/requirements.txt  --quiet\n",
    "%pip install --upgrade boto3\n",
    "%pip install jira\n",
    "%pip install dotenv"
   ]
  },
  {
   "cell_type": "markdown",
   "metadata": {},
   "source": [
    "## Set System Path\n",
    "We are using helper functions from the features-examples folder so we set the system path accordingly to allow for imports."
   ]
  },
  {
   "cell_type": "code",
   "execution_count": null,
   "metadata": {},
   "outputs": [],
   "source": [
    "import sys\n",
    "from pathlib import Path\n",
    "current_path = Path().resolve()\n",
    "# modify path so we can access the utilities functions in the features-examples folder\n",
    "current_path = current_path.parent.parent / 'features-examples'\n",
    "if str(current_path) not in sys.path:\n",
    "    sys.path.append(str(current_path))\n",
    "print(sys.path)\n"
   ]
  },
  {
   "cell_type": "markdown",
   "metadata": {},
   "source": [
    "## Setup the environment\n",
    "<div class=\"alert alert-block alert-info\">\n",
    "Open the file 'example_dot_env' and fill in the appropriate values.<br/>  Rename it to .env so the python interpreter will pick it up.\n",
    "</div>"
   ]
  },
  {
   "cell_type": "code",
   "execution_count": null,
   "metadata": {},
   "outputs": [],
   "source": [
    "from dotenv import load_dotenv\n",
    "import os\n",
    "\n",
    "load_dotenv()\n",
    "\n",
    "jira_server = os.environ.get(\"JIRA_SERVER\")\n",
    "email = os.environ.get(\"JIRA_EMAIL\")\n",
    "api_token = os.environ.get(\"JIRA_API_TOKEN\")\n",
    "kb_id = os.environ.get(\"KNOWLEDGE_BASE_ID\")\n",
    "ds_id = os.environ.get(\"DOCUMENT_STORE_ID\")\n",
    "\n",
    "# if you don't want to use environment variables you can hardcode\n",
    "# the values below and uncomment the code.\n",
    "# jira_server = \"XXXXXXXXXXXXXXXXXXXXXXXXXXXX\"\n",
    "# email = \"XXXXXXXXXXXXXXXXXXXXXXXXXXXX\"\n",
    "# api_token = \"XXXXXXXXXXXXXXXXXXXXXXXXXXXX\"\n",
    "# kb_id = \"XXXXXXXXXXXXXXXXXXXXXXXXXXXX\"\n",
    "# ds_id = \"XXXXXXXXXXXXXXXXXXXXXXXXXXXX\"\n",
    "\n"
   ]
  },
  {
   "cell_type": "markdown",
   "metadata": {},
   "source": [
    "## Setup the JIRA connection\n"
   ]
  },
  {
   "cell_type": "code",
   "execution_count": null,
   "metadata": {},
   "outputs": [],
   "source": [
    "from jira import JIRA\n",
    "\n",
    "print(jira_server)\n",
    "# Create JIRA connection\n",
    "jira = JIRA(\n",
    "    server=jira_server,\n",
    "    basic_auth=(email, api_token)\n",
    ")\n",
    "\n",
    "# retrieve the jira projects\n",
    "projects = jira.projects()\n",
    "\n"
   ]
  },
  {
   "cell_type": "markdown",
   "metadata": {},
   "source": [
    "## Generate document configs for the knowledge base.\n",
    "We loop through each JIRA project and create a 'document config' for each jira issue.  We store the project as metadata for each document.  This allows for filtering when we use the Retrieve API or the Retrieve and Generate API."
   ]
  },
  {
   "cell_type": "code",
   "execution_count": null,
   "metadata": {},
   "outputs": [],
   "source": [
    "from utilities import build_document_config\n",
    "import json\n",
    "\n",
    "documents = []\n",
    "\n",
    "for project in projects:\n",
    "    project_name = project.name\n",
    "    print(f\"Project: {project_name}\")\n",
    "    print(project)\n",
    "    issues = jira.search_issues(f\"project={project}\")\n",
    "    for issue in issues:\n",
    "        document_config = build_document_config(issue.key, issue.fields.description, project_name)\n",
    "        documents.append(document_config)\n",
    "\n",
    "print(f\"Total number of documents: {len(documents)}\")\n"
   ]
  },
  {
   "cell_type": "markdown",
   "metadata": {},
   "source": [
    "## Ingest documents directly to the knowledge base using DLA.\n",
    "Note:  In this example we aren't considering queing or retry logic as we ingest documents.  "
   ]
  },
  {
   "cell_type": "code",
   "execution_count": null,
   "metadata": {},
   "outputs": [],
   "source": [
    "from utils.knowledge_base_operators import ingest_documents_dla\n",
    "# there is a limit of 10 documents per request, so we split the document into chunks.\n",
    "for i in range(0, len(documents), 10):\n",
    "    chunk = documents[i:i + 10]\n",
    "    response = ingest_documents_dla(\n",
    "            knowledge_base_id=kb_id,\n",
    "            data_source_id=ds_id,\n",
    "            documents=chunk \n",
    "        )\n",
    "    print(response)"
   ]
  },
  {
   "cell_type": "markdown",
   "metadata": {},
   "source": [
    "## Check the status of your documents\n",
    "You should see a list of your documents with a status of 'indexed'"
   ]
  },
  {
   "cell_type": "code",
   "execution_count": null,
   "metadata": {},
   "outputs": [],
   "source": [
    "import boto3\n",
    "import pprint\n",
    "\n",
    "bedrock_agent_client = boto3.client('bedrock-agent') \n",
    "# To fetch the status of documents\n",
    "response = bedrock_agent_client.list_knowledge_base_documents(\n",
    "    dataSourceId=ds_id,\n",
    "    knowledgeBaseId=kb_id,\n",
    ")\n",
    "pprint.pprint(response)"
   ]
  },
  {
   "cell_type": "markdown",
   "metadata": {},
   "source": [
    "## Query the knowledge base using the Retrieve API"
   ]
  },
  {
   "cell_type": "code",
   "execution_count": null,
   "metadata": {},
   "outputs": [],
   "source": [
    "query = 'Do I have any security issues?'  # change this query to reflect the content of your jira issues.  \n",
    "region = 'us-east-1'\n",
    "\n",
    "bedrock_agent_runtime_client = boto3.client('bedrock-agent-runtime') \n",
    "\n",
    "response_ret = bedrock_agent_runtime_client.retrieve(\n",
    "    knowledgeBaseId=kb_id, \n",
    "    nextToken='string',\n",
    "    retrievalConfiguration={\n",
    "        \"vectorSearchConfiguration\": {\n",
    "            \"numberOfResults\":5,\n",
    "        } \n",
    "    },\n",
    "    retrievalQuery={\n",
    "        \"text\": query\n",
    "    }\n",
    ")\n",
    "\n",
    "def response_print(retrieve_resp):\n",
    "#structure 'retrievalResults': list of contents. Each list has content, location, score, metadata\n",
    "    for num,chunk in enumerate(response_ret['retrievalResults'],1):\n",
    "        print(f'Chunk {num}: ',chunk['content']['text'],end='\\n'*2)\n",
    "        print(f'Chunk {num} Location: ',chunk['location'],end='\\n'*2)\n",
    "        print(f'Chunk {num} Score: ',chunk['score'],end='\\n'*2)\n",
    "        print(f'Chunk {num} Metadata: ',chunk['metadata'],end='\\n'*2)\n",
    "\n",
    "response_print(response_ret)"
   ]
  },
  {
   "cell_type": "markdown",
   "metadata": {},
   "source": [
    "## Below you can see examples of chunks pulled from the knowledge base using the retrieve API.  \n",
    "\n",
    "Chunk 4:  \"\\nThe \\\"MFA on Root Account\\\" Trusted Advisor check has flagged that multi-factor authentication (MFA) is not enabled on the root user account for our AWS account. This poses a security risk.\\n\\nResources affected:\\n- XXXXXXXXXXXXXXXXXXX  \\n\\nTo resolve this, we need to log in to the root account and activate an MFA device. AWS supports various MFA options like virtual authenticator apps or hardware security keys. Enabling MFA adds an extra layer of security by requiring a one-time code in addition to the root user password when logging in.\\n\"\n",
    "\n",
    "Chunk 4 Location:  {'customDocumentLocation': {'id': 'KAN-67'}, 'type': 'CUSTOM'}\n",
    "\n",
    "Chunk 4 Score:  0.38354945\n",
    "\n",
    "Chunk 4 Metadata:  {'x-amz-bedrock-kb-source-uri': 'KAN-67', 'source': 'Acme Software', 'x-amz-bedrock-kb-chunk-id': '1%3A0%3AfMBwQ5UBv38PVEjahusy', 'x-amz-bedrock-kb-data-source-id': 'MXVGTRJ9JX'}\n",
    "\n",
    "Chunk 5:  \"\\nAffected Resources: AWS::::Account:XXXXXXXXXX\\n\\nEnabling multi-factor authentication (MFA) for the root user account is a recommended security best practice. AWS Trusted Advisor flags this as a red alert if MFA is not enabled on the root account. \\n\\nMFA adds an extra layer of security by requiring a unique authentication code from a hardware or virtual device in addition to the account password when accessing the AWS Management Console and associated websites.\\n\\nTo resolve this:\\n\\n1. Sign in to the AWS Management Console as the root user\\n2. Go to the IAM console\\n3. In the navigation pane, choose Users\\n4. Choose your root user entry\\n5. On the Security Credentials tab, choose Multi-factor authentication (MFA)\\n6. Follow the wizard to assign an MFA device\\n\"\n",
    "\n",
    "Chunk 5 Location:  {'customDocumentLocation': {'id': 'KAN-57'}, 'type': 'CUSTOM'}\n",
    "\n",
    "Chunk 5 Score:  0.38347003\n",
    "\n",
    "Chunk 5 Metadata:  {'x-amz-bedrock-kb-source-uri': 'KAN-57', 'source': 'Acme Software', 'x-amz-bedrock-kb-chunk-id': '1%3A0%3AgsBwQ5UBv38PVEjanOuQ', 'x-amz-bedrock-kb-data-source-id': 'MXVGTRJ9JX'}\n"
   ]
  },
  {
   "cell_type": "markdown",
   "metadata": {},
   "source": [
    "## Query the knowledge base and pass results to the foundation model using the Retrieve and Generate API\n",
    "Here we query the knowledge base for issues involving security.  Notice the use of metadata to filter. The foundation model provides a nicely formatted response. "
   ]
  },
  {
   "cell_type": "code",
   "execution_count": null,
   "metadata": {},
   "outputs": [],
   "source": [
    "\n",
    "\n",
    "query = 'Do I have any security issues?'  # change this query to reflect the content of your jira issues.  \n",
    "region = 'us-east-1'\n",
    "foundation_model = \"anthropic.claude-3-sonnet-20240229-v1:0\"\n",
    "\n",
    "bedrock_agent_runtime_client = boto3.client('bedrock-agent-runtime') \n",
    "\n",
    "result = bedrock_agent_runtime_client.retrieve_and_generate(\n",
    "    input={\n",
    "        \"text\": query\n",
    "    },\n",
    "    retrieveAndGenerateConfiguration={\n",
    "        \"type\": \"KNOWLEDGE_BASE\",\n",
    "        \"knowledgeBaseConfiguration\": {\n",
    "            'knowledgeBaseId': kb_id,\n",
    "            \"modelArn\": \"arn:aws:bedrock:{}::foundation-model/{}\".format(region, foundation_model),\n",
    "            \"retrievalConfiguration\": {\n",
    "                \"vectorSearchConfiguration\": {\n",
    "                    \"numberOfResults\":5,\n",
    "                    \"filter\": {\n",
    "                        \"equals\": {\n",
    "                        \"key\": \"source\",\n",
    "                        \"value\": \"Acme Software\"\n",
    "                        }\n",
    "                    }\n",
    "                } \n",
    "            }\n",
    "\n",
    "        }\n",
    "    }\n",
    ")\n",
    "if result:\n",
    "    print(result['output']['text'],end='\\n'*2)\n",
    "    print(\"------- METADATA -------\")\n",
    "    for citation in result['citations']:\n",
    "        for ref in citation['retrievedReferences']:\n",
    "            metadata = ref['metadata']\n",
    "            print(metadata['x-amz-bedrock-kb-source-uri'], metadata['source'])\n",
    "\n"
   ]
  },
  {
   "cell_type": "markdown",
   "metadata": {},
   "source": [
    "## Example Response\n",
    "\n",
    "Based on the search results, you have security issues related to unrestricted access allowed by some of your security groups in AWS. Specifically, the search results mention that several of your security groups are allowing unrestricted incoming traffic (0.0.0.0/0) on certain ports, which poses a security risk. To resolve these issues, you should review the inbound rules for the affected security groups and restrict access to only trusted IP addresses or security groups for the required ports. Remove any rules allowing unrestricted 0.0.0.0/0 access on ports that should be restricted. Additionally, it is recommended to implement additional security measures like IP tables and regularly audit your security group rules to ensure they align with your security requirements.\n"
   ]
  }
 ],
 "metadata": {
  "kernelspec": {
   "display_name": ".venv",
   "language": "python",
   "name": "python3"
  },
  "language_info": {
   "codemirror_mode": {
    "name": "ipython",
    "version": 3
   },
   "file_extension": ".py",
   "mimetype": "text/x-python",
   "name": "python",
   "nbconvert_exporter": "python",
   "pygments_lexer": "ipython3",
   "version": "3.10.9"
  }
 },
 "nbformat": 4,
 "nbformat_minor": 2
}
